{
 "cells": [
  {
   "cell_type": "markdown",
   "metadata": {},
   "source": [
    "VariantSpark integration with Hail 0.2\n",
    "==============================\n",
    "\n",
    "## Bootstrap\n",
    "\n",
    "Use `vshl.init()` to include `variant-spark` jar on the classpath. "
   ]
  },
  {
   "cell_type": "code",
   "execution_count": 1,
   "metadata": {},
   "outputs": [
    {
     "name": "stderr",
     "output_type": "stream",
     "text": [
      "using variant-spark jar at '/Users/reg032/workspace/VariantSpark/target/variant-spark_2.12-0.5.3-SNAPSHOT-all.jar'\n",
      "23/01/24 10:36:42 WARN NativeCodeLoader: Unable to load native-hadoop library for your platform... using builtin-java classes where applicable\n",
      "Using Spark's default log4j profile: org/apache/spark/log4j-defaults.properties\n",
      "Setting default log level to \"WARN\".\n",
      "To adjust logging level use sc.setLogLevel(newLevel). For SparkR, use setLogLevel(newLevel).\n",
      "23/01/24 10:36:43 WARN Hail: This Hail JAR was compiled for Spark 3.1.1, running with Spark 3.1.2.\n",
      "  Compatibility is not guaranteed.\n",
      "Running on Apache Spark version 3.1.2\n",
      "SparkUI available at http://192.168.86.30:4040\n",
      "Welcome to\n",
      "     __  __     <>__\n",
      "    / /_/ /__  __/ /\n",
      "   / __  / _ `/ / /\n",
      "  /_/ /_/\\_,_/_/_/   version 0.2.74-0c3a74d12093\n",
      "LOGGING: writing to /Users/reg032/workspace/VariantSpark/dev-notebooks/hail-20230124-1036-0.2.74-0c3a74d12093.log\n"
     ]
    }
   ],
   "source": [
    "import hail as hl\n",
    "import varspark.hail as vshl\n",
    "vshl.init()"
   ]
  },
  {
   "cell_type": "code",
   "execution_count": 2,
   "metadata": {},
   "outputs": [
    {
     "data": {
      "text/html": [
       "\n",
       "    <div class=\"bk-root\">\n",
       "        <a href=\"https://bokeh.org\" target=\"_blank\" class=\"bk-logo bk-logo-small bk-logo-notebook\"></a>\n",
       "        <span id=\"1001\">Loading BokehJS ...</span>\n",
       "    </div>"
      ]
     },
     "metadata": {},
     "output_type": "display_data"
    },
    {
     "data": {
      "application/javascript": [
       "\n",
       "(function(root) {\n",
       "  function now() {\n",
       "    return new Date();\n",
       "  }\n",
       "\n",
       "  var force = true;\n",
       "\n",
       "  if (typeof root._bokeh_onload_callbacks === \"undefined\" || force === true) {\n",
       "    root._bokeh_onload_callbacks = [];\n",
       "    root._bokeh_is_loading = undefined;\n",
       "  }\n",
       "\n",
       "  var JS_MIME_TYPE = 'application/javascript';\n",
       "  var HTML_MIME_TYPE = 'text/html';\n",
       "  var EXEC_MIME_TYPE = 'application/vnd.bokehjs_exec.v0+json';\n",
       "  var CLASS_NAME = 'output_bokeh rendered_html';\n",
       "\n",
       "  /**\n",
       "   * Render data to the DOM node\n",
       "   */\n",
       "  function render(props, node) {\n",
       "    var script = document.createElement(\"script\");\n",
       "    node.appendChild(script);\n",
       "  }\n",
       "\n",
       "  /**\n",
       "   * Handle when an output is cleared or removed\n",
       "   */\n",
       "  function handleClearOutput(event, handle) {\n",
       "    var cell = handle.cell;\n",
       "\n",
       "    var id = cell.output_area._bokeh_element_id;\n",
       "    var server_id = cell.output_area._bokeh_server_id;\n",
       "    // Clean up Bokeh references\n",
       "    if (id != null && id in Bokeh.index) {\n",
       "      Bokeh.index[id].model.document.clear();\n",
       "      delete Bokeh.index[id];\n",
       "    }\n",
       "\n",
       "    if (server_id !== undefined) {\n",
       "      // Clean up Bokeh references\n",
       "      var cmd = \"from bokeh.io.state import curstate; print(curstate().uuid_to_server['\" + server_id + \"'].get_sessions()[0].document.roots[0]._id)\";\n",
       "      cell.notebook.kernel.execute(cmd, {\n",
       "        iopub: {\n",
       "          output: function(msg) {\n",
       "            var id = msg.content.text.trim();\n",
       "            if (id in Bokeh.index) {\n",
       "              Bokeh.index[id].model.document.clear();\n",
       "              delete Bokeh.index[id];\n",
       "            }\n",
       "          }\n",
       "        }\n",
       "      });\n",
       "      // Destroy server and session\n",
       "      var cmd = \"import bokeh.io.notebook as ion; ion.destroy_server('\" + server_id + \"')\";\n",
       "      cell.notebook.kernel.execute(cmd);\n",
       "    }\n",
       "  }\n",
       "\n",
       "  /**\n",
       "   * Handle when a new output is added\n",
       "   */\n",
       "  function handleAddOutput(event, handle) {\n",
       "    var output_area = handle.output_area;\n",
       "    var output = handle.output;\n",
       "\n",
       "    // limit handleAddOutput to display_data with EXEC_MIME_TYPE content only\n",
       "    if ((output.output_type != \"display_data\") || (!output.data.hasOwnProperty(EXEC_MIME_TYPE))) {\n",
       "      return\n",
       "    }\n",
       "\n",
       "    var toinsert = output_area.element.find(\".\" + CLASS_NAME.split(' ')[0]);\n",
       "\n",
       "    if (output.metadata[EXEC_MIME_TYPE][\"id\"] !== undefined) {\n",
       "      toinsert[toinsert.length - 1].firstChild.textContent = output.data[JS_MIME_TYPE];\n",
       "      // store reference to embed id on output_area\n",
       "      output_area._bokeh_element_id = output.metadata[EXEC_MIME_TYPE][\"id\"];\n",
       "    }\n",
       "    if (output.metadata[EXEC_MIME_TYPE][\"server_id\"] !== undefined) {\n",
       "      var bk_div = document.createElement(\"div\");\n",
       "      bk_div.innerHTML = output.data[HTML_MIME_TYPE];\n",
       "      var script_attrs = bk_div.children[0].attributes;\n",
       "      for (var i = 0; i < script_attrs.length; i++) {\n",
       "        toinsert[toinsert.length - 1].firstChild.setAttribute(script_attrs[i].name, script_attrs[i].value);\n",
       "      }\n",
       "      // store reference to server id on output_area\n",
       "      output_area._bokeh_server_id = output.metadata[EXEC_MIME_TYPE][\"server_id\"];\n",
       "    }\n",
       "  }\n",
       "\n",
       "  function register_renderer(events, OutputArea) {\n",
       "\n",
       "    function append_mime(data, metadata, element) {\n",
       "      // create a DOM node to render to\n",
       "      var toinsert = this.create_output_subarea(\n",
       "        metadata,\n",
       "        CLASS_NAME,\n",
       "        EXEC_MIME_TYPE\n",
       "      );\n",
       "      this.keyboard_manager.register_events(toinsert);\n",
       "      // Render to node\n",
       "      var props = {data: data, metadata: metadata[EXEC_MIME_TYPE]};\n",
       "      render(props, toinsert[toinsert.length - 1]);\n",
       "      element.append(toinsert);\n",
       "      return toinsert\n",
       "    }\n",
       "\n",
       "    /* Handle when an output is cleared or removed */\n",
       "    events.on('clear_output.CodeCell', handleClearOutput);\n",
       "    events.on('delete.Cell', handleClearOutput);\n",
       "\n",
       "    /* Handle when a new output is added */\n",
       "    events.on('output_added.OutputArea', handleAddOutput);\n",
       "\n",
       "    /**\n",
       "     * Register the mime type and append_mime function with output_area\n",
       "     */\n",
       "    OutputArea.prototype.register_mime_type(EXEC_MIME_TYPE, append_mime, {\n",
       "      /* Is output safe? */\n",
       "      safe: true,\n",
       "      /* Index of renderer in `output_area.display_order` */\n",
       "      index: 0\n",
       "    });\n",
       "  }\n",
       "\n",
       "  // register the mime type if in Jupyter Notebook environment and previously unregistered\n",
       "  if (root.Jupyter !== undefined) {\n",
       "    var events = require('base/js/events');\n",
       "    var OutputArea = require('notebook/js/outputarea').OutputArea;\n",
       "\n",
       "    if (OutputArea.prototype.mime_types().indexOf(EXEC_MIME_TYPE) == -1) {\n",
       "      register_renderer(events, OutputArea);\n",
       "    }\n",
       "  }\n",
       "\n",
       "  \n",
       "  if (typeof (root._bokeh_timeout) === \"undefined\" || force === true) {\n",
       "    root._bokeh_timeout = Date.now() + 5000;\n",
       "    root._bokeh_failed_load = false;\n",
       "  }\n",
       "\n",
       "  var NB_LOAD_WARNING = {'data': {'text/html':\n",
       "     \"<div style='background-color: #fdd'>\\n\"+\n",
       "     \"<p>\\n\"+\n",
       "     \"BokehJS does not appear to have successfully loaded. If loading BokehJS from CDN, this \\n\"+\n",
       "     \"may be due to a slow or bad network connection. Possible fixes:\\n\"+\n",
       "     \"</p>\\n\"+\n",
       "     \"<ul>\\n\"+\n",
       "     \"<li>re-rerun `output_notebook()` to attempt to load from CDN again, or</li>\\n\"+\n",
       "     \"<li>use INLINE resources instead, as so:</li>\\n\"+\n",
       "     \"</ul>\\n\"+\n",
       "     \"<code>\\n\"+\n",
       "     \"from bokeh.resources import INLINE\\n\"+\n",
       "     \"output_notebook(resources=INLINE)\\n\"+\n",
       "     \"</code>\\n\"+\n",
       "     \"</div>\"}};\n",
       "\n",
       "  function display_loaded() {\n",
       "    var el = document.getElementById(\"1001\");\n",
       "    if (el != null) {\n",
       "      el.textContent = \"BokehJS is loading...\";\n",
       "    }\n",
       "    if (root.Bokeh !== undefined) {\n",
       "      if (el != null) {\n",
       "        el.textContent = \"BokehJS \" + root.Bokeh.version + \" successfully loaded.\";\n",
       "      }\n",
       "    } else if (Date.now() < root._bokeh_timeout) {\n",
       "      setTimeout(display_loaded, 100)\n",
       "    }\n",
       "  }\n",
       "\n",
       "\n",
       "  function run_callbacks() {\n",
       "    try {\n",
       "      root._bokeh_onload_callbacks.forEach(function(callback) {\n",
       "        if (callback != null)\n",
       "          callback();\n",
       "      });\n",
       "    } finally {\n",
       "      delete root._bokeh_onload_callbacks\n",
       "    }\n",
       "    console.debug(\"Bokeh: all callbacks have finished\");\n",
       "  }\n",
       "\n",
       "  function load_libs(css_urls, js_urls, callback) {\n",
       "    if (css_urls == null) css_urls = [];\n",
       "    if (js_urls == null) js_urls = [];\n",
       "\n",
       "    root._bokeh_onload_callbacks.push(callback);\n",
       "    if (root._bokeh_is_loading > 0) {\n",
       "      console.debug(\"Bokeh: BokehJS is being loaded, scheduling callback at\", now());\n",
       "      return null;\n",
       "    }\n",
       "    if (js_urls == null || js_urls.length === 0) {\n",
       "      run_callbacks();\n",
       "      return null;\n",
       "    }\n",
       "    console.debug(\"Bokeh: BokehJS not loaded, scheduling load and callback at\", now());\n",
       "    root._bokeh_is_loading = css_urls.length + js_urls.length;\n",
       "\n",
       "    function on_load() {\n",
       "      root._bokeh_is_loading--;\n",
       "      if (root._bokeh_is_loading === 0) {\n",
       "        console.debug(\"Bokeh: all BokehJS libraries/stylesheets loaded\");\n",
       "        run_callbacks()\n",
       "      }\n",
       "    }\n",
       "\n",
       "    function on_error() {\n",
       "      console.error(\"failed to load \" + url);\n",
       "    }\n",
       "\n",
       "    for (var i = 0; i < css_urls.length; i++) {\n",
       "      var url = css_urls[i];\n",
       "      const element = document.createElement(\"link\");\n",
       "      element.onload = on_load;\n",
       "      element.onerror = on_error;\n",
       "      element.rel = \"stylesheet\";\n",
       "      element.type = \"text/css\";\n",
       "      element.href = url;\n",
       "      console.debug(\"Bokeh: injecting link tag for BokehJS stylesheet: \", url);\n",
       "      document.body.appendChild(element);\n",
       "    }\n",
       "\n",
       "    for (var i = 0; i < js_urls.length; i++) {\n",
       "      var url = js_urls[i];\n",
       "      var element = document.createElement('script');\n",
       "      element.onload = on_load;\n",
       "      element.onerror = on_error;\n",
       "      element.async = false;\n",
       "      element.src = url;\n",
       "      console.debug(\"Bokeh: injecting script tag for BokehJS library: \", url);\n",
       "      document.head.appendChild(element);\n",
       "    }\n",
       "  };var element = document.getElementById(\"1001\");\n",
       "  if (element == null) {\n",
       "    console.error(\"Bokeh: ERROR: autoload.js configured with elementid '1001' but no matching script tag was found. \")\n",
       "    return false;\n",
       "  }\n",
       "\n",
       "  function inject_raw_css(css) {\n",
       "    const element = document.createElement(\"style\");\n",
       "    element.appendChild(document.createTextNode(css));\n",
       "    document.body.appendChild(element);\n",
       "  }\n",
       "\n",
       "  \n",
       "  var js_urls = [\"https://cdn.pydata.org/bokeh/release/bokeh-1.4.0.min.js\", \"https://cdn.pydata.org/bokeh/release/bokeh-widgets-1.4.0.min.js\", \"https://cdn.pydata.org/bokeh/release/bokeh-tables-1.4.0.min.js\", \"https://cdn.pydata.org/bokeh/release/bokeh-gl-1.4.0.min.js\"];\n",
       "  var css_urls = [];\n",
       "  \n",
       "\n",
       "  var inline_js = [\n",
       "    function(Bokeh) {\n",
       "      Bokeh.set_log_level(\"info\");\n",
       "    },\n",
       "    function(Bokeh) {\n",
       "    \n",
       "    \n",
       "    }\n",
       "  ];\n",
       "\n",
       "  function run_inline_js() {\n",
       "    \n",
       "    if (root.Bokeh !== undefined || force === true) {\n",
       "      \n",
       "    for (var i = 0; i < inline_js.length; i++) {\n",
       "      inline_js[i].call(root, root.Bokeh);\n",
       "    }\n",
       "    if (force === true) {\n",
       "        display_loaded();\n",
       "      }} else if (Date.now() < root._bokeh_timeout) {\n",
       "      setTimeout(run_inline_js, 100);\n",
       "    } else if (!root._bokeh_failed_load) {\n",
       "      console.log(\"Bokeh: BokehJS failed to load within specified timeout.\");\n",
       "      root._bokeh_failed_load = true;\n",
       "    } else if (force !== true) {\n",
       "      var cell = $(document.getElementById(\"1001\")).parents('.cell').data().cell;\n",
       "      cell.output_area.append_execute_result(NB_LOAD_WARNING)\n",
       "    }\n",
       "\n",
       "  }\n",
       "\n",
       "  if (root._bokeh_is_loading === 0) {\n",
       "    console.debug(\"Bokeh: BokehJS loaded, going straight to plotting\");\n",
       "    run_inline_js();\n",
       "  } else {\n",
       "    load_libs(css_urls, js_urls, function() {\n",
       "      console.debug(\"Bokeh: BokehJS plotting callback run at\", now());\n",
       "      run_inline_js();\n",
       "    });\n",
       "  }\n",
       "}(window));"
      ],
      "application/vnd.bokehjs_load.v0+json": "\n(function(root) {\n  function now() {\n    return new Date();\n  }\n\n  var force = true;\n\n  if (typeof root._bokeh_onload_callbacks === \"undefined\" || force === true) {\n    root._bokeh_onload_callbacks = [];\n    root._bokeh_is_loading = undefined;\n  }\n\n  \n\n  \n  if (typeof (root._bokeh_timeout) === \"undefined\" || force === true) {\n    root._bokeh_timeout = Date.now() + 5000;\n    root._bokeh_failed_load = false;\n  }\n\n  var NB_LOAD_WARNING = {'data': {'text/html':\n     \"<div style='background-color: #fdd'>\\n\"+\n     \"<p>\\n\"+\n     \"BokehJS does not appear to have successfully loaded. If loading BokehJS from CDN, this \\n\"+\n     \"may be due to a slow or bad network connection. Possible fixes:\\n\"+\n     \"</p>\\n\"+\n     \"<ul>\\n\"+\n     \"<li>re-rerun `output_notebook()` to attempt to load from CDN again, or</li>\\n\"+\n     \"<li>use INLINE resources instead, as so:</li>\\n\"+\n     \"</ul>\\n\"+\n     \"<code>\\n\"+\n     \"from bokeh.resources import INLINE\\n\"+\n     \"output_notebook(resources=INLINE)\\n\"+\n     \"</code>\\n\"+\n     \"</div>\"}};\n\n  function display_loaded() {\n    var el = document.getElementById(\"1001\");\n    if (el != null) {\n      el.textContent = \"BokehJS is loading...\";\n    }\n    if (root.Bokeh !== undefined) {\n      if (el != null) {\n        el.textContent = \"BokehJS \" + root.Bokeh.version + \" successfully loaded.\";\n      }\n    } else if (Date.now() < root._bokeh_timeout) {\n      setTimeout(display_loaded, 100)\n    }\n  }\n\n\n  function run_callbacks() {\n    try {\n      root._bokeh_onload_callbacks.forEach(function(callback) {\n        if (callback != null)\n          callback();\n      });\n    } finally {\n      delete root._bokeh_onload_callbacks\n    }\n    console.debug(\"Bokeh: all callbacks have finished\");\n  }\n\n  function load_libs(css_urls, js_urls, callback) {\n    if (css_urls == null) css_urls = [];\n    if (js_urls == null) js_urls = [];\n\n    root._bokeh_onload_callbacks.push(callback);\n    if (root._bokeh_is_loading > 0) {\n      console.debug(\"Bokeh: BokehJS is being loaded, scheduling callback at\", now());\n      return null;\n    }\n    if (js_urls == null || js_urls.length === 0) {\n      run_callbacks();\n      return null;\n    }\n    console.debug(\"Bokeh: BokehJS not loaded, scheduling load and callback at\", now());\n    root._bokeh_is_loading = css_urls.length + js_urls.length;\n\n    function on_load() {\n      root._bokeh_is_loading--;\n      if (root._bokeh_is_loading === 0) {\n        console.debug(\"Bokeh: all BokehJS libraries/stylesheets loaded\");\n        run_callbacks()\n      }\n    }\n\n    function on_error() {\n      console.error(\"failed to load \" + url);\n    }\n\n    for (var i = 0; i < css_urls.length; i++) {\n      var url = css_urls[i];\n      const element = document.createElement(\"link\");\n      element.onload = on_load;\n      element.onerror = on_error;\n      element.rel = \"stylesheet\";\n      element.type = \"text/css\";\n      element.href = url;\n      console.debug(\"Bokeh: injecting link tag for BokehJS stylesheet: \", url);\n      document.body.appendChild(element);\n    }\n\n    for (var i = 0; i < js_urls.length; i++) {\n      var url = js_urls[i];\n      var element = document.createElement('script');\n      element.onload = on_load;\n      element.onerror = on_error;\n      element.async = false;\n      element.src = url;\n      console.debug(\"Bokeh: injecting script tag for BokehJS library: \", url);\n      document.head.appendChild(element);\n    }\n  };var element = document.getElementById(\"1001\");\n  if (element == null) {\n    console.error(\"Bokeh: ERROR: autoload.js configured with elementid '1001' but no matching script tag was found. \")\n    return false;\n  }\n\n  function inject_raw_css(css) {\n    const element = document.createElement(\"style\");\n    element.appendChild(document.createTextNode(css));\n    document.body.appendChild(element);\n  }\n\n  \n  var js_urls = [\"https://cdn.pydata.org/bokeh/release/bokeh-1.4.0.min.js\", \"https://cdn.pydata.org/bokeh/release/bokeh-widgets-1.4.0.min.js\", \"https://cdn.pydata.org/bokeh/release/bokeh-tables-1.4.0.min.js\", \"https://cdn.pydata.org/bokeh/release/bokeh-gl-1.4.0.min.js\"];\n  var css_urls = [];\n  \n\n  var inline_js = [\n    function(Bokeh) {\n      Bokeh.set_log_level(\"info\");\n    },\n    function(Bokeh) {\n    \n    \n    }\n  ];\n\n  function run_inline_js() {\n    \n    if (root.Bokeh !== undefined || force === true) {\n      \n    for (var i = 0; i < inline_js.length; i++) {\n      inline_js[i].call(root, root.Bokeh);\n    }\n    if (force === true) {\n        display_loaded();\n      }} else if (Date.now() < root._bokeh_timeout) {\n      setTimeout(run_inline_js, 100);\n    } else if (!root._bokeh_failed_load) {\n      console.log(\"Bokeh: BokehJS failed to load within specified timeout.\");\n      root._bokeh_failed_load = true;\n    } else if (force !== true) {\n      var cell = $(document.getElementById(\"1001\")).parents('.cell').data().cell;\n      cell.output_area.append_execute_result(NB_LOAD_WARNING)\n    }\n\n  }\n\n  if (root._bokeh_is_loading === 0) {\n    console.debug(\"Bokeh: BokehJS loaded, going straight to plotting\");\n    run_inline_js();\n  } else {\n    load_libs(css_urls, js_urls, function() {\n      console.debug(\"Bokeh: BokehJS plotting callback run at\", now());\n      run_inline_js();\n    });\n  }\n}(window));"
     },
     "metadata": {},
     "output_type": "display_data"
    }
   ],
   "source": [
    "from hail.plot import show\n",
    "from pprint import pprint\n",
    "hl.plot.output_notebook()"
   ]
  },
  {
   "cell_type": "markdown",
   "metadata": {},
   "source": [
    "# Load and explore hipster data"
   ]
  },
  {
   "cell_type": "code",
   "execution_count": 3,
   "metadata": {},
   "outputs": [],
   "source": [
    "data = hl.import_vcf('../data/hipsterIndex/hipster.vcf.bgz')"
   ]
  },
  {
   "cell_type": "code",
   "execution_count": 4,
   "metadata": {},
   "outputs": [
    {
     "name": "stderr",
     "output_type": "stream",
     "text": [
      "2023-01-24 10:36:49 Hail: INFO: Reading table without type imputation\n",
      "  Loading field 'samples' as type str (not specified)\n",
      "  Loading field 'score' as type float64 (user-supplied)\n",
      "  Loading field 'label' as type float64 (user-supplied)\n",
      "  Loading field 'age' as type float64 (user-supplied)\n",
      "  Loading field 'PC0' as type float64 (user-supplied)\n",
      "  Loading field 'PC1' as type float64 (user-supplied)\n",
      "  Loading field 'PC2' as type float64 (user-supplied)\n"
     ]
    }
   ],
   "source": [
    "labels = hl.import_table('../data/hipsterIndex/hipster_labels_covariates.txt', delimiter=',', \n",
    "                types=dict(label='float64', score='float64', age='float64', PC0='float64', PC1='float64', PC2='float64')).key_by('samples')"
   ]
  },
  {
   "cell_type": "code",
   "execution_count": 5,
   "metadata": {},
   "outputs": [
    {
     "name": "stdout",
     "output_type": "stream",
     "text": [
      "----------------------------------------\n",
      "Global fields:\n",
      "    None\n",
      "----------------------------------------\n",
      "Column fields:\n",
      "    's': str\n",
      "    'hipster': struct {\n",
      "        score: float64, \n",
      "        label: float64, \n",
      "        age: float64, \n",
      "        PC0: float64, \n",
      "        PC1: float64, \n",
      "        PC2: float64\n",
      "    }\n",
      "----------------------------------------\n",
      "Row fields:\n",
      "    'locus': locus<GRCh37>\n",
      "    'alleles': array<str>\n",
      "    'rsid': str\n",
      "    'qual': float64\n",
      "    'filters': set<str>\n",
      "    'info': struct {\n",
      "        AA: str, \n",
      "        AC: array<int32>, \n",
      "        AF: array<float64>, \n",
      "        AFR_AF: array<float64>, \n",
      "        AMR_AF: array<float64>, \n",
      "        AN: int32, \n",
      "        CIEND: array<int32>, \n",
      "        CIPOS: array<int32>, \n",
      "        CS: str, \n",
      "        DP: int32, \n",
      "        EAS_AF: array<float64>, \n",
      "        END: int32, \n",
      "        EUR_AF: array<float64>, \n",
      "        EX_TARGET: bool, \n",
      "        IMPRECISE: bool, \n",
      "        MC: array<str>, \n",
      "        MEINFO: array<str>, \n",
      "        MEND: int32, \n",
      "        MLEN: int32, \n",
      "        MSTART: int32, \n",
      "        MULTI_ALLELIC: bool, \n",
      "        NS: int32, \n",
      "        SAS_AF: array<float64>, \n",
      "        SVLEN: array<int32>, \n",
      "        SVTYPE: str, \n",
      "        TSD: str, \n",
      "        VT: array<str>\n",
      "    }\n",
      "----------------------------------------\n",
      "Entry fields:\n",
      "    'GT': call\n",
      "----------------------------------------\n",
      "Column key: ['s']\n",
      "Row key: ['locus', 'alleles']\n",
      "----------------------------------------\n"
     ]
    }
   ],
   "source": [
    "mt = data.annotate_cols(hipster = labels[data.s])\n",
    "mt.describe()"
   ]
  },
  {
   "cell_type": "code",
   "execution_count": 6,
   "metadata": {},
   "outputs": [
    {
     "name": "stderr",
     "output_type": "stream",
     "text": [
      "2023-01-24 10:36:52 Hail: INFO: Coerced almost-sorted dataset       (0 + 1) / 1]\n",
      "[Stage 1:>                                                          (0 + 1) / 1]\r"
     ]
    },
    {
     "data": {
      "text/plain": [
       "(17010, 2504)"
      ]
     },
     "execution_count": 6,
     "metadata": {},
     "output_type": "execute_result"
    }
   ],
   "source": [
    "mt.count()"
   ]
  },
  {
   "cell_type": "markdown",
   "metadata": {},
   "source": [
    "## Run log regression using Hail"
   ]
  },
  {
   "cell_type": "code",
   "execution_count": 7,
   "metadata": {},
   "outputs": [
    {
     "name": "stderr",
     "output_type": "stream",
     "text": [
      "2023-01-24 10:36:56 Hail: INFO: Coerced almost-sorted dataset\n",
      "2023-01-24 10:36:58 Hail: INFO: logistic_regression_rows: running score on 2504 samples for response variable y,\n",
      "    with input variable x, and 5 additional covariates...\n"
     ]
    }
   ],
   "source": [
    "gwas = hl.logistic_regression_rows(test='score',\n",
    "                                y=mt.hipster.label,\n",
    "                                 x=mt.GT.n_alt_alleles(),\n",
    "                                 covariates=[1.0, mt.hipster.age, mt.hipster.PC0, mt.hipster.PC1, mt.hipster.PC2],\n",
    "                                 pass_through=[mt.rsid])"
   ]
  },
  {
   "cell_type": "code",
   "execution_count": 8,
   "metadata": {},
   "outputs": [
    {
     "name": "stderr",
     "output_type": "stream",
     "text": [
      "\r",
      "[Stage 4:>                                                          (0 + 1) / 1]\r"
     ]
    },
    {
     "data": {
      "text/html": [
       "<table><thead><tr><td style=\"white-space: nowrap; max-width: 500px; overflow: hidden; text-overflow: ellipsis; \" colspan=\"1\"><div style=\"text-align: left;\"></div></td><td style=\"white-space: nowrap; max-width: 500px; overflow: hidden; text-overflow: ellipsis; \" colspan=\"1\"><div style=\"text-align: left;\"></div></td><td style=\"white-space: nowrap; max-width: 500px; overflow: hidden; text-overflow: ellipsis; \" colspan=\"1\"><div style=\"text-align: left;\"></div></td><td style=\"white-space: nowrap; max-width: 500px; overflow: hidden; text-overflow: ellipsis; \" colspan=\"1\"><div style=\"text-align: left;\"></div></td><td style=\"white-space: nowrap; max-width: 500px; overflow: hidden; text-overflow: ellipsis; \" colspan=\"1\"><div style=\"text-align: left;\"></div></td></tr><tr><td style=\"white-space: nowrap; max-width: 500px; overflow: hidden; text-overflow: ellipsis; \" colspan=\"1\"><div style=\"text-align: left;border-bottom: solid 2px #000; padding-bottom: 5px\">locus</div></td><td style=\"white-space: nowrap; max-width: 500px; overflow: hidden; text-overflow: ellipsis; \" colspan=\"1\"><div style=\"text-align: left;border-bottom: solid 2px #000; padding-bottom: 5px\">alleles</div></td><td style=\"white-space: nowrap; max-width: 500px; overflow: hidden; text-overflow: ellipsis; \" colspan=\"1\"><div style=\"text-align: left;border-bottom: solid 2px #000; padding-bottom: 5px\">rsid</div></td><td style=\"white-space: nowrap; max-width: 500px; overflow: hidden; text-overflow: ellipsis; \" colspan=\"1\"><div style=\"text-align: left;border-bottom: solid 2px #000; padding-bottom: 5px\">chi_sq_stat</div></td><td style=\"white-space: nowrap; max-width: 500px; overflow: hidden; text-overflow: ellipsis; \" colspan=\"1\"><div style=\"text-align: left;border-bottom: solid 2px #000; padding-bottom: 5px\">p_value</div></td></tr><tr><td style=\"white-space: nowrap; max-width: 500px; overflow: hidden; text-overflow: ellipsis; text-align: left;\">locus&lt;GRCh37&gt;</td><td style=\"white-space: nowrap; max-width: 500px; overflow: hidden; text-overflow: ellipsis; text-align: left;\">array&lt;str&gt;</td><td style=\"white-space: nowrap; max-width: 500px; overflow: hidden; text-overflow: ellipsis; text-align: left;\">str</td><td style=\"white-space: nowrap; max-width: 500px; overflow: hidden; text-overflow: ellipsis; text-align: left;\">float64</td><td style=\"white-space: nowrap; max-width: 500px; overflow: hidden; text-overflow: ellipsis; text-align: left;\">float64</td></tr>\n",
       "</thead><tbody><tr><td style=\"white-space: nowrap; max-width: 500px; overflow: hidden; text-overflow: ellipsis; \">2:109511398</td><td style=\"white-space: nowrap; max-width: 500px; overflow: hidden; text-overflow: ellipsis; \">[&quot;G&quot;,&quot;A&quot;]</td><td style=\"white-space: nowrap; max-width: 500px; overflow: hidden; text-overflow: ellipsis; \">&quot;rs150055772&quot;</td><td style=\"white-space: nowrap; max-width: 500px; overflow: hidden; text-overflow: ellipsis; \">2.45e-01</td><td style=\"white-space: nowrap; max-width: 500px; overflow: hidden; text-overflow: ellipsis; \">6.21e-01</td></tr>\n",
       "<tr><td style=\"white-space: nowrap; max-width: 500px; overflow: hidden; text-overflow: ellipsis; \">2:109511454</td><td style=\"white-space: nowrap; max-width: 500px; overflow: hidden; text-overflow: ellipsis; \">[&quot;C&quot;,&quot;A&quot;]</td><td style=\"white-space: nowrap; max-width: 500px; overflow: hidden; text-overflow: ellipsis; \">&quot;rs558429529&quot;</td><td style=\"white-space: nowrap; max-width: 500px; overflow: hidden; text-overflow: ellipsis; \">1.58e+00</td><td style=\"white-space: nowrap; max-width: 500px; overflow: hidden; text-overflow: ellipsis; \">2.08e-01</td></tr>\n",
       "<tr><td style=\"white-space: nowrap; max-width: 500px; overflow: hidden; text-overflow: ellipsis; \">2:109511463</td><td style=\"white-space: nowrap; max-width: 500px; overflow: hidden; text-overflow: ellipsis; \">[&quot;G&quot;,&quot;A&quot;]</td><td style=\"white-space: nowrap; max-width: 500px; overflow: hidden; text-overflow: ellipsis; \">&quot;rs200762071&quot;</td><td style=\"white-space: nowrap; max-width: 500px; overflow: hidden; text-overflow: ellipsis; \">3.39e+00</td><td style=\"white-space: nowrap; max-width: 500px; overflow: hidden; text-overflow: ellipsis; \">6.54e-02</td></tr>\n",
       "</tbody></table><p style=\"background: #fdd; padding: 0.4em;\">showing top 3 rows</p>\n"
      ],
      "text/plain": [
       "+---------------+------------+---------------+-------------+----------+\n",
       "| locus         | alleles    | rsid          | chi_sq_stat |  p_value |\n",
       "+---------------+------------+---------------+-------------+----------+\n",
       "| locus<GRCh37> | array<str> | str           |     float64 |  float64 |\n",
       "+---------------+------------+---------------+-------------+----------+\n",
       "| 2:109511398   | [\"G\",\"A\"]  | \"rs150055772\" |    2.45e-01 | 6.21e-01 |\n",
       "| 2:109511454   | [\"C\",\"A\"]  | \"rs558429529\" |    1.58e+00 | 2.08e-01 |\n",
       "| 2:109511463   | [\"G\",\"A\"]  | \"rs200762071\" |    3.39e+00 | 6.54e-02 |\n",
       "+---------------+------------+---------------+-------------+----------+\n",
       "showing top 3 rows"
      ]
     },
     "metadata": {},
     "output_type": "display_data"
    }
   ],
   "source": [
    "gwas.show(3)"
   ]
  },
  {
   "cell_type": "code",
   "execution_count": 9,
   "metadata": {},
   "outputs": [
    {
     "data": {
      "text/html": [
       "\n",
       "\n",
       "\n",
       "\n",
       "\n",
       "\n",
       "  <div class=\"bk-root\" id=\"bff7ed2c-a225-4e4d-83de-1b8dedb75e2c\" data-root-id=\"1003\"></div>\n"
      ]
     },
     "metadata": {},
     "output_type": "display_data"
    },
    {
     "data": {
      "application/javascript": [
       "(function(root) {\n",
       "  function embed_document(root) {\n",
       "    \n",
       "  var docs_json = {\"1e5fd8a0-a26b-471d-8741-0b96d9e3789d\":{\"roots\":{\"references\":[{\"attributes\":{\"below\":[{\"id\":\"1013\",\"type\":\"LinearAxis\"}],\"center\":[{\"id\":\"1017\",\"type\":\"Grid\"},{\"id\":\"1022\",\"type\":\"Grid\"}],\"left\":[{\"id\":\"1018\",\"type\":\"LinearAxis\"},{\"id\":\"1074\",\"type\":\"Legend\"},{\"id\":\"1075\",\"type\":\"ColorBar\"}],\"plot_width\":1000,\"renderers\":[{\"id\":\"1044\",\"type\":\"GlyphRenderer\"},{\"id\":\"1050\",\"type\":\"GlyphRenderer\"},{\"id\":\"1056\",\"type\":\"GlyphRenderer\"},{\"id\":\"1062\",\"type\":\"GlyphRenderer\"},{\"id\":\"1068\",\"type\":\"GlyphRenderer\"},{\"id\":\"1096\",\"type\":\"Span\"}],\"title\":null,\"toolbar\":{\"id\":\"1029\",\"type\":\"Toolbar\"},\"x_range\":{\"id\":\"1005\",\"type\":\"DataRange1d\"},\"x_scale\":{\"id\":\"1009\",\"type\":\"LinearScale\"},\"y_range\":{\"id\":\"1007\",\"type\":\"DataRange1d\"},\"y_scale\":{\"id\":\"1011\",\"type\":\"LinearScale\"}},\"id\":\"1003\",\"subtype\":\"Figure\",\"type\":\"Plot\"},{\"attributes\":{\"dimension\":1,\"ticker\":{\"id\":\"1019\",\"type\":\"BasicTicker\"}},\"id\":\"1022\",\"type\":\"Grid\"},{\"attributes\":{\"fill_alpha\":{\"value\":0.1},\"fill_color\":{\"value\":\"#1f77b4\"},\"line_alpha\":{\"value\":0.1},\"line_color\":{\"value\":\"#1f77b4\"},\"x\":{\"field\":\"_global_locus\"},\"y\":{\"field\":\"_pval\"}},\"id\":\"1067\",\"type\":\"Circle\"},{\"attributes\":{},\"id\":\"1009\",\"type\":\"LinearScale\"},{\"attributes\":{\"data_source\":{\"id\":\"1038\",\"type\":\"ColumnDataSource\"},\"glyph\":{\"id\":\"1060\",\"type\":\"Circle\"},\"hover_glyph\":null,\"muted_glyph\":null,\"nonselection_glyph\":{\"id\":\"1061\",\"type\":\"Circle\"},\"selection_glyph\":null,\"view\":{\"id\":\"1058\",\"type\":\"CDSView\"}},\"id\":\"1062\",\"type\":\"GlyphRenderer\"},{\"attributes\":{},\"id\":\"1011\",\"type\":\"LinearScale\"},{\"attributes\":{},\"id\":\"1080\",\"type\":\"BasicTickFormatter\"},{\"attributes\":{\"color_mapper\":null,\"formatter\":{\"id\":\"1082\",\"type\":\"BasicTickFormatter\"},\"ticker\":{\"id\":\"1081\",\"type\":\"BasicTicker\"},\"visible\":false},\"id\":\"1075\",\"type\":\"ColorBar\"},{\"attributes\":{\"axis_label\":\"Chromosome\",\"formatter\":{\"id\":\"1083\",\"type\":\"BasicTickFormatter\"},\"major_label_overrides\":{\"1313226358\":\"7\",\"2358551415\":\"15\",\"370850307\":\"2\",\"786049562\":\"4\",\"972084330\":\"5\"},\"ticker\":{\"id\":\"1076\",\"type\":\"FixedTicker\"}},\"id\":\"1013\",\"type\":\"LinearAxis\"},{\"attributes\":{},\"id\":\"1019\",\"type\":\"BasicTicker\"},{\"attributes\":{\"fill_color\":{\"field\":\"_contig\",\"transform\":{\"id\":\"1002\",\"type\":\"CategoricalColorMapper\"}},\"line_color\":{\"field\":\"_contig\",\"transform\":{\"id\":\"1002\",\"type\":\"CategoricalColorMapper\"}},\"x\":{\"field\":\"_global_locus\"},\"y\":{\"field\":\"_pval\"}},\"id\":\"1060\",\"type\":\"Circle\"},{\"attributes\":{},\"id\":\"1014\",\"type\":\"BasicTicker\"},{\"attributes\":{\"filters\":[{\"id\":\"1057\",\"type\":\"GroupFilter\"}],\"source\":{\"id\":\"1038\",\"type\":\"ColumnDataSource\"}},\"id\":\"1058\",\"type\":\"CDSView\"},{\"attributes\":{\"ticker\":{\"id\":\"1014\",\"type\":\"BasicTicker\"}},\"id\":\"1017\",\"type\":\"Grid\"},{\"attributes\":{\"column_name\":\"_contig\",\"group\":\"7\"},\"id\":\"1063\",\"type\":\"GroupFilter\"},{\"attributes\":{\"axis_label\":\"P-value (-log10 scale)\",\"formatter\":{\"id\":\"1080\",\"type\":\"BasicTickFormatter\"},\"ticker\":{\"id\":\"1019\",\"type\":\"BasicTicker\"}},\"id\":\"1018\",\"type\":\"LinearAxis\"},{\"attributes\":{\"callback\":null,\"data\":{\"_contig\":[\"2\",\"2\",\"2\",\"2\",\"2\",\"2\",\"2\",\"2\",\"2\",\"2\",\"2\",\"2\",\"2\",\"2\",\"2\",\"2\",\"2\",\"2\",\"2\",\"2\",\"2\",\"2\",\"2\",\"2\",\"2\",\"2\",\"2\",\"2\",\"2\",\"2\",\"2\",\"2\",\"2\",\"2\",\"2\",\"2\",\"2\",\"4\",\"4\",\"4\",\"4\",\"4\",\"4\",\"4\",\"4\",\"4\",\"4\",\"4\",\"4\",\"4\",\"4\",\"4\",\"4\",\"4\",\"5\",\"5\",\"5\",\"5\",\"5\",\"5\",\"5\",\"5\",\"5\",\"5\",\"5\",\"5\",\"5\",\"5\",\"5\",\"5\",\"5\",\"5\",\"5\",\"5\",\"5\",\"5\",\"5\",\"5\",\"5\",\"5\",\"5\",\"5\",\"5\",\"5\",\"5\",\"5\",\"5\",\"5\",\"5\",\"5\",\"5\",\"5\",\"5\",\"5\",\"5\",\"5\",\"5\",\"5\",\"5\",\"5\",\"5\",\"5\",\"5\",\"5\",\"5\",\"5\",\"5\",\"5\",\"5\",\"5\",\"5\",\"5\",\"5\",\"5\",\"5\",\"5\",\"5\",\"5\",\"5\",\"5\",\"5\",\"5\",\"5\",\"5\",\"5\",\"5\",\"5\",\"5\",\"5\",\"5\",\"5\",\"5\",\"5\",\"5\",\"5\",\"5\",\"5\",\"5\",\"5\",\"5\",\"5\",\"5\",\"5\",\"5\",\"5\",\"5\",\"5\",\"5\",\"5\",\"5\",\"5\",\"5\",\"5\",\"5\",\"5\",\"5\",\"5\",\"5\",\"5\",\"5\",\"5\",\"5\",\"5\",\"5\",\"5\",\"5\",\"5\",\"5\",\"5\",\"5\",\"5\",\"5\",\"5\",\"5\",\"5\",\"5\",\"5\",\"5\",\"5\",\"5\",\"5\",\"5\",\"5\",\"5\",\"5\",\"5\",\"5\",\"5\",\"5\",\"5\",\"5\",\"5\",\"7\",\"7\",\"7\",\"7\",\"7\",\"7\",\"7\",\"7\",\"7\",\"7\",\"7\",\"7\",\"7\",\"7\",\"7\",\"7\",\"7\",\"7\",\"7\",\"7\",\"7\",\"7\",\"7\",\"7\",\"7\",\"7\",\"7\",\"7\",\"15\",\"15\",\"15\",\"15\",\"15\",\"15\",\"15\",\"15\",\"15\",\"15\",\"15\",\"15\",\"15\",\"15\",\"15\",\"15\",\"15\",\"15\",\"15\",\"15\",\"15\",\"15\",\"15\",\"15\",\"15\",\"15\",\"15\",\"15\",\"15\",\"15\",\"15\",\"15\",\"15\",\"15\",\"15\",\"15\",\"15\",\"15\",\"15\",\"15\",\"15\"],\"_global_locus\":{\"__ndarray__\":\"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\",\"dtype\":\"float64\",\"shape\":[261]},\"_pval\":{\"__ndarray__\":\"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\",\"dtype\":\"float64\",\"shape\":[261]},\"index\":[0,1,2,3,4,5,6,7,8,9,10,11,12,13,14,15,16,17,18,19,20,21,22,23,24,25,26,27,28,29,30,31,32,33,34,35,36,37,38,39,40,41,42,43,44,45,46,47,48,49,50,51,52,53,54,55,56,57,58,59,60,61,62,63,64,65,66,67,68,69,70,71,72,73,74,75,76,77,78,79,80,81,82,83,84,85,86,87,88,89,90,91,92,93,94,95,96,97,98,99,100,101,102,103,104,105,106,107,108,109,110,111,112,113,114,115,116,117,118,119,120,121,122,123,124,125,126,127,128,129,130,131,132,133,134,135,136,137,138,139,140,141,142,143,144,145,146,147,148,149,150,151,152,153,154,155,156,157,158,159,160,161,162,163,164,165,166,167,168,169,170,171,172,173,174,175,176,177,178,179,180,181,182,183,184,185,186,187,188,189,190,191,192,193,194,195,196,197,198,199,200,201,202,203,204,205,206,207,208,209,210,211,212,213,214,215,216,217,218,219,220,221,222,223,224,225,226,227,228,229,230,231,232,233,234,235,236,237,238,239,240,241,242,243,244,245,246,247,248,249,250,251,252,253,254,255,256,257,258,259,260],\"locus\":[\"2:109511398\",\"2:109511527\",\"2:109511454\",\"2:109511463\",\"2:109511467\",\"2:109514464\",\"2:109512428\",\"2:109512364\",\"2:109512234\",\"2:109513786\",\"2:109513601\",\"2:109511765\",\"2:109514985\",\"2:223032700\",\"2:223032030\",\"2:223031834\",\"2:223032148\",\"2:223035136\",\"2:223033725\",\"2:223032680\",\"2:223036256\",\"2:223034770\",\"2:223031835\",\"2:223032002\",\"2:223035359\",\"2:223032504\",\"2:223032943\",\"2:223033006\",\"2:223034758\",\"2:223032399\",\"2:223035313\",\"2:223033978\",\"2:223033030\",\"2:223035940\",\"2:223035211\",\"2:223033642\",\"2:223034082\",\"4:54510121\",\"4:54509667\",\"4:54509738\",\"4:54510166\",\"4:54510555\",\"4:54512391\",\"4:54510360\",\"4:54509910\",\"4:54511042\",\"4:54511203\",\"4:54510021\",\"4:54514026\",\"4:54510427\",\"4:54513819\",\"4:54510874\",\"4:54509759\",\"4:54511913\",\"5:126625301\",\"5:126624608\",\"5:126625041\",\"5:126625517\",\"5:126625722\",\"5:126625573\",\"5:126627362\",\"5:126625964\",\"5:126625757\",\"5:126632055\",\"5:126637966\",\"5:126626099\",\"5:126635383\",\"5:126633442\",\"5:126627962\",\"5:126629021\",\"5:126625013\",\"5:126645650\",\"5:126627233\",\"5:126657860\",\"5:126662370\",\"5:126631791\",\"5:126661686\",\"5:126629761\",\"5:126625592\",\"5:126669834\",\"5:126735334\",\"5:126695127\",\"5:126636000\",\"5:126633404\",\"5:126701622\",\"5:126655361\",\"5:126636782\",\"5:126675780\",\"5:126672710\",\"5:126663406\",\"5:126715151\",\"5:126634444\",\"5:126653607\",\"5:126644632\",\"5:126793219\",\"5:126777362\",\"5:126767961\",\"5:126796585\",\"5:126723562\",\"5:126795246\",\"5:126710915\",\"5:126630491\",\"5:126769874\",\"5:126744956\",\"5:126661600\",\"5:126731876\",\"5:126717984\",\"5:126725054\",\"5:126725568\",\"5:126726847\",\"5:126699347\",\"5:126726851\",\"5:126697138\",\"5:126796531\",\"5:126797292\",\"5:126715759\",\"5:126687687\",\"5:126686756\",\"5:126657432\",\"5:126773064\",\"5:126775113\",\"5:126661519\",\"5:126694523\",\"5:126669209\",\"5:126645710\",\"5:126739085\",\"5:126698023\",\"5:126683416\",\"5:126693280\",\"5:126775462\",\"5:126669004\",\"5:126645705\",\"5:126683809\",\"5:126682354\",\"5:126731259\",\"5:126727008\",\"5:126641296\",\"5:126641770\",\"5:126685374\",\"5:126640971\",\"5:126645738\",\"5:126639025\",\"5:126637872\",\"5:126682039\",\"5:126639801\",\"5:126659892\",\"5:126640205\",\"5:126658500\",\"5:126656324\",\"5:126633436\",\"5:126633958\",\"5:126646864\",\"5:126640576\",\"5:126644681\",\"5:126654623\",\"5:126645646\",\"5:126635437\",\"5:126698345\",\"5:126694437\",\"5:126679697\",\"5:126688517\",\"5:126687822\",\"5:126640246\",\"5:126652710\",\"5:126650182\",\"5:126679402\",\"5:126625548\",\"5:126668683\",\"5:126674613\",\"5:126664039\",\"5:126648201\",\"5:126628098\",\"5:126639097\",\"5:126657217\",\"5:126639432\",\"5:126664981\",\"5:126662114\",\"5:126632821\",\"5:126656500\",\"5:126636211\",\"5:126655749\",\"5:126631841\",\"5:126655730\",\"5:126654970\",\"5:126647941\",\"5:126633827\",\"5:126629170\",\"5:126626645\",\"5:126628584\",\"5:126630948\",\"5:126627875\",\"5:126626044\",\"7:17282367\",\"7:17282343\",\"7:17282523\",\"7:17282329\",\"7:17282995\",\"7:17282735\",\"7:17283293\",\"7:17283259\",\"7:17283523\",\"7:17282684\",\"7:17284085\",\"7:17286087\",\"7:17282507\",\"7:17282872\",\"7:17282974\",\"7:17285867\",\"7:17284989\",\"7:17284577\",\"7:113987041\",\"7:113987371\",\"7:113987067\",\"7:113987867\",\"7:113988926\",\"7:113987889\",\"7:113988537\",\"7:113987281\",\"7:113989578\",\"7:113990352\",\"15:66185666\",\"15:66185811\",\"15:66185777\",\"15:66186080\",\"15:66185846\",\"15:66186061\",\"15:66189966\",\"15:66194887\",\"15:66195666\",\"15:66193404\",\"15:66203218\",\"15:66204188\",\"15:66197560\",\"15:66185803\",\"15:66258194\",\"15:66221782\",\"15:66188317\",\"15:66259809\",\"15:66217240\",\"15:66253733\",\"15:66269700\",\"15:66269804\",\"15:66269482\",\"15:66272491\",\"15:66269504\",\"15:66271772\",\"15:66323837\",\"15:66438961\",\"15:75026081\",\"15:75025637\",\"15:75026162\",\"15:75026131\",\"15:75029472\",\"15:75029228\",\"15:75027179\",\"15:75027432\",\"15:75025814\",\"15:75026149\",\"15:75027880\",\"15:75028490\",\"15:75025988\"],\"p_value\":{\"__ndarray__\":\"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\",\"dtype\":\"float64\",\"shape\":[261]},\"rs\":[\"rs150055772\",\"rs574502076\",\"rs558429529\",\"rs200762071\",\"rs145115545\",\"rs940928\",\"rs3749096\",\"rs10206737\",\"rs13001699\",\"rs3789738\",\"rs3827760\",\"rs10865025\",\"rs11689836\",\"rs546066562\",\"rs532374240\",\"rs538046270\",\"rs528192892\",\"rs184491207\",\"rs558223447\",\"rs371522534\",\"rs79922615\",\"rs201276449\",\"rs114946697\",\"rs7607981\",\"rs13431945\",\"rs36054640\",\"rs16863471\",\"rs529478087\",\"rs71050391\",\"rs986429\",\"rs66885466\",\"rs2196751\",\"rs16863473\",\"rs11690945\",\"rs5838931\",\"rs2218064\",\"rs2218065\",\"rs574866870\",\"rs571577163\",\"rs191006095\",\"rs562738931\",\"rs144220715\",\"rs566909613\",\"rs149974830\",\"rs139265415\",\"rs2590770\",\"rs2590771\",\"rs75718680\",\"rs79162003\",\"rs2668552\",\"rs6858782\",\"rs6816209\",\"rs6818959\",\"rs4864809\",\"rs541948164\",\"rs547382339\",\"rs565944571\",\"rs115887870\",\"rs75840444\",\"rs563348241\",\"rs146724967\",\"rs10519930\",\"rs116760623\",\"rs150961227\",\"rs76396046\",\"rs144701115\",\"rs79449805\",\"rs75811918\",\"rs62373865\",\"rs74472247\",\"rs78627309\",\"rs78802780\",\"rs79637336\",\"rs59539946\",\"rs76302267\",\"rs17165102\",\"rs114484030\",\"rs17165105\",\"rs183280201\",\"rs4836320\",\"rs10519939\",\"rs35528\",\"rs7702573\",\"rs73785574\",\"rs35524\",\"rs73785580\",\"rs17165082\",\"rs78120546\",\"rs77589749\",\"rs11285616\",\"rs79713470\",\"rs2194080\",\"rs138731838\",\"rs72786459\",\"rs10793809\",\"rs59745564\",\"rs6866678\",\"rs2898043\",\"rs9327438\",\"rs3756722\",\"rs34537147\",\"rs200086613\",\"rs10078629\",\"rs56320297\",\"rs33930493\",\"rs2059084\",\"rs35529\",\"rs10041484\",\"rs4401615\",\"rs2008432\",\"rs35525\",\"rs1318923\",\"rs35527\",\"rs35236935\",\"rs4836323\",\"rs113091845\",\"rs43148\",\"rs185030\",\"rs246889\",\"rs6859304\",\"rs34451603\",\"rs10550881\",\"rs27563\",\"rs145619126\",\"rs541675801\",\"rs6877254\",\"rs35156178\",\"rs187514\",\"rs144085293\",\"rs2408872\",\"rs26944\",\"rs201053818\",\"rs27388\",\"rs246894\",\"rs13171067\",\"rs1019482\",\"rs2585194\",\"rs2585193\",\"rs550745558\",\"rs2546081\",\"rs13153845\",\"rs2546079\",\"rs2546806\",\"rs246895\",\"rs2431724\",\"rs34208116\",\"rs1816058\",\"rs152122\",\"rs3050850\",\"rs970546\",\"rs2585196\",\"rs2161283\",\"rs2546080\",\"rs2254762\",\"rs2439927\",\"rs2546805\",\"rs35796097\",\"rs35526\",\"rs26947\",\"rs246896\",\"rs185033\",\"rs36308\",\"rs1816059\",\"rs246945\",\"rs1345663\",\"rs246897\",\"rs2408868\",\"rs2546078\",\"rs27782\",\"rs36307\",\"rs1422317\",\"rs2194079\",\"rs2546807\",\"rs152121\",\"rs2585195\",\"rs27749\",\"rs26945\",\"rs2585199\",\"rs152120\",\"rs2546809\",\"rs246887\",\"rs2585200\",\"rs246886\",\"rs246885\",\"rs1422316\",\"rs2585197\",\"rs12519784\",\"rs2032834\",\"rs112394041\",\"rs2059083\",\"rs4836316\",\"rs1363387\",\"rs535176587\",\"rs552946856\",\"rs540537374\",\"rs188125151\",\"rs556065339\",\"rs114486984\",\"rs112975519\",\"rs145880637\",\"rs112056574\",\"rs561704396\",\"rs6943079\",\"rs79694830\",\"rs62444547\",\"rs79710531\",\"rs17137451\",\"rs10281571\",\"rs10277582\",\"rs4410790\",\"rs192308926\",\"rs545983423\",\"rs183299685\",\"rs183624347\",\"rs116148093\",\"rs2690825\",\"rs2690826\",\"rs1527146\",\"rs2690827\",\"rs2049604\",\"rs543734954\",\"rs184379270\",\"rs563630446\",\"rs149930722\",\"rs114717896\",\"rs72742821\",\"rs34363188\",\"rs76390544\",\"rs140274890\",\"rs1063697\",\"rs55730328\",\"rs116748454\",\"rs16949086\",\"rs61543049\",\"rs333552\",\"rs77371692\",\"rs72742822\",\"rs333554\",\"rs12903123\",\"rs333567\",\"rs693217\",\"rs511563\",\"rs2437056\",\"rs388813\",\"rs372969314\",\"rs428658\",\"rs333584\",\"rs35259179\",\"rs150782361\",\"rs35042613\",\"rs533126191\",\"rs184871949\",\"rs76255041\",\"rs77021813\",\"rs17861120\",\"rs17861121\",\"rs12441817\",\"rs17861118\",\"rs2472297\",\"rs11072500\",\"rs4886605\"]},\"selected\":{\"id\":\"1085\",\"type\":\"Selection\"},\"selection_policy\":{\"id\":\"1086\",\"type\":\"UnionRenderers\"}},\"id\":\"1038\",\"type\":\"ColumnDataSource\"},{\"attributes\":{},\"id\":\"1083\",\"type\":\"BasicTickFormatter\"},{\"attributes\":{\"data_source\":{\"id\":\"1038\",\"type\":\"ColumnDataSource\"},\"glyph\":{\"id\":\"1066\",\"type\":\"Circle\"},\"hover_glyph\":null,\"muted_glyph\":null,\"nonselection_glyph\":{\"id\":\"1067\",\"type\":\"Circle\"},\"selection_glyph\":null,\"view\":{\"id\":\"1064\",\"type\":\"CDSView\"}},\"id\":\"1068\",\"type\":\"GlyphRenderer\"},{\"attributes\":{\"click_policy\":\"hide\",\"items\":[{\"id\":\"1069\",\"type\":\"LegendItem\"},{\"id\":\"1070\",\"type\":\"LegendItem\"},{\"id\":\"1071\",\"type\":\"LegendItem\"},{\"id\":\"1072\",\"type\":\"LegendItem\"},{\"id\":\"1073\",\"type\":\"LegendItem\"}],\"visible\":false},\"id\":\"1074\",\"type\":\"Legend\"},{\"attributes\":{},\"id\":\"1024\",\"type\":\"WheelZoomTool\"},{\"attributes\":{\"label\":{\"value\":\"7\"},\"renderers\":[{\"id\":\"1068\",\"type\":\"GlyphRenderer\"}]},\"id\":\"1073\",\"type\":\"LegendItem\"},{\"attributes\":{\"line_color\":{\"value\":\"red\"},\"line_dash\":[6],\"line_width\":{\"value\":1.5},\"location\":7.301029995663981},\"id\":\"1096\",\"type\":\"Span\"},{\"attributes\":{},\"id\":\"1082\",\"type\":\"BasicTickFormatter\"},{\"attributes\":{\"column_name\":\"_contig\",\"group\":\"15\"},\"id\":\"1039\",\"type\":\"GroupFilter\"},{\"attributes\":{},\"id\":\"1028\",\"type\":\"HelpTool\"},{\"attributes\":{\"ticks\":[370850307,786049562,972084330,1313226358,2358551415]},\"id\":\"1076\",\"type\":\"FixedTicker\"},{\"attributes\":{\"data_source\":{\"id\":\"1038\",\"type\":\"ColumnDataSource\"},\"glyph\":{\"id\":\"1042\",\"type\":\"Circle\"},\"hover_glyph\":null,\"muted_glyph\":null,\"nonselection_glyph\":{\"id\":\"1043\",\"type\":\"Circle\"},\"selection_glyph\":null,\"view\":{\"id\":\"1040\",\"type\":\"CDSView\"}},\"id\":\"1044\",\"type\":\"GlyphRenderer\"},{\"attributes\":{},\"id\":\"1081\",\"type\":\"BasicTicker\"},{\"attributes\":{\"column_name\":\"_contig\",\"group\":\"4\"},\"id\":\"1051\",\"type\":\"GroupFilter\"},{\"attributes\":{},\"id\":\"1027\",\"type\":\"ResetTool\"},{\"attributes\":{\"fill_color\":{\"field\":\"_contig\",\"transform\":{\"id\":\"1002\",\"type\":\"CategoricalColorMapper\"}},\"line_color\":{\"field\":\"_contig\",\"transform\":{\"id\":\"1002\",\"type\":\"CategoricalColorMapper\"}},\"x\":{\"field\":\"_global_locus\"},\"y\":{\"field\":\"_pval\"}},\"id\":\"1042\",\"type\":\"Circle\"},{\"attributes\":{},\"id\":\"1023\",\"type\":\"PanTool\"},{\"attributes\":{\"filters\":[{\"id\":\"1039\",\"type\":\"GroupFilter\"}],\"source\":{\"id\":\"1038\",\"type\":\"ColumnDataSource\"}},\"id\":\"1040\",\"type\":\"CDSView\"},{\"attributes\":{\"factors\":[\"1\",\"2\",\"3\",\"4\",\"5\",\"6\",\"7\",\"8\",\"9\",\"10\",\"11\",\"12\",\"13\",\"14\",\"15\",\"16\",\"17\",\"18\",\"19\",\"20\",\"21\",\"22\",\"X\",\"Y\",\"MT\",\"GL000207.1\",\"GL000226.1\",\"GL000229.1\",\"GL000231.1\",\"GL000210.1\",\"GL000239.1\",\"GL000235.1\",\"GL000201.1\",\"GL000247.1\",\"GL000245.1\",\"GL000197.1\",\"GL000203.1\",\"GL000246.1\",\"GL000249.1\",\"GL000196.1\",\"GL000248.1\",\"GL000244.1\",\"GL000238.1\",\"GL000202.1\",\"GL000234.1\",\"GL000232.1\",\"GL000206.1\",\"GL000240.1\",\"GL000236.1\",\"GL000241.1\",\"GL000243.1\",\"GL000242.1\",\"GL000230.1\",\"GL000237.1\",\"GL000233.1\",\"GL000204.1\",\"GL000198.1\",\"GL000208.1\",\"GL000191.1\",\"GL000227.1\",\"GL000228.1\",\"GL000214.1\",\"GL000221.1\",\"GL000209.1\",\"GL000218.1\",\"GL000220.1\",\"GL000213.1\",\"GL000211.1\",\"GL000199.1\",\"GL000217.1\",\"GL000216.1\",\"GL000215.1\",\"GL000205.1\",\"GL000219.1\",\"GL000224.1\",\"GL000223.1\",\"GL000195.1\",\"GL000212.1\",\"GL000222.1\",\"GL000200.1\",\"GL000193.1\",\"GL000194.1\",\"GL000225.1\",\"GL000192.1\"],\"palette\":[\"#1f77b4\",\"#ff7f0e\",\"#1f77b4\",\"#ff7f0e\",\"#1f77b4\",\"#ff7f0e\",\"#1f77b4\",\"#ff7f0e\",\"#1f77b4\",\"#ff7f0e\",\"#1f77b4\",\"#ff7f0e\",\"#1f77b4\",\"#ff7f0e\",\"#1f77b4\",\"#ff7f0e\",\"#1f77b4\",\"#ff7f0e\",\"#1f77b4\",\"#ff7f0e\",\"#1f77b4\",\"#ff7f0e\",\"#1f77b4\",\"#ff7f0e\",\"#1f77b4\",\"#ff7f0e\",\"#1f77b4\",\"#ff7f0e\",\"#1f77b4\",\"#ff7f0e\",\"#1f77b4\",\"#ff7f0e\",\"#1f77b4\",\"#ff7f0e\",\"#1f77b4\",\"#ff7f0e\",\"#1f77b4\",\"#ff7f0e\",\"#1f77b4\",\"#ff7f0e\",\"#1f77b4\",\"#ff7f0e\",\"#1f77b4\",\"#ff7f0e\",\"#1f77b4\",\"#ff7f0e\",\"#1f77b4\",\"#ff7f0e\",\"#1f77b4\",\"#ff7f0e\",\"#1f77b4\",\"#ff7f0e\",\"#1f77b4\",\"#ff7f0e\",\"#1f77b4\",\"#ff7f0e\",\"#1f77b4\",\"#ff7f0e\",\"#1f77b4\",\"#ff7f0e\",\"#1f77b4\",\"#ff7f0e\",\"#1f77b4\",\"#ff7f0e\",\"#1f77b4\",\"#ff7f0e\",\"#1f77b4\",\"#ff7f0e\",\"#1f77b4\",\"#ff7f0e\",\"#1f77b4\",\"#ff7f0e\",\"#1f77b4\",\"#ff7f0e\",\"#1f77b4\",\"#ff7f0e\",\"#1f77b4\",\"#ff7f0e\",\"#1f77b4\",\"#ff7f0e\",\"#1f77b4\",\"#ff7f0e\",\"#1f77b4\",\"#ff7f0e\"]},\"id\":\"1002\",\"type\":\"CategoricalColorMapper\"},{\"attributes\":{\"filters\":[{\"id\":\"1045\",\"type\":\"GroupFilter\"}],\"source\":{\"id\":\"1038\",\"type\":\"ColumnDataSource\"}},\"id\":\"1046\",\"type\":\"CDSView\"},{\"attributes\":{},\"id\":\"1026\",\"type\":\"SaveTool\"},{\"attributes\":{\"label\":{\"value\":\"4\"},\"renderers\":[{\"id\":\"1056\",\"type\":\"GlyphRenderer\"}]},\"id\":\"1071\",\"type\":\"LegendItem\"},{\"attributes\":{\"overlay\":{\"id\":\"1084\",\"type\":\"BoxAnnotation\"}},\"id\":\"1025\",\"type\":\"BoxZoomTool\"},{\"attributes\":{\"fill_color\":{\"field\":\"_contig\",\"transform\":{\"id\":\"1002\",\"type\":\"CategoricalColorMapper\"}},\"line_color\":{\"field\":\"_contig\",\"transform\":{\"id\":\"1002\",\"type\":\"CategoricalColorMapper\"}},\"x\":{\"field\":\"_global_locus\"},\"y\":{\"field\":\"_pval\"}},\"id\":\"1048\",\"type\":\"Circle\"},{\"attributes\":{},\"id\":\"1086\",\"type\":\"UnionRenderers\"},{\"attributes\":{\"active_drag\":\"auto\",\"active_inspect\":\"auto\",\"active_multi\":null,\"active_scroll\":\"auto\",\"active_tap\":\"auto\",\"tools\":[{\"id\":\"1023\",\"type\":\"PanTool\"},{\"id\":\"1024\",\"type\":\"WheelZoomTool\"},{\"id\":\"1025\",\"type\":\"BoxZoomTool\"},{\"id\":\"1026\",\"type\":\"SaveTool\"},{\"id\":\"1027\",\"type\":\"ResetTool\"},{\"id\":\"1028\",\"type\":\"HelpTool\"},{\"id\":\"1037\",\"type\":\"HoverTool\"}]},\"id\":\"1029\",\"type\":\"Toolbar\"},{\"attributes\":{\"callback\":null},\"id\":\"1007\",\"type\":\"DataRange1d\"},{\"attributes\":{\"data_source\":{\"id\":\"1038\",\"type\":\"ColumnDataSource\"},\"glyph\":{\"id\":\"1048\",\"type\":\"Circle\"},\"hover_glyph\":null,\"muted_glyph\":null,\"nonselection_glyph\":{\"id\":\"1049\",\"type\":\"Circle\"},\"selection_glyph\":null,\"view\":{\"id\":\"1046\",\"type\":\"CDSView\"}},\"id\":\"1050\",\"type\":\"GlyphRenderer\"},{\"attributes\":{},\"id\":\"1085\",\"type\":\"Selection\"},{\"attributes\":{\"filters\":[{\"id\":\"1063\",\"type\":\"GroupFilter\"}],\"source\":{\"id\":\"1038\",\"type\":\"ColumnDataSource\"}},\"id\":\"1064\",\"type\":\"CDSView\"},{\"attributes\":{\"callback\":null},\"id\":\"1005\",\"type\":\"DataRange1d\"},{\"attributes\":{\"fill_color\":{\"field\":\"_contig\",\"transform\":{\"id\":\"1002\",\"type\":\"CategoricalColorMapper\"}},\"line_color\":{\"field\":\"_contig\",\"transform\":{\"id\":\"1002\",\"type\":\"CategoricalColorMapper\"}},\"x\":{\"field\":\"_global_locus\"},\"y\":{\"field\":\"_pval\"}},\"id\":\"1066\",\"type\":\"Circle\"},{\"attributes\":{\"column_name\":\"_contig\",\"group\":\"2\"},\"id\":\"1045\",\"type\":\"GroupFilter\"},{\"attributes\":{\"fill_alpha\":{\"value\":0.1},\"fill_color\":{\"value\":\"#1f77b4\"},\"line_alpha\":{\"value\":0.1},\"line_color\":{\"value\":\"#1f77b4\"},\"x\":{\"field\":\"_global_locus\"},\"y\":{\"field\":\"_pval\"}},\"id\":\"1043\",\"type\":\"Circle\"},{\"attributes\":{\"filters\":[{\"id\":\"1051\",\"type\":\"GroupFilter\"}],\"source\":{\"id\":\"1038\",\"type\":\"ColumnDataSource\"}},\"id\":\"1052\",\"type\":\"CDSView\"},{\"attributes\":{\"fill_alpha\":{\"value\":0.1},\"fill_color\":{\"value\":\"#1f77b4\"},\"line_alpha\":{\"value\":0.1},\"line_color\":{\"value\":\"#1f77b4\"},\"x\":{\"field\":\"_global_locus\"},\"y\":{\"field\":\"_pval\"}},\"id\":\"1055\",\"type\":\"Circle\"},{\"attributes\":{\"fill_alpha\":{\"value\":0.1},\"fill_color\":{\"value\":\"#1f77b4\"},\"line_alpha\":{\"value\":0.1},\"line_color\":{\"value\":\"#1f77b4\"},\"x\":{\"field\":\"_global_locus\"},\"y\":{\"field\":\"_pval\"}},\"id\":\"1049\",\"type\":\"Circle\"},{\"attributes\":{\"fill_color\":{\"field\":\"_contig\",\"transform\":{\"id\":\"1002\",\"type\":\"CategoricalColorMapper\"}},\"line_color\":{\"field\":\"_contig\",\"transform\":{\"id\":\"1002\",\"type\":\"CategoricalColorMapper\"}},\"x\":{\"field\":\"_global_locus\"},\"y\":{\"field\":\"_pval\"}},\"id\":\"1054\",\"type\":\"Circle\"},{\"attributes\":{\"column_name\":\"_contig\",\"group\":\"5\"},\"id\":\"1057\",\"type\":\"GroupFilter\"},{\"attributes\":{\"label\":{\"value\":\"2\"},\"renderers\":[{\"id\":\"1050\",\"type\":\"GlyphRenderer\"}]},\"id\":\"1070\",\"type\":\"LegendItem\"},{\"attributes\":{\"data_source\":{\"id\":\"1038\",\"type\":\"ColumnDataSource\"},\"glyph\":{\"id\":\"1054\",\"type\":\"Circle\"},\"hover_glyph\":null,\"muted_glyph\":null,\"nonselection_glyph\":{\"id\":\"1055\",\"type\":\"Circle\"},\"selection_glyph\":null,\"view\":{\"id\":\"1052\",\"type\":\"CDSView\"}},\"id\":\"1056\",\"type\":\"GlyphRenderer\"},{\"attributes\":{\"bottom_units\":\"screen\",\"fill_alpha\":{\"value\":0.5},\"fill_color\":{\"value\":\"lightgrey\"},\"left_units\":\"screen\",\"level\":\"overlay\",\"line_alpha\":{\"value\":1.0},\"line_color\":{\"value\":\"black\"},\"line_dash\":[4,4],\"line_width\":{\"value\":2},\"render_mode\":\"css\",\"right_units\":\"screen\",\"top_units\":\"screen\"},\"id\":\"1084\",\"type\":\"BoxAnnotation\"},{\"attributes\":{\"label\":{\"value\":\"15\"},\"renderers\":[{\"id\":\"1044\",\"type\":\"GlyphRenderer\"}]},\"id\":\"1069\",\"type\":\"LegendItem\"},{\"attributes\":{\"callback\":null,\"tooltips\":[[\"rs\",\"@rs\"],[\"locus\",\"@locus\"],[\"p_value\",\"@p_value\"]]},\"id\":\"1037\",\"type\":\"HoverTool\"},{\"attributes\":{\"fill_alpha\":{\"value\":0.1},\"fill_color\":{\"value\":\"#1f77b4\"},\"line_alpha\":{\"value\":0.1},\"line_color\":{\"value\":\"#1f77b4\"},\"x\":{\"field\":\"_global_locus\"},\"y\":{\"field\":\"_pval\"}},\"id\":\"1061\",\"type\":\"Circle\"},{\"attributes\":{\"label\":{\"value\":\"5\"},\"renderers\":[{\"id\":\"1062\",\"type\":\"GlyphRenderer\"}]},\"id\":\"1072\",\"type\":\"LegendItem\"}],\"root_ids\":[\"1003\"]},\"title\":\"Bokeh Application\",\"version\":\"1.4.0\"}};\n",
       "  var render_items = [{\"docid\":\"1e5fd8a0-a26b-471d-8741-0b96d9e3789d\",\"roots\":{\"1003\":\"bff7ed2c-a225-4e4d-83de-1b8dedb75e2c\"}}];\n",
       "  root.Bokeh.embed.embed_items_notebook(docs_json, render_items);\n",
       "\n",
       "  }\n",
       "  if (root.Bokeh !== undefined) {\n",
       "    embed_document(root);\n",
       "  } else {\n",
       "    var attempts = 0;\n",
       "    var timer = setInterval(function(root) {\n",
       "      if (root.Bokeh !== undefined) {\n",
       "        clearInterval(timer);\n",
       "        embed_document(root);\n",
       "      } else {\n",
       "        attempts++;\n",
       "        if (attempts > 100) {\n",
       "          clearInterval(timer);\n",
       "          console.log(\"Bokeh: ERROR: Unable to run BokehJS code because BokehJS library is missing\");\n",
       "        }\n",
       "      }\n",
       "    }, 10, root)\n",
       "  }\n",
       "})(window);"
      ],
      "application/vnd.bokehjs_exec.v0+json": ""
     },
     "metadata": {
      "application/vnd.bokehjs_exec.v0+json": {
       "id": "1003"
      }
     },
     "output_type": "display_data"
    }
   ],
   "source": [
    "p = hl.plot.manhattan(gwas.p_value, hover_fields=dict(rs=gwas.rsid))\n",
    "show(p)"
   ]
  },
  {
   "cell_type": "markdown",
   "metadata": {},
   "source": [
    "_Fig 1: Manhattan plot for logistic regression p-values._"
   ]
  },
  {
   "cell_type": "markdown",
   "metadata": {},
   "source": [
    "## Build random forest and extract gini importance with VariantSpark (on the same data)"
   ]
  },
  {
   "cell_type": "code",
   "execution_count": 10,
   "metadata": {},
   "outputs": [
    {
     "name": "stderr",
     "output_type": "stream",
     "text": [
      "2023-01-24 10:37:29 Hail: INFO: Coerced almost-sorted dataset\n",
      "[Stage 634:==================================================>      (8 + 1) / 9]\r"
     ]
    }
   ],
   "source": [
    "rf_model = vshl.random_forest_model(y=mt.hipster.label,\n",
    "                    x=mt.GT.n_alt_alleles(), \n",
    "                    covariates={'age':mt.hipster.age, 'PC0':mt.hipster.PC0, 'PC1':mt.hipster.PC1, 'PC2':mt.hipster.PC2})\n",
    "rf_model.fit_trees(500, 100)"
   ]
  },
  {
   "cell_type": "markdown",
   "metadata": {},
   "source": [
    "Capture the variant importances"
   ]
  },
  {
   "cell_type": "code",
   "execution_count": 11,
   "metadata": {},
   "outputs": [
    {
     "name": "stdout",
     "output_type": "stream",
     "text": [
      "0.1869009584664537\n"
     ]
    },
    {
     "name": "stderr",
     "output_type": "stream",
     "text": [
      "2023-01-24 10:42:05 Hail: INFO: Coerced sorted dataset\n"
     ]
    },
    {
     "data": {
      "text/html": [
       "<table><thead><tr><td style=\"white-space: nowrap; max-width: 500px; overflow: hidden; text-overflow: ellipsis; \" colspan=\"1\"><div style=\"text-align: left;\"></div></td><td style=\"white-space: nowrap; max-width: 500px; overflow: hidden; text-overflow: ellipsis; \" colspan=\"1\"><div style=\"text-align: left;\"></div></td><td style=\"white-space: nowrap; max-width: 500px; overflow: hidden; text-overflow: ellipsis; \" colspan=\"1\"><div style=\"text-align: left;\"></div></td><td style=\"white-space: nowrap; max-width: 500px; overflow: hidden; text-overflow: ellipsis; \" colspan=\"1\"><div style=\"text-align: left;\"></div></td></tr><tr><td style=\"white-space: nowrap; max-width: 500px; overflow: hidden; text-overflow: ellipsis; \" colspan=\"1\"><div style=\"text-align: left;border-bottom: solid 2px #000; padding-bottom: 5px\">locus</div></td><td style=\"white-space: nowrap; max-width: 500px; overflow: hidden; text-overflow: ellipsis; \" colspan=\"1\"><div style=\"text-align: left;border-bottom: solid 2px #000; padding-bottom: 5px\">alleles</div></td><td style=\"white-space: nowrap; max-width: 500px; overflow: hidden; text-overflow: ellipsis; \" colspan=\"1\"><div style=\"text-align: left;border-bottom: solid 2px #000; padding-bottom: 5px\">importance</div></td><td style=\"white-space: nowrap; max-width: 500px; overflow: hidden; text-overflow: ellipsis; \" colspan=\"1\"><div style=\"text-align: left;border-bottom: solid 2px #000; padding-bottom: 5px\">splitCount</div></td></tr><tr><td style=\"white-space: nowrap; max-width: 500px; overflow: hidden; text-overflow: ellipsis; text-align: left;\">locus&lt;GRCh37&gt;</td><td style=\"white-space: nowrap; max-width: 500px; overflow: hidden; text-overflow: ellipsis; text-align: left;\">array&lt;str&gt;</td><td style=\"white-space: nowrap; max-width: 500px; overflow: hidden; text-overflow: ellipsis; text-align: left;\">float64</td><td style=\"white-space: nowrap; max-width: 500px; overflow: hidden; text-overflow: ellipsis; text-align: left;\">int64</td></tr>\n",
       "</thead><tbody><tr><td style=\"white-space: nowrap; max-width: 500px; overflow: hidden; text-overflow: ellipsis; \">2:109511398</td><td style=\"white-space: nowrap; max-width: 500px; overflow: hidden; text-overflow: ellipsis; \">[&quot;G&quot;,&quot;A&quot;]</td><td style=\"white-space: nowrap; max-width: 500px; overflow: hidden; text-overflow: ellipsis; \">5.62e-03</td><td style=\"white-space: nowrap; max-width: 500px; overflow: hidden; text-overflow: ellipsis; \">1</td></tr>\n",
       "<tr><td style=\"white-space: nowrap; max-width: 500px; overflow: hidden; text-overflow: ellipsis; \">2:109511454</td><td style=\"white-space: nowrap; max-width: 500px; overflow: hidden; text-overflow: ellipsis; \">[&quot;C&quot;,&quot;A&quot;]</td><td style=\"white-space: nowrap; max-width: 500px; overflow: hidden; text-overflow: ellipsis; \">0.00e+00</td><td style=\"white-space: nowrap; max-width: 500px; overflow: hidden; text-overflow: ellipsis; \">0</td></tr>\n",
       "<tr><td style=\"white-space: nowrap; max-width: 500px; overflow: hidden; text-overflow: ellipsis; \">2:109511463</td><td style=\"white-space: nowrap; max-width: 500px; overflow: hidden; text-overflow: ellipsis; \">[&quot;G&quot;,&quot;A&quot;]</td><td style=\"white-space: nowrap; max-width: 500px; overflow: hidden; text-overflow: ellipsis; \">6.66e-02</td><td style=\"white-space: nowrap; max-width: 500px; overflow: hidden; text-overflow: ellipsis; \">18</td></tr>\n",
       "</tbody></table><p style=\"background: #fdd; padding: 0.4em;\">showing top 3 rows</p>\n"
      ],
      "text/plain": [
       "+---------------+------------+------------+------------+\n",
       "| locus         | alleles    | importance | splitCount |\n",
       "+---------------+------------+------------+------------+\n",
       "| locus<GRCh37> | array<str> |    float64 |      int64 |\n",
       "+---------------+------------+------------+------------+\n",
       "| 2:109511398   | [\"G\",\"A\"]  |   5.62e-03 |          1 |\n",
       "| 2:109511454   | [\"C\",\"A\"]  |   0.00e+00 |          0 |\n",
       "| 2:109511463   | [\"G\",\"A\"]  |   6.66e-02 |         18 |\n",
       "+---------------+------------+------------+------------+\n",
       "showing top 3 rows"
      ]
     },
     "metadata": {},
     "output_type": "display_data"
    }
   ],
   "source": [
    "print(rf_model.oob_error())\n",
    "impTable = rf_model.variable_importance()\n",
    "impTable.show(3)"
   ]
  },
  {
   "cell_type": "markdown",
   "metadata": {},
   "source": [
    "Show the covariates importances"
   ]
  },
  {
   "cell_type": "code",
   "execution_count": 12,
   "metadata": {},
   "outputs": [
    {
     "name": "stderr",
     "output_type": "stream",
     "text": [
      "2023-01-24 10:42:06 Hail: INFO: Coerced sorted dataset\n",
      "2023-01-24 10:42:06 Hail: INFO: Coerced dataset with out-of-order partitions.\n"
     ]
    },
    {
     "data": {
      "text/html": [
       "<table><thead><tr><td style=\"white-space: nowrap; max-width: 500px; overflow: hidden; text-overflow: ellipsis; \" colspan=\"1\"><div style=\"text-align: left;\"></div></td><td style=\"white-space: nowrap; max-width: 500px; overflow: hidden; text-overflow: ellipsis; \" colspan=\"1\"><div style=\"text-align: left;\"></div></td><td style=\"white-space: nowrap; max-width: 500px; overflow: hidden; text-overflow: ellipsis; \" colspan=\"1\"><div style=\"text-align: left;\"></div></td></tr><tr><td style=\"white-space: nowrap; max-width: 500px; overflow: hidden; text-overflow: ellipsis; \" colspan=\"1\"><div style=\"text-align: left;border-bottom: solid 2px #000; padding-bottom: 5px\">covariate</div></td><td style=\"white-space: nowrap; max-width: 500px; overflow: hidden; text-overflow: ellipsis; \" colspan=\"1\"><div style=\"text-align: left;border-bottom: solid 2px #000; padding-bottom: 5px\">importance</div></td><td style=\"white-space: nowrap; max-width: 500px; overflow: hidden; text-overflow: ellipsis; \" colspan=\"1\"><div style=\"text-align: left;border-bottom: solid 2px #000; padding-bottom: 5px\">splitCount</div></td></tr><tr><td style=\"white-space: nowrap; max-width: 500px; overflow: hidden; text-overflow: ellipsis; text-align: left;\">str</td><td style=\"white-space: nowrap; max-width: 500px; overflow: hidden; text-overflow: ellipsis; text-align: left;\">float64</td><td style=\"white-space: nowrap; max-width: 500px; overflow: hidden; text-overflow: ellipsis; text-align: left;\">int64</td></tr>\n",
       "</thead><tbody><tr><td style=\"white-space: nowrap; max-width: 500px; overflow: hidden; text-overflow: ellipsis; \">&quot;PC0&quot;</td><td style=\"white-space: nowrap; max-width: 500px; overflow: hidden; text-overflow: ellipsis; \">2.53e+00</td><td style=\"white-space: nowrap; max-width: 500px; overflow: hidden; text-overflow: ellipsis; \">486</td></tr>\n",
       "<tr><td style=\"white-space: nowrap; max-width: 500px; overflow: hidden; text-overflow: ellipsis; \">&quot;PC1&quot;</td><td style=\"white-space: nowrap; max-width: 500px; overflow: hidden; text-overflow: ellipsis; \">2.11e+00</td><td style=\"white-space: nowrap; max-width: 500px; overflow: hidden; text-overflow: ellipsis; \">433</td></tr>\n",
       "<tr><td style=\"white-space: nowrap; max-width: 500px; overflow: hidden; text-overflow: ellipsis; \">&quot;PC2&quot;</td><td style=\"white-space: nowrap; max-width: 500px; overflow: hidden; text-overflow: ellipsis; \">3.09e+00</td><td style=\"white-space: nowrap; max-width: 500px; overflow: hidden; text-overflow: ellipsis; \">548</td></tr>\n",
       "<tr><td style=\"white-space: nowrap; max-width: 500px; overflow: hidden; text-overflow: ellipsis; \">&quot;age&quot;</td><td style=\"white-space: nowrap; max-width: 500px; overflow: hidden; text-overflow: ellipsis; \">2.48e+00</td><td style=\"white-space: nowrap; max-width: 500px; overflow: hidden; text-overflow: ellipsis; \">473</td></tr>\n",
       "</tbody></table>"
      ],
      "text/plain": [
       "+-----------+------------+------------+\n",
       "| covariate | importance | splitCount |\n",
       "+-----------+------------+------------+\n",
       "| str       |    float64 |      int64 |\n",
       "+-----------+------------+------------+\n",
       "| \"PC0\"     |   2.53e+00 |        486 |\n",
       "| \"PC1\"     |   2.11e+00 |        433 |\n",
       "| \"PC2\"     |   3.09e+00 |        548 |\n",
       "| \"age\"     |   2.48e+00 |        473 |\n",
       "+-----------+------------+------------+"
      ]
     },
     "metadata": {},
     "output_type": "display_data"
    }
   ],
   "source": [
    "covImpTable = rf_model.covariate_importance()\n",
    "covImpTable.show(4)"
   ]
  },
  {
   "cell_type": "markdown",
   "metadata": {},
   "source": [
    "Join hail and VariantSpark results (this is only needed here to get the RSID's)"
   ]
  },
  {
   "cell_type": "code",
   "execution_count": 13,
   "metadata": {},
   "outputs": [
    {
     "name": "stderr",
     "output_type": "stream",
     "text": [
      "2023-01-24 10:42:06 Hail: INFO: Table.join: renamed the following fields on the right to avoid name conflicts:\n",
      "    'locus' -> 'locus_1'\n",
      "    'alleles' -> 'alleles_1'\n"
     ]
    }
   ],
   "source": [
    "gwas_with_imp = gwas.join(impTable)"
   ]
  },
  {
   "cell_type": "code",
   "execution_count": 14,
   "metadata": {},
   "outputs": [
    {
     "name": "stderr",
     "output_type": "stream",
     "text": [
      "\r",
      "[Stage 760:>                                                        (0 + 1) / 1]\r"
     ]
    },
    {
     "data": {
      "text/html": [
       "\n",
       "\n",
       "\n",
       "\n",
       "\n",
       "\n",
       "  <div class=\"bk-root\" id=\"23eab958-44f7-4c01-85e1-2e5542853a6a\" data-root-id=\"1161\"></div>\n"
      ]
     },
     "metadata": {},
     "output_type": "display_data"
    },
    {
     "data": {
      "application/javascript": [
       "(function(root) {\n",
       "  function embed_document(root) {\n",
       "    \n",
       "  var docs_json = {\"9c15035c-fd2c-440f-8940-2bd81f477efd\":{\"roots\":{\"references\":[{\"attributes\":{\"below\":[{\"id\":\"1171\",\"type\":\"LinearAxis\"}],\"center\":[{\"id\":\"1175\",\"type\":\"Grid\"},{\"id\":\"1180\",\"type\":\"Grid\"}],\"left\":[{\"id\":\"1176\",\"type\":\"LinearAxis\"},{\"id\":\"1232\",\"type\":\"Legend\"},{\"id\":\"1233\",\"type\":\"ColorBar\"}],\"plot_width\":1000,\"renderers\":[{\"id\":\"1202\",\"type\":\"GlyphRenderer\"},{\"id\":\"1208\",\"type\":\"GlyphRenderer\"},{\"id\":\"1214\",\"type\":\"GlyphRenderer\"},{\"id\":\"1220\",\"type\":\"GlyphRenderer\"},{\"id\":\"1226\",\"type\":\"GlyphRenderer\"}],\"title\":null,\"toolbar\":{\"id\":\"1187\",\"type\":\"Toolbar\"},\"x_range\":{\"id\":\"1163\",\"type\":\"DataRange1d\"},\"x_scale\":{\"id\":\"1167\",\"type\":\"LinearScale\"},\"y_range\":{\"id\":\"1165\",\"type\":\"DataRange1d\"},\"y_scale\":{\"id\":\"1169\",\"type\":\"LinearScale\"}},\"id\":\"1161\",\"subtype\":\"Figure\",\"type\":\"Plot\"},{\"attributes\":{\"axis_label\":\"Chromosome\",\"formatter\":{\"id\":\"1241\",\"type\":\"BasicTickFormatter\"},\"major_label_overrides\":{\"1313226357\":\"7\",\"2358551414\":\"15\",\"370850306\":\"2\",\"786049561\":\"4\",\"972084329\":\"5\"},\"ticker\":{\"id\":\"1234\",\"type\":\"FixedTicker\"}},\"id\":\"1171\",\"type\":\"LinearAxis\"},{\"attributes\":{\"axis_label\":\"Importance (gini)\",\"formatter\":{\"id\":\"1238\",\"type\":\"BasicTickFormatter\"},\"ticker\":{\"id\":\"1177\",\"type\":\"BasicTicker\"}},\"id\":\"1176\",\"type\":\"LinearAxis\"},{\"attributes\":{},\"id\":\"1181\",\"type\":\"PanTool\"},{\"attributes\":{\"fill_color\":{\"field\":\"_contig\",\"transform\":{\"id\":\"1160\",\"type\":\"CategoricalColorMapper\"}},\"line_color\":{\"field\":\"_contig\",\"transform\":{\"id\":\"1160\",\"type\":\"CategoricalColorMapper\"}},\"x\":{\"field\":\"_global_locus\"},\"y\":{\"field\":\"_pval\"}},\"id\":\"1218\",\"type\":\"Circle\"},{\"attributes\":{\"data_source\":{\"id\":\"1196\",\"type\":\"ColumnDataSource\"},\"glyph\":{\"id\":\"1200\",\"type\":\"Circle\"},\"hover_glyph\":null,\"muted_glyph\":null,\"nonselection_glyph\":{\"id\":\"1201\",\"type\":\"Circle\"},\"selection_glyph\":null,\"view\":{\"id\":\"1198\",\"type\":\"CDSView\"}},\"id\":\"1202\",\"type\":\"GlyphRenderer\"},{\"attributes\":{\"fill_alpha\":{\"value\":0.1},\"fill_color\":{\"value\":\"#1f77b4\"},\"line_alpha\":{\"value\":0.1},\"line_color\":{\"value\":\"#1f77b4\"},\"x\":{\"field\":\"_global_locus\"},\"y\":{\"field\":\"_pval\"}},\"id\":\"1219\",\"type\":\"Circle\"},{\"attributes\":{\"fill_alpha\":{\"value\":0.1},\"fill_color\":{\"value\":\"#1f77b4\"},\"line_alpha\":{\"value\":0.1},\"line_color\":{\"value\":\"#1f77b4\"},\"x\":{\"field\":\"_global_locus\"},\"y\":{\"field\":\"_pval\"}},\"id\":\"1201\",\"type\":\"Circle\"},{\"attributes\":{},\"id\":\"1243\",\"type\":\"Selection\"},{\"attributes\":{\"filters\":[{\"id\":\"1209\",\"type\":\"GroupFilter\"}],\"source\":{\"id\":\"1196\",\"type\":\"ColumnDataSource\"}},\"id\":\"1210\",\"type\":\"CDSView\"},{\"attributes\":{},\"id\":\"1244\",\"type\":\"UnionRenderers\"},{\"attributes\":{\"data_source\":{\"id\":\"1196\",\"type\":\"ColumnDataSource\"},\"glyph\":{\"id\":\"1218\",\"type\":\"Circle\"},\"hover_glyph\":null,\"muted_glyph\":null,\"nonselection_glyph\":{\"id\":\"1219\",\"type\":\"Circle\"},\"selection_glyph\":null,\"view\":{\"id\":\"1216\",\"type\":\"CDSView\"}},\"id\":\"1220\",\"type\":\"GlyphRenderer\"},{\"attributes\":{\"active_drag\":\"auto\",\"active_inspect\":\"auto\",\"active_multi\":null,\"active_scroll\":\"auto\",\"active_tap\":\"auto\",\"tools\":[{\"id\":\"1181\",\"type\":\"PanTool\"},{\"id\":\"1182\",\"type\":\"WheelZoomTool\"},{\"id\":\"1183\",\"type\":\"BoxZoomTool\"},{\"id\":\"1184\",\"type\":\"SaveTool\"},{\"id\":\"1185\",\"type\":\"ResetTool\"},{\"id\":\"1186\",\"type\":\"HelpTool\"},{\"id\":\"1195\",\"type\":\"HoverTool\"}]},\"id\":\"1187\",\"type\":\"Toolbar\"},{\"attributes\":{\"fill_color\":{\"field\":\"_contig\",\"transform\":{\"id\":\"1160\",\"type\":\"CategoricalColorMapper\"}},\"line_color\":{\"field\":\"_contig\",\"transform\":{\"id\":\"1160\",\"type\":\"CategoricalColorMapper\"}},\"x\":{\"field\":\"_global_locus\"},\"y\":{\"field\":\"_pval\"}},\"id\":\"1224\",\"type\":\"Circle\"},{\"attributes\":{\"label\":{\"value\":\"5\"},\"renderers\":[{\"id\":\"1220\",\"type\":\"GlyphRenderer\"}]},\"id\":\"1230\",\"type\":\"LegendItem\"},{\"attributes\":{\"overlay\":{\"id\":\"1242\",\"type\":\"BoxAnnotation\"}},\"id\":\"1183\",\"type\":\"BoxZoomTool\"},{\"attributes\":{\"column_name\":\"_contig\",\"group\":\"7\"},\"id\":\"1221\",\"type\":\"GroupFilter\"},{\"attributes\":{\"filters\":[{\"id\":\"1221\",\"type\":\"GroupFilter\"}],\"source\":{\"id\":\"1196\",\"type\":\"ColumnDataSource\"}},\"id\":\"1222\",\"type\":\"CDSView\"},{\"attributes\":{\"data_source\":{\"id\":\"1196\",\"type\":\"ColumnDataSource\"},\"glyph\":{\"id\":\"1224\",\"type\":\"Circle\"},\"hover_glyph\":null,\"muted_glyph\":null,\"nonselection_glyph\":{\"id\":\"1225\",\"type\":\"Circle\"},\"selection_glyph\":null,\"view\":{\"id\":\"1222\",\"type\":\"CDSView\"}},\"id\":\"1226\",\"type\":\"GlyphRenderer\"},{\"attributes\":{\"bottom_units\":\"screen\",\"fill_alpha\":{\"value\":0.5},\"fill_color\":{\"value\":\"lightgrey\"},\"left_units\":\"screen\",\"level\":\"overlay\",\"line_alpha\":{\"value\":1.0},\"line_color\":{\"value\":\"black\"},\"line_dash\":[4,4],\"line_width\":{\"value\":2},\"render_mode\":\"css\",\"right_units\":\"screen\",\"top_units\":\"screen\"},\"id\":\"1242\",\"type\":\"BoxAnnotation\"},{\"attributes\":{\"fill_alpha\":{\"value\":0.1},\"fill_color\":{\"value\":\"#1f77b4\"},\"line_alpha\":{\"value\":0.1},\"line_color\":{\"value\":\"#1f77b4\"},\"x\":{\"field\":\"_global_locus\"},\"y\":{\"field\":\"_pval\"}},\"id\":\"1213\",\"type\":\"Circle\"},{\"attributes\":{\"column_name\":\"_contig\",\"group\":\"5\"},\"id\":\"1215\",\"type\":\"GroupFilter\"},{\"attributes\":{\"data_source\":{\"id\":\"1196\",\"type\":\"ColumnDataSource\"},\"glyph\":{\"id\":\"1206\",\"type\":\"Circle\"},\"hover_glyph\":null,\"muted_glyph\":null,\"nonselection_glyph\":{\"id\":\"1207\",\"type\":\"Circle\"},\"selection_glyph\":null,\"view\":{\"id\":\"1204\",\"type\":\"CDSView\"}},\"id\":\"1208\",\"type\":\"GlyphRenderer\"},{\"attributes\":{},\"id\":\"1169\",\"type\":\"LinearScale\"},{\"attributes\":{\"label\":{\"value\":\"15\"},\"renderers\":[{\"id\":\"1202\",\"type\":\"GlyphRenderer\"}]},\"id\":\"1227\",\"type\":\"LegendItem\"},{\"attributes\":{\"callback\":null},\"id\":\"1163\",\"type\":\"DataRange1d\"},{\"attributes\":{},\"id\":\"1186\",\"type\":\"HelpTool\"},{\"attributes\":{\"ticks\":[370850306,786049561,972084329,1313226357,2358551414]},\"id\":\"1234\",\"type\":\"FixedTicker\"},{\"attributes\":{\"fill_alpha\":{\"value\":0.1},\"fill_color\":{\"value\":\"#1f77b4\"},\"line_alpha\":{\"value\":0.1},\"line_color\":{\"value\":\"#1f77b4\"},\"x\":{\"field\":\"_global_locus\"},\"y\":{\"field\":\"_pval\"}},\"id\":\"1225\",\"type\":\"Circle\"},{\"attributes\":{\"callback\":null,\"tooltips\":[[\"ri\",\"@ri\"],[\"locus\",\"@locus\"],[\"p_value\",\"@p_value\"]]},\"id\":\"1195\",\"type\":\"HoverTool\"},{\"attributes\":{\"factors\":[\"1\",\"2\",\"3\",\"4\",\"5\",\"6\",\"7\",\"8\",\"9\",\"10\",\"11\",\"12\",\"13\",\"14\",\"15\",\"16\",\"17\",\"18\",\"19\",\"20\",\"21\",\"22\",\"X\",\"Y\",\"MT\",\"GL000207.1\",\"GL000226.1\",\"GL000229.1\",\"GL000231.1\",\"GL000210.1\",\"GL000239.1\",\"GL000235.1\",\"GL000201.1\",\"GL000247.1\",\"GL000245.1\",\"GL000197.1\",\"GL000203.1\",\"GL000246.1\",\"GL000249.1\",\"GL000196.1\",\"GL000248.1\",\"GL000244.1\",\"GL000238.1\",\"GL000202.1\",\"GL000234.1\",\"GL000232.1\",\"GL000206.1\",\"GL000240.1\",\"GL000236.1\",\"GL000241.1\",\"GL000243.1\",\"GL000242.1\",\"GL000230.1\",\"GL000237.1\",\"GL000233.1\",\"GL000204.1\",\"GL000198.1\",\"GL000208.1\",\"GL000191.1\",\"GL000227.1\",\"GL000228.1\",\"GL000214.1\",\"GL000221.1\",\"GL000209.1\",\"GL000218.1\",\"GL000220.1\",\"GL000213.1\",\"GL000211.1\",\"GL000199.1\",\"GL000217.1\",\"GL000216.1\",\"GL000215.1\",\"GL000205.1\",\"GL000219.1\",\"GL000224.1\",\"GL000223.1\",\"GL000195.1\",\"GL000212.1\",\"GL000222.1\",\"GL000200.1\",\"GL000193.1\",\"GL000194.1\",\"GL000225.1\",\"GL000192.1\"],\"palette\":[\"#1f77b4\",\"#ff7f0e\",\"#1f77b4\",\"#ff7f0e\",\"#1f77b4\",\"#ff7f0e\",\"#1f77b4\",\"#ff7f0e\",\"#1f77b4\",\"#ff7f0e\",\"#1f77b4\",\"#ff7f0e\",\"#1f77b4\",\"#ff7f0e\",\"#1f77b4\",\"#ff7f0e\",\"#1f77b4\",\"#ff7f0e\",\"#1f77b4\",\"#ff7f0e\",\"#1f77b4\",\"#ff7f0e\",\"#1f77b4\",\"#ff7f0e\",\"#1f77b4\",\"#ff7f0e\",\"#1f77b4\",\"#ff7f0e\",\"#1f77b4\",\"#ff7f0e\",\"#1f77b4\",\"#ff7f0e\",\"#1f77b4\",\"#ff7f0e\",\"#1f77b4\",\"#ff7f0e\",\"#1f77b4\",\"#ff7f0e\",\"#1f77b4\",\"#ff7f0e\",\"#1f77b4\",\"#ff7f0e\",\"#1f77b4\",\"#ff7f0e\",\"#1f77b4\",\"#ff7f0e\",\"#1f77b4\",\"#ff7f0e\",\"#1f77b4\",\"#ff7f0e\",\"#1f77b4\",\"#ff7f0e\",\"#1f77b4\",\"#ff7f0e\",\"#1f77b4\",\"#ff7f0e\",\"#1f77b4\",\"#ff7f0e\",\"#1f77b4\",\"#ff7f0e\",\"#1f77b4\",\"#ff7f0e\",\"#1f77b4\",\"#ff7f0e\",\"#1f77b4\",\"#ff7f0e\",\"#1f77b4\",\"#ff7f0e\",\"#1f77b4\",\"#ff7f0e\",\"#1f77b4\",\"#ff7f0e\",\"#1f77b4\",\"#ff7f0e\",\"#1f77b4\",\"#ff7f0e\",\"#1f77b4\",\"#ff7f0e\",\"#1f77b4\",\"#ff7f0e\",\"#1f77b4\",\"#ff7f0e\",\"#1f77b4\",\"#ff7f0e\"]},\"id\":\"1160\",\"type\":\"CategoricalColorMapper\"},{\"attributes\":{\"fill_color\":{\"field\":\"_contig\",\"transform\":{\"id\":\"1160\",\"type\":\"CategoricalColorMapper\"}},\"line_color\":{\"field\":\"_contig\",\"transform\":{\"id\":\"1160\",\"type\":\"CategoricalColorMapper\"}},\"x\":{\"field\":\"_global_locus\"},\"y\":{\"field\":\"_pval\"}},\"id\":\"1212\",\"type\":\"Circle\"},{\"attributes\":{\"color_mapper\":null,\"formatter\":{\"id\":\"1240\",\"type\":\"BasicTickFormatter\"},\"ticker\":{\"id\":\"1239\",\"type\":\"BasicTicker\"},\"visible\":false},\"id\":\"1233\",\"type\":\"ColorBar\"},{\"attributes\":{\"filters\":[{\"id\":\"1197\",\"type\":\"GroupFilter\"}],\"source\":{\"id\":\"1196\",\"type\":\"ColumnDataSource\"}},\"id\":\"1198\",\"type\":\"CDSView\"},{\"attributes\":{\"filters\":[{\"id\":\"1215\",\"type\":\"GroupFilter\"}],\"source\":{\"id\":\"1196\",\"type\":\"ColumnDataSource\"}},\"id\":\"1216\",\"type\":\"CDSView\"},{\"attributes\":{\"fill_alpha\":{\"value\":0.1},\"fill_color\":{\"value\":\"#1f77b4\"},\"line_alpha\":{\"value\":0.1},\"line_color\":{\"value\":\"#1f77b4\"},\"x\":{\"field\":\"_global_locus\"},\"y\":{\"field\":\"_pval\"}},\"id\":\"1207\",\"type\":\"Circle\"},{\"attributes\":{},\"id\":\"1182\",\"type\":\"WheelZoomTool\"},{\"attributes\":{\"column_name\":\"_contig\",\"group\":\"2\"},\"id\":\"1203\",\"type\":\"GroupFilter\"},{\"attributes\":{\"click_policy\":\"hide\",\"items\":[{\"id\":\"1227\",\"type\":\"LegendItem\"},{\"id\":\"1228\",\"type\":\"LegendItem\"},{\"id\":\"1229\",\"type\":\"LegendItem\"},{\"id\":\"1230\",\"type\":\"LegendItem\"},{\"id\":\"1231\",\"type\":\"LegendItem\"}],\"visible\":false},\"id\":\"1232\",\"type\":\"Legend\"},{\"attributes\":{\"data_source\":{\"id\":\"1196\",\"type\":\"ColumnDataSource\"},\"glyph\":{\"id\":\"1212\",\"type\":\"Circle\"},\"hover_glyph\":null,\"muted_glyph\":null,\"nonselection_glyph\":{\"id\":\"1213\",\"type\":\"Circle\"},\"selection_glyph\":null,\"view\":{\"id\":\"1210\",\"type\":\"CDSView\"}},\"id\":\"1214\",\"type\":\"GlyphRenderer\"},{\"attributes\":{\"column_name\":\"_contig\",\"group\":\"4\"},\"id\":\"1209\",\"type\":\"GroupFilter\"},{\"attributes\":{\"ticker\":{\"id\":\"1172\",\"type\":\"BasicTicker\"}},\"id\":\"1175\",\"type\":\"Grid\"},{\"attributes\":{},\"id\":\"1238\",\"type\":\"BasicTickFormatter\"},{\"attributes\":{\"column_name\":\"_contig\",\"group\":\"15\"},\"id\":\"1197\",\"type\":\"GroupFilter\"},{\"attributes\":{\"callback\":null},\"id\":\"1165\",\"type\":\"DataRange1d\"},{\"attributes\":{\"label\":{\"value\":\"4\"},\"renderers\":[{\"id\":\"1214\",\"type\":\"GlyphRenderer\"}]},\"id\":\"1229\",\"type\":\"LegendItem\"},{\"attributes\":{},\"id\":\"1241\",\"type\":\"BasicTickFormatter\"},{\"attributes\":{\"dimension\":1,\"ticker\":{\"id\":\"1177\",\"type\":\"BasicTicker\"}},\"id\":\"1180\",\"type\":\"Grid\"},{\"attributes\":{\"fill_color\":{\"field\":\"_contig\",\"transform\":{\"id\":\"1160\",\"type\":\"CategoricalColorMapper\"}},\"line_color\":{\"field\":\"_contig\",\"transform\":{\"id\":\"1160\",\"type\":\"CategoricalColorMapper\"}},\"x\":{\"field\":\"_global_locus\"},\"y\":{\"field\":\"_pval\"}},\"id\":\"1200\",\"type\":\"Circle\"},{\"attributes\":{\"label\":{\"value\":\"2\"},\"renderers\":[{\"id\":\"1208\",\"type\":\"GlyphRenderer\"}]},\"id\":\"1228\",\"type\":\"LegendItem\"},{\"attributes\":{\"fill_color\":{\"field\":\"_contig\",\"transform\":{\"id\":\"1160\",\"type\":\"CategoricalColorMapper\"}},\"line_color\":{\"field\":\"_contig\",\"transform\":{\"id\":\"1160\",\"type\":\"CategoricalColorMapper\"}},\"x\":{\"field\":\"_global_locus\"},\"y\":{\"field\":\"_pval\"}},\"id\":\"1206\",\"type\":\"Circle\"},{\"attributes\":{},\"id\":\"1177\",\"type\":\"BasicTicker\"},{\"attributes\":{},\"id\":\"1167\",\"type\":\"LinearScale\"},{\"attributes\":{\"label\":{\"value\":\"7\"},\"renderers\":[{\"id\":\"1226\",\"type\":\"GlyphRenderer\"}]},\"id\":\"1231\",\"type\":\"LegendItem\"},{\"attributes\":{},\"id\":\"1239\",\"type\":\"BasicTicker\"},{\"attributes\":{},\"id\":\"1184\",\"type\":\"SaveTool\"},{\"attributes\":{},\"id\":\"1240\",\"type\":\"BasicTickFormatter\"},{\"attributes\":{\"callback\":null,\"data\":{\"_contig\":[\"2\",\"2\",\"2\",\"2\",\"2\",\"2\",\"2\",\"2\",\"2\",\"2\",\"2\",\"2\",\"2\",\"2\",\"2\",\"2\",\"2\",\"2\",\"2\",\"2\",\"2\",\"2\",\"2\",\"2\",\"2\",\"2\",\"2\",\"2\",\"2\",\"2\",\"2\",\"2\",\"2\",\"2\",\"2\",\"2\",\"2\",\"2\",\"2\",\"2\",\"2\",\"4\",\"4\",\"4\",\"4\",\"4\",\"4\",\"4\",\"4\",\"4\",\"4\",\"4\",\"4\",\"4\",\"4\",\"4\",\"4\",\"4\",\"4\",\"5\",\"5\",\"5\",\"5\",\"5\",\"5\",\"5\",\"5\",\"5\",\"5\",\"5\",\"5\",\"5\",\"5\",\"5\",\"5\",\"5\",\"5\",\"5\",\"5\",\"5\",\"5\",\"5\",\"5\",\"5\",\"5\",\"5\",\"5\",\"5\",\"5\",\"5\",\"5\",\"5\",\"5\",\"5\",\"5\",\"5\",\"5\",\"5\",\"5\",\"5\",\"5\",\"5\",\"5\",\"5\",\"5\",\"5\",\"5\",\"5\",\"5\",\"5\",\"5\",\"5\",\"5\",\"5\",\"5\",\"5\",\"5\",\"5\",\"5\",\"5\",\"5\",\"5\",\"5\",\"5\",\"5\",\"5\",\"5\",\"5\",\"5\",\"5\",\"5\",\"5\",\"5\",\"5\",\"5\",\"5\",\"5\",\"5\",\"5\",\"5\",\"5\",\"5\",\"5\",\"7\",\"7\",\"7\",\"7\",\"7\",\"7\",\"7\",\"7\",\"7\",\"7\",\"7\",\"7\",\"7\",\"7\",\"7\",\"7\",\"7\",\"7\",\"7\",\"7\",\"7\",\"7\",\"7\",\"15\",\"15\",\"15\",\"15\",\"15\",\"15\",\"15\",\"15\",\"15\",\"15\",\"15\",\"15\",\"15\",\"15\",\"15\",\"15\",\"15\",\"15\",\"15\",\"15\",\"15\",\"15\",\"15\",\"15\",\"15\",\"15\",\"15\",\"15\",\"15\",\"15\",\"15\",\"15\",\"15\"],\"_global_locus\":{\"__ndarray__\":\"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\",\"dtype\":\"float64\",\"shape\":[199]},\"_pval\":{\"__ndarray__\":\"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\",\"dtype\":\"float64\",\"shape\":[199]},\"index\":[0,1,2,3,4,5,6,7,8,9,10,11,12,13,14,15,16,17,18,19,20,21,22,23,24,25,26,27,28,29,30,31,32,33,34,35,36,37,38,39,40,41,42,43,44,45,46,47,48,49,50,51,52,53,54,55,56,57,58,59,60,61,62,63,64,65,66,67,68,69,70,71,72,73,74,75,76,77,78,79,80,81,82,83,84,85,86,87,88,89,90,91,92,93,94,95,96,97,98,99,100,101,102,103,104,105,106,107,108,109,110,111,112,113,114,115,116,117,118,119,120,121,122,123,124,125,126,127,128,129,130,131,132,133,134,135,136,137,138,139,140,141,142,143,144,145,146,147,148,149,150,151,152,153,154,155,156,157,158,159,160,161,162,163,164,165,166,167,168,169,170,171,172,173,174,175,176,177,178,179,180,181,182,183,184,185,186,187,188,189,190,191,192,193,194,195,196,197,198],\"locus\":[\"2:109511398\",\"2:109511463\",\"2:109512364\",\"2:109515025\",\"2:109514224\",\"2:109512256\",\"2:109512230\",\"2:109514056\",\"2:109511467\",\"2:109515632\",\"2:109514105\",\"2:109514464\",\"2:109512234\",\"2:109513601\",\"2:109513654\",\"2:109511765\",\"2:223031834\",\"2:223032149\",\"2:223031933\",\"2:223031835\",\"2:223033853\",\"2:223033364\",\"2:223035359\",\"2:223033196\",\"2:223032943\",\"2:223032002\",\"2:223033867\",\"2:223033006\",\"2:223032504\",\"2:223034758\",\"2:223032642\",\"2:223032399\",\"2:223033396\",\"2:223035211\",\"2:223033978\",\"2:223035940\",\"2:223035313\",\"2:223033642\",\"2:223033030\",\"2:223034660\",\"2:223034082\",\"4:54509667\",\"4:54510933\",\"4:54511177\",\"4:54510826\",\"4:54510021\",\"4:54510555\",\"4:54512170\",\"4:54511042\",\"4:54513660\",\"4:54512752\",\"4:54511203\",\"4:54513106\",\"4:54510427\",\"4:54511246\",\"4:54513819\",\"4:54509759\",\"4:54510874\",\"4:54511913\",\"5:126624608\",\"5:126625266\",\"5:126627962\",\"5:126625013\",\"5:126625722\",\"5:126626890\",\"5:126631736\",\"5:126639196\",\"5:126630327\",\"5:126636000\",\"5:126625593\",\"5:126625592\",\"5:126625758\",\"5:126636782\",\"5:126630875\",\"5:126644632\",\"5:126693265\",\"5:126661600\",\"5:126653607\",\"5:126637872\",\"5:126697138\",\"5:126642920\",\"5:126639801\",\"5:126641770\",\"5:126630491\",\"5:126644769\",\"5:126633436\",\"5:126640971\",\"5:126644552\",\"5:126731259\",\"5:126635437\",\"5:126643590\",\"5:126645646\",\"5:126645738\",\"5:126659892\",\"5:126644401\",\"5:126653809\",\"5:126640205\",\"5:126650411\",\"5:126656324\",\"5:126639135\",\"5:126633958\",\"5:126652407\",\"5:126657766\",\"5:126646864\",\"5:126653950\",\"5:126641654\",\"5:126650182\",\"5:126640246\",\"5:126679697\",\"5:126651068\",\"5:126632821\",\"5:126654623\",\"5:126652710\",\"5:126689438\",\"5:126639097\",\"5:126654970\",\"5:126661774\",\"5:126674613\",\"5:126661380\",\"5:126668683\",\"5:126632848\",\"5:126635667\",\"5:126625548\",\"5:126635083\",\"5:126648201\",\"5:126662114\",\"5:126657217\",\"5:126655730\",\"5:126647941\",\"5:126633827\",\"5:126636211\",\"5:126656500\",\"5:126628098\",\"5:126631841\",\"5:126635055\",\"5:126626645\",\"5:126629170\",\"5:126628771\",\"5:126629112\",\"5:126630016\",\"5:126627875\",\"5:126626044\",\"5:126628584\",\"7:17282329\",\"7:17283293\",\"7:17282359\",\"7:17282391\",\"7:17283523\",\"7:17282974\",\"7:17282507\",\"7:17286087\",\"7:17284085\",\"7:17285867\",\"7:17284989\",\"7:17284577\",\"7:113987041\",\"7:113987454\",\"7:113990996\",\"7:113989105\",\"7:113989202\",\"7:113989569\",\"7:113987889\",\"7:113990352\",\"7:113989578\",\"7:113988537\",\"7:113987281\",\"15:66185666\",\"15:66186768\",\"15:66185846\",\"15:66186343\",\"15:66186838\",\"15:66186061\",\"15:66196997\",\"15:66199641\",\"15:66188317\",\"15:66193404\",\"15:66205498\",\"15:66185803\",\"15:66203218\",\"15:66260432\",\"15:66227660\",\"15:66235312\",\"15:66269504\",\"15:66359486\",\"15:66397242\",\"15:66368685\",\"15:75025637\",\"15:75026280\",\"15:75027895\",\"15:75028233\",\"15:75026627\",\"15:75026149\",\"15:75027880\",\"15:75028233\",\"15:75027179\",\"15:75025814\",\"15:75028490\",\"15:75025988\",\"15:75028536\"],\"p_value\":{\"__ndarray__\":\"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\",\"dtype\":\"float64\",\"shape\":[199]},\"ri\":[\"rs150055772\",\"rs200762071\",\"rs10206737\",\"rs60288156\",\"rs78249499\",\"rs73952545\",\"rs114097029\",\"rs2169812\",\"rs145115545\",\"rs137965476\",\"rs6542783\",\"rs940928\",\"rs13001699\",\"rs3827760\",\"rs12623957\",\"rs10865025\",\"rs538046270\",\"rs575749090\",\"rs115498426\",\"rs114946697\",\"rs79534778\",\"rs113868707\",\"rs13431945\",\"rs13411329\",\"rs16863471\",\"rs7607981\",\"rs80199364\",\"rs529478087\",\"rs36054640\",\"rs71050391\",\"rs986430\",\"rs986429\",\"rs11895863\",\"rs5838931\",\"rs2196751\",\"rs11690945\",\"rs66885466\",\"rs2218064\",\"rs16863473\",\"rs985473\",\"rs2218065\",\"rs571577163\",\"rs116218900\",\"rs114395204\",\"rs1477873\",\"rs75718680\",\"rs144220715\",\"rs79625021\",\"rs2590770\",\"rs17663341\",\"rs2590773\",\"rs2590771\",\"rs2668550\",\"rs2668552\",\"rs2616389\",\"rs6858782\",\"rs6818959\",\"rs6816209\",\"rs4864809\",\"rs547382339\",\"rs556210684\",\"rs62373865\",\"rs78627309\",\"rs75840444\",\"rs113558663\",\"rs17165103\",\"rs56169866\",\"rs111412119\",\"rs7702573\",\"rs187467669\",\"rs183280201\",\"rs10519929\",\"rs17165082\",\"rs146140674\",\"rs72786459\",\"rs246892\",\"rs33930493\",\"rs138731838\",\"rs2546806\",\"rs35527\",\"rs2546085\",\"rs2431724\",\"rs2585193\",\"rs200086613\",\"rs1422315\",\"rs970546\",\"rs2546081\",\"rs2546804\",\"rs13171067\",\"rs35796097\",\"rs2585191\",\"rs2546805\",\"rs13153845\",\"rs34208116\",\"rs2546803\",\"rs246947\",\"rs1816058\",\"rs1345664\",\"rs3050850\",\"rs2546808\",\"rs2585196\",\"rs246944\",\"rs559620165\",\"rs2161283\",\"rs246948\",\"rs2546082\",\"rs1345663\",\"rs1816059\",\"rs246896\",\"rs246943\",\"rs2585199\",\"rs2439927\",\"rs246945\",\"rs1160960\",\"rs2546807\",\"rs246885\",\"rs31470\",\"rs27782\",\"rs31471\",\"rs2546078\",\"rs2585198\",\"rs1345662\",\"rs2408868\",\"rs2018571\",\"rs1422317\",\"rs26945\",\"rs152121\",\"rs246886\",\"rs1422316\",\"rs2585197\",\"rs2546809\",\"rs152120\",\"rs2194079\",\"rs2585200\",\"rs1808378\",\"rs2032834\",\"rs12519784\",\"rs4836317\",\"rs4836318\",\"rs1422313\",\"rs4836316\",\"rs1363387\",\"rs112394041\",\"rs188125151\",\"rs112975519\",\"rs116664686\",\"rs184627304\",\"rs112056574\",\"rs17137451\",\"rs62444547\",\"rs79694830\",\"rs6943079\",\"rs10281571\",\"rs10277582\",\"rs4410790\",\"rs192308926\",\"rs368002927\",\"rs79307074\",\"rs79448181\",\"rs117717824\",\"rs1916976\",\"rs2690825\",\"rs2049604\",\"rs2690827\",\"rs2690826\",\"rs1527146\",\"rs543734954\",\"rs143445391\",\"rs114717896\",\"rs201844249\",\"rs76198889\",\"rs72742821\",\"rs77535266\",\"rs141964256\",\"rs72742822\",\"rs1063697\",\"rs16949091\",\"rs61543049\",\"rs55730328\",\"rs72625765\",\"rs539661160\",\"rs563322196\",\"rs372969314\",\"rs9783681\",\"rs35478778\",\"rs11412871\",\"rs35042613\",\"rs7496533\",\"rs141323436\",\"rs145741270\",\"rs11631784\",\"rs17861118\",\"rs2472297\",\"rs145741270\",\"rs17861120\",\"rs12441817\",\"rs11072500\",\"rs4886605\",\"rs112697364\"]},\"selected\":{\"id\":\"1243\",\"type\":\"Selection\"},\"selection_policy\":{\"id\":\"1244\",\"type\":\"UnionRenderers\"}},\"id\":\"1196\",\"type\":\"ColumnDataSource\"},{\"attributes\":{},\"id\":\"1172\",\"type\":\"BasicTicker\"},{\"attributes\":{\"filters\":[{\"id\":\"1203\",\"type\":\"GroupFilter\"}],\"source\":{\"id\":\"1196\",\"type\":\"ColumnDataSource\"}},\"id\":\"1204\",\"type\":\"CDSView\"},{\"attributes\":{},\"id\":\"1185\",\"type\":\"ResetTool\"}],\"root_ids\":[\"1161\"]},\"title\":\"Bokeh Application\",\"version\":\"1.4.0\"}};\n",
       "  var render_items = [{\"docid\":\"9c15035c-fd2c-440f-8940-2bd81f477efd\",\"roots\":{\"1161\":\"23eab958-44f7-4c01-85e1-2e5542853a6a\"}}];\n",
       "  root.Bokeh.embed.embed_items_notebook(docs_json, render_items);\n",
       "\n",
       "  }\n",
       "  if (root.Bokeh !== undefined) {\n",
       "    embed_document(root);\n",
       "  } else {\n",
       "    var attempts = 0;\n",
       "    var timer = setInterval(function(root) {\n",
       "      if (root.Bokeh !== undefined) {\n",
       "        clearInterval(timer);\n",
       "        embed_document(root);\n",
       "      } else {\n",
       "        attempts++;\n",
       "        if (attempts > 100) {\n",
       "          clearInterval(timer);\n",
       "          console.log(\"Bokeh: ERROR: Unable to run BokehJS code because BokehJS library is missing\");\n",
       "        }\n",
       "      }\n",
       "    }, 10, root)\n",
       "  }\n",
       "})(window);"
      ],
      "application/vnd.bokehjs_exec.v0+json": ""
     },
     "metadata": {
      "application/vnd.bokehjs_exec.v0+json": {
       "id": "1161"
      }
     },
     "output_type": "display_data"
    }
   ],
   "source": [
    "import varspark.hail.plot as vshlplt\n",
    "p = vshlplt.manhattan_imp(gwas_with_imp.importance, \n",
    "                            hover_fields=dict(ri=gwas_with_imp.rsid),\n",
    "                            significance_line = None)\n",
    "show(p)"
   ]
  },
  {
   "cell_type": "markdown",
   "metadata": {},
   "source": [
    "_Fig 2: Manhattan plot for rf gin importance values._"
   ]
  },
  {
   "cell_type": "markdown",
   "metadata": {},
   "source": [
    "## Compare logistc regression values vs. rf importance"
   ]
  },
  {
   "cell_type": "code",
   "execution_count": 15,
   "metadata": {},
   "outputs": [
    {
     "data": {
      "text/html": [
       "\n",
       "\n",
       "\n",
       "\n",
       "\n",
       "\n",
       "  <div class=\"bk-root\" id=\"9e4e5efe-13de-405c-9257-5fac9b77d3d0\" data-root-id=\"1326\"></div>\n"
      ]
     },
     "metadata": {},
     "output_type": "display_data"
    },
    {
     "data": {
      "application/javascript": [
       "(function(root) {\n",
       "  function embed_document(root) {\n",
       "    \n",
       "  var docs_json = {\"1b079820-2e46-4bb5-b7f1-bb93e264331d\":{\"roots\":{\"references\":[{\"attributes\":{\"below\":[{\"id\":\"1336\",\"type\":\"LinearAxis\"}],\"center\":[{\"id\":\"1340\",\"type\":\"Grid\"},{\"id\":\"1345\",\"type\":\"Grid\"}],\"left\":[{\"id\":\"1341\",\"type\":\"LinearAxis\"}],\"plot_height\":800,\"plot_width\":800,\"renderers\":[{\"id\":\"1365\",\"type\":\"GlyphRenderer\"}],\"title\":null,\"toolbar\":{\"id\":\"1352\",\"type\":\"Toolbar\"},\"x_range\":{\"id\":\"1328\",\"type\":\"DataRange1d\"},\"x_scale\":{\"id\":\"1332\",\"type\":\"LinearScale\"},\"y_range\":{\"id\":\"1330\",\"type\":\"DataRange1d\"},\"y_scale\":{\"id\":\"1334\",\"type\":\"LinearScale\"}},\"id\":\"1326\",\"subtype\":\"Figure\",\"type\":\"Plot\"},{\"attributes\":{},\"id\":\"1392\",\"type\":\"UnionRenderers\"},{\"attributes\":{\"source\":{\"id\":\"1361\",\"type\":\"ColumnDataSource\"}},\"id\":\"1366\",\"type\":\"CDSView\"},{\"attributes\":{\"dimension\":1,\"ticker\":{\"id\":\"1342\",\"type\":\"BasicTicker\"}},\"id\":\"1345\",\"type\":\"Grid\"},{\"attributes\":{},\"id\":\"1334\",\"type\":\"LinearScale\"},{\"attributes\":{},\"id\":\"1349\",\"type\":\"SaveTool\"},{\"attributes\":{\"bottom_units\":\"screen\",\"fill_alpha\":{\"value\":0.5},\"fill_color\":{\"value\":\"lightgrey\"},\"left_units\":\"screen\",\"level\":\"overlay\",\"line_alpha\":{\"value\":1.0},\"line_color\":{\"value\":\"black\"},\"line_dash\":[4,4],\"line_width\":{\"value\":2},\"render_mode\":\"css\",\"right_units\":\"screen\",\"top_units\":\"screen\"},\"id\":\"1390\",\"type\":\"BoxAnnotation\"},{\"attributes\":{\"axis_label\":\"gini importance\",\"formatter\":{\"id\":\"1387\",\"type\":\"BasicTickFormatter\"},\"ticker\":{\"id\":\"1342\",\"type\":\"BasicTicker\"}},\"id\":\"1341\",\"type\":\"LinearAxis\"},{\"attributes\":{},\"id\":\"1350\",\"type\":\"ResetTool\"},{\"attributes\":{},\"id\":\"1332\",\"type\":\"LinearScale\"},{\"attributes\":{\"axis_label\":\"-log10(p-value)\",\"formatter\":{\"id\":\"1389\",\"type\":\"BasicTickFormatter\"},\"ticker\":{\"id\":\"1337\",\"type\":\"BasicTicker\"}},\"id\":\"1336\",\"type\":\"LinearAxis\"},{\"attributes\":{\"callback\":null},\"id\":\"1330\",\"type\":\"DataRange1d\"},{\"attributes\":{},\"id\":\"1389\",\"type\":\"BasicTickFormatter\"},{\"attributes\":{\"callback\":null,\"tooltips\":[[\"x\",\"@x\"],[\"y\",\"@y\"],[\"rs\",\"@rs\"],[\"loc\",\"@loc\"]]},\"id\":\"1360\",\"type\":\"HoverTool\"},{\"attributes\":{\"data_source\":{\"id\":\"1361\",\"type\":\"ColumnDataSource\"},\"glyph\":{\"id\":\"1363\",\"type\":\"Circle\"},\"hover_glyph\":null,\"muted_glyph\":null,\"nonselection_glyph\":{\"id\":\"1364\",\"type\":\"Circle\"},\"selection_glyph\":null,\"view\":{\"id\":\"1366\",\"type\":\"CDSView\"}},\"id\":\"1365\",\"type\":\"GlyphRenderer\"},{\"attributes\":{},\"id\":\"1342\",\"type\":\"BasicTicker\"},{\"attributes\":{\"overlay\":{\"id\":\"1390\",\"type\":\"BoxAnnotation\"}},\"id\":\"1348\",\"type\":\"BoxZoomTool\"},{\"attributes\":{\"callback\":null},\"id\":\"1328\",\"type\":\"DataRange1d\"},{\"attributes\":{},\"id\":\"1337\",\"type\":\"BasicTicker\"},{\"attributes\":{},\"id\":\"1391\",\"type\":\"Selection\"},{\"attributes\":{},\"id\":\"1347\",\"type\":\"WheelZoomTool\"},{\"attributes\":{\"active_drag\":\"auto\",\"active_inspect\":\"auto\",\"active_multi\":null,\"active_scroll\":\"auto\",\"active_tap\":\"auto\",\"tools\":[{\"id\":\"1346\",\"type\":\"PanTool\"},{\"id\":\"1347\",\"type\":\"WheelZoomTool\"},{\"id\":\"1348\",\"type\":\"BoxZoomTool\"},{\"id\":\"1349\",\"type\":\"SaveTool\"},{\"id\":\"1350\",\"type\":\"ResetTool\"},{\"id\":\"1351\",\"type\":\"HelpTool\"},{\"id\":\"1360\",\"type\":\"HoverTool\"}]},\"id\":\"1352\",\"type\":\"Toolbar\"},{\"attributes\":{\"fill_color\":{\"value\":\"#1f77b4\"},\"line_color\":{\"value\":\"#1f77b4\"},\"x\":{\"field\":\"x\"},\"y\":{\"field\":\"y\"}},\"id\":\"1363\",\"type\":\"Circle\"},{\"attributes\":{\"ticker\":{\"id\":\"1337\",\"type\":\"BasicTicker\"}},\"id\":\"1340\",\"type\":\"Grid\"},{\"attributes\":{\"fill_alpha\":{\"value\":0.1},\"fill_color\":{\"value\":\"#1f77b4\"},\"line_alpha\":{\"value\":0.1},\"line_color\":{\"value\":\"#1f77b4\"},\"x\":{\"field\":\"x\"},\"y\":{\"field\":\"y\"}},\"id\":\"1364\",\"type\":\"Circle\"},{\"attributes\":{},\"id\":\"1387\",\"type\":\"BasicTickFormatter\"},{\"attributes\":{\"callback\":null,\"data\":{\"index\":[0,1,2,3,4,5,6,7,8,9,10,11,12,13,14,15,16,17,18,19,20,21,22,23,24,25,26,27,28,29,30,31,32,33,34,35,36,37,38,39,40,41,42,43,44,45,46,47,48,49,50,51,52,53,54,55,56,57,58,59,60,61,62,63,64,65,66,67,68,69,70,71,72,73,74,75,76,77,78,79,80,81,82,83,84,85,86,87,88,89,90,91,92,93,94,95,96,97,98,99,100,101,102,103,104,105,106,107,108,109,110,111,112,113,114,115,116,117,118,119,120,121,122,123,124,125,126,127,128,129,130,131,132,133,134,135,136,137,138,139,140,141,142,143,144,145,146,147,148,149,150,151,152,153,154,155,156,157,158,159,160,161,162,163,164,165,166,167,168,169,170,171,172,173,174,175,176,177,178,179,180,181,182,183,184,185,186,187,188,189,190,191,192,193,194,195,196,197,198,199,200,201,202,203,204,205,206,207,208,209,210,211,212,213,214,215,216,217,218,219,220,221,222,223,224,225,226,227,228,229,230,231,232,233,234,235,236,237,238,239,240,241,242,243,244,245,246,247,248,249,250,251,252,253,254,255,256,257,258,259,260,261,262,263,264,265,266,267,268,269,270,271,272,273,274,275,276,277,278,279,280,281,282,283,284,285,286,287,288,289,290,291,292,293,294,295,296,297,298,299,300,301,302,303,304,305,306,307,308,309,310,311,312,313,314,315,316,317,318,319,320,321,322,323,324,325,326,327,328,329,330,331,332,333,334,335,336,337,338,339,340,341,342,343,344,345,346,347,348,349,350,351,352,353,354,355,356,357,358,359,360,361,362,363,364,365,366,367,368,369,370,371,372,373,374,375,376,377,378,379,380,381,382,383,384,385,386,387,388,389,390,391,392,393,394,395,396,397,398,399,400,401,402,403,404,405,406,407,408,409,410,411,412,413,414,415,416,417,418,419,420,421,422,423,424,425,426,427,428,429,430,431,432,433,434,435,436,437,438,439,440,441,442,443,444,445,446,447,448,449,450,451,452,453,454,455,456,457,458,459,460,461,462,463,464,465,466,467,468,469,470,471,472,473,474,475,476,477,478,479,480,481,482,483,484,485,486,487,488,489,490,491,492,493,494,495,496,497,498,499,500,501,502,503,504,505,506,507,508,509,510,511,512,513,514,515,516,517,518,519,520,521,522,523,524,525],\"loc\":[\"2:109511398\",\"2:109513785\",\"5:126640893\",\"5:126672621\",\"5:126717058\",\"2:109515229\",\"15:66258762\",\"2:109514754\",\"2:109512115\",\"15:66368339\",\"15:66293576\",\"15:66259108\",\"15:66437036\",\"15:66367576\",\"15:66392652\",\"15:66500990\",\"15:66419034\",\"15:66397022\",\"2:109511527\",\"2:109511758\",\"4:54511177\",\"4:54513755\",\"2:109514224\",\"5:126664084\",\"5:126701190\",\"15:66288134\",\"15:66272733\",\"15:66327823\",\"15:66282840\",\"15:66308817\",\"15:66373866\",\"15:66372912\",\"15:66398948\",\"15:66498409\",\"15:66420014\",\"2:109511454\",\"2:109511666\",\"2:109512468\",\"2:223031897\",\"5:126770604\",\"5:126751361\",\"2:109512230\",\"15:66371875\",\"15:66371877\",\"15:66282596\",\"15:66206437\",\"15:66309124\",\"15:66284998\",\"15:66372477\",\"15:66360224\",\"15:66420174\",\"15:66417844\",\"15:66368685\",\"2:109511525\",\"2:109513987\",\"2:109514579\",\"2:109515238\",\"5:126700140\",\"5:126693671\",\"2:109513321\",\"2:109514056\",\"5:126694200\",\"15:66234857\",\"15:66332288\",\"15:66332280\",\"15:66284969\",\"15:66324341\",\"15:66227660\",\"15:66359605\",\"15:66359486\",\"2:109511706\",\"2:223035136\",\"5:126712316\",\"5:126721410\",\"2:109512256\",\"5:126669211\",\"15:66490680\",\"2:109511467\",\"15:66404128\",\"15:66244025\",\"15:66245497\",\"4:54510555\",\"15:66301584\",\"15:66397161\",\"15:66360842\",\"15:66389902\",\"4:54511847\",\"15:66397242\",\"2:223033124\",\"2:109513109\",\"2:109515567\",\"5:126675101\",\"15:66186061\",\"5:126685019\",\"15:66275967\",\"15:66244175\",\"15:66404169\",\"15:66205498\",\"15:66251595\",\"15:66328481\",\"15:66359710\",\"15:66361057\",\"15:66455564\",\"2:223032680\",\"5:126664057\",\"5:126716639\",\"5:126727794\",\"5:126659404\",\"5:126686583\",\"15:66196997\",\"15:66261730\",\"15:66519507\",\"15:66303141\",\"15:66258023\",\"15:66303253\",\"2:109514464\",\"15:66296764\",\"15:66263374\",\"15:66438085\",\"5:126631824\",\"5:126661859\",\"5:126658266\",\"5:126625964\",\"2:223036256\",\"15:66249102\",\"15:66247768\",\"15:66480107\",\"15:66280111\",\"15:66320806\",\"15:66487222\",\"15:66358474\",\"15:66330946\",\"15:66478017\",\"4:54509910\",\"5:126625757\",\"5:126636166\",\"2:109515025\",\"5:126644306\",\"5:126676554\",\"15:66371962\",\"2:109512428\",\"2:109515632\",\"2:109514105\",\"15:66213698\",\"15:75029399\",\"7:113988537\",\"5:126656761\",\"5:126632055\",\"4:54513653\",\"5:126651089\",\"5:126638066\",\"5:126726073\",\"5:126651982\",\"5:126719845\",\"15:66193404\",\"15:66442953\",\"15:66469990\",\"15:66332864\",\"15:75025814\",\"4:54513106\",\"7:113987281\",\"5:126665815\",\"5:126637966\",\"2:109512364\",\"5:126692229\",\"5:126693357\",\"15:66268217\",\"15:66268827\",\"5:126766903\",\"5:126726669\",\"15:66224813\",\"15:66529223\",\"15:66300745\",\"2:109514192\",\"15:66304403\",\"4:54512752\",\"4:54511203\",\"5:126626099\",\"5:126626288\",\"2:223034770\",\"5:126641571\",\"5:126692562\",\"5:126675888\",\"15:66275546\",\"15:66349495\",\"15:66245880\",\"5:126713606\",\"5:126716060\",\"15:66300341\",\"15:66462352\",\"2:109512234\",\"7:17284085\",\"5:126649405\",\"5:126642369\",\"5:126650817\",\"5:126635383\",\"5:126760928\",\"5:126673159\",\"5:126737444\",\"5:126738041\",\"5:126737186\",\"5:126736832\",\"15:66270361\",\"15:66301813\",\"2:109513786\",\"15:66527853\",\"5:126655604\",\"2:223031933\",\"5:126643533\",\"5:126633442\",\"4:54510021\",\"15:66476229\",\"15:66357458\",\"15:66185803\",\"15:66339400\",\"2:109513601\",\"15:66293780\",\"15:66453760\",\"5:126641982\",\"5:126654751\",\"2:223034162\",\"2:223031835\",\"2:223033853\",\"5:126735430\",\"5:126696556\",\"15:66264965\",\"15:66471172\",\"15:66341925\",\"15:66264944\",\"15:66294695\",\"15:66260432\",\"15:66299460\",\"2:109511765\",\"4:54514026\",\"15:66331497\",\"5:126629021\",\"4:54510826\",\"5:126713824\",\"5:126773859\",\"5:126631736\",\"5:126695040\",\"5:126630327\",\"15:66266116\",\"5:126724209\",\"4:54512721\",\"15:66482259\",\"2:109514985\",\"4:54510427\",\"4:54511246\",\"15:66351526\",\"5:126653342\",\"5:126644814\",\"5:126625827\",\"5:126798031\",\"5:126781446\",\"5:126785310\",\"15:66249807\",\"15:66479057\",\"15:66465816\",\"15:66335979\",\"15:66483512\",\"15:66504551\",\"5:126798856\",\"5:126645650\",\"15:66301377\",\"15:66272605\",\"15:66299964\",\"15:66374639\",\"15:66282617\",\"15:66259809\",\"15:66264100\",\"15:66390090\",\"2:223032002\",\"2:223033867\",\"5:126653091\",\"15:66382987\",\"15:66382336\",\"5:126627233\",\"15:66295812\",\"15:66307304\",\"5:126655009\",\"5:126798558\",\"5:126705920\",\"5:126795159\",\"15:66217240\",\"15:66480216\",\"5:126657860\",\"15:66317465\",\"5:126729450\",\"2:223035359\",\"15:66267469\",\"15:66508895\",\"15:66267107\",\"15:66301934\",\"5:126764698\",\"15:66333100\",\"7:113990352\",\"5:126681193\",\"5:126663759\",\"5:126662370\",\"5:126713978\",\"15:66380254\",\"5:126789986\",\"5:126722859\",\"5:126745230\",\"15:66327924\",\"5:126642357\",\"5:126677978\",\"5:126684179\",\"5:126706883\",\"15:66269804\",\"5:126631791\",\"5:126645727\",\"15:66326871\",\"5:126662820\",\"5:126667268\",\"15:66323837\",\"5:126661686\",\"5:126776307\",\"15:66400117\",\"5:126667126\",\"5:126689935\",\"15:66271429\",\"15:75028490\",\"5:126666529\",\"15:66272491\",\"5:126625593\",\"5:126625592\",\"5:126625758\",\"5:126630875\",\"5:126689269\",\"5:126689790\",\"5:126669834\",\"5:126683373\",\"5:126688726\",\"5:126683321\",\"15:66269504\",\"15:75025988\",\"2:223032504\",\"5:126735334\",\"15:66271772\",\"5:126695127\",\"5:126697755\",\"5:126678028\",\"5:126636000\",\"5:126633404\",\"5:126636244\",\"5:126639196\",\"2:223033196\",\"15:66438961\",\"2:223032943\",\"5:126701622\",\"2:223033006\",\"5:126683590\",\"5:126688400\",\"5:126655361\",\"5:126636782\",\"5:126675780\",\"5:126672710\",\"5:126675068\",\"5:126663406\",\"5:126715151\",\"5:126634444\",\"2:223034758\",\"5:126653607\",\"5:126644632\",\"7:17285867\",\"4:54513819\",\"5:126793219\",\"5:126777362\",\"5:126767961\",\"2:223032642\",\"2:223032399\",\"2:223033396\",\"7:17284989\",\"5:126796585\",\"5:126723562\",\"5:126795246\",\"4:54510874\",\"5:126710915\",\"4:54509759\",\"5:126630491\",\"5:126773180\",\"4:54511913\",\"5:126769874\",\"5:126744956\",\"5:126661600\",\"5:126731876\",\"5:126751728\",\"5:126717984\",\"5:126725054\",\"5:126797404\",\"5:126725568\",\"5:126726847\",\"5:126699347\",\"5:126726851\",\"5:126697138\",\"5:126796531\",\"5:126797292\",\"5:126715759\",\"5:126687687\",\"5:126686756\",\"5:126657432\",\"5:126773064\",\"5:126780212\",\"5:126775113\",\"2:223035313\",\"5:126661519\",\"5:126694523\",\"5:126693265\",\"5:126669209\",\"2:223033978\",\"2:223033030\",\"5:126645710\",\"5:126739085\",\"5:126698023\",\"5:126683416\",\"5:126782325\",\"5:126780344\",\"5:126772748\",\"5:126792974\",\"5:126693280\",\"5:126775462\",\"2:223035940\",\"5:126669004\",\"2:223035211\",\"5:126645705\",\"5:126667551\",\"5:126683809\",\"5:126682354\",\"5:126731259\",\"5:126727008\",\"2:223033642\",\"2:223034660\",\"5:126642675\",\"5:126642148\",\"5:126652742\",\"5:126642563\",\"5:126641296\",\"5:126644396\",\"5:126642920\",\"5:126641770\",\"5:126644769\",\"5:126644552\",\"5:126643590\",\"5:126685374\",\"5:126645343\",\"5:126640971\",\"5:126653950\",\"5:126645738\",\"5:126639025\",\"5:126637872\",\"5:126639135\",\"7:17284577\",\"5:126683883\",\"5:126682039\",\"5:126639801\",\"5:126659892\",\"5:126640205\",\"5:126658500\",\"5:126656324\",\"5:126633436\",\"5:126656998\",\"5:126633958\",\"5:126660301\",\"5:126652407\",\"5:126657766\",\"5:126646864\",\"5:126650805\",\"5:126644401\",\"5:126653809\",\"5:126650411\",\"5:126641654\",\"5:126640576\",\"5:126651068\",\"5:126644681\",\"5:126654623\",\"5:126645646\",\"5:126635437\",\"5:126698345\",\"5:126694437\",\"5:126679697\",\"5:126688517\",\"5:126689489\",\"5:126689438\",\"5:126687822\",\"5:126640246\",\"5:126652710\",\"5:126650182\",\"5:126679402\",\"5:126661774\",\"5:126625548\",\"5:126668683\",\"5:126674613\",\"5:126664039\",\"5:126648201\",\"5:126661380\",\"5:126628098\",\"5:126639097\",\"5:126657217\",\"5:126639432\",\"5:126664981\",\"5:126662114\",\"5:126632821\",\"5:126632848\",\"5:126635667\",\"5:126635083\",\"5:126635055\",\"5:126656500\",\"5:126636211\",\"5:126655749\",\"5:126631841\",\"5:126655730\",\"5:126654970\",\"5:126647941\",\"5:126633827\",\"5:126629170\",\"2:223034082\",\"5:126626645\",\"5:126628771\",\"5:126629112\",\"5:126630016\",\"5:126628584\",\"5:126630948\",\"5:126627875\",\"5:126626044\"],\"rs\":[\"rs150055772\",\"rs189753082\",\"rs144655867\",\"rs79533077\",\"rs191687436\",\"rs79444434\",\"rs28495830\",\"rs4676219\",\"rs75155869\",\"rs144078416\",\"rs75687954\",\"rs2113690\",\"rs7174196\",\"rs1550030\",\"rs7172217\",\"rs35615386\",\"rs1477801\",\"rs6494552\",\"rs574502076\",\"rs548040744\",\"rs114395204\",\"rs77629803\",\"rs78249499\",\"rs2585205\",\"rs17165035\",\"rs77751535\",\"rs535038974\",\"rs74368114\",\"rs2004127\",\"rs551668229\",\"rs62011838\",\"rs11634212\",\"rs6494553\",\"rs11634401\",\"rs16949541\",\"rs558429529\",\"rs545744696\",\"rs115259025\",\"rs111488274\",\"rs11273003\",\"rs201438247\",\"rs114097029\",\"rs56067269\",\"rs117273652\",\"rs746648\",\"rs16949096\",\"rs12592821\",\"rs75056469\",\"rs8035662\",\"rs8027897\",\"rs7179044\",\"rs17241929\",\"rs11412871\",\"rs147877575\",\"rs151214951\",\"rs7591765\",\"rs61447904\",\"rs76676895\",\"rs74384421\",\"rs7607563\",\"rs2169812\",\"rs34817464\",\"rs148315888\",\"rs534981188\",\"rs548927906\",\"rs16949217\",\"rs333586\",\"rs539661160\",\"rs55781516\",\"rs9783681\",\"rs200168149\",\"rs184491207\",\"rs73344999\",\"rs17165010\",\"rs73952545\",\"rs3050852\",\"rs78638359\",\"rs145115545\",\"rs12148601\",\"rs557763197;rs565732226\",\"rs333548\",\"rs144220715\",\"rs530957259\",\"rs34890708\",\"rs1369159\",\"rs12439661\",\"rs17730883\",\"rs35478778\",\"rs114196416\",\"rs148961371\",\"rs76935644\",\"rs57261222\",\"rs72742821\",\"rs58043513\",\"rs11638943\",\"rs55812611\",\"rs11071859\",\"rs16949091\",\"rs333565\",\"rs189155\",\"rs11633172\",\"rs2899714\",\"rs1477796\",\"rs371522534\",\"rs139462045\",\"rs73346905\",\"rs73346940\",\"rs75801243\",\"rs72786500\",\"rs77535266\",\"rs7168215\",\"rs7170773\",\"rs425030\",\"rs66856851\",\"rs5813372\",\"rs940928\",\"rs150027980\",\"rs333557\",\"rs7181974\",\"rs545921569\",\"rs7705580\",\"rs11955086\",\"rs10519930\",\"rs79922615\",\"rs2113689\",\"rs75265185\",\"rs3082855\",\"rs72742861\",\"rs333580\",\"rs12904629\",\"rs8036078\",\"rs1465485\",\"rs10851751\",\"rs139265415\",\"rs116760623\",\"rs146073831\",\"rs60288156\",\"rs144120128\",\"rs17165041\",\"rs75530576\",\"rs3749096\",\"rs137965476\",\"rs6542783\",\"rs16949100\",\"rs8030076\",\"rs2690826\",\"rs144355010\",\"rs150961227\",\"rs539249144;rs200448899\",\"rs114372912\",\"rs80026451\",\"rs11952947\",\"rs192993949\",\"rs10519936\",\"rs1063697\",\"rs550598582;rs571338567\",\"rs1382052\",\"rs59651556\",\"rs12441817\",\"rs2668550\",\"rs1527146\",\"rs371234883\",\"rs76396046\",\"rs10206737\",\"rs56217196\",\"rs74290651\",\"rs72742844\",\"rs72742845\",\"rs6595773\",\"rs6874521\",\"rs78767632\",\"rs4776767\",\"rs1991144\",\"rs2378217\",\"rs113413922\",\"rs2590773\",\"rs2590771\",\"rs144701115\",\"rs142722272\",\"rs201276449\",\"rs74384711\",\"rs74776185\",\"rs147858479\",\"rs17239740\",\"rs333577\",\"rs77976268\",\"rs1363388\",\"rs6886487\",\"rs432170\",\"rs566112961;rs546156411\",\"rs13001699\",\"rs6943079\",\"rs115859035\",\"rs151097298\",\"rs76886238\",\"rs79449805\",\"rs17164957\",\"rs17165043\",\"rs12233927\",\"rs11952552\",\"rs56006993\",\"rs1363631\",\"rs425829\",\"rs2552181\",\"rs3789738\",\"rs5813385\",\"rs78834003\",\"rs115498426\",\"rs115021097\",\"rs75811918\",\"rs75718680\",\"rs115227715\",\"rs1351032\",\"rs61543049\",\"rs333603\",\"rs3827760\",\"rs2552177\",\"rs4776754\",\"rs114403661\",\"rs185150222\",\"rs73990988\",\"rs114946697\",\"rs79534778\",\"rs251031\",\"rs114300755\",\"rs183481\",\"rs1871002\",\"rs333608\",\"rs435990\",\"rs333544\",\"rs72625765\",\"rs2552176\",\"rs10865025\",\"rs79162003\",\"rs390919\",\"rs74472247\",\"rs1477873\",\"rs35530\",\"rs2408871\",\"rs17165103\",\"rs564744176\",\"rs111412119\",\"rs333564\",\"rs368047649\",\"rs73250977\",\"rs7181353\",\"rs11689836\",\"rs2668552\",\"rs2616389\",\"rs4776712\",\"rs147883627\",\"rs60337565\",\"rs3812058\",\"rs17164923\",\"rs2270933\",\"rs41298320\",\"rs333569\",\"rs1351031\",\"rs11071863\",\"rs4776276\",\"rs7164771\",\"rs10152285\",\"rs73348777\",\"rs78802780\",\"rs434416\",\"rs437111\",\"rs417442\",\"rs4776720\",\"rs2414897\",\"rs333554\",\"rs333559\",\"rs59635353\",\"rs7607981\",\"rs80199364\",\"rs146195344\",\"rs6494550\",\"rs8041690\",\"rs79637336\",\"rs10639458\",\"rs11350229\",\"rs143156276\",\"rs17164922\",\"rs1422318\",\"rs3756721\",\"rs12903123\",\"rs899079\",\"rs59539946\",\"rs621616\",\"rs143954261\",\"rs13431945\",\"rs409309\",\"rs55922529\",\"rs2552183\",\"rs147698593\",\"rs17164951\",\"rs170781\",\"rs2049604\",\"rs114244425\",\"rs17762863\",\"rs76302267\",\"rs113289788\",\"rs1600053\",\"rs76912327\",\"rs6881894\",\"rs3844184\",\"rs333592\",\"rs116194529\",\"rs17684525\",\"rs79699136\",\"rs12657844\",\"rs511563\",\"rs17165102\",\"rs140948654\",\"rs333588\",\"rs17762857\",\"rs17684438\",\"rs333584\",\"rs114484030\",\"rs60681812\",\"rs1993832\",\"rs10519949\",\"rs55918025\",\"rs368614\",\"rs11072500\",\"rs551009886;rs6862045\",\"rs388813\",\"rs187467669\",\"rs183280201\",\"rs10519929\",\"rs146140674\",\"rs73344963\",\"rs73344964\",\"rs4836320\",\"rs56144110\",\"rs73344962\",\"rs56096254\",\"rs372969314\",\"rs4886605\",\"rs36054640\",\"rs10519939\",\"rs428658\",\"rs35528\",\"rs78259230\",\"rs17839696\",\"rs7702573\",\"rs73785574\",\"rs73785576\",\"rs56169866\",\"rs13411329\",\"rs35259179\",\"rs16863471\",\"rs35524\",\"rs529478087\",\"rs72786494\",\"rs72788505\",\"rs73785580\",\"rs17165082\",\"rs78120546\",\"rs77589749\",\"rs17673170\",\"rs11285616\",\"rs79713470\",\"rs2194080\",\"rs71050391\",\"rs138731838\",\"rs72786459\",\"rs10281571\",\"rs6858782\",\"rs10793809\",\"rs59745564\",\"rs6866678\",\"rs986430\",\"rs986429\",\"rs11895863\",\"rs10277582\",\"rs2898043\",\"rs9327438\",\"rs3756722\",\"rs6816209\",\"rs34537147\",\"rs6818959\",\"rs200086613\",\"rs6859181\",\"rs4864809\",\"rs10078629\",\"rs56320297\",\"rs33930493\",\"rs2059084\",\"rs6595770\",\"rs35529\",\"rs10041484\",\"rs4836324\",\"rs4401615\",\"rs2008432\",\"rs35525\",\"rs1318923\",\"rs35527\",\"rs35236935\",\"rs4836323\",\"rs113091845\",\"rs43148\",\"rs185030\",\"rs246889\",\"rs6859304\",\"rs12516897\",\"rs34451603\",\"rs66885466\",\"rs10550881\",\"rs27563\",\"rs246892\",\"rs145619126\",\"rs2196751\",\"rs16863473\",\"rs541675801\",\"rs6877254\",\"rs35156178\",\"rs187514\",\"rs10072587\",\"rs10519941\",\"rs12514969\",\"rs3812052\",\"rs144085293\",\"rs2408872\",\"rs11690945\",\"rs26944\",\"rs5838931\",\"rs201053818\",\"rs27562\",\"rs27388\",\"rs246894\",\"rs13171067\",\"rs1019482\",\"rs2218064\",\"rs985473\",\"rs2546084\",\"rs2585192\",\"rs246946\",\"rs2546083\",\"rs2585194\",\"rs2546802\",\"rs2546085\",\"rs2585193\",\"rs1422315\",\"rs2546804\",\"rs2585191\",\"rs550745558\",\"rs2546086\",\"rs2546081\",\"rs246948\",\"rs13153845\",\"rs2546079\",\"rs2546806\",\"rs2546808\",\"rs4410790\",\"rs27652\",\"rs246895\",\"rs2431724\",\"rs34208116\",\"rs1816058\",\"rs152122\",\"rs3050850\",\"rs970546\",\"rs246888\",\"rs2585196\",\"rs31472\",\"rs246944\",\"rs559620165\",\"rs2161283\",\"rs2546087\",\"rs2546803\",\"rs246947\",\"rs1345664\",\"rs2546082\",\"rs2546080\",\"rs246943\",\"rs2254762\",\"rs2439927\",\"rs2546805\",\"rs35796097\",\"rs35526\",\"rs26947\",\"rs246896\",\"rs185033\",\"rs26946\",\"rs1160960\",\"rs36308\",\"rs1816059\",\"rs246945\",\"rs1345663\",\"rs246897\",\"rs31470\",\"rs2408868\",\"rs2546078\",\"rs27782\",\"rs36307\",\"rs1422317\",\"rs31471\",\"rs2194079\",\"rs2546807\",\"rs152121\",\"rs2585195\",\"rs27749\",\"rs26945\",\"rs2585199\",\"rs2585198\",\"rs1345662\",\"rs2018571\",\"rs1808378\",\"rs152120\",\"rs2546809\",\"rs246887\",\"rs2585200\",\"rs246886\",\"rs246885\",\"rs1422316\",\"rs2585197\",\"rs12519784\",\"rs2218065\",\"rs2032834\",\"rs4836317\",\"rs4836318\",\"rs1422313\",\"rs112394041\",\"rs2059083\",\"rs4836316\",\"rs1363387\"],\"x\":{\"__ndarray__\":\"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\",\"dtype\":\"float64\",\"shape\":[526]},\"y\":{\"__ndarray__\":\"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\",\"dtype\":\"float64\",\"shape\":[526]}},\"selected\":{\"id\":\"1391\",\"type\":\"Selection\"},\"selection_policy\":{\"id\":\"1392\",\"type\":\"UnionRenderers\"}},\"id\":\"1361\",\"type\":\"ColumnDataSource\"},{\"attributes\":{},\"id\":\"1346\",\"type\":\"PanTool\"},{\"attributes\":{},\"id\":\"1351\",\"type\":\"HelpTool\"}],\"root_ids\":[\"1326\"]},\"title\":\"Bokeh Application\",\"version\":\"1.4.0\"}};\n",
       "  var render_items = [{\"docid\":\"1b079820-2e46-4bb5-b7f1-bb93e264331d\",\"roots\":{\"1326\":\"9e4e5efe-13de-405c-9257-5fac9b77d3d0\"}}];\n",
       "  root.Bokeh.embed.embed_items_notebook(docs_json, render_items);\n",
       "\n",
       "  }\n",
       "  if (root.Bokeh !== undefined) {\n",
       "    embed_document(root);\n",
       "  } else {\n",
       "    var attempts = 0;\n",
       "    var timer = setInterval(function(root) {\n",
       "      if (root.Bokeh !== undefined) {\n",
       "        clearInterval(timer);\n",
       "        embed_document(root);\n",
       "      } else {\n",
       "        attempts++;\n",
       "        if (attempts > 100) {\n",
       "          clearInterval(timer);\n",
       "          console.log(\"Bokeh: ERROR: Unable to run BokehJS code because BokehJS library is missing\");\n",
       "        }\n",
       "      }\n",
       "    }, 10, root)\n",
       "  }\n",
       "})(window);"
      ],
      "application/vnd.bokehjs_exec.v0+json": ""
     },
     "metadata": {
      "application/vnd.bokehjs_exec.v0+json": {
       "id": "1326"
      }
     },
     "output_type": "display_data"
    }
   ],
   "source": [
    "p = hl.plot.scatter(x=-hl.log10(gwas_with_imp.p_value),\n",
    "                    y=gwas_with_imp.importance, \n",
    "                    xlabel = '-log10(p-value)',\n",
    "                    ylabel = 'gini importance',\n",
    "                    hover_fields=dict(rs=gwas_with_imp.rsid, loc=gwas_with_imp.locus))\n",
    "show(p)"
   ]
  },
  {
   "cell_type": "markdown",
   "metadata": {},
   "source": [
    "_Fig 3: Compare gini importance vs logistic regresion p-values._"
   ]
  },
  {
   "cell_type": "code",
   "execution_count": 16,
   "metadata": {},
   "outputs": [],
   "source": [
    "hl.stop()"
   ]
  }
 ],
 "metadata": {
  "kernelspec": {
   "display_name": "Python 3 (ipykernel)",
   "language": "python",
   "name": "python3"
  },
  "language_info": {
   "codemirror_mode": {
    "name": "ipython",
    "version": 3
   },
   "file_extension": ".py",
   "mimetype": "text/x-python",
   "name": "python",
   "nbconvert_exporter": "python",
   "pygments_lexer": "ipython3",
   "version": "3.8.12"
  }
 },
 "nbformat": 4,
 "nbformat_minor": 2
}
