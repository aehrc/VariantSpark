{
 "cells": [
  {
   "cell_type": "markdown",
   "metadata": {},
   "source": [
    "VariantSpark integration with Hail 0.2\n",
    "==============================\n",
    "\n",
    "## Bootstrap\n",
    "\n",
    "Use `vshl.init()` to include `variant-spark` jar on the classpath. "
   ]
  },
  {
   "cell_type": "code",
   "execution_count": 1,
   "metadata": {},
   "outputs": [
    {
     "name": "stderr",
     "output_type": "stream",
     "text": [
      "using variant-spark jar at '/Users/reg032/workspace/VariantSpark/target/variant-spark_2.11-0.5.0-a0-dev0-all.jar'\n",
      "22/05/09 14:34:16 WARN NativeCodeLoader: Unable to load native-hadoop library for your platform... using builtin-java classes where applicable\n",
      "Using Spark's default log4j profile: org/apache/spark/log4j-defaults.properties\n",
      "Setting default log level to \"WARN\".\n",
      "To adjust logging level use sc.setLogLevel(newLevel). For SparkR, use setLogLevel(newLevel).\n",
      "22/05/09 14:34:16 WARN Hail: This Hail JAR was compiled for Spark 3.1.1, running with Spark 3.1.2.\n",
      "  Compatibility is not guaranteed.\n",
      "22/05/09 14:34:17 WARN Utils: Service 'SparkUI' could not bind on port 4040. Attempting port 4041.\n",
      "22/05/09 14:34:17 WARN Utils: Service 'SparkUI' could not bind on port 4041. Attempting port 4042.\n",
      "22/05/09 14:34:17 WARN Utils: Service 'SparkUI' could not bind on port 4042. Attempting port 4043.\n",
      "22/05/09 14:34:17 WARN Utils: Service 'SparkUI' could not bind on port 4043. Attempting port 4044.\n",
      "22/05/09 14:34:17 WARN Utils: Service 'SparkUI' could not bind on port 4044. Attempting port 4045.\n",
      "Running on Apache Spark version 3.1.2\n",
      "SparkUI available at http://192.168.86.23:4045\n",
      "Welcome to\n",
      "     __  __     <>__\n",
      "    / /_/ /__  __/ /\n",
      "   / __  / _ `/ / /\n",
      "  /_/ /_/\\_,_/_/_/   version 0.2.74-0c3a74d12093\n",
      "LOGGING: writing to /Users/reg032/workspace/hail-20220509-1434-0.2.74-0c3a74d12093.log\n"
     ]
    }
   ],
   "source": [
    "import hail as hl\n",
    "import varspark.hail as vshl\n",
    "vshl.init()"
   ]
  },
  {
   "cell_type": "code",
   "execution_count": 2,
   "metadata": {},
   "outputs": [
    {
     "data": {
      "text/html": [
       "\n",
       "    <div class=\"bk-root\">\n",
       "        <a href=\"https://bokeh.org\" target=\"_blank\" class=\"bk-logo bk-logo-small bk-logo-notebook\"></a>\n",
       "        <span id=\"1001\">Loading BokehJS ...</span>\n",
       "    </div>"
      ]
     },
     "metadata": {},
     "output_type": "display_data"
    },
    {
     "data": {
      "application/javascript": [
       "\n",
       "(function(root) {\n",
       "  function now() {\n",
       "    return new Date();\n",
       "  }\n",
       "\n",
       "  var force = true;\n",
       "\n",
       "  if (typeof root._bokeh_onload_callbacks === \"undefined\" || force === true) {\n",
       "    root._bokeh_onload_callbacks = [];\n",
       "    root._bokeh_is_loading = undefined;\n",
       "  }\n",
       "\n",
       "  var JS_MIME_TYPE = 'application/javascript';\n",
       "  var HTML_MIME_TYPE = 'text/html';\n",
       "  var EXEC_MIME_TYPE = 'application/vnd.bokehjs_exec.v0+json';\n",
       "  var CLASS_NAME = 'output_bokeh rendered_html';\n",
       "\n",
       "  /**\n",
       "   * Render data to the DOM node\n",
       "   */\n",
       "  function render(props, node) {\n",
       "    var script = document.createElement(\"script\");\n",
       "    node.appendChild(script);\n",
       "  }\n",
       "\n",
       "  /**\n",
       "   * Handle when an output is cleared or removed\n",
       "   */\n",
       "  function handleClearOutput(event, handle) {\n",
       "    var cell = handle.cell;\n",
       "\n",
       "    var id = cell.output_area._bokeh_element_id;\n",
       "    var server_id = cell.output_area._bokeh_server_id;\n",
       "    // Clean up Bokeh references\n",
       "    if (id != null && id in Bokeh.index) {\n",
       "      Bokeh.index[id].model.document.clear();\n",
       "      delete Bokeh.index[id];\n",
       "    }\n",
       "\n",
       "    if (server_id !== undefined) {\n",
       "      // Clean up Bokeh references\n",
       "      var cmd = \"from bokeh.io.state import curstate; print(curstate().uuid_to_server['\" + server_id + \"'].get_sessions()[0].document.roots[0]._id)\";\n",
       "      cell.notebook.kernel.execute(cmd, {\n",
       "        iopub: {\n",
       "          output: function(msg) {\n",
       "            var id = msg.content.text.trim();\n",
       "            if (id in Bokeh.index) {\n",
       "              Bokeh.index[id].model.document.clear();\n",
       "              delete Bokeh.index[id];\n",
       "            }\n",
       "          }\n",
       "        }\n",
       "      });\n",
       "      // Destroy server and session\n",
       "      var cmd = \"import bokeh.io.notebook as ion; ion.destroy_server('\" + server_id + \"')\";\n",
       "      cell.notebook.kernel.execute(cmd);\n",
       "    }\n",
       "  }\n",
       "\n",
       "  /**\n",
       "   * Handle when a new output is added\n",
       "   */\n",
       "  function handleAddOutput(event, handle) {\n",
       "    var output_area = handle.output_area;\n",
       "    var output = handle.output;\n",
       "\n",
       "    // limit handleAddOutput to display_data with EXEC_MIME_TYPE content only\n",
       "    if ((output.output_type != \"display_data\") || (!output.data.hasOwnProperty(EXEC_MIME_TYPE))) {\n",
       "      return\n",
       "    }\n",
       "\n",
       "    var toinsert = output_area.element.find(\".\" + CLASS_NAME.split(' ')[0]);\n",
       "\n",
       "    if (output.metadata[EXEC_MIME_TYPE][\"id\"] !== undefined) {\n",
       "      toinsert[toinsert.length - 1].firstChild.textContent = output.data[JS_MIME_TYPE];\n",
       "      // store reference to embed id on output_area\n",
       "      output_area._bokeh_element_id = output.metadata[EXEC_MIME_TYPE][\"id\"];\n",
       "    }\n",
       "    if (output.metadata[EXEC_MIME_TYPE][\"server_id\"] !== undefined) {\n",
       "      var bk_div = document.createElement(\"div\");\n",
       "      bk_div.innerHTML = output.data[HTML_MIME_TYPE];\n",
       "      var script_attrs = bk_div.children[0].attributes;\n",
       "      for (var i = 0; i < script_attrs.length; i++) {\n",
       "        toinsert[toinsert.length - 1].firstChild.setAttribute(script_attrs[i].name, script_attrs[i].value);\n",
       "      }\n",
       "      // store reference to server id on output_area\n",
       "      output_area._bokeh_server_id = output.metadata[EXEC_MIME_TYPE][\"server_id\"];\n",
       "    }\n",
       "  }\n",
       "\n",
       "  function register_renderer(events, OutputArea) {\n",
       "\n",
       "    function append_mime(data, metadata, element) {\n",
       "      // create a DOM node to render to\n",
       "      var toinsert = this.create_output_subarea(\n",
       "        metadata,\n",
       "        CLASS_NAME,\n",
       "        EXEC_MIME_TYPE\n",
       "      );\n",
       "      this.keyboard_manager.register_events(toinsert);\n",
       "      // Render to node\n",
       "      var props = {data: data, metadata: metadata[EXEC_MIME_TYPE]};\n",
       "      render(props, toinsert[toinsert.length - 1]);\n",
       "      element.append(toinsert);\n",
       "      return toinsert\n",
       "    }\n",
       "\n",
       "    /* Handle when an output is cleared or removed */\n",
       "    events.on('clear_output.CodeCell', handleClearOutput);\n",
       "    events.on('delete.Cell', handleClearOutput);\n",
       "\n",
       "    /* Handle when a new output is added */\n",
       "    events.on('output_added.OutputArea', handleAddOutput);\n",
       "\n",
       "    /**\n",
       "     * Register the mime type and append_mime function with output_area\n",
       "     */\n",
       "    OutputArea.prototype.register_mime_type(EXEC_MIME_TYPE, append_mime, {\n",
       "      /* Is output safe? */\n",
       "      safe: true,\n",
       "      /* Index of renderer in `output_area.display_order` */\n",
       "      index: 0\n",
       "    });\n",
       "  }\n",
       "\n",
       "  // register the mime type if in Jupyter Notebook environment and previously unregistered\n",
       "  if (root.Jupyter !== undefined) {\n",
       "    var events = require('base/js/events');\n",
       "    var OutputArea = require('notebook/js/outputarea').OutputArea;\n",
       "\n",
       "    if (OutputArea.prototype.mime_types().indexOf(EXEC_MIME_TYPE) == -1) {\n",
       "      register_renderer(events, OutputArea);\n",
       "    }\n",
       "  }\n",
       "\n",
       "  \n",
       "  if (typeof (root._bokeh_timeout) === \"undefined\" || force === true) {\n",
       "    root._bokeh_timeout = Date.now() + 5000;\n",
       "    root._bokeh_failed_load = false;\n",
       "  }\n",
       "\n",
       "  var NB_LOAD_WARNING = {'data': {'text/html':\n",
       "     \"<div style='background-color: #fdd'>\\n\"+\n",
       "     \"<p>\\n\"+\n",
       "     \"BokehJS does not appear to have successfully loaded. If loading BokehJS from CDN, this \\n\"+\n",
       "     \"may be due to a slow or bad network connection. Possible fixes:\\n\"+\n",
       "     \"</p>\\n\"+\n",
       "     \"<ul>\\n\"+\n",
       "     \"<li>re-rerun `output_notebook()` to attempt to load from CDN again, or</li>\\n\"+\n",
       "     \"<li>use INLINE resources instead, as so:</li>\\n\"+\n",
       "     \"</ul>\\n\"+\n",
       "     \"<code>\\n\"+\n",
       "     \"from bokeh.resources import INLINE\\n\"+\n",
       "     \"output_notebook(resources=INLINE)\\n\"+\n",
       "     \"</code>\\n\"+\n",
       "     \"</div>\"}};\n",
       "\n",
       "  function display_loaded() {\n",
       "    var el = document.getElementById(\"1001\");\n",
       "    if (el != null) {\n",
       "      el.textContent = \"BokehJS is loading...\";\n",
       "    }\n",
       "    if (root.Bokeh !== undefined) {\n",
       "      if (el != null) {\n",
       "        el.textContent = \"BokehJS \" + root.Bokeh.version + \" successfully loaded.\";\n",
       "      }\n",
       "    } else if (Date.now() < root._bokeh_timeout) {\n",
       "      setTimeout(display_loaded, 100)\n",
       "    }\n",
       "  }\n",
       "\n",
       "\n",
       "  function run_callbacks() {\n",
       "    try {\n",
       "      root._bokeh_onload_callbacks.forEach(function(callback) {\n",
       "        if (callback != null)\n",
       "          callback();\n",
       "      });\n",
       "    } finally {\n",
       "      delete root._bokeh_onload_callbacks\n",
       "    }\n",
       "    console.debug(\"Bokeh: all callbacks have finished\");\n",
       "  }\n",
       "\n",
       "  function load_libs(css_urls, js_urls, callback) {\n",
       "    if (css_urls == null) css_urls = [];\n",
       "    if (js_urls == null) js_urls = [];\n",
       "\n",
       "    root._bokeh_onload_callbacks.push(callback);\n",
       "    if (root._bokeh_is_loading > 0) {\n",
       "      console.debug(\"Bokeh: BokehJS is being loaded, scheduling callback at\", now());\n",
       "      return null;\n",
       "    }\n",
       "    if (js_urls == null || js_urls.length === 0) {\n",
       "      run_callbacks();\n",
       "      return null;\n",
       "    }\n",
       "    console.debug(\"Bokeh: BokehJS not loaded, scheduling load and callback at\", now());\n",
       "    root._bokeh_is_loading = css_urls.length + js_urls.length;\n",
       "\n",
       "    function on_load() {\n",
       "      root._bokeh_is_loading--;\n",
       "      if (root._bokeh_is_loading === 0) {\n",
       "        console.debug(\"Bokeh: all BokehJS libraries/stylesheets loaded\");\n",
       "        run_callbacks()\n",
       "      }\n",
       "    }\n",
       "\n",
       "    function on_error() {\n",
       "      console.error(\"failed to load \" + url);\n",
       "    }\n",
       "\n",
       "    for (var i = 0; i < css_urls.length; i++) {\n",
       "      var url = css_urls[i];\n",
       "      const element = document.createElement(\"link\");\n",
       "      element.onload = on_load;\n",
       "      element.onerror = on_error;\n",
       "      element.rel = \"stylesheet\";\n",
       "      element.type = \"text/css\";\n",
       "      element.href = url;\n",
       "      console.debug(\"Bokeh: injecting link tag for BokehJS stylesheet: \", url);\n",
       "      document.body.appendChild(element);\n",
       "    }\n",
       "\n",
       "    for (var i = 0; i < js_urls.length; i++) {\n",
       "      var url = js_urls[i];\n",
       "      var element = document.createElement('script');\n",
       "      element.onload = on_load;\n",
       "      element.onerror = on_error;\n",
       "      element.async = false;\n",
       "      element.src = url;\n",
       "      console.debug(\"Bokeh: injecting script tag for BokehJS library: \", url);\n",
       "      document.head.appendChild(element);\n",
       "    }\n",
       "  };var element = document.getElementById(\"1001\");\n",
       "  if (element == null) {\n",
       "    console.error(\"Bokeh: ERROR: autoload.js configured with elementid '1001' but no matching script tag was found. \")\n",
       "    return false;\n",
       "  }\n",
       "\n",
       "  function inject_raw_css(css) {\n",
       "    const element = document.createElement(\"style\");\n",
       "    element.appendChild(document.createTextNode(css));\n",
       "    document.body.appendChild(element);\n",
       "  }\n",
       "\n",
       "  \n",
       "  var js_urls = [\"https://cdn.pydata.org/bokeh/release/bokeh-1.4.0.min.js\", \"https://cdn.pydata.org/bokeh/release/bokeh-widgets-1.4.0.min.js\", \"https://cdn.pydata.org/bokeh/release/bokeh-tables-1.4.0.min.js\", \"https://cdn.pydata.org/bokeh/release/bokeh-gl-1.4.0.min.js\"];\n",
       "  var css_urls = [];\n",
       "  \n",
       "\n",
       "  var inline_js = [\n",
       "    function(Bokeh) {\n",
       "      Bokeh.set_log_level(\"info\");\n",
       "    },\n",
       "    function(Bokeh) {\n",
       "    \n",
       "    \n",
       "    }\n",
       "  ];\n",
       "\n",
       "  function run_inline_js() {\n",
       "    \n",
       "    if (root.Bokeh !== undefined || force === true) {\n",
       "      \n",
       "    for (var i = 0; i < inline_js.length; i++) {\n",
       "      inline_js[i].call(root, root.Bokeh);\n",
       "    }\n",
       "    if (force === true) {\n",
       "        display_loaded();\n",
       "      }} else if (Date.now() < root._bokeh_timeout) {\n",
       "      setTimeout(run_inline_js, 100);\n",
       "    } else if (!root._bokeh_failed_load) {\n",
       "      console.log(\"Bokeh: BokehJS failed to load within specified timeout.\");\n",
       "      root._bokeh_failed_load = true;\n",
       "    } else if (force !== true) {\n",
       "      var cell = $(document.getElementById(\"1001\")).parents('.cell').data().cell;\n",
       "      cell.output_area.append_execute_result(NB_LOAD_WARNING)\n",
       "    }\n",
       "\n",
       "  }\n",
       "\n",
       "  if (root._bokeh_is_loading === 0) {\n",
       "    console.debug(\"Bokeh: BokehJS loaded, going straight to plotting\");\n",
       "    run_inline_js();\n",
       "  } else {\n",
       "    load_libs(css_urls, js_urls, function() {\n",
       "      console.debug(\"Bokeh: BokehJS plotting callback run at\", now());\n",
       "      run_inline_js();\n",
       "    });\n",
       "  }\n",
       "}(window));"
      ],
      "application/vnd.bokehjs_load.v0+json": "\n(function(root) {\n  function now() {\n    return new Date();\n  }\n\n  var force = true;\n\n  if (typeof root._bokeh_onload_callbacks === \"undefined\" || force === true) {\n    root._bokeh_onload_callbacks = [];\n    root._bokeh_is_loading = undefined;\n  }\n\n  \n\n  \n  if (typeof (root._bokeh_timeout) === \"undefined\" || force === true) {\n    root._bokeh_timeout = Date.now() + 5000;\n    root._bokeh_failed_load = false;\n  }\n\n  var NB_LOAD_WARNING = {'data': {'text/html':\n     \"<div style='background-color: #fdd'>\\n\"+\n     \"<p>\\n\"+\n     \"BokehJS does not appear to have successfully loaded. If loading BokehJS from CDN, this \\n\"+\n     \"may be due to a slow or bad network connection. Possible fixes:\\n\"+\n     \"</p>\\n\"+\n     \"<ul>\\n\"+\n     \"<li>re-rerun `output_notebook()` to attempt to load from CDN again, or</li>\\n\"+\n     \"<li>use INLINE resources instead, as so:</li>\\n\"+\n     \"</ul>\\n\"+\n     \"<code>\\n\"+\n     \"from bokeh.resources import INLINE\\n\"+\n     \"output_notebook(resources=INLINE)\\n\"+\n     \"</code>\\n\"+\n     \"</div>\"}};\n\n  function display_loaded() {\n    var el = document.getElementById(\"1001\");\n    if (el != null) {\n      el.textContent = \"BokehJS is loading...\";\n    }\n    if (root.Bokeh !== undefined) {\n      if (el != null) {\n        el.textContent = \"BokehJS \" + root.Bokeh.version + \" successfully loaded.\";\n      }\n    } else if (Date.now() < root._bokeh_timeout) {\n      setTimeout(display_loaded, 100)\n    }\n  }\n\n\n  function run_callbacks() {\n    try {\n      root._bokeh_onload_callbacks.forEach(function(callback) {\n        if (callback != null)\n          callback();\n      });\n    } finally {\n      delete root._bokeh_onload_callbacks\n    }\n    console.debug(\"Bokeh: all callbacks have finished\");\n  }\n\n  function load_libs(css_urls, js_urls, callback) {\n    if (css_urls == null) css_urls = [];\n    if (js_urls == null) js_urls = [];\n\n    root._bokeh_onload_callbacks.push(callback);\n    if (root._bokeh_is_loading > 0) {\n      console.debug(\"Bokeh: BokehJS is being loaded, scheduling callback at\", now());\n      return null;\n    }\n    if (js_urls == null || js_urls.length === 0) {\n      run_callbacks();\n      return null;\n    }\n    console.debug(\"Bokeh: BokehJS not loaded, scheduling load and callback at\", now());\n    root._bokeh_is_loading = css_urls.length + js_urls.length;\n\n    function on_load() {\n      root._bokeh_is_loading--;\n      if (root._bokeh_is_loading === 0) {\n        console.debug(\"Bokeh: all BokehJS libraries/stylesheets loaded\");\n        run_callbacks()\n      }\n    }\n\n    function on_error() {\n      console.error(\"failed to load \" + url);\n    }\n\n    for (var i = 0; i < css_urls.length; i++) {\n      var url = css_urls[i];\n      const element = document.createElement(\"link\");\n      element.onload = on_load;\n      element.onerror = on_error;\n      element.rel = \"stylesheet\";\n      element.type = \"text/css\";\n      element.href = url;\n      console.debug(\"Bokeh: injecting link tag for BokehJS stylesheet: \", url);\n      document.body.appendChild(element);\n    }\n\n    for (var i = 0; i < js_urls.length; i++) {\n      var url = js_urls[i];\n      var element = document.createElement('script');\n      element.onload = on_load;\n      element.onerror = on_error;\n      element.async = false;\n      element.src = url;\n      console.debug(\"Bokeh: injecting script tag for BokehJS library: \", url);\n      document.head.appendChild(element);\n    }\n  };var element = document.getElementById(\"1001\");\n  if (element == null) {\n    console.error(\"Bokeh: ERROR: autoload.js configured with elementid '1001' but no matching script tag was found. \")\n    return false;\n  }\n\n  function inject_raw_css(css) {\n    const element = document.createElement(\"style\");\n    element.appendChild(document.createTextNode(css));\n    document.body.appendChild(element);\n  }\n\n  \n  var js_urls = [\"https://cdn.pydata.org/bokeh/release/bokeh-1.4.0.min.js\", \"https://cdn.pydata.org/bokeh/release/bokeh-widgets-1.4.0.min.js\", \"https://cdn.pydata.org/bokeh/release/bokeh-tables-1.4.0.min.js\", \"https://cdn.pydata.org/bokeh/release/bokeh-gl-1.4.0.min.js\"];\n  var css_urls = [];\n  \n\n  var inline_js = [\n    function(Bokeh) {\n      Bokeh.set_log_level(\"info\");\n    },\n    function(Bokeh) {\n    \n    \n    }\n  ];\n\n  function run_inline_js() {\n    \n    if (root.Bokeh !== undefined || force === true) {\n      \n    for (var i = 0; i < inline_js.length; i++) {\n      inline_js[i].call(root, root.Bokeh);\n    }\n    if (force === true) {\n        display_loaded();\n      }} else if (Date.now() < root._bokeh_timeout) {\n      setTimeout(run_inline_js, 100);\n    } else if (!root._bokeh_failed_load) {\n      console.log(\"Bokeh: BokehJS failed to load within specified timeout.\");\n      root._bokeh_failed_load = true;\n    } else if (force !== true) {\n      var cell = $(document.getElementById(\"1001\")).parents('.cell').data().cell;\n      cell.output_area.append_execute_result(NB_LOAD_WARNING)\n    }\n\n  }\n\n  if (root._bokeh_is_loading === 0) {\n    console.debug(\"Bokeh: BokehJS loaded, going straight to plotting\");\n    run_inline_js();\n  } else {\n    load_libs(css_urls, js_urls, function() {\n      console.debug(\"Bokeh: BokehJS plotting callback run at\", now());\n      run_inline_js();\n    });\n  }\n}(window));"
     },
     "metadata": {},
     "output_type": "display_data"
    }
   ],
   "source": [
    "from hail.plot import show\n",
    "from pprint import pprint\n",
    "hl.plot.output_notebook()"
   ]
  },
  {
   "cell_type": "markdown",
   "metadata": {},
   "source": [
    "# Load and explore hipster data"
   ]
  },
  {
   "cell_type": "code",
   "execution_count": 3,
   "metadata": {},
   "outputs": [],
   "source": [
    "data = hl.import_vcf('../data/hipsterIndex/hipster.vcf.bgz')"
   ]
  },
  {
   "cell_type": "code",
   "execution_count": 4,
   "metadata": {},
   "outputs": [
    {
     "name": "stderr",
     "output_type": "stream",
     "text": [
      "2022-05-09 14:34:22 Hail: INFO: Reading table without type imputation\n",
      "  Loading field 'samples' as type str (not specified)\n",
      "  Loading field 'score' as type float64 (user-supplied)\n",
      "  Loading field 'label' as type float64 (user-supplied)\n",
      "  Loading field 'age' as type float64 (user-supplied)\n",
      "  Loading field 'PC0' as type float64 (user-supplied)\n",
      "  Loading field 'PC1' as type float64 (user-supplied)\n",
      "  Loading field 'PC2' as type float64 (user-supplied)\n"
     ]
    }
   ],
   "source": [
    "labels = hl.import_table('../data/hipsterIndex/hipster_labels_covariates.txt', delimiter=',', \n",
    "                types=dict(label='float64', score='float64', age='float64', PC0='float64', PC1='float64', PC2='float64')).key_by('samples')"
   ]
  },
  {
   "cell_type": "code",
   "execution_count": 5,
   "metadata": {},
   "outputs": [
    {
     "name": "stdout",
     "output_type": "stream",
     "text": [
      "----------------------------------------\n",
      "Global fields:\n",
      "    None\n",
      "----------------------------------------\n",
      "Column fields:\n",
      "    's': str\n",
      "    'hipster': struct {\n",
      "        score: float64, \n",
      "        label: float64, \n",
      "        age: float64, \n",
      "        PC0: float64, \n",
      "        PC1: float64, \n",
      "        PC2: float64\n",
      "    }\n",
      "----------------------------------------\n",
      "Row fields:\n",
      "    'locus': locus<GRCh37>\n",
      "    'alleles': array<str>\n",
      "    'rsid': str\n",
      "    'qual': float64\n",
      "    'filters': set<str>\n",
      "    'info': struct {\n",
      "        AA: str, \n",
      "        AC: array<int32>, \n",
      "        AF: array<float64>, \n",
      "        AFR_AF: array<float64>, \n",
      "        AMR_AF: array<float64>, \n",
      "        AN: int32, \n",
      "        CIEND: array<int32>, \n",
      "        CIPOS: array<int32>, \n",
      "        CS: str, \n",
      "        DP: int32, \n",
      "        EAS_AF: array<float64>, \n",
      "        END: int32, \n",
      "        EUR_AF: array<float64>, \n",
      "        EX_TARGET: bool, \n",
      "        IMPRECISE: bool, \n",
      "        MC: array<str>, \n",
      "        MEINFO: array<str>, \n",
      "        MEND: int32, \n",
      "        MLEN: int32, \n",
      "        MSTART: int32, \n",
      "        MULTI_ALLELIC: bool, \n",
      "        NS: int32, \n",
      "        SAS_AF: array<float64>, \n",
      "        SVLEN: array<int32>, \n",
      "        SVTYPE: str, \n",
      "        TSD: str, \n",
      "        VT: array<str>\n",
      "    }\n",
      "----------------------------------------\n",
      "Entry fields:\n",
      "    'GT': call\n",
      "----------------------------------------\n",
      "Column key: ['s']\n",
      "Row key: ['locus', 'alleles']\n",
      "----------------------------------------\n"
     ]
    }
   ],
   "source": [
    "mt = data.annotate_cols(hipster = labels[data.s])\n",
    "mt.describe()"
   ]
  },
  {
   "cell_type": "code",
   "execution_count": 6,
   "metadata": {},
   "outputs": [
    {
     "name": "stderr",
     "output_type": "stream",
     "text": [
      "2022-05-09 14:34:25 Hail: INFO: Coerced almost-sorted dataset       (0 + 1) / 1]\n",
      "[Stage 1:>                                                          (0 + 1) / 1]\r"
     ]
    },
    {
     "data": {
      "text/plain": [
       "(17010, 2504)"
      ]
     },
     "execution_count": 6,
     "metadata": {},
     "output_type": "execute_result"
    }
   ],
   "source": [
    "mt.count()"
   ]
  },
  {
   "cell_type": "markdown",
   "metadata": {},
   "source": [
    "## Run log regression using Hail"
   ]
  },
  {
   "cell_type": "code",
   "execution_count": 7,
   "metadata": {},
   "outputs": [
    {
     "name": "stderr",
     "output_type": "stream",
     "text": [
      "2022-05-09 14:34:29 Hail: INFO: Coerced almost-sorted dataset\n",
      "2022-05-09 14:34:32 Hail: INFO: logistic_regression_rows: running score on 2504 samples for response variable y,\n",
      "    with input variable x, and 5 additional covariates...\n"
     ]
    }
   ],
   "source": [
    "gwas = hl.logistic_regression_rows(test='score',\n",
    "                                y=mt.hipster.label,\n",
    "                                 x=mt.GT.n_alt_alleles(),\n",
    "                                 covariates=[1.0, mt.hipster.age, mt.hipster.PC0, mt.hipster.PC1, mt.hipster.PC2],\n",
    "                                 pass_through=[mt.rsid])"
   ]
  },
  {
   "cell_type": "code",
   "execution_count": 8,
   "metadata": {},
   "outputs": [
    {
     "name": "stderr",
     "output_type": "stream",
     "text": [
      "\r",
      "[Stage 4:>                                                          (0 + 1) / 1]\r"
     ]
    },
    {
     "data": {
      "text/html": [
       "<table><thead><tr><td style=\"white-space: nowrap; max-width: 500px; overflow: hidden; text-overflow: ellipsis; \" colspan=\"1\"><div style=\"text-align: left;\"></div></td><td style=\"white-space: nowrap; max-width: 500px; overflow: hidden; text-overflow: ellipsis; \" colspan=\"1\"><div style=\"text-align: left;\"></div></td><td style=\"white-space: nowrap; max-width: 500px; overflow: hidden; text-overflow: ellipsis; \" colspan=\"1\"><div style=\"text-align: left;\"></div></td><td style=\"white-space: nowrap; max-width: 500px; overflow: hidden; text-overflow: ellipsis; \" colspan=\"1\"><div style=\"text-align: left;\"></div></td><td style=\"white-space: nowrap; max-width: 500px; overflow: hidden; text-overflow: ellipsis; \" colspan=\"1\"><div style=\"text-align: left;\"></div></td></tr><tr><td style=\"white-space: nowrap; max-width: 500px; overflow: hidden; text-overflow: ellipsis; \" colspan=\"1\"><div style=\"text-align: left;border-bottom: solid 2px #000; padding-bottom: 5px\">locus</div></td><td style=\"white-space: nowrap; max-width: 500px; overflow: hidden; text-overflow: ellipsis; \" colspan=\"1\"><div style=\"text-align: left;border-bottom: solid 2px #000; padding-bottom: 5px\">alleles</div></td><td style=\"white-space: nowrap; max-width: 500px; overflow: hidden; text-overflow: ellipsis; \" colspan=\"1\"><div style=\"text-align: left;border-bottom: solid 2px #000; padding-bottom: 5px\">rsid</div></td><td style=\"white-space: nowrap; max-width: 500px; overflow: hidden; text-overflow: ellipsis; \" colspan=\"1\"><div style=\"text-align: left;border-bottom: solid 2px #000; padding-bottom: 5px\">chi_sq_stat</div></td><td style=\"white-space: nowrap; max-width: 500px; overflow: hidden; text-overflow: ellipsis; \" colspan=\"1\"><div style=\"text-align: left;border-bottom: solid 2px #000; padding-bottom: 5px\">p_value</div></td></tr><tr><td style=\"white-space: nowrap; max-width: 500px; overflow: hidden; text-overflow: ellipsis; text-align: left;\">locus&lt;GRCh37&gt;</td><td style=\"white-space: nowrap; max-width: 500px; overflow: hidden; text-overflow: ellipsis; text-align: left;\">array&lt;str&gt;</td><td style=\"white-space: nowrap; max-width: 500px; overflow: hidden; text-overflow: ellipsis; text-align: left;\">str</td><td style=\"white-space: nowrap; max-width: 500px; overflow: hidden; text-overflow: ellipsis; text-align: left;\">float64</td><td style=\"white-space: nowrap; max-width: 500px; overflow: hidden; text-overflow: ellipsis; text-align: left;\">float64</td></tr>\n",
       "</thead><tbody><tr><td style=\"white-space: nowrap; max-width: 500px; overflow: hidden; text-overflow: ellipsis; \">2:109511398</td><td style=\"white-space: nowrap; max-width: 500px; overflow: hidden; text-overflow: ellipsis; \">[&quot;G&quot;,&quot;A&quot;]</td><td style=\"white-space: nowrap; max-width: 500px; overflow: hidden; text-overflow: ellipsis; \">&quot;rs150055772&quot;</td><td style=\"white-space: nowrap; max-width: 500px; overflow: hidden; text-overflow: ellipsis; \">2.45e-01</td><td style=\"white-space: nowrap; max-width: 500px; overflow: hidden; text-overflow: ellipsis; \">6.21e-01</td></tr>\n",
       "<tr><td style=\"white-space: nowrap; max-width: 500px; overflow: hidden; text-overflow: ellipsis; \">2:109511454</td><td style=\"white-space: nowrap; max-width: 500px; overflow: hidden; text-overflow: ellipsis; \">[&quot;C&quot;,&quot;A&quot;]</td><td style=\"white-space: nowrap; max-width: 500px; overflow: hidden; text-overflow: ellipsis; \">&quot;rs558429529&quot;</td><td style=\"white-space: nowrap; max-width: 500px; overflow: hidden; text-overflow: ellipsis; \">1.58e+00</td><td style=\"white-space: nowrap; max-width: 500px; overflow: hidden; text-overflow: ellipsis; \">2.08e-01</td></tr>\n",
       "<tr><td style=\"white-space: nowrap; max-width: 500px; overflow: hidden; text-overflow: ellipsis; \">2:109511463</td><td style=\"white-space: nowrap; max-width: 500px; overflow: hidden; text-overflow: ellipsis; \">[&quot;G&quot;,&quot;A&quot;]</td><td style=\"white-space: nowrap; max-width: 500px; overflow: hidden; text-overflow: ellipsis; \">&quot;rs200762071&quot;</td><td style=\"white-space: nowrap; max-width: 500px; overflow: hidden; text-overflow: ellipsis; \">3.39e+00</td><td style=\"white-space: nowrap; max-width: 500px; overflow: hidden; text-overflow: ellipsis; \">6.54e-02</td></tr>\n",
       "</tbody></table><p style=\"background: #fdd; padding: 0.4em;\">showing top 3 rows</p>\n"
      ],
      "text/plain": [
       "+---------------+------------+---------------+-------------+----------+\n",
       "| locus         | alleles    | rsid          | chi_sq_stat |  p_value |\n",
       "+---------------+------------+---------------+-------------+----------+\n",
       "| locus<GRCh37> | array<str> | str           |     float64 |  float64 |\n",
       "+---------------+------------+---------------+-------------+----------+\n",
       "| 2:109511398   | [\"G\",\"A\"]  | \"rs150055772\" |    2.45e-01 | 6.21e-01 |\n",
       "| 2:109511454   | [\"C\",\"A\"]  | \"rs558429529\" |    1.58e+00 | 2.08e-01 |\n",
       "| 2:109511463   | [\"G\",\"A\"]  | \"rs200762071\" |    3.39e+00 | 6.54e-02 |\n",
       "+---------------+------------+---------------+-------------+----------+\n",
       "showing top 3 rows"
      ]
     },
     "metadata": {},
     "output_type": "display_data"
    }
   ],
   "source": [
    "gwas.show(3)"
   ]
  },
  {
   "cell_type": "code",
   "execution_count": 9,
   "metadata": {},
   "outputs": [
    {
     "data": {
      "text/html": [
       "\n",
       "\n",
       "\n",
       "\n",
       "\n",
       "\n",
       "  <div class=\"bk-root\" id=\"0fd03b49-4886-4f4e-9d59-5213c8c2bbb3\" data-root-id=\"1003\"></div>\n"
      ]
     },
     "metadata": {},
     "output_type": "display_data"
    },
    {
     "data": {
      "application/javascript": [
       "(function(root) {\n",
       "  function embed_document(root) {\n",
       "    \n",
       "  var docs_json = {\"ac18815b-0eb9-4df0-894c-610631249b9f\":{\"roots\":{\"references\":[{\"attributes\":{\"below\":[{\"id\":\"1013\",\"type\":\"LinearAxis\"}],\"center\":[{\"id\":\"1017\",\"type\":\"Grid\"},{\"id\":\"1022\",\"type\":\"Grid\"}],\"left\":[{\"id\":\"1018\",\"type\":\"LinearAxis\"},{\"id\":\"1074\",\"type\":\"Legend\"},{\"id\":\"1075\",\"type\":\"ColorBar\"}],\"plot_width\":1000,\"renderers\":[{\"id\":\"1044\",\"type\":\"GlyphRenderer\"},{\"id\":\"1050\",\"type\":\"GlyphRenderer\"},{\"id\":\"1056\",\"type\":\"GlyphRenderer\"},{\"id\":\"1062\",\"type\":\"GlyphRenderer\"},{\"id\":\"1068\",\"type\":\"GlyphRenderer\"},{\"id\":\"1096\",\"type\":\"Span\"}],\"title\":null,\"toolbar\":{\"id\":\"1029\",\"type\":\"Toolbar\"},\"x_range\":{\"id\":\"1005\",\"type\":\"DataRange1d\"},\"x_scale\":{\"id\":\"1009\",\"type\":\"LinearScale\"},\"y_range\":{\"id\":\"1007\",\"type\":\"DataRange1d\"},\"y_scale\":{\"id\":\"1011\",\"type\":\"LinearScale\"}},\"id\":\"1003\",\"subtype\":\"Figure\",\"type\":\"Plot\"},{\"attributes\":{},\"id\":\"1009\",\"type\":\"LinearScale\"},{\"attributes\":{\"data_source\":{\"id\":\"1038\",\"type\":\"ColumnDataSource\"},\"glyph\":{\"id\":\"1048\",\"type\":\"Circle\"},\"hover_glyph\":null,\"muted_glyph\":null,\"nonselection_glyph\":{\"id\":\"1049\",\"type\":\"Circle\"},\"selection_glyph\":null,\"view\":{\"id\":\"1046\",\"type\":\"CDSView\"}},\"id\":\"1050\",\"type\":\"GlyphRenderer\"},{\"attributes\":{\"column_name\":\"_contig\",\"group\":\"5\"},\"id\":\"1057\",\"type\":\"GroupFilter\"},{\"attributes\":{\"filters\":[{\"id\":\"1051\",\"type\":\"GroupFilter\"}],\"source\":{\"id\":\"1038\",\"type\":\"ColumnDataSource\"}},\"id\":\"1052\",\"type\":\"CDSView\"},{\"attributes\":{},\"id\":\"1019\",\"type\":\"BasicTicker\"},{\"attributes\":{\"callback\":null},\"id\":\"1005\",\"type\":\"DataRange1d\"},{\"attributes\":{},\"id\":\"1083\",\"type\":\"BasicTicker\"},{\"attributes\":{\"fill_alpha\":{\"value\":0.1},\"fill_color\":{\"value\":\"#1f77b4\"},\"line_alpha\":{\"value\":0.1},\"line_color\":{\"value\":\"#1f77b4\"},\"x\":{\"field\":\"_global_locus\"},\"y\":{\"field\":\"_pval\"}},\"id\":\"1055\",\"type\":\"Circle\"},{\"attributes\":{\"data_source\":{\"id\":\"1038\",\"type\":\"ColumnDataSource\"},\"glyph\":{\"id\":\"1060\",\"type\":\"Circle\"},\"hover_glyph\":null,\"muted_glyph\":null,\"nonselection_glyph\":{\"id\":\"1061\",\"type\":\"Circle\"},\"selection_glyph\":null,\"view\":{\"id\":\"1058\",\"type\":\"CDSView\"}},\"id\":\"1062\",\"type\":\"GlyphRenderer\"},{\"attributes\":{\"factors\":[\"1\",\"2\",\"3\",\"4\",\"5\",\"6\",\"7\",\"8\",\"9\",\"10\",\"11\",\"12\",\"13\",\"14\",\"15\",\"16\",\"17\",\"18\",\"19\",\"20\",\"21\",\"22\",\"X\",\"Y\",\"MT\",\"GL000207.1\",\"GL000226.1\",\"GL000229.1\",\"GL000231.1\",\"GL000210.1\",\"GL000239.1\",\"GL000235.1\",\"GL000201.1\",\"GL000247.1\",\"GL000245.1\",\"GL000197.1\",\"GL000203.1\",\"GL000246.1\",\"GL000249.1\",\"GL000196.1\",\"GL000248.1\",\"GL000244.1\",\"GL000238.1\",\"GL000202.1\",\"GL000234.1\",\"GL000232.1\",\"GL000206.1\",\"GL000240.1\",\"GL000236.1\",\"GL000241.1\",\"GL000243.1\",\"GL000242.1\",\"GL000230.1\",\"GL000237.1\",\"GL000233.1\",\"GL000204.1\",\"GL000198.1\",\"GL000208.1\",\"GL000191.1\",\"GL000227.1\",\"GL000228.1\",\"GL000214.1\",\"GL000221.1\",\"GL000209.1\",\"GL000218.1\",\"GL000220.1\",\"GL000213.1\",\"GL000211.1\",\"GL000199.1\",\"GL000217.1\",\"GL000216.1\",\"GL000215.1\",\"GL000205.1\",\"GL000219.1\",\"GL000224.1\",\"GL000223.1\",\"GL000195.1\",\"GL000212.1\",\"GL000222.1\",\"GL000200.1\",\"GL000193.1\",\"GL000194.1\",\"GL000225.1\",\"GL000192.1\"],\"palette\":[\"#1f77b4\",\"#ff7f0e\",\"#1f77b4\",\"#ff7f0e\",\"#1f77b4\",\"#ff7f0e\",\"#1f77b4\",\"#ff7f0e\",\"#1f77b4\",\"#ff7f0e\",\"#1f77b4\",\"#ff7f0e\",\"#1f77b4\",\"#ff7f0e\",\"#1f77b4\",\"#ff7f0e\",\"#1f77b4\",\"#ff7f0e\",\"#1f77b4\",\"#ff7f0e\",\"#1f77b4\",\"#ff7f0e\",\"#1f77b4\",\"#ff7f0e\",\"#1f77b4\",\"#ff7f0e\",\"#1f77b4\",\"#ff7f0e\",\"#1f77b4\",\"#ff7f0e\",\"#1f77b4\",\"#ff7f0e\",\"#1f77b4\",\"#ff7f0e\",\"#1f77b4\",\"#ff7f0e\",\"#1f77b4\",\"#ff7f0e\",\"#1f77b4\",\"#ff7f0e\",\"#1f77b4\",\"#ff7f0e\",\"#1f77b4\",\"#ff7f0e\",\"#1f77b4\",\"#ff7f0e\",\"#1f77b4\",\"#ff7f0e\",\"#1f77b4\",\"#ff7f0e\",\"#1f77b4\",\"#ff7f0e\",\"#1f77b4\",\"#ff7f0e\",\"#1f77b4\",\"#ff7f0e\",\"#1f77b4\",\"#ff7f0e\",\"#1f77b4\",\"#ff7f0e\",\"#1f77b4\",\"#ff7f0e\",\"#1f77b4\",\"#ff7f0e\",\"#1f77b4\",\"#ff7f0e\",\"#1f77b4\",\"#ff7f0e\",\"#1f77b4\",\"#ff7f0e\",\"#1f77b4\",\"#ff7f0e\",\"#1f77b4\",\"#ff7f0e\",\"#1f77b4\",\"#ff7f0e\",\"#1f77b4\",\"#ff7f0e\",\"#1f77b4\",\"#ff7f0e\",\"#1f77b4\",\"#ff7f0e\",\"#1f77b4\",\"#ff7f0e\"]},\"id\":\"1002\",\"type\":\"CategoricalColorMapper\"},{\"attributes\":{\"fill_alpha\":{\"value\":0.1},\"fill_color\":{\"value\":\"#1f77b4\"},\"line_alpha\":{\"value\":0.1},\"line_color\":{\"value\":\"#1f77b4\"},\"x\":{\"field\":\"_global_locus\"},\"y\":{\"field\":\"_pval\"}},\"id\":\"1067\",\"type\":\"Circle\"},{\"attributes\":{\"ticks\":[370850307,786049562,972084330,1313226358,2358551415]},\"id\":\"1076\",\"type\":\"FixedTicker\"},{\"attributes\":{\"fill_color\":{\"field\":\"_contig\",\"transform\":{\"id\":\"1002\",\"type\":\"CategoricalColorMapper\"}},\"line_color\":{\"field\":\"_contig\",\"transform\":{\"id\":\"1002\",\"type\":\"CategoricalColorMapper\"}},\"x\":{\"field\":\"_global_locus\"},\"y\":{\"field\":\"_pval\"}},\"id\":\"1042\",\"type\":\"Circle\"},{\"attributes\":{\"fill_alpha\":{\"value\":0.1},\"fill_color\":{\"value\":\"#1f77b4\"},\"line_alpha\":{\"value\":0.1},\"line_color\":{\"value\":\"#1f77b4\"},\"x\":{\"field\":\"_global_locus\"},\"y\":{\"field\":\"_pval\"}},\"id\":\"1043\",\"type\":\"Circle\"},{\"attributes\":{\"fill_alpha\":{\"value\":0.1},\"fill_color\":{\"value\":\"#1f77b4\"},\"line_alpha\":{\"value\":0.1},\"line_color\":{\"value\":\"#1f77b4\"},\"x\":{\"field\":\"_global_locus\"},\"y\":{\"field\":\"_pval\"}},\"id\":\"1061\",\"type\":\"Circle\"},{\"attributes\":{\"callback\":null,\"tooltips\":[[\"rs\",\"@rs\"],[\"locus\",\"@locus\"],[\"p_value\",\"@p_value\"]]},\"id\":\"1037\",\"type\":\"HoverTool\"},{\"attributes\":{\"column_name\":\"_contig\",\"group\":\"7\"},\"id\":\"1063\",\"type\":\"GroupFilter\"},{\"attributes\":{\"column_name\":\"_contig\",\"group\":\"15\"},\"id\":\"1039\",\"type\":\"GroupFilter\"},{\"attributes\":{\"callback\":null,\"data\":{\"_contig\":[\"2\",\"2\",\"2\",\"2\",\"2\",\"2\",\"2\",\"2\",\"2\",\"2\",\"2\",\"2\",\"2\",\"2\",\"2\",\"2\",\"2\",\"2\",\"2\",\"2\",\"2\",\"2\",\"2\",\"2\",\"2\",\"2\",\"2\",\"2\",\"2\",\"2\",\"2\",\"2\",\"2\",\"2\",\"2\",\"2\",\"2\",\"4\",\"4\",\"4\",\"4\",\"4\",\"4\",\"4\",\"4\",\"4\",\"4\",\"4\",\"4\",\"4\",\"4\",\"4\",\"4\",\"4\",\"5\",\"5\",\"5\",\"5\",\"5\",\"5\",\"5\",\"5\",\"5\",\"5\",\"5\",\"5\",\"5\",\"5\",\"5\",\"5\",\"5\",\"5\",\"5\",\"5\",\"5\",\"5\",\"5\",\"5\",\"5\",\"5\",\"5\",\"5\",\"5\",\"5\",\"5\",\"5\",\"5\",\"5\",\"5\",\"5\",\"5\",\"5\",\"5\",\"5\",\"5\",\"5\",\"5\",\"5\",\"5\",\"5\",\"5\",\"5\",\"5\",\"5\",\"5\",\"5\",\"5\",\"5\",\"5\",\"5\",\"5\",\"5\",\"5\",\"5\",\"5\",\"5\",\"5\",\"5\",\"5\",\"5\",\"5\",\"5\",\"5\",\"5\",\"5\",\"5\",\"5\",\"5\",\"5\",\"5\",\"5\",\"5\",\"5\",\"5\",\"5\",\"5\",\"5\",\"5\",\"5\",\"5\",\"5\",\"5\",\"5\",\"5\",\"5\",\"5\",\"5\",\"5\",\"5\",\"5\",\"5\",\"5\",\"5\",\"5\",\"5\",\"5\",\"5\",\"5\",\"5\",\"5\",\"5\",\"5\",\"5\",\"5\",\"5\",\"5\",\"5\",\"5\",\"5\",\"5\",\"5\",\"5\",\"5\",\"5\",\"5\",\"5\",\"5\",\"5\",\"5\",\"5\",\"5\",\"5\",\"5\",\"5\",\"5\",\"5\",\"5\",\"5\",\"5\",\"5\",\"5\",\"5\",\"7\",\"7\",\"7\",\"7\",\"7\",\"7\",\"7\",\"7\",\"7\",\"7\",\"7\",\"7\",\"7\",\"7\",\"7\",\"7\",\"7\",\"7\",\"7\",\"7\",\"7\",\"7\",\"7\",\"7\",\"7\",\"7\",\"7\",\"7\",\"15\",\"15\",\"15\",\"15\",\"15\",\"15\",\"15\",\"15\",\"15\",\"15\",\"15\",\"15\",\"15\",\"15\",\"15\",\"15\",\"15\",\"15\",\"15\",\"15\",\"15\",\"15\",\"15\",\"15\",\"15\",\"15\",\"15\",\"15\",\"15\",\"15\",\"15\",\"15\",\"15\",\"15\",\"15\",\"15\",\"15\",\"15\",\"15\",\"15\",\"15\"],\"_global_locus\":{\"__ndarray__\":\"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\",\"dtype\":\"float64\",\"shape\":[261]},\"_pval\":{\"__ndarray__\":\"lIMDoc6Dyj8MYQxR5TrZP3TVXnVuz+U//TovDo3y8j9hcsMndyv1P48+tq5+fv0/o+7ZFmE/BEA26i8iizwKQCv+soaCogtAytJt5rSODUD2q7mIhAIQQHtAK0mloxFAx9WqjNgAE0ARbsM5RpW8P8DINlGsjNk/On2kKrYW5D95cBFDOnnvPztu5l2LHfQ/O3N1u9yC+T96FHtbz7X+P59M8G/ZoQFAhypjhdzXC0AW+HUMovgQQKSx1krFnRRAkEUT6oZlF0DxStqOd4geQKnN+1vLiiFA9km5lnjzIkDRz4+BWBstQKARd9dFrTFApbNAwwI9QkD60exLBfZCQHiYs5Y8CkNAhambJ6FTREB63WrmuZ1EQLCKscQwa0dApQW78nO6XUD/ZeSeRDLQPy7hr1gql9g/2LC8I/jF5j9iisSbinHxP00izss37/U/ItObh3uE+D/aV61WIC3+P0+XNavdFwRAUFDJfIXWB0CONP7pHrQIQJahOcCDyQ9AkTKCboodEUC1Y7cltwUTQEB+G66BrzBAo1UqlS/ENEDPtUMfH0w1QPtqbuhgbzVA/ky3LgQawD9KT+C69PjXP6r/OMeUdOQ/HtVvEClG7T+m+K2P3gH4P+L0fHylhfg/MVWAvoVD/T9BW/WhHLUBQG+YAnOnNwRAX3ndztPyBkAtiZ9uPFYJQK/Xhy3KvgpAGaBQWk1EDUC/OeN0f2kQQO38NG/kMhFAahhTsupgEkBiNdYfV1AUQGnKICrbuhRAnmSqwQsWFkC8DCVwEEgXQBDZ5HfGchhAlhqBf0fJGUDnydSi/akaQGw1yOdzthxAnAFeEKNPHUC2bvDQU90eQFOfgxrauh9ApGx5T75OIEDhCO2CVHUhQAdBrRKqpSFAXWTJGPM8IkA6HASlBKojQCqMdwnC7SNAMwYsmPzmJEBOkAj/JFIlQCtxjSYtTiZA3rJHTcv3JkA3vaw/NpUqQF7CAqXVsS1ABth35dtBMEA3Ih6rrBsxQKIWlFYCTjFADaXYJ4qgMUBM6ky4i50yQJtxzv9JxzJAfKOwMc6RNEBBfUwJKwk1QJ/98v9FhjVA1q1epArQNUAZ0nUloCk2QKXinMISezZA8kXq2sOkN0AWFXrUJ903QO3FxznQ0zhAaDaX98MLOUCqrPgCScs5QD8fjh9R7jtA1oVWZ4OaPED8+bsgcMY8QHKBHoQeTz1A1xyGqCaWPUBILjW6kCc+QOF4YbOwGT9A0RFeKauwP0AF6T3H5xtBQMb+FIJncEFAUyoldauIQUABjovBCIZCQLTzSfkWvUJArgiMo/rtQkA4pDQbWkhDQPD25cEdVUNAce3YFeqkQ0D2qTluoshDQIO53tg58kNAbz/EkbcRREBdyaEFTZZEQBV/cwerwERAW08fYmgiRUBf++OBUohFQL6cFRQq4EVAFDRlBiCBRkCeXZCrtfJHQAGMf0qM/kdAHp98euuPSEAqN+goU6ZIQNRbOwsyw0hAHHFydBs8SUAsKXMDMopJQKBChS0w7klAQNfqBgEsSkCYljvWIJJKQBdtj5fCzUpAm7NcdGTUSkAGIj2/Dx9LQJSYqLsXXEtA5m9kDUd1S0D6OaFhMdhLQLM4Sa5c40tA0LVDGMQQTEAi/QO6kThMQPNoERLMfExAX1dazJM3TUA3iyqCwx5OQPlXQWq7Q05Aqt51wqGBTkB/ZeJtxQpPQJ/PBEqFH09ASPV8VTmST0BGbO45IWtQQK9NKjcRl1BA0EwKPojpUEDkybY+C7xRQFBpAHf3m1JAh28afROmUkDUlgGF7OZSQEmeg4w16FNATBG2vEVeVUAMpW8nBTRWQDOE7x7ATFZAQp+BAlyYVkDbImSyTwVXQI+fIhgGEFdA7plnGW47V0ASjEq+U1VXQOGrAexEXFdAI5d2/mxyV0DtBr1P/LtXQGQnUQcT51dAhQ9LPW56WEC+frnaHrJYQM63zCDIVFlAuUUqkaJOW0AlygsuFHNiQIgrdehBh2JANHX7caCWYkDHQOmuFsJiQL6o/25/1mJAewBUjUC9uj+g67nTsM7WP3h6jDaKH+g/LEWHlU2E8j+nuCewFNv2P6Mn+5iHlPg/8Uhym7twAEC5Dflt16QCQLLjZ5jDBwRAPbS/kDC6CECvWfJDQzULQGaoxGJqSxJAbzx2KlluE0BKi2ZkOPgaQA/L20Dqex5AWzi7E8t8MEAn/HJ98CMyQJCOxTBmw0lAUQ05IuJ6uj9KQgbsUhrYP3xy07oiQOo/YErvqjS+8j+x2jmnUJD+P/u98BWO/gJA3dCAqJGRBEBEMzo87+IHQDpYaxjH8QhAI3T1opzWF0AufB+GcGvBP3dlpp9Hjtg/w+/2OXU55j9RGrwuhNjtP7vAgrIcGfQ/51wKfB/l+T+W/G9m5fD+P94oBAHZ+gBAr/noU916A0BThkNwid8GQOMtoiEL/wlAhxZg+AwEC0A/2uHNnvIMQM83H+GRbw9AbTjdt8fvEUAUFr7PRAATQO46tjDjmxNAZiXkW7hiFUC3c9kJX8UWQL6AT/uiABhAtmfyJtWaGEBcgh1irPoZQP9eg98fmRxAPifmZsdhHUCbqdj82kMfQJbNoQzqiR9AbyCi2P33GkAb+8p1oOMhQIy7AUJ7m8I/+kBmBcDa1j8mO38LjaHkP7wN4fsfNvI/vLd1JEzs9D94TkprYw//PwHHixaa+ABAE63O9WKtBUDfhRk4Pf4FQKyhxUWg6glAr8tdO5FXFkDA6vruEb8bQHxPPJlzWx5A\",\"dtype\":\"float64\",\"shape\":[261]},\"index\":[0,1,2,3,4,5,6,7,8,9,10,11,12,13,14,15,16,17,18,19,20,21,22,23,24,25,26,27,28,29,30,31,32,33,34,35,36,37,38,39,40,41,42,43,44,45,46,47,48,49,50,51,52,53,54,55,56,57,58,59,60,61,62,63,64,65,66,67,68,69,70,71,72,73,74,75,76,77,78,79,80,81,82,83,84,85,86,87,88,89,90,91,92,93,94,95,96,97,98,99,100,101,102,103,104,105,106,107,108,109,110,111,112,113,114,115,116,117,118,119,120,121,122,123,124,125,126,127,128,129,130,131,132,133,134,135,136,137,138,139,140,141,142,143,144,145,146,147,148,149,150,151,152,153,154,155,156,157,158,159,160,161,162,163,164,165,166,167,168,169,170,171,172,173,174,175,176,177,178,179,180,181,182,183,184,185,186,187,188,189,190,191,192,193,194,195,196,197,198,199,200,201,202,203,204,205,206,207,208,209,210,211,212,213,214,215,216,217,218,219,220,221,222,223,224,225,226,227,228,229,230,231,232,233,234,235,236,237,238,239,240,241,242,243,244,245,246,247,248,249,250,251,252,253,254,255,256,257,258,259,260],\"locus\":[\"2:109511398\",\"2:109511527\",\"2:109511454\",\"2:109511463\",\"2:109511467\",\"2:109514464\",\"2:109512428\",\"2:109512364\",\"2:109512234\",\"2:109513786\",\"2:109513601\",\"2:109511765\",\"2:109514985\",\"2:223032700\",\"2:223032030\",\"2:223031834\",\"2:223032148\",\"2:223035136\",\"2:223033725\",\"2:223032680\",\"2:223036256\",\"2:223034770\",\"2:223031835\",\"2:223032002\",\"2:223035359\",\"2:223032504\",\"2:223032943\",\"2:223033006\",\"2:223034758\",\"2:223032399\",\"2:223035313\",\"2:223033978\",\"2:223033030\",\"2:223035940\",\"2:223035211\",\"2:223033642\",\"2:223034082\",\"4:54510121\",\"4:54509667\",\"4:54509738\",\"4:54510166\",\"4:54510555\",\"4:54512391\",\"4:54510360\",\"4:54509910\",\"4:54511042\",\"4:54511203\",\"4:54510021\",\"4:54514026\",\"4:54510427\",\"4:54513819\",\"4:54510874\",\"4:54509759\",\"4:54511913\",\"5:126625301\",\"5:126624608\",\"5:126625041\",\"5:126625517\",\"5:126625722\",\"5:126625573\",\"5:126627362\",\"5:126625964\",\"5:126625757\",\"5:126632055\",\"5:126637966\",\"5:126626099\",\"5:126635383\",\"5:126633442\",\"5:126627962\",\"5:126629021\",\"5:126625013\",\"5:126645650\",\"5:126627233\",\"5:126657860\",\"5:126662370\",\"5:126631791\",\"5:126661686\",\"5:126629761\",\"5:126625592\",\"5:126669834\",\"5:126735334\",\"5:126695127\",\"5:126636000\",\"5:126633404\",\"5:126701622\",\"5:126655361\",\"5:126636782\",\"5:126675780\",\"5:126672710\",\"5:126663406\",\"5:126715151\",\"5:126634444\",\"5:126653607\",\"5:126644632\",\"5:126793219\",\"5:126777362\",\"5:126767961\",\"5:126796585\",\"5:126723562\",\"5:126795246\",\"5:126710915\",\"5:126630491\",\"5:126769874\",\"5:126744956\",\"5:126661600\",\"5:126731876\",\"5:126717984\",\"5:126725054\",\"5:126725568\",\"5:126726847\",\"5:126699347\",\"5:126726851\",\"5:126697138\",\"5:126796531\",\"5:126797292\",\"5:126715759\",\"5:126687687\",\"5:126686756\",\"5:126657432\",\"5:126773064\",\"5:126775113\",\"5:126661519\",\"5:126694523\",\"5:126669209\",\"5:126645710\",\"5:126739085\",\"5:126698023\",\"5:126683416\",\"5:126693280\",\"5:126775462\",\"5:126669004\",\"5:126645705\",\"5:126683809\",\"5:126682354\",\"5:126731259\",\"5:126727008\",\"5:126641296\",\"5:126641770\",\"5:126685374\",\"5:126640971\",\"5:126645738\",\"5:126639025\",\"5:126637872\",\"5:126682039\",\"5:126639801\",\"5:126659892\",\"5:126640205\",\"5:126658500\",\"5:126656324\",\"5:126633436\",\"5:126633958\",\"5:126646864\",\"5:126640576\",\"5:126644681\",\"5:126654623\",\"5:126645646\",\"5:126635437\",\"5:126698345\",\"5:126694437\",\"5:126679697\",\"5:126688517\",\"5:126687822\",\"5:126640246\",\"5:126652710\",\"5:126650182\",\"5:126679402\",\"5:126625548\",\"5:126668683\",\"5:126674613\",\"5:126664039\",\"5:126648201\",\"5:126628098\",\"5:126639097\",\"5:126657217\",\"5:126639432\",\"5:126664981\",\"5:126662114\",\"5:126632821\",\"5:126656500\",\"5:126636211\",\"5:126655749\",\"5:126631841\",\"5:126655730\",\"5:126654970\",\"5:126647941\",\"5:126633827\",\"5:126629170\",\"5:126626645\",\"5:126628584\",\"5:126630948\",\"5:126627875\",\"5:126626044\",\"7:17282367\",\"7:17282343\",\"7:17282523\",\"7:17282329\",\"7:17282995\",\"7:17282735\",\"7:17283293\",\"7:17283259\",\"7:17283523\",\"7:17282684\",\"7:17284085\",\"7:17286087\",\"7:17282507\",\"7:17282872\",\"7:17282974\",\"7:17285867\",\"7:17284989\",\"7:17284577\",\"7:113987041\",\"7:113987371\",\"7:113987067\",\"7:113987867\",\"7:113988926\",\"7:113987889\",\"7:113988537\",\"7:113987281\",\"7:113989578\",\"7:113990352\",\"15:66185666\",\"15:66185811\",\"15:66185777\",\"15:66186080\",\"15:66185846\",\"15:66186061\",\"15:66189966\",\"15:66194887\",\"15:66195666\",\"15:66193404\",\"15:66203218\",\"15:66204188\",\"15:66197560\",\"15:66185803\",\"15:66258194\",\"15:66221782\",\"15:66188317\",\"15:66259809\",\"15:66217240\",\"15:66253733\",\"15:66269700\",\"15:66269804\",\"15:66269482\",\"15:66272491\",\"15:66269504\",\"15:66271772\",\"15:66323837\",\"15:66438961\",\"15:75026081\",\"15:75025637\",\"15:75026162\",\"15:75026131\",\"15:75029472\",\"15:75029228\",\"15:75027179\",\"15:75027432\",\"15:75025814\",\"15:75026149\",\"15:75027880\",\"15:75028490\",\"15:75025988\"],\"p_value\":{\"__ndarray__\":\"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\",\"dtype\":\"float64\",\"shape\":[261]},\"rs\":[\"rs150055772\",\"rs574502076\",\"rs558429529\",\"rs200762071\",\"rs145115545\",\"rs940928\",\"rs3749096\",\"rs10206737\",\"rs13001699\",\"rs3789738\",\"rs3827760\",\"rs10865025\",\"rs11689836\",\"rs546066562\",\"rs532374240\",\"rs538046270\",\"rs528192892\",\"rs184491207\",\"rs558223447\",\"rs371522534\",\"rs79922615\",\"rs201276449\",\"rs114946697\",\"rs7607981\",\"rs13431945\",\"rs36054640\",\"rs16863471\",\"rs529478087\",\"rs71050391\",\"rs986429\",\"rs66885466\",\"rs2196751\",\"rs16863473\",\"rs11690945\",\"rs5838931\",\"rs2218064\",\"rs2218065\",\"rs574866870\",\"rs571577163\",\"rs191006095\",\"rs562738931\",\"rs144220715\",\"rs566909613\",\"rs149974830\",\"rs139265415\",\"rs2590770\",\"rs2590771\",\"rs75718680\",\"rs79162003\",\"rs2668552\",\"rs6858782\",\"rs6816209\",\"rs6818959\",\"rs4864809\",\"rs541948164\",\"rs547382339\",\"rs565944571\",\"rs115887870\",\"rs75840444\",\"rs563348241\",\"rs146724967\",\"rs10519930\",\"rs116760623\",\"rs150961227\",\"rs76396046\",\"rs144701115\",\"rs79449805\",\"rs75811918\",\"rs62373865\",\"rs74472247\",\"rs78627309\",\"rs78802780\",\"rs79637336\",\"rs59539946\",\"rs76302267\",\"rs17165102\",\"rs114484030\",\"rs17165105\",\"rs183280201\",\"rs4836320\",\"rs10519939\",\"rs35528\",\"rs7702573\",\"rs73785574\",\"rs35524\",\"rs73785580\",\"rs17165082\",\"rs78120546\",\"rs77589749\",\"rs11285616\",\"rs79713470\",\"rs2194080\",\"rs138731838\",\"rs72786459\",\"rs10793809\",\"rs59745564\",\"rs6866678\",\"rs2898043\",\"rs9327438\",\"rs3756722\",\"rs34537147\",\"rs200086613\",\"rs10078629\",\"rs56320297\",\"rs33930493\",\"rs2059084\",\"rs35529\",\"rs10041484\",\"rs4401615\",\"rs2008432\",\"rs35525\",\"rs1318923\",\"rs35527\",\"rs35236935\",\"rs4836323\",\"rs113091845\",\"rs43148\",\"rs185030\",\"rs246889\",\"rs6859304\",\"rs34451603\",\"rs10550881\",\"rs27563\",\"rs145619126\",\"rs541675801\",\"rs6877254\",\"rs35156178\",\"rs187514\",\"rs144085293\",\"rs2408872\",\"rs26944\",\"rs201053818\",\"rs27388\",\"rs246894\",\"rs13171067\",\"rs1019482\",\"rs2585194\",\"rs2585193\",\"rs550745558\",\"rs2546081\",\"rs13153845\",\"rs2546079\",\"rs2546806\",\"rs246895\",\"rs2431724\",\"rs34208116\",\"rs1816058\",\"rs152122\",\"rs3050850\",\"rs970546\",\"rs2585196\",\"rs2161283\",\"rs2546080\",\"rs2254762\",\"rs2439927\",\"rs2546805\",\"rs35796097\",\"rs35526\",\"rs26947\",\"rs246896\",\"rs185033\",\"rs36308\",\"rs1816059\",\"rs246945\",\"rs1345663\",\"rs246897\",\"rs2408868\",\"rs2546078\",\"rs27782\",\"rs36307\",\"rs1422317\",\"rs2194079\",\"rs2546807\",\"rs152121\",\"rs2585195\",\"rs27749\",\"rs26945\",\"rs2585199\",\"rs152120\",\"rs2546809\",\"rs246887\",\"rs2585200\",\"rs246886\",\"rs246885\",\"rs1422316\",\"rs2585197\",\"rs12519784\",\"rs2032834\",\"rs112394041\",\"rs2059083\",\"rs4836316\",\"rs1363387\",\"rs535176587\",\"rs552946856\",\"rs540537374\",\"rs188125151\",\"rs556065339\",\"rs114486984\",\"rs112975519\",\"rs145880637\",\"rs112056574\",\"rs561704396\",\"rs6943079\",\"rs79694830\",\"rs62444547\",\"rs79710531\",\"rs17137451\",\"rs10281571\",\"rs10277582\",\"rs4410790\",\"rs192308926\",\"rs545983423\",\"rs183299685\",\"rs183624347\",\"rs116148093\",\"rs2690825\",\"rs2690826\",\"rs1527146\",\"rs2690827\",\"rs2049604\",\"rs543734954\",\"rs184379270\",\"rs563630446\",\"rs149930722\",\"rs114717896\",\"rs72742821\",\"rs34363188\",\"rs76390544\",\"rs140274890\",\"rs1063697\",\"rs55730328\",\"rs116748454\",\"rs16949086\",\"rs61543049\",\"rs333552\",\"rs77371692\",\"rs72742822\",\"rs333554\",\"rs12903123\",\"rs333567\",\"rs693217\",\"rs511563\",\"rs2437056\",\"rs388813\",\"rs372969314\",\"rs428658\",\"rs333584\",\"rs35259179\",\"rs150782361\",\"rs35042613\",\"rs533126191\",\"rs184871949\",\"rs76255041\",\"rs77021813\",\"rs17861120\",\"rs17861121\",\"rs12441817\",\"rs17861118\",\"rs2472297\",\"rs11072500\",\"rs4886605\"]},\"selected\":{\"id\":\"1085\",\"type\":\"Selection\"},\"selection_policy\":{\"id\":\"1084\",\"type\":\"UnionRenderers\"}},\"id\":\"1038\",\"type\":\"ColumnDataSource\"},{\"attributes\":{\"filters\":[{\"id\":\"1057\",\"type\":\"GroupFilter\"}],\"source\":{\"id\":\"1038\",\"type\":\"ColumnDataSource\"}},\"id\":\"1058\",\"type\":\"CDSView\"},{\"attributes\":{\"data_source\":{\"id\":\"1038\",\"type\":\"ColumnDataSource\"},\"glyph\":{\"id\":\"1054\",\"type\":\"Circle\"},\"hover_glyph\":null,\"muted_glyph\":null,\"nonselection_glyph\":{\"id\":\"1055\",\"type\":\"Circle\"},\"selection_glyph\":null,\"view\":{\"id\":\"1052\",\"type\":\"CDSView\"}},\"id\":\"1056\",\"type\":\"GlyphRenderer\"},{\"attributes\":{\"bottom_units\":\"screen\",\"fill_alpha\":{\"value\":0.5},\"fill_color\":{\"value\":\"lightgrey\"},\"left_units\":\"screen\",\"level\":\"overlay\",\"line_alpha\":{\"value\":1.0},\"line_color\":{\"value\":\"black\"},\"line_dash\":[4,4],\"line_width\":{\"value\":2},\"render_mode\":\"css\",\"right_units\":\"screen\",\"top_units\":\"screen\"},\"id\":\"1086\",\"type\":\"BoxAnnotation\"},{\"attributes\":{\"line_color\":{\"value\":\"red\"},\"line_dash\":[6],\"line_width\":{\"value\":1.5},\"location\":7.301029995663981},\"id\":\"1096\",\"type\":\"Span\"},{\"attributes\":{\"fill_color\":{\"field\":\"_contig\",\"transform\":{\"id\":\"1002\",\"type\":\"CategoricalColorMapper\"}},\"line_color\":{\"field\":\"_contig\",\"transform\":{\"id\":\"1002\",\"type\":\"CategoricalColorMapper\"}},\"x\":{\"field\":\"_global_locus\"},\"y\":{\"field\":\"_pval\"}},\"id\":\"1066\",\"type\":\"Circle\"},{\"attributes\":{\"fill_color\":{\"field\":\"_contig\",\"transform\":{\"id\":\"1002\",\"type\":\"CategoricalColorMapper\"}},\"line_color\":{\"field\":\"_contig\",\"transform\":{\"id\":\"1002\",\"type\":\"CategoricalColorMapper\"}},\"x\":{\"field\":\"_global_locus\"},\"y\":{\"field\":\"_pval\"}},\"id\":\"1060\",\"type\":\"Circle\"},{\"attributes\":{},\"id\":\"1028\",\"type\":\"HelpTool\"},{\"attributes\":{},\"id\":\"1084\",\"type\":\"UnionRenderers\"},{\"attributes\":{\"label\":{\"value\":\"4\"},\"renderers\":[{\"id\":\"1056\",\"type\":\"GlyphRenderer\"}]},\"id\":\"1071\",\"type\":\"LegendItem\"},{\"attributes\":{\"color_mapper\":null,\"formatter\":{\"id\":\"1082\",\"type\":\"BasicTickFormatter\"},\"ticker\":{\"id\":\"1083\",\"type\":\"BasicTicker\"},\"visible\":false},\"id\":\"1075\",\"type\":\"ColorBar\"},{\"attributes\":{\"overlay\":{\"id\":\"1086\",\"type\":\"BoxAnnotation\"}},\"id\":\"1025\",\"type\":\"BoxZoomTool\"},{\"attributes\":{\"fill_color\":{\"field\":\"_contig\",\"transform\":{\"id\":\"1002\",\"type\":\"CategoricalColorMapper\"}},\"line_color\":{\"field\":\"_contig\",\"transform\":{\"id\":\"1002\",\"type\":\"CategoricalColorMapper\"}},\"x\":{\"field\":\"_global_locus\"},\"y\":{\"field\":\"_pval\"}},\"id\":\"1054\",\"type\":\"Circle\"},{\"attributes\":{},\"id\":\"1026\",\"type\":\"SaveTool\"},{\"attributes\":{},\"id\":\"1085\",\"type\":\"Selection\"},{\"attributes\":{\"active_drag\":\"auto\",\"active_inspect\":\"auto\",\"active_multi\":null,\"active_scroll\":\"auto\",\"active_tap\":\"auto\",\"tools\":[{\"id\":\"1023\",\"type\":\"PanTool\"},{\"id\":\"1024\",\"type\":\"WheelZoomTool\"},{\"id\":\"1025\",\"type\":\"BoxZoomTool\"},{\"id\":\"1026\",\"type\":\"SaveTool\"},{\"id\":\"1027\",\"type\":\"ResetTool\"},{\"id\":\"1028\",\"type\":\"HelpTool\"},{\"id\":\"1037\",\"type\":\"HoverTool\"}]},\"id\":\"1029\",\"type\":\"Toolbar\"},{\"attributes\":{},\"id\":\"1023\",\"type\":\"PanTool\"},{\"attributes\":{\"dimension\":1,\"ticker\":{\"id\":\"1019\",\"type\":\"BasicTicker\"}},\"id\":\"1022\",\"type\":\"Grid\"},{\"attributes\":{\"filters\":[{\"id\":\"1063\",\"type\":\"GroupFilter\"}],\"source\":{\"id\":\"1038\",\"type\":\"ColumnDataSource\"}},\"id\":\"1064\",\"type\":\"CDSView\"},{\"attributes\":{},\"id\":\"1024\",\"type\":\"WheelZoomTool\"},{\"attributes\":{\"ticker\":{\"id\":\"1014\",\"type\":\"BasicTicker\"}},\"id\":\"1017\",\"type\":\"Grid\"},{\"attributes\":{\"data_source\":{\"id\":\"1038\",\"type\":\"ColumnDataSource\"},\"glyph\":{\"id\":\"1066\",\"type\":\"Circle\"},\"hover_glyph\":null,\"muted_glyph\":null,\"nonselection_glyph\":{\"id\":\"1067\",\"type\":\"Circle\"},\"selection_glyph\":null,\"view\":{\"id\":\"1064\",\"type\":\"CDSView\"}},\"id\":\"1068\",\"type\":\"GlyphRenderer\"},{\"attributes\":{\"fill_alpha\":{\"value\":0.1},\"fill_color\":{\"value\":\"#1f77b4\"},\"line_alpha\":{\"value\":0.1},\"line_color\":{\"value\":\"#1f77b4\"},\"x\":{\"field\":\"_global_locus\"},\"y\":{\"field\":\"_pval\"}},\"id\":\"1049\",\"type\":\"Circle\"},{\"attributes\":{},\"id\":\"1082\",\"type\":\"BasicTickFormatter\"},{\"attributes\":{},\"id\":\"1027\",\"type\":\"ResetTool\"},{\"attributes\":{\"column_name\":\"_contig\",\"group\":\"4\"},\"id\":\"1051\",\"type\":\"GroupFilter\"},{\"attributes\":{\"label\":{\"value\":\"5\"},\"renderers\":[{\"id\":\"1062\",\"type\":\"GlyphRenderer\"}]},\"id\":\"1072\",\"type\":\"LegendItem\"},{\"attributes\":{},\"id\":\"1011\",\"type\":\"LinearScale\"},{\"attributes\":{\"filters\":[{\"id\":\"1039\",\"type\":\"GroupFilter\"}],\"source\":{\"id\":\"1038\",\"type\":\"ColumnDataSource\"}},\"id\":\"1040\",\"type\":\"CDSView\"},{\"attributes\":{\"column_name\":\"_contig\",\"group\":\"2\"},\"id\":\"1045\",\"type\":\"GroupFilter\"},{\"attributes\":{\"label\":{\"value\":\"7\"},\"renderers\":[{\"id\":\"1068\",\"type\":\"GlyphRenderer\"}]},\"id\":\"1073\",\"type\":\"LegendItem\"},{\"attributes\":{\"axis_label\":\"Chromosome\",\"formatter\":{\"id\":\"1079\",\"type\":\"BasicTickFormatter\"},\"major_label_overrides\":{\"1313226358\":\"7\",\"2358551415\":\"15\",\"370850307\":\"2\",\"786049562\":\"4\",\"972084330\":\"5\"},\"ticker\":{\"id\":\"1076\",\"type\":\"FixedTicker\"}},\"id\":\"1013\",\"type\":\"LinearAxis\"},{\"attributes\":{\"filters\":[{\"id\":\"1045\",\"type\":\"GroupFilter\"}],\"source\":{\"id\":\"1038\",\"type\":\"ColumnDataSource\"}},\"id\":\"1046\",\"type\":\"CDSView\"},{\"attributes\":{},\"id\":\"1080\",\"type\":\"BasicTickFormatter\"},{\"attributes\":{\"click_policy\":\"hide\",\"items\":[{\"id\":\"1069\",\"type\":\"LegendItem\"},{\"id\":\"1070\",\"type\":\"LegendItem\"},{\"id\":\"1071\",\"type\":\"LegendItem\"},{\"id\":\"1072\",\"type\":\"LegendItem\"},{\"id\":\"1073\",\"type\":\"LegendItem\"}],\"visible\":false},\"id\":\"1074\",\"type\":\"Legend\"},{\"attributes\":{\"axis_label\":\"P-value (-log10 scale)\",\"formatter\":{\"id\":\"1080\",\"type\":\"BasicTickFormatter\"},\"ticker\":{\"id\":\"1019\",\"type\":\"BasicTicker\"}},\"id\":\"1018\",\"type\":\"LinearAxis\"},{\"attributes\":{\"data_source\":{\"id\":\"1038\",\"type\":\"ColumnDataSource\"},\"glyph\":{\"id\":\"1042\",\"type\":\"Circle\"},\"hover_glyph\":null,\"muted_glyph\":null,\"nonselection_glyph\":{\"id\":\"1043\",\"type\":\"Circle\"},\"selection_glyph\":null,\"view\":{\"id\":\"1040\",\"type\":\"CDSView\"}},\"id\":\"1044\",\"type\":\"GlyphRenderer\"},{\"attributes\":{},\"id\":\"1079\",\"type\":\"BasicTickFormatter\"},{\"attributes\":{\"label\":{\"value\":\"15\"},\"renderers\":[{\"id\":\"1044\",\"type\":\"GlyphRenderer\"}]},\"id\":\"1069\",\"type\":\"LegendItem\"},{\"attributes\":{},\"id\":\"1014\",\"type\":\"BasicTicker\"},{\"attributes\":{\"callback\":null},\"id\":\"1007\",\"type\":\"DataRange1d\"},{\"attributes\":{\"label\":{\"value\":\"2\"},\"renderers\":[{\"id\":\"1050\",\"type\":\"GlyphRenderer\"}]},\"id\":\"1070\",\"type\":\"LegendItem\"},{\"attributes\":{\"fill_color\":{\"field\":\"_contig\",\"transform\":{\"id\":\"1002\",\"type\":\"CategoricalColorMapper\"}},\"line_color\":{\"field\":\"_contig\",\"transform\":{\"id\":\"1002\",\"type\":\"CategoricalColorMapper\"}},\"x\":{\"field\":\"_global_locus\"},\"y\":{\"field\":\"_pval\"}},\"id\":\"1048\",\"type\":\"Circle\"}],\"root_ids\":[\"1003\"]},\"title\":\"Bokeh Application\",\"version\":\"1.4.0\"}};\n",
       "  var render_items = [{\"docid\":\"ac18815b-0eb9-4df0-894c-610631249b9f\",\"roots\":{\"1003\":\"0fd03b49-4886-4f4e-9d59-5213c8c2bbb3\"}}];\n",
       "  root.Bokeh.embed.embed_items_notebook(docs_json, render_items);\n",
       "\n",
       "  }\n",
       "  if (root.Bokeh !== undefined) {\n",
       "    embed_document(root);\n",
       "  } else {\n",
       "    var attempts = 0;\n",
       "    var timer = setInterval(function(root) {\n",
       "      if (root.Bokeh !== undefined) {\n",
       "        clearInterval(timer);\n",
       "        embed_document(root);\n",
       "      } else {\n",
       "        attempts++;\n",
       "        if (attempts > 100) {\n",
       "          clearInterval(timer);\n",
       "          console.log(\"Bokeh: ERROR: Unable to run BokehJS code because BokehJS library is missing\");\n",
       "        }\n",
       "      }\n",
       "    }, 10, root)\n",
       "  }\n",
       "})(window);"
      ],
      "application/vnd.bokehjs_exec.v0+json": ""
     },
     "metadata": {
      "application/vnd.bokehjs_exec.v0+json": {
       "id": "1003"
      }
     },
     "output_type": "display_data"
    }
   ],
   "source": [
    "p = hl.plot.manhattan(gwas.p_value, hover_fields=dict(rs=gwas.rsid))\n",
    "show(p)"
   ]
  },
  {
   "cell_type": "markdown",
   "metadata": {},
   "source": [
    "_Fig 1: Manhattan plot for logistic regression p-values._"
   ]
  },
  {
   "cell_type": "markdown",
   "metadata": {},
   "source": [
    "## Build random forest and extract gini importance with VariantSpark (on the same data)"
   ]
  },
  {
   "cell_type": "code",
   "execution_count": 10,
   "metadata": {},
   "outputs": [
    {
     "name": "stderr",
     "output_type": "stream",
     "text": [
      "2022-05-09 14:35:04 Hail: INFO: Coerced almost-sorted dataset\n",
      "[Stage 696:>                                                        (0 + 8) / 9]\r"
     ]
    }
   ],
   "source": [
    "rf_model = vshl.random_forest_model(y=mt.hipster.label,\n",
    "                    x=mt.GT.n_alt_alleles(), \n",
    "                    covariates={'age':mt.hipster.age, 'PC0':mt.hipster.PC0, 'PC1':mt.hipster.PC1, 'PC2':mt.hipster.PC2})\n",
    "rf_model.fit_trees(500, 100)"
   ]
  },
  {
   "cell_type": "markdown",
   "metadata": {},
   "source": [
    "Capture the variant importances"
   ]
  },
  {
   "cell_type": "code",
   "execution_count": 11,
   "metadata": {},
   "outputs": [
    {
     "name": "stdout",
     "output_type": "stream",
     "text": [
      "0.18130990415335463\n"
     ]
    },
    {
     "name": "stderr",
     "output_type": "stream",
     "text": [
      "2022-05-09 14:38:43 Hail: INFO: Coerced sorted dataset\n"
     ]
    },
    {
     "data": {
      "text/html": [
       "<table><thead><tr><td style=\"white-space: nowrap; max-width: 500px; overflow: hidden; text-overflow: ellipsis; \" colspan=\"1\"><div style=\"text-align: left;\"></div></td><td style=\"white-space: nowrap; max-width: 500px; overflow: hidden; text-overflow: ellipsis; \" colspan=\"1\"><div style=\"text-align: left;\"></div></td><td style=\"white-space: nowrap; max-width: 500px; overflow: hidden; text-overflow: ellipsis; \" colspan=\"1\"><div style=\"text-align: left;\"></div></td><td style=\"white-space: nowrap; max-width: 500px; overflow: hidden; text-overflow: ellipsis; \" colspan=\"1\"><div style=\"text-align: left;\"></div></td></tr><tr><td style=\"white-space: nowrap; max-width: 500px; overflow: hidden; text-overflow: ellipsis; \" colspan=\"1\"><div style=\"text-align: left;border-bottom: solid 2px #000; padding-bottom: 5px\">locus</div></td><td style=\"white-space: nowrap; max-width: 500px; overflow: hidden; text-overflow: ellipsis; \" colspan=\"1\"><div style=\"text-align: left;border-bottom: solid 2px #000; padding-bottom: 5px\">alleles</div></td><td style=\"white-space: nowrap; max-width: 500px; overflow: hidden; text-overflow: ellipsis; \" colspan=\"1\"><div style=\"text-align: left;border-bottom: solid 2px #000; padding-bottom: 5px\">importance</div></td><td style=\"white-space: nowrap; max-width: 500px; overflow: hidden; text-overflow: ellipsis; \" colspan=\"1\"><div style=\"text-align: left;border-bottom: solid 2px #000; padding-bottom: 5px\">splitCount</div></td></tr><tr><td style=\"white-space: nowrap; max-width: 500px; overflow: hidden; text-overflow: ellipsis; text-align: left;\">locus&lt;GRCh37&gt;</td><td style=\"white-space: nowrap; max-width: 500px; overflow: hidden; text-overflow: ellipsis; text-align: left;\">array&lt;str&gt;</td><td style=\"white-space: nowrap; max-width: 500px; overflow: hidden; text-overflow: ellipsis; text-align: left;\">float64</td><td style=\"white-space: nowrap; max-width: 500px; overflow: hidden; text-overflow: ellipsis; text-align: left;\">int64</td></tr>\n",
       "</thead><tbody><tr><td style=\"white-space: nowrap; max-width: 500px; overflow: hidden; text-overflow: ellipsis; \">2:109511398</td><td style=\"white-space: nowrap; max-width: 500px; overflow: hidden; text-overflow: ellipsis; \">[&quot;G&quot;,&quot;A&quot;]</td><td style=\"white-space: nowrap; max-width: 500px; overflow: hidden; text-overflow: ellipsis; \">0.00e+00</td><td style=\"white-space: nowrap; max-width: 500px; overflow: hidden; text-overflow: ellipsis; \">0</td></tr>\n",
       "<tr><td style=\"white-space: nowrap; max-width: 500px; overflow: hidden; text-overflow: ellipsis; \">2:109511454</td><td style=\"white-space: nowrap; max-width: 500px; overflow: hidden; text-overflow: ellipsis; \">[&quot;C&quot;,&quot;A&quot;]</td><td style=\"white-space: nowrap; max-width: 500px; overflow: hidden; text-overflow: ellipsis; \">1.84e-02</td><td style=\"white-space: nowrap; max-width: 500px; overflow: hidden; text-overflow: ellipsis; \">4</td></tr>\n",
       "<tr><td style=\"white-space: nowrap; max-width: 500px; overflow: hidden; text-overflow: ellipsis; \">2:109511463</td><td style=\"white-space: nowrap; max-width: 500px; overflow: hidden; text-overflow: ellipsis; \">[&quot;G&quot;,&quot;A&quot;]</td><td style=\"white-space: nowrap; max-width: 500px; overflow: hidden; text-overflow: ellipsis; \">1.13e-01</td><td style=\"white-space: nowrap; max-width: 500px; overflow: hidden; text-overflow: ellipsis; \">24</td></tr>\n",
       "</tbody></table><p style=\"background: #fdd; padding: 0.4em;\">showing top 3 rows</p>\n"
      ],
      "text/plain": [
       "+---------------+------------+------------+------------+\n",
       "| locus         | alleles    | importance | splitCount |\n",
       "+---------------+------------+------------+------------+\n",
       "| locus<GRCh37> | array<str> |    float64 |      int64 |\n",
       "+---------------+------------+------------+------------+\n",
       "| 2:109511398   | [\"G\",\"A\"]  |   0.00e+00 |          0 |\n",
       "| 2:109511454   | [\"C\",\"A\"]  |   1.84e-02 |          4 |\n",
       "| 2:109511463   | [\"G\",\"A\"]  |   1.13e-01 |         24 |\n",
       "+---------------+------------+------------+------------+\n",
       "showing top 3 rows"
      ]
     },
     "metadata": {},
     "output_type": "display_data"
    }
   ],
   "source": [
    "print(rf_model.oob_error())\n",
    "impTable = rf_model.variable_importance()\n",
    "impTable.show(3)"
   ]
  },
  {
   "cell_type": "markdown",
   "metadata": {},
   "source": [
    "Show the covariates importances"
   ]
  },
  {
   "cell_type": "code",
   "execution_count": 12,
   "metadata": {},
   "outputs": [
    {
     "name": "stderr",
     "output_type": "stream",
     "text": [
      "2022-05-09 14:38:44 Hail: INFO: Coerced sorted dataset\n",
      "2022-05-09 14:38:44 Hail: INFO: Coerced dataset with out-of-order partitions.\n"
     ]
    },
    {
     "data": {
      "text/html": [
       "<table><thead><tr><td style=\"white-space: nowrap; max-width: 500px; overflow: hidden; text-overflow: ellipsis; \" colspan=\"1\"><div style=\"text-align: left;\"></div></td><td style=\"white-space: nowrap; max-width: 500px; overflow: hidden; text-overflow: ellipsis; \" colspan=\"1\"><div style=\"text-align: left;\"></div></td><td style=\"white-space: nowrap; max-width: 500px; overflow: hidden; text-overflow: ellipsis; \" colspan=\"1\"><div style=\"text-align: left;\"></div></td></tr><tr><td style=\"white-space: nowrap; max-width: 500px; overflow: hidden; text-overflow: ellipsis; \" colspan=\"1\"><div style=\"text-align: left;border-bottom: solid 2px #000; padding-bottom: 5px\">covariate</div></td><td style=\"white-space: nowrap; max-width: 500px; overflow: hidden; text-overflow: ellipsis; \" colspan=\"1\"><div style=\"text-align: left;border-bottom: solid 2px #000; padding-bottom: 5px\">importance</div></td><td style=\"white-space: nowrap; max-width: 500px; overflow: hidden; text-overflow: ellipsis; \" colspan=\"1\"><div style=\"text-align: left;border-bottom: solid 2px #000; padding-bottom: 5px\">splitCount</div></td></tr><tr><td style=\"white-space: nowrap; max-width: 500px; overflow: hidden; text-overflow: ellipsis; text-align: left;\">str</td><td style=\"white-space: nowrap; max-width: 500px; overflow: hidden; text-overflow: ellipsis; text-align: left;\">float64</td><td style=\"white-space: nowrap; max-width: 500px; overflow: hidden; text-overflow: ellipsis; text-align: left;\">int64</td></tr>\n",
       "</thead><tbody><tr><td style=\"white-space: nowrap; max-width: 500px; overflow: hidden; text-overflow: ellipsis; \">&quot;PC0&quot;</td><td style=\"white-space: nowrap; max-width: 500px; overflow: hidden; text-overflow: ellipsis; \">2.53e+00</td><td style=\"white-space: nowrap; max-width: 500px; overflow: hidden; text-overflow: ellipsis; \">471</td></tr>\n",
       "<tr><td style=\"white-space: nowrap; max-width: 500px; overflow: hidden; text-overflow: ellipsis; \">&quot;PC1&quot;</td><td style=\"white-space: nowrap; max-width: 500px; overflow: hidden; text-overflow: ellipsis; \">2.52e+00</td><td style=\"white-space: nowrap; max-width: 500px; overflow: hidden; text-overflow: ellipsis; \">479</td></tr>\n",
       "<tr><td style=\"white-space: nowrap; max-width: 500px; overflow: hidden; text-overflow: ellipsis; \">&quot;PC2&quot;</td><td style=\"white-space: nowrap; max-width: 500px; overflow: hidden; text-overflow: ellipsis; \">2.57e+00</td><td style=\"white-space: nowrap; max-width: 500px; overflow: hidden; text-overflow: ellipsis; \">464</td></tr>\n",
       "<tr><td style=\"white-space: nowrap; max-width: 500px; overflow: hidden; text-overflow: ellipsis; \">&quot;age&quot;</td><td style=\"white-space: nowrap; max-width: 500px; overflow: hidden; text-overflow: ellipsis; \">2.55e+00</td><td style=\"white-space: nowrap; max-width: 500px; overflow: hidden; text-overflow: ellipsis; \">473</td></tr>\n",
       "</tbody></table>"
      ],
      "text/plain": [
       "+-----------+------------+------------+\n",
       "| covariate | importance | splitCount |\n",
       "+-----------+------------+------------+\n",
       "| str       |    float64 |      int64 |\n",
       "+-----------+------------+------------+\n",
       "| \"PC0\"     |   2.53e+00 |        471 |\n",
       "| \"PC1\"     |   2.52e+00 |        479 |\n",
       "| \"PC2\"     |   2.57e+00 |        464 |\n",
       "| \"age\"     |   2.55e+00 |        473 |\n",
       "+-----------+------------+------------+"
      ]
     },
     "metadata": {},
     "output_type": "display_data"
    }
   ],
   "source": [
    "covImpTable = rf_model.covariate_importance()\n",
    "covImpTable.show(4)"
   ]
  },
  {
   "cell_type": "markdown",
   "metadata": {},
   "source": [
    "Join hail and VariantSpark results (this is only needed here to get the RSID's)"
   ]
  },
  {
   "cell_type": "code",
   "execution_count": 13,
   "metadata": {},
   "outputs": [
    {
     "name": "stderr",
     "output_type": "stream",
     "text": [
      "2022-05-09 14:38:44 Hail: INFO: Table.join: renamed the following fields on the right to avoid name conflicts:\n",
      "    'alleles' -> 'alleles_1'\n",
      "    'locus' -> 'locus_1'\n"
     ]
    }
   ],
   "source": [
    "gwas_with_imp = gwas.join(impTable)"
   ]
  },
  {
   "cell_type": "code",
   "execution_count": 14,
   "metadata": {},
   "outputs": [
    {
     "name": "stderr",
     "output_type": "stream",
     "text": [
      "\r",
      "[Stage 746:>                                                        (0 + 1) / 1]\r"
     ]
    },
    {
     "data": {
      "text/html": [
       "\n",
       "\n",
       "\n",
       "\n",
       "\n",
       "\n",
       "  <div class=\"bk-root\" id=\"8b3cb01c-4499-4681-9d01-af20d9f8f6df\" data-root-id=\"1161\"></div>\n"
      ]
     },
     "metadata": {},
     "output_type": "display_data"
    },
    {
     "data": {
      "application/javascript": [
       "(function(root) {\n",
       "  function embed_document(root) {\n",
       "    \n",
       "  var docs_json = {\"1d065151-5af3-4dc1-8b2f-7168f3b3fba0\":{\"roots\":{\"references\":[{\"attributes\":{\"below\":[{\"id\":\"1171\",\"type\":\"LinearAxis\"}],\"center\":[{\"id\":\"1175\",\"type\":\"Grid\"},{\"id\":\"1180\",\"type\":\"Grid\"}],\"left\":[{\"id\":\"1176\",\"type\":\"LinearAxis\"},{\"id\":\"1232\",\"type\":\"Legend\"},{\"id\":\"1233\",\"type\":\"ColorBar\"}],\"plot_width\":1000,\"renderers\":[{\"id\":\"1202\",\"type\":\"GlyphRenderer\"},{\"id\":\"1208\",\"type\":\"GlyphRenderer\"},{\"id\":\"1214\",\"type\":\"GlyphRenderer\"},{\"id\":\"1220\",\"type\":\"GlyphRenderer\"},{\"id\":\"1226\",\"type\":\"GlyphRenderer\"}],\"title\":null,\"toolbar\":{\"id\":\"1187\",\"type\":\"Toolbar\"},\"x_range\":{\"id\":\"1163\",\"type\":\"DataRange1d\"},\"x_scale\":{\"id\":\"1167\",\"type\":\"LinearScale\"},\"y_range\":{\"id\":\"1165\",\"type\":\"DataRange1d\"},\"y_scale\":{\"id\":\"1169\",\"type\":\"LinearScale\"}},\"id\":\"1161\",\"subtype\":\"Figure\",\"type\":\"Plot\"},{\"attributes\":{},\"id\":\"1181\",\"type\":\"PanTool\"},{\"attributes\":{\"filters\":[{\"id\":\"1203\",\"type\":\"GroupFilter\"}],\"source\":{\"id\":\"1196\",\"type\":\"ColumnDataSource\"}},\"id\":\"1204\",\"type\":\"CDSView\"},{\"attributes\":{},\"id\":\"1240\",\"type\":\"BasicTickFormatter\"},{\"attributes\":{\"column_name\":\"_contig\",\"group\":\"2\"},\"id\":\"1203\",\"type\":\"GroupFilter\"},{\"attributes\":{\"filters\":[{\"id\":\"1215\",\"type\":\"GroupFilter\"}],\"source\":{\"id\":\"1196\",\"type\":\"ColumnDataSource\"}},\"id\":\"1216\",\"type\":\"CDSView\"},{\"attributes\":{},\"id\":\"1186\",\"type\":\"HelpTool\"},{\"attributes\":{\"fill_color\":{\"field\":\"_contig\",\"transform\":{\"id\":\"1160\",\"type\":\"CategoricalColorMapper\"}},\"line_color\":{\"field\":\"_contig\",\"transform\":{\"id\":\"1160\",\"type\":\"CategoricalColorMapper\"}},\"x\":{\"field\":\"_global_locus\"},\"y\":{\"field\":\"_pval\"}},\"id\":\"1218\",\"type\":\"Circle\"},{\"attributes\":{\"callback\":null},\"id\":\"1163\",\"type\":\"DataRange1d\"},{\"attributes\":{\"axis_label\":\"Importance (gini)\",\"formatter\":{\"id\":\"1238\",\"type\":\"BasicTickFormatter\"},\"ticker\":{\"id\":\"1177\",\"type\":\"BasicTicker\"}},\"id\":\"1176\",\"type\":\"LinearAxis\"},{\"attributes\":{},\"id\":\"1167\",\"type\":\"LinearScale\"},{\"attributes\":{\"ticks\":[370850306,786049561,972084329,1313226357,2358551414]},\"id\":\"1234\",\"type\":\"FixedTicker\"},{\"attributes\":{\"fill_alpha\":{\"value\":0.1},\"fill_color\":{\"value\":\"#1f77b4\"},\"line_alpha\":{\"value\":0.1},\"line_color\":{\"value\":\"#1f77b4\"},\"x\":{\"field\":\"_global_locus\"},\"y\":{\"field\":\"_pval\"}},\"id\":\"1207\",\"type\":\"Circle\"},{\"attributes\":{\"data_source\":{\"id\":\"1196\",\"type\":\"ColumnDataSource\"},\"glyph\":{\"id\":\"1206\",\"type\":\"Circle\"},\"hover_glyph\":null,\"muted_glyph\":null,\"nonselection_glyph\":{\"id\":\"1207\",\"type\":\"Circle\"},\"selection_glyph\":null,\"view\":{\"id\":\"1204\",\"type\":\"CDSView\"}},\"id\":\"1208\",\"type\":\"GlyphRenderer\"},{\"attributes\":{\"active_drag\":\"auto\",\"active_inspect\":\"auto\",\"active_multi\":null,\"active_scroll\":\"auto\",\"active_tap\":\"auto\",\"tools\":[{\"id\":\"1181\",\"type\":\"PanTool\"},{\"id\":\"1182\",\"type\":\"WheelZoomTool\"},{\"id\":\"1183\",\"type\":\"BoxZoomTool\"},{\"id\":\"1184\",\"type\":\"SaveTool\"},{\"id\":\"1185\",\"type\":\"ResetTool\"},{\"id\":\"1186\",\"type\":\"HelpTool\"},{\"id\":\"1195\",\"type\":\"HoverTool\"}]},\"id\":\"1187\",\"type\":\"Toolbar\"},{\"attributes\":{\"filters\":[{\"id\":\"1197\",\"type\":\"GroupFilter\"}],\"source\":{\"id\":\"1196\",\"type\":\"ColumnDataSource\"}},\"id\":\"1198\",\"type\":\"CDSView\"},{\"attributes\":{\"fill_color\":{\"field\":\"_contig\",\"transform\":{\"id\":\"1160\",\"type\":\"CategoricalColorMapper\"}},\"line_color\":{\"field\":\"_contig\",\"transform\":{\"id\":\"1160\",\"type\":\"CategoricalColorMapper\"}},\"x\":{\"field\":\"_global_locus\"},\"y\":{\"field\":\"_pval\"}},\"id\":\"1206\",\"type\":\"Circle\"},{\"attributes\":{},\"id\":\"1182\",\"type\":\"WheelZoomTool\"},{\"attributes\":{\"click_policy\":\"hide\",\"items\":[{\"id\":\"1227\",\"type\":\"LegendItem\"},{\"id\":\"1228\",\"type\":\"LegendItem\"},{\"id\":\"1229\",\"type\":\"LegendItem\"},{\"id\":\"1230\",\"type\":\"LegendItem\"},{\"id\":\"1231\",\"type\":\"LegendItem\"}],\"visible\":false},\"id\":\"1232\",\"type\":\"Legend\"},{\"attributes\":{},\"id\":\"1238\",\"type\":\"BasicTickFormatter\"},{\"attributes\":{},\"id\":\"1177\",\"type\":\"BasicTicker\"},{\"attributes\":{\"callback\":null},\"id\":\"1165\",\"type\":\"DataRange1d\"},{\"attributes\":{\"overlay\":{\"id\":\"1244\",\"type\":\"BoxAnnotation\"}},\"id\":\"1183\",\"type\":\"BoxZoomTool\"},{\"attributes\":{\"data_source\":{\"id\":\"1196\",\"type\":\"ColumnDataSource\"},\"glyph\":{\"id\":\"1212\",\"type\":\"Circle\"},\"hover_glyph\":null,\"muted_glyph\":null,\"nonselection_glyph\":{\"id\":\"1213\",\"type\":\"Circle\"},\"selection_glyph\":null,\"view\":{\"id\":\"1210\",\"type\":\"CDSView\"}},\"id\":\"1214\",\"type\":\"GlyphRenderer\"},{\"attributes\":{\"factors\":[\"1\",\"2\",\"3\",\"4\",\"5\",\"6\",\"7\",\"8\",\"9\",\"10\",\"11\",\"12\",\"13\",\"14\",\"15\",\"16\",\"17\",\"18\",\"19\",\"20\",\"21\",\"22\",\"X\",\"Y\",\"MT\",\"GL000207.1\",\"GL000226.1\",\"GL000229.1\",\"GL000231.1\",\"GL000210.1\",\"GL000239.1\",\"GL000235.1\",\"GL000201.1\",\"GL000247.1\",\"GL000245.1\",\"GL000197.1\",\"GL000203.1\",\"GL000246.1\",\"GL000249.1\",\"GL000196.1\",\"GL000248.1\",\"GL000244.1\",\"GL000238.1\",\"GL000202.1\",\"GL000234.1\",\"GL000232.1\",\"GL000206.1\",\"GL000240.1\",\"GL000236.1\",\"GL000241.1\",\"GL000243.1\",\"GL000242.1\",\"GL000230.1\",\"GL000237.1\",\"GL000233.1\",\"GL000204.1\",\"GL000198.1\",\"GL000208.1\",\"GL000191.1\",\"GL000227.1\",\"GL000228.1\",\"GL000214.1\",\"GL000221.1\",\"GL000209.1\",\"GL000218.1\",\"GL000220.1\",\"GL000213.1\",\"GL000211.1\",\"GL000199.1\",\"GL000217.1\",\"GL000216.1\",\"GL000215.1\",\"GL000205.1\",\"GL000219.1\",\"GL000224.1\",\"GL000223.1\",\"GL000195.1\",\"GL000212.1\",\"GL000222.1\",\"GL000200.1\",\"GL000193.1\",\"GL000194.1\",\"GL000225.1\",\"GL000192.1\"],\"palette\":[\"#1f77b4\",\"#ff7f0e\",\"#1f77b4\",\"#ff7f0e\",\"#1f77b4\",\"#ff7f0e\",\"#1f77b4\",\"#ff7f0e\",\"#1f77b4\",\"#ff7f0e\",\"#1f77b4\",\"#ff7f0e\",\"#1f77b4\",\"#ff7f0e\",\"#1f77b4\",\"#ff7f0e\",\"#1f77b4\",\"#ff7f0e\",\"#1f77b4\",\"#ff7f0e\",\"#1f77b4\",\"#ff7f0e\",\"#1f77b4\",\"#ff7f0e\",\"#1f77b4\",\"#ff7f0e\",\"#1f77b4\",\"#ff7f0e\",\"#1f77b4\",\"#ff7f0e\",\"#1f77b4\",\"#ff7f0e\",\"#1f77b4\",\"#ff7f0e\",\"#1f77b4\",\"#ff7f0e\",\"#1f77b4\",\"#ff7f0e\",\"#1f77b4\",\"#ff7f0e\",\"#1f77b4\",\"#ff7f0e\",\"#1f77b4\",\"#ff7f0e\",\"#1f77b4\",\"#ff7f0e\",\"#1f77b4\",\"#ff7f0e\",\"#1f77b4\",\"#ff7f0e\",\"#1f77b4\",\"#ff7f0e\",\"#1f77b4\",\"#ff7f0e\",\"#1f77b4\",\"#ff7f0e\",\"#1f77b4\",\"#ff7f0e\",\"#1f77b4\",\"#ff7f0e\",\"#1f77b4\",\"#ff7f0e\",\"#1f77b4\",\"#ff7f0e\",\"#1f77b4\",\"#ff7f0e\",\"#1f77b4\",\"#ff7f0e\",\"#1f77b4\",\"#ff7f0e\",\"#1f77b4\",\"#ff7f0e\",\"#1f77b4\",\"#ff7f0e\",\"#1f77b4\",\"#ff7f0e\",\"#1f77b4\",\"#ff7f0e\",\"#1f77b4\",\"#ff7f0e\",\"#1f77b4\",\"#ff7f0e\",\"#1f77b4\",\"#ff7f0e\"]},\"id\":\"1160\",\"type\":\"CategoricalColorMapper\"},{\"attributes\":{\"label\":{\"value\":\"2\"},\"renderers\":[{\"id\":\"1208\",\"type\":\"GlyphRenderer\"}]},\"id\":\"1228\",\"type\":\"LegendItem\"},{\"attributes\":{\"column_name\":\"_contig\",\"group\":\"5\"},\"id\":\"1215\",\"type\":\"GroupFilter\"},{\"attributes\":{\"label\":{\"value\":\"7\"},\"renderers\":[{\"id\":\"1226\",\"type\":\"GlyphRenderer\"}]},\"id\":\"1231\",\"type\":\"LegendItem\"},{\"attributes\":{},\"id\":\"1237\",\"type\":\"BasicTickFormatter\"},{\"attributes\":{\"label\":{\"value\":\"15\"},\"renderers\":[{\"id\":\"1202\",\"type\":\"GlyphRenderer\"}]},\"id\":\"1227\",\"type\":\"LegendItem\"},{\"attributes\":{},\"id\":\"1241\",\"type\":\"BasicTicker\"},{\"attributes\":{\"label\":{\"value\":\"4\"},\"renderers\":[{\"id\":\"1214\",\"type\":\"GlyphRenderer\"}]},\"id\":\"1229\",\"type\":\"LegendItem\"},{\"attributes\":{},\"id\":\"1185\",\"type\":\"ResetTool\"},{\"attributes\":{\"fill_color\":{\"field\":\"_contig\",\"transform\":{\"id\":\"1160\",\"type\":\"CategoricalColorMapper\"}},\"line_color\":{\"field\":\"_contig\",\"transform\":{\"id\":\"1160\",\"type\":\"CategoricalColorMapper\"}},\"x\":{\"field\":\"_global_locus\"},\"y\":{\"field\":\"_pval\"}},\"id\":\"1212\",\"type\":\"Circle\"},{\"attributes\":{\"dimension\":1,\"ticker\":{\"id\":\"1177\",\"type\":\"BasicTicker\"}},\"id\":\"1180\",\"type\":\"Grid\"},{\"attributes\":{\"bottom_units\":\"screen\",\"fill_alpha\":{\"value\":0.5},\"fill_color\":{\"value\":\"lightgrey\"},\"left_units\":\"screen\",\"level\":\"overlay\",\"line_alpha\":{\"value\":1.0},\"line_color\":{\"value\":\"black\"},\"line_dash\":[4,4],\"line_width\":{\"value\":2},\"render_mode\":\"css\",\"right_units\":\"screen\",\"top_units\":\"screen\"},\"id\":\"1244\",\"type\":\"BoxAnnotation\"},{\"attributes\":{},\"id\":\"1243\",\"type\":\"Selection\"},{\"attributes\":{\"callback\":null,\"data\":{\"_contig\":[\"2\",\"2\",\"2\",\"2\",\"2\",\"2\",\"2\",\"2\",\"2\",\"2\",\"2\",\"2\",\"2\",\"2\",\"2\",\"2\",\"2\",\"2\",\"2\",\"2\",\"2\",\"2\",\"2\",\"2\",\"2\",\"2\",\"2\",\"2\",\"2\",\"2\",\"2\",\"2\",\"2\",\"2\",\"2\",\"2\",\"2\",\"2\",\"2\",\"2\",\"2\",\"2\",\"2\",\"2\",\"4\",\"4\",\"4\",\"4\",\"4\",\"4\",\"4\",\"4\",\"4\",\"4\",\"4\",\"4\",\"4\",\"4\",\"4\",\"4\",\"4\",\"4\",\"4\",\"5\",\"5\",\"5\",\"5\",\"5\",\"5\",\"5\",\"5\",\"5\",\"5\",\"5\",\"5\",\"5\",\"5\",\"5\",\"5\",\"5\",\"5\",\"5\",\"5\",\"5\",\"5\",\"5\",\"5\",\"5\",\"5\",\"5\",\"5\",\"5\",\"5\",\"5\",\"5\",\"5\",\"5\",\"5\",\"5\",\"5\",\"5\",\"5\",\"5\",\"5\",\"5\",\"5\",\"5\",\"5\",\"5\",\"5\",\"5\",\"5\",\"5\",\"5\",\"5\",\"5\",\"5\",\"5\",\"5\",\"5\",\"5\",\"5\",\"5\",\"5\",\"5\",\"5\",\"5\",\"5\",\"5\",\"5\",\"5\",\"5\",\"5\",\"5\",\"5\",\"5\",\"5\",\"5\",\"5\",\"5\",\"5\",\"5\",\"5\",\"5\",\"5\",\"5\",\"5\",\"5\",\"5\",\"5\",\"5\",\"7\",\"7\",\"7\",\"7\",\"7\",\"7\",\"7\",\"7\",\"7\",\"7\",\"7\",\"7\",\"7\",\"7\",\"7\",\"7\",\"7\",\"7\",\"7\",\"7\",\"7\",\"15\",\"15\",\"15\",\"15\",\"15\",\"15\",\"15\",\"15\",\"15\",\"15\",\"15\",\"15\",\"15\",\"15\",\"15\",\"15\",\"15\",\"15\",\"15\",\"15\",\"15\",\"15\",\"15\",\"15\",\"15\",\"15\",\"15\",\"15\",\"15\",\"15\",\"15\",\"15\",\"15\",\"15\",\"15\",\"15\",\"15\",\"15\",\"15\"],\"_global_locus\":{\"__ndarray__\":\"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\",\"dtype\":\"float64\",\"shape\":[211]},\"_pval\":{\"__ndarray__\":\"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\",\"dtype\":\"float64\",\"shape\":[211]},\"index\":[0,1,2,3,4,5,6,7,8,9,10,11,12,13,14,15,16,17,18,19,20,21,22,23,24,25,26,27,28,29,30,31,32,33,34,35,36,37,38,39,40,41,42,43,44,45,46,47,48,49,50,51,52,53,54,55,56,57,58,59,60,61,62,63,64,65,66,67,68,69,70,71,72,73,74,75,76,77,78,79,80,81,82,83,84,85,86,87,88,89,90,91,92,93,94,95,96,97,98,99,100,101,102,103,104,105,106,107,108,109,110,111,112,113,114,115,116,117,118,119,120,121,122,123,124,125,126,127,128,129,130,131,132,133,134,135,136,137,138,139,140,141,142,143,144,145,146,147,148,149,150,151,152,153,154,155,156,157,158,159,160,161,162,163,164,165,166,167,168,169,170,171,172,173,174,175,176,177,178,179,180,181,182,183,184,185,186,187,188,189,190,191,192,193,194,195,196,197,198,199,200,201,202,203,204,205,206,207,208,209,210],\"locus\":[\"2:109511398\",\"2:109511706\",\"2:109512468\",\"2:109511463\",\"2:109515229\",\"2:109515025\",\"2:109512256\",\"2:109514747\",\"2:109512115\",\"2:109512606\",\"2:109512428\",\"2:109511467\",\"2:109514105\",\"2:109512234\",\"2:109511765\",\"2:109513786\",\"2:109514464\",\"2:109513601\",\"2:223031834\",\"2:223032149\",\"2:223033544\",\"2:223031835\",\"2:223033853\",\"2:223031897\",\"2:223034144\",\"2:223034224\",\"2:223035359\",\"2:223032943\",\"2:223033196\",\"2:223033867\",\"2:223032002\",\"2:223033006\",\"2:223032504\",\"2:223032642\",\"2:223033396\",\"2:223034758\",\"2:223032399\",\"2:223035211\",\"2:223035313\",\"2:223033978\",\"2:223033030\",\"2:223033642\",\"2:223034660\",\"2:223034082\",\"4:54509667\",\"4:54509783\",\"4:54511251\",\"4:54510826\",\"4:54513653\",\"4:54513755\",\"4:54510021\",\"4:54512721\",\"4:54512170\",\"4:54510555\",\"4:54514026\",\"4:54511203\",\"4:54511246\",\"4:54511042\",\"4:54510427\",\"4:54513819\",\"4:54510874\",\"4:54509759\",\"4:54511913\",\"5:126624608\",\"5:126625266\",\"5:126625525\",\"5:126627233\",\"5:126625259\",\"5:126625013\",\"5:126627257\",\"5:126629290\",\"5:126636244\",\"5:126631736\",\"5:126634444\",\"5:126633404\",\"5:126629761\",\"5:126625592\",\"5:126625593\",\"5:126625758\",\"5:126645738\",\"5:126723562\",\"5:126642920\",\"5:126725568\",\"5:126633958\",\"5:126661600\",\"5:126641296\",\"5:126644552\",\"5:126640205\",\"5:126644632\",\"5:126698023\",\"5:126645334\",\"5:126630491\",\"5:126652742\",\"5:126683809\",\"5:126775462\",\"5:126641654\",\"5:126642563\",\"5:126642675\",\"5:126637872\",\"5:126687822\",\"5:126635437\",\"5:126656998\",\"5:126654062\",\"5:126639025\",\"5:126641770\",\"5:126644396\",\"5:126645646\",\"5:126640971\",\"5:126639432\",\"5:126731259\",\"5:126644401\",\"5:126656324\",\"5:126657766\",\"5:126633436\",\"5:126688517\",\"5:126639135\",\"5:126660301\",\"5:126679697\",\"5:126648201\",\"5:126656500\",\"5:126639801\",\"5:126661774\",\"5:126668683\",\"5:126650182\",\"5:126632821\",\"5:126632848\",\"5:126661380\",\"5:126639591\",\"5:126635055\",\"5:126647941\",\"5:126639097\",\"5:126636211\",\"5:126625548\",\"5:126633827\",\"5:126635667\",\"5:126635083\",\"5:126655749\",\"5:126654970\",\"5:126631841\",\"5:126628098\",\"5:126664981\",\"5:126655730\",\"5:126629170\",\"5:126627875\",\"5:126630016\",\"5:126626645\",\"5:126628771\",\"5:126626044\",\"5:126630948\",\"5:126629112\",\"5:126628584\",\"7:17282329\",\"7:17282359\",\"7:17282888\",\"7:17282391\",\"7:17283561\",\"7:17282872\",\"7:17282507\",\"7:17286087\",\"7:17284085\",\"7:17285867\",\"7:17284989\",\"7:17284577\",\"7:113987041\",\"7:113987664\",\"7:113987454\",\"7:113989105\",\"7:113989202\",\"7:113989569\",\"7:113987889\",\"7:113988537\",\"7:113987281\",\"15:66185666\",\"15:66185846\",\"15:66186649\",\"15:66187234\",\"15:66186343\",\"15:66186061\",\"15:66198243\",\"15:66188146\",\"15:66193404\",\"15:66221782\",\"15:66205498\",\"15:66244175\",\"15:66188317\",\"15:66199495\",\"15:66224813\",\"15:66203218\",\"15:66185803\",\"15:66299460\",\"15:66359486\",\"15:66294695\",\"15:66402257\",\"15:66398948\",\"15:66356925\",\"15:75025637\",\"15:75026280\",\"15:75027895\",\"15:75027432\",\"15:75026149\",\"15:75026627\",\"15:75028536\",\"15:75027880\",\"15:75029399\",\"15:75027179\",\"15:75028233\",\"15:75029228\",\"15:75025814\",\"15:75028490\",\"15:75025988\",\"15:75029840\"],\"p_value\":{\"__ndarray__\":\"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\",\"dtype\":\"float64\",\"shape\":[211]},\"ri\":[\"rs150055772\",\"rs200168149\",\"rs115259025\",\"rs200762071\",\"rs79444434\",\"rs60288156\",\"rs73952545\",\"rs4676218\",\"rs75155869\",\"rs3749097\",\"rs3749096\",\"rs145115545\",\"rs6542783\",\"rs13001699\",\"rs10865025\",\"rs3789738\",\"rs940928\",\"rs3827760\",\"rs538046270\",\"rs575749090\",\"rs145659469\",\"rs114946697\",\"rs79534778\",\"rs111488274\",\"rs116514046\",\"rs78277770\",\"rs13431945\",\"rs16863471\",\"rs13411329\",\"rs80199364\",\"rs7607981\",\"rs529478087\",\"rs36054640\",\"rs986430\",\"rs11895863\",\"rs71050391\",\"rs986429\",\"rs5838931\",\"rs66885466\",\"rs2196751\",\"rs16863473\",\"rs2218064\",\"rs985473\",\"rs2218065\",\"rs571577163\",\"rs567344945\",\"rs551809147\",\"rs1477873\",\"rs539249144;rs200448899\",\"rs77629803\",\"rs75718680\",\"rs73250977\",\"rs79625021\",\"rs144220715\",\"rs79162003\",\"rs2590771\",\"rs2616389\",\"rs2590770\",\"rs2668552\",\"rs6858782\",\"rs6816209\",\"rs6818959\",\"rs4864809\",\"rs547382339\",\"rs556210684\",\"rs140823799\",\"rs79637336\",\"rs3812059\",\"rs78627309\",\"rs74830027\",\"rs148348633\",\"rs73785576\",\"rs17165103\",\"rs2194080\",\"rs73785574\",\"rs17165105\",\"rs183280201\",\"rs187467669\",\"rs10519929\",\"rs13153845\",\"rs9327438\",\"rs2546085\",\"rs4401615\",\"rs2585196\",\"rs33930493\",\"rs2585194\",\"rs2546804\",\"rs1816058\",\"rs72786459\",\"rs35156178\",\"rs2585190\",\"rs200086613\",\"rs246946\",\"rs27388\",\"rs2408872\",\"rs2546082\",\"rs2546083\",\"rs2546084\",\"rs2546806\",\"rs36308\",\"rs35796097\",\"rs246888\",\"rs185032\",\"rs2546079\",\"rs2585193\",\"rs2546802\",\"rs2546805\",\"rs2546081\",\"rs2585195\",\"rs13171067\",\"rs2546803\",\"rs3050850\",\"rs559620165\",\"rs970546\",\"rs185033\",\"rs2546808\",\"rs31472\",\"rs246896\",\"rs1422317\",\"rs152120\",\"rs2431724\",\"rs31470\",\"rs2546078\",\"rs1345663\",\"rs2585199\",\"rs2585198\",\"rs31471\",\"rs2431496\",\"rs1808378\",\"rs1422316\",\"rs2546807\",\"rs2546809\",\"rs2408868\",\"rs2585197\",\"rs1345662\",\"rs2018571\",\"rs246887\",\"rs246885\",\"rs2585200\",\"rs2194079\",\"rs27749\",\"rs246886\",\"rs12519784\",\"rs4836316\",\"rs1422313\",\"rs2032834\",\"rs4836317\",\"rs1363387\",\"rs2059083\",\"rs4836318\",\"rs112394041\",\"rs188125151\",\"rs116664686\",\"rs11976418\",\"rs184627304\",\"rs568478767\",\"rs79710531\",\"rs62444547\",\"rs79694830\",\"rs6943079\",\"rs10281571\",\"rs10277582\",\"rs4410790\",\"rs192308926\",\"rs191698807\",\"rs368002927\",\"rs79448181\",\"rs117717824\",\"rs1916976\",\"rs2690825\",\"rs2690826\",\"rs1527146\",\"rs543734954\",\"rs114717896\",\"rs111418766\",\"rs148817332\",\"rs201844249\",\"rs72742821\",\"rs3217276\",\"rs75774952\",\"rs1063697\",\"rs77371692\",\"rs16949091\",\"rs55812611\",\"rs72742822\",\"rs16949087\",\"rs78767632\",\"rs55730328\",\"rs61543049\",\"rs2552176\",\"rs9783681\",\"rs333544\",\"rs4776731\",\"rs6494553\",\"rs11856955\",\"rs35042613\",\"rs7496533\",\"rs141323436\",\"rs17861121\",\"rs17861118\",\"rs11631784\",\"rs112697364\",\"rs2472297\",\"rs8030076\",\"rs17861120\",\"rs145741270\",\"rs77021813\",\"rs12441817\",\"rs11072500\",\"rs4886605\",\"rs116979601\"]},\"selected\":{\"id\":\"1243\",\"type\":\"Selection\"},\"selection_policy\":{\"id\":\"1242\",\"type\":\"UnionRenderers\"}},\"id\":\"1196\",\"type\":\"ColumnDataSource\"},{\"attributes\":{\"column_name\":\"_contig\",\"group\":\"4\"},\"id\":\"1209\",\"type\":\"GroupFilter\"},{\"attributes\":{\"column_name\":\"_contig\",\"group\":\"15\"},\"id\":\"1197\",\"type\":\"GroupFilter\"},{\"attributes\":{\"color_mapper\":null,\"formatter\":{\"id\":\"1240\",\"type\":\"BasicTickFormatter\"},\"ticker\":{\"id\":\"1241\",\"type\":\"BasicTicker\"},\"visible\":false},\"id\":\"1233\",\"type\":\"ColorBar\"},{\"attributes\":{\"filters\":[{\"id\":\"1221\",\"type\":\"GroupFilter\"}],\"source\":{\"id\":\"1196\",\"type\":\"ColumnDataSource\"}},\"id\":\"1222\",\"type\":\"CDSView\"},{\"attributes\":{},\"id\":\"1172\",\"type\":\"BasicTicker\"},{\"attributes\":{},\"id\":\"1242\",\"type\":\"UnionRenderers\"},{\"attributes\":{\"fill_alpha\":{\"value\":0.1},\"fill_color\":{\"value\":\"#1f77b4\"},\"line_alpha\":{\"value\":0.1},\"line_color\":{\"value\":\"#1f77b4\"},\"x\":{\"field\":\"_global_locus\"},\"y\":{\"field\":\"_pval\"}},\"id\":\"1213\",\"type\":\"Circle\"},{\"attributes\":{\"axis_label\":\"Chromosome\",\"formatter\":{\"id\":\"1237\",\"type\":\"BasicTickFormatter\"},\"major_label_overrides\":{\"1313226357\":\"7\",\"2358551414\":\"15\",\"370850306\":\"2\",\"786049561\":\"4\",\"972084329\":\"5\"},\"ticker\":{\"id\":\"1234\",\"type\":\"FixedTicker\"}},\"id\":\"1171\",\"type\":\"LinearAxis\"},{\"attributes\":{\"fill_color\":{\"field\":\"_contig\",\"transform\":{\"id\":\"1160\",\"type\":\"CategoricalColorMapper\"}},\"line_color\":{\"field\":\"_contig\",\"transform\":{\"id\":\"1160\",\"type\":\"CategoricalColorMapper\"}},\"x\":{\"field\":\"_global_locus\"},\"y\":{\"field\":\"_pval\"}},\"id\":\"1224\",\"type\":\"Circle\"},{\"attributes\":{\"callback\":null,\"tooltips\":[[\"ri\",\"@ri\"],[\"locus\",\"@locus\"],[\"p_value\",\"@p_value\"]]},\"id\":\"1195\",\"type\":\"HoverTool\"},{\"attributes\":{},\"id\":\"1184\",\"type\":\"SaveTool\"},{\"attributes\":{\"column_name\":\"_contig\",\"group\":\"7\"},\"id\":\"1221\",\"type\":\"GroupFilter\"},{\"attributes\":{\"fill_alpha\":{\"value\":0.1},\"fill_color\":{\"value\":\"#1f77b4\"},\"line_alpha\":{\"value\":0.1},\"line_color\":{\"value\":\"#1f77b4\"},\"x\":{\"field\":\"_global_locus\"},\"y\":{\"field\":\"_pval\"}},\"id\":\"1201\",\"type\":\"Circle\"},{\"attributes\":{\"data_source\":{\"id\":\"1196\",\"type\":\"ColumnDataSource\"},\"glyph\":{\"id\":\"1200\",\"type\":\"Circle\"},\"hover_glyph\":null,\"muted_glyph\":null,\"nonselection_glyph\":{\"id\":\"1201\",\"type\":\"Circle\"},\"selection_glyph\":null,\"view\":{\"id\":\"1198\",\"type\":\"CDSView\"}},\"id\":\"1202\",\"type\":\"GlyphRenderer\"},{\"attributes\":{\"filters\":[{\"id\":\"1209\",\"type\":\"GroupFilter\"}],\"source\":{\"id\":\"1196\",\"type\":\"ColumnDataSource\"}},\"id\":\"1210\",\"type\":\"CDSView\"},{\"attributes\":{\"fill_alpha\":{\"value\":0.1},\"fill_color\":{\"value\":\"#1f77b4\"},\"line_alpha\":{\"value\":0.1},\"line_color\":{\"value\":\"#1f77b4\"},\"x\":{\"field\":\"_global_locus\"},\"y\":{\"field\":\"_pval\"}},\"id\":\"1225\",\"type\":\"Circle\"},{\"attributes\":{\"label\":{\"value\":\"5\"},\"renderers\":[{\"id\":\"1220\",\"type\":\"GlyphRenderer\"}]},\"id\":\"1230\",\"type\":\"LegendItem\"},{\"attributes\":{\"fill_alpha\":{\"value\":0.1},\"fill_color\":{\"value\":\"#1f77b4\"},\"line_alpha\":{\"value\":0.1},\"line_color\":{\"value\":\"#1f77b4\"},\"x\":{\"field\":\"_global_locus\"},\"y\":{\"field\":\"_pval\"}},\"id\":\"1219\",\"type\":\"Circle\"},{\"attributes\":{\"ticker\":{\"id\":\"1172\",\"type\":\"BasicTicker\"}},\"id\":\"1175\",\"type\":\"Grid\"},{\"attributes\":{\"data_source\":{\"id\":\"1196\",\"type\":\"ColumnDataSource\"},\"glyph\":{\"id\":\"1224\",\"type\":\"Circle\"},\"hover_glyph\":null,\"muted_glyph\":null,\"nonselection_glyph\":{\"id\":\"1225\",\"type\":\"Circle\"},\"selection_glyph\":null,\"view\":{\"id\":\"1222\",\"type\":\"CDSView\"}},\"id\":\"1226\",\"type\":\"GlyphRenderer\"},{\"attributes\":{\"fill_color\":{\"field\":\"_contig\",\"transform\":{\"id\":\"1160\",\"type\":\"CategoricalColorMapper\"}},\"line_color\":{\"field\":\"_contig\",\"transform\":{\"id\":\"1160\",\"type\":\"CategoricalColorMapper\"}},\"x\":{\"field\":\"_global_locus\"},\"y\":{\"field\":\"_pval\"}},\"id\":\"1200\",\"type\":\"Circle\"},{\"attributes\":{\"data_source\":{\"id\":\"1196\",\"type\":\"ColumnDataSource\"},\"glyph\":{\"id\":\"1218\",\"type\":\"Circle\"},\"hover_glyph\":null,\"muted_glyph\":null,\"nonselection_glyph\":{\"id\":\"1219\",\"type\":\"Circle\"},\"selection_glyph\":null,\"view\":{\"id\":\"1216\",\"type\":\"CDSView\"}},\"id\":\"1220\",\"type\":\"GlyphRenderer\"},{\"attributes\":{},\"id\":\"1169\",\"type\":\"LinearScale\"}],\"root_ids\":[\"1161\"]},\"title\":\"Bokeh Application\",\"version\":\"1.4.0\"}};\n",
       "  var render_items = [{\"docid\":\"1d065151-5af3-4dc1-8b2f-7168f3b3fba0\",\"roots\":{\"1161\":\"8b3cb01c-4499-4681-9d01-af20d9f8f6df\"}}];\n",
       "  root.Bokeh.embed.embed_items_notebook(docs_json, render_items);\n",
       "\n",
       "  }\n",
       "  if (root.Bokeh !== undefined) {\n",
       "    embed_document(root);\n",
       "  } else {\n",
       "    var attempts = 0;\n",
       "    var timer = setInterval(function(root) {\n",
       "      if (root.Bokeh !== undefined) {\n",
       "        clearInterval(timer);\n",
       "        embed_document(root);\n",
       "      } else {\n",
       "        attempts++;\n",
       "        if (attempts > 100) {\n",
       "          clearInterval(timer);\n",
       "          console.log(\"Bokeh: ERROR: Unable to run BokehJS code because BokehJS library is missing\");\n",
       "        }\n",
       "      }\n",
       "    }, 10, root)\n",
       "  }\n",
       "})(window);"
      ],
      "application/vnd.bokehjs_exec.v0+json": ""
     },
     "metadata": {
      "application/vnd.bokehjs_exec.v0+json": {
       "id": "1161"
      }
     },
     "output_type": "display_data"
    }
   ],
   "source": [
    "import varspark.hail.plot as vshlplt\n",
    "p = vshlplt.manhattan_imp(gwas_with_imp.importance, \n",
    "                            hover_fields=dict(ri=gwas_with_imp.rsid),\n",
    "                            significance_line = None)\n",
    "show(p)"
   ]
  },
  {
   "cell_type": "markdown",
   "metadata": {},
   "source": [
    "_Fig 2: Manhattan plot for rf gin importance values._"
   ]
  },
  {
   "cell_type": "markdown",
   "metadata": {},
   "source": [
    "## Compare logistc regression values vs. rf importance"
   ]
  },
  {
   "cell_type": "code",
   "execution_count": 15,
   "metadata": {},
   "outputs": [
    {
     "data": {
      "text/html": [
       "\n",
       "\n",
       "\n",
       "\n",
       "\n",
       "\n",
       "  <div class=\"bk-root\" id=\"28a45c93-2f53-4c0d-a6d2-4156b2d77c12\" data-root-id=\"1326\"></div>\n"
      ]
     },
     "metadata": {},
     "output_type": "display_data"
    },
    {
     "data": {
      "application/javascript": [
       "(function(root) {\n",
       "  function embed_document(root) {\n",
       "    \n",
       "  var docs_json = {\"a7e48548-75db-40d9-b01b-b5a7df3b244e\":{\"roots\":{\"references\":[{\"attributes\":{\"below\":[{\"id\":\"1336\",\"type\":\"LinearAxis\"}],\"center\":[{\"id\":\"1340\",\"type\":\"Grid\"},{\"id\":\"1345\",\"type\":\"Grid\"}],\"left\":[{\"id\":\"1341\",\"type\":\"LinearAxis\"}],\"plot_height\":800,\"plot_width\":800,\"renderers\":[{\"id\":\"1365\",\"type\":\"GlyphRenderer\"}],\"title\":null,\"toolbar\":{\"id\":\"1352\",\"type\":\"Toolbar\"},\"x_range\":{\"id\":\"1328\",\"type\":\"DataRange1d\"},\"x_scale\":{\"id\":\"1332\",\"type\":\"LinearScale\"},\"y_range\":{\"id\":\"1330\",\"type\":\"DataRange1d\"},\"y_scale\":{\"id\":\"1334\",\"type\":\"LinearScale\"}},\"id\":\"1326\",\"subtype\":\"Figure\",\"type\":\"Plot\"},{\"attributes\":{},\"id\":\"1346\",\"type\":\"PanTool\"},{\"attributes\":{\"callback\":null,\"tooltips\":[[\"x\",\"@x\"],[\"y\",\"@y\"],[\"rs\",\"@rs\"],[\"loc\",\"@loc\"]]},\"id\":\"1360\",\"type\":\"HoverTool\"},{\"attributes\":{\"axis_label\":\"-log10(p-value)\",\"formatter\":{\"id\":\"1386\",\"type\":\"BasicTickFormatter\"},\"ticker\":{\"id\":\"1337\",\"type\":\"BasicTicker\"}},\"id\":\"1336\",\"type\":\"LinearAxis\"},{\"attributes\":{},\"id\":\"1388\",\"type\":\"BasicTickFormatter\"},{\"attributes\":{},\"id\":\"1337\",\"type\":\"BasicTicker\"},{\"attributes\":{},\"id\":\"1351\",\"type\":\"HelpTool\"},{\"attributes\":{\"bottom_units\":\"screen\",\"fill_alpha\":{\"value\":0.5},\"fill_color\":{\"value\":\"lightgrey\"},\"left_units\":\"screen\",\"level\":\"overlay\",\"line_alpha\":{\"value\":1.0},\"line_color\":{\"value\":\"black\"},\"line_dash\":[4,4],\"line_width\":{\"value\":2},\"render_mode\":\"css\",\"right_units\":\"screen\",\"top_units\":\"screen\"},\"id\":\"1392\",\"type\":\"BoxAnnotation\"},{\"attributes\":{\"callback\":null,\"data\":{\"index\":[0,1,2,3,4,5,6,7,8,9,10,11,12,13,14,15,16,17,18,19,20,21,22,23,24,25,26,27,28,29,30,31,32,33,34,35,36,37,38,39,40,41,42,43,44,45,46,47,48,49,50,51,52,53,54,55,56,57,58,59,60,61,62,63,64,65,66,67,68,69,70,71,72,73,74,75,76,77,78,79,80,81,82,83,84,85,86,87,88,89,90,91,92,93,94,95,96,97,98,99,100,101,102,103,104,105,106,107,108,109,110,111,112,113,114,115,116,117,118,119,120,121,122,123,124,125,126,127,128,129,130,131,132,133,134,135,136,137,138,139,140,141,142,143,144,145,146,147,148,149,150,151,152,153,154,155,156,157,158,159,160,161,162,163,164,165,166,167,168,169,170,171,172,173,174,175,176,177,178,179,180,181,182,183,184,185,186,187,188,189,190,191,192,193,194,195,196,197,198,199,200,201,202,203,204,205,206,207,208,209,210,211,212,213,214,215,216,217,218,219,220,221,222,223,224,225,226,227,228,229,230,231,232,233,234,235,236,237,238,239,240,241,242,243,244,245,246,247,248,249,250,251,252,253,254,255,256,257,258,259,260,261,262,263,264,265,266,267,268,269,270,271,272,273,274,275,276,277,278,279,280,281,282,283,284,285,286,287,288,289,290,291,292,293,294,295,296,297,298,299,300,301,302,303,304,305,306,307,308,309,310,311,312,313,314,315,316,317,318,319,320,321,322,323,324,325,326,327,328,329,330,331,332,333,334,335,336,337,338,339,340,341,342,343,344,345,346,347,348,349,350,351,352,353,354,355,356,357,358,359,360,361,362,363,364,365,366,367,368,369,370,371,372,373,374,375,376,377,378,379,380,381,382,383,384,385,386,387,388,389,390,391,392,393,394,395,396,397,398,399,400,401,402,403,404,405,406,407,408,409,410,411,412,413,414,415,416,417,418,419,420,421,422,423,424,425,426,427,428,429,430,431,432,433,434,435,436,437,438,439,440,441,442,443,444,445,446,447,448,449,450,451,452,453,454,455,456,457,458,459,460,461,462,463,464,465,466,467,468,469,470,471,472,473,474,475,476,477,478,479,480,481,482,483,484,485,486,487,488,489,490,491,492,493,494,495,496,497,498,499,500,501,502,503,504,505,506,507,508,509,510,511,512,513,514,515,516,517,518,519,520,521,522,523,524,525,526,527,528,529,530,531,532,533,534,535,536,537,538,539,540,541,542,543,544,545,546,547,548,549,550,551,552,553,554,555,556,557,558,559,560],\"loc\":[\"2:109511398\",\"2:109513785\",\"2:109514038\",\"5:126664182\",\"2:109515229\",\"5:126694095\",\"2:109514754\",\"2:109514747\",\"2:109512115\",\"15:66232790\",\"15:66300749\",\"7:113989569\",\"15:66293576\",\"15:66368339\",\"15:66365917\",\"15:66367576\",\"15:66361521\",\"15:66394721\",\"15:66420236\",\"15:66509012\",\"2:109511527\",\"2:109511758\",\"4:54511380\",\"4:54511177\",\"5:126703618\",\"4:54513755\",\"2:109514224\",\"15:66231421\",\"5:126664084\",\"15:66409961\",\"15:66303484\",\"15:66354857\",\"15:66272733\",\"15:66282840\",\"15:66372912\",\"15:66402099\",\"15:66402257\",\"15:66398948\",\"2:109511454\",\"2:109511802\",\"2:109512468\",\"2:223034118\",\"5:126681105\",\"2:223031897\",\"5:126770609\",\"2:109512230\",\"15:66338497\",\"15:66408628\",\"15:66282660\",\"5:126709432\",\"15:66298281\",\"15:66372477\",\"15:66386853\",\"15:66448897\",\"15:66376088\",\"15:66371850\",\"15:66420174\",\"15:66360224\",\"2:109511525\",\"2:109515037\",\"2:109514579\",\"2:109511463\",\"5:126681254\",\"5:126700140\",\"5:126672538\",\"5:126694200\",\"2:109514056\",\"15:66287532\",\"2:109513321\",\"15:66324425\",\"15:66283700\",\"15:66227660\",\"15:66284913\",\"15:66284969\",\"5:126715206\",\"15:66430645\",\"15:66359486\",\"15:66359605\",\"4:54510894\",\"2:109511706\",\"2:223035136\",\"5:126626890\",\"5:126753050\",\"2:109512256\",\"15:66188146\",\"15:66327347\",\"2:109512606\",\"15:66276691\",\"2:109511467\",\"15:66407882\",\"15:66244025\",\"15:66322018\",\"4:54510555\",\"15:66291385\",\"15:66301584\",\"15:66397161\",\"15:66396429\",\"2:223033124\",\"2:109513109\",\"2:223033725\",\"5:126683016\",\"2:109515567\",\"5:126685019\",\"15:66275967\",\"5:126712588\",\"15:66271179\",\"15:66278816\",\"15:66205498\",\"15:66251595\",\"15:66258416\",\"15:66403942\",\"15:66234474\",\"15:66327311\",\"15:66359710\",\"15:66397544\",\"15:66423068\",\"15:66420177\",\"2:223032680\",\"5:126653594\",\"5:126631450\",\"5:126659404\",\"5:126686583\",\"5:126686145\",\"15:66381722\",\"2:223034224\",\"15:66275951\",\"15:66535743\",\"15:66258023\",\"15:66319633\",\"15:66303141\",\"15:66296764\",\"15:66384263\",\"15:66375414\",\"2:109514464\",\"5:126631824\",\"5:126643088\",\"5:126654829\",\"5:126636995\",\"5:126661859\",\"5:126625964\",\"5:126746434\",\"5:126629290\",\"15:66374847\",\"15:66532657\",\"15:66358474\",\"15:66280111\",\"15:66487222\",\"15:66330946\",\"15:66454686\",\"15:66448125\",\"15:66427055\",\"5:126641102\",\"4:54509910\",\"5:126752788\",\"5:126636166\",\"5:126644306\",\"2:109515025\",\"5:126729502\",\"15:66288914\",\"15:66256849\",\"2:109512428\",\"15:66280141\",\"2:109514105\",\"15:66199495\",\"15:66304916\",\"15:66332865\",\"7:113988537\",\"5:126632055\",\"5:126657543\",\"5:126651982\",\"4:54513653\",\"5:126638066\",\"5:126719845\",\"5:126652756\",\"15:66193404\",\"15:66277267\",\"15:66267583\",\"15:66377102\",\"15:66523769\",\"15:66332864\",\"15:66469990\",\"15:75025814\",\"7:113987281\",\"4:54511042\",\"5:126665815\",\"5:126637966\",\"15:66329001\",\"5:126692229\",\"5:126663103\",\"5:126768694\",\"5:126746147\",\"5:126676528\",\"15:66260480\",\"5:126726669\",\"15:66260430\",\"5:126707850\",\"15:66447591\",\"15:66300745\",\"15:66203218\",\"2:109514192\",\"15:66528988\",\"15:66416823\",\"4:54511203\",\"15:66452847\",\"15:66204188\",\"5:126626099\",\"5:126693752\",\"2:223034770\",\"5:126694195\",\"15:66251953\",\"15:66251290\",\"5:126717551\",\"15:66245880\",\"5:126675888\",\"5:126716060\",\"15:66353695\",\"15:66288836\",\"15:66300341\",\"2:109512234\",\"15:66475264\",\"15:66291268\",\"7:17284085\",\"5:126649405\",\"5:126653312\",\"5:126642369\",\"5:126635383\",\"5:126659508\",\"5:126737550\",\"5:126673159\",\"5:126737186\",\"15:66363938\",\"5:126734267\",\"5:126736832\",\"5:126710204\",\"15:66301813\",\"2:109513786\",\"5:126713994\",\"4:54513107\",\"5:126644161\",\"5:126641760\",\"5:126783557\",\"5:126724213\",\"4:54510021\",\"15:66339400\",\"15:66515534\",\"15:66185803\",\"2:109513601\",\"5:126641982\",\"5:126667976\",\"2:223034162\",\"2:223031835\",\"5:126735430\",\"5:126665426\",\"15:66348983\",\"15:66264965\",\"15:66341925\",\"5:126736145\",\"15:66260432\",\"15:66471172\",\"15:66272862\",\"15:66491652\",\"2:109511765\",\"15:66516240\",\"4:54514026\",\"15:66294695\",\"15:66331150\",\"4:54510826\",\"5:126713824\",\"5:126629021\",\"5:126695040\",\"5:126724209\",\"5:126631736\",\"15:66253117\",\"4:54512721\",\"15:66482259\",\"2:109514985\",\"7:17286087\",\"4:54511246\",\"4:54510427\",\"15:66337176\",\"5:126644814\",\"15:66242505\",\"7:17284687\",\"5:126720536\",\"2:223034476\",\"5:126798031\",\"5:126785310\",\"5:126781446\",\"15:66326736\",\"15:66260006\",\"15:66489681\",\"15:66332982\",\"15:66465816\",\"15:66465825\",\"5:126645650\",\"15:66272490\",\"15:66269052\",\"15:66301377\",\"15:66327646\",\"15:66545710\",\"5:126798856\",\"15:66259809\",\"15:66263893\",\"15:66282617\",\"15:66512166\",\"15:66335837\",\"2:223033867\",\"2:223032002\",\"5:126653091\",\"15:66294398\",\"5:126627233\",\"15:66340274\",\"5:126667746\",\"5:126705920\",\"5:126655009\",\"5:126798558\",\"15:75027880\",\"15:66478368\",\"5:126795159\",\"15:66480216\",\"15:66317465\",\"5:126729450\",\"5:126657860\",\"15:66362242\",\"15:66366950\",\"2:223035359\",\"15:66253733\",\"15:66267191\",\"5:126764698\",\"15:66301934\",\"15:66333100\",\"7:113990352\",\"5:126681193\",\"5:126668770\",\"5:126713978\",\"5:126662370\",\"5:126680343\",\"5:126722859\",\"15:66479252\",\"5:126745230\",\"15:66356925\",\"5:126670855\",\"5:126677978\",\"5:126684179\",\"5:126642357\",\"5:126706883\",\"5:126631791\",\"5:126645727\",\"5:126667268\",\"5:126661686\",\"5:126664014\",\"5:126662820\",\"15:66400117\",\"5:126776307\",\"5:126667126\",\"5:126689935\",\"15:66272042\",\"5:126629761\",\"15:66271429\",\"15:75028490\",\"5:126697604\",\"5:126666529\",\"15:66272491\",\"5:126625592\",\"5:126625593\",\"5:126625758\",\"5:126698070\",\"5:126689790\",\"5:126669834\",\"5:126683321\",\"5:126689269\",\"5:126683373\",\"15:66269504\",\"15:75025988\",\"2:223032504\",\"5:126735334\",\"15:66271772\",\"5:126695127\",\"5:126697755\",\"5:126678028\",\"5:126636000\",\"5:126794160\",\"5:126636244\",\"5:126639196\",\"5:126633404\",\"5:126637782\",\"2:223032943\",\"2:223033196\",\"5:126701622\",\"2:223033006\",\"5:126655361\",\"5:126683590\",\"5:126636782\",\"5:126675780\",\"5:126672710\",\"5:126675068\",\"5:126663406\",\"5:126715151\",\"5:126634444\",\"2:223034758\",\"5:126653607\",\"5:126644632\",\"7:17285867\",\"4:54513819\",\"5:126793219\",\"5:126777362\",\"5:126767961\",\"2:223032642\",\"2:223033396\",\"2:223032399\",\"7:17284989\",\"5:126796585\",\"5:126723562\",\"5:126795246\",\"4:54510874\",\"5:126710915\",\"4:54509759\",\"5:126773180\",\"5:126630491\",\"4:54511913\",\"5:126769874\",\"5:126744956\",\"5:126661600\",\"5:126731876\",\"5:126751728\",\"5:126727418\",\"5:126717984\",\"5:126725054\",\"5:126797404\",\"5:126725568\",\"5:126726847\",\"5:126699347\",\"5:126726851\",\"5:126697138\",\"5:126796531\",\"5:126797292\",\"5:126715759\",\"5:126687687\",\"5:126686756\",\"5:126657432\",\"5:126780212\",\"5:126773064\",\"5:126775113\",\"2:223035313\",\"5:126661519\",\"5:126694523\",\"5:126693265\",\"5:126669209\",\"2:223033978\",\"2:223033030\",\"5:126645710\",\"5:126739085\",\"5:126698023\",\"5:126683416\",\"5:126780344\",\"5:126693280\",\"5:126792974\",\"5:126772748\",\"5:126775462\",\"2:223035940\",\"5:126669004\",\"2:223035211\",\"5:126645705\",\"5:126667551\",\"5:126683809\",\"5:126682354\",\"5:126731259\",\"5:126727008\",\"2:223033642\",\"2:223034660\",\"5:126641296\",\"5:126645334\",\"5:126652742\",\"5:126642563\",\"5:126642675\",\"5:126644396\",\"5:126642920\",\"5:126643590\",\"5:126644552\",\"5:126641770\",\"5:126685374\",\"5:126645343\",\"5:126653950\",\"5:126640971\",\"5:126645738\",\"5:126639025\",\"5:126637872\",\"5:126639135\",\"7:17284577\",\"5:126683883\",\"5:126682039\",\"5:126639801\",\"5:126659892\",\"5:126640205\",\"5:126658500\",\"5:126656324\",\"5:126656998\",\"5:126633436\",\"5:126633958\",\"5:126652407\",\"5:126646864\",\"5:126657766\",\"5:126660301\",\"5:126653809\",\"5:126641654\",\"5:126640576\",\"5:126654062\",\"5:126650805\",\"5:126644401\",\"5:126644681\",\"5:126654623\",\"5:126645646\",\"5:126635437\",\"5:126698345\",\"5:126694437\",\"5:126679697\",\"5:126689438\",\"5:126689489\",\"5:126688517\",\"5:126687822\",\"5:126640246\",\"5:126652710\",\"5:126650182\",\"5:126679402\",\"5:126661774\",\"5:126625548\",\"5:126668683\",\"5:126674613\",\"5:126664039\",\"5:126648201\",\"5:126661380\",\"5:126628098\",\"5:126639097\",\"5:126657217\",\"5:126639432\",\"5:126639591\",\"5:126664981\",\"5:126662114\",\"5:126632821\",\"5:126632848\",\"5:126635055\",\"5:126635667\",\"5:126635083\",\"5:126656500\",\"5:126636211\",\"5:126655749\",\"5:126631841\",\"5:126655730\",\"5:126654970\",\"5:126647941\",\"5:126633827\",\"5:126629170\",\"2:223034082\",\"5:126626645\",\"5:126630016\",\"5:126628771\",\"5:126629112\",\"5:126628584\",\"5:126630948\",\"5:126627875\",\"5:126626044\"],\"rs\":[\"rs150055772\",\"rs189753082\",\"rs77709682\",\"rs80219238\",\"rs79444434\",\"rs144734591\",\"rs4676219\",\"rs4676218\",\"rs75155869\",\"rs28582399\",\"rs12906908\",\"rs1916976\",\"rs75687954\",\"rs144078416\",\"rs57916002\",\"rs1550030\",\"rs34142195\",\"rs36178748\",\"rs8039023\",\"rs11854038\",\"rs574502076\",\"rs548040744\",\"rs112839755\",\"rs114395204\",\"rs76946570\",\"rs77629803\",\"rs78249499\",\"rs10519311\",\"rs2585205\",\"rs57645838\",\"rs3931067\",\"rs12593044\",\"rs535038974\",\"rs2004127\",\"rs11634212\",\"rs4776730\",\"rs4776731\",\"rs6494553\",\"rs558429529\",\"rs530251560\",\"rs115259025\",\"rs77212399\",\"rs112942140\",\"rs111488274\",\"rs112237031\",\"rs114097029\",\"rs34967625\",\"rs72744440\",\"rs333574\",\"rs35087652\",\"rs72742875\",\"rs8035662\",\"rs7168565\",\"rs4776284\",\"rs2899711\",\"rs8034323\",\"rs7179044\",\"rs8027897\",\"rs147877575\",\"rs149267190\",\"rs7591765\",\"rs200762071\",\"rs76722411\",\"rs76676895\",\"rs184769214\",\"rs34817464\",\"rs2169812\",\"rs75746958\",\"rs7607563\",\"rs333587\",\"rs16949216\",\"rs539661160\",\"rs28607847\",\"rs16949217\",\"rs11960775\",\"rs16949548\",\"rs9783681\",\"rs55781516\",\"rs148731887\",\"rs200168149\",\"rs184491207\",\"rs113558663\",\"rs79655685\",\"rs73952545\",\"rs75774952\",\"rs76595892\",\"rs3749097\",\"rs8024980\",\"rs145115545\",\"rs72475945\",\"rs557763197;rs565732226\",\"rs333582\",\"rs144220715\",\"rs200415490\",\"rs530957259\",\"rs34890708\",\"rs7170679\",\"rs114196416\",\"rs148961371\",\"rs558223447\",\"rs76388836\",\"rs76935644\",\"rs58043513\",\"rs11638943\",\"rs73783770\",\"rs55749436\",\"rs8035444\",\"rs16949091\",\"rs333565\",\"rs333553\",\"rs7164202\",\"rs59177152\",\"rs333589\",\"rs11633172\",\"rs2035183\",\"rs137881134\",\"rs60198907\",\"rs371522534\",\"rs576470770\",\"rs113788625\",\"rs75801243\",\"rs72786500\",\"rs55900385\",\"rs16949428\",\"rs78277770\",\"rs11071854\",\"rs11630800\",\"rs66856851\",\"rs558606\",\"rs425030\",\"rs150027980\",\"rs1477793\",\"rs62011839\",\"rs940928\",\"rs545921569\",\"rs116775263\",\"rs145100364\",\"rs139181012\",\"rs7705580\",\"rs10519930\",\"rs3851469\",\"rs148348633\",\"rs577885306\",\"rs28690215\",\"rs8036078\",\"rs72742861\",\"rs12904629\",\"rs1465485\",\"rs1542528\",\"rs12903880\",\"rs4776742\",\"rs114169586\",\"rs139265415\",\"rs138881254\",\"rs146073831\",\"rs144120128\",\"rs60288156\",\"rs572172688\",\"rs333571\",\"rs75329153\",\"rs3749096\",\"rs72742862\",\"rs6542783\",\"rs16949087\",\"rs441949\",\"rs58571730\",\"rs2690826\",\"rs150961227\",\"rs59394800\",\"rs192993949\",\"rs539249144;rs200448899\",\"rs80026451\",\"rs10519936\",\"rs114085353\",\"rs1063697\",\"rs11635708\",\"rs432396\",\"rs6494548\",\"rs11631331\",\"rs59651556\",\"rs1382052\",\"rs12441817\",\"rs1527146\",\"rs2590770\",\"rs371234883\",\"rs76396046\",\"rs74023656\",\"rs56217196\",\"rs2032833\",\"rs529654685\",\"rs35550094\",\"rs17839697\",\"rs11855269\",\"rs6874521\",\"rs72465999\",\"rs3909351\",\"rs11432917\",\"rs1991144\",\"rs55730328\",\"rs2378217\",\"rs62011685\",\"rs4776736\",\"rs2590771\",\"rs7163737\",\"rs116748454\",\"rs144701115\",\"rs75200056\",\"rs201276449\",\"rs34618477\",\"rs72742833\",\"rs72742832\",\"rs73346907\",\"rs77976268\",\"rs147858479\",\"rs6886487\",\"rs1871004\",\"rs544223366\",\"rs432170\",\"rs13001699\",\"rs8030058\",\"rs333547\",\"rs6943079\",\"rs115859035\",\"rs151077897\",\"rs151097298\",\"rs79449805\",\"rs80036597\",\"rs12234066\",\"rs17165043\",\"rs56006993\",\"rs62011774\",\"rs6595767\",\"rs1363631\",\"rs112609571\",\"rs2552181\",\"rs3789738\",\"rs200918920\",\"rs77894545\",\"rs74290649\",\"rs79135446\",\"rs58718502\",\"rs557256293\",\"rs75718680\",\"rs333603\",\"rs11856933\",\"rs61543049\",\"rs3827760\",\"rs114403661\",\"rs150201589\",\"rs73990988\",\"rs114946697\",\"rs251031\",\"rs78707134\",\"rs17240756\",\"rs183481\",\"rs333608\",\"rs12109001\",\"rs72625765\",\"rs1871002\",\"rs371936\",\"rs10400920\",\"rs10865025\",\"rs4291865\",\"rs79162003\",\"rs333544\",\"rs333595\",\"rs1477873\",\"rs35530\",\"rs74472247\",\"rs564744176\",\"rs368047649\",\"rs17165103\",\"rs12592034\",\"rs73250977\",\"rs7181353\",\"rs11689836\",\"rs79694830\",\"rs2616389\",\"rs2668552\",\"rs179691\",\"rs60337565\",\"rs333549\",\"rs77000981\",\"rs17165013\",\"rs10194919\",\"rs17164923\",\"rs41298320\",\"rs2270933\",\"rs58298192\",\"rs186729\",\"rs11071869\",\"rs1434733\",\"rs11071863\",\"rs11071864\",\"rs78802780\",\"rs412708\",\"rs377422\",\"rs434416\",\"rs333591\",\"rs112753173\",\"rs73348777\",\"rs333554\",\"rs333558\",\"rs2414897\",\"rs7170633\",\"rs471751\",\"rs80199364\",\"rs7607981\",\"rs146195344\",\"rs333545\",\"rs79637336\",\"rs333606\",\"rs111923517\",\"rs1422318\",\"rs143156276\",\"rs17164922\",\"rs2472297\",\"rs11636260\",\"rs3756721\",\"rs899079\",\"rs621616\",\"rs143954261\",\"rs59539946\",\"rs892655\",\"rs4776714\",\"rs13431945\",\"rs333567\",\"rs11453003\",\"rs17164951\",\"rs147698593\",\"rs170781\",\"rs2049604\",\"rs114244425\",\"rs142732871\",\"rs113289788\",\"rs76302267\",\"rs76290412\",\"rs6881894\",\"rs1351030\",\"rs3844184\",\"rs11856955\",\"rs74867990\",\"rs17684525\",\"rs79699136\",\"rs116194529\",\"rs12657844\",\"rs17165102\",\"rs140948654\",\"rs17684438\",\"rs114484030\",\"rs77262632\",\"rs17762857\",\"rs1993832\",\"rs60681812\",\"rs10519949\",\"rs55918025\",\"rs11854757\",\"rs17165105\",\"rs368614\",\"rs11072500\",\"rs72788513\",\"rs551009886;rs6862045\",\"rs388813\",\"rs183280201\",\"rs187467669\",\"rs10519929\",\"rs77198001\",\"rs73344964\",\"rs4836320\",\"rs56096254\",\"rs73344963\",\"rs56144110\",\"rs372969314\",\"rs4886605\",\"rs36054640\",\"rs10519939\",\"rs428658\",\"rs35528\",\"rs78259230\",\"rs17839696\",\"rs7702573\",\"rs75528418\",\"rs73785576\",\"rs56169866\",\"rs73785574\",\"rs57623356\",\"rs16863471\",\"rs13411329\",\"rs35524\",\"rs529478087\",\"rs73785580\",\"rs72786494\",\"rs17165082\",\"rs78120546\",\"rs77589749\",\"rs17673170\",\"rs11285616\",\"rs79713470\",\"rs2194080\",\"rs71050391\",\"rs138731838\",\"rs72786459\",\"rs10281571\",\"rs6858782\",\"rs10793809\",\"rs59745564\",\"rs6866678\",\"rs986430\",\"rs11895863\",\"rs986429\",\"rs10277582\",\"rs2898043\",\"rs9327438\",\"rs3756722\",\"rs6816209\",\"rs34537147\",\"rs6818959\",\"rs6859181\",\"rs200086613\",\"rs4864809\",\"rs10078629\",\"rs56320297\",\"rs33930493\",\"rs2059084\",\"rs6595770\",\"rs1153432\",\"rs35529\",\"rs10041484\",\"rs4836324\",\"rs4401615\",\"rs2008432\",\"rs35525\",\"rs1318923\",\"rs35527\",\"rs35236935\",\"rs4836323\",\"rs113091845\",\"rs43148\",\"rs185030\",\"rs246889\",\"rs12516897\",\"rs6859304\",\"rs34451603\",\"rs66885466\",\"rs10550881\",\"rs27563\",\"rs246892\",\"rs145619126\",\"rs2196751\",\"rs16863473\",\"rs541675801\",\"rs6877254\",\"rs35156178\",\"rs187514\",\"rs10519941\",\"rs144085293\",\"rs3812052\",\"rs12514969\",\"rs2408872\",\"rs11690945\",\"rs26944\",\"rs5838931\",\"rs201053818\",\"rs27562\",\"rs27388\",\"rs246894\",\"rs13171067\",\"rs1019482\",\"rs2218064\",\"rs985473\",\"rs2585194\",\"rs2585190\",\"rs246946\",\"rs2546083\",\"rs2546084\",\"rs2546802\",\"rs2546085\",\"rs2585191\",\"rs2546804\",\"rs2585193\",\"rs550745558\",\"rs2546086\",\"rs246948\",\"rs2546081\",\"rs13153845\",\"rs2546079\",\"rs2546806\",\"rs2546808\",\"rs4410790\",\"rs27652\",\"rs246895\",\"rs2431724\",\"rs34208116\",\"rs1816058\",\"rs152122\",\"rs3050850\",\"rs246888\",\"rs970546\",\"rs2585196\",\"rs246944\",\"rs2161283\",\"rs559620165\",\"rs31472\",\"rs246947\",\"rs2546082\",\"rs2546080\",\"rs185032\",\"rs2546087\",\"rs2546803\",\"rs2254762\",\"rs2439927\",\"rs2546805\",\"rs35796097\",\"rs35526\",\"rs26947\",\"rs246896\",\"rs1160960\",\"rs26946\",\"rs185033\",\"rs36308\",\"rs1816059\",\"rs246945\",\"rs1345663\",\"rs246897\",\"rs31470\",\"rs2408868\",\"rs2546078\",\"rs27782\",\"rs36307\",\"rs1422317\",\"rs31471\",\"rs2194079\",\"rs2546807\",\"rs152121\",\"rs2585195\",\"rs2431496\",\"rs27749\",\"rs26945\",\"rs2585199\",\"rs2585198\",\"rs1808378\",\"rs1345662\",\"rs2018571\",\"rs152120\",\"rs2546809\",\"rs246887\",\"rs2585200\",\"rs246886\",\"rs246885\",\"rs1422316\",\"rs2585197\",\"rs12519784\",\"rs2218065\",\"rs2032834\",\"rs1422313\",\"rs4836317\",\"rs4836318\",\"rs112394041\",\"rs2059083\",\"rs4836316\",\"rs1363387\"],\"x\":{\"__ndarray__\":\"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\",\"dtype\":\"float64\",\"shape\":[561]},\"y\":{\"__ndarray__\":\"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\",\"dtype\":\"float64\",\"shape\":[561]}},\"selected\":{\"id\":\"1391\",\"type\":\"Selection\"},\"selection_policy\":{\"id\":\"1390\",\"type\":\"UnionRenderers\"}},\"id\":\"1361\",\"type\":\"ColumnDataSource\"},{\"attributes\":{},\"id\":\"1334\",\"type\":\"LinearScale\"},{\"attributes\":{\"callback\":null},\"id\":\"1328\",\"type\":\"DataRange1d\"},{\"attributes\":{\"axis_label\":\"gini importance\",\"formatter\":{\"id\":\"1388\",\"type\":\"BasicTickFormatter\"},\"ticker\":{\"id\":\"1342\",\"type\":\"BasicTicker\"}},\"id\":\"1341\",\"type\":\"LinearAxis\"},{\"attributes\":{\"callback\":null},\"id\":\"1330\",\"type\":\"DataRange1d\"},{\"attributes\":{},\"id\":\"1332\",\"type\":\"LinearScale\"},{\"attributes\":{\"active_drag\":\"auto\",\"active_inspect\":\"auto\",\"active_multi\":null,\"active_scroll\":\"auto\",\"active_tap\":\"auto\",\"tools\":[{\"id\":\"1346\",\"type\":\"PanTool\"},{\"id\":\"1347\",\"type\":\"WheelZoomTool\"},{\"id\":\"1348\",\"type\":\"BoxZoomTool\"},{\"id\":\"1349\",\"type\":\"SaveTool\"},{\"id\":\"1350\",\"type\":\"ResetTool\"},{\"id\":\"1351\",\"type\":\"HelpTool\"},{\"id\":\"1360\",\"type\":\"HoverTool\"}]},\"id\":\"1352\",\"type\":\"Toolbar\"},{\"attributes\":{},\"id\":\"1349\",\"type\":\"SaveTool\"},{\"attributes\":{\"dimension\":1,\"ticker\":{\"id\":\"1342\",\"type\":\"BasicTicker\"}},\"id\":\"1345\",\"type\":\"Grid\"},{\"attributes\":{},\"id\":\"1342\",\"type\":\"BasicTicker\"},{\"attributes\":{},\"id\":\"1347\",\"type\":\"WheelZoomTool\"},{\"attributes\":{\"fill_alpha\":{\"value\":0.1},\"fill_color\":{\"value\":\"#1f77b4\"},\"line_alpha\":{\"value\":0.1},\"line_color\":{\"value\":\"#1f77b4\"},\"x\":{\"field\":\"x\"},\"y\":{\"field\":\"y\"}},\"id\":\"1364\",\"type\":\"Circle\"},{\"attributes\":{},\"id\":\"1350\",\"type\":\"ResetTool\"},{\"attributes\":{},\"id\":\"1390\",\"type\":\"UnionRenderers\"},{\"attributes\":{\"ticker\":{\"id\":\"1337\",\"type\":\"BasicTicker\"}},\"id\":\"1340\",\"type\":\"Grid\"},{\"attributes\":{\"data_source\":{\"id\":\"1361\",\"type\":\"ColumnDataSource\"},\"glyph\":{\"id\":\"1363\",\"type\":\"Circle\"},\"hover_glyph\":null,\"muted_glyph\":null,\"nonselection_glyph\":{\"id\":\"1364\",\"type\":\"Circle\"},\"selection_glyph\":null,\"view\":{\"id\":\"1366\",\"type\":\"CDSView\"}},\"id\":\"1365\",\"type\":\"GlyphRenderer\"},{\"attributes\":{},\"id\":\"1391\",\"type\":\"Selection\"},{\"attributes\":{\"source\":{\"id\":\"1361\",\"type\":\"ColumnDataSource\"}},\"id\":\"1366\",\"type\":\"CDSView\"},{\"attributes\":{},\"id\":\"1386\",\"type\":\"BasicTickFormatter\"},{\"attributes\":{\"overlay\":{\"id\":\"1392\",\"type\":\"BoxAnnotation\"}},\"id\":\"1348\",\"type\":\"BoxZoomTool\"},{\"attributes\":{\"fill_color\":{\"value\":\"#1f77b4\"},\"line_color\":{\"value\":\"#1f77b4\"},\"x\":{\"field\":\"x\"},\"y\":{\"field\":\"y\"}},\"id\":\"1363\",\"type\":\"Circle\"}],\"root_ids\":[\"1326\"]},\"title\":\"Bokeh Application\",\"version\":\"1.4.0\"}};\n",
       "  var render_items = [{\"docid\":\"a7e48548-75db-40d9-b01b-b5a7df3b244e\",\"roots\":{\"1326\":\"28a45c93-2f53-4c0d-a6d2-4156b2d77c12\"}}];\n",
       "  root.Bokeh.embed.embed_items_notebook(docs_json, render_items);\n",
       "\n",
       "  }\n",
       "  if (root.Bokeh !== undefined) {\n",
       "    embed_document(root);\n",
       "  } else {\n",
       "    var attempts = 0;\n",
       "    var timer = setInterval(function(root) {\n",
       "      if (root.Bokeh !== undefined) {\n",
       "        clearInterval(timer);\n",
       "        embed_document(root);\n",
       "      } else {\n",
       "        attempts++;\n",
       "        if (attempts > 100) {\n",
       "          clearInterval(timer);\n",
       "          console.log(\"Bokeh: ERROR: Unable to run BokehJS code because BokehJS library is missing\");\n",
       "        }\n",
       "      }\n",
       "    }, 10, root)\n",
       "  }\n",
       "})(window);"
      ],
      "application/vnd.bokehjs_exec.v0+json": ""
     },
     "metadata": {
      "application/vnd.bokehjs_exec.v0+json": {
       "id": "1326"
      }
     },
     "output_type": "display_data"
    }
   ],
   "source": [
    "p = hl.plot.scatter(x=-hl.log10(gwas_with_imp.p_value),\n",
    "                    y=gwas_with_imp.importance, \n",
    "                    xlabel = '-log10(p-value)',\n",
    "                    ylabel = 'gini importance',\n",
    "                    hover_fields=dict(rs=gwas_with_imp.rsid, loc=gwas_with_imp.locus))\n",
    "show(p)"
   ]
  },
  {
   "cell_type": "markdown",
   "metadata": {},
   "source": [
    "_Fig 3: Compare gini importance vs logistic regresion p-values._"
   ]
  }
 ],
 "metadata": {
  "kernelspec": {
   "display_name": "Python 3 (ipykernel)",
   "language": "python",
   "name": "python3"
  },
  "language_info": {
   "codemirror_mode": {
    "name": "ipython",
    "version": 3
   },
   "file_extension": ".py",
   "mimetype": "text/x-python",
   "name": "python",
   "nbconvert_exporter": "python",
   "pygments_lexer": "ipython3",
   "version": "3.8.12"
  }
 },
 "nbformat": 4,
 "nbformat_minor": 2
}
