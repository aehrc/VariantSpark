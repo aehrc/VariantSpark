{
 "cells": [
  {
   "cell_type": "markdown",
   "metadata": {},
   "source": [
    "VariantSpark integration with Hail 0.2\n",
    "==============================\n",
    "\n",
    "## Bootstrap\n",
    "\n",
    "This is needed to include variant-spark jar in the classpath. \n",
    "Can be simplified on terra."
   ]
  },
  {
   "cell_type": "code",
   "execution_count": 1,
   "metadata": {},
   "outputs": [],
   "source": [
    "import pkg_resources\n",
    "import hail as hl\n",
    "import varspark as vs\n",
    "HAIL_JAR=pkg_resources.resource_filename(hl.__name__, \"hail-all-spark.jar\")\n",
    "VS_JAR=vs.find_jar()"
   ]
  },
  {
   "cell_type": "code",
   "execution_count": 2,
   "metadata": {},
   "outputs": [],
   "source": [
    "from pyspark.sql import SparkSession\n",
    "spark = SparkSession.builder\\\n",
    "    .appName(\"HipsterIndex\") \\\n",
    "    .config(\"spark.driver.extraClassPath\", HAIL_JAR)\\\n",
    "    .config(\"spark.executor.extraClassPath\", HAIL_JAR)\\\n",
    "    .config(\"spark.jars\", \",\".join([HAIL_JAR,VS_JAR]))\\\n",
    "    .config(\"spark.serializer\", \"org.apache.spark.serializer.KryoSerializer\") \\\n",
    "    .config(\"spark.kryo.registrator\", \"is.hail.kryo.HailKryoRegistrator\") \\\n",
    "    .getOrCreate()"
   ]
  },
  {
   "cell_type": "code",
   "execution_count": 3,
   "metadata": {},
   "outputs": [
    {
     "name": "stderr",
     "output_type": "stream",
     "text": [
      "using hail jar at /Users/szu004/miniconda2/envs/hail/lib/python3.6/site-packages/hail/hail-all-spark.jar\n",
      "Running on Apache Spark version 2.4.1\n",
      "SparkUI available at http://szu004-mac-dp.nexus.csiro.au:4040\n",
      "Welcome to\n",
      "     __  __     <>__\n",
      "    / /_/ /__  __/ /\n",
      "   / __  / _ `/ / /\n",
      "  /_/ /_/\\_,_/_/_/   version 0.2.16-6da0d3571629\n",
      "LOGGING: writing to /Users/szu004/dev/variant-spark/dev-notebooks/hail-20190726-1037-0.2.16-6da0d3571629.log\n"
     ]
    }
   ],
   "source": [
    "import hail as hl\n",
    "hl.init(sc=spark.sparkContext)"
   ]
  },
  {
   "cell_type": "code",
   "execution_count": 4,
   "metadata": {},
   "outputs": [
    {
     "data": {
      "text/html": [
       "\n",
       "    <div class=\"bk-root\">\n",
       "        <a href=\"https://bokeh.pydata.org\" target=\"_blank\" class=\"bk-logo bk-logo-small bk-logo-notebook\"></a>\n",
       "        <span id=\"1001\">Loading BokehJS ...</span>\n",
       "    </div>"
      ]
     },
     "metadata": {},
     "output_type": "display_data"
    },
    {
     "data": {
      "application/javascript": [
       "\n",
       "(function(root) {\n",
       "  function now() {\n",
       "    return new Date();\n",
       "  }\n",
       "\n",
       "  var force = true;\n",
       "\n",
       "  if (typeof root._bokeh_onload_callbacks === \"undefined\" || force === true) {\n",
       "    root._bokeh_onload_callbacks = [];\n",
       "    root._bokeh_is_loading = undefined;\n",
       "  }\n",
       "\n",
       "  var JS_MIME_TYPE = 'application/javascript';\n",
       "  var HTML_MIME_TYPE = 'text/html';\n",
       "  var EXEC_MIME_TYPE = 'application/vnd.bokehjs_exec.v0+json';\n",
       "  var CLASS_NAME = 'output_bokeh rendered_html';\n",
       "\n",
       "  /**\n",
       "   * Render data to the DOM node\n",
       "   */\n",
       "  function render(props, node) {\n",
       "    var script = document.createElement(\"script\");\n",
       "    node.appendChild(script);\n",
       "  }\n",
       "\n",
       "  /**\n",
       "   * Handle when an output is cleared or removed\n",
       "   */\n",
       "  function handleClearOutput(event, handle) {\n",
       "    var cell = handle.cell;\n",
       "\n",
       "    var id = cell.output_area._bokeh_element_id;\n",
       "    var server_id = cell.output_area._bokeh_server_id;\n",
       "    // Clean up Bokeh references\n",
       "    if (id != null && id in Bokeh.index) {\n",
       "      Bokeh.index[id].model.document.clear();\n",
       "      delete Bokeh.index[id];\n",
       "    }\n",
       "\n",
       "    if (server_id !== undefined) {\n",
       "      // Clean up Bokeh references\n",
       "      var cmd = \"from bokeh.io.state import curstate; print(curstate().uuid_to_server['\" + server_id + \"'].get_sessions()[0].document.roots[0]._id)\";\n",
       "      cell.notebook.kernel.execute(cmd, {\n",
       "        iopub: {\n",
       "          output: function(msg) {\n",
       "            var id = msg.content.text.trim();\n",
       "            if (id in Bokeh.index) {\n",
       "              Bokeh.index[id].model.document.clear();\n",
       "              delete Bokeh.index[id];\n",
       "            }\n",
       "          }\n",
       "        }\n",
       "      });\n",
       "      // Destroy server and session\n",
       "      var cmd = \"import bokeh.io.notebook as ion; ion.destroy_server('\" + server_id + \"')\";\n",
       "      cell.notebook.kernel.execute(cmd);\n",
       "    }\n",
       "  }\n",
       "\n",
       "  /**\n",
       "   * Handle when a new output is added\n",
       "   */\n",
       "  function handleAddOutput(event, handle) {\n",
       "    var output_area = handle.output_area;\n",
       "    var output = handle.output;\n",
       "\n",
       "    // limit handleAddOutput to display_data with EXEC_MIME_TYPE content only\n",
       "    if ((output.output_type != \"display_data\") || (!output.data.hasOwnProperty(EXEC_MIME_TYPE))) {\n",
       "      return\n",
       "    }\n",
       "\n",
       "    var toinsert = output_area.element.find(\".\" + CLASS_NAME.split(' ')[0]);\n",
       "\n",
       "    if (output.metadata[EXEC_MIME_TYPE][\"id\"] !== undefined) {\n",
       "      toinsert[toinsert.length - 1].firstChild.textContent = output.data[JS_MIME_TYPE];\n",
       "      // store reference to embed id on output_area\n",
       "      output_area._bokeh_element_id = output.metadata[EXEC_MIME_TYPE][\"id\"];\n",
       "    }\n",
       "    if (output.metadata[EXEC_MIME_TYPE][\"server_id\"] !== undefined) {\n",
       "      var bk_div = document.createElement(\"div\");\n",
       "      bk_div.innerHTML = output.data[HTML_MIME_TYPE];\n",
       "      var script_attrs = bk_div.children[0].attributes;\n",
       "      for (var i = 0; i < script_attrs.length; i++) {\n",
       "        toinsert[toinsert.length - 1].firstChild.setAttribute(script_attrs[i].name, script_attrs[i].value);\n",
       "      }\n",
       "      // store reference to server id on output_area\n",
       "      output_area._bokeh_server_id = output.metadata[EXEC_MIME_TYPE][\"server_id\"];\n",
       "    }\n",
       "  }\n",
       "\n",
       "  function register_renderer(events, OutputArea) {\n",
       "\n",
       "    function append_mime(data, metadata, element) {\n",
       "      // create a DOM node to render to\n",
       "      var toinsert = this.create_output_subarea(\n",
       "        metadata,\n",
       "        CLASS_NAME,\n",
       "        EXEC_MIME_TYPE\n",
       "      );\n",
       "      this.keyboard_manager.register_events(toinsert);\n",
       "      // Render to node\n",
       "      var props = {data: data, metadata: metadata[EXEC_MIME_TYPE]};\n",
       "      render(props, toinsert[toinsert.length - 1]);\n",
       "      element.append(toinsert);\n",
       "      return toinsert\n",
       "    }\n",
       "\n",
       "    /* Handle when an output is cleared or removed */\n",
       "    events.on('clear_output.CodeCell', handleClearOutput);\n",
       "    events.on('delete.Cell', handleClearOutput);\n",
       "\n",
       "    /* Handle when a new output is added */\n",
       "    events.on('output_added.OutputArea', handleAddOutput);\n",
       "\n",
       "    /**\n",
       "     * Register the mime type and append_mime function with output_area\n",
       "     */\n",
       "    OutputArea.prototype.register_mime_type(EXEC_MIME_TYPE, append_mime, {\n",
       "      /* Is output safe? */\n",
       "      safe: true,\n",
       "      /* Index of renderer in `output_area.display_order` */\n",
       "      index: 0\n",
       "    });\n",
       "  }\n",
       "\n",
       "  // register the mime type if in Jupyter Notebook environment and previously unregistered\n",
       "  if (root.Jupyter !== undefined) {\n",
       "    var events = require('base/js/events');\n",
       "    var OutputArea = require('notebook/js/outputarea').OutputArea;\n",
       "\n",
       "    if (OutputArea.prototype.mime_types().indexOf(EXEC_MIME_TYPE) == -1) {\n",
       "      register_renderer(events, OutputArea);\n",
       "    }\n",
       "  }\n",
       "\n",
       "  \n",
       "  if (typeof (root._bokeh_timeout) === \"undefined\" || force === true) {\n",
       "    root._bokeh_timeout = Date.now() + 5000;\n",
       "    root._bokeh_failed_load = false;\n",
       "  }\n",
       "\n",
       "  var NB_LOAD_WARNING = {'data': {'text/html':\n",
       "     \"<div style='background-color: #fdd'>\\n\"+\n",
       "     \"<p>\\n\"+\n",
       "     \"BokehJS does not appear to have successfully loaded. If loading BokehJS from CDN, this \\n\"+\n",
       "     \"may be due to a slow or bad network connection. Possible fixes:\\n\"+\n",
       "     \"</p>\\n\"+\n",
       "     \"<ul>\\n\"+\n",
       "     \"<li>re-rerun `output_notebook()` to attempt to load from CDN again, or</li>\\n\"+\n",
       "     \"<li>use INLINE resources instead, as so:</li>\\n\"+\n",
       "     \"</ul>\\n\"+\n",
       "     \"<code>\\n\"+\n",
       "     \"from bokeh.resources import INLINE\\n\"+\n",
       "     \"output_notebook(resources=INLINE)\\n\"+\n",
       "     \"</code>\\n\"+\n",
       "     \"</div>\"}};\n",
       "\n",
       "  function display_loaded() {\n",
       "    var el = document.getElementById(\"1001\");\n",
       "    if (el != null) {\n",
       "      el.textContent = \"BokehJS is loading...\";\n",
       "    }\n",
       "    if (root.Bokeh !== undefined) {\n",
       "      if (el != null) {\n",
       "        el.textContent = \"BokehJS \" + root.Bokeh.version + \" successfully loaded.\";\n",
       "      }\n",
       "    } else if (Date.now() < root._bokeh_timeout) {\n",
       "      setTimeout(display_loaded, 100)\n",
       "    }\n",
       "  }\n",
       "\n",
       "\n",
       "  function run_callbacks() {\n",
       "    try {\n",
       "      root._bokeh_onload_callbacks.forEach(function(callback) {\n",
       "        if (callback != null)\n",
       "          callback();\n",
       "      });\n",
       "    } finally {\n",
       "      delete root._bokeh_onload_callbacks\n",
       "    }\n",
       "    console.debug(\"Bokeh: all callbacks have finished\");\n",
       "  }\n",
       "\n",
       "  function load_libs(css_urls, js_urls, callback) {\n",
       "    if (css_urls == null) css_urls = [];\n",
       "    if (js_urls == null) js_urls = [];\n",
       "\n",
       "    root._bokeh_onload_callbacks.push(callback);\n",
       "    if (root._bokeh_is_loading > 0) {\n",
       "      console.debug(\"Bokeh: BokehJS is being loaded, scheduling callback at\", now());\n",
       "      return null;\n",
       "    }\n",
       "    if (js_urls == null || js_urls.length === 0) {\n",
       "      run_callbacks();\n",
       "      return null;\n",
       "    }\n",
       "    console.debug(\"Bokeh: BokehJS not loaded, scheduling load and callback at\", now());\n",
       "    root._bokeh_is_loading = css_urls.length + js_urls.length;\n",
       "\n",
       "    function on_load() {\n",
       "      root._bokeh_is_loading--;\n",
       "      if (root._bokeh_is_loading === 0) {\n",
       "        console.debug(\"Bokeh: all BokehJS libraries/stylesheets loaded\");\n",
       "        run_callbacks()\n",
       "      }\n",
       "    }\n",
       "\n",
       "    function on_error() {\n",
       "      console.error(\"failed to load \" + url);\n",
       "    }\n",
       "\n",
       "    for (var i = 0; i < css_urls.length; i++) {\n",
       "      var url = css_urls[i];\n",
       "      const element = document.createElement(\"link\");\n",
       "      element.onload = on_load;\n",
       "      element.onerror = on_error;\n",
       "      element.rel = \"stylesheet\";\n",
       "      element.type = \"text/css\";\n",
       "      element.href = url;\n",
       "      console.debug(\"Bokeh: injecting link tag for BokehJS stylesheet: \", url);\n",
       "      document.body.appendChild(element);\n",
       "    }\n",
       "\n",
       "    for (var i = 0; i < js_urls.length; i++) {\n",
       "      var url = js_urls[i];\n",
       "      var element = document.createElement('script');\n",
       "      element.onload = on_load;\n",
       "      element.onerror = on_error;\n",
       "      element.async = false;\n",
       "      element.src = url;\n",
       "      console.debug(\"Bokeh: injecting script tag for BokehJS library: \", url);\n",
       "      document.head.appendChild(element);\n",
       "    }\n",
       "  };var element = document.getElementById(\"1001\");\n",
       "  if (element == null) {\n",
       "    console.error(\"Bokeh: ERROR: autoload.js configured with elementid '1001' but no matching script tag was found. \")\n",
       "    return false;\n",
       "  }\n",
       "\n",
       "  function inject_raw_css(css) {\n",
       "    const element = document.createElement(\"style\");\n",
       "    element.appendChild(document.createTextNode(css));\n",
       "    document.body.appendChild(element);\n",
       "  }\n",
       "\n",
       "  var js_urls = [\"https://cdn.pydata.org/bokeh/release/bokeh-1.2.0.min.js\", \"https://cdn.pydata.org/bokeh/release/bokeh-widgets-1.2.0.min.js\", \"https://cdn.pydata.org/bokeh/release/bokeh-tables-1.2.0.min.js\", \"https://cdn.pydata.org/bokeh/release/bokeh-gl-1.2.0.min.js\"];\n",
       "  var css_urls = [\"https://cdn.pydata.org/bokeh/release/bokeh-1.2.0.min.css\", \"https://cdn.pydata.org/bokeh/release/bokeh-widgets-1.2.0.min.css\", \"https://cdn.pydata.org/bokeh/release/bokeh-tables-1.2.0.min.css\"];\n",
       "\n",
       "  var inline_js = [\n",
       "    function(Bokeh) {\n",
       "      Bokeh.set_log_level(\"info\");\n",
       "    },\n",
       "    \n",
       "    function(Bokeh) {\n",
       "      \n",
       "    },\n",
       "    function(Bokeh) {} // ensure no trailing comma for IE\n",
       "  ];\n",
       "\n",
       "  function run_inline_js() {\n",
       "    \n",
       "    if ((root.Bokeh !== undefined) || (force === true)) {\n",
       "      for (var i = 0; i < inline_js.length; i++) {\n",
       "        inline_js[i].call(root, root.Bokeh);\n",
       "      }if (force === true) {\n",
       "        display_loaded();\n",
       "      }} else if (Date.now() < root._bokeh_timeout) {\n",
       "      setTimeout(run_inline_js, 100);\n",
       "    } else if (!root._bokeh_failed_load) {\n",
       "      console.log(\"Bokeh: BokehJS failed to load within specified timeout.\");\n",
       "      root._bokeh_failed_load = true;\n",
       "    } else if (force !== true) {\n",
       "      var cell = $(document.getElementById(\"1001\")).parents('.cell').data().cell;\n",
       "      cell.output_area.append_execute_result(NB_LOAD_WARNING)\n",
       "    }\n",
       "\n",
       "  }\n",
       "\n",
       "  if (root._bokeh_is_loading === 0) {\n",
       "    console.debug(\"Bokeh: BokehJS loaded, going straight to plotting\");\n",
       "    run_inline_js();\n",
       "  } else {\n",
       "    load_libs(css_urls, js_urls, function() {\n",
       "      console.debug(\"Bokeh: BokehJS plotting callback run at\", now());\n",
       "      run_inline_js();\n",
       "    });\n",
       "  }\n",
       "}(window));"
      ],
      "application/vnd.bokehjs_load.v0+json": "\n(function(root) {\n  function now() {\n    return new Date();\n  }\n\n  var force = true;\n\n  if (typeof root._bokeh_onload_callbacks === \"undefined\" || force === true) {\n    root._bokeh_onload_callbacks = [];\n    root._bokeh_is_loading = undefined;\n  }\n\n  \n\n  \n  if (typeof (root._bokeh_timeout) === \"undefined\" || force === true) {\n    root._bokeh_timeout = Date.now() + 5000;\n    root._bokeh_failed_load = false;\n  }\n\n  var NB_LOAD_WARNING = {'data': {'text/html':\n     \"<div style='background-color: #fdd'>\\n\"+\n     \"<p>\\n\"+\n     \"BokehJS does not appear to have successfully loaded. If loading BokehJS from CDN, this \\n\"+\n     \"may be due to a slow or bad network connection. Possible fixes:\\n\"+\n     \"</p>\\n\"+\n     \"<ul>\\n\"+\n     \"<li>re-rerun `output_notebook()` to attempt to load from CDN again, or</li>\\n\"+\n     \"<li>use INLINE resources instead, as so:</li>\\n\"+\n     \"</ul>\\n\"+\n     \"<code>\\n\"+\n     \"from bokeh.resources import INLINE\\n\"+\n     \"output_notebook(resources=INLINE)\\n\"+\n     \"</code>\\n\"+\n     \"</div>\"}};\n\n  function display_loaded() {\n    var el = document.getElementById(\"1001\");\n    if (el != null) {\n      el.textContent = \"BokehJS is loading...\";\n    }\n    if (root.Bokeh !== undefined) {\n      if (el != null) {\n        el.textContent = \"BokehJS \" + root.Bokeh.version + \" successfully loaded.\";\n      }\n    } else if (Date.now() < root._bokeh_timeout) {\n      setTimeout(display_loaded, 100)\n    }\n  }\n\n\n  function run_callbacks() {\n    try {\n      root._bokeh_onload_callbacks.forEach(function(callback) {\n        if (callback != null)\n          callback();\n      });\n    } finally {\n      delete root._bokeh_onload_callbacks\n    }\n    console.debug(\"Bokeh: all callbacks have finished\");\n  }\n\n  function load_libs(css_urls, js_urls, callback) {\n    if (css_urls == null) css_urls = [];\n    if (js_urls == null) js_urls = [];\n\n    root._bokeh_onload_callbacks.push(callback);\n    if (root._bokeh_is_loading > 0) {\n      console.debug(\"Bokeh: BokehJS is being loaded, scheduling callback at\", now());\n      return null;\n    }\n    if (js_urls == null || js_urls.length === 0) {\n      run_callbacks();\n      return null;\n    }\n    console.debug(\"Bokeh: BokehJS not loaded, scheduling load and callback at\", now());\n    root._bokeh_is_loading = css_urls.length + js_urls.length;\n\n    function on_load() {\n      root._bokeh_is_loading--;\n      if (root._bokeh_is_loading === 0) {\n        console.debug(\"Bokeh: all BokehJS libraries/stylesheets loaded\");\n        run_callbacks()\n      }\n    }\n\n    function on_error() {\n      console.error(\"failed to load \" + url);\n    }\n\n    for (var i = 0; i < css_urls.length; i++) {\n      var url = css_urls[i];\n      const element = document.createElement(\"link\");\n      element.onload = on_load;\n      element.onerror = on_error;\n      element.rel = \"stylesheet\";\n      element.type = \"text/css\";\n      element.href = url;\n      console.debug(\"Bokeh: injecting link tag for BokehJS stylesheet: \", url);\n      document.body.appendChild(element);\n    }\n\n    for (var i = 0; i < js_urls.length; i++) {\n      var url = js_urls[i];\n      var element = document.createElement('script');\n      element.onload = on_load;\n      element.onerror = on_error;\n      element.async = false;\n      element.src = url;\n      console.debug(\"Bokeh: injecting script tag for BokehJS library: \", url);\n      document.head.appendChild(element);\n    }\n  };var element = document.getElementById(\"1001\");\n  if (element == null) {\n    console.error(\"Bokeh: ERROR: autoload.js configured with elementid '1001' but no matching script tag was found. \")\n    return false;\n  }\n\n  function inject_raw_css(css) {\n    const element = document.createElement(\"style\");\n    element.appendChild(document.createTextNode(css));\n    document.body.appendChild(element);\n  }\n\n  var js_urls = [\"https://cdn.pydata.org/bokeh/release/bokeh-1.2.0.min.js\", \"https://cdn.pydata.org/bokeh/release/bokeh-widgets-1.2.0.min.js\", \"https://cdn.pydata.org/bokeh/release/bokeh-tables-1.2.0.min.js\", \"https://cdn.pydata.org/bokeh/release/bokeh-gl-1.2.0.min.js\"];\n  var css_urls = [\"https://cdn.pydata.org/bokeh/release/bokeh-1.2.0.min.css\", \"https://cdn.pydata.org/bokeh/release/bokeh-widgets-1.2.0.min.css\", \"https://cdn.pydata.org/bokeh/release/bokeh-tables-1.2.0.min.css\"];\n\n  var inline_js = [\n    function(Bokeh) {\n      Bokeh.set_log_level(\"info\");\n    },\n    \n    function(Bokeh) {\n      \n    },\n    function(Bokeh) {} // ensure no trailing comma for IE\n  ];\n\n  function run_inline_js() {\n    \n    if ((root.Bokeh !== undefined) || (force === true)) {\n      for (var i = 0; i < inline_js.length; i++) {\n        inline_js[i].call(root, root.Bokeh);\n      }if (force === true) {\n        display_loaded();\n      }} else if (Date.now() < root._bokeh_timeout) {\n      setTimeout(run_inline_js, 100);\n    } else if (!root._bokeh_failed_load) {\n      console.log(\"Bokeh: BokehJS failed to load within specified timeout.\");\n      root._bokeh_failed_load = true;\n    } else if (force !== true) {\n      var cell = $(document.getElementById(\"1001\")).parents('.cell').data().cell;\n      cell.output_area.append_execute_result(NB_LOAD_WARNING)\n    }\n\n  }\n\n  if (root._bokeh_is_loading === 0) {\n    console.debug(\"Bokeh: BokehJS loaded, going straight to plotting\");\n    run_inline_js();\n  } else {\n    load_libs(css_urls, js_urls, function() {\n      console.debug(\"Bokeh: BokehJS plotting callback run at\", now());\n      run_inline_js();\n    });\n  }\n}(window));"
     },
     "metadata": {},
     "output_type": "display_data"
    }
   ],
   "source": [
    "from hail.plot import show\n",
    "from pprint import pprint\n",
    "hl.plot.output_notebook()"
   ]
  },
  {
   "cell_type": "markdown",
   "metadata": {},
   "source": [
    "# Load and explore hipster data"
   ]
  },
  {
   "cell_type": "code",
   "execution_count": 5,
   "metadata": {},
   "outputs": [],
   "source": [
    "data = hl.import_vcf('../data/hipsterIndex/hipster.vcf.bgz')"
   ]
  },
  {
   "cell_type": "code",
   "execution_count": 6,
   "metadata": {},
   "outputs": [
    {
     "name": "stderr",
     "output_type": "stream",
     "text": [
      "2019-07-26 10:37:23 Hail: INFO: Reading table with no type imputation\n",
      "  Loading column 'samples' as type 'str' (type not specified)\n",
      "  Loading column 'score' as type 'float64' (user-specified)\n",
      "  Loading column 'label' as type 'float64' (user-specified)\n",
      "\n"
     ]
    }
   ],
   "source": [
    "labels = hl.import_table('../data/hipsterIndex/hipster_labels.txt', delimiter=',', \n",
    "                types=dict(label='float64', score='float64')).key_by('samples')"
   ]
  },
  {
   "cell_type": "code",
   "execution_count": 7,
   "metadata": {},
   "outputs": [
    {
     "name": "stdout",
     "output_type": "stream",
     "text": [
      "----------------------------------------\n",
      "Global fields:\n",
      "    None\n",
      "----------------------------------------\n",
      "Column fields:\n",
      "    's': str\n",
      "    'hipster': struct {\n",
      "        score: float64, \n",
      "        label: float64\n",
      "    }\n",
      "----------------------------------------\n",
      "Row fields:\n",
      "    'locus': locus<GRCh37>\n",
      "    'alleles': array<str>\n",
      "    'rsid': str\n",
      "    'qual': float64\n",
      "    'filters': set<str>\n",
      "    'info': struct {\n",
      "        AA: str, \n",
      "        AC: array<int32>, \n",
      "        AF: array<float64>, \n",
      "        AFR_AF: array<float64>, \n",
      "        AMR_AF: array<float64>, \n",
      "        AN: int32, \n",
      "        CIEND: array<int32>, \n",
      "        CIPOS: array<int32>, \n",
      "        CS: str, \n",
      "        DP: int32, \n",
      "        EAS_AF: array<float64>, \n",
      "        END: int32, \n",
      "        EUR_AF: array<float64>, \n",
      "        EX_TARGET: bool, \n",
      "        IMPRECISE: bool, \n",
      "        MC: array<str>, \n",
      "        MEINFO: array<str>, \n",
      "        MEND: int32, \n",
      "        MLEN: int32, \n",
      "        MSTART: int32, \n",
      "        MULTI_ALLELIC: bool, \n",
      "        NS: int32, \n",
      "        SAS_AF: array<float64>, \n",
      "        SVLEN: array<int32>, \n",
      "        SVTYPE: str, \n",
      "        TSD: str, \n",
      "        VT: array<str>\n",
      "    }\n",
      "----------------------------------------\n",
      "Entry fields:\n",
      "    'GT': call\n",
      "----------------------------------------\n",
      "Column key: ['s']\n",
      "Row key: ['locus', 'alleles']\n",
      "----------------------------------------\n"
     ]
    }
   ],
   "source": [
    "mt = data.annotate_cols(hipster = labels[data.s])\n",
    "mt.describe()"
   ]
  },
  {
   "cell_type": "code",
   "execution_count": 8,
   "metadata": {},
   "outputs": [
    {
     "name": "stderr",
     "output_type": "stream",
     "text": [
      "2019-07-26 10:37:24 Hail: INFO: Coerced almost-sorted dataset\n"
     ]
    },
    {
     "data": {
      "text/plain": [
       "(17010, 2504)"
      ]
     },
     "execution_count": 8,
     "metadata": {},
     "output_type": "execute_result"
    }
   ],
   "source": [
    "mt.count()"
   ]
  },
  {
   "cell_type": "markdown",
   "metadata": {},
   "source": [
    "## Run log regression using Hail"
   ]
  },
  {
   "cell_type": "code",
   "execution_count": 9,
   "metadata": {},
   "outputs": [
    {
     "name": "stderr",
     "output_type": "stream",
     "text": [
      "2019-07-26 10:37:28 Hail: INFO: logistic_regression_rows: running score on 2504 samples for response variable y,\n",
      "    with input variable x, and 1 additional covariate...\n"
     ]
    }
   ],
   "source": [
    "gwas = hl.logistic_regression_rows(test='score',\n",
    "                                y=mt.hipster.label,\n",
    "                                 x=mt.GT.n_alt_alleles(),\n",
    "                                 covariates=[1.0],\n",
    "                                 pass_through=[mt.rsid])"
   ]
  },
  {
   "cell_type": "code",
   "execution_count": 10,
   "metadata": {},
   "outputs": [
    {
     "data": {
      "text/html": [
       "<table><thead style=\"font-weight: bold;\"><tr><td>locus</td><td>alleles</td><td>rsid</td><td>chi_sq_stat</td><td>p_value</td></tr>\n",
       "<tr><td>locus&lt;GRCh37&gt;</td><td>array&lt;str&gt;</td><td>str</td><td>float64</td><td>float64</td></tr>\n",
       "</thead><tbody><tr><td>2:109511398</td><td>[&quot;G&quot;,&quot;A&quot;]</td><td>&quot;rs150055772&quot;</td><td>1.97e-01</td><td>6.57e-01</td></tr>\n",
       "<tr><td>2:109511454</td><td>[&quot;C&quot;,&quot;A&quot;]</td><td>&quot;rs558429529&quot;</td><td>1.55e+00</td><td>2.13e-01</td></tr>\n",
       "<tr><td>2:109511463</td><td>[&quot;G&quot;,&quot;A&quot;]</td><td>&quot;rs200762071&quot;</td><td>3.65e+00</td><td>5.60e-02</td></tr>\n",
       "</tbody></table><p>showing top 3 rows</p>\n"
      ],
      "text/plain": [
       "+---------------+------------+---------------+-------------+----------+\n",
       "| locus         | alleles    | rsid          | chi_sq_stat |  p_value |\n",
       "+---------------+------------+---------------+-------------+----------+\n",
       "| locus<GRCh37> | array<str> | str           |     float64 |  float64 |\n",
       "+---------------+------------+---------------+-------------+----------+\n",
       "| 2:109511398   | [\"G\",\"A\"]  | \"rs150055772\" |    1.97e-01 | 6.57e-01 |\n",
       "| 2:109511454   | [\"C\",\"A\"]  | \"rs558429529\" |    1.55e+00 | 2.13e-01 |\n",
       "| 2:109511463   | [\"G\",\"A\"]  | \"rs200762071\" |    3.65e+00 | 5.60e-02 |\n",
       "+---------------+------------+---------------+-------------+----------+\n",
       "showing top 3 rows"
      ]
     },
     "metadata": {},
     "output_type": "display_data"
    }
   ],
   "source": [
    "gwas.show(3)"
   ]
  },
  {
   "cell_type": "code",
   "execution_count": 11,
   "metadata": {},
   "outputs": [
    {
     "data": {
      "text/html": [
       "\n",
       "\n",
       "\n",
       "\n",
       "\n",
       "\n",
       "  <div class=\"bk-root\" id=\"fffadc52-f31a-4adb-9d17-59e17d2794f9\" data-root-id=\"1003\"></div>\n"
      ]
     },
     "metadata": {},
     "output_type": "display_data"
    },
    {
     "data": {
      "application/javascript": [
       "(function(root) {\n",
       "  function embed_document(root) {\n",
       "    \n",
       "  var docs_json = {\"cb6eba06-3693-49ce-8368-a9161edb40b2\":{\"roots\":{\"references\":[{\"attributes\":{\"below\":[{\"id\":\"1013\",\"type\":\"LinearAxis\"}],\"center\":[{\"id\":\"1017\",\"type\":\"Grid\"},{\"id\":\"1022\",\"type\":\"Grid\"}],\"left\":[{\"id\":\"1018\",\"type\":\"LinearAxis\"},{\"id\":\"1074\",\"type\":\"Legend\"},{\"id\":\"1075\",\"type\":\"ColorBar\"}],\"plot_width\":1000,\"renderers\":[{\"id\":\"1044\",\"type\":\"GlyphRenderer\"},{\"id\":\"1050\",\"type\":\"GlyphRenderer\"},{\"id\":\"1056\",\"type\":\"GlyphRenderer\"},{\"id\":\"1062\",\"type\":\"GlyphRenderer\"},{\"id\":\"1068\",\"type\":\"GlyphRenderer\"},{\"id\":\"1096\",\"type\":\"Span\"}],\"title\":null,\"toolbar\":{\"id\":\"1029\",\"type\":\"Toolbar\"},\"x_range\":{\"id\":\"1005\",\"type\":\"DataRange1d\"},\"x_scale\":{\"id\":\"1009\",\"type\":\"LinearScale\"},\"y_range\":{\"id\":\"1007\",\"type\":\"DataRange1d\"},\"y_scale\":{\"id\":\"1011\",\"type\":\"LinearScale\"}},\"id\":\"1003\",\"subtype\":\"Figure\",\"type\":\"Plot\"},{\"attributes\":{\"filters\":[{\"id\":\"1051\",\"type\":\"GroupFilter\"}],\"source\":{\"id\":\"1038\",\"type\":\"ColumnDataSource\"}},\"id\":\"1052\",\"type\":\"CDSView\"},{\"attributes\":{},\"id\":\"1028\",\"type\":\"HelpTool\"},{\"attributes\":{\"data_source\":{\"id\":\"1038\",\"type\":\"ColumnDataSource\"},\"glyph\":{\"id\":\"1048\",\"type\":\"Circle\"},\"hover_glyph\":null,\"muted_glyph\":null,\"nonselection_glyph\":{\"id\":\"1049\",\"type\":\"Circle\"},\"selection_glyph\":null,\"view\":{\"id\":\"1046\",\"type\":\"CDSView\"}},\"id\":\"1050\",\"type\":\"GlyphRenderer\"},{\"attributes\":{},\"id\":\"1023\",\"type\":\"PanTool\"},{\"attributes\":{\"dimension\":1,\"ticker\":{\"id\":\"1019\",\"type\":\"BasicTicker\"}},\"id\":\"1022\",\"type\":\"Grid\"},{\"attributes\":{\"data_source\":{\"id\":\"1038\",\"type\":\"ColumnDataSource\"},\"glyph\":{\"id\":\"1054\",\"type\":\"Circle\"},\"hover_glyph\":null,\"muted_glyph\":null,\"nonselection_glyph\":{\"id\":\"1055\",\"type\":\"Circle\"},\"selection_glyph\":null,\"view\":{\"id\":\"1052\",\"type\":\"CDSView\"}},\"id\":\"1056\",\"type\":\"GlyphRenderer\"},{\"attributes\":{},\"id\":\"1081\",\"type\":\"BasicTickFormatter\"},{\"attributes\":{\"callback\":null},\"id\":\"1007\",\"type\":\"DataRange1d\"},{\"attributes\":{},\"id\":\"1085\",\"type\":\"UnionRenderers\"},{\"attributes\":{\"factors\":[\"1\",\"2\",\"3\",\"4\",\"5\",\"6\",\"7\",\"8\",\"9\",\"10\",\"11\",\"12\",\"13\",\"14\",\"15\",\"16\",\"17\",\"18\",\"19\",\"20\",\"21\",\"22\",\"X\",\"Y\",\"MT\",\"GL000207.1\",\"GL000226.1\",\"GL000229.1\",\"GL000231.1\",\"GL000210.1\",\"GL000239.1\",\"GL000235.1\",\"GL000201.1\",\"GL000247.1\",\"GL000245.1\",\"GL000197.1\",\"GL000203.1\",\"GL000246.1\",\"GL000249.1\",\"GL000196.1\",\"GL000248.1\",\"GL000244.1\",\"GL000238.1\",\"GL000202.1\",\"GL000234.1\",\"GL000232.1\",\"GL000206.1\",\"GL000240.1\",\"GL000236.1\",\"GL000241.1\",\"GL000243.1\",\"GL000242.1\",\"GL000230.1\",\"GL000237.1\",\"GL000233.1\",\"GL000204.1\",\"GL000198.1\",\"GL000208.1\",\"GL000191.1\",\"GL000227.1\",\"GL000228.1\",\"GL000214.1\",\"GL000221.1\",\"GL000209.1\",\"GL000218.1\",\"GL000220.1\",\"GL000213.1\",\"GL000211.1\",\"GL000199.1\",\"GL000217.1\",\"GL000216.1\",\"GL000215.1\",\"GL000205.1\",\"GL000219.1\",\"GL000224.1\",\"GL000223.1\",\"GL000195.1\",\"GL000212.1\",\"GL000222.1\",\"GL000200.1\",\"GL000193.1\",\"GL000194.1\",\"GL000225.1\",\"GL000192.1\"],\"palette\":[\"#1f77b4\",\"#ff7f0e\",\"#1f77b4\",\"#ff7f0e\",\"#1f77b4\",\"#ff7f0e\",\"#1f77b4\",\"#ff7f0e\",\"#1f77b4\",\"#ff7f0e\",\"#1f77b4\",\"#ff7f0e\",\"#1f77b4\",\"#ff7f0e\",\"#1f77b4\",\"#ff7f0e\",\"#1f77b4\",\"#ff7f0e\",\"#1f77b4\",\"#ff7f0e\",\"#1f77b4\",\"#ff7f0e\",\"#1f77b4\",\"#ff7f0e\",\"#1f77b4\",\"#ff7f0e\",\"#1f77b4\",\"#ff7f0e\",\"#1f77b4\",\"#ff7f0e\",\"#1f77b4\",\"#ff7f0e\",\"#1f77b4\",\"#ff7f0e\",\"#1f77b4\",\"#ff7f0e\",\"#1f77b4\",\"#ff7f0e\",\"#1f77b4\",\"#ff7f0e\",\"#1f77b4\",\"#ff7f0e\",\"#1f77b4\",\"#ff7f0e\",\"#1f77b4\",\"#ff7f0e\",\"#1f77b4\",\"#ff7f0e\",\"#1f77b4\",\"#ff7f0e\",\"#1f77b4\",\"#ff7f0e\",\"#1f77b4\",\"#ff7f0e\",\"#1f77b4\",\"#ff7f0e\",\"#1f77b4\",\"#ff7f0e\",\"#1f77b4\",\"#ff7f0e\",\"#1f77b4\",\"#ff7f0e\",\"#1f77b4\",\"#ff7f0e\",\"#1f77b4\",\"#ff7f0e\",\"#1f77b4\",\"#ff7f0e\",\"#1f77b4\",\"#ff7f0e\",\"#1f77b4\",\"#ff7f0e\",\"#1f77b4\",\"#ff7f0e\",\"#1f77b4\",\"#ff7f0e\",\"#1f77b4\",\"#ff7f0e\",\"#1f77b4\",\"#ff7f0e\",\"#1f77b4\",\"#ff7f0e\",\"#1f77b4\",\"#ff7f0e\"]},\"id\":\"1002\",\"type\":\"CategoricalColorMapper\"},{\"attributes\":{\"color_mapper\":null,\"formatter\":{\"id\":\"1081\",\"type\":\"BasicTickFormatter\"},\"ticker\":{\"id\":\"1082\",\"type\":\"BasicTicker\"},\"visible\":false},\"id\":\"1075\",\"type\":\"ColorBar\"},{\"attributes\":{\"click_policy\":\"hide\",\"items\":[{\"id\":\"1069\",\"type\":\"LegendItem\"},{\"id\":\"1070\",\"type\":\"LegendItem\"},{\"id\":\"1071\",\"type\":\"LegendItem\"},{\"id\":\"1072\",\"type\":\"LegendItem\"},{\"id\":\"1073\",\"type\":\"LegendItem\"}],\"visible\":false},\"id\":\"1074\",\"type\":\"Legend\"},{\"attributes\":{\"filters\":[{\"id\":\"1045\",\"type\":\"GroupFilter\"}],\"source\":{\"id\":\"1038\",\"type\":\"ColumnDataSource\"}},\"id\":\"1046\",\"type\":\"CDSView\"},{\"attributes\":{},\"id\":\"1083\",\"type\":\"BasicTickFormatter\"},{\"attributes\":{},\"id\":\"1082\",\"type\":\"BasicTicker\"},{\"attributes\":{},\"id\":\"1079\",\"type\":\"BasicTickFormatter\"},{\"attributes\":{\"data_source\":{\"id\":\"1038\",\"type\":\"ColumnDataSource\"},\"glyph\":{\"id\":\"1042\",\"type\":\"Circle\"},\"hover_glyph\":null,\"muted_glyph\":null,\"nonselection_glyph\":{\"id\":\"1043\",\"type\":\"Circle\"},\"selection_glyph\":null,\"view\":{\"id\":\"1040\",\"type\":\"CDSView\"}},\"id\":\"1044\",\"type\":\"GlyphRenderer\"},{\"attributes\":{\"column_name\":\"_contig\",\"group\":\"15\"},\"id\":\"1039\",\"type\":\"GroupFilter\"},{\"attributes\":{\"label\":{\"value\":\"7\"},\"renderers\":[{\"id\":\"1068\",\"type\":\"GlyphRenderer\"}]},\"id\":\"1073\",\"type\":\"LegendItem\"},{\"attributes\":{},\"id\":\"1011\",\"type\":\"LinearScale\"},{\"attributes\":{\"fill_color\":{\"field\":\"_contig\",\"transform\":{\"id\":\"1002\",\"type\":\"CategoricalColorMapper\"}},\"line_color\":{\"field\":\"_contig\",\"transform\":{\"id\":\"1002\",\"type\":\"CategoricalColorMapper\"}},\"x\":{\"field\":\"_global_locus\"},\"y\":{\"field\":\"_pval\"}},\"id\":\"1042\",\"type\":\"Circle\"},{\"attributes\":{\"fill_alpha\":{\"value\":0.1},\"fill_color\":{\"value\":\"#1f77b4\"},\"line_alpha\":{\"value\":0.1},\"line_color\":{\"value\":\"#1f77b4\"},\"x\":{\"field\":\"_global_locus\"},\"y\":{\"field\":\"_pval\"}},\"id\":\"1055\",\"type\":\"Circle\"},{\"attributes\":{\"fill_alpha\":{\"value\":0.1},\"fill_color\":{\"value\":\"#1f77b4\"},\"line_alpha\":{\"value\":0.1},\"line_color\":{\"value\":\"#1f77b4\"},\"x\":{\"field\":\"_global_locus\"},\"y\":{\"field\":\"_pval\"}},\"id\":\"1049\",\"type\":\"Circle\"},{\"attributes\":{},\"id\":\"1014\",\"type\":\"BasicTicker\"},{\"attributes\":{\"column_name\":\"_contig\",\"group\":\"7\"},\"id\":\"1063\",\"type\":\"GroupFilter\"},{\"attributes\":{\"bottom_units\":\"screen\",\"fill_alpha\":{\"value\":0.5},\"fill_color\":{\"value\":\"lightgrey\"},\"left_units\":\"screen\",\"level\":\"overlay\",\"line_alpha\":{\"value\":1.0},\"line_color\":{\"value\":\"black\"},\"line_dash\":[4,4],\"line_width\":{\"value\":2},\"render_mode\":\"css\",\"right_units\":\"screen\",\"top_units\":\"screen\"},\"id\":\"1086\",\"type\":\"BoxAnnotation\"},{\"attributes\":{},\"id\":\"1024\",\"type\":\"WheelZoomTool\"},{\"attributes\":{\"fill_color\":{\"field\":\"_contig\",\"transform\":{\"id\":\"1002\",\"type\":\"CategoricalColorMapper\"}},\"line_color\":{\"field\":\"_contig\",\"transform\":{\"id\":\"1002\",\"type\":\"CategoricalColorMapper\"}},\"x\":{\"field\":\"_global_locus\"},\"y\":{\"field\":\"_pval\"}},\"id\":\"1048\",\"type\":\"Circle\"},{\"attributes\":{},\"id\":\"1027\",\"type\":\"ResetTool\"},{\"attributes\":{\"column_name\":\"_contig\",\"group\":\"4\"},\"id\":\"1051\",\"type\":\"GroupFilter\"},{\"attributes\":{\"filters\":[{\"id\":\"1063\",\"type\":\"GroupFilter\"}],\"source\":{\"id\":\"1038\",\"type\":\"ColumnDataSource\"}},\"id\":\"1064\",\"type\":\"CDSView\"},{\"attributes\":{},\"id\":\"1026\",\"type\":\"SaveTool\"},{\"attributes\":{\"callback\":null},\"id\":\"1005\",\"type\":\"DataRange1d\"},{\"attributes\":{\"active_drag\":\"auto\",\"active_inspect\":\"auto\",\"active_multi\":null,\"active_scroll\":\"auto\",\"active_tap\":\"auto\",\"tools\":[{\"id\":\"1023\",\"type\":\"PanTool\"},{\"id\":\"1024\",\"type\":\"WheelZoomTool\"},{\"id\":\"1025\",\"type\":\"BoxZoomTool\"},{\"id\":\"1026\",\"type\":\"SaveTool\"},{\"id\":\"1027\",\"type\":\"ResetTool\"},{\"id\":\"1028\",\"type\":\"HelpTool\"},{\"id\":\"1037\",\"type\":\"HoverTool\"}]},\"id\":\"1029\",\"type\":\"Toolbar\"},{\"attributes\":{\"label\":{\"value\":\"5\"},\"renderers\":[{\"id\":\"1062\",\"type\":\"GlyphRenderer\"}]},\"id\":\"1072\",\"type\":\"LegendItem\"},{\"attributes\":{\"filters\":[{\"id\":\"1057\",\"type\":\"GroupFilter\"}],\"source\":{\"id\":\"1038\",\"type\":\"ColumnDataSource\"}},\"id\":\"1058\",\"type\":\"CDSView\"},{\"attributes\":{\"axis_label\":\"P-value (-log10 scale)\",\"formatter\":{\"id\":\"1079\",\"type\":\"BasicTickFormatter\"},\"ticker\":{\"id\":\"1019\",\"type\":\"BasicTicker\"}},\"id\":\"1018\",\"type\":\"LinearAxis\"},{\"attributes\":{},\"id\":\"1009\",\"type\":\"LinearScale\"},{\"attributes\":{\"column_name\":\"_contig\",\"group\":\"2\"},\"id\":\"1045\",\"type\":\"GroupFilter\"},{\"attributes\":{\"line_color\":{\"value\":\"red\"},\"line_dash\":[6],\"line_width\":{\"value\":1.5},\"location\":7.301029995663981},\"id\":\"1096\",\"type\":\"Span\"},{\"attributes\":{\"overlay\":{\"id\":\"1086\",\"type\":\"BoxAnnotation\"}},\"id\":\"1025\",\"type\":\"BoxZoomTool\"},{\"attributes\":{\"callback\":null,\"data\":{\"_contig\":[\"5\",\"15\",\"15\",\"5\",\"5\",\"5\",\"15\",\"5\",\"5\",\"5\",\"15\",\"5\",\"7\",\"5\",\"15\",\"5\",\"5\",\"2\",\"2\",\"5\",\"5\",\"5\",\"15\",\"4\",\"2\",\"5\",\"5\",\"5\",\"5\",\"7\",\"5\",\"15\",\"5\",\"2\",\"15\",\"5\",\"15\",\"5\",\"5\",\"5\",\"15\",\"15\",\"7\",\"2\",\"2\",\"5\",\"5\",\"2\",\"5\",\"4\",\"7\",\"5\",\"2\",\"2\",\"5\",\"5\",\"5\",\"5\",\"7\",\"2\",\"2\",\"15\",\"5\",\"5\",\"5\",\"15\",\"4\",\"5\",\"4\",\"7\",\"5\",\"5\",\"15\",\"5\",\"5\",\"2\",\"7\",\"4\",\"5\",\"5\",\"2\",\"2\",\"5\",\"7\",\"5\",\"5\",\"2\",\"5\",\"5\",\"7\",\"5\",\"5\",\"5\",\"15\",\"15\",\"4\",\"2\",\"7\",\"2\",\"4\",\"5\",\"5\",\"5\",\"5\",\"5\",\"2\",\"2\",\"7\",\"5\",\"5\",\"7\",\"5\",\"2\",\"2\",\"5\",\"5\",\"15\",\"5\",\"15\",\"5\",\"15\",\"5\",\"15\",\"7\",\"5\",\"15\",\"15\",\"5\",\"5\",\"5\",\"2\",\"7\",\"5\",\"2\",\"15\",\"7\",\"15\",\"5\",\"5\",\"15\",\"5\",\"5\",\"5\",\"7\",\"5\",\"5\",\"7\",\"5\",\"5\",\"7\",\"5\",\"2\",\"2\",\"5\",\"5\",\"15\",\"2\",\"5\",\"15\",\"5\",\"15\",\"4\",\"4\",\"15\",\"5\",\"5\",\"5\",\"5\",\"5\",\"2\",\"15\",\"4\",\"15\",\"5\",\"15\",\"7\",\"15\",\"2\",\"15\",\"2\",\"5\",\"5\",\"5\",\"5\",\"5\",\"2\",\"5\",\"5\",\"5\",\"7\",\"5\",\"5\",\"5\",\"15\",\"2\",\"2\",\"7\",\"2\",\"5\",\"5\",\"2\",\"15\",\"2\",\"5\",\"5\",\"4\",\"5\",\"5\",\"7\",\"5\",\"5\",\"5\",\"4\",\"4\",\"5\",\"5\",\"4\",\"5\",\"7\",\"5\",\"5\",\"2\",\"5\",\"7\",\"15\",\"5\",\"5\",\"15\",\"5\",\"15\",\"5\",\"7\",\"5\",\"5\",\"15\",\"2\",\"4\",\"4\",\"5\",\"5\",\"15\",\"7\",\"4\",\"2\",\"7\",\"5\",\"5\",\"7\",\"5\",\"5\",\"5\",\"5\",\"5\",\"5\",\"15\",\"5\",\"5\",\"15\",\"5\",\"5\",\"5\",\"5\",\"5\",\"15\",\"15\",\"5\",\"5\",\"5\",\"15\",\"5\",\"5\",\"5\",\"7\",\"5\",\"2\",\"5\",\"5\",\"5\",\"2\",\"5\",\"5\",\"5\",\"5\",\"7\",\"5\",\"15\",\"2\",\"5\",\"7\",\"5\"],\"_global_locus\":{\"__ndarray__\":\"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\",\"dtype\":\"float64\",\"shape\":[290]},\"_pval\":{\"__ndarray__\":\"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\",\"dtype\":\"float64\",\"shape\":[290]},\"index\":[0,1,2,3,4,5,6,7,8,9,10,11,12,13,14,15,16,17,18,19,20,21,22,23,24,25,26,27,28,29,30,31,32,33,34,35,36,37,38,39,40,41,42,43,44,45,46,47,48,49,50,51,52,53,54,55,56,57,58,59,60,61,62,63,64,65,66,67,68,69,70,71,72,73,74,75,76,77,78,79,80,81,82,83,84,85,86,87,88,89,90,91,92,93,94,95,96,97,98,99,100,101,102,103,104,105,106,107,108,109,110,111,112,113,114,115,116,117,118,119,120,121,122,123,124,125,126,127,128,129,130,131,132,133,134,135,136,137,138,139,140,141,142,143,144,145,146,147,148,149,150,151,152,153,154,155,156,157,158,159,160,161,162,163,164,165,166,167,168,169,170,171,172,173,174,175,176,177,178,179,180,181,182,183,184,185,186,187,188,189,190,191,192,193,194,195,196,197,198,199,200,201,202,203,204,205,206,207,208,209,210,211,212,213,214,215,216,217,218,219,220,221,222,223,224,225,226,227,228,229,230,231,232,233,234,235,236,237,238,239,240,241,242,243,244,245,246,247,248,249,250,251,252,253,254,255,256,257,258,259,260,261,262,263,264,265,266,267,268,269,270,271,272,273,274,275,276,277,278,279,280,281,282,283,284,285,286,287,288,289],\"locus\":[\"5:126685374\",\"15:66400165\",\"15:66387527\",\"5:126683883\",\"5:126756659\",\"5:126645650\",\"15:66350261\",\"5:126655361\",\"5:126789986\",\"5:126645705\",\"15:75027880\",\"5:126693265\",\"7:17283561\",\"5:126639801\",\"15:75029906\",\"5:126628098\",\"5:126787388\",\"2:109515462\",\"2:109514747\",\"5:126756161\",\"5:126648201\",\"5:126777362\",\"15:66330108\",\"4:54512721\",\"2:109514985\",\"5:126751728\",\"5:126769874\",\"5:126659892\",\"5:126636211\",\"7:17286770\",\"5:126656324\",\"15:75028348\",\"5:126626645\",\"2:109512428\",\"15:75029407\",\"5:126639097\",\"15:66438961\",\"5:126710915\",\"5:126798856\",\"5:126773064\",\"15:66400117\",\"15:66271772\",\"7:113991207\",\"2:223033196\",\"2:223033006\",\"5:126654970\",\"5:126689489\",\"2:223035136\",\"5:126693280\",\"4:54513330\",\"7:113989182\",\"5:126661774\",\"2:109511765\",\"2:223034660\",\"5:126630016\",\"5:126795246\",\"5:126675068\",\"5:126629170\",\"7:17285913\",\"2:223034082\",\"2:109514105\",\"15:66524808\",\"5:126694437\",\"5:126715759\",\"5:126785305\",\"15:75026149\",\"4:54513953\",\"5:126698023\",\"4:54514026\",\"7:17286087\",\"5:126639591\",\"5:126798504\",\"15:66327924\",\"5:126682354\",\"5:126637782\",\"2:223034144\",\"7:17284989\",\"4:54510874\",\"5:126658500\",\"5:126652710\",\"2:109514464\",\"2:109514056\",\"5:126664039\",\"7:113991440\",\"5:126688400\",\"5:126668683\",\"2:223034162\",\"5:126731876\",\"5:126725054\",\"7:17283259\",\"5:126627875\",\"5:126744956\",\"5:126729450\",\"15:66326983\",\"15:66373705\",\"4:54514027\",\"2:223034770\",\"7:17284577\",\"2:109511997\",\"4:54513819\",\"5:126797292\",\"5:126698070\",\"5:126683590\",\"5:126748373\",\"5:126791415\",\"2:223036139\",\"2:223036258\",\"7:17286817\",\"5:126793367\",\"5:126639135\",\"7:113987281\",\"5:126653607\",\"2:109513601\",\"2:223035313\",\"5:126687687\",\"5:126630948\",\"15:66344358\",\"5:126689935\",\"15:75028490\",\"5:126662114\",\"15:66428121\",\"5:126655730\",\"15:66475264\",\"7:17284085\",\"5:126727008\",\"15:66480035\",\"15:66388878\",\"5:126652742\",\"5:126675780\",\"5:126782325\",\"2:223034224\",\"7:113990885\",\"5:126767961\",\"2:223034758\",\"15:66502442\",\"7:17282872\",\"15:66326736\",\"5:126656998\",\"5:126652407\",\"15:75026627\",\"5:126715151\",\"5:126780212\",\"5:126644632\",\"7:113990996\",\"5:126796576\",\"5:126639269\",\"7:17285867\",\"5:126672710\",\"5:126753565\",\"7:17283523\",\"5:126756273\",\"2:109513531\",\"2:223035940\",\"5:126635083\",\"5:126667551\",\"15:66540097\",\"2:223031835\",\"5:126669209\",\"15:75029998\",\"5:126635437\",\"15:66269504\",\"4:54513653\",\"4:54511711\",\"15:75025988\",\"5:126798783\",\"5:126726851\",\"5:126735334\",\"5:126798558\",\"5:126644681\",\"2:223031933\",\"15:75027895\",\"4:54509759\",\"15:66380254\",\"5:126664981\",\"15:66353695\",\"7:113988537\",\"15:75029683\",\"2:223036224\",\"15:66272893\",\"2:109512364\",\"5:126644769\",\"5:126626044\",\"5:126660301\",\"5:126647941\",\"5:126634444\",\"2:109513654\",\"5:126778245\",\"5:126796531\",\"5:126787286\",\"7:17284687\",\"5:126633436\",\"5:126645738\",\"5:126667746\",\"15:66340274\",\"2:223035719\",\"2:223032504\",\"7:113990352\",\"2:223036256\",\"5:126679402\",\"5:126698345\",\"2:223034476\",\"15:66516106\",\"2:109515506\",\"5:126640246\",\"5:126726847\",\"4:54513660\",\"5:126773180\",\"5:126661380\",\"7:17286565\",\"5:126739085\",\"5:126669004\",\"5:126798071\",\"4:54510360\",\"4:54509910\",\"5:126733924\",\"5:126661519\",\"4:54513107\",\"5:126796585\",\"7:17282684\",\"5:126654623\",\"5:126775113\",\"2:223033978\",\"5:126723562\",\"7:17286708\",\"15:66312149\",\"5:126697604\",\"5:126645646\",\"15:75028765\",\"5:126683809\",\"15:66271429\",\"5:126674613\",\"7:113989096\",\"5:126631841\",\"5:126683416\",\"15:66475318\",\"2:223033725\",\"4:54514122\",\"4:54512752\",\"5:126798031\",\"5:126687822\",\"15:66319662\",\"7:17286050\",\"4:54511913\",\"2:223035211\",\"7:113989578\",\"5:126686756\",\"5:126657217\",\"7:17282974\",\"5:126653950\",\"5:126731259\",\"5:126630875\",\"5:126794160\",\"5:126650182\",\"5:126635667\",\"15:75029472\",\"5:126797404\",\"5:126678028\",\"15:66327646\",\"5:126694523\",\"5:126699347\",\"5:126697755\",\"5:126735430\",\"5:126654062\",\"15:66359634\",\"15:66527971\",\"5:126797293\",\"5:126793219\",\"5:126682039\",\"15:66495122\",\"5:126794256\",\"5:126656500\",\"5:126679697\",\"7:17285330\",\"5:126792974\",\"2:223033396\",\"5:126757248\",\"5:126625548\",\"5:126725568\",\"2:109515567\",\"5:126661600\",\"5:126633827\",\"5:126639025\",\"5:126633958\",\"7:113991250\",\"5:126757219\",\"15:75029399\",\"2:223035359\",\"5:126657432\",\"7:17282507\",\"5:126655749\"],\"p_value\":{\"__ndarray__\":\"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\",\"dtype\":\"float64\",\"shape\":[290]},\"rs\":[\"rs550745558\",\"rs7173121\",\"rs4776725\",\"rs27652\",\"rs377341077\",\"rs78802780\",\"rs138264234\",\"rs73785580\",\"rs76912327\",\"rs201053818\",\"rs2472297\",\"rs246892\",\"rs568478767\",\"rs2431724\",\"rs148040319\",\"rs2194079\",\"rs79067810\",\"rs561059807\",\"rs4676218\",\"rs74823398\",\"rs1422317\",\"rs59745564\",\"rs28551784\",\"rs73250977\",\"rs11689836\",\"rs6595770\",\"rs10078629\",\"rs34208116\",\"rs2546809\",\"rs112089609\",\"rs3050850\",\"rs185406833\",\"rs2032834\",\"rs3749096\",\"rs8029744\",\"rs2546807\",\"rs35259179\",\"rs34537147\",\"rs73348777\",\"rs6859304\",\"rs1993832\",\"rs428658\",\"rs192442536\",\"rs13411329\",\"rs529478087\",\"rs246885\",\"rs26946\",\"rs184491207\",\"rs144085293\",\"rs549132755\",\"rs147142788\",\"rs31470\",\"rs10865025\",\"rs985473\",\"rs1422313\",\"rs3756722\",\"rs17673170\",\"rs12519784\",\"rs564492299\",\"rs2218065\",\"rs6542783\",\"rs62009959\",\"rs26947\",\"rs113091845\",\"rs41298318\",\"rs17861118\",\"rs190387778\",\"rs35156178\",\"rs79162003\",\"rs79694830\",\"rs2431496\",\"rs577362738\",\"rs333592\",\"rs246894\",\"rs57623356\",\"rs116514046\",\"rs10277582\",\"rs6816209\",\"rs152122\",\"rs246945\",\"rs940928\",\"rs2169812\",\"rs36307\",\"rs529657511\",\"rs72788505\",\"rs2546078\",\"rs73990988\",\"rs2059084\",\"rs10041484\",\"rs145880637\",\"rs4836316\",\"rs56320297\",\"rs143954261\",\"rs56267112\",\"rs75393657\",\"rs183240578\",\"rs201276449\",\"rs4410790\",\"rs187951842\",\"rs6858782\",\"rs4836323\",\"rs77198001\",\"rs72786494\",\"rs202213903\",\"rs536696373\",\"rs563333963\",\"rs551240079\",\"rs532738234\",\"rs78940206\",\"rs2546808\",\"rs1527146\",\"rs138731838\",\"rs3827760\",\"rs66885466\",\"rs43148\",\"rs2059083\",\"rs2552182\",\"rs55918025\",\"rs11072500\",\"rs26945\",\"rs75427642\",\"rs246886\",\"rs8030058\",\"rs6943079\",\"rs1019482\",\"rs3082857\",\"rs2414895\",\"rs246946\",\"rs78120546\",\"rs10072587\",\"rs78277770\",\"rs183045236\",\"rs6866678\",\"rs71050391\",\"rs185446339\",\"rs79710531\",\"rs58298192\",\"rs246888\",\"rs246944\",\"rs11631784\",\"rs79713470\",\"rs12516897\",\"rs72786459\",\"rs79307074\",\"rs139305981\",\"rs56084567\",\"rs10281571\",\"rs77589749\",\"rs539466377\",\"rs112056574\",\"rs11956397\",\"rs115930248\",\"rs11690945\",\"rs2018571\",\"rs27562\",\"rs111463682\",\"rs114946697\",\"rs145619126\",\"rs76354137\",\"rs35796097\",\"rs372969314\",\"rs539249144;rs200448899\",\"rs2668551\",\"rs4886605\",\"rs17444885\",\"rs1318923\",\"rs10519939\",\"rs17164922\",\"rs2254762\",\"rs115498426\",\"rs141323436\",\"rs6818959\",\"rs1600053\",\"rs27749\",\"rs1871004\",\"rs2690826\",\"rs548198773\",\"esv3594421\",\"rs449841\",\"rs10206737\",\"rs1422315\",\"rs1363387\",\"rs31472\",\"rs1422316\",\"rs2194080\",\"rs12623957\",\"rs73348744\",\"rs35236935\",\"rs17164941\",\"rs77000981\",\"rs970546\",\"rs13153845\",\"rs111923517\",\"rs333606\",\"rs112832858\",\"rs36054640\",\"rs2049604\",\"rs79922615\",\"rs246897\",\"rs35526\",\"rs10194919\",\"rs4578594\",\"rs13009728\",\"rs1816059\",\"rs2008432\",\"rs17663341\",\"rs6859181\",\"rs31471\",\"rs529079397\",\"rs6877254\",\"rs26944\",\"rs191720024\",\"rs149974830\",\"rs139265415\",\"rs78811203\",\"rs10550881\",\"rs77894545\",\"rs2898043\",\"rs561704396\",\"rs2439927\",\"rs34451603\",\"rs2196751\",\"rs9327438\",\"rs571979050\",\"rs333610\",\"rs72788513\",\"rs2546805\",\"rs141944648\",\"rs27388\",\"rs368614\",\"rs27782\",\"rs142814786\",\"rs2585200\",\"rs187514\",\"rs115146412\",\"rs558223447\",\"rs75893784\",\"rs2590773\",\"rs17164923\",\"rs36308\",\"rs28648385\",\"rs185214789\",\"rs4864809\",\"rs5838931\",\"rs2690827\",\"rs185030\",\"rs152121\",\"rs17137451\",\"rs246948\",\"rs13171067\",\"rs146140674\",\"rs75528418\",\"rs1345663\",\"rs1345662\",\"rs76255041\",\"rs4836324\",\"rs17839696\",\"rs333591\",\"rs27563\",\"rs35525\",\"rs78259230\",\"rs251031\",\"rs185032\",\"rs114776522\",\"rs1531496\",\"rs188714805\",\"rs10793809\",\"rs246895\",\"rs11852601\",\"rs17164925\",\"rs152120\",\"rs246896\",\"rs571824498\",\"rs3812052\",\"rs11895863\",\"rs530919718\",\"rs2408868\",\"rs4401615\",\"rs76935644\",\"rs33930493\",\"rs2585197\",\"rs2546079\",\"rs2585196\",\"rs184002280\",\"rs565314307\",\"rs8030076\",\"rs13431945\",\"rs246889\",\"rs62444547\",\"rs246887\"]},\"selected\":{\"id\":\"1084\",\"type\":\"Selection\"},\"selection_policy\":{\"id\":\"1085\",\"type\":\"UnionRenderers\"}},\"id\":\"1038\",\"type\":\"ColumnDataSource\"},{\"attributes\":{\"fill_alpha\":{\"value\":0.1},\"fill_color\":{\"value\":\"#1f77b4\"},\"line_alpha\":{\"value\":0.1},\"line_color\":{\"value\":\"#1f77b4\"},\"x\":{\"field\":\"_global_locus\"},\"y\":{\"field\":\"_pval\"}},\"id\":\"1067\",\"type\":\"Circle\"},{\"attributes\":{\"fill_color\":{\"field\":\"_contig\",\"transform\":{\"id\":\"1002\",\"type\":\"CategoricalColorMapper\"}},\"line_color\":{\"field\":\"_contig\",\"transform\":{\"id\":\"1002\",\"type\":\"CategoricalColorMapper\"}},\"x\":{\"field\":\"_global_locus\"},\"y\":{\"field\":\"_pval\"}},\"id\":\"1060\",\"type\":\"Circle\"},{\"attributes\":{},\"id\":\"1084\",\"type\":\"Selection\"},{\"attributes\":{\"ticks\":[370850306,786049561,972084329,1313226357,2358551414]},\"id\":\"1076\",\"type\":\"FixedTicker\"},{\"attributes\":{\"data_source\":{\"id\":\"1038\",\"type\":\"ColumnDataSource\"},\"glyph\":{\"id\":\"1066\",\"type\":\"Circle\"},\"hover_glyph\":null,\"muted_glyph\":null,\"nonselection_glyph\":{\"id\":\"1067\",\"type\":\"Circle\"},\"selection_glyph\":null,\"view\":{\"id\":\"1064\",\"type\":\"CDSView\"}},\"id\":\"1068\",\"type\":\"GlyphRenderer\"},{\"attributes\":{\"filters\":[{\"id\":\"1039\",\"type\":\"GroupFilter\"}],\"source\":{\"id\":\"1038\",\"type\":\"ColumnDataSource\"}},\"id\":\"1040\",\"type\":\"CDSView\"},{\"attributes\":{\"data_source\":{\"id\":\"1038\",\"type\":\"ColumnDataSource\"},\"glyph\":{\"id\":\"1060\",\"type\":\"Circle\"},\"hover_glyph\":null,\"muted_glyph\":null,\"nonselection_glyph\":{\"id\":\"1061\",\"type\":\"Circle\"},\"selection_glyph\":null,\"view\":{\"id\":\"1058\",\"type\":\"CDSView\"}},\"id\":\"1062\",\"type\":\"GlyphRenderer\"},{\"attributes\":{\"label\":{\"value\":\"4\"},\"renderers\":[{\"id\":\"1056\",\"type\":\"GlyphRenderer\"}]},\"id\":\"1071\",\"type\":\"LegendItem\"},{\"attributes\":{\"ticker\":{\"id\":\"1014\",\"type\":\"BasicTicker\"}},\"id\":\"1017\",\"type\":\"Grid\"},{\"attributes\":{},\"id\":\"1019\",\"type\":\"BasicTicker\"},{\"attributes\":{\"fill_alpha\":{\"value\":0.1},\"fill_color\":{\"value\":\"#1f77b4\"},\"line_alpha\":{\"value\":0.1},\"line_color\":{\"value\":\"#1f77b4\"},\"x\":{\"field\":\"_global_locus\"},\"y\":{\"field\":\"_pval\"}},\"id\":\"1043\",\"type\":\"Circle\"},{\"attributes\":{\"fill_color\":{\"field\":\"_contig\",\"transform\":{\"id\":\"1002\",\"type\":\"CategoricalColorMapper\"}},\"line_color\":{\"field\":\"_contig\",\"transform\":{\"id\":\"1002\",\"type\":\"CategoricalColorMapper\"}},\"x\":{\"field\":\"_global_locus\"},\"y\":{\"field\":\"_pval\"}},\"id\":\"1054\",\"type\":\"Circle\"},{\"attributes\":{\"fill_color\":{\"field\":\"_contig\",\"transform\":{\"id\":\"1002\",\"type\":\"CategoricalColorMapper\"}},\"line_color\":{\"field\":\"_contig\",\"transform\":{\"id\":\"1002\",\"type\":\"CategoricalColorMapper\"}},\"x\":{\"field\":\"_global_locus\"},\"y\":{\"field\":\"_pval\"}},\"id\":\"1066\",\"type\":\"Circle\"},{\"attributes\":{\"callback\":null,\"tooltips\":[[\"locus\",\"@locus\"],[\"rs\",\"@rs\"],[\"p_value\",\"@p_value\"]]},\"id\":\"1037\",\"type\":\"HoverTool\"},{\"attributes\":{\"label\":{\"value\":\"15\"},\"renderers\":[{\"id\":\"1044\",\"type\":\"GlyphRenderer\"}]},\"id\":\"1069\",\"type\":\"LegendItem\"},{\"attributes\":{\"axis_label\":\"Chromosome\",\"formatter\":{\"id\":\"1083\",\"type\":\"BasicTickFormatter\"},\"major_label_overrides\":{\"1313226357\":\"7\",\"2358551414\":\"15\",\"370850306\":\"2\",\"786049561\":\"4\",\"972084329\":\"5\"},\"ticker\":{\"id\":\"1076\",\"type\":\"FixedTicker\"}},\"id\":\"1013\",\"type\":\"LinearAxis\"},{\"attributes\":{\"fill_alpha\":{\"value\":0.1},\"fill_color\":{\"value\":\"#1f77b4\"},\"line_alpha\":{\"value\":0.1},\"line_color\":{\"value\":\"#1f77b4\"},\"x\":{\"field\":\"_global_locus\"},\"y\":{\"field\":\"_pval\"}},\"id\":\"1061\",\"type\":\"Circle\"},{\"attributes\":{\"label\":{\"value\":\"2\"},\"renderers\":[{\"id\":\"1050\",\"type\":\"GlyphRenderer\"}]},\"id\":\"1070\",\"type\":\"LegendItem\"},{\"attributes\":{\"column_name\":\"_contig\",\"group\":\"5\"},\"id\":\"1057\",\"type\":\"GroupFilter\"}],\"root_ids\":[\"1003\"]},\"title\":\"Bokeh Application\",\"version\":\"1.2.0\"}};\n",
       "  var render_items = [{\"docid\":\"cb6eba06-3693-49ce-8368-a9161edb40b2\",\"roots\":{\"1003\":\"fffadc52-f31a-4adb-9d17-59e17d2794f9\"}}];\n",
       "  root.Bokeh.embed.embed_items_notebook(docs_json, render_items);\n",
       "\n",
       "  }\n",
       "  if (root.Bokeh !== undefined) {\n",
       "    embed_document(root);\n",
       "  } else {\n",
       "    var attempts = 0;\n",
       "    var timer = setInterval(function(root) {\n",
       "      if (root.Bokeh !== undefined) {\n",
       "        embed_document(root);\n",
       "        clearInterval(timer);\n",
       "      }\n",
       "      attempts++;\n",
       "      if (attempts > 100) {\n",
       "        console.log(\"Bokeh: ERROR: Unable to run BokehJS code because BokehJS library is missing\");\n",
       "        clearInterval(timer);\n",
       "      }\n",
       "    }, 10, root)\n",
       "  }\n",
       "})(window);"
      ],
      "application/vnd.bokehjs_exec.v0+json": ""
     },
     "metadata": {
      "application/vnd.bokehjs_exec.v0+json": {
       "id": "1003"
      }
     },
     "output_type": "display_data"
    }
   ],
   "source": [
    "p = hl.plot.manhattan(gwas.p_value, hover_fields=dict(rs=gwas.rsid))\n",
    "show(p)"
   ]
  },
  {
   "cell_type": "markdown",
   "metadata": {},
   "source": [
    "_Fig 1: Manhattan plot for logistic regression p-values._"
   ]
  },
  {
   "cell_type": "markdown",
   "metadata": {},
   "source": [
    "## Build random forest and extract gini importanct with VaiantSpark (on the same data)"
   ]
  },
  {
   "cell_type": "code",
   "execution_count": 12,
   "metadata": {},
   "outputs": [],
   "source": [
    "import varspark.hail as vshl"
   ]
  },
  {
   "cell_type": "code",
   "execution_count": 13,
   "metadata": {},
   "outputs": [],
   "source": [
    "rf_model = vshl.random_forest_model(y=mt.hipster.label,\n",
    "                    x=mt.GT.n_alt_alleles())\n",
    "rf_model.fit_trees(500, 100)"
   ]
  },
  {
   "cell_type": "code",
   "execution_count": 14,
   "metadata": {},
   "outputs": [
    {
     "name": "stdout",
     "output_type": "stream",
     "text": [
      "0.1920926517571885\n"
     ]
    },
    {
     "name": "stderr",
     "output_type": "stream",
     "text": [
      "2019-07-26 10:40:48 Hail: INFO: Coerced sorted dataset\n"
     ]
    },
    {
     "data": {
      "text/html": [
       "<table><thead style=\"font-weight: bold;\"><tr><td>locus</td><td>alleles</td><td>importance</td></tr>\n",
       "<tr><td>locus&lt;GRCh37&gt;</td><td>array&lt;str&gt;</td><td>float64</td></tr>\n",
       "</thead><tbody><tr><td>2:109511398</td><td>[&quot;G&quot;,&quot;A&quot;]</td><td>2.79e-04</td></tr>\n",
       "<tr><td>2:109511454</td><td>[&quot;C&quot;,&quot;A&quot;]</td><td>5.89e-03</td></tr>\n",
       "<tr><td>2:109511463</td><td>[&quot;G&quot;,&quot;A&quot;]</td><td>9.54e-02</td></tr>\n",
       "</tbody></table><p>showing top 3 rows</p>\n"
      ],
      "text/plain": [
       "+---------------+------------+------------+\n",
       "| locus         | alleles    | importance |\n",
       "+---------------+------------+------------+\n",
       "| locus<GRCh37> | array<str> |    float64 |\n",
       "+---------------+------------+------------+\n",
       "| 2:109511398   | [\"G\",\"A\"]  |   2.79e-04 |\n",
       "| 2:109511454   | [\"C\",\"A\"]  |   5.89e-03 |\n",
       "| 2:109511463   | [\"G\",\"A\"]  |   9.54e-02 |\n",
       "+---------------+------------+------------+\n",
       "showing top 3 rows"
      ]
     },
     "metadata": {},
     "output_type": "display_data"
    }
   ],
   "source": [
    "print(rf_model.oob_error())\n",
    "impTable = rf_model.variable_importance()\n",
    "impTable.show(3)"
   ]
  },
  {
   "cell_type": "markdown",
   "metadata": {},
   "source": [
    "Join hail and VariantSpark results (this is only needed here to get the RSID's)"
   ]
  },
  {
   "cell_type": "code",
   "execution_count": 15,
   "metadata": {},
   "outputs": [],
   "source": [
    "gwas_with_imp = gwas.join(impTable)"
   ]
  },
  {
   "cell_type": "code",
   "execution_count": 16,
   "metadata": {},
   "outputs": [
    {
     "data": {
      "text/html": [
       "\n",
       "\n",
       "\n",
       "\n",
       "\n",
       "\n",
       "  <div class=\"bk-root\" id=\"f4343537-2e81-4da6-906c-b2c29cbaab87\" data-root-id=\"1161\"></div>\n"
      ]
     },
     "metadata": {},
     "output_type": "display_data"
    },
    {
     "data": {
      "application/javascript": [
       "(function(root) {\n",
       "  function embed_document(root) {\n",
       "    \n",
       "  var docs_json = {\"e8f615f5-f05b-4897-ab78-f7ce161705a3\":{\"roots\":{\"references\":[{\"attributes\":{\"below\":[{\"id\":\"1171\",\"type\":\"LinearAxis\"}],\"center\":[{\"id\":\"1175\",\"type\":\"Grid\"},{\"id\":\"1180\",\"type\":\"Grid\"}],\"left\":[{\"id\":\"1176\",\"type\":\"LinearAxis\"},{\"id\":\"1232\",\"type\":\"Legend\"},{\"id\":\"1233\",\"type\":\"ColorBar\"}],\"plot_width\":1000,\"renderers\":[{\"id\":\"1202\",\"type\":\"GlyphRenderer\"},{\"id\":\"1208\",\"type\":\"GlyphRenderer\"},{\"id\":\"1214\",\"type\":\"GlyphRenderer\"},{\"id\":\"1220\",\"type\":\"GlyphRenderer\"},{\"id\":\"1226\",\"type\":\"GlyphRenderer\"}],\"title\":null,\"toolbar\":{\"id\":\"1187\",\"type\":\"Toolbar\"},\"x_range\":{\"id\":\"1163\",\"type\":\"DataRange1d\"},\"x_scale\":{\"id\":\"1167\",\"type\":\"LinearScale\"},\"y_range\":{\"id\":\"1165\",\"type\":\"DataRange1d\"},\"y_scale\":{\"id\":\"1169\",\"type\":\"LinearScale\"}},\"id\":\"1161\",\"subtype\":\"Figure\",\"type\":\"Plot\"},{\"attributes\":{\"fill_color\":{\"field\":\"_contig\",\"transform\":{\"id\":\"1160\",\"type\":\"CategoricalColorMapper\"}},\"line_color\":{\"field\":\"_contig\",\"transform\":{\"id\":\"1160\",\"type\":\"CategoricalColorMapper\"}},\"x\":{\"field\":\"_global_locus\"},\"y\":{\"field\":\"_pval\"}},\"id\":\"1206\",\"type\":\"Circle\"},{\"attributes\":{},\"id\":\"1242\",\"type\":\"Selection\"},{\"attributes\":{\"label\":{\"value\":\"5\"},\"renderers\":[{\"id\":\"1220\",\"type\":\"GlyphRenderer\"}]},\"id\":\"1230\",\"type\":\"LegendItem\"},{\"attributes\":{\"fill_alpha\":{\"value\":0.1},\"fill_color\":{\"value\":\"#1f77b4\"},\"line_alpha\":{\"value\":0.1},\"line_color\":{\"value\":\"#1f77b4\"},\"x\":{\"field\":\"_global_locus\"},\"y\":{\"field\":\"_pval\"}},\"id\":\"1213\",\"type\":\"Circle\"},{\"attributes\":{\"filters\":[{\"id\":\"1197\",\"type\":\"GroupFilter\"}],\"source\":{\"id\":\"1196\",\"type\":\"ColumnDataSource\"}},\"id\":\"1198\",\"type\":\"CDSView\"},{\"attributes\":{},\"id\":\"1185\",\"type\":\"ResetTool\"},{\"attributes\":{\"label\":{\"value\":\"15\"},\"renderers\":[{\"id\":\"1202\",\"type\":\"GlyphRenderer\"}]},\"id\":\"1227\",\"type\":\"LegendItem\"},{\"attributes\":{},\"id\":\"1186\",\"type\":\"HelpTool\"},{\"attributes\":{\"column_name\":\"_contig\",\"group\":\"4\"},\"id\":\"1209\",\"type\":\"GroupFilter\"},{\"attributes\":{\"fill_alpha\":{\"value\":0.1},\"fill_color\":{\"value\":\"#1f77b4\"},\"line_alpha\":{\"value\":0.1},\"line_color\":{\"value\":\"#1f77b4\"},\"x\":{\"field\":\"_global_locus\"},\"y\":{\"field\":\"_pval\"}},\"id\":\"1201\",\"type\":\"Circle\"},{\"attributes\":{},\"id\":\"1177\",\"type\":\"BasicTicker\"},{\"attributes\":{},\"id\":\"1241\",\"type\":\"BasicTickFormatter\"},{\"attributes\":{},\"id\":\"1169\",\"type\":\"LinearScale\"},{\"attributes\":{\"data_source\":{\"id\":\"1196\",\"type\":\"ColumnDataSource\"},\"glyph\":{\"id\":\"1206\",\"type\":\"Circle\"},\"hover_glyph\":null,\"muted_glyph\":null,\"nonselection_glyph\":{\"id\":\"1207\",\"type\":\"Circle\"},\"selection_glyph\":null,\"view\":{\"id\":\"1204\",\"type\":\"CDSView\"}},\"id\":\"1208\",\"type\":\"GlyphRenderer\"},{\"attributes\":{\"data_source\":{\"id\":\"1196\",\"type\":\"ColumnDataSource\"},\"glyph\":{\"id\":\"1200\",\"type\":\"Circle\"},\"hover_glyph\":null,\"muted_glyph\":null,\"nonselection_glyph\":{\"id\":\"1201\",\"type\":\"Circle\"},\"selection_glyph\":null,\"view\":{\"id\":\"1198\",\"type\":\"CDSView\"}},\"id\":\"1202\",\"type\":\"GlyphRenderer\"},{\"attributes\":{},\"id\":\"1181\",\"type\":\"PanTool\"},{\"attributes\":{\"fill_color\":{\"field\":\"_contig\",\"transform\":{\"id\":\"1160\",\"type\":\"CategoricalColorMapper\"}},\"line_color\":{\"field\":\"_contig\",\"transform\":{\"id\":\"1160\",\"type\":\"CategoricalColorMapper\"}},\"x\":{\"field\":\"_global_locus\"},\"y\":{\"field\":\"_pval\"}},\"id\":\"1200\",\"type\":\"Circle\"},{\"attributes\":{},\"id\":\"1184\",\"type\":\"SaveTool\"},{\"attributes\":{\"filters\":[{\"id\":\"1221\",\"type\":\"GroupFilter\"}],\"source\":{\"id\":\"1196\",\"type\":\"ColumnDataSource\"}},\"id\":\"1222\",\"type\":\"CDSView\"},{\"attributes\":{\"callback\":null,\"data\":{\"_contig\":[\"5\",\"4\",\"15\",\"4\",\"15\",\"5\",\"5\",\"5\",\"15\",\"2\",\"5\",\"5\",\"5\",\"5\",\"2\",\"5\",\"2\",\"4\",\"2\",\"15\",\"5\",\"5\",\"2\",\"2\",\"5\",\"5\",\"15\",\"4\",\"5\",\"4\",\"5\",\"5\",\"7\",\"5\",\"15\",\"5\",\"15\",\"5\",\"4\",\"2\",\"4\",\"5\",\"5\",\"7\",\"2\",\"2\",\"15\",\"5\",\"5\",\"2\",\"5\",\"4\",\"5\",\"5\",\"4\",\"5\",\"2\",\"7\",\"2\",\"5\",\"7\",\"5\",\"5\",\"2\",\"5\",\"5\",\"5\",\"15\",\"15\",\"2\",\"4\",\"2\",\"2\",\"5\",\"5\",\"5\",\"2\",\"2\",\"7\",\"5\",\"5\",\"2\",\"15\",\"5\",\"2\",\"15\",\"15\",\"7\",\"4\",\"15\",\"15\",\"5\",\"2\",\"5\",\"7\",\"5\",\"15\",\"15\",\"15\",\"7\",\"2\",\"5\",\"7\",\"5\",\"5\",\"5\",\"5\",\"5\",\"7\",\"5\",\"2\",\"15\",\"5\",\"4\",\"4\",\"2\",\"5\",\"5\",\"5\",\"5\",\"5\",\"4\",\"15\",\"15\",\"5\",\"15\",\"2\",\"5\",\"2\",\"5\",\"5\",\"2\",\"5\",\"5\",\"5\",\"5\",\"2\",\"2\",\"2\",\"2\",\"15\",\"2\",\"5\",\"7\",\"5\",\"2\",\"5\",\"4\",\"15\",\"5\",\"7\",\"4\",\"15\",\"5\",\"15\",\"5\",\"5\",\"15\",\"15\",\"2\",\"4\",\"4\",\"5\",\"15\",\"7\",\"7\",\"2\",\"7\",\"5\",\"5\",\"15\",\"5\",\"5\",\"4\",\"5\",\"15\",\"15\",\"5\",\"2\",\"15\",\"7\",\"5\",\"5\",\"5\",\"2\",\"7\",\"2\",\"5\",\"7\",\"15\",\"7\",\"5\",\"5\"],\"_global_locus\":{\"__ndarray__\":\"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\",\"dtype\":\"float64\",\"shape\":[193]},\"_pval\":{\"__ndarray__\":\"yQFi05iaH0AAnoI+A0DhP9Z0n/seitU/M1z/afJc7T9Kh8JPbOzfPyb1OsHFjcc/Jxht2EvH6T9FyPCWXqkBQO7rPm4ZE8U/YZY9BfpMB0CobWrRxdv4P0UqZ6sBCO8/WkvW8Ly0IkCrZyLj4mckQJr7JdH4+xxApiDEyd/6AUDjarMOm2oFQIc6MMkYLO8//N7JdCbN5T+PVkytYt+1P/Mm3LjwdwtAZEuGQ5JM4j/ikT0Sumu4P+CIZ0Ofp5Y/k3bV2KiR0T/W07GhnzQGQFPkYmVtLtc/D444S1Gx5z9j/8C7OxL8P+nNJA6GMBFANlfboXqyDUDtIlBYGzMMQI59ffq6hdU/9YqxybzfBEAaQhrm2ATVP3HyfQgLXANArCl+NggV0z/zYPxhbdroPxLWWxWWuek/U/b+CITRxD9wQrv5jYTCPzXj3LYj6yNAb5vlIE+bCkDlUbOPJ3inP+BkFesSKjNAMROepQuJ1j+Qpsq0uKPcPwfYH12NnARAfo+mcq1K5j+8X9XEMEYbQDf9jCnVhwlAusiY6VMLuz992omfd93/P0RFtU4FxKU/TSrDvHAmzz/uH7+UjMD1Px5S75ng6/Y/Q2ZQX0svxD/WCXPe+SjTP+RsfhrgVh9A34ItaR8suD+3xzqGOfr3PyZ/lpfyrBhAECtE6qBC5z/hgcFbnp0OQJPSXgX6J+4/R6MSAD1GDkAFLjJ41WnSP3XoYzeSOcE/VCT7V4dU4j9epELd0hGrPyzi2FEI6RRAQaZJ20iOzD/gigbvNH/zP8MgeSp0A9Q/KcSBrneH2D+8JFKsOK6qP7y+e/yt1rw/AAAAAAAAAAD1wuBWHTbbP1Dl6lTwhAJAAFxZrf8O4z9bkxVoGwDlPz4l6vyxPvE/+/WRpC5nFkB0fFEtNb/LP+/fgvKAM+I/SK0NXFzD4D/0qzsMkbwKQI1eWc8+IOg/iV7Wqjni4z9lvk8dsQT6P0TMV3jv59E/23tnDs1eAkDcdlFTfT6nP7e05ubwbwZABqTCHy+AuT+YjvUaCqfPP72RRi0gwek/RPtqdnki7j8zGqUVgSfUP9nraHaeRP0/dRLwV1sh1j9z0ipQTY7eP6jJkCr4JPY/UpUe7VfMEUDNQH94t6v6P7oHMPC6/8w/kxCcvx8h2T+5u9tvvWDaP7pVSi1np8Q/DaD7Ozsr5j/idedUgZn7P8IaKRdqxRNAtwJVej9K3D8XXd5MDAcMQATvarqEuBBAkfkkECzTvT8LAq09wnISQLwwFBxktfM/ljcvQsSk6z/TXgDKpS4SQKbi7MNn2FU/sujWIqba4D8/QMAzjRIPQDu/8z1rbL4/fb/tXLBAgT+/fCdyA7knQEq1TA0AJ+Q/aFTaykXNIUBmx5bw98oAQCK2spdZIuA/N3UgKgIi8D9GI3iOLa3iP7Jx0j+4oyFAnsMcpPGg7D8pZ8J/31fBP8+X9G21DfM/e3a/zoesCEC5nFVLw5HpP4Ukp0NQGeQ/RNXe4edmsT8HtAGlzNILQPE070lNt8U/A+dOq+YE0D9tJ9MGjr8WQAsOx7hCo/A/y/ZDP+7t4z+MPCR+D/PLP2ZUxtigGQhAzUAzzhTzuj8J//S4SCnqP1WfPQ9FAOM/HBY0Qr9L8j9kWU19dBOqP1Uyyk0itvk/LcPvuhpZAUDCD9UNrQHoP2jNx2Y/+Xk/1KFt/rCEyT832bKxIz18P6v6h9tlmt8/mYDXbgZ86D/at/pGGuvaP3UctJP0qPs/p3SRZPDI6T/SavE/sDXjP9mi/Ps2Z+E/gFPUgHXG8j9RW+WhQosAQNxdBArscuI/8NzXc/VE9T9p3uv/yMb0P1oiGupu7PA/R+Bp2C3t4z+9dQgkdGepP4tsLuoAId4/dDZE+fJn4D/+1cabZOkQQMD05qMZJ9A//NpC9RgM6T/6osC1dRTlP84Rgl7CSQpA9bHXXDettD/QR6BdaDEUQO+GWpJzbSFAEIKSPV250D9U+RlJGNoMQJS3gg4gav0/ym6Oyw5O4j8AAAAAAAAAAAAAAAAAAAAA7tO3bwLx/T8=\",\"dtype\":\"float64\",\"shape\":[193]},\"index\":[0,1,2,3,4,5,6,7,8,9,10,11,12,13,14,15,16,17,18,19,20,21,22,23,24,25,26,27,28,29,30,31,32,33,34,35,36,37,38,39,40,41,42,43,44,45,46,47,48,49,50,51,52,53,54,55,56,57,58,59,60,61,62,63,64,65,66,67,68,69,70,71,72,73,74,75,76,77,78,79,80,81,82,83,84,85,86,87,88,89,90,91,92,93,94,95,96,97,98,99,100,101,102,103,104,105,106,107,108,109,110,111,112,113,114,115,116,117,118,119,120,121,122,123,124,125,126,127,128,129,130,131,132,133,134,135,136,137,138,139,140,141,142,143,144,145,146,147,148,149,150,151,152,153,154,155,156,157,158,159,160,161,162,163,164,165,166,167,168,169,170,171,172,173,174,175,176,177,178,179,180,181,182,183,184,185,186,187,188,189,190,191,192],\"locus\":[\"5:126630016\",\"4:54512546\",\"15:66424585\",\"4:54514026\",\"15:75025814\",\"5:126748543\",\"5:126782325\",\"5:126635083\",\"15:66453074\",\"2:223032642\",\"5:126679697\",\"5:126739085\",\"5:126626044\",\"5:126628771\",\"2:223033642\",\"5:126660301\",\"2:223034758\",\"4:54511246\",\"2:109514985\",\"15:75030097\",\"5:126639591\",\"5:126735871\",\"2:109511463\",\"2:109514237\",\"5:126737550\",\"5:126647941\",\"15:66525164\",\"4:54513106\",\"5:126635437\",\"4:54510874\",\"5:126632848\",\"5:126636211\",\"7:17282507\",\"5:126640246\",\"15:75027880\",\"5:126664039\",\"15:75028536\",\"5:126775739\",\"4:54511042\",\"2:223034162\",\"4:54513755\",\"5:126630948\",\"5:126662114\",\"7:17286734\",\"2:223034082\",\"2:109514105\",\"15:66427048\",\"5:126668683\",\"5:126751728\",\"2:223034660\",\"5:126674613\",\"4:54514122\",\"5:126644401\",\"5:126798461\",\"4:54510021\",\"5:126792974\",\"2:223032504\",\"7:113989202\",\"2:109514747\",\"5:126629112\",\"7:113987577\",\"5:126644681\",\"5:126629170\",\"2:223033867\",\"5:126655730\",\"5:126683416\",\"5:126655749\",\"15:66303484\",\"15:66340574\",\"2:109513654\",\"4:54513695\",\"2:223033978\",\"2:109515229\",\"5:126683809\",\"5:126728811\",\"5:126745230\",\"2:223033771\",\"2:223036256\",\"7:17286817\",\"5:126722859\",\"5:126679402\",\"2:109513601\",\"15:66397544\",\"5:126689438\",\"2:223035313\",\"15:66332030\",\"15:66435290\",\"7:17286087\",\"4:54513819\",\"15:66402599\",\"15:75029407\",\"5:126639801\",\"2:223035359\",\"5:126661774\",\"7:113991250\",\"5:126639432\",\"15:66468250\",\"15:75026627\",\"15:66402257\",\"7:17284085\",\"2:109512606\",\"5:126654623\",\"7:113989569\",\"5:126796585\",\"5:126656998\",\"5:126628098\",\"5:126687822\",\"5:126756195\",\"7:17282974\",\"5:126740835\",\"2:109515025\",\"15:66372912\",\"5:126688517\",\"4:54509759\",\"4:54512721\",\"2:223033396\",\"5:126633827\",\"5:126798623\",\"5:126632821\",\"5:126731259\",\"5:126797404\",\"4:54511913\",\"15:75028326\",\"15:66449444\",\"5:126625548\",\"15:75027432\",\"2:223036258\",\"5:126626645\",\"2:109514464\",\"5:126627875\",\"5:126683883\",\"2:109514192\",\"5:126669004\",\"5:126795246\",\"5:126628584\",\"5:126694523\",\"2:223034146\",\"2:223033006\",\"2:223032399\",\"2:223032002\",\"15:66418338\",\"2:109514579\",\"5:126657217\",\"7:17286310\",\"5:126798501\",\"2:223033030\",\"5:126682354\",\"4:54511203\",\"15:75029840\",\"5:126656500\",\"7:17286073\",\"4:54510427\",\"15:66482259\",\"5:126642148\",\"15:75026280\",\"5:126694437\",\"5:126646864\",\"15:75025988\",\"15:66395459\",\"2:223034476\",\"4:54514062\",\"4:54513660\",\"5:126775113\",\"15:66358474\",\"7:17285867\",\"7:113987889\",\"2:223033196\",\"7:113990352\",\"5:126657766\",\"5:126652710\",\"15:75029399\",\"5:126698345\",\"5:126658500\",\"4:54511711\",\"5:126709432\",\"15:66474684\",\"15:66524136\",\"5:126773064\",\"2:223035940\",\"15:66399197\",\"7:113989578\",\"5:126793219\",\"5:126654970\",\"5:126757425\",\"2:223035211\",\"7:17284577\",\"2:109512428\",\"5:126664981\",\"7:17284989\",\"15:75029998\",\"7:113991440\",\"5:126757463\",\"5:126659892\"],\"p_value\":{\"__ndarray__\":\"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\",\"dtype\":\"float64\",\"shape\":[193]},\"ri\":[\"rs1422313\",\"rs77704934\",\"rs79160856\",\"rs79162003\",\"rs12441817\",\"rs60694077\",\"rs10072587\",\"rs2018571\",\"rs61335305\",\"rs986430\",\"rs246896\",\"rs6877254\",\"rs1363387\",\"rs4836317\",\"rs2218064\",\"rs31472\",\"rs71050391\",\"rs2616389\",\"rs11689836\",\"rs142764751\",\"rs2431496\",\"rs17839693\",\"rs200762071\",\"rs116824442\",\"rs12234066\",\"rs1422316\",\"rs72746236\",\"rs2668550\",\"rs35796097\",\"rs6816209\",\"rs2585198\",\"rs2546809\",\"rs62444547\",\"rs1816059\",\"rs2472297\",\"rs36307\",\"rs112697364\",\"rs13190032\",\"rs2590770\",\"rs73990988\",\"rs77629803\",\"rs2059083\",\"rs26945\",\"rs73680638\",\"rs2218065\",\"rs6542783\",\"rs7166955\",\"rs2546078\",\"rs6595770\",\"rs985473\",\"rs27782\",\"rs75893784\",\"rs2546803\",\"rs111867141\",\"rs75718680\",\"rs3812052\",\"rs36054640\",\"rs117717824\",\"rs4676218\",\"rs4836318\",\"rs75704660\",\"rs2254762\",\"rs12519784\",\"rs80199364\",\"rs246886\",\"rs187514\",\"rs246887\",\"rs3931067\",\"rs114611090\",\"rs12623957\",\"rs75912591\",\"rs2196751\",\"rs79444434\",\"rs27388\",\"rs11958435\",\"rs3844184\",\"rs564706049\",\"rs79922615\",\"rs532738234\",\"rs6881894\",\"rs246897\",\"rs3827760\",\"rs2035183\",\"rs1160960\",\"rs66885466\",\"rs184573\",\"rs8023772\",\"rs79694830\",\"rs6858782\",\"rs4776732\",\"rs8029744\",\"rs2431724\",\"rs13431945\",\"rs31470\",\"rs184002280\",\"rs2585195\",\"rs115063665\",\"rs11631784\",\"rs4776731\",\"rs6943079\",\"rs3749097\",\"rs2439927\",\"rs1916976\",\"rs2898043\",\"rs246888\",\"rs2194079\",\"rs36308\",\"rs17673517\",\"rs17137451\",\"rs74381320\",\"rs60288156\",\"rs11634212\",\"rs185033\",\"rs6818959\",\"rs73250977\",\"rs11895863\",\"rs2585197\",\"rs185293501\",\"rs2585199\",\"rs13171067\",\"rs4836324\",\"rs4864809\",\"rs533824820\",\"rs10688234\",\"rs2408868\",\"rs17861121\",\"rs551240079\",\"rs2032834\",\"rs940928\",\"rs4836316\",\"rs27652\",\"rs2378217\",\"rs26944\",\"rs3756722\",\"rs112394041\",\"rs27563\",\"rs16863476\",\"rs529478087\",\"rs986429\",\"rs7607981\",\"rs899086\",\"rs7591765\",\"rs152121\",\"rs111886830\",\"rs150008348\",\"rs16863473\",\"rs246894\",\"rs2590771\",\"rs116979601\",\"rs152120\",\"rs188812273\",\"rs2668552\",\"rs7181353\",\"rs2585192\",\"rs7496533\",\"rs26947\",\"rs2161283\",\"rs4886605\",\"rs575800625\",\"rs10194919\",\"rs559531437\",\"rs17663341\",\"rs34451603\",\"rs8036078\",\"rs10281571\",\"rs2690825\",\"rs13411329\",\"rs2049604\",\"rs559620165\",\"rs246945\",\"rs8030076\",\"rs35526\",\"rs152122\",\"rs2668551\",\"rs35087652\",\"rs76234081\",\"rs2169632\",\"rs6859304\",\"rs11690945\",\"rs4776729\",\"rs2690827\",\"rs10793809\",\"rs246885\",\"rs76824969\",\"rs5838931\",\"rs4410790\",\"rs3749096\",\"rs27749\",\"rs10277582\",\"rs76354137\",\"rs529657511\",\"rs180947454\",\"rs34208116\"]},\"selected\":{\"id\":\"1242\",\"type\":\"Selection\"},\"selection_policy\":{\"id\":\"1243\",\"type\":\"UnionRenderers\"}},\"id\":\"1196\",\"type\":\"ColumnDataSource\"},{\"attributes\":{\"column_name\":\"_contig\",\"group\":\"5\"},\"id\":\"1215\",\"type\":\"GroupFilter\"},{\"attributes\":{\"callback\":null},\"id\":\"1163\",\"type\":\"DataRange1d\"},{\"attributes\":{\"fill_alpha\":{\"value\":0.1},\"fill_color\":{\"value\":\"#1f77b4\"},\"line_alpha\":{\"value\":0.1},\"line_color\":{\"value\":\"#1f77b4\"},\"x\":{\"field\":\"_global_locus\"},\"y\":{\"field\":\"_pval\"}},\"id\":\"1225\",\"type\":\"Circle\"},{\"attributes\":{\"filters\":[{\"id\":\"1215\",\"type\":\"GroupFilter\"}],\"source\":{\"id\":\"1196\",\"type\":\"ColumnDataSource\"}},\"id\":\"1216\",\"type\":\"CDSView\"},{\"attributes\":{\"label\":{\"value\":\"7\"},\"renderers\":[{\"id\":\"1226\",\"type\":\"GlyphRenderer\"}]},\"id\":\"1231\",\"type\":\"LegendItem\"},{\"attributes\":{\"ticker\":{\"id\":\"1172\",\"type\":\"BasicTicker\"}},\"id\":\"1175\",\"type\":\"Grid\"},{\"attributes\":{\"column_name\":\"_contig\",\"group\":\"2\"},\"id\":\"1203\",\"type\":\"GroupFilter\"},{\"attributes\":{\"color_mapper\":null,\"formatter\":{\"id\":\"1239\",\"type\":\"BasicTickFormatter\"},\"ticker\":{\"id\":\"1240\",\"type\":\"BasicTicker\"},\"visible\":false},\"id\":\"1233\",\"type\":\"ColorBar\"},{\"attributes\":{\"overlay\":{\"id\":\"1244\",\"type\":\"BoxAnnotation\"}},\"id\":\"1183\",\"type\":\"BoxZoomTool\"},{\"attributes\":{\"callback\":null},\"id\":\"1165\",\"type\":\"DataRange1d\"},{\"attributes\":{\"data_source\":{\"id\":\"1196\",\"type\":\"ColumnDataSource\"},\"glyph\":{\"id\":\"1212\",\"type\":\"Circle\"},\"hover_glyph\":null,\"muted_glyph\":null,\"nonselection_glyph\":{\"id\":\"1213\",\"type\":\"Circle\"},\"selection_glyph\":null,\"view\":{\"id\":\"1210\",\"type\":\"CDSView\"}},\"id\":\"1214\",\"type\":\"GlyphRenderer\"},{\"attributes\":{\"label\":{\"value\":\"2\"},\"renderers\":[{\"id\":\"1208\",\"type\":\"GlyphRenderer\"}]},\"id\":\"1228\",\"type\":\"LegendItem\"},{\"attributes\":{\"dimension\":1,\"ticker\":{\"id\":\"1177\",\"type\":\"BasicTicker\"}},\"id\":\"1180\",\"type\":\"Grid\"},{\"attributes\":{\"ticks\":[370850306,786049561,972084329,1313226357,2358551414]},\"id\":\"1234\",\"type\":\"FixedTicker\"},{\"attributes\":{\"filters\":[{\"id\":\"1209\",\"type\":\"GroupFilter\"}],\"source\":{\"id\":\"1196\",\"type\":\"ColumnDataSource\"}},\"id\":\"1210\",\"type\":\"CDSView\"},{\"attributes\":{\"fill_alpha\":{\"value\":0.1},\"fill_color\":{\"value\":\"#1f77b4\"},\"line_alpha\":{\"value\":0.1},\"line_color\":{\"value\":\"#1f77b4\"},\"x\":{\"field\":\"_global_locus\"},\"y\":{\"field\":\"_pval\"}},\"id\":\"1219\",\"type\":\"Circle\"},{\"attributes\":{\"axis_label\":\"Importance (gini)\",\"formatter\":{\"id\":\"1237\",\"type\":\"BasicTickFormatter\"},\"ticker\":{\"id\":\"1177\",\"type\":\"BasicTicker\"}},\"id\":\"1176\",\"type\":\"LinearAxis\"},{\"attributes\":{\"column_name\":\"_contig\",\"group\":\"15\"},\"id\":\"1197\",\"type\":\"GroupFilter\"},{\"attributes\":{\"data_source\":{\"id\":\"1196\",\"type\":\"ColumnDataSource\"},\"glyph\":{\"id\":\"1224\",\"type\":\"Circle\"},\"hover_glyph\":null,\"muted_glyph\":null,\"nonselection_glyph\":{\"id\":\"1225\",\"type\":\"Circle\"},\"selection_glyph\":null,\"view\":{\"id\":\"1222\",\"type\":\"CDSView\"}},\"id\":\"1226\",\"type\":\"GlyphRenderer\"},{\"attributes\":{\"axis_label\":\"Chromosome\",\"formatter\":{\"id\":\"1241\",\"type\":\"BasicTickFormatter\"},\"major_label_overrides\":{\"1313226357\":\"7\",\"2358551414\":\"15\",\"370850306\":\"2\",\"786049561\":\"4\",\"972084329\":\"5\"},\"ticker\":{\"id\":\"1234\",\"type\":\"FixedTicker\"}},\"id\":\"1171\",\"type\":\"LinearAxis\"},{\"attributes\":{},\"id\":\"1240\",\"type\":\"BasicTicker\"},{\"attributes\":{},\"id\":\"1182\",\"type\":\"WheelZoomTool\"},{\"attributes\":{\"column_name\":\"_contig\",\"group\":\"7\"},\"id\":\"1221\",\"type\":\"GroupFilter\"},{\"attributes\":{},\"id\":\"1172\",\"type\":\"BasicTicker\"},{\"attributes\":{\"data_source\":{\"id\":\"1196\",\"type\":\"ColumnDataSource\"},\"glyph\":{\"id\":\"1218\",\"type\":\"Circle\"},\"hover_glyph\":null,\"muted_glyph\":null,\"nonselection_glyph\":{\"id\":\"1219\",\"type\":\"Circle\"},\"selection_glyph\":null,\"view\":{\"id\":\"1216\",\"type\":\"CDSView\"}},\"id\":\"1220\",\"type\":\"GlyphRenderer\"},{\"attributes\":{},\"id\":\"1237\",\"type\":\"BasicTickFormatter\"},{\"attributes\":{\"label\":{\"value\":\"4\"},\"renderers\":[{\"id\":\"1214\",\"type\":\"GlyphRenderer\"}]},\"id\":\"1229\",\"type\":\"LegendItem\"},{\"attributes\":{\"filters\":[{\"id\":\"1203\",\"type\":\"GroupFilter\"}],\"source\":{\"id\":\"1196\",\"type\":\"ColumnDataSource\"}},\"id\":\"1204\",\"type\":\"CDSView\"},{\"attributes\":{\"fill_color\":{\"field\":\"_contig\",\"transform\":{\"id\":\"1160\",\"type\":\"CategoricalColorMapper\"}},\"line_color\":{\"field\":\"_contig\",\"transform\":{\"id\":\"1160\",\"type\":\"CategoricalColorMapper\"}},\"x\":{\"field\":\"_global_locus\"},\"y\":{\"field\":\"_pval\"}},\"id\":\"1218\",\"type\":\"Circle\"},{\"attributes\":{\"fill_color\":{\"field\":\"_contig\",\"transform\":{\"id\":\"1160\",\"type\":\"CategoricalColorMapper\"}},\"line_color\":{\"field\":\"_contig\",\"transform\":{\"id\":\"1160\",\"type\":\"CategoricalColorMapper\"}},\"x\":{\"field\":\"_global_locus\"},\"y\":{\"field\":\"_pval\"}},\"id\":\"1224\",\"type\":\"Circle\"},{\"attributes\":{\"factors\":[\"1\",\"2\",\"3\",\"4\",\"5\",\"6\",\"7\",\"8\",\"9\",\"10\",\"11\",\"12\",\"13\",\"14\",\"15\",\"16\",\"17\",\"18\",\"19\",\"20\",\"21\",\"22\",\"X\",\"Y\",\"MT\",\"GL000207.1\",\"GL000226.1\",\"GL000229.1\",\"GL000231.1\",\"GL000210.1\",\"GL000239.1\",\"GL000235.1\",\"GL000201.1\",\"GL000247.1\",\"GL000245.1\",\"GL000197.1\",\"GL000203.1\",\"GL000246.1\",\"GL000249.1\",\"GL000196.1\",\"GL000248.1\",\"GL000244.1\",\"GL000238.1\",\"GL000202.1\",\"GL000234.1\",\"GL000232.1\",\"GL000206.1\",\"GL000240.1\",\"GL000236.1\",\"GL000241.1\",\"GL000243.1\",\"GL000242.1\",\"GL000230.1\",\"GL000237.1\",\"GL000233.1\",\"GL000204.1\",\"GL000198.1\",\"GL000208.1\",\"GL000191.1\",\"GL000227.1\",\"GL000228.1\",\"GL000214.1\",\"GL000221.1\",\"GL000209.1\",\"GL000218.1\",\"GL000220.1\",\"GL000213.1\",\"GL000211.1\",\"GL000199.1\",\"GL000217.1\",\"GL000216.1\",\"GL000215.1\",\"GL000205.1\",\"GL000219.1\",\"GL000224.1\",\"GL000223.1\",\"GL000195.1\",\"GL000212.1\",\"GL000222.1\",\"GL000200.1\",\"GL000193.1\",\"GL000194.1\",\"GL000225.1\",\"GL000192.1\"],\"palette\":[\"#1f77b4\",\"#ff7f0e\",\"#1f77b4\",\"#ff7f0e\",\"#1f77b4\",\"#ff7f0e\",\"#1f77b4\",\"#ff7f0e\",\"#1f77b4\",\"#ff7f0e\",\"#1f77b4\",\"#ff7f0e\",\"#1f77b4\",\"#ff7f0e\",\"#1f77b4\",\"#ff7f0e\",\"#1f77b4\",\"#ff7f0e\",\"#1f77b4\",\"#ff7f0e\",\"#1f77b4\",\"#ff7f0e\",\"#1f77b4\",\"#ff7f0e\",\"#1f77b4\",\"#ff7f0e\",\"#1f77b4\",\"#ff7f0e\",\"#1f77b4\",\"#ff7f0e\",\"#1f77b4\",\"#ff7f0e\",\"#1f77b4\",\"#ff7f0e\",\"#1f77b4\",\"#ff7f0e\",\"#1f77b4\",\"#ff7f0e\",\"#1f77b4\",\"#ff7f0e\",\"#1f77b4\",\"#ff7f0e\",\"#1f77b4\",\"#ff7f0e\",\"#1f77b4\",\"#ff7f0e\",\"#1f77b4\",\"#ff7f0e\",\"#1f77b4\",\"#ff7f0e\",\"#1f77b4\",\"#ff7f0e\",\"#1f77b4\",\"#ff7f0e\",\"#1f77b4\",\"#ff7f0e\",\"#1f77b4\",\"#ff7f0e\",\"#1f77b4\",\"#ff7f0e\",\"#1f77b4\",\"#ff7f0e\",\"#1f77b4\",\"#ff7f0e\",\"#1f77b4\",\"#ff7f0e\",\"#1f77b4\",\"#ff7f0e\",\"#1f77b4\",\"#ff7f0e\",\"#1f77b4\",\"#ff7f0e\",\"#1f77b4\",\"#ff7f0e\",\"#1f77b4\",\"#ff7f0e\",\"#1f77b4\",\"#ff7f0e\",\"#1f77b4\",\"#ff7f0e\",\"#1f77b4\",\"#ff7f0e\",\"#1f77b4\",\"#ff7f0e\"]},\"id\":\"1160\",\"type\":\"CategoricalColorMapper\"},{\"attributes\":{\"fill_color\":{\"field\":\"_contig\",\"transform\":{\"id\":\"1160\",\"type\":\"CategoricalColorMapper\"}},\"line_color\":{\"field\":\"_contig\",\"transform\":{\"id\":\"1160\",\"type\":\"CategoricalColorMapper\"}},\"x\":{\"field\":\"_global_locus\"},\"y\":{\"field\":\"_pval\"}},\"id\":\"1212\",\"type\":\"Circle\"},{\"attributes\":{},\"id\":\"1243\",\"type\":\"UnionRenderers\"},{\"attributes\":{\"callback\":null,\"tooltips\":[[\"locus\",\"@locus\"],[\"ri\",\"@ri\"],[\"p_value\",\"@p_value\"]]},\"id\":\"1195\",\"type\":\"HoverTool\"},{\"attributes\":{\"click_policy\":\"hide\",\"items\":[{\"id\":\"1227\",\"type\":\"LegendItem\"},{\"id\":\"1228\",\"type\":\"LegendItem\"},{\"id\":\"1229\",\"type\":\"LegendItem\"},{\"id\":\"1230\",\"type\":\"LegendItem\"},{\"id\":\"1231\",\"type\":\"LegendItem\"}],\"visible\":false},\"id\":\"1232\",\"type\":\"Legend\"},{\"attributes\":{\"active_drag\":\"auto\",\"active_inspect\":\"auto\",\"active_multi\":null,\"active_scroll\":\"auto\",\"active_tap\":\"auto\",\"tools\":[{\"id\":\"1181\",\"type\":\"PanTool\"},{\"id\":\"1182\",\"type\":\"WheelZoomTool\"},{\"id\":\"1183\",\"type\":\"BoxZoomTool\"},{\"id\":\"1184\",\"type\":\"SaveTool\"},{\"id\":\"1185\",\"type\":\"ResetTool\"},{\"id\":\"1186\",\"type\":\"HelpTool\"},{\"id\":\"1195\",\"type\":\"HoverTool\"}]},\"id\":\"1187\",\"type\":\"Toolbar\"},{\"attributes\":{},\"id\":\"1239\",\"type\":\"BasicTickFormatter\"},{\"attributes\":{},\"id\":\"1167\",\"type\":\"LinearScale\"},{\"attributes\":{\"fill_alpha\":{\"value\":0.1},\"fill_color\":{\"value\":\"#1f77b4\"},\"line_alpha\":{\"value\":0.1},\"line_color\":{\"value\":\"#1f77b4\"},\"x\":{\"field\":\"_global_locus\"},\"y\":{\"field\":\"_pval\"}},\"id\":\"1207\",\"type\":\"Circle\"},{\"attributes\":{\"bottom_units\":\"screen\",\"fill_alpha\":{\"value\":0.5},\"fill_color\":{\"value\":\"lightgrey\"},\"left_units\":\"screen\",\"level\":\"overlay\",\"line_alpha\":{\"value\":1.0},\"line_color\":{\"value\":\"black\"},\"line_dash\":[4,4],\"line_width\":{\"value\":2},\"render_mode\":\"css\",\"right_units\":\"screen\",\"top_units\":\"screen\"},\"id\":\"1244\",\"type\":\"BoxAnnotation\"}],\"root_ids\":[\"1161\"]},\"title\":\"Bokeh Application\",\"version\":\"1.2.0\"}};\n",
       "  var render_items = [{\"docid\":\"e8f615f5-f05b-4897-ab78-f7ce161705a3\",\"roots\":{\"1161\":\"f4343537-2e81-4da6-906c-b2c29cbaab87\"}}];\n",
       "  root.Bokeh.embed.embed_items_notebook(docs_json, render_items);\n",
       "\n",
       "  }\n",
       "  if (root.Bokeh !== undefined) {\n",
       "    embed_document(root);\n",
       "  } else {\n",
       "    var attempts = 0;\n",
       "    var timer = setInterval(function(root) {\n",
       "      if (root.Bokeh !== undefined) {\n",
       "        embed_document(root);\n",
       "        clearInterval(timer);\n",
       "      }\n",
       "      attempts++;\n",
       "      if (attempts > 100) {\n",
       "        console.log(\"Bokeh: ERROR: Unable to run BokehJS code because BokehJS library is missing\");\n",
       "        clearInterval(timer);\n",
       "      }\n",
       "    }, 10, root)\n",
       "  }\n",
       "})(window);"
      ],
      "application/vnd.bokehjs_exec.v0+json": ""
     },
     "metadata": {
      "application/vnd.bokehjs_exec.v0+json": {
       "id": "1161"
      }
     },
     "output_type": "display_data"
    }
   ],
   "source": [
    "import varspark.hail.plot as vshlplt\n",
    "p = vshlplt.manhattan_imp(gwas_with_imp.importance, \n",
    "                            hover_fields=dict(ri=gwas_with_imp.rsid),\n",
    "                            significance_line = None)\n",
    "show(p)"
   ]
  },
  {
   "cell_type": "markdown",
   "metadata": {},
   "source": [
    "_Fig 2: Manhattan plot for rf gin importance values._"
   ]
  },
  {
   "cell_type": "markdown",
   "metadata": {},
   "source": [
    "## Compare logistc regression values vs. rf importance"
   ]
  },
  {
   "cell_type": "code",
   "execution_count": 17,
   "metadata": {},
   "outputs": [
    {
     "data": {
      "text/html": [
       "\n",
       "\n",
       "\n",
       "\n",
       "\n",
       "\n",
       "  <div class=\"bk-root\" id=\"8b090bf0-5fc9-4ca0-9c35-88d4ea22c1e3\" data-root-id=\"1326\"></div>\n"
      ]
     },
     "metadata": {},
     "output_type": "display_data"
    },
    {
     "data": {
      "application/javascript": [
       "(function(root) {\n",
       "  function embed_document(root) {\n",
       "    \n",
       "  var docs_json = {\"11dfbd2f-38f2-4ea1-9704-441f9e984e82\":{\"roots\":{\"references\":[{\"attributes\":{\"below\":[{\"id\":\"1336\",\"type\":\"LinearAxis\"}],\"center\":[{\"id\":\"1340\",\"type\":\"Grid\"},{\"id\":\"1345\",\"type\":\"Grid\"}],\"left\":[{\"id\":\"1341\",\"type\":\"LinearAxis\"}],\"plot_height\":800,\"plot_width\":800,\"renderers\":[{\"id\":\"1365\",\"type\":\"GlyphRenderer\"}],\"title\":null,\"toolbar\":{\"id\":\"1352\",\"type\":\"Toolbar\"},\"x_range\":{\"id\":\"1328\",\"type\":\"DataRange1d\"},\"x_scale\":{\"id\":\"1332\",\"type\":\"LinearScale\"},\"y_range\":{\"id\":\"1330\",\"type\":\"DataRange1d\"},\"y_scale\":{\"id\":\"1334\",\"type\":\"LinearScale\"}},\"id\":\"1326\",\"subtype\":\"Figure\",\"type\":\"Plot\"},{\"attributes\":{},\"id\":\"1390\",\"type\":\"Selection\"},{\"attributes\":{},\"id\":\"1347\",\"type\":\"WheelZoomTool\"},{\"attributes\":{\"bottom_units\":\"screen\",\"fill_alpha\":{\"value\":0.5},\"fill_color\":{\"value\":\"lightgrey\"},\"left_units\":\"screen\",\"level\":\"overlay\",\"line_alpha\":{\"value\":1.0},\"line_color\":{\"value\":\"black\"},\"line_dash\":[4,4],\"line_width\":{\"value\":2},\"render_mode\":\"css\",\"right_units\":\"screen\",\"top_units\":\"screen\"},\"id\":\"1392\",\"type\":\"BoxAnnotation\"},{\"attributes\":{},\"id\":\"1391\",\"type\":\"UnionRenderers\"},{\"attributes\":{},\"id\":\"1350\",\"type\":\"ResetTool\"},{\"attributes\":{},\"id\":\"1388\",\"type\":\"BasicTickFormatter\"},{\"attributes\":{\"callback\":null},\"id\":\"1328\",\"type\":\"DataRange1d\"},{\"attributes\":{\"fill_alpha\":{\"value\":0.1},\"fill_color\":{\"value\":\"#1f77b4\"},\"line_alpha\":{\"value\":0.1},\"line_color\":{\"value\":\"#1f77b4\"},\"x\":{\"field\":\"x\"},\"y\":{\"field\":\"y\"}},\"id\":\"1364\",\"type\":\"Circle\"},{\"attributes\":{\"callback\":null,\"tooltips\":[[\"x\",\"@x\"],[\"y\",\"@y\"],[\"loc\",\"@loc\"],[\"rs\",\"@rs\"]]},\"id\":\"1360\",\"type\":\"HoverTool\"},{\"attributes\":{\"data_source\":{\"id\":\"1361\",\"type\":\"ColumnDataSource\"},\"glyph\":{\"id\":\"1363\",\"type\":\"Circle\"},\"hover_glyph\":null,\"muted_glyph\":null,\"nonselection_glyph\":{\"id\":\"1364\",\"type\":\"Circle\"},\"selection_glyph\":null,\"view\":{\"id\":\"1366\",\"type\":\"CDSView\"}},\"id\":\"1365\",\"type\":\"GlyphRenderer\"},{\"attributes\":{},\"id\":\"1346\",\"type\":\"PanTool\"},{\"attributes\":{\"source\":{\"id\":\"1361\",\"type\":\"ColumnDataSource\"}},\"id\":\"1366\",\"type\":\"CDSView\"},{\"attributes\":{\"callback\":null,\"data\":{\"index\":[0,1,2,3,4,5,6,7,8,9,10,11,12,13,14,15,16,17,18,19,20,21,22,23,24,25,26,27,28,29,30,31,32,33,34,35,36,37,38,39,40,41,42,43,44,45,46,47,48,49,50,51,52,53,54,55,56,57,58,59,60,61,62,63,64,65,66,67,68,69,70,71,72,73,74,75,76,77,78,79,80,81,82,83,84,85,86,87,88,89,90,91,92,93,94,95,96,97,98,99,100,101,102,103,104,105,106,107,108,109,110,111,112,113,114,115,116,117,118,119,120,121,122,123,124,125,126,127,128,129,130,131,132,133,134,135,136,137,138,139,140,141,142,143,144,145,146,147,148,149,150,151,152,153,154,155,156,157,158,159,160,161,162,163,164,165,166,167,168,169,170,171,172,173,174,175,176,177,178,179,180,181,182,183,184,185,186,187,188,189,190,191,192,193,194,195,196,197,198,199,200,201,202,203,204,205,206,207,208,209,210,211,212,213,214,215,216,217,218,219,220,221,222,223,224,225,226,227,228,229,230,231,232,233,234,235,236,237,238,239,240,241,242,243,244,245,246,247,248,249,250,251,252,253,254,255,256,257,258,259,260,261,262,263,264,265,266,267,268,269,270,271,272,273,274,275,276,277,278,279,280,281,282,283,284,285,286,287,288,289,290,291,292,293,294,295,296,297,298,299,300,301,302,303,304,305,306,307,308,309,310,311,312,313,314,315,316,317,318,319,320,321,322,323,324,325,326,327,328,329,330,331,332,333,334,335,336,337,338,339,340,341,342,343,344,345,346,347,348,349,350,351,352,353,354,355,356,357,358,359,360,361,362,363,364,365,366,367,368,369,370,371,372,373,374,375,376,377,378,379,380,381,382,383,384,385,386,387,388,389,390,391,392,393,394,395,396,397,398,399,400,401,402,403,404,405,406,407,408,409,410,411,412,413,414,415,416,417,418,419,420,421,422,423,424,425,426,427,428,429,430,431,432,433,434,435,436,437,438,439,440,441,442,443,444,445,446,447,448,449,450,451,452,453,454,455,456,457,458,459,460,461,462,463,464,465,466,467,468,469,470,471,472,473,474,475,476,477,478,479,480,481,482,483,484,485,486,487,488,489,490,491,492,493,494,495,496,497,498,499,500,501,502,503,504,505,506,507,508,509,510,511,512,513,514,515,516,517,518,519,520,521,522,523,524,525,526,527,528,529,530,531,532,533,534,535,536,537,538,539,540,541,542,543,544,545,546,547,548,549,550,551,552,553,554,555,556,557,558,559,560,561,562,563,564,565,566,567,568,569,570,571,572,573,574,575,576,577,578,579,580,581,582,583,584,585,586,587,588,589,590,591,592,593,594,595,596,597,598,599,600,601,602,603,604,605,606,607,608,609,610,611,612,613,614,615,616,617,618,619,620,621,622,623,624,625],\"loc\":[\"15:66523277\",\"15:66402257\",\"15:66455902\",\"5:126629112\",\"5:126726847\",\"15:66327646\",\"15:66363938\",\"15:66309124\",\"5:126636782\",\"5:126647941\",\"15:66482208\",\"5:126669209\",\"15:66485924\",\"5:126717984\",\"15:66393813\",\"5:126645343\",\"15:66426748\",\"2:223034082\",\"15:66324425\",\"15:66473042\",\"5:126628098\",\"15:66453760\",\"15:66530480\",\"5:126658500\",\"15:66479763\",\"5:126639432\",\"2:109515632\",\"5:126688400\",\"15:75029399\",\"15:66382275\",\"15:66344358\",\"5:126698023\",\"2:223032002\",\"15:66480862\",\"15:66311014\",\"5:126691169\",\"15:66304148\",\"15:66281206\",\"15:66368685\",\"15:75025988\",\"5:126660301\",\"15:66411064\",\"7:17285867\",\"5:126685374\",\"2:223035940\",\"5:126636000\",\"5:126641654\",\"15:66267469\",\"5:126726851\",\"15:66393276\",\"5:126764280\",\"15:66317971\",\"15:66527530\",\"7:17284989\",\"15:66532657\",\"15:66469990\",\"15:66410004\",\"5:126735430\",\"15:66381432\",\"15:66448125\",\"5:126740828\",\"5:126663406\",\"5:126751728\",\"5:126637872\",\"15:66412230\",\"15:66339400\",\"4:54510874\",\"5:126640246\",\"15:66340291\",\"15:66282617\",\"5:126659892\",\"15:66327176\",\"15:66379714\",\"15:66415107\",\"15:66503628\",\"5:126744956\",\"15:66516481\",\"15:66264162\",\"15:66441238\",\"15:66327556\",\"15:66508895\",\"15:66371585\",\"15:66491227\",\"15:66329929\",\"15:66311508\",\"5:126693265\",\"5:126650411\",\"5:126644552\",\"15:66395527\",\"15:66489538\",\"5:126654062\",\"15:66509644\",\"15:66317465\",\"15:66444419\",\"15:66406688\",\"15:66377266\",\"15:66471179\",\"15:66517926\",\"15:66335979\",\"15:66370565\",\"5:126715151\",\"5:126785305\",\"5:126639801\",\"15:66322018\",\"15:66540520\",\"15:66461879\",\"15:66272490\",\"15:66530096\",\"5:126653607\",\"15:66339349\",\"7:113988537\",\"15:66235312\",\"15:66270361\",\"15:66372940\",\"5:126695127\",\"15:66502169\",\"4:54513106\",\"5:126745230\",\"15:66525860\",\"5:126626645\",\"15:66496865\",\"5:126794160\",\"15:66398302\",\"15:66493357\",\"2:223033642\",\"5:126641098\",\"15:66352479\",\"5:126639269\",\"5:126679697\",\"5:126710204\",\"15:66357458\",\"15:66483326\",\"5:126630491\",\"15:66515086\",\"15:66372939\",\"15:66367083\",\"15:66438961\",\"15:66269700\",\"7:17282507\",\"5:126701622\",\"5:126632821\",\"5:126715759\",\"4:54510427\",\"5:126682354\",\"15:66321141\",\"15:66516978\",\"5:126727418\",\"15:66384467\",\"15:66541800\",\"7:113989578\",\"5:126642148\",\"15:66524575\",\"4:54514026\",\"5:126688517\",\"5:126640971\",\"15:66312149\",\"5:126664014\",\"15:66518783\",\"15:66280985\",\"5:126780212\",\"5:126657766\",\"2:223035211\",\"5:126796531\",\"15:66523651\",\"15:66319707\",\"15:66537455\",\"15:66450011\",\"5:126656998\",\"15:66340179\",\"5:126723562\",\"15:66407897\",\"5:126722616\",\"2:109514985\",\"15:66540097\",\"5:126633404\",\"5:126642920\",\"15:66330447\",\"15:66540943\",\"15:75029407\",\"15:66513452\",\"15:66372912\",\"5:126639196\",\"5:126633436\",\"15:66524462\",\"15:66538364\",\"15:66489681\",\"15:66221782\",\"5:126635667\",\"5:126727008\",\"5:126683809\",\"15:66520258\",\"5:126655730\",\"15:66326871\",\"15:66409878\",\"15:75028536\",\"15:66459119\",\"15:66360428\",\"5:126782325\",\"15:66346707\",\"15:66433739\",\"5:126725054\",\"15:66378251\",\"5:126634444\",\"5:126687822\",\"15:66404169\",\"15:66485985\",\"15:66409844\",\"5:126636244\",\"15:66512166\",\"15:66294695\",\"15:66295812\",\"2:223033006\",\"15:66487222\",\"5:126739085\",\"15:66533342\",\"5:126773859\",\"5:126689790\",\"15:75029876\",\"15:66337038\",\"5:126644396\",\"15:66542753\",\"5:126686756\",\"15:66351526\",\"15:66365696\",\"15:66396429\",\"15:66529993\",\"15:66272893\",\"15:66404633\",\"15:66337176\",\"15:66538713\",\"15:66518805\",\"5:126652710\",\"15:66439306\",\"15:66495849\",\"15:66426551\",\"15:66382229\",\"15:66358115\",\"15:66523150\",\"15:66484097\",\"5:126642675\",\"15:66333100\",\"15:66314082\",\"5:126655749\",\"2:223033978\",\"5:126650182\",\"15:66478980\",\"15:66402599\",\"15:66427055\",\"5:126628771\",\"5:126678028\",\"15:66541771\",\"15:66442953\",\"5:126653809\",\"15:66532085\",\"5:126639591\",\"15:66272491\",\"2:223034758\",\"15:66254881\",\"15:66357037\",\"5:126785310\",\"5:126651068\",\"15:66395918\",\"15:66486861\",\"15:66474547\",\"15:66387087\",\"15:66499109\",\"5:126655361\",\"15:66303530\",\"15:66492324\",\"5:126797404\",\"5:126662114\",\"15:66466436\",\"15:66477679\",\"15:66547641\",\"5:126639097\",\"15:66506363\",\"5:126780344\",\"15:66330819\",\"5:126795246\",\"5:126648201\",\"5:126629761\",\"15:66326983\",\"15:66496254\",\"5:126769874\",\"5:126645334\",\"15:66331150\",\"5:126666529\",\"7:17284085\",\"15:66471172\",\"15:66481261\",\"5:126646447\",\"15:66515149\",\"5:126639135\",\"5:126796585\",\"15:66380254\",\"15:66516106\",\"5:126633958\",\"15:66495390\",\"15:66301813\",\"7:113990352\",\"15:66454979\",\"5:126674613\",\"5:126731136\",\"15:66480681\",\"15:66478368\",\"15:66327823\",\"5:126699347\",\"15:66524258\",\"15:66356577\",\"15:66484576\",\"15:66332284\",\"15:66531211\",\"5:126626044\",\"15:66444434\",\"5:126672710\",\"15:66355792\",\"5:126740052\",\"5:126698070\",\"15:66390090\",\"15:66301934\",\"15:66491863\",\"15:66487427\",\"5:126641296\",\"5:126689935\",\"15:75027880\",\"15:66455564\",\"2:223032399\",\"15:66333821\",\"15:66259809\",\"5:126694437\",\"5:126667551\",\"4:54511203\",\"2:223033396\",\"15:66487765\",\"5:126642563\",\"15:66403531\",\"15:66502700\",\"15:66406092\",\"5:126798558\",\"5:126773064\",\"15:66524049\",\"15:66217240\",\"5:126640576\",\"15:66382085\",\"5:126697138\",\"15:66425000\",\"5:126683321\",\"2:223033030\",\"5:126628584\",\"15:66357980\",\"5:126635083\",\"15:75027179\",\"5:126735871\",\"5:126731876\",\"5:126778245\",\"15:66341925\",\"15:66530333\",\"15:66479252\",\"15:66372623\",\"5:126644681\",\"5:126797292\",\"5:126774940\",\"15:66510331\",\"15:66337034\",\"5:126632848\",\"15:66521832\",\"15:66480035\",\"15:66539400\",\"15:66478029\",\"15:66426561\",\"5:126682039\",\"15:66520931\",\"15:66473865\",\"5:126630875\",\"15:66422999\",\"15:66528939\",\"15:66260006\",\"15:66327924\",\"15:66318513\",\"15:66527853\",\"15:66323837\",\"15:66262543\",\"5:126656324\",\"15:66539304\",\"15:66485616\",\"15:66470319\",\"15:66269504\",\"15:66496797\",\"5:126631736\",\"15:66271824\",\"2:109513601\",\"5:126683373\",\"15:66340499\",\"5:126681193\",\"5:126775462\",\"15:66427278\",\"5:126641770\",\"5:126675780\",\"5:126679402\",\"2:109513786\",\"15:66465816\",\"15:66479057\",\"5:126775113\",\"15:66459860\",\"5:126698078\",\"2:223035313\",\"15:75028490\",\"15:66444211\",\"5:126689438\",\"15:66519534\",\"15:66315478\",\"15:66545710\",\"5:126629170\",\"15:66304916\",\"15:66465482\",\"4:54510555\",\"15:66444003\",\"15:66337783\",\"15:66360224\",\"5:126654970\",\"15:66535743\",\"15:66524539\",\"15:66388126\",\"15:66529936\",\"15:66272042\",\"15:66472090\",\"5:126640205\",\"5:126662820\",\"5:126706883\",\"2:223034660\",\"5:126694523\",\"15:66451799\",\"5:126697755\",\"15:66471517\",\"15:66267583\",\"5:126664981\",\"15:66452000\",\"15:66347331\",\"15:66514010\",\"5:126631841\",\"15:66408090\",\"5:126661519\",\"15:66420193\",\"15:66540158\",\"15:66490291\",\"5:126781446\",\"15:66271772\",\"15:75029998\",\"15:75029472\",\"15:66361057\",\"15:66482259\",\"5:126667126\",\"15:66449429\",\"15:66529223\",\"15:66448249\",\"5:126644769\",\"15:66527278\",\"15:66371877\",\"5:126645705\",\"5:126644632\",\"15:66270890\",\"15:66497317\",\"5:126668683\",\"15:66339584\",\"15:66382072\",\"5:126683883\",\"7:113987889\",\"5:126661600\",\"15:66321395\",\"5:126645646\",\"15:66430645\",\"15:66529124\",\"4:54511913\",\"5:126683590\",\"4:54512752\",\"5:126768216\",\"5:126657432\",\"15:66348983\",\"15:66526289\",\"5:126656500\",\"15:66538365\",\"5:126713994\",\"4:54511711\",\"5:126627875\",\"15:66340274\",\"15:66427487\",\"15:66314450\",\"15:75029228\",\"5:126661774\",\"5:126669004\",\"15:66469757\",\"15:66537440\",\"5:126731259\",\"15:66438682\",\"5:126698345\",\"15:66443747\",\"5:126630016\",\"15:66453074\",\"15:66429897\",\"15:66332982\",\"5:126776307\",\"4:54511246\",\"15:66313550\",\"15:66498025\",\"5:126661380\",\"15:66546590\",\"15:66356925\",\"5:126642357\",\"15:66388261\",\"5:126777362\",\"15:66360842\",\"5:126736145\",\"15:66513852\",\"15:66492810\",\"15:66335837\",\"15:66476229\",\"15:66468154\",\"15:66532936\",\"5:126793219\",\"5:126667268\",\"5:126664039\",\"15:66372477\",\"5:126725568\",\"15:66347943\",\"5:126630948\",\"15:66352068\",\"15:66327311\",\"5:126798501\",\"15:66514649\",\"15:66322702\",\"5:126773180\",\"7:17284577\",\"15:66359243\",\"15:66313401\",\"5:126645738\",\"15:66272409\",\"5:126697604\",\"5:126789986\",\"15:66287518\",\"15:66539787\",\"5:126639025\",\"5:126767961\",\"2:223032504\",\"15:66448456\",\"15:66492156\",\"5:126635437\",\"15:66405053\",\"15:66536139\",\"5:126675068\",\"5:126652407\",\"5:126636211\",\"5:126769146\",\"15:66271429\",\"5:126684179\",\"15:66475264\",\"15:66446699\",\"5:126792974\",\"2:109514105\",\"5:126625548\",\"5:126652742\",\"15:66546324\",\"15:66351230\",\"5:126633827\",\"5:126785891\",\"5:126724209\",\"15:66269804\",\"5:126705920\",\"15:66307304\",\"4:54511042\",\"5:126680343\",\"15:66481349\",\"5:126677978\",\"15:66515921\",\"5:126643590\",\"15:66325728\",\"5:126713978\",\"15:66443832\",\"15:66400981\",\"2:109513654\",\"5:126637782\",\"5:126710915\",\"15:66524094\",\"15:66459450\",\"15:66485419\",\"15:66444199\",\"15:66506698\",\"15:66330946\",\"15:66258194\",\"15:66443803\",\"5:126646864\",\"15:66444160\",\"4:54509759\",\"15:66455366\",\"15:66531312\",\"5:126650805\",\"5:126689489\",\"5:126683416\",\"2:223032642\",\"15:66373795\",\"5:126654623\",\"5:126644401\",\"7:17282974\",\"15:66504593\",\"5:126796576\",\"5:126653950\",\"15:66364907\",\"5:126735334\",\"5:126635055\",\"15:66328281\",\"15:66400117\",\"5:126693280\",\"5:126687687\",\"15:66465803\",\"15:66224813\",\"15:66509916\",\"15:66479944\",\"5:126775739\",\"15:66420191\",\"5:126657217\",\"4:54513819\",\"15:66299460\",\"15:66407485\",\"5:126785338\",\"15:66453002\",\"15:66438085\",\"15:66412257\"],\"rs\":[\"rs187219970\",\"rs4776731\",\"rs376495292\",\"rs4836318\",\"rs2008432\",\"rs333591\",\"rs62011774\",\"rs12592821\",\"rs17165082\",\"rs1422316\",\"rs72744483\",\"rs145619126\",\"rs72744486\",\"rs35529\",\"rs7178692\",\"rs2546086\",\"rs62012724\",\"rs2218065\",\"rs333587\",\"rs11858700\",\"rs2194079\",\"rs4776754\",\"rs11632654\",\"rs152122\",\"rs78550588\",\"rs2585195\",\"rs137965476\",\"rs72788505\",\"rs8030076\",\"rs1542530\",\"rs2552182\",\"rs35156178\",\"rs7607981\",\"rs142526067\",\"rs112285672\",\"rs73344966\",\"rs4776711\",\"rs17818352\",\"rs11412871\",\"rs4886605\",\"rs31472\",\"rs16949520\",\"rs10281571\",\"rs550745558\",\"rs11690945\",\"rs7702573\",\"rs2546082\",\"rs409309\",\"rs1318923\",\"rs114445188\",\"rs78705252\",\"rs28459607\",\"rs1531497\",\"rs10277582\",\"rs28690215\",\"rs1382052\",\"rs7179647\",\"rs251031\",\"rs4601990\",\"rs12903880\",\"rs9327439\",\"rs11285616\",\"rs6595770\",\"rs2546806\",\"rs4776735\",\"rs333603\",\"rs6816209\",\"rs1816059\",\"rs112189578\",\"rs2414897\",\"rs34208116\",\"rs114409529\",\"rs576819622\",\"rs140789134\",\"rs112462909\",\"rs56320297\",\"rs11637903\",\"rs333560\",\"rs16949561\",\"rs333590\",\"rs55922529\",\"rs191360723\",\"rs4776287\",\"rs333593\",\"rs333609\",\"rs246892\",\"rs1345664\",\"rs2546804\",\"rs973519\",\"rs4776759\",\"rs185032\",\"rs73475583\",\"rs621616\",\"rs1551862\",\"rs77191943\",\"rs34073102\",\"rs1871001\",\"rs7163316\",\"rs4776276\",\"rs12901123\",\"rs79713470\",\"rs41298318\",\"rs2431724\",\"rs333582\",\"rs59967396\",\"rs4776756\",\"rs412708\",\"rs4776770\",\"rs138731838\",\"rs3852627\",\"rs2690826\",\"rs563322196\",\"rs425829\",\"rs9788778\",\"rs35528\",\"rs10851753\",\"rs2668550\",\"rs3844184\",\"rs57893351\",\"rs2032834\",\"rs16949689\",\"rs75528418\",\"rs1477795\",\"rs1026672\",\"rs2218064\",\"rs537322380\",\"rs1036367\",\"rs56084567\",\"rs246896\",\"rs112609571\",\"rs1351032\",\"rs36126350\",\"rs200086613\",\"rs11636331\",\"rs17241225\",\"rs4776715\",\"rs35259179\",\"rs693217\",\"rs62444547\",\"rs35524\",\"rs2585199\",\"rs113091845\",\"rs2668552\",\"rs246894\",\"rs333581\",\"rs201260840\",\"rs1153432\",\"rs115990365\",\"rs55677817\",\"rs2690827\",\"rs2585192\",\"rs72625770\",\"rs79162003\",\"rs185033\",\"rs2546081\",\"rs333610\",\"rs77262632\",\"rs28735605\",\"rs333572\",\"rs12516897\",\"rs559620165\",\"rs5838931\",\"rs35236935\",\"rs545772545\",\"rs28394544\",\"rs1913414\",\"rs115766844\",\"rs246888\",\"rs150323393\",\"rs9327438\",\"rs7167001\",\"rs113997522\",\"rs11689836\",\"rs111463682\",\"rs73785574\",\"rs2546085\",\"rs333594\",\"rs1531495\",\"rs8029744\",\"rs72746219\",\"rs11634212\",\"rs56169866\",\"rs970546\",\"rs62009956\",\"rs139007203\",\"rs11071869\",\"rs77371692\",\"rs1345662\",\"rs1019482\",\"rs27388\",\"rs12441314\",\"rs246886\",\"rs333588\",\"rs72744441\",\"rs112697364\",\"rs529313087\",\"rs1550029\",\"rs10072587\",\"rs167995\",\"rs34166087\",\"rs10041484\",\"rs201053654\",\"rs2194080\",\"rs36308\",\"rs11071859\",\"rs76146262\",\"rs531315333\",\"rs73785576\",\"rs7170633\",\"rs333544\",\"rs10639458\",\"rs529478087\",\"rs12904629\",\"rs6877254\",\"rs7169939\",\"rs2408871\",\"rs73344964\",\"rs144523545\",\"rs369167174\",\"rs2546802\",\"rs2086034\",\"rs185030\",\"rs4776712\",\"rs72744410\",\"rs7170679\",\"rs4776769\",\"rs449841\",\"rs12441326\",\"rs179691\",\"rs28637960\",\"rs11637056\",\"rs246945\",\"rs115835911\",\"rs11071871\",\"rs116693851\",\"rs187217800\",\"rs6494547\",\"rs12900781\",\"rs35722900\",\"rs2546084\",\"rs170781\",\"rs512953\",\"rs246887\",\"rs2196751\",\"rs1345663\",\"rs16949633\",\"rs4776732\",\"rs4776742\",\"rs4836317\",\"rs17839696\",\"rs55865344\",\"rs550598582;rs571338567\",\"rs246947\",\"rs12324050\",\"rs2431496\",\"rs388813\",\"rs71050391\",\"rs16949165\",\"rs112463730\",\"rs41298320\",\"rs246943\",\"rs74589474\",\"rs553867366\",\"rs118184036\",\"rs4776724\",\"rs2086035\",\"rs73785580\",\"rs333575\",\"rs8026040\",\"rs4836324\",\"rs26945\",\"rs8029386\",\"rs34270365\",\"rs1871006\",\"rs2546807\",\"rs7175984\",\"rs10519941\",\"rs1465484\",\"rs3756722\",\"rs1422317\",\"rs17165105\",\"rs56267112\",\"rs11636685\",\"rs10078629\",\"rs2585190\",\"rs333595\",\"rs551009886;rs6862045\",\"rs6943079\",\"rs1871002\",\"rs8035387\",\"rs80318666\",\"rs144179538\",\"rs2546808\",\"rs2898043\",\"rs1600053\",\"rs4578594\",\"rs2585196\",\"rs16949673\",\"rs2552181\",\"rs2049604\",\"rs12592877\",\"rs27782\",\"rs67200948\",\"rs541648297;rs35256111\",\"rs11636260\",\"rs74368114\",\"rs35525\",\"rs72625769\",\"rs12148577\",\"rs12908120\",\"rs566070414\",\"rs12916788\",\"rs1363387\",\"rs1026675\",\"rs77589749\",\"rs4776277\",\"rs59745967\",\"rs77198001\",\"rs59635353\",\"rs147698593\",\"rs4776289\",\"rs34641874\",\"rs2585194\",\"rs55918025\",\"rs2472297\",\"rs1477796\",\"rs986429\",\"rs75856794\",\"rs333554\",\"rs26947\",\"rs27562\",\"rs2590771\",\"rs11895863\",\"rs35043148\",\"rs2546083\",\"rs17241679\",\"rs548315083\",\"rs140091327\",\"rs17164922\",\"rs6859304\",\"rs2126701\",\"rs12903123\",\"rs2546080\",\"rs11639467\",\"rs35527\",\"rs4776741\",\"rs56096254\",\"rs16863473\",\"rs112394041\",\"rs6494546\",\"rs2018571\",\"rs17861120\",\"rs17839693\",\"rs2059084\",\"rs73348744\",\"rs333608\",\"rs4776294\",\"rs1351030\",\"rs62011777\",\"rs2254762\",\"rs4836323\",\"rs61021426\",\"rs73475585\",\"rs573485805\",\"rs2585198\",\"rs8038807\",\"rs3082857\",\"rs12901736\",\"rs10851752\",\"rs114302765\",\"rs246895\",\"rs6494558\",\"rs145921300;rs11071866\",\"rs146140674\",\"rs5813376\",\"rs12442953\",\"rs186729\",\"rs333592\",\"rs333579\",\"rs5813385\",\"rs333584\",\"rs144263555\",\"rs3050850\",\"rs7162947\",\"rs4776286\",\"rs8033072\",\"rs372969314\",\"rs117343895\",\"rs17165103\",\"rs407596\",\"rs3827760\",\"rs56144110\",\"rs333607\",\"rs114244425\",\"rs2408872\",\"rs4776743\",\"rs2585193\",\"rs78120546\",\"rs246897\",\"rs3789738\",\"rs11071863\",\"rs1351031\",\"rs34451603\",\"rs138152110\",\"rs144082348\",\"rs66885466\",\"rs11072500\",\"rs7163246\",\"rs1160960\",\"rs7172408\",\"rs375962533\",\"rs112753173\",\"rs12519784\",\"rs441949\",\"rs77017234;rs374348330\",\"rs144220715\",\"rs7162499\",\"rs333601\",\"rs8027897\",\"rs246885\",\"rs11630800\",\"rs62009958\",\"rs6494551\",\"rs4776768\",\"rs11854757\",\"rs899080\",\"rs1816058\",\"rs17762857\",\"rs12657844\",\"rs985473\",\"rs27563\",\"rs4776752\",\"rs78259230\",\"rs35844768\",\"rs432396\",\"rs27749\",\"rs115058280\",\"rs8043508\",\"rs11071873\",\"rs2585200\",\"rs72744438\",\"rs10550881\",\"rs75840915\",\"rs66924675\",\"rs72744490\",\"rs2270933\",\"rs428658\",\"rs76354137\",\"rs76255041\",\"rs2899714\",\"rs7181353\",\"rs10519949\",\"rs77129652\",\"rs4776767\",\"rs73469746\",\"rs1422315\",\"rs12903154\",\"rs117273652\",\"rs201053818\",\"rs72786459\",\"rs405857\",\"rs551199754\",\"rs2546078\",\"rs333604\",\"rs56350293\",\"rs27652\",\"rs2690825\",\"rs33930493\",\"rs2552180\",\"rs2546805\",\"rs16949548\",\"rs10152880\",\"rs4864809\",\"rs72786494\",\"rs2590773\",\"rs74446721\",\"rs246889\",\"rs17240756\",\"rs72149070\",\"rs152120\",\"rs11634029\",\"rs200918920\",\"rs2668551\",\"rs4836316\",\"rs333606\",\"rs556888084\",\"rs167996\",\"rs77021813\",\"rs31470\",\"rs26944\",\"rs2219738\",\"rs1913413\",\"rs13171067\",\"rs561037574\",\"rs35526\",\"rs11071860\",\"rs1422313\",\"rs61335305\",\"rs370151719\",\"rs1434733\",\"rs60681812\",\"rs2616389\",\"rs72742883\",\"rs11071872\",\"rs31471\",\"rs141679075\",\"rs11856955\",\"rs116194529\",\"rs8035864\",\"rs59745564\",\"rs1369159\",\"rs12109001\",\"rs80253188\",\"rs11637021\",\"rs471751\",\"rs115227715\",\"rs12593341\",\"rs12050792\",\"rs10793809\",\"rs17684438\",\"rs36307\",\"rs8035662\",\"rs4401615\",\"rs545933134\",\"rs2059083\",\"rs8041368\",\"rs333589\",\"rs150008348\",\"rs72746220\",\"rs333583\",\"rs6859181\",\"rs4410790\",\"rs57996841\",\"rs114936757\",\"rs13153845\",\"rs402139\",\"rs72788513\",\"rs76912327\",\"rs333570\",\"rs117403624\",\"rs2546079\",\"rs6866678\",\"rs36054640\",\"rs4776283\",\"rs1382053\",\"rs35796097\",\"rs138589055\",\"rs148482387\",\"rs17673170\",\"rs246944\",\"rs2546809\",\"rs11950427\",\"rs368614\",\"rs79699136\",\"rs8030058\",\"rs553362527\",\"rs3812052\",\"rs6542783\",\"rs2408868\",\"rs246946\",\"rs72746280\",\"rs143904118\",\"rs2585197\",\"rs144354363\",\"rs368047649\",\"rs511563\",\"rs1422318\",\"rs11350229\",\"rs2590770\",\"rs76290412\",\"rs7175296\",\"rs17684525\",\"rs11637593\",\"rs2585191\",\"rs28848849\",\"rs113289788\",\"rs11071861\",\"rs79394158\",\"rs12623957\",\"rs57623356\",\"rs34537147\",\"rs2126700\",\"rs2169629\",\"rs118056499\",\"rs1026676\",\"rs1003990\",\"rs1465485\",\"rs333552\",\"rs2126697\",\"rs2161283\",\"rs7162887\",\"rs6818959\",\"rs75779403\",\"rs10152957\",\"rs2546087\",\"rs26946\",\"rs187514\",\"rs986430\",\"rs182096747\",\"rs2439927\",\"rs2546803\",\"rs17137451\",\"rs74019521\",\"rs139305981\",\"rs246948\",\"rs4776713\",\"rs10519939\",\"rs1808378\",\"rs112054411\",\"rs1993832\",\"rs144085293\",\"rs43148\",\"rs35858133\",\"rs78767632\",\"rs56737245\",\"rs75263156\",\"rs13190032\",\"rs368595662\",\"rs152121\",\"rs6858782\",\"rs2552176\",\"rs552756488\",\"rs73348755\",\"rs147184281\",\"rs7181974\",\"rs7172880\"],\"x\":{\"__ndarray__\":\"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\",\"dtype\":\"float64\",\"shape\":[626]},\"y\":{\"__ndarray__\":\"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\",\"dtype\":\"float64\",\"shape\":[626]}},\"selected\":{\"id\":\"1390\",\"type\":\"Selection\"},\"selection_policy\":{\"id\":\"1391\",\"type\":\"UnionRenderers\"}},\"id\":\"1361\",\"type\":\"ColumnDataSource\"},{\"attributes\":{},\"id\":\"1349\",\"type\":\"SaveTool\"},{\"attributes\":{\"active_drag\":\"auto\",\"active_inspect\":\"auto\",\"active_multi\":null,\"active_scroll\":\"auto\",\"active_tap\":\"auto\",\"tools\":[{\"id\":\"1346\",\"type\":\"PanTool\"},{\"id\":\"1347\",\"type\":\"WheelZoomTool\"},{\"id\":\"1348\",\"type\":\"BoxZoomTool\"},{\"id\":\"1349\",\"type\":\"SaveTool\"},{\"id\":\"1350\",\"type\":\"ResetTool\"},{\"id\":\"1351\",\"type\":\"HelpTool\"},{\"id\":\"1360\",\"type\":\"HoverTool\"}]},\"id\":\"1352\",\"type\":\"Toolbar\"},{\"attributes\":{},\"id\":\"1337\",\"type\":\"BasicTicker\"},{\"attributes\":{},\"id\":\"1334\",\"type\":\"LinearScale\"},{\"attributes\":{},\"id\":\"1351\",\"type\":\"HelpTool\"},{\"attributes\":{\"overlay\":{\"id\":\"1392\",\"type\":\"BoxAnnotation\"}},\"id\":\"1348\",\"type\":\"BoxZoomTool\"},{\"attributes\":{\"axis_label\":\"gini importance\",\"formatter\":{\"id\":\"1386\",\"type\":\"BasicTickFormatter\"},\"ticker\":{\"id\":\"1342\",\"type\":\"BasicTicker\"}},\"id\":\"1341\",\"type\":\"LinearAxis\"},{\"attributes\":{\"ticker\":{\"id\":\"1337\",\"type\":\"BasicTicker\"}},\"id\":\"1340\",\"type\":\"Grid\"},{\"attributes\":{},\"id\":\"1332\",\"type\":\"LinearScale\"},{\"attributes\":{\"dimension\":1,\"ticker\":{\"id\":\"1342\",\"type\":\"BasicTicker\"}},\"id\":\"1345\",\"type\":\"Grid\"},{\"attributes\":{},\"id\":\"1342\",\"type\":\"BasicTicker\"},{\"attributes\":{},\"id\":\"1386\",\"type\":\"BasicTickFormatter\"},{\"attributes\":{\"fill_color\":{\"value\":\"#1f77b4\"},\"line_color\":{\"value\":\"#1f77b4\"},\"x\":{\"field\":\"x\"},\"y\":{\"field\":\"y\"}},\"id\":\"1363\",\"type\":\"Circle\"},{\"attributes\":{\"callback\":null},\"id\":\"1330\",\"type\":\"DataRange1d\"},{\"attributes\":{\"axis_label\":\"-log10(p-value)\",\"formatter\":{\"id\":\"1388\",\"type\":\"BasicTickFormatter\"},\"ticker\":{\"id\":\"1337\",\"type\":\"BasicTicker\"}},\"id\":\"1336\",\"type\":\"LinearAxis\"}],\"root_ids\":[\"1326\"]},\"title\":\"Bokeh Application\",\"version\":\"1.2.0\"}};\n",
       "  var render_items = [{\"docid\":\"11dfbd2f-38f2-4ea1-9704-441f9e984e82\",\"roots\":{\"1326\":\"8b090bf0-5fc9-4ca0-9c35-88d4ea22c1e3\"}}];\n",
       "  root.Bokeh.embed.embed_items_notebook(docs_json, render_items);\n",
       "\n",
       "  }\n",
       "  if (root.Bokeh !== undefined) {\n",
       "    embed_document(root);\n",
       "  } else {\n",
       "    var attempts = 0;\n",
       "    var timer = setInterval(function(root) {\n",
       "      if (root.Bokeh !== undefined) {\n",
       "        embed_document(root);\n",
       "        clearInterval(timer);\n",
       "      }\n",
       "      attempts++;\n",
       "      if (attempts > 100) {\n",
       "        console.log(\"Bokeh: ERROR: Unable to run BokehJS code because BokehJS library is missing\");\n",
       "        clearInterval(timer);\n",
       "      }\n",
       "    }, 10, root)\n",
       "  }\n",
       "})(window);"
      ],
      "application/vnd.bokehjs_exec.v0+json": ""
     },
     "metadata": {
      "application/vnd.bokehjs_exec.v0+json": {
       "id": "1326"
      }
     },
     "output_type": "display_data"
    }
   ],
   "source": [
    "p = hl.plot.scatter(x=-hl.log10(gwas_with_imp.p_value),\n",
    "                    y=gwas_with_imp.importance, \n",
    "                    xlabel = '-log10(p-value)',\n",
    "                    ylabel = 'gini importance',\n",
    "                    hover_fields=dict(rs=gwas_with_imp.rsid, loc=gwas_with_imp.locus))\n",
    "show(p)"
   ]
  },
  {
   "cell_type": "markdown",
   "metadata": {},
   "source": [
    "_Fig 3: Compare gini importance vs logistic regresion p-values._"
   ]
  }
 ],
 "metadata": {
  "kernelspec": {
   "display_name": "Python 3",
   "language": "python",
   "name": "python3"
  },
  "language_info": {
   "codemirror_mode": {
    "name": "ipython",
    "version": 3
   },
   "file_extension": ".py",
   "mimetype": "text/x-python",
   "name": "python",
   "nbconvert_exporter": "python",
   "pygments_lexer": "ipython3",
   "version": "3.6.0"
  }
 },
 "nbformat": 4,
 "nbformat_minor": 2
}
