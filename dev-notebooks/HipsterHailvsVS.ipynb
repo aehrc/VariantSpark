{
 "cells": [
  {
   "cell_type": "markdown",
   "metadata": {},
   "source": [
    "VariantSpark integration with Hail 0.2\n",
    "==============================\n",
    "\n",
    "## Bootstrap\n",
    "\n",
    "Use `vshl.init()` to include `variant-spark` jar on the classpath. "
   ]
  },
  {
   "cell_type": "code",
   "execution_count": 1,
   "metadata": {},
   "outputs": [
    {
     "name": "stderr",
     "output_type": "stream",
     "text": [
      "using variant-spark jar at /Users/szu004/dev/variant-spark/target/variant-spark_2.11-0.3.0-SNAPSHOT-all.jar\n",
      "using hail jar at /Users/szu004/miniconda2/envs/hail/lib/python3.6/site-packages/hail/hail-all-spark.jar\n",
      "using hail jar at /Users/szu004/miniconda2/envs/hail/lib/python3.6/site-packages/hail/hail-all-spark.jar\n",
      "Running on Apache Spark version 2.4.1\n",
      "SparkUI available at http://szu004-mac-dp.nexus.csiro.au:4040\n",
      "Welcome to\n",
      "     __  __     <>__\n",
      "    / /_/ /__  __/ /\n",
      "   / __  / _ `/ / /\n",
      "  /_/ /_/\\_,_/_/_/   version 0.2.16-6da0d3571629\n",
      "LOGGING: writing to /Users/szu004/dev/variant-spark/dev-notebooks/hail-20190726-1435-0.2.16-6da0d3571629.log\n"
     ]
    }
   ],
   "source": [
    "import hail as hl\n",
    "import varspark.hail as vshl\n",
    "vshl.init()"
   ]
  },
  {
   "cell_type": "code",
   "execution_count": 2,
   "metadata": {},
   "outputs": [
    {
     "data": {
      "text/html": [
       "\n",
       "    <div class=\"bk-root\">\n",
       "        <a href=\"https://bokeh.pydata.org\" target=\"_blank\" class=\"bk-logo bk-logo-small bk-logo-notebook\"></a>\n",
       "        <span id=\"1001\">Loading BokehJS ...</span>\n",
       "    </div>"
      ]
     },
     "metadata": {},
     "output_type": "display_data"
    },
    {
     "data": {
      "application/javascript": [
       "\n",
       "(function(root) {\n",
       "  function now() {\n",
       "    return new Date();\n",
       "  }\n",
       "\n",
       "  var force = true;\n",
       "\n",
       "  if (typeof root._bokeh_onload_callbacks === \"undefined\" || force === true) {\n",
       "    root._bokeh_onload_callbacks = [];\n",
       "    root._bokeh_is_loading = undefined;\n",
       "  }\n",
       "\n",
       "  var JS_MIME_TYPE = 'application/javascript';\n",
       "  var HTML_MIME_TYPE = 'text/html';\n",
       "  var EXEC_MIME_TYPE = 'application/vnd.bokehjs_exec.v0+json';\n",
       "  var CLASS_NAME = 'output_bokeh rendered_html';\n",
       "\n",
       "  /**\n",
       "   * Render data to the DOM node\n",
       "   */\n",
       "  function render(props, node) {\n",
       "    var script = document.createElement(\"script\");\n",
       "    node.appendChild(script);\n",
       "  }\n",
       "\n",
       "  /**\n",
       "   * Handle when an output is cleared or removed\n",
       "   */\n",
       "  function handleClearOutput(event, handle) {\n",
       "    var cell = handle.cell;\n",
       "\n",
       "    var id = cell.output_area._bokeh_element_id;\n",
       "    var server_id = cell.output_area._bokeh_server_id;\n",
       "    // Clean up Bokeh references\n",
       "    if (id != null && id in Bokeh.index) {\n",
       "      Bokeh.index[id].model.document.clear();\n",
       "      delete Bokeh.index[id];\n",
       "    }\n",
       "\n",
       "    if (server_id !== undefined) {\n",
       "      // Clean up Bokeh references\n",
       "      var cmd = \"from bokeh.io.state import curstate; print(curstate().uuid_to_server['\" + server_id + \"'].get_sessions()[0].document.roots[0]._id)\";\n",
       "      cell.notebook.kernel.execute(cmd, {\n",
       "        iopub: {\n",
       "          output: function(msg) {\n",
       "            var id = msg.content.text.trim();\n",
       "            if (id in Bokeh.index) {\n",
       "              Bokeh.index[id].model.document.clear();\n",
       "              delete Bokeh.index[id];\n",
       "            }\n",
       "          }\n",
       "        }\n",
       "      });\n",
       "      // Destroy server and session\n",
       "      var cmd = \"import bokeh.io.notebook as ion; ion.destroy_server('\" + server_id + \"')\";\n",
       "      cell.notebook.kernel.execute(cmd);\n",
       "    }\n",
       "  }\n",
       "\n",
       "  /**\n",
       "   * Handle when a new output is added\n",
       "   */\n",
       "  function handleAddOutput(event, handle) {\n",
       "    var output_area = handle.output_area;\n",
       "    var output = handle.output;\n",
       "\n",
       "    // limit handleAddOutput to display_data with EXEC_MIME_TYPE content only\n",
       "    if ((output.output_type != \"display_data\") || (!output.data.hasOwnProperty(EXEC_MIME_TYPE))) {\n",
       "      return\n",
       "    }\n",
       "\n",
       "    var toinsert = output_area.element.find(\".\" + CLASS_NAME.split(' ')[0]);\n",
       "\n",
       "    if (output.metadata[EXEC_MIME_TYPE][\"id\"] !== undefined) {\n",
       "      toinsert[toinsert.length - 1].firstChild.textContent = output.data[JS_MIME_TYPE];\n",
       "      // store reference to embed id on output_area\n",
       "      output_area._bokeh_element_id = output.metadata[EXEC_MIME_TYPE][\"id\"];\n",
       "    }\n",
       "    if (output.metadata[EXEC_MIME_TYPE][\"server_id\"] !== undefined) {\n",
       "      var bk_div = document.createElement(\"div\");\n",
       "      bk_div.innerHTML = output.data[HTML_MIME_TYPE];\n",
       "      var script_attrs = bk_div.children[0].attributes;\n",
       "      for (var i = 0; i < script_attrs.length; i++) {\n",
       "        toinsert[toinsert.length - 1].firstChild.setAttribute(script_attrs[i].name, script_attrs[i].value);\n",
       "      }\n",
       "      // store reference to server id on output_area\n",
       "      output_area._bokeh_server_id = output.metadata[EXEC_MIME_TYPE][\"server_id\"];\n",
       "    }\n",
       "  }\n",
       "\n",
       "  function register_renderer(events, OutputArea) {\n",
       "\n",
       "    function append_mime(data, metadata, element) {\n",
       "      // create a DOM node to render to\n",
       "      var toinsert = this.create_output_subarea(\n",
       "        metadata,\n",
       "        CLASS_NAME,\n",
       "        EXEC_MIME_TYPE\n",
       "      );\n",
       "      this.keyboard_manager.register_events(toinsert);\n",
       "      // Render to node\n",
       "      var props = {data: data, metadata: metadata[EXEC_MIME_TYPE]};\n",
       "      render(props, toinsert[toinsert.length - 1]);\n",
       "      element.append(toinsert);\n",
       "      return toinsert\n",
       "    }\n",
       "\n",
       "    /* Handle when an output is cleared or removed */\n",
       "    events.on('clear_output.CodeCell', handleClearOutput);\n",
       "    events.on('delete.Cell', handleClearOutput);\n",
       "\n",
       "    /* Handle when a new output is added */\n",
       "    events.on('output_added.OutputArea', handleAddOutput);\n",
       "\n",
       "    /**\n",
       "     * Register the mime type and append_mime function with output_area\n",
       "     */\n",
       "    OutputArea.prototype.register_mime_type(EXEC_MIME_TYPE, append_mime, {\n",
       "      /* Is output safe? */\n",
       "      safe: true,\n",
       "      /* Index of renderer in `output_area.display_order` */\n",
       "      index: 0\n",
       "    });\n",
       "  }\n",
       "\n",
       "  // register the mime type if in Jupyter Notebook environment and previously unregistered\n",
       "  if (root.Jupyter !== undefined) {\n",
       "    var events = require('base/js/events');\n",
       "    var OutputArea = require('notebook/js/outputarea').OutputArea;\n",
       "\n",
       "    if (OutputArea.prototype.mime_types().indexOf(EXEC_MIME_TYPE) == -1) {\n",
       "      register_renderer(events, OutputArea);\n",
       "    }\n",
       "  }\n",
       "\n",
       "  \n",
       "  if (typeof (root._bokeh_timeout) === \"undefined\" || force === true) {\n",
       "    root._bokeh_timeout = Date.now() + 5000;\n",
       "    root._bokeh_failed_load = false;\n",
       "  }\n",
       "\n",
       "  var NB_LOAD_WARNING = {'data': {'text/html':\n",
       "     \"<div style='background-color: #fdd'>\\n\"+\n",
       "     \"<p>\\n\"+\n",
       "     \"BokehJS does not appear to have successfully loaded. If loading BokehJS from CDN, this \\n\"+\n",
       "     \"may be due to a slow or bad network connection. Possible fixes:\\n\"+\n",
       "     \"</p>\\n\"+\n",
       "     \"<ul>\\n\"+\n",
       "     \"<li>re-rerun `output_notebook()` to attempt to load from CDN again, or</li>\\n\"+\n",
       "     \"<li>use INLINE resources instead, as so:</li>\\n\"+\n",
       "     \"</ul>\\n\"+\n",
       "     \"<code>\\n\"+\n",
       "     \"from bokeh.resources import INLINE\\n\"+\n",
       "     \"output_notebook(resources=INLINE)\\n\"+\n",
       "     \"</code>\\n\"+\n",
       "     \"</div>\"}};\n",
       "\n",
       "  function display_loaded() {\n",
       "    var el = document.getElementById(\"1001\");\n",
       "    if (el != null) {\n",
       "      el.textContent = \"BokehJS is loading...\";\n",
       "    }\n",
       "    if (root.Bokeh !== undefined) {\n",
       "      if (el != null) {\n",
       "        el.textContent = \"BokehJS \" + root.Bokeh.version + \" successfully loaded.\";\n",
       "      }\n",
       "    } else if (Date.now() < root._bokeh_timeout) {\n",
       "      setTimeout(display_loaded, 100)\n",
       "    }\n",
       "  }\n",
       "\n",
       "\n",
       "  function run_callbacks() {\n",
       "    try {\n",
       "      root._bokeh_onload_callbacks.forEach(function(callback) {\n",
       "        if (callback != null)\n",
       "          callback();\n",
       "      });\n",
       "    } finally {\n",
       "      delete root._bokeh_onload_callbacks\n",
       "    }\n",
       "    console.debug(\"Bokeh: all callbacks have finished\");\n",
       "  }\n",
       "\n",
       "  function load_libs(css_urls, js_urls, callback) {\n",
       "    if (css_urls == null) css_urls = [];\n",
       "    if (js_urls == null) js_urls = [];\n",
       "\n",
       "    root._bokeh_onload_callbacks.push(callback);\n",
       "    if (root._bokeh_is_loading > 0) {\n",
       "      console.debug(\"Bokeh: BokehJS is being loaded, scheduling callback at\", now());\n",
       "      return null;\n",
       "    }\n",
       "    if (js_urls == null || js_urls.length === 0) {\n",
       "      run_callbacks();\n",
       "      return null;\n",
       "    }\n",
       "    console.debug(\"Bokeh: BokehJS not loaded, scheduling load and callback at\", now());\n",
       "    root._bokeh_is_loading = css_urls.length + js_urls.length;\n",
       "\n",
       "    function on_load() {\n",
       "      root._bokeh_is_loading--;\n",
       "      if (root._bokeh_is_loading === 0) {\n",
       "        console.debug(\"Bokeh: all BokehJS libraries/stylesheets loaded\");\n",
       "        run_callbacks()\n",
       "      }\n",
       "    }\n",
       "\n",
       "    function on_error() {\n",
       "      console.error(\"failed to load \" + url);\n",
       "    }\n",
       "\n",
       "    for (var i = 0; i < css_urls.length; i++) {\n",
       "      var url = css_urls[i];\n",
       "      const element = document.createElement(\"link\");\n",
       "      element.onload = on_load;\n",
       "      element.onerror = on_error;\n",
       "      element.rel = \"stylesheet\";\n",
       "      element.type = \"text/css\";\n",
       "      element.href = url;\n",
       "      console.debug(\"Bokeh: injecting link tag for BokehJS stylesheet: \", url);\n",
       "      document.body.appendChild(element);\n",
       "    }\n",
       "\n",
       "    for (var i = 0; i < js_urls.length; i++) {\n",
       "      var url = js_urls[i];\n",
       "      var element = document.createElement('script');\n",
       "      element.onload = on_load;\n",
       "      element.onerror = on_error;\n",
       "      element.async = false;\n",
       "      element.src = url;\n",
       "      console.debug(\"Bokeh: injecting script tag for BokehJS library: \", url);\n",
       "      document.head.appendChild(element);\n",
       "    }\n",
       "  };var element = document.getElementById(\"1001\");\n",
       "  if (element == null) {\n",
       "    console.error(\"Bokeh: ERROR: autoload.js configured with elementid '1001' but no matching script tag was found. \")\n",
       "    return false;\n",
       "  }\n",
       "\n",
       "  function inject_raw_css(css) {\n",
       "    const element = document.createElement(\"style\");\n",
       "    element.appendChild(document.createTextNode(css));\n",
       "    document.body.appendChild(element);\n",
       "  }\n",
       "\n",
       "  var js_urls = [\"https://cdn.pydata.org/bokeh/release/bokeh-1.2.0.min.js\", \"https://cdn.pydata.org/bokeh/release/bokeh-widgets-1.2.0.min.js\", \"https://cdn.pydata.org/bokeh/release/bokeh-tables-1.2.0.min.js\", \"https://cdn.pydata.org/bokeh/release/bokeh-gl-1.2.0.min.js\"];\n",
       "  var css_urls = [\"https://cdn.pydata.org/bokeh/release/bokeh-1.2.0.min.css\", \"https://cdn.pydata.org/bokeh/release/bokeh-widgets-1.2.0.min.css\", \"https://cdn.pydata.org/bokeh/release/bokeh-tables-1.2.0.min.css\"];\n",
       "\n",
       "  var inline_js = [\n",
       "    function(Bokeh) {\n",
       "      Bokeh.set_log_level(\"info\");\n",
       "    },\n",
       "    \n",
       "    function(Bokeh) {\n",
       "      \n",
       "    },\n",
       "    function(Bokeh) {} // ensure no trailing comma for IE\n",
       "  ];\n",
       "\n",
       "  function run_inline_js() {\n",
       "    \n",
       "    if ((root.Bokeh !== undefined) || (force === true)) {\n",
       "      for (var i = 0; i < inline_js.length; i++) {\n",
       "        inline_js[i].call(root, root.Bokeh);\n",
       "      }if (force === true) {\n",
       "        display_loaded();\n",
       "      }} else if (Date.now() < root._bokeh_timeout) {\n",
       "      setTimeout(run_inline_js, 100);\n",
       "    } else if (!root._bokeh_failed_load) {\n",
       "      console.log(\"Bokeh: BokehJS failed to load within specified timeout.\");\n",
       "      root._bokeh_failed_load = true;\n",
       "    } else if (force !== true) {\n",
       "      var cell = $(document.getElementById(\"1001\")).parents('.cell').data().cell;\n",
       "      cell.output_area.append_execute_result(NB_LOAD_WARNING)\n",
       "    }\n",
       "\n",
       "  }\n",
       "\n",
       "  if (root._bokeh_is_loading === 0) {\n",
       "    console.debug(\"Bokeh: BokehJS loaded, going straight to plotting\");\n",
       "    run_inline_js();\n",
       "  } else {\n",
       "    load_libs(css_urls, js_urls, function() {\n",
       "      console.debug(\"Bokeh: BokehJS plotting callback run at\", now());\n",
       "      run_inline_js();\n",
       "    });\n",
       "  }\n",
       "}(window));"
      ],
      "application/vnd.bokehjs_load.v0+json": "\n(function(root) {\n  function now() {\n    return new Date();\n  }\n\n  var force = true;\n\n  if (typeof root._bokeh_onload_callbacks === \"undefined\" || force === true) {\n    root._bokeh_onload_callbacks = [];\n    root._bokeh_is_loading = undefined;\n  }\n\n  \n\n  \n  if (typeof (root._bokeh_timeout) === \"undefined\" || force === true) {\n    root._bokeh_timeout = Date.now() + 5000;\n    root._bokeh_failed_load = false;\n  }\n\n  var NB_LOAD_WARNING = {'data': {'text/html':\n     \"<div style='background-color: #fdd'>\\n\"+\n     \"<p>\\n\"+\n     \"BokehJS does not appear to have successfully loaded. If loading BokehJS from CDN, this \\n\"+\n     \"may be due to a slow or bad network connection. Possible fixes:\\n\"+\n     \"</p>\\n\"+\n     \"<ul>\\n\"+\n     \"<li>re-rerun `output_notebook()` to attempt to load from CDN again, or</li>\\n\"+\n     \"<li>use INLINE resources instead, as so:</li>\\n\"+\n     \"</ul>\\n\"+\n     \"<code>\\n\"+\n     \"from bokeh.resources import INLINE\\n\"+\n     \"output_notebook(resources=INLINE)\\n\"+\n     \"</code>\\n\"+\n     \"</div>\"}};\n\n  function display_loaded() {\n    var el = document.getElementById(\"1001\");\n    if (el != null) {\n      el.textContent = \"BokehJS is loading...\";\n    }\n    if (root.Bokeh !== undefined) {\n      if (el != null) {\n        el.textContent = \"BokehJS \" + root.Bokeh.version + \" successfully loaded.\";\n      }\n    } else if (Date.now() < root._bokeh_timeout) {\n      setTimeout(display_loaded, 100)\n    }\n  }\n\n\n  function run_callbacks() {\n    try {\n      root._bokeh_onload_callbacks.forEach(function(callback) {\n        if (callback != null)\n          callback();\n      });\n    } finally {\n      delete root._bokeh_onload_callbacks\n    }\n    console.debug(\"Bokeh: all callbacks have finished\");\n  }\n\n  function load_libs(css_urls, js_urls, callback) {\n    if (css_urls == null) css_urls = [];\n    if (js_urls == null) js_urls = [];\n\n    root._bokeh_onload_callbacks.push(callback);\n    if (root._bokeh_is_loading > 0) {\n      console.debug(\"Bokeh: BokehJS is being loaded, scheduling callback at\", now());\n      return null;\n    }\n    if (js_urls == null || js_urls.length === 0) {\n      run_callbacks();\n      return null;\n    }\n    console.debug(\"Bokeh: BokehJS not loaded, scheduling load and callback at\", now());\n    root._bokeh_is_loading = css_urls.length + js_urls.length;\n\n    function on_load() {\n      root._bokeh_is_loading--;\n      if (root._bokeh_is_loading === 0) {\n        console.debug(\"Bokeh: all BokehJS libraries/stylesheets loaded\");\n        run_callbacks()\n      }\n    }\n\n    function on_error() {\n      console.error(\"failed to load \" + url);\n    }\n\n    for (var i = 0; i < css_urls.length; i++) {\n      var url = css_urls[i];\n      const element = document.createElement(\"link\");\n      element.onload = on_load;\n      element.onerror = on_error;\n      element.rel = \"stylesheet\";\n      element.type = \"text/css\";\n      element.href = url;\n      console.debug(\"Bokeh: injecting link tag for BokehJS stylesheet: \", url);\n      document.body.appendChild(element);\n    }\n\n    for (var i = 0; i < js_urls.length; i++) {\n      var url = js_urls[i];\n      var element = document.createElement('script');\n      element.onload = on_load;\n      element.onerror = on_error;\n      element.async = false;\n      element.src = url;\n      console.debug(\"Bokeh: injecting script tag for BokehJS library: \", url);\n      document.head.appendChild(element);\n    }\n  };var element = document.getElementById(\"1001\");\n  if (element == null) {\n    console.error(\"Bokeh: ERROR: autoload.js configured with elementid '1001' but no matching script tag was found. \")\n    return false;\n  }\n\n  function inject_raw_css(css) {\n    const element = document.createElement(\"style\");\n    element.appendChild(document.createTextNode(css));\n    document.body.appendChild(element);\n  }\n\n  var js_urls = [\"https://cdn.pydata.org/bokeh/release/bokeh-1.2.0.min.js\", \"https://cdn.pydata.org/bokeh/release/bokeh-widgets-1.2.0.min.js\", \"https://cdn.pydata.org/bokeh/release/bokeh-tables-1.2.0.min.js\", \"https://cdn.pydata.org/bokeh/release/bokeh-gl-1.2.0.min.js\"];\n  var css_urls = [\"https://cdn.pydata.org/bokeh/release/bokeh-1.2.0.min.css\", \"https://cdn.pydata.org/bokeh/release/bokeh-widgets-1.2.0.min.css\", \"https://cdn.pydata.org/bokeh/release/bokeh-tables-1.2.0.min.css\"];\n\n  var inline_js = [\n    function(Bokeh) {\n      Bokeh.set_log_level(\"info\");\n    },\n    \n    function(Bokeh) {\n      \n    },\n    function(Bokeh) {} // ensure no trailing comma for IE\n  ];\n\n  function run_inline_js() {\n    \n    if ((root.Bokeh !== undefined) || (force === true)) {\n      for (var i = 0; i < inline_js.length; i++) {\n        inline_js[i].call(root, root.Bokeh);\n      }if (force === true) {\n        display_loaded();\n      }} else if (Date.now() < root._bokeh_timeout) {\n      setTimeout(run_inline_js, 100);\n    } else if (!root._bokeh_failed_load) {\n      console.log(\"Bokeh: BokehJS failed to load within specified timeout.\");\n      root._bokeh_failed_load = true;\n    } else if (force !== true) {\n      var cell = $(document.getElementById(\"1001\")).parents('.cell').data().cell;\n      cell.output_area.append_execute_result(NB_LOAD_WARNING)\n    }\n\n  }\n\n  if (root._bokeh_is_loading === 0) {\n    console.debug(\"Bokeh: BokehJS loaded, going straight to plotting\");\n    run_inline_js();\n  } else {\n    load_libs(css_urls, js_urls, function() {\n      console.debug(\"Bokeh: BokehJS plotting callback run at\", now());\n      run_inline_js();\n    });\n  }\n}(window));"
     },
     "metadata": {},
     "output_type": "display_data"
    }
   ],
   "source": [
    "from hail.plot import show\n",
    "from pprint import pprint\n",
    "hl.plot.output_notebook()"
   ]
  },
  {
   "cell_type": "markdown",
   "metadata": {},
   "source": [
    "# Load and explore hipster data"
   ]
  },
  {
   "cell_type": "code",
   "execution_count": 3,
   "metadata": {},
   "outputs": [],
   "source": [
    "data = hl.import_vcf('../data/hipsterIndex/hipster.vcf.bgz')"
   ]
  },
  {
   "cell_type": "code",
   "execution_count": 4,
   "metadata": {},
   "outputs": [
    {
     "name": "stderr",
     "output_type": "stream",
     "text": [
      "2019-07-26 14:35:08 Hail: INFO: Reading table with no type imputation\n",
      "  Loading column 'samples' as type 'str' (type not specified)\n",
      "  Loading column 'score' as type 'float64' (user-specified)\n",
      "  Loading column 'label' as type 'float64' (user-specified)\n",
      "\n"
     ]
    }
   ],
   "source": [
    "labels = hl.import_table('../data/hipsterIndex/hipster_labels.txt', delimiter=',', \n",
    "                types=dict(label='float64', score='float64')).key_by('samples')"
   ]
  },
  {
   "cell_type": "code",
   "execution_count": 5,
   "metadata": {},
   "outputs": [
    {
     "name": "stdout",
     "output_type": "stream",
     "text": [
      "----------------------------------------\n",
      "Global fields:\n",
      "    None\n",
      "----------------------------------------\n",
      "Column fields:\n",
      "    's': str\n",
      "    'hipster': struct {\n",
      "        score: float64, \n",
      "        label: float64\n",
      "    }\n",
      "----------------------------------------\n",
      "Row fields:\n",
      "    'locus': locus<GRCh37>\n",
      "    'alleles': array<str>\n",
      "    'rsid': str\n",
      "    'qual': float64\n",
      "    'filters': set<str>\n",
      "    'info': struct {\n",
      "        AA: str, \n",
      "        AC: array<int32>, \n",
      "        AF: array<float64>, \n",
      "        AFR_AF: array<float64>, \n",
      "        AMR_AF: array<float64>, \n",
      "        AN: int32, \n",
      "        CIEND: array<int32>, \n",
      "        CIPOS: array<int32>, \n",
      "        CS: str, \n",
      "        DP: int32, \n",
      "        EAS_AF: array<float64>, \n",
      "        END: int32, \n",
      "        EUR_AF: array<float64>, \n",
      "        EX_TARGET: bool, \n",
      "        IMPRECISE: bool, \n",
      "        MC: array<str>, \n",
      "        MEINFO: array<str>, \n",
      "        MEND: int32, \n",
      "        MLEN: int32, \n",
      "        MSTART: int32, \n",
      "        MULTI_ALLELIC: bool, \n",
      "        NS: int32, \n",
      "        SAS_AF: array<float64>, \n",
      "        SVLEN: array<int32>, \n",
      "        SVTYPE: str, \n",
      "        TSD: str, \n",
      "        VT: array<str>\n",
      "    }\n",
      "----------------------------------------\n",
      "Entry fields:\n",
      "    'GT': call\n",
      "----------------------------------------\n",
      "Column key: ['s']\n",
      "Row key: ['locus', 'alleles']\n",
      "----------------------------------------\n"
     ]
    }
   ],
   "source": [
    "mt = data.annotate_cols(hipster = labels[data.s])\n",
    "mt.describe()"
   ]
  },
  {
   "cell_type": "code",
   "execution_count": 6,
   "metadata": {},
   "outputs": [
    {
     "name": "stderr",
     "output_type": "stream",
     "text": [
      "2019-07-26 14:35:10 Hail: INFO: Coerced almost-sorted dataset\n"
     ]
    },
    {
     "data": {
      "text/plain": [
       "(17010, 2504)"
      ]
     },
     "execution_count": 6,
     "metadata": {},
     "output_type": "execute_result"
    }
   ],
   "source": [
    "mt.count()"
   ]
  },
  {
   "cell_type": "markdown",
   "metadata": {},
   "source": [
    "## Run log regression using Hail"
   ]
  },
  {
   "cell_type": "code",
   "execution_count": 7,
   "metadata": {},
   "outputs": [
    {
     "name": "stderr",
     "output_type": "stream",
     "text": [
      "2019-07-26 14:35:13 Hail: INFO: logistic_regression_rows: running score on 2504 samples for response variable y,\n",
      "    with input variable x, and 1 additional covariate...\n"
     ]
    }
   ],
   "source": [
    "gwas = hl.logistic_regression_rows(test='score',\n",
    "                                y=mt.hipster.label,\n",
    "                                 x=mt.GT.n_alt_alleles(),\n",
    "                                 covariates=[1.0],\n",
    "                                 pass_through=[mt.rsid])"
   ]
  },
  {
   "cell_type": "code",
   "execution_count": 8,
   "metadata": {},
   "outputs": [
    {
     "data": {
      "text/html": [
       "<table><thead style=\"font-weight: bold;\"><tr><td>locus</td><td>alleles</td><td>rsid</td><td>chi_sq_stat</td><td>p_value</td></tr>\n",
       "<tr><td>locus&lt;GRCh37&gt;</td><td>array&lt;str&gt;</td><td>str</td><td>float64</td><td>float64</td></tr>\n",
       "</thead><tbody><tr><td>2:109511398</td><td>[&quot;G&quot;,&quot;A&quot;]</td><td>&quot;rs150055772&quot;</td><td>1.97e-01</td><td>6.57e-01</td></tr>\n",
       "<tr><td>2:109511454</td><td>[&quot;C&quot;,&quot;A&quot;]</td><td>&quot;rs558429529&quot;</td><td>1.55e+00</td><td>2.13e-01</td></tr>\n",
       "<tr><td>2:109511463</td><td>[&quot;G&quot;,&quot;A&quot;]</td><td>&quot;rs200762071&quot;</td><td>3.65e+00</td><td>5.60e-02</td></tr>\n",
       "</tbody></table><p>showing top 3 rows</p>\n"
      ],
      "text/plain": [
       "+---------------+------------+---------------+-------------+----------+\n",
       "| locus         | alleles    | rsid          | chi_sq_stat |  p_value |\n",
       "+---------------+------------+---------------+-------------+----------+\n",
       "| locus<GRCh37> | array<str> | str           |     float64 |  float64 |\n",
       "+---------------+------------+---------------+-------------+----------+\n",
       "| 2:109511398   | [\"G\",\"A\"]  | \"rs150055772\" |    1.97e-01 | 6.57e-01 |\n",
       "| 2:109511454   | [\"C\",\"A\"]  | \"rs558429529\" |    1.55e+00 | 2.13e-01 |\n",
       "| 2:109511463   | [\"G\",\"A\"]  | \"rs200762071\" |    3.65e+00 | 5.60e-02 |\n",
       "+---------------+------------+---------------+-------------+----------+\n",
       "showing top 3 rows"
      ]
     },
     "metadata": {},
     "output_type": "display_data"
    }
   ],
   "source": [
    "gwas.show(3)"
   ]
  },
  {
   "cell_type": "code",
   "execution_count": 9,
   "metadata": {},
   "outputs": [
    {
     "data": {
      "text/html": [
       "\n",
       "\n",
       "\n",
       "\n",
       "\n",
       "\n",
       "  <div class=\"bk-root\" id=\"94e5b391-5706-4ed1-8505-a4e24b13f1cd\" data-root-id=\"1003\"></div>\n"
      ]
     },
     "metadata": {},
     "output_type": "display_data"
    },
    {
     "data": {
      "application/javascript": [
       "(function(root) {\n",
       "  function embed_document(root) {\n",
       "    \n",
       "  var docs_json = {\"7a81f975-2f52-4ba3-9182-c3eb6bc51edf\":{\"roots\":{\"references\":[{\"attributes\":{\"below\":[{\"id\":\"1013\",\"type\":\"LinearAxis\"}],\"center\":[{\"id\":\"1017\",\"type\":\"Grid\"},{\"id\":\"1022\",\"type\":\"Grid\"}],\"left\":[{\"id\":\"1018\",\"type\":\"LinearAxis\"},{\"id\":\"1074\",\"type\":\"Legend\"},{\"id\":\"1075\",\"type\":\"ColorBar\"}],\"plot_width\":1000,\"renderers\":[{\"id\":\"1044\",\"type\":\"GlyphRenderer\"},{\"id\":\"1050\",\"type\":\"GlyphRenderer\"},{\"id\":\"1056\",\"type\":\"GlyphRenderer\"},{\"id\":\"1062\",\"type\":\"GlyphRenderer\"},{\"id\":\"1068\",\"type\":\"GlyphRenderer\"},{\"id\":\"1096\",\"type\":\"Span\"}],\"title\":null,\"toolbar\":{\"id\":\"1029\",\"type\":\"Toolbar\"},\"x_range\":{\"id\":\"1005\",\"type\":\"DataRange1d\"},\"x_scale\":{\"id\":\"1009\",\"type\":\"LinearScale\"},\"y_range\":{\"id\":\"1007\",\"type\":\"DataRange1d\"},\"y_scale\":{\"id\":\"1011\",\"type\":\"LinearScale\"}},\"id\":\"1003\",\"subtype\":\"Figure\",\"type\":\"Plot\"},{\"attributes\":{\"fill_color\":{\"field\":\"_contig\",\"transform\":{\"id\":\"1002\",\"type\":\"CategoricalColorMapper\"}},\"line_color\":{\"field\":\"_contig\",\"transform\":{\"id\":\"1002\",\"type\":\"CategoricalColorMapper\"}},\"x\":{\"field\":\"_global_locus\"},\"y\":{\"field\":\"_pval\"}},\"id\":\"1060\",\"type\":\"Circle\"},{\"attributes\":{},\"id\":\"1028\",\"type\":\"HelpTool\"},{\"attributes\":{\"label\":{\"value\":\"15\"},\"renderers\":[{\"id\":\"1044\",\"type\":\"GlyphRenderer\"}]},\"id\":\"1069\",\"type\":\"LegendItem\"},{\"attributes\":{\"fill_color\":{\"field\":\"_contig\",\"transform\":{\"id\":\"1002\",\"type\":\"CategoricalColorMapper\"}},\"line_color\":{\"field\":\"_contig\",\"transform\":{\"id\":\"1002\",\"type\":\"CategoricalColorMapper\"}},\"x\":{\"field\":\"_global_locus\"},\"y\":{\"field\":\"_pval\"}},\"id\":\"1054\",\"type\":\"Circle\"},{\"attributes\":{\"label\":{\"value\":\"2\"},\"renderers\":[{\"id\":\"1050\",\"type\":\"GlyphRenderer\"}]},\"id\":\"1070\",\"type\":\"LegendItem\"},{\"attributes\":{},\"id\":\"1086\",\"type\":\"Selection\"},{\"attributes\":{\"filters\":[{\"id\":\"1057\",\"type\":\"GroupFilter\"}],\"source\":{\"id\":\"1038\",\"type\":\"ColumnDataSource\"}},\"id\":\"1058\",\"type\":\"CDSView\"},{\"attributes\":{\"data_source\":{\"id\":\"1038\",\"type\":\"ColumnDataSource\"},\"glyph\":{\"id\":\"1060\",\"type\":\"Circle\"},\"hover_glyph\":null,\"muted_glyph\":null,\"nonselection_glyph\":{\"id\":\"1061\",\"type\":\"Circle\"},\"selection_glyph\":null,\"view\":{\"id\":\"1058\",\"type\":\"CDSView\"}},\"id\":\"1062\",\"type\":\"GlyphRenderer\"},{\"attributes\":{\"axis_label\":\"Chromosome\",\"formatter\":{\"id\":\"1083\",\"type\":\"BasicTickFormatter\"},\"major_label_overrides\":{\"1313226357\":\"7\",\"2358551414\":\"15\",\"370850306\":\"2\",\"786049561\":\"4\",\"972084329\":\"5\"},\"ticker\":{\"id\":\"1076\",\"type\":\"FixedTicker\"}},\"id\":\"1013\",\"type\":\"LinearAxis\"},{\"attributes\":{\"ticker\":{\"id\":\"1014\",\"type\":\"BasicTicker\"}},\"id\":\"1017\",\"type\":\"Grid\"},{\"attributes\":{\"line_color\":{\"value\":\"red\"},\"line_dash\":[6],\"line_width\":{\"value\":1.5},\"location\":7.301029995663981},\"id\":\"1096\",\"type\":\"Span\"},{\"attributes\":{\"filters\":[{\"id\":\"1051\",\"type\":\"GroupFilter\"}],\"source\":{\"id\":\"1038\",\"type\":\"ColumnDataSource\"}},\"id\":\"1052\",\"type\":\"CDSView\"},{\"attributes\":{},\"id\":\"1023\",\"type\":\"PanTool\"},{\"attributes\":{\"axis_label\":\"P-value (-log10 scale)\",\"formatter\":{\"id\":\"1079\",\"type\":\"BasicTickFormatter\"},\"ticker\":{\"id\":\"1019\",\"type\":\"BasicTicker\"}},\"id\":\"1018\",\"type\":\"LinearAxis\"},{\"attributes\":{\"fill_alpha\":{\"value\":0.1},\"fill_color\":{\"value\":\"#1f77b4\"},\"line_alpha\":{\"value\":0.1},\"line_color\":{\"value\":\"#1f77b4\"},\"x\":{\"field\":\"_global_locus\"},\"y\":{\"field\":\"_pval\"}},\"id\":\"1061\",\"type\":\"Circle\"},{\"attributes\":{\"ticks\":[370850306,786049561,972084329,1313226357,2358551414]},\"id\":\"1076\",\"type\":\"FixedTicker\"},{\"attributes\":{\"active_drag\":\"auto\",\"active_inspect\":\"auto\",\"active_multi\":null,\"active_scroll\":\"auto\",\"active_tap\":\"auto\",\"tools\":[{\"id\":\"1023\",\"type\":\"PanTool\"},{\"id\":\"1024\",\"type\":\"WheelZoomTool\"},{\"id\":\"1025\",\"type\":\"BoxZoomTool\"},{\"id\":\"1026\",\"type\":\"SaveTool\"},{\"id\":\"1027\",\"type\":\"ResetTool\"},{\"id\":\"1028\",\"type\":\"HelpTool\"},{\"id\":\"1037\",\"type\":\"HoverTool\"}]},\"id\":\"1029\",\"type\":\"Toolbar\"},{\"attributes\":{\"callback\":null},\"id\":\"1007\",\"type\":\"DataRange1d\"},{\"attributes\":{\"column_name\":\"_contig\",\"group\":\"15\"},\"id\":\"1039\",\"type\":\"GroupFilter\"},{\"attributes\":{\"bottom_units\":\"screen\",\"fill_alpha\":{\"value\":0.5},\"fill_color\":{\"value\":\"lightgrey\"},\"left_units\":\"screen\",\"level\":\"overlay\",\"line_alpha\":{\"value\":1.0},\"line_color\":{\"value\":\"black\"},\"line_dash\":[4,4],\"line_width\":{\"value\":2},\"render_mode\":\"css\",\"right_units\":\"screen\",\"top_units\":\"screen\"},\"id\":\"1084\",\"type\":\"BoxAnnotation\"},{\"attributes\":{},\"id\":\"1085\",\"type\":\"UnionRenderers\"},{\"attributes\":{},\"id\":\"1009\",\"type\":\"LinearScale\"},{\"attributes\":{\"fill_color\":{\"field\":\"_contig\",\"transform\":{\"id\":\"1002\",\"type\":\"CategoricalColorMapper\"}},\"line_color\":{\"field\":\"_contig\",\"transform\":{\"id\":\"1002\",\"type\":\"CategoricalColorMapper\"}},\"x\":{\"field\":\"_global_locus\"},\"y\":{\"field\":\"_pval\"}},\"id\":\"1042\",\"type\":\"Circle\"},{\"attributes\":{\"filters\":[{\"id\":\"1045\",\"type\":\"GroupFilter\"}],\"source\":{\"id\":\"1038\",\"type\":\"ColumnDataSource\"}},\"id\":\"1046\",\"type\":\"CDSView\"},{\"attributes\":{},\"id\":\"1024\",\"type\":\"WheelZoomTool\"},{\"attributes\":{},\"id\":\"1082\",\"type\":\"BasicTicker\"},{\"attributes\":{\"color_mapper\":null,\"formatter\":{\"id\":\"1081\",\"type\":\"BasicTickFormatter\"},\"ticker\":{\"id\":\"1082\",\"type\":\"BasicTicker\"},\"visible\":false},\"id\":\"1075\",\"type\":\"ColorBar\"},{\"attributes\":{\"fill_alpha\":{\"value\":0.1},\"fill_color\":{\"value\":\"#1f77b4\"},\"line_alpha\":{\"value\":0.1},\"line_color\":{\"value\":\"#1f77b4\"},\"x\":{\"field\":\"_global_locus\"},\"y\":{\"field\":\"_pval\"}},\"id\":\"1043\",\"type\":\"Circle\"},{\"attributes\":{\"column_name\":\"_contig\",\"group\":\"4\"},\"id\":\"1051\",\"type\":\"GroupFilter\"},{\"attributes\":{\"data_source\":{\"id\":\"1038\",\"type\":\"ColumnDataSource\"},\"glyph\":{\"id\":\"1048\",\"type\":\"Circle\"},\"hover_glyph\":null,\"muted_glyph\":null,\"nonselection_glyph\":{\"id\":\"1049\",\"type\":\"Circle\"},\"selection_glyph\":null,\"view\":{\"id\":\"1046\",\"type\":\"CDSView\"}},\"id\":\"1050\",\"type\":\"GlyphRenderer\"},{\"attributes\":{\"dimension\":1,\"ticker\":{\"id\":\"1019\",\"type\":\"BasicTicker\"}},\"id\":\"1022\",\"type\":\"Grid\"},{\"attributes\":{},\"id\":\"1011\",\"type\":\"LinearScale\"},{\"attributes\":{\"data_source\":{\"id\":\"1038\",\"type\":\"ColumnDataSource\"},\"glyph\":{\"id\":\"1054\",\"type\":\"Circle\"},\"hover_glyph\":null,\"muted_glyph\":null,\"nonselection_glyph\":{\"id\":\"1055\",\"type\":\"Circle\"},\"selection_glyph\":null,\"view\":{\"id\":\"1052\",\"type\":\"CDSView\"}},\"id\":\"1056\",\"type\":\"GlyphRenderer\"},{\"attributes\":{\"fill_alpha\":{\"value\":0.1},\"fill_color\":{\"value\":\"#1f77b4\"},\"line_alpha\":{\"value\":0.1},\"line_color\":{\"value\":\"#1f77b4\"},\"x\":{\"field\":\"_global_locus\"},\"y\":{\"field\":\"_pval\"}},\"id\":\"1055\",\"type\":\"Circle\"},{\"attributes\":{\"click_policy\":\"hide\",\"items\":[{\"id\":\"1069\",\"type\":\"LegendItem\"},{\"id\":\"1070\",\"type\":\"LegendItem\"},{\"id\":\"1071\",\"type\":\"LegendItem\"},{\"id\":\"1072\",\"type\":\"LegendItem\"},{\"id\":\"1073\",\"type\":\"LegendItem\"}],\"visible\":false},\"id\":\"1074\",\"type\":\"Legend\"},{\"attributes\":{},\"id\":\"1019\",\"type\":\"BasicTicker\"},{\"attributes\":{},\"id\":\"1027\",\"type\":\"ResetTool\"},{\"attributes\":{\"filters\":[{\"id\":\"1039\",\"type\":\"GroupFilter\"}],\"source\":{\"id\":\"1038\",\"type\":\"ColumnDataSource\"}},\"id\":\"1040\",\"type\":\"CDSView\"},{\"attributes\":{\"column_name\":\"_contig\",\"group\":\"5\"},\"id\":\"1057\",\"type\":\"GroupFilter\"},{\"attributes\":{\"overlay\":{\"id\":\"1084\",\"type\":\"BoxAnnotation\"}},\"id\":\"1025\",\"type\":\"BoxZoomTool\"},{\"attributes\":{\"label\":{\"value\":\"7\"},\"renderers\":[{\"id\":\"1068\",\"type\":\"GlyphRenderer\"}]},\"id\":\"1073\",\"type\":\"LegendItem\"},{\"attributes\":{\"label\":{\"value\":\"5\"},\"renderers\":[{\"id\":\"1062\",\"type\":\"GlyphRenderer\"}]},\"id\":\"1072\",\"type\":\"LegendItem\"},{\"attributes\":{\"callback\":null,\"tooltips\":[[\"locus\",\"@locus\"],[\"rs\",\"@rs\"],[\"p_value\",\"@p_value\"]]},\"id\":\"1037\",\"type\":\"HoverTool\"},{\"attributes\":{\"column_name\":\"_contig\",\"group\":\"2\"},\"id\":\"1045\",\"type\":\"GroupFilter\"},{\"attributes\":{\"callback\":null},\"id\":\"1005\",\"type\":\"DataRange1d\"},{\"attributes\":{},\"id\":\"1026\",\"type\":\"SaveTool\"},{\"attributes\":{\"data_source\":{\"id\":\"1038\",\"type\":\"ColumnDataSource\"},\"glyph\":{\"id\":\"1066\",\"type\":\"Circle\"},\"hover_glyph\":null,\"muted_glyph\":null,\"nonselection_glyph\":{\"id\":\"1067\",\"type\":\"Circle\"},\"selection_glyph\":null,\"view\":{\"id\":\"1064\",\"type\":\"CDSView\"}},\"id\":\"1068\",\"type\":\"GlyphRenderer\"},{\"attributes\":{\"callback\":null,\"data\":{\"_contig\":[\"5\",\"15\",\"15\",\"5\",\"5\",\"5\",\"15\",\"5\",\"5\",\"5\",\"15\",\"5\",\"7\",\"5\",\"15\",\"5\",\"5\",\"2\",\"2\",\"5\",\"5\",\"5\",\"15\",\"4\",\"2\",\"5\",\"5\",\"5\",\"5\",\"7\",\"5\",\"15\",\"5\",\"2\",\"15\",\"5\",\"15\",\"5\",\"5\",\"5\",\"15\",\"15\",\"7\",\"2\",\"2\",\"5\",\"5\",\"2\",\"5\",\"4\",\"7\",\"5\",\"2\",\"2\",\"5\",\"5\",\"5\",\"5\",\"7\",\"2\",\"2\",\"15\",\"5\",\"5\",\"5\",\"15\",\"4\",\"5\",\"4\",\"7\",\"5\",\"5\",\"15\",\"5\",\"5\",\"2\",\"7\",\"4\",\"5\",\"5\",\"2\",\"2\",\"5\",\"7\",\"5\",\"5\",\"2\",\"5\",\"5\",\"7\",\"5\",\"5\",\"5\",\"15\",\"15\",\"4\",\"2\",\"7\",\"2\",\"4\",\"5\",\"5\",\"5\",\"5\",\"5\",\"2\",\"2\",\"7\",\"5\",\"5\",\"7\",\"5\",\"2\",\"2\",\"5\",\"5\",\"15\",\"5\",\"15\",\"5\",\"15\",\"5\",\"15\",\"7\",\"5\",\"15\",\"15\",\"5\",\"5\",\"5\",\"2\",\"7\",\"5\",\"2\",\"15\",\"7\",\"15\",\"5\",\"5\",\"15\",\"5\",\"5\",\"5\",\"7\",\"5\",\"5\",\"7\",\"5\",\"5\",\"7\",\"5\",\"2\",\"2\",\"5\",\"5\",\"15\",\"2\",\"5\",\"15\",\"5\",\"15\",\"4\",\"4\",\"15\",\"5\",\"5\",\"5\",\"5\",\"5\",\"2\",\"15\",\"4\",\"15\",\"5\",\"15\",\"7\",\"15\",\"2\",\"15\",\"2\",\"5\",\"5\",\"5\",\"5\",\"5\",\"2\",\"5\",\"5\",\"5\",\"7\",\"5\",\"5\",\"5\",\"15\",\"2\",\"2\",\"7\",\"2\",\"5\",\"5\",\"2\",\"15\",\"2\",\"5\",\"5\",\"4\",\"5\",\"5\",\"7\",\"5\",\"5\",\"5\",\"4\",\"4\",\"5\",\"5\",\"4\",\"5\",\"7\",\"5\",\"5\",\"2\",\"5\",\"7\",\"15\",\"5\",\"5\",\"15\",\"5\",\"15\",\"5\",\"7\",\"5\",\"5\",\"15\",\"2\",\"4\",\"4\",\"5\",\"5\",\"15\",\"7\",\"4\",\"2\",\"7\",\"5\",\"5\",\"7\",\"5\",\"5\",\"5\",\"5\",\"5\",\"5\",\"15\",\"5\",\"5\",\"15\",\"5\",\"5\",\"5\",\"5\",\"5\",\"15\",\"15\",\"5\",\"5\",\"5\",\"15\",\"5\",\"5\",\"5\",\"7\",\"5\",\"2\",\"5\",\"5\",\"5\",\"2\",\"5\",\"5\",\"5\",\"5\",\"7\",\"5\",\"15\",\"2\",\"5\",\"7\",\"5\"],\"_global_locus\":{\"__ndarray__\":\"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\",\"dtype\":\"float64\",\"shape\":[290]},\"_pval\":{\"__ndarray__\":\"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\",\"dtype\":\"float64\",\"shape\":[290]},\"index\":[0,1,2,3,4,5,6,7,8,9,10,11,12,13,14,15,16,17,18,19,20,21,22,23,24,25,26,27,28,29,30,31,32,33,34,35,36,37,38,39,40,41,42,43,44,45,46,47,48,49,50,51,52,53,54,55,56,57,58,59,60,61,62,63,64,65,66,67,68,69,70,71,72,73,74,75,76,77,78,79,80,81,82,83,84,85,86,87,88,89,90,91,92,93,94,95,96,97,98,99,100,101,102,103,104,105,106,107,108,109,110,111,112,113,114,115,116,117,118,119,120,121,122,123,124,125,126,127,128,129,130,131,132,133,134,135,136,137,138,139,140,141,142,143,144,145,146,147,148,149,150,151,152,153,154,155,156,157,158,159,160,161,162,163,164,165,166,167,168,169,170,171,172,173,174,175,176,177,178,179,180,181,182,183,184,185,186,187,188,189,190,191,192,193,194,195,196,197,198,199,200,201,202,203,204,205,206,207,208,209,210,211,212,213,214,215,216,217,218,219,220,221,222,223,224,225,226,227,228,229,230,231,232,233,234,235,236,237,238,239,240,241,242,243,244,245,246,247,248,249,250,251,252,253,254,255,256,257,258,259,260,261,262,263,264,265,266,267,268,269,270,271,272,273,274,275,276,277,278,279,280,281,282,283,284,285,286,287,288,289],\"locus\":[\"5:126685374\",\"15:66400165\",\"15:66387527\",\"5:126683883\",\"5:126756659\",\"5:126645650\",\"15:66350261\",\"5:126655361\",\"5:126789986\",\"5:126645705\",\"15:75027880\",\"5:126693265\",\"7:17283561\",\"5:126639801\",\"15:75029906\",\"5:126628098\",\"5:126787388\",\"2:109515462\",\"2:109514747\",\"5:126756161\",\"5:126648201\",\"5:126777362\",\"15:66330108\",\"4:54512721\",\"2:109514985\",\"5:126751728\",\"5:126769874\",\"5:126659892\",\"5:126636211\",\"7:17286770\",\"5:126656324\",\"15:75028348\",\"5:126626645\",\"2:109512428\",\"15:75029407\",\"5:126639097\",\"15:66438961\",\"5:126710915\",\"5:126798856\",\"5:126773064\",\"15:66400117\",\"15:66271772\",\"7:113991207\",\"2:223033196\",\"2:223033006\",\"5:126654970\",\"5:126689489\",\"2:223035136\",\"5:126693280\",\"4:54513330\",\"7:113989182\",\"5:126661774\",\"2:109511765\",\"2:223034660\",\"5:126630016\",\"5:126795246\",\"5:126675068\",\"5:126629170\",\"7:17285913\",\"2:223034082\",\"2:109514105\",\"15:66524808\",\"5:126694437\",\"5:126715759\",\"5:126785305\",\"15:75026149\",\"4:54513953\",\"5:126698023\",\"4:54514026\",\"7:17286087\",\"5:126639591\",\"5:126798504\",\"15:66327924\",\"5:126682354\",\"5:126637782\",\"2:223034144\",\"7:17284989\",\"4:54510874\",\"5:126658500\",\"5:126652710\",\"2:109514464\",\"2:109514056\",\"5:126664039\",\"7:113991440\",\"5:126688400\",\"5:126668683\",\"2:223034162\",\"5:126731876\",\"5:126725054\",\"7:17283259\",\"5:126627875\",\"5:126744956\",\"5:126729450\",\"15:66326983\",\"15:66373705\",\"4:54514027\",\"2:223034770\",\"7:17284577\",\"2:109511997\",\"4:54513819\",\"5:126797292\",\"5:126698070\",\"5:126683590\",\"5:126748373\",\"5:126791415\",\"2:223036139\",\"2:223036258\",\"7:17286817\",\"5:126793367\",\"5:126639135\",\"7:113987281\",\"5:126653607\",\"2:109513601\",\"2:223035313\",\"5:126687687\",\"5:126630948\",\"15:66344358\",\"5:126689935\",\"15:75028490\",\"5:126662114\",\"15:66428121\",\"5:126655730\",\"15:66475264\",\"7:17284085\",\"5:126727008\",\"15:66480035\",\"15:66388878\",\"5:126652742\",\"5:126675780\",\"5:126782325\",\"2:223034224\",\"7:113990885\",\"5:126767961\",\"2:223034758\",\"15:66502442\",\"7:17282872\",\"15:66326736\",\"5:126656998\",\"5:126652407\",\"15:75026627\",\"5:126715151\",\"5:126780212\",\"5:126644632\",\"7:113990996\",\"5:126796576\",\"5:126639269\",\"7:17285867\",\"5:126672710\",\"5:126753565\",\"7:17283523\",\"5:126756273\",\"2:109513531\",\"2:223035940\",\"5:126635083\",\"5:126667551\",\"15:66540097\",\"2:223031835\",\"5:126669209\",\"15:75029998\",\"5:126635437\",\"15:66269504\",\"4:54513653\",\"4:54511711\",\"15:75025988\",\"5:126798783\",\"5:126726851\",\"5:126735334\",\"5:126798558\",\"5:126644681\",\"2:223031933\",\"15:75027895\",\"4:54509759\",\"15:66380254\",\"5:126664981\",\"15:66353695\",\"7:113988537\",\"15:75029683\",\"2:223036224\",\"15:66272893\",\"2:109512364\",\"5:126644769\",\"5:126626044\",\"5:126660301\",\"5:126647941\",\"5:126634444\",\"2:109513654\",\"5:126778245\",\"5:126796531\",\"5:126787286\",\"7:17284687\",\"5:126633436\",\"5:126645738\",\"5:126667746\",\"15:66340274\",\"2:223035719\",\"2:223032504\",\"7:113990352\",\"2:223036256\",\"5:126679402\",\"5:126698345\",\"2:223034476\",\"15:66516106\",\"2:109515506\",\"5:126640246\",\"5:126726847\",\"4:54513660\",\"5:126773180\",\"5:126661380\",\"7:17286565\",\"5:126739085\",\"5:126669004\",\"5:126798071\",\"4:54510360\",\"4:54509910\",\"5:126733924\",\"5:126661519\",\"4:54513107\",\"5:126796585\",\"7:17282684\",\"5:126654623\",\"5:126775113\",\"2:223033978\",\"5:126723562\",\"7:17286708\",\"15:66312149\",\"5:126697604\",\"5:126645646\",\"15:75028765\",\"5:126683809\",\"15:66271429\",\"5:126674613\",\"7:113989096\",\"5:126631841\",\"5:126683416\",\"15:66475318\",\"2:223033725\",\"4:54514122\",\"4:54512752\",\"5:126798031\",\"5:126687822\",\"15:66319662\",\"7:17286050\",\"4:54511913\",\"2:223035211\",\"7:113989578\",\"5:126686756\",\"5:126657217\",\"7:17282974\",\"5:126653950\",\"5:126731259\",\"5:126630875\",\"5:126794160\",\"5:126650182\",\"5:126635667\",\"15:75029472\",\"5:126797404\",\"5:126678028\",\"15:66327646\",\"5:126694523\",\"5:126699347\",\"5:126697755\",\"5:126735430\",\"5:126654062\",\"15:66359634\",\"15:66527971\",\"5:126797293\",\"5:126793219\",\"5:126682039\",\"15:66495122\",\"5:126794256\",\"5:126656500\",\"5:126679697\",\"7:17285330\",\"5:126792974\",\"2:223033396\",\"5:126757248\",\"5:126625548\",\"5:126725568\",\"2:109515567\",\"5:126661600\",\"5:126633827\",\"5:126639025\",\"5:126633958\",\"7:113991250\",\"5:126757219\",\"15:75029399\",\"2:223035359\",\"5:126657432\",\"7:17282507\",\"5:126655749\"],\"p_value\":{\"__ndarray__\":\"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\",\"dtype\":\"float64\",\"shape\":[290]},\"rs\":[\"rs550745558\",\"rs7173121\",\"rs4776725\",\"rs27652\",\"rs377341077\",\"rs78802780\",\"rs138264234\",\"rs73785580\",\"rs76912327\",\"rs201053818\",\"rs2472297\",\"rs246892\",\"rs568478767\",\"rs2431724\",\"rs148040319\",\"rs2194079\",\"rs79067810\",\"rs561059807\",\"rs4676218\",\"rs74823398\",\"rs1422317\",\"rs59745564\",\"rs28551784\",\"rs73250977\",\"rs11689836\",\"rs6595770\",\"rs10078629\",\"rs34208116\",\"rs2546809\",\"rs112089609\",\"rs3050850\",\"rs185406833\",\"rs2032834\",\"rs3749096\",\"rs8029744\",\"rs2546807\",\"rs35259179\",\"rs34537147\",\"rs73348777\",\"rs6859304\",\"rs1993832\",\"rs428658\",\"rs192442536\",\"rs13411329\",\"rs529478087\",\"rs246885\",\"rs26946\",\"rs184491207\",\"rs144085293\",\"rs549132755\",\"rs147142788\",\"rs31470\",\"rs10865025\",\"rs985473\",\"rs1422313\",\"rs3756722\",\"rs17673170\",\"rs12519784\",\"rs564492299\",\"rs2218065\",\"rs6542783\",\"rs62009959\",\"rs26947\",\"rs113091845\",\"rs41298318\",\"rs17861118\",\"rs190387778\",\"rs35156178\",\"rs79162003\",\"rs79694830\",\"rs2431496\",\"rs577362738\",\"rs333592\",\"rs246894\",\"rs57623356\",\"rs116514046\",\"rs10277582\",\"rs6816209\",\"rs152122\",\"rs246945\",\"rs940928\",\"rs2169812\",\"rs36307\",\"rs529657511\",\"rs72788505\",\"rs2546078\",\"rs73990988\",\"rs2059084\",\"rs10041484\",\"rs145880637\",\"rs4836316\",\"rs56320297\",\"rs143954261\",\"rs56267112\",\"rs75393657\",\"rs183240578\",\"rs201276449\",\"rs4410790\",\"rs187951842\",\"rs6858782\",\"rs4836323\",\"rs77198001\",\"rs72786494\",\"rs202213903\",\"rs536696373\",\"rs563333963\",\"rs551240079\",\"rs532738234\",\"rs78940206\",\"rs2546808\",\"rs1527146\",\"rs138731838\",\"rs3827760\",\"rs66885466\",\"rs43148\",\"rs2059083\",\"rs2552182\",\"rs55918025\",\"rs11072500\",\"rs26945\",\"rs75427642\",\"rs246886\",\"rs8030058\",\"rs6943079\",\"rs1019482\",\"rs3082857\",\"rs2414895\",\"rs246946\",\"rs78120546\",\"rs10072587\",\"rs78277770\",\"rs183045236\",\"rs6866678\",\"rs71050391\",\"rs185446339\",\"rs79710531\",\"rs58298192\",\"rs246888\",\"rs246944\",\"rs11631784\",\"rs79713470\",\"rs12516897\",\"rs72786459\",\"rs79307074\",\"rs139305981\",\"rs56084567\",\"rs10281571\",\"rs77589749\",\"rs539466377\",\"rs112056574\",\"rs11956397\",\"rs115930248\",\"rs11690945\",\"rs2018571\",\"rs27562\",\"rs111463682\",\"rs114946697\",\"rs145619126\",\"rs76354137\",\"rs35796097\",\"rs372969314\",\"rs539249144;rs200448899\",\"rs2668551\",\"rs4886605\",\"rs17444885\",\"rs1318923\",\"rs10519939\",\"rs17164922\",\"rs2254762\",\"rs115498426\",\"rs141323436\",\"rs6818959\",\"rs1600053\",\"rs27749\",\"rs1871004\",\"rs2690826\",\"rs548198773\",\"esv3594421\",\"rs449841\",\"rs10206737\",\"rs1422315\",\"rs1363387\",\"rs31472\",\"rs1422316\",\"rs2194080\",\"rs12623957\",\"rs73348744\",\"rs35236935\",\"rs17164941\",\"rs77000981\",\"rs970546\",\"rs13153845\",\"rs111923517\",\"rs333606\",\"rs112832858\",\"rs36054640\",\"rs2049604\",\"rs79922615\",\"rs246897\",\"rs35526\",\"rs10194919\",\"rs4578594\",\"rs13009728\",\"rs1816059\",\"rs2008432\",\"rs17663341\",\"rs6859181\",\"rs31471\",\"rs529079397\",\"rs6877254\",\"rs26944\",\"rs191720024\",\"rs149974830\",\"rs139265415\",\"rs78811203\",\"rs10550881\",\"rs77894545\",\"rs2898043\",\"rs561704396\",\"rs2439927\",\"rs34451603\",\"rs2196751\",\"rs9327438\",\"rs571979050\",\"rs333610\",\"rs72788513\",\"rs2546805\",\"rs141944648\",\"rs27388\",\"rs368614\",\"rs27782\",\"rs142814786\",\"rs2585200\",\"rs187514\",\"rs115146412\",\"rs558223447\",\"rs75893784\",\"rs2590773\",\"rs17164923\",\"rs36308\",\"rs28648385\",\"rs185214789\",\"rs4864809\",\"rs5838931\",\"rs2690827\",\"rs185030\",\"rs152121\",\"rs17137451\",\"rs246948\",\"rs13171067\",\"rs146140674\",\"rs75528418\",\"rs1345663\",\"rs1345662\",\"rs76255041\",\"rs4836324\",\"rs17839696\",\"rs333591\",\"rs27563\",\"rs35525\",\"rs78259230\",\"rs251031\",\"rs185032\",\"rs114776522\",\"rs1531496\",\"rs188714805\",\"rs10793809\",\"rs246895\",\"rs11852601\",\"rs17164925\",\"rs152120\",\"rs246896\",\"rs571824498\",\"rs3812052\",\"rs11895863\",\"rs530919718\",\"rs2408868\",\"rs4401615\",\"rs76935644\",\"rs33930493\",\"rs2585197\",\"rs2546079\",\"rs2585196\",\"rs184002280\",\"rs565314307\",\"rs8030076\",\"rs13431945\",\"rs246889\",\"rs62444547\",\"rs246887\"]},\"selected\":{\"id\":\"1086\",\"type\":\"Selection\"},\"selection_policy\":{\"id\":\"1085\",\"type\":\"UnionRenderers\"}},\"id\":\"1038\",\"type\":\"ColumnDataSource\"},{\"attributes\":{\"fill_alpha\":{\"value\":0.1},\"fill_color\":{\"value\":\"#1f77b4\"},\"line_alpha\":{\"value\":0.1},\"line_color\":{\"value\":\"#1f77b4\"},\"x\":{\"field\":\"_global_locus\"},\"y\":{\"field\":\"_pval\"}},\"id\":\"1049\",\"type\":\"Circle\"},{\"attributes\":{\"fill_alpha\":{\"value\":0.1},\"fill_color\":{\"value\":\"#1f77b4\"},\"line_alpha\":{\"value\":0.1},\"line_color\":{\"value\":\"#1f77b4\"},\"x\":{\"field\":\"_global_locus\"},\"y\":{\"field\":\"_pval\"}},\"id\":\"1067\",\"type\":\"Circle\"},{\"attributes\":{\"fill_color\":{\"field\":\"_contig\",\"transform\":{\"id\":\"1002\",\"type\":\"CategoricalColorMapper\"}},\"line_color\":{\"field\":\"_contig\",\"transform\":{\"id\":\"1002\",\"type\":\"CategoricalColorMapper\"}},\"x\":{\"field\":\"_global_locus\"},\"y\":{\"field\":\"_pval\"}},\"id\":\"1048\",\"type\":\"Circle\"},{\"attributes\":{\"label\":{\"value\":\"4\"},\"renderers\":[{\"id\":\"1056\",\"type\":\"GlyphRenderer\"}]},\"id\":\"1071\",\"type\":\"LegendItem\"},{\"attributes\":{},\"id\":\"1079\",\"type\":\"BasicTickFormatter\"},{\"attributes\":{},\"id\":\"1083\",\"type\":\"BasicTickFormatter\"},{\"attributes\":{\"filters\":[{\"id\":\"1063\",\"type\":\"GroupFilter\"}],\"source\":{\"id\":\"1038\",\"type\":\"ColumnDataSource\"}},\"id\":\"1064\",\"type\":\"CDSView\"},{\"attributes\":{\"data_source\":{\"id\":\"1038\",\"type\":\"ColumnDataSource\"},\"glyph\":{\"id\":\"1042\",\"type\":\"Circle\"},\"hover_glyph\":null,\"muted_glyph\":null,\"nonselection_glyph\":{\"id\":\"1043\",\"type\":\"Circle\"},\"selection_glyph\":null,\"view\":{\"id\":\"1040\",\"type\":\"CDSView\"}},\"id\":\"1044\",\"type\":\"GlyphRenderer\"},{\"attributes\":{\"fill_color\":{\"field\":\"_contig\",\"transform\":{\"id\":\"1002\",\"type\":\"CategoricalColorMapper\"}},\"line_color\":{\"field\":\"_contig\",\"transform\":{\"id\":\"1002\",\"type\":\"CategoricalColorMapper\"}},\"x\":{\"field\":\"_global_locus\"},\"y\":{\"field\":\"_pval\"}},\"id\":\"1066\",\"type\":\"Circle\"},{\"attributes\":{\"factors\":[\"1\",\"2\",\"3\",\"4\",\"5\",\"6\",\"7\",\"8\",\"9\",\"10\",\"11\",\"12\",\"13\",\"14\",\"15\",\"16\",\"17\",\"18\",\"19\",\"20\",\"21\",\"22\",\"X\",\"Y\",\"MT\",\"GL000207.1\",\"GL000226.1\",\"GL000229.1\",\"GL000231.1\",\"GL000210.1\",\"GL000239.1\",\"GL000235.1\",\"GL000201.1\",\"GL000247.1\",\"GL000245.1\",\"GL000197.1\",\"GL000203.1\",\"GL000246.1\",\"GL000249.1\",\"GL000196.1\",\"GL000248.1\",\"GL000244.1\",\"GL000238.1\",\"GL000202.1\",\"GL000234.1\",\"GL000232.1\",\"GL000206.1\",\"GL000240.1\",\"GL000236.1\",\"GL000241.1\",\"GL000243.1\",\"GL000242.1\",\"GL000230.1\",\"GL000237.1\",\"GL000233.1\",\"GL000204.1\",\"GL000198.1\",\"GL000208.1\",\"GL000191.1\",\"GL000227.1\",\"GL000228.1\",\"GL000214.1\",\"GL000221.1\",\"GL000209.1\",\"GL000218.1\",\"GL000220.1\",\"GL000213.1\",\"GL000211.1\",\"GL000199.1\",\"GL000217.1\",\"GL000216.1\",\"GL000215.1\",\"GL000205.1\",\"GL000219.1\",\"GL000224.1\",\"GL000223.1\",\"GL000195.1\",\"GL000212.1\",\"GL000222.1\",\"GL000200.1\",\"GL000193.1\",\"GL000194.1\",\"GL000225.1\",\"GL000192.1\"],\"palette\":[\"#1f77b4\",\"#ff7f0e\",\"#1f77b4\",\"#ff7f0e\",\"#1f77b4\",\"#ff7f0e\",\"#1f77b4\",\"#ff7f0e\",\"#1f77b4\",\"#ff7f0e\",\"#1f77b4\",\"#ff7f0e\",\"#1f77b4\",\"#ff7f0e\",\"#1f77b4\",\"#ff7f0e\",\"#1f77b4\",\"#ff7f0e\",\"#1f77b4\",\"#ff7f0e\",\"#1f77b4\",\"#ff7f0e\",\"#1f77b4\",\"#ff7f0e\",\"#1f77b4\",\"#ff7f0e\",\"#1f77b4\",\"#ff7f0e\",\"#1f77b4\",\"#ff7f0e\",\"#1f77b4\",\"#ff7f0e\",\"#1f77b4\",\"#ff7f0e\",\"#1f77b4\",\"#ff7f0e\",\"#1f77b4\",\"#ff7f0e\",\"#1f77b4\",\"#ff7f0e\",\"#1f77b4\",\"#ff7f0e\",\"#1f77b4\",\"#ff7f0e\",\"#1f77b4\",\"#ff7f0e\",\"#1f77b4\",\"#ff7f0e\",\"#1f77b4\",\"#ff7f0e\",\"#1f77b4\",\"#ff7f0e\",\"#1f77b4\",\"#ff7f0e\",\"#1f77b4\",\"#ff7f0e\",\"#1f77b4\",\"#ff7f0e\",\"#1f77b4\",\"#ff7f0e\",\"#1f77b4\",\"#ff7f0e\",\"#1f77b4\",\"#ff7f0e\",\"#1f77b4\",\"#ff7f0e\",\"#1f77b4\",\"#ff7f0e\",\"#1f77b4\",\"#ff7f0e\",\"#1f77b4\",\"#ff7f0e\",\"#1f77b4\",\"#ff7f0e\",\"#1f77b4\",\"#ff7f0e\",\"#1f77b4\",\"#ff7f0e\",\"#1f77b4\",\"#ff7f0e\",\"#1f77b4\",\"#ff7f0e\",\"#1f77b4\",\"#ff7f0e\"]},\"id\":\"1002\",\"type\":\"CategoricalColorMapper\"},{\"attributes\":{},\"id\":\"1014\",\"type\":\"BasicTicker\"},{\"attributes\":{\"column_name\":\"_contig\",\"group\":\"7\"},\"id\":\"1063\",\"type\":\"GroupFilter\"},{\"attributes\":{},\"id\":\"1081\",\"type\":\"BasicTickFormatter\"}],\"root_ids\":[\"1003\"]},\"title\":\"Bokeh Application\",\"version\":\"1.2.0\"}};\n",
       "  var render_items = [{\"docid\":\"7a81f975-2f52-4ba3-9182-c3eb6bc51edf\",\"roots\":{\"1003\":\"94e5b391-5706-4ed1-8505-a4e24b13f1cd\"}}];\n",
       "  root.Bokeh.embed.embed_items_notebook(docs_json, render_items);\n",
       "\n",
       "  }\n",
       "  if (root.Bokeh !== undefined) {\n",
       "    embed_document(root);\n",
       "  } else {\n",
       "    var attempts = 0;\n",
       "    var timer = setInterval(function(root) {\n",
       "      if (root.Bokeh !== undefined) {\n",
       "        embed_document(root);\n",
       "        clearInterval(timer);\n",
       "      }\n",
       "      attempts++;\n",
       "      if (attempts > 100) {\n",
       "        console.log(\"Bokeh: ERROR: Unable to run BokehJS code because BokehJS library is missing\");\n",
       "        clearInterval(timer);\n",
       "      }\n",
       "    }, 10, root)\n",
       "  }\n",
       "})(window);"
      ],
      "application/vnd.bokehjs_exec.v0+json": ""
     },
     "metadata": {
      "application/vnd.bokehjs_exec.v0+json": {
       "id": "1003"
      }
     },
     "output_type": "display_data"
    }
   ],
   "source": [
    "p = hl.plot.manhattan(gwas.p_value, hover_fields=dict(rs=gwas.rsid))\n",
    "show(p)"
   ]
  },
  {
   "cell_type": "markdown",
   "metadata": {},
   "source": [
    "_Fig 1: Manhattan plot for logistic regression p-values._"
   ]
  },
  {
   "cell_type": "markdown",
   "metadata": {},
   "source": [
    "## Build random forest and extract gini importanct with VaiantSpark (on the same data)"
   ]
  },
  {
   "cell_type": "code",
   "execution_count": 10,
   "metadata": {},
   "outputs": [],
   "source": [
    "rf_model = vshl.random_forest_model(y=mt.hipster.label,\n",
    "                    x=mt.GT.n_alt_alleles())\n",
    "rf_model.fit_trees(500, 100)"
   ]
  },
  {
   "cell_type": "code",
   "execution_count": 11,
   "metadata": {},
   "outputs": [
    {
     "name": "stdout",
     "output_type": "stream",
     "text": [
      "0.18570287539936103\n"
     ]
    },
    {
     "name": "stderr",
     "output_type": "stream",
     "text": [
      "2019-07-26 14:39:21 Hail: INFO: Coerced sorted dataset\n"
     ]
    },
    {
     "data": {
      "text/html": [
       "<table><thead style=\"font-weight: bold;\"><tr><td>locus</td><td>alleles</td><td>importance</td></tr>\n",
       "<tr><td>locus&lt;GRCh37&gt;</td><td>array&lt;str&gt;</td><td>float64</td></tr>\n",
       "</thead><tbody><tr><td>2:109511398</td><td>[&quot;G&quot;,&quot;A&quot;]</td><td>1.78e-02</td></tr>\n",
       "<tr><td>2:109511454</td><td>[&quot;C&quot;,&quot;A&quot;]</td><td>0.00e+00</td></tr>\n",
       "<tr><td>2:109511463</td><td>[&quot;G&quot;,&quot;A&quot;]</td><td>1.32e-01</td></tr>\n",
       "</tbody></table><p>showing top 3 rows</p>\n"
      ],
      "text/plain": [
       "+---------------+------------+------------+\n",
       "| locus         | alleles    | importance |\n",
       "+---------------+------------+------------+\n",
       "| locus<GRCh37> | array<str> |    float64 |\n",
       "+---------------+------------+------------+\n",
       "| 2:109511398   | [\"G\",\"A\"]  |   1.78e-02 |\n",
       "| 2:109511454   | [\"C\",\"A\"]  |   0.00e+00 |\n",
       "| 2:109511463   | [\"G\",\"A\"]  |   1.32e-01 |\n",
       "+---------------+------------+------------+\n",
       "showing top 3 rows"
      ]
     },
     "metadata": {},
     "output_type": "display_data"
    }
   ],
   "source": [
    "print(rf_model.oob_error())\n",
    "impTable = rf_model.variable_importance()\n",
    "impTable.show(3)"
   ]
  },
  {
   "cell_type": "markdown",
   "metadata": {},
   "source": [
    "Join hail and VariantSpark results (this is only needed here to get the RSID's)"
   ]
  },
  {
   "cell_type": "code",
   "execution_count": 12,
   "metadata": {},
   "outputs": [],
   "source": [
    "gwas_with_imp = gwas.join(impTable)"
   ]
  },
  {
   "cell_type": "code",
   "execution_count": 13,
   "metadata": {},
   "outputs": [
    {
     "data": {
      "text/html": [
       "\n",
       "\n",
       "\n",
       "\n",
       "\n",
       "\n",
       "  <div class=\"bk-root\" id=\"32e4d2a7-7622-4dc9-a769-03cdc3ee211a\" data-root-id=\"1161\"></div>\n"
      ]
     },
     "metadata": {},
     "output_type": "display_data"
    },
    {
     "data": {
      "application/javascript": [
       "(function(root) {\n",
       "  function embed_document(root) {\n",
       "    \n",
       "  var docs_json = {\"fa6e5d28-5b1b-48be-98b6-25ed863bdb47\":{\"roots\":{\"references\":[{\"attributes\":{\"below\":[{\"id\":\"1171\",\"type\":\"LinearAxis\"}],\"center\":[{\"id\":\"1175\",\"type\":\"Grid\"},{\"id\":\"1180\",\"type\":\"Grid\"}],\"left\":[{\"id\":\"1176\",\"type\":\"LinearAxis\"},{\"id\":\"1232\",\"type\":\"Legend\"},{\"id\":\"1233\",\"type\":\"ColorBar\"}],\"plot_width\":1000,\"renderers\":[{\"id\":\"1202\",\"type\":\"GlyphRenderer\"},{\"id\":\"1208\",\"type\":\"GlyphRenderer\"},{\"id\":\"1214\",\"type\":\"GlyphRenderer\"},{\"id\":\"1220\",\"type\":\"GlyphRenderer\"},{\"id\":\"1226\",\"type\":\"GlyphRenderer\"}],\"title\":null,\"toolbar\":{\"id\":\"1187\",\"type\":\"Toolbar\"},\"x_range\":{\"id\":\"1163\",\"type\":\"DataRange1d\"},\"x_scale\":{\"id\":\"1167\",\"type\":\"LinearScale\"},\"y_range\":{\"id\":\"1165\",\"type\":\"DataRange1d\"},\"y_scale\":{\"id\":\"1169\",\"type\":\"LinearScale\"}},\"id\":\"1161\",\"subtype\":\"Figure\",\"type\":\"Plot\"},{\"attributes\":{\"dimension\":1,\"ticker\":{\"id\":\"1177\",\"type\":\"BasicTicker\"}},\"id\":\"1180\",\"type\":\"Grid\"},{\"attributes\":{\"overlay\":{\"id\":\"1242\",\"type\":\"BoxAnnotation\"}},\"id\":\"1183\",\"type\":\"BoxZoomTool\"},{\"attributes\":{},\"id\":\"1177\",\"type\":\"BasicTicker\"},{\"attributes\":{},\"id\":\"1181\",\"type\":\"PanTool\"},{\"attributes\":{\"fill_alpha\":{\"value\":0.1},\"fill_color\":{\"value\":\"#1f77b4\"},\"line_alpha\":{\"value\":0.1},\"line_color\":{\"value\":\"#1f77b4\"},\"x\":{\"field\":\"_global_locus\"},\"y\":{\"field\":\"_pval\"}},\"id\":\"1207\",\"type\":\"Circle\"},{\"attributes\":{},\"id\":\"1185\",\"type\":\"ResetTool\"},{\"attributes\":{},\"id\":\"1182\",\"type\":\"WheelZoomTool\"},{\"attributes\":{\"data_source\":{\"id\":\"1196\",\"type\":\"ColumnDataSource\"},\"glyph\":{\"id\":\"1206\",\"type\":\"Circle\"},\"hover_glyph\":null,\"muted_glyph\":null,\"nonselection_glyph\":{\"id\":\"1207\",\"type\":\"Circle\"},\"selection_glyph\":null,\"view\":{\"id\":\"1204\",\"type\":\"CDSView\"}},\"id\":\"1208\",\"type\":\"GlyphRenderer\"},{\"attributes\":{\"fill_color\":{\"field\":\"_contig\",\"transform\":{\"id\":\"1160\",\"type\":\"CategoricalColorMapper\"}},\"line_color\":{\"field\":\"_contig\",\"transform\":{\"id\":\"1160\",\"type\":\"CategoricalColorMapper\"}},\"x\":{\"field\":\"_global_locus\"},\"y\":{\"field\":\"_pval\"}},\"id\":\"1206\",\"type\":\"Circle\"},{\"attributes\":{\"fill_color\":{\"field\":\"_contig\",\"transform\":{\"id\":\"1160\",\"type\":\"CategoricalColorMapper\"}},\"line_color\":{\"field\":\"_contig\",\"transform\":{\"id\":\"1160\",\"type\":\"CategoricalColorMapper\"}},\"x\":{\"field\":\"_global_locus\"},\"y\":{\"field\":\"_pval\"}},\"id\":\"1200\",\"type\":\"Circle\"},{\"attributes\":{},\"id\":\"1240\",\"type\":\"BasicTicker\"},{\"attributes\":{\"axis_label\":\"Importance (gini)\",\"formatter\":{\"id\":\"1237\",\"type\":\"BasicTickFormatter\"},\"ticker\":{\"id\":\"1177\",\"type\":\"BasicTicker\"}},\"id\":\"1176\",\"type\":\"LinearAxis\"},{\"attributes\":{\"click_policy\":\"hide\",\"items\":[{\"id\":\"1227\",\"type\":\"LegendItem\"},{\"id\":\"1228\",\"type\":\"LegendItem\"},{\"id\":\"1229\",\"type\":\"LegendItem\"},{\"id\":\"1230\",\"type\":\"LegendItem\"},{\"id\":\"1231\",\"type\":\"LegendItem\"}],\"visible\":false},\"id\":\"1232\",\"type\":\"Legend\"},{\"attributes\":{\"callback\":null,\"data\":{\"_contig\":[\"4\",\"15\",\"15\",\"5\",\"5\",\"15\",\"2\",\"7\",\"5\",\"5\",\"7\",\"15\",\"5\",\"2\",\"2\",\"5\",\"2\",\"5\",\"15\",\"5\",\"5\",\"7\",\"5\",\"5\",\"5\",\"5\",\"2\",\"15\",\"2\",\"5\",\"5\",\"7\",\"4\",\"2\",\"4\",\"5\",\"5\",\"7\",\"2\",\"2\",\"15\",\"5\",\"5\",\"5\",\"15\",\"4\",\"5\",\"4\",\"2\",\"5\",\"4\",\"5\",\"2\",\"2\",\"7\",\"2\",\"5\",\"7\",\"5\",\"5\",\"15\",\"7\",\"15\",\"2\",\"4\",\"2\",\"2\",\"5\",\"5\",\"5\",\"5\",\"2\",\"2\",\"7\",\"5\",\"5\",\"15\",\"5\",\"4\",\"5\",\"7\",\"2\",\"15\",\"15\",\"15\",\"5\",\"2\",\"2\",\"5\",\"7\",\"15\",\"15\",\"4\",\"2\",\"5\",\"5\",\"5\",\"15\",\"5\",\"5\",\"5\",\"5\",\"4\",\"5\",\"5\",\"5\",\"5\",\"15\",\"4\",\"15\",\"5\",\"15\",\"2\",\"5\",\"2\",\"2\",\"5\",\"5\",\"5\",\"4\",\"5\",\"2\",\"5\",\"2\",\"2\",\"2\",\"15\",\"2\",\"4\",\"7\",\"5\",\"5\",\"4\",\"2\",\"4\",\"5\",\"4\",\"5\",\"15\",\"7\",\"4\",\"15\",\"5\",\"15\",\"7\",\"5\",\"15\",\"2\",\"2\",\"4\",\"5\",\"2\",\"5\",\"15\",\"7\",\"7\",\"5\",\"2\",\"7\",\"15\",\"5\",\"5\",\"5\",\"15\",\"15\",\"5\",\"15\",\"7\",\"5\",\"7\",\"7\",\"5\",\"5\",\"2\",\"15\",\"7\",\"5\",\"15\",\"5\",\"5\",\"5\"],\"_global_locus\":{\"__ndarray__\":\"AACAqMszxkEAAIDkra/hQQAAgA3mv+FBAAAA/lkNzkEAAIB4fw3OQQAA4O5+r+FBAAAAYIUmvEEAAMCo9qPSQQAAAI7XDM5BAAAAbDgNzkEAAECj9KPSQQAAQErnv+FBAACAv4gNzkEAAAAiVWK1QQAAANFMYrVBAACA0zoNzkEAAACHgia8QQAAANdqDM5BAAAgkJuv4UEAAIB01wzOQQAAgJ6VDM5BAABAIvij0kEAAACAugzOQQAAALCnDM5BAACAH5cMzkEAAIA3ZQzOQQAAAPJOYrVBAADAD+e/4UEAAABmfCa8QQAAgBaiDM5BAAAAOegMzkEAAADF3BTUQQAAAKHEM8ZBAAAAOX0mvEEAAABTwzPGQQAAgKFhDM5BAACA2sMMzkEAAADN+KPSQQAAAB5+JrxBAAAAKEpitUEAAAB2g6/hQQAAgJlgDM5BAAAAGXYMzkEAAADgjA3OQQAAoM3nv+FBAACA2MszxkEAAAAhjwzOQQAAgNzJM8ZBAAAAcHsmvEEAAABkrA3OQQAAANbDM8ZBAAAAbsQMzkEAAADaSmK1QQAAAGNGYrVBAADALtsU1EEAAABHfSa8QQAAAGiGDM5BAAAAGPWj0kEAAIBlYwzOQQAAAAnUDM5BAADgQHOv4UEAAMAt9qPSQQAA4Nekr+FBAAAAvU5itUEAAACEyzPGQQAAAAJ6JrxBAAAAGVVitUEAAAAjKQ3OQQAAgL+dDM5BAACAbDUNzkEAAIBTqg3OQQAAACWCJrxBAAAAnIYmvEEAAMDY+KPSQQAAALqoDc5BAAAAf28MzkEAAAAcjK/hQQAAAN6RDM5BAACAgMUzxkEAAICrWgzOQQAAwOTaFNRBAAAAYIAmvEEAAODyTa/hQQAAYMpkr+FBAABAI+a/4UEAAAB1kwzOQQAAAKx+JrxBAAAA6nkmvEEAAIDJdQzOQQAAgJPeFNRBAABAUZKv4UEAAMBh57/hQQAAgCvJM8ZBAAAApU1itUEAAIDIigzOQQAAANmlDM5BAACAHVENzkEAAABc57/hQQAAADA7Dc5BAAAALCANzkEAAIC+YQzOQQAAAOuuDM5BAAAAZ8czxkEAAAC1rA3OQQAAgJiZDM5BAAAAA4ANzkEAAAD2ZgzOQQAAQGXnv+FBAAAAQcszxkEAAOAmZq/hQQAAgCKUDM5BAACgEee/4UEAAACehia8QQAAAD1tDM5BAAAAZklitUEAAAB2T2K1QQAAgAebDM5BAACAQO8MzkEAAICjWwzOQQAAgPHKM8ZBAACA9d4MzkEAAACofya8QQAAANBcDM5BAAAAq3kmvEEAAAAcUmK1QQAAAMKAJrxBAACAFHyv4UEAAABZVGK1QQAAACHLM8ZBAAAAWvij0kEAAADqhgzOQQAAgNabDc5BAACACMgzxkEAAACoeia8QQAAAOHEM8ZBAAAAO4sMzkEAAACIxzPGQQAAADdfDM5BAADABOi/4UEAAADE+KPSQQAAgDrGM8ZBAADg04Cv4UEAAADa6AzOQQAA4CTov+FBAADAIN0U1EEAAAD3YAzOQQAAoBWUr+FBAAAAG4MmvEEAAADtgia8QQAAgLrLM8ZBAACA40MNzkEAAAB+eCa8QQAAgKZfDM5BAAAgaX+v4UEAAIDk3RTUQQAAACPdFNRBAAAAfn8MzkEAAAD0dya8QQAAwB7cFNRBAAAgc+a/4UEAAACbzAzOQQAAgIOMDM5BAACAVyoNzkEAAEBzaK/hQQAAIMajr+FBAAAAJ6INzkEAAOA2nK/hQQAAwHzbFNRBAACAG6oNzkEAAEDE9qPSQQAAQOv3o9JBAAAAhpgMzkEAAIBZWw3OQQAAAD5TYrVBAAAguOa/4UEAAID03hTUQQAAAFFcDc5BAADgO+e/4UEAAACo1QzOQQAAAKiVDM5BAACATNQMzkE=\",\"dtype\":\"float64\",\"shape\":[181]},\"_pval\":{\"__ndarray__\":\"sbHcB3va4z/BLBSdEBnYP5jEJYsU8OE/zq4DbuPAyj+StVuwstrtP6DIC7IkPso/qEHd57R5EkDwENBlaYQgQM5AoFZ/sfs/SqTAcryG8T+XouG2y+rLPzpVSGchBbw/xeO0n29c4z/YQ2TRjwi2P8elMIc6RKQ/8PtFYKVO0z/NvzJuuhMVQIt5FnWJEQlAolI4iCZ12T+p0qYD1vv+PygXo1LBXQpAzTkxsNmy1z83WmSWM4MHQNvKXtDDxgdAUeJTe8HoBUCLNvON9DUhQCsBXZhfpt0/RO7SoClS1D/9lfiIz0sXQJ2gcQeLkg5AwfidX/8z7D9HCaMrWZDAPy+Xllk7+Os/wTkUt03oyD+fnfuxkMEPQC6+I13SdSVA3aoTAJD+/z+bgpk+Ox+oP+fmLqe+gzVAeuPweSj/2T8GZADBTejeP2HQIWltgypAZYwMPXgXB0AMttXKXq7pP/08b7TrVOE/NZs/YQ+tuj9030jwRpcBQN/2vHeDbeg/BJ2Lufn8CEB/yacj1Vy1P5+AyKl/IdM/RjlhSOx++D8MnpONrPrUP1uQcaET7sA/LQ6aSN6Htz/f7xzSzw3jP5fdHh96HBFAnz/cTv512T/eKp8YRCMiQMRaYoNIDvE/yb+2FGA51T8nPNFxMx3vPwcaepf8HsI/PIOxiNBr4z9tiM7B4KStP+124pWvchdAjk6y1ycc0D+h9YRK1mD1P0iijPU/wfo/aUznf69o1j8RZ+wwCovZP3P6aJcZf6w/EGGJ24ijuD8AAAAAAAAAAHmrhQfXJd8/raTwNxb3FkAB8FAFr3joP81g8lF/f/M/yMtVigEPE0D3gRGqBCcTQMN75G/thec/ui5U4ncwGUAPUUPkyBvQP2oH+zUH7+M/JmHsfYKq5j+5XY5Nskf9PznYAnKnItQ/J4iiK8YP8j9UX/LX4WIEQMtAthZH0Ks/aORnVejxtz+6DYeoG9vRP3cr95F1rOU/UoMjhx2p1j+wICJ9z+gBQA5QI5bBWQBA9+2Pfj/b4D9gpo5a0ovnPxjaz/URm80/NisxP5C32z8SHHFNcxoeQOFTZXUkwf4/aqcpHV8q4D825a7K06nCP2bW5PuCTvY/otocT/dY7j8owJSlLZ0RQLJDrOxC1oA/79l1RPd7DkDBkDr3sx3jP1mg1hooixFA5elDeLX/wT+ooaL9dmOQP8STtIqZDwpAcGds3XpJ4T87j73Y/TTiP64TiZpdKvI/NYTDXsfm5T8KKiMK3vIhQMO8/UhAtt0/55IN1/hB8D/9lBgC+qfEPzL5F75bnSJAal+OwcDH1j8en1coDa3eP1/S5dadAANAo68NAHaC5j8DM73DzWiyP2J2cssffc4/VxxMbEhuyD9KmIvg824FQI7oMPWYI9I/tywNB9Pt4T+5LYoFDxbhPz8w7eVjxNk/9eaNZLQK8z+JajIlu+YTQHvmnGgcKSBAe5y+Qk4Czj/szDyDmW66P0ojHMgGbe0//4/hC0nF5T8WlkAywx70P2NgHJBewLU/phUoV09B0z+k34alufQnQLyo9ChXaow/ORSdSvu9zz93tIZhKjIXQB7/yDOtEGU/YkWKm6Nh6j8jJwrru/wKQAgnkFPjwRlAIXi8Ahn93T9druhNf27hP7QA/f+IaeM/bsBbdPog9T+6GiD24UT0P5OYDJWMWOI/4oRegbg/yj/Lf3fbq4P3P5adMyrm8PY/arM7qZP85j8LBkPPIsuxP6o4HVp7tuA/9WCjJtI94z/Evi4wWBjRP+z+iJMnnOw/Ev080Kp+6D8Btsm6F43AP6JjP239Gvw/1K8Ei96LDUCsGDh+VF+2P/1iXKcDFtI/VaG3gAwU5D8AAAAAAAAAAGipd/VrbW4/ZOe9ZNwK3j+/5Wfkk5kAQAbG3cCHAgVACvbLfScDAUA=\",\"dtype\":\"float64\",\"shape\":[181]},\"index\":[0,1,2,3,4,5,6,7,8,9,10,11,12,13,14,15,16,17,18,19,20,21,22,23,24,25,26,27,28,29,30,31,32,33,34,35,36,37,38,39,40,41,42,43,44,45,46,47,48,49,50,51,52,53,54,55,56,57,58,59,60,61,62,63,64,65,66,67,68,69,70,71,72,73,74,75,76,77,78,79,80,81,82,83,84,85,86,87,88,89,90,91,92,93,94,95,96,97,98,99,100,101,102,103,104,105,106,107,108,109,110,111,112,113,114,115,116,117,118,119,120,121,122,123,124,125,126,127,128,129,130,131,132,133,134,135,136,137,138,139,140,141,142,143,144,145,146,147,148,149,150,151,152,153,154,155,156,157,158,159,160,161,162,163,164,165,166,167,168,169,170,171,172,173,174,175,176,177,178,179,180],\"locus\":[\"4:54514026\",\"15:66522190\",\"15:75025814\",\"5:126756273\",\"5:126775462\",\"15:66426017\",\"2:223035940\",\"7:17284577\",\"5:126689489\",\"5:126739085\",\"7:17282507\",\"15:75028348\",\"5:126780212\",\"2:109515238\",\"2:109513109\",\"5:126740316\",\"2:223035211\",\"5:126633827\",\"15:66484651\",\"5:126689438\",\"5:126655730\",\"7:17286087\",\"5:126674613\",\"5:126664981\",\"5:126656500\",\"5:126630948\",\"2:109513654\",\"15:75027880\",\"2:223033642\",\"5:126662114\",\"5:126698023\",\"7:113989202\",\"4:54510427\",\"2:223033853\",\"4:54509759\",\"5:126629112\",\"5:126679402\",\"7:17286770\",\"2:223034082\",\"2:109512428\",\"15:66435290\",\"5:126628584\",\"5:126639591\",\"5:126782325\",\"15:75029399\",\"4:54514122\",\"5:126652407\",\"4:54513106\",\"2:223033396\",\"5:126798461\",\"4:54510021\",\"5:126679697\",\"2:109512606\",\"2:109511463\",\"7:113987577\",\"2:223033867\",\"5:126647941\",\"7:17282974\",\"5:126630016\",\"5:126687687\",\"15:66402097\",\"7:17284085\",\"15:66503657\",\"2:109513601\",\"4:54513953\",\"2:223033030\",\"2:109515229\",\"5:126731259\",\"5:126659892\",\"5:126737550\",\"5:126797404\",\"2:223035113\",\"2:223036256\",\"7:17286817\",\"5:126796585\",\"5:126636211\",\"15:66453002\",\"5:126653809\",\"4:54510874\",\"5:126625548\",\"7:113987281\",\"2:223034660\",\"15:66325697\",\"15:66372477\",\"15:75025988\",\"5:126654623\",\"2:223034224\",\"2:223033006\",\"5:126639432\",\"7:113991052\",\"15:66465716\",\"15:75028536\",\"4:54512752\",\"2:109513321\",\"5:126650182\",\"5:126664039\",\"5:126751728\",\"15:75028490\",\"5:126740501\",\"5:126726669\",\"5:126629170\",\"5:126668683\",\"4:54511847\",\"5:126798623\",\"5:126657766\",\"5:126775739\",\"5:126631841\",\"15:75028564\",\"4:54513819\",\"15:66375265\",\"5:126654970\",\"15:75027895\",\"2:223036258\",\"5:126635055\",\"2:109512234\",\"2:109513786\",\"5:126658500\",\"5:126701622\",\"5:126626044\",\"4:54513660\",\"5:126693280\",\"2:223034476\",\"5:126626645\",\"2:223032943\",\"2:109514464\",\"2:223034758\",\"15:66420174\",\"2:109515037\",\"4:54513755\",\"7:17286310\",\"5:126648201\",\"5:126789986\",\"4:54512170\",\"2:223033196\",\"4:54510555\",\"5:126650411\",\"4:54511913\",\"5:126627875\",\"15:75029840\",\"7:17286734\",\"4:54511246\",\"15:66429897\",\"5:126698345\",\"15:75030097\",\"7:113989569\",\"5:126628771\",\"15:66469335\",\"2:223035359\",\"2:223035313\",\"4:54514062\",\"5:126744956\",\"2:223032642\",\"5:126628098\",\"15:66426995\",\"7:113990352\",\"7:113989578\",\"5:126644401\",\"2:223032504\",\"7:113988537\",\"15:75026627\",\"5:126683883\",\"5:126651068\",\"5:126731876\",\"15:66379972\",\"15:66501467\",\"5:126793219\",\"15:66485985\",\"7:113987889\",\"5:126797292\",\"7:17284687\",\"7:17285867\",\"5:126657217\",\"5:126756968\",\"2:109514754\",\"15:75027179\",\"7:113991440\",\"5:126757463\",\"15:75028233\",\"5:126688517\",\"5:126655749\",\"5:126687822\"],\"p_value\":{\"__ndarray__\":\"sbHcB3va4z/BLBSdEBnYP5jEJYsU8OE/zq4DbuPAyj+StVuwstrtP6DIC7IkPso/qEHd57R5EkDwENBlaYQgQM5AoFZ/sfs/SqTAcryG8T+XouG2y+rLPzpVSGchBbw/xeO0n29c4z/YQ2TRjwi2P8elMIc6RKQ/8PtFYKVO0z/NvzJuuhMVQIt5FnWJEQlAolI4iCZ12T+p0qYD1vv+PygXo1LBXQpAzTkxsNmy1z83WmSWM4MHQNvKXtDDxgdAUeJTe8HoBUCLNvON9DUhQCsBXZhfpt0/RO7SoClS1D/9lfiIz0sXQJ2gcQeLkg5AwfidX/8z7D9HCaMrWZDAPy+Xllk7+Os/wTkUt03oyD+fnfuxkMEPQC6+I13SdSVA3aoTAJD+/z+bgpk+Ox+oP+fmLqe+gzVAeuPweSj/2T8GZADBTejeP2HQIWltgypAZYwMPXgXB0AMttXKXq7pP/08b7TrVOE/NZs/YQ+tuj9030jwRpcBQN/2vHeDbeg/BJ2Lufn8CEB/yacj1Vy1P5+AyKl/IdM/RjlhSOx++D8MnpONrPrUP1uQcaET7sA/LQ6aSN6Htz/f7xzSzw3jP5fdHh96HBFAnz/cTv512T/eKp8YRCMiQMRaYoNIDvE/yb+2FGA51T8nPNFxMx3vPwcaepf8HsI/PIOxiNBr4z9tiM7B4KStP+124pWvchdAjk6y1ycc0D+h9YRK1mD1P0iijPU/wfo/aUznf69o1j8RZ+wwCovZP3P6aJcZf6w/EGGJ24ijuD8AAAAAAAAAAHmrhQfXJd8/raTwNxb3FkAB8FAFr3joP81g8lF/f/M/yMtVigEPE0D3gRGqBCcTQMN75G/thec/ui5U4ncwGUAPUUPkyBvQP2oH+zUH7+M/JmHsfYKq5j+5XY5Nskf9PznYAnKnItQ/J4iiK8YP8j9UX/LX4WIEQMtAthZH0Ks/aORnVejxtz+6DYeoG9vRP3cr95F1rOU/UoMjhx2p1j+wICJ9z+gBQA5QI5bBWQBA9+2Pfj/b4D9gpo5a0ovnPxjaz/URm80/NisxP5C32z8SHHFNcxoeQOFTZXUkwf4/aqcpHV8q4D825a7K06nCP2bW5PuCTvY/otocT/dY7j8owJSlLZ0RQLJDrOxC1oA/79l1RPd7DkDBkDr3sx3jP1mg1hooixFA5elDeLX/wT+ooaL9dmOQP8STtIqZDwpAcGds3XpJ4T87j73Y/TTiP64TiZpdKvI/NYTDXsfm5T8KKiMK3vIhQMO8/UhAtt0/55IN1/hB8D/9lBgC+qfEPzL5F75bnSJAal+OwcDH1j8en1coDa3eP1/S5dadAANAo68NAHaC5j8DM73DzWiyP2J2cssffc4/VxxMbEhuyD9KmIvg824FQI7oMPWYI9I/tywNB9Pt4T+5LYoFDxbhPz8w7eVjxNk/9eaNZLQK8z+JajIlu+YTQHvmnGgcKSBAe5y+Qk4Czj/szDyDmW66P0ojHMgGbe0//4/hC0nF5T8WlkAywx70P2NgHJBewLU/phUoV09B0z+k34alufQnQLyo9ChXaow/ORSdSvu9zz93tIZhKjIXQB7/yDOtEGU/YkWKm6Nh6j8jJwrru/wKQAgnkFPjwRlAIXi8Ahn93T9druhNf27hP7QA/f+IaeM/bsBbdPog9T+6GiD24UT0P5OYDJWMWOI/4oRegbg/yj/Lf3fbq4P3P5adMyrm8PY/arM7qZP85j8LBkPPIsuxP6o4HVp7tuA/9WCjJtI94z/Evi4wWBjRP+z+iJMnnOw/Ev080Kp+6D8Btsm6F43AP6JjP239Gvw/1K8Ei96LDUCsGDh+VF+2P/1iXKcDFtI/VaG3gAwU5D8AAAAAAAAAAGipd/VrbW4/ZOe9ZNwK3j+/5Wfkk5kAQAbG3cCHAgVACvbLfScDAUA=\",\"dtype\":\"float64\",\"shape\":[181]},\"ri\":[\"rs79162003\",\"rs28729796\",\"rs12441817\",\"rs11956397\",\"rs2408872\",\"rs115597347\",\"rs11690945\",\"rs4410790\",\"rs26946\",\"rs6877254\",\"rs62444547\",\"rs185406833\",\"rs12516897\",\"rs61447904\",\"rs148961371\",\"rs17165090\",\"rs5838931\",\"rs2585197\",\"rs67059063\",\"rs1160960\",\"rs246886\",\"rs79694830\",\"rs27782\",\"rs27749\",\"rs152120\",\"rs2059083\",\"rs12623957\",\"rs2472297\",\"rs2218064\",\"rs26945\",\"rs35156178\",\"rs117717824\",\"rs2668552\",\"rs79534778\",\"rs6818959\",\"rs4836318\",\"rs246897\",\"rs112089609\",\"rs2218065\",\"rs3749096\",\"rs8023772\",\"rs112394041\",\"rs2431496\",\"rs10072587\",\"rs8030076\",\"rs75893784\",\"rs246944\",\"rs2668550\",\"rs11895863\",\"rs111867141\",\"rs75718680\",\"rs246896\",\"rs3749097\",\"rs200762071\",\"rs75704660\",\"rs80199364\",\"rs1422316\",\"rs17137451\",\"rs1422313\",\"rs43148\",\"rs55992032\",\"rs6943079\",\"rs186986149\",\"rs3827760\",\"rs190387778\",\"rs16863473\",\"rs79444434\",\"rs13171067\",\"rs34208116\",\"rs12234066\",\"rs4836324\",\"rs141263619\",\"rs79922615\",\"rs532738234\",\"rs2898043\",\"rs2546809\",\"rs147184281\",\"rs246947\",\"rs6816209\",\"rs2408868\",\"rs1527146\",\"rs985473\",\"rs35270975\",\"rs8035662\",\"rs4886605\",\"rs2439927\",\"rs78277770\",\"rs529478087\",\"rs2585195\",\"rs536563232\",\"rs116691555\",\"rs112697364\",\"rs2590773\",\"rs7607563\",\"rs1345663\",\"rs36307\",\"rs6595770\",\"rs11072500\",\"rs111615826\",\"rs6874521\",\"rs12519784\",\"rs2546078\",\"rs17730883\",\"rs185293501\",\"rs559620165\",\"rs13190032\",\"rs2585200\",\"rs560176967\",\"rs6858782\",\"rs4776278\",\"rs246885\",\"rs141323436\",\"rs551240079\",\"rs1808378\",\"rs13001699\",\"rs3789738\",\"rs152122\",\"rs35524\",\"rs1363387\",\"rs17663341\",\"rs144085293\",\"rs10194919\",\"rs2032834\",\"rs16863471\",\"rs940928\",\"rs71050391\",\"rs7179044\",\"rs149267190\",\"rs77629803\",\"rs111886830\",\"rs1422317\",\"rs76912327\",\"rs79625021\",\"rs13411329\",\"rs144220715\",\"rs1345664\",\"rs4864809\",\"rs4836316\",\"rs116979601\",\"rs73680638\",\"rs2616389\",\"rs370151719\",\"rs35526\",\"rs142764751\",\"rs1916976\",\"rs4836317\",\"rs148173005\",\"rs13431945\",\"rs66885466\",\"rs559531437\",\"rs56320297\",\"rs986430\",\"rs2194079\",\"rs7166796\",\"rs2049604\",\"rs2690827\",\"rs2546803\",\"rs36054640\",\"rs2690826\",\"rs11631784\",\"rs27652\",\"rs246943\",\"rs2059084\",\"rs75738423\",\"rs4581663\",\"rs10793809\",\"rs76146262\",\"rs2690825\",\"rs4836323\",\"rs77000981\",\"rs10281571\",\"rs152121\",\"rs552487408\",\"rs4676219\",\"rs17861120\",\"rs529657511\",\"rs180947454\",\"rs145741270\",\"rs185033\",\"rs246887\",\"rs36308\"]},\"selected\":{\"id\":\"1244\",\"type\":\"Selection\"},\"selection_policy\":{\"id\":\"1243\",\"type\":\"UnionRenderers\"}},\"id\":\"1196\",\"type\":\"ColumnDataSource\"},{\"attributes\":{\"fill_color\":{\"field\":\"_contig\",\"transform\":{\"id\":\"1160\",\"type\":\"CategoricalColorMapper\"}},\"line_color\":{\"field\":\"_contig\",\"transform\":{\"id\":\"1160\",\"type\":\"CategoricalColorMapper\"}},\"x\":{\"field\":\"_global_locus\"},\"y\":{\"field\":\"_pval\"}},\"id\":\"1218\",\"type\":\"Circle\"},{\"attributes\":{},\"id\":\"1237\",\"type\":\"BasicTickFormatter\"},{\"attributes\":{\"filters\":[{\"id\":\"1203\",\"type\":\"GroupFilter\"}],\"source\":{\"id\":\"1196\",\"type\":\"ColumnDataSource\"}},\"id\":\"1204\",\"type\":\"CDSView\"},{\"attributes\":{},\"id\":\"1167\",\"type\":\"LinearScale\"},{\"attributes\":{\"bottom_units\":\"screen\",\"fill_alpha\":{\"value\":0.5},\"fill_color\":{\"value\":\"lightgrey\"},\"left_units\":\"screen\",\"level\":\"overlay\",\"line_alpha\":{\"value\":1.0},\"line_color\":{\"value\":\"black\"},\"line_dash\":[4,4],\"line_width\":{\"value\":2},\"render_mode\":\"css\",\"right_units\":\"screen\",\"top_units\":\"screen\"},\"id\":\"1242\",\"type\":\"BoxAnnotation\"},{\"attributes\":{},\"id\":\"1244\",\"type\":\"Selection\"},{\"attributes\":{\"factors\":[\"1\",\"2\",\"3\",\"4\",\"5\",\"6\",\"7\",\"8\",\"9\",\"10\",\"11\",\"12\",\"13\",\"14\",\"15\",\"16\",\"17\",\"18\",\"19\",\"20\",\"21\",\"22\",\"X\",\"Y\",\"MT\",\"GL000207.1\",\"GL000226.1\",\"GL000229.1\",\"GL000231.1\",\"GL000210.1\",\"GL000239.1\",\"GL000235.1\",\"GL000201.1\",\"GL000247.1\",\"GL000245.1\",\"GL000197.1\",\"GL000203.1\",\"GL000246.1\",\"GL000249.1\",\"GL000196.1\",\"GL000248.1\",\"GL000244.1\",\"GL000238.1\",\"GL000202.1\",\"GL000234.1\",\"GL000232.1\",\"GL000206.1\",\"GL000240.1\",\"GL000236.1\",\"GL000241.1\",\"GL000243.1\",\"GL000242.1\",\"GL000230.1\",\"GL000237.1\",\"GL000233.1\",\"GL000204.1\",\"GL000198.1\",\"GL000208.1\",\"GL000191.1\",\"GL000227.1\",\"GL000228.1\",\"GL000214.1\",\"GL000221.1\",\"GL000209.1\",\"GL000218.1\",\"GL000220.1\",\"GL000213.1\",\"GL000211.1\",\"GL000199.1\",\"GL000217.1\",\"GL000216.1\",\"GL000215.1\",\"GL000205.1\",\"GL000219.1\",\"GL000224.1\",\"GL000223.1\",\"GL000195.1\",\"GL000212.1\",\"GL000222.1\",\"GL000200.1\",\"GL000193.1\",\"GL000194.1\",\"GL000225.1\",\"GL000192.1\"],\"palette\":[\"#1f77b4\",\"#ff7f0e\",\"#1f77b4\",\"#ff7f0e\",\"#1f77b4\",\"#ff7f0e\",\"#1f77b4\",\"#ff7f0e\",\"#1f77b4\",\"#ff7f0e\",\"#1f77b4\",\"#ff7f0e\",\"#1f77b4\",\"#ff7f0e\",\"#1f77b4\",\"#ff7f0e\",\"#1f77b4\",\"#ff7f0e\",\"#1f77b4\",\"#ff7f0e\",\"#1f77b4\",\"#ff7f0e\",\"#1f77b4\",\"#ff7f0e\",\"#1f77b4\",\"#ff7f0e\",\"#1f77b4\",\"#ff7f0e\",\"#1f77b4\",\"#ff7f0e\",\"#1f77b4\",\"#ff7f0e\",\"#1f77b4\",\"#ff7f0e\",\"#1f77b4\",\"#ff7f0e\",\"#1f77b4\",\"#ff7f0e\",\"#1f77b4\",\"#ff7f0e\",\"#1f77b4\",\"#ff7f0e\",\"#1f77b4\",\"#ff7f0e\",\"#1f77b4\",\"#ff7f0e\",\"#1f77b4\",\"#ff7f0e\",\"#1f77b4\",\"#ff7f0e\",\"#1f77b4\",\"#ff7f0e\",\"#1f77b4\",\"#ff7f0e\",\"#1f77b4\",\"#ff7f0e\",\"#1f77b4\",\"#ff7f0e\",\"#1f77b4\",\"#ff7f0e\",\"#1f77b4\",\"#ff7f0e\",\"#1f77b4\",\"#ff7f0e\",\"#1f77b4\",\"#ff7f0e\",\"#1f77b4\",\"#ff7f0e\",\"#1f77b4\",\"#ff7f0e\",\"#1f77b4\",\"#ff7f0e\",\"#1f77b4\",\"#ff7f0e\",\"#1f77b4\",\"#ff7f0e\",\"#1f77b4\",\"#ff7f0e\",\"#1f77b4\",\"#ff7f0e\",\"#1f77b4\",\"#ff7f0e\",\"#1f77b4\",\"#ff7f0e\"]},\"id\":\"1160\",\"type\":\"CategoricalColorMapper\"},{\"attributes\":{\"column_name\":\"_contig\",\"group\":\"2\"},\"id\":\"1203\",\"type\":\"GroupFilter\"},{\"attributes\":{\"column_name\":\"_contig\",\"group\":\"5\"},\"id\":\"1215\",\"type\":\"GroupFilter\"},{\"attributes\":{\"fill_color\":{\"field\":\"_contig\",\"transform\":{\"id\":\"1160\",\"type\":\"CategoricalColorMapper\"}},\"line_color\":{\"field\":\"_contig\",\"transform\":{\"id\":\"1160\",\"type\":\"CategoricalColorMapper\"}},\"x\":{\"field\":\"_global_locus\"},\"y\":{\"field\":\"_pval\"}},\"id\":\"1212\",\"type\":\"Circle\"},{\"attributes\":{\"fill_color\":{\"field\":\"_contig\",\"transform\":{\"id\":\"1160\",\"type\":\"CategoricalColorMapper\"}},\"line_color\":{\"field\":\"_contig\",\"transform\":{\"id\":\"1160\",\"type\":\"CategoricalColorMapper\"}},\"x\":{\"field\":\"_global_locus\"},\"y\":{\"field\":\"_pval\"}},\"id\":\"1224\",\"type\":\"Circle\"},{\"attributes\":{\"label\":{\"value\":\"15\"},\"renderers\":[{\"id\":\"1202\",\"type\":\"GlyphRenderer\"}]},\"id\":\"1227\",\"type\":\"LegendItem\"},{\"attributes\":{\"filters\":[{\"id\":\"1215\",\"type\":\"GroupFilter\"}],\"source\":{\"id\":\"1196\",\"type\":\"ColumnDataSource\"}},\"id\":\"1216\",\"type\":\"CDSView\"},{\"attributes\":{\"fill_alpha\":{\"value\":0.1},\"fill_color\":{\"value\":\"#1f77b4\"},\"line_alpha\":{\"value\":0.1},\"line_color\":{\"value\":\"#1f77b4\"},\"x\":{\"field\":\"_global_locus\"},\"y\":{\"field\":\"_pval\"}},\"id\":\"1213\",\"type\":\"Circle\"},{\"attributes\":{\"data_source\":{\"id\":\"1196\",\"type\":\"ColumnDataSource\"},\"glyph\":{\"id\":\"1224\",\"type\":\"Circle\"},\"hover_glyph\":null,\"muted_glyph\":null,\"nonselection_glyph\":{\"id\":\"1225\",\"type\":\"Circle\"},\"selection_glyph\":null,\"view\":{\"id\":\"1222\",\"type\":\"CDSView\"}},\"id\":\"1226\",\"type\":\"GlyphRenderer\"},{\"attributes\":{\"filters\":[{\"id\":\"1197\",\"type\":\"GroupFilter\"}],\"source\":{\"id\":\"1196\",\"type\":\"ColumnDataSource\"}},\"id\":\"1198\",\"type\":\"CDSView\"},{\"attributes\":{\"data_source\":{\"id\":\"1196\",\"type\":\"ColumnDataSource\"},\"glyph\":{\"id\":\"1218\",\"type\":\"Circle\"},\"hover_glyph\":null,\"muted_glyph\":null,\"nonselection_glyph\":{\"id\":\"1219\",\"type\":\"Circle\"},\"selection_glyph\":null,\"view\":{\"id\":\"1216\",\"type\":\"CDSView\"}},\"id\":\"1220\",\"type\":\"GlyphRenderer\"},{\"attributes\":{\"callback\":null},\"id\":\"1163\",\"type\":\"DataRange1d\"},{\"attributes\":{\"color_mapper\":null,\"formatter\":{\"id\":\"1239\",\"type\":\"BasicTickFormatter\"},\"ticker\":{\"id\":\"1240\",\"type\":\"BasicTicker\"},\"visible\":false},\"id\":\"1233\",\"type\":\"ColorBar\"},{\"attributes\":{\"axis_label\":\"Chromosome\",\"formatter\":{\"id\":\"1241\",\"type\":\"BasicTickFormatter\"},\"major_label_overrides\":{\"1313226357\":\"7\",\"2358551414\":\"15\",\"370850306\":\"2\",\"786049561\":\"4\",\"972084329\":\"5\"},\"ticker\":{\"id\":\"1234\",\"type\":\"FixedTicker\"}},\"id\":\"1171\",\"type\":\"LinearAxis\"},{\"attributes\":{\"fill_alpha\":{\"value\":0.1},\"fill_color\":{\"value\":\"#1f77b4\"},\"line_alpha\":{\"value\":0.1},\"line_color\":{\"value\":\"#1f77b4\"},\"x\":{\"field\":\"_global_locus\"},\"y\":{\"field\":\"_pval\"}},\"id\":\"1201\",\"type\":\"Circle\"},{\"attributes\":{},\"id\":\"1169\",\"type\":\"LinearScale\"},{\"attributes\":{},\"id\":\"1243\",\"type\":\"UnionRenderers\"},{\"attributes\":{\"data_source\":{\"id\":\"1196\",\"type\":\"ColumnDataSource\"},\"glyph\":{\"id\":\"1200\",\"type\":\"Circle\"},\"hover_glyph\":null,\"muted_glyph\":null,\"nonselection_glyph\":{\"id\":\"1201\",\"type\":\"Circle\"},\"selection_glyph\":null,\"view\":{\"id\":\"1198\",\"type\":\"CDSView\"}},\"id\":\"1202\",\"type\":\"GlyphRenderer\"},{\"attributes\":{},\"id\":\"1241\",\"type\":\"BasicTickFormatter\"},{\"attributes\":{\"callback\":null,\"tooltips\":[[\"locus\",\"@locus\"],[\"ri\",\"@ri\"],[\"p_value\",\"@p_value\"]]},\"id\":\"1195\",\"type\":\"HoverTool\"},{\"attributes\":{\"ticker\":{\"id\":\"1172\",\"type\":\"BasicTicker\"}},\"id\":\"1175\",\"type\":\"Grid\"},{\"attributes\":{},\"id\":\"1184\",\"type\":\"SaveTool\"},{\"attributes\":{\"data_source\":{\"id\":\"1196\",\"type\":\"ColumnDataSource\"},\"glyph\":{\"id\":\"1212\",\"type\":\"Circle\"},\"hover_glyph\":null,\"muted_glyph\":null,\"nonselection_glyph\":{\"id\":\"1213\",\"type\":\"Circle\"},\"selection_glyph\":null,\"view\":{\"id\":\"1210\",\"type\":\"CDSView\"}},\"id\":\"1214\",\"type\":\"GlyphRenderer\"},{\"attributes\":{\"active_drag\":\"auto\",\"active_inspect\":\"auto\",\"active_multi\":null,\"active_scroll\":\"auto\",\"active_tap\":\"auto\",\"tools\":[{\"id\":\"1181\",\"type\":\"PanTool\"},{\"id\":\"1182\",\"type\":\"WheelZoomTool\"},{\"id\":\"1183\",\"type\":\"BoxZoomTool\"},{\"id\":\"1184\",\"type\":\"SaveTool\"},{\"id\":\"1185\",\"type\":\"ResetTool\"},{\"id\":\"1186\",\"type\":\"HelpTool\"},{\"id\":\"1195\",\"type\":\"HoverTool\"}]},\"id\":\"1187\",\"type\":\"Toolbar\"},{\"attributes\":{\"filters\":[{\"id\":\"1209\",\"type\":\"GroupFilter\"}],\"source\":{\"id\":\"1196\",\"type\":\"ColumnDataSource\"}},\"id\":\"1210\",\"type\":\"CDSView\"},{\"attributes\":{\"fill_alpha\":{\"value\":0.1},\"fill_color\":{\"value\":\"#1f77b4\"},\"line_alpha\":{\"value\":0.1},\"line_color\":{\"value\":\"#1f77b4\"},\"x\":{\"field\":\"_global_locus\"},\"y\":{\"field\":\"_pval\"}},\"id\":\"1225\",\"type\":\"Circle\"},{\"attributes\":{},\"id\":\"1172\",\"type\":\"BasicTicker\"},{\"attributes\":{\"column_name\":\"_contig\",\"group\":\"7\"},\"id\":\"1221\",\"type\":\"GroupFilter\"},{\"attributes\":{},\"id\":\"1239\",\"type\":\"BasicTickFormatter\"},{\"attributes\":{\"label\":{\"value\":\"5\"},\"renderers\":[{\"id\":\"1220\",\"type\":\"GlyphRenderer\"}]},\"id\":\"1230\",\"type\":\"LegendItem\"},{\"attributes\":{\"callback\":null},\"id\":\"1165\",\"type\":\"DataRange1d\"},{\"attributes\":{\"label\":{\"value\":\"2\"},\"renderers\":[{\"id\":\"1208\",\"type\":\"GlyphRenderer\"}]},\"id\":\"1228\",\"type\":\"LegendItem\"},{\"attributes\":{},\"id\":\"1186\",\"type\":\"HelpTool\"},{\"attributes\":{\"label\":{\"value\":\"7\"},\"renderers\":[{\"id\":\"1226\",\"type\":\"GlyphRenderer\"}]},\"id\":\"1231\",\"type\":\"LegendItem\"},{\"attributes\":{\"filters\":[{\"id\":\"1221\",\"type\":\"GroupFilter\"}],\"source\":{\"id\":\"1196\",\"type\":\"ColumnDataSource\"}},\"id\":\"1222\",\"type\":\"CDSView\"},{\"attributes\":{\"ticks\":[370850306,786049561,972084329,1313226357,2358551414]},\"id\":\"1234\",\"type\":\"FixedTicker\"},{\"attributes\":{\"column_name\":\"_contig\",\"group\":\"4\"},\"id\":\"1209\",\"type\":\"GroupFilter\"},{\"attributes\":{\"label\":{\"value\":\"4\"},\"renderers\":[{\"id\":\"1214\",\"type\":\"GlyphRenderer\"}]},\"id\":\"1229\",\"type\":\"LegendItem\"},{\"attributes\":{\"fill_alpha\":{\"value\":0.1},\"fill_color\":{\"value\":\"#1f77b4\"},\"line_alpha\":{\"value\":0.1},\"line_color\":{\"value\":\"#1f77b4\"},\"x\":{\"field\":\"_global_locus\"},\"y\":{\"field\":\"_pval\"}},\"id\":\"1219\",\"type\":\"Circle\"},{\"attributes\":{\"column_name\":\"_contig\",\"group\":\"15\"},\"id\":\"1197\",\"type\":\"GroupFilter\"}],\"root_ids\":[\"1161\"]},\"title\":\"Bokeh Application\",\"version\":\"1.2.0\"}};\n",
       "  var render_items = [{\"docid\":\"fa6e5d28-5b1b-48be-98b6-25ed863bdb47\",\"roots\":{\"1161\":\"32e4d2a7-7622-4dc9-a769-03cdc3ee211a\"}}];\n",
       "  root.Bokeh.embed.embed_items_notebook(docs_json, render_items);\n",
       "\n",
       "  }\n",
       "  if (root.Bokeh !== undefined) {\n",
       "    embed_document(root);\n",
       "  } else {\n",
       "    var attempts = 0;\n",
       "    var timer = setInterval(function(root) {\n",
       "      if (root.Bokeh !== undefined) {\n",
       "        embed_document(root);\n",
       "        clearInterval(timer);\n",
       "      }\n",
       "      attempts++;\n",
       "      if (attempts > 100) {\n",
       "        console.log(\"Bokeh: ERROR: Unable to run BokehJS code because BokehJS library is missing\");\n",
       "        clearInterval(timer);\n",
       "      }\n",
       "    }, 10, root)\n",
       "  }\n",
       "})(window);"
      ],
      "application/vnd.bokehjs_exec.v0+json": ""
     },
     "metadata": {
      "application/vnd.bokehjs_exec.v0+json": {
       "id": "1161"
      }
     },
     "output_type": "display_data"
    }
   ],
   "source": [
    "import varspark.hail.plot as vshlplt\n",
    "p = vshlplt.manhattan_imp(gwas_with_imp.importance, \n",
    "                            hover_fields=dict(ri=gwas_with_imp.rsid),\n",
    "                            significance_line = None)\n",
    "show(p)"
   ]
  },
  {
   "cell_type": "markdown",
   "metadata": {},
   "source": [
    "_Fig 2: Manhattan plot for rf gin importance values._"
   ]
  },
  {
   "cell_type": "markdown",
   "metadata": {},
   "source": [
    "## Compare logistc regression values vs. rf importance"
   ]
  },
  {
   "cell_type": "code",
   "execution_count": 14,
   "metadata": {},
   "outputs": [
    {
     "data": {
      "text/html": [
       "\n",
       "\n",
       "\n",
       "\n",
       "\n",
       "\n",
       "  <div class=\"bk-root\" id=\"e62b043f-5531-45d3-868f-986adc7b6026\" data-root-id=\"1326\"></div>\n"
      ]
     },
     "metadata": {},
     "output_type": "display_data"
    },
    {
     "data": {
      "application/javascript": [
       "(function(root) {\n",
       "  function embed_document(root) {\n",
       "    \n",
       "  var docs_json = {\"20f734db-c8fd-4b20-b107-bfce7eb7919e\":{\"roots\":{\"references\":[{\"attributes\":{\"below\":[{\"id\":\"1336\",\"type\":\"LinearAxis\"}],\"center\":[{\"id\":\"1340\",\"type\":\"Grid\"},{\"id\":\"1345\",\"type\":\"Grid\"}],\"left\":[{\"id\":\"1341\",\"type\":\"LinearAxis\"}],\"plot_height\":800,\"plot_width\":800,\"renderers\":[{\"id\":\"1365\",\"type\":\"GlyphRenderer\"}],\"title\":null,\"toolbar\":{\"id\":\"1352\",\"type\":\"Toolbar\"},\"x_range\":{\"id\":\"1328\",\"type\":\"DataRange1d\"},\"x_scale\":{\"id\":\"1332\",\"type\":\"LinearScale\"},\"y_range\":{\"id\":\"1330\",\"type\":\"DataRange1d\"},\"y_scale\":{\"id\":\"1334\",\"type\":\"LinearScale\"}},\"id\":\"1326\",\"subtype\":\"Figure\",\"type\":\"Plot\"},{\"attributes\":{},\"id\":\"1337\",\"type\":\"BasicTicker\"},{\"attributes\":{},\"id\":\"1346\",\"type\":\"PanTool\"},{\"attributes\":{},\"id\":\"1347\",\"type\":\"WheelZoomTool\"},{\"attributes\":{\"axis_label\":\"-log10(p-value)\",\"formatter\":{\"id\":\"1388\",\"type\":\"BasicTickFormatter\"},\"ticker\":{\"id\":\"1337\",\"type\":\"BasicTicker\"}},\"id\":\"1336\",\"type\":\"LinearAxis\"},{\"attributes\":{\"active_drag\":\"auto\",\"active_inspect\":\"auto\",\"active_multi\":null,\"active_scroll\":\"auto\",\"active_tap\":\"auto\",\"tools\":[{\"id\":\"1346\",\"type\":\"PanTool\"},{\"id\":\"1347\",\"type\":\"WheelZoomTool\"},{\"id\":\"1348\",\"type\":\"BoxZoomTool\"},{\"id\":\"1349\",\"type\":\"SaveTool\"},{\"id\":\"1350\",\"type\":\"ResetTool\"},{\"id\":\"1351\",\"type\":\"HelpTool\"},{\"id\":\"1360\",\"type\":\"HoverTool\"}]},\"id\":\"1352\",\"type\":\"Toolbar\"},{\"attributes\":{\"fill_color\":{\"value\":\"#1f77b4\"},\"line_color\":{\"value\":\"#1f77b4\"},\"x\":{\"field\":\"x\"},\"y\":{\"field\":\"y\"}},\"id\":\"1363\",\"type\":\"Circle\"},{\"attributes\":{\"fill_alpha\":{\"value\":0.1},\"fill_color\":{\"value\":\"#1f77b4\"},\"line_alpha\":{\"value\":0.1},\"line_color\":{\"value\":\"#1f77b4\"},\"x\":{\"field\":\"x\"},\"y\":{\"field\":\"y\"}},\"id\":\"1364\",\"type\":\"Circle\"},{\"attributes\":{\"source\":{\"id\":\"1361\",\"type\":\"ColumnDataSource\"}},\"id\":\"1366\",\"type\":\"CDSView\"},{\"attributes\":{},\"id\":\"1349\",\"type\":\"SaveTool\"},{\"attributes\":{\"data_source\":{\"id\":\"1361\",\"type\":\"ColumnDataSource\"},\"glyph\":{\"id\":\"1363\",\"type\":\"Circle\"},\"hover_glyph\":null,\"muted_glyph\":null,\"nonselection_glyph\":{\"id\":\"1364\",\"type\":\"Circle\"},\"selection_glyph\":null,\"view\":{\"id\":\"1366\",\"type\":\"CDSView\"}},\"id\":\"1365\",\"type\":\"GlyphRenderer\"},{\"attributes\":{\"callback\":null,\"tooltips\":[[\"x\",\"@x\"],[\"y\",\"@y\"],[\"loc\",\"@loc\"],[\"rs\",\"@rs\"]]},\"id\":\"1360\",\"type\":\"HoverTool\"},{\"attributes\":{\"overlay\":{\"id\":\"1390\",\"type\":\"BoxAnnotation\"}},\"id\":\"1348\",\"type\":\"BoxZoomTool\"},{\"attributes\":{\"callback\":null},\"id\":\"1328\",\"type\":\"DataRange1d\"},{\"attributes\":{},\"id\":\"1386\",\"type\":\"BasicTickFormatter\"},{\"attributes\":{\"dimension\":1,\"ticker\":{\"id\":\"1342\",\"type\":\"BasicTicker\"}},\"id\":\"1345\",\"type\":\"Grid\"},{\"attributes\":{\"callback\":null,\"data\":{\"index\":[0,1,2,3,4,5,6,7,8,9,10,11,12,13,14,15,16,17,18,19,20,21,22,23,24,25,26,27,28,29,30,31,32,33,34,35,36,37,38,39,40,41,42,43,44,45,46,47,48,49,50,51,52,53,54,55,56,57,58,59,60,61,62,63,64,65,66,67,68,69,70,71,72,73,74,75,76,77,78,79,80,81,82,83,84,85,86,87,88,89,90,91,92,93,94,95,96,97,98,99,100,101,102,103,104,105,106,107,108,109,110,111,112,113,114,115,116,117,118,119,120,121,122,123,124,125,126,127,128,129,130,131,132,133,134,135,136,137,138,139,140,141,142,143,144,145,146,147,148,149,150,151,152,153,154,155,156,157,158,159,160,161,162,163,164,165,166,167,168,169,170,171,172,173,174,175,176,177,178,179,180,181,182,183,184,185,186,187,188,189,190,191,192,193,194,195,196,197,198,199,200,201,202,203,204,205,206,207,208,209,210,211,212,213,214,215,216,217,218,219,220,221,222,223,224,225,226,227,228,229,230,231,232,233,234,235,236,237,238,239,240,241,242,243,244,245,246,247,248,249,250,251,252,253,254,255,256,257,258,259,260,261,262,263,264,265,266,267,268,269,270,271,272,273,274,275,276,277,278,279,280,281,282,283,284,285,286,287,288,289,290,291,292,293,294,295,296,297,298,299,300,301,302,303,304,305,306,307,308,309,310,311,312,313,314,315,316,317,318,319,320,321,322,323,324,325,326,327,328,329,330,331,332,333,334,335,336,337,338,339,340,341,342,343,344,345,346,347,348,349,350,351,352,353,354,355,356,357,358,359,360,361,362,363,364,365,366,367,368,369,370,371,372,373,374,375,376,377,378,379,380,381,382,383,384,385,386,387,388,389,390,391,392,393,394,395,396,397,398,399,400,401,402,403,404,405,406,407,408,409,410,411,412,413,414,415,416,417,418,419,420,421,422,423,424,425,426,427,428,429,430,431,432,433,434,435,436,437,438,439,440,441,442,443,444,445,446,447,448,449,450,451,452,453,454,455,456,457,458,459,460,461,462,463,464,465,466,467,468,469,470,471,472,473,474,475,476,477,478,479,480,481,482,483,484,485,486,487,488,489,490,491,492,493,494,495,496,497,498,499,500,501,502,503,504,505,506,507,508,509,510,511,512,513,514,515,516,517,518,519,520,521,522,523,524,525,526,527,528,529,530,531,532,533,534,535,536,537,538,539,540,541,542,543,544,545,546,547,548,549,550,551,552,553,554,555,556,557,558,559,560,561,562,563,564,565,566,567,568,569,570,571,572,573,574,575,576,577,578,579,580,581],\"loc\":[\"5:126727418\",\"15:66523277\",\"15:66348377\",\"15:66465825\",\"15:66299964\",\"15:66465728\",\"15:66527854\",\"5:126636782\",\"5:126630948\",\"15:66326983\",\"15:66429932\",\"15:66502665\",\"5:126655361\",\"15:66484576\",\"2:223034082\",\"5:126639432\",\"15:66491227\",\"15:66499326\",\"15:66491863\",\"15:66522993\",\"15:66357458\",\"5:126639097\",\"15:66530732\",\"5:126796531\",\"5:126637782\",\"15:66484687\",\"15:66486158\",\"15:66320806\",\"15:66276743\",\"15:66523769\",\"5:126744956\",\"15:66512166\",\"15:66453002\",\"2:223032399\",\"15:66445683\",\"2:223035313\",\"2:223035940\",\"5:126636211\",\"15:66403531\",\"15:66527843\",\"5:126775113\",\"5:126661380\",\"15:66251369\",\"15:66325728\",\"15:66541771\",\"5:126645705\",\"15:66522474\",\"15:75029399\",\"15:66397022\",\"5:126654623\",\"15:66479763\",\"15:66381432\",\"5:126678515\",\"5:126650805\",\"5:126645710\",\"15:66271772\",\"2:223034660\",\"15:66459450\",\"5:126775739\",\"15:66382336\",\"5:126641770\",\"5:126640576\",\"15:66490885\",\"5:126695127\",\"5:126657432\",\"15:66356925\",\"15:66536166\",\"15:66547327\",\"15:66415107\",\"15:66540200\",\"5:126630875\",\"5:126725054\",\"15:66339400\",\"5:126697604\",\"5:126687687\",\"15:66513112\",\"5:126647941\",\"15:66388880\",\"15:66479747\",\"15:66393364\",\"15:66282617\",\"5:126628584\",\"15:66534618\",\"5:126643590\",\"15:66349495\",\"2:109511765\",\"15:66509644\",\"15:66364907\",\"2:223033867\",\"15:66499109\",\"7:17285867\",\"15:66455902\",\"15:66321681\",\"15:66441275\",\"15:66401806\",\"15:66269052\",\"5:126644681\",\"15:66505919\",\"15:66540520\",\"5:126653950\",\"15:66421138\",\"5:126715759\",\"15:66339047\",\"2:223034758\",\"15:66452847\",\"15:66462614\",\"5:126653607\",\"15:66475264\",\"5:126679697\",\"5:126795246\",\"5:126662114\",\"5:126663406\",\"15:66365917\",\"15:66499322\",\"5:126725568\",\"15:66528319\",\"5:126705920\",\"15:66514227\",\"5:126794160\",\"5:126669209\",\"15:66398794\",\"7:17282872\",\"15:66516181\",\"15:66259737\",\"15:66352479\",\"15:75025988\",\"15:66360428\",\"5:126724213\",\"15:66505276\",\"5:126652710\",\"15:75026149\",\"15:66545710\",\"5:126629112\",\"15:66260894\",\"15:66483512\",\"5:126644632\",\"2:223033006\",\"5:126694523\",\"5:126628771\",\"5:126726847\",\"15:66270890\",\"15:66327556\",\"15:66461531\",\"5:126688400\",\"15:66496428\",\"15:66541800\",\"5:126731259\",\"5:126664981\",\"15:66488825\",\"15:66312149\",\"15:66518783\",\"5:126626645\",\"15:66518488\",\"15:66308697\",\"2:223033196\",\"5:126649405\",\"15:66330447\",\"15:66469045\",\"15:66350261\",\"5:126723562\",\"15:66488288\",\"15:66197560\",\"15:66321395\",\"5:126636244\",\"5:126644552\",\"15:66537455\",\"15:66221782\",\"15:66503628\",\"5:126639196\",\"5:126710915\",\"5:126772748\",\"15:66471803\",\"15:66492810\",\"15:66540943\",\"15:66426791\",\"15:66323837\",\"5:126661600\",\"5:126731876\",\"15:66527880\",\"15:66439763\",\"15:66529870\",\"5:126639135\",\"15:66476229\",\"15:66431947\",\"5:126636000\",\"15:66538986\",\"15:66488682\",\"15:66513960\",\"5:126722859\",\"15:66496823\",\"5:126639269\",\"15:66506698\",\"5:126699347\",\"15:66313284\",\"5:126739085\",\"5:126650182\",\"15:66540364\",\"15:66349799\",\"5:126689790\",\"5:126625592\",\"5:126694437\",\"15:66386555\",\"15:66351895\",\"5:126635437\",\"5:126683416\",\"5:126652742\",\"5:126642563\",\"15:66407683\",\"5:126751728\",\"5:126654970\",\"15:66351526\",\"15:66459860\",\"5:126717984\",\"15:66530096\",\"15:66272491\",\"15:66408286\",\"15:66350108\",\"15:66269504\",\"15:66523184\",\"15:75029998\",\"15:66535572\",\"15:66496226\",\"4:54511711\",\"15:66501794\",\"15:66500961\",\"15:66547227\",\"15:66477679\",\"15:66267469\",\"15:66339349\",\"5:126645334\",\"15:66370565\",\"2:223033030\",\"5:126698345\",\"15:66396554\",\"15:66516481\",\"4:54509759\",\"15:66427055\",\"5:126679402\",\"5:126773064\",\"15:66544488\",\"15:66524488\",\"15:66501505\",\"5:126625758\",\"15:66441238\",\"15:66527971\",\"15:66395918\",\"15:66444762\",\"15:66491009\",\"5:126798856\",\"15:66361057\",\"15:66327647\",\"15:66483378\",\"5:126683883\",\"15:66471172\",\"15:66523150\",\"15:66500990\",\"5:126655749\",\"15:75029228\",\"5:126655730\",\"5:126633958\",\"5:126629761\",\"15:66433646\",\"15:66522080\",\"15:66269700\",\"15:66508895\",\"5:126793219\",\"5:126641296\",\"15:66331497\",\"15:66492156\",\"15:66496865\",\"5:126692337\",\"5:126638459\",\"15:66483696\",\"15:66438961\",\"15:66526289\",\"5:126683590\",\"15:66301813\",\"5:126629170\",\"15:66333100\",\"5:126661519\",\"15:66490018\",\"5:126693280\",\"5:126656998\",\"5:126683809\",\"15:66327924\",\"5:126644396\",\"15:66524049\",\"15:66372710\",\"15:66480216\",\"15:66477446\",\"15:66513813\",\"15:66529124\",\"15:75029407\",\"15:66408407\",\"15:66529223\",\"7:17282974\",\"15:66438551\",\"15:66355792\",\"15:66365696\",\"15:66332982\",\"5:126660301\",\"15:66476657\",\"15:66344558\",\"5:126640971\",\"5:126773180\",\"5:126701622\",\"5:126653809\",\"7:17284085\",\"5:126693265\",\"15:66516977\",\"15:66264100\",\"5:126645646\",\"15:66392416\",\"15:66362242\",\"15:66393813\",\"15:66469939\",\"15:75027880\",\"15:66520281\",\"15:66498171\",\"5:126697755\",\"7:17284989\",\"5:126726851\",\"15:66531427\",\"5:126630491\",\"4:54514026\",\"5:126778245\",\"15:66264965\",\"15:66525066\",\"15:66510618\",\"15:66346707\",\"15:66538879\",\"5:126632821\",\"15:66532657\",\"15:66260006\",\"15:66494552\",\"15:66478029\",\"15:66504305\",\"5:126659892\",\"15:66520931\",\"5:126777362\",\"4:54512752\",\"5:126634444\",\"5:126640205\",\"15:66396873\",\"15:66526977\",\"5:126642357\",\"15:75028490\",\"15:66253785\",\"15:66527853\",\"15:66326871\",\"15:66455151\",\"5:126697138\",\"15:66511003\",\"15:66217240\",\"15:66416823\",\"15:66374852\",\"4:54513819\",\"15:66253117\",\"5:126642920\",\"5:126625548\",\"15:66271824\",\"15:66400117\",\"5:126681193\",\"15:66408092\",\"5:126675780\",\"15:66272042\",\"15:66485616\",\"2:109514985\",\"15:66272409\",\"7:113987281\",\"5:126740316\",\"15:66533587\",\"5:126628098\",\"15:66480681\",\"15:66465185\",\"5:126658500\",\"5:126787286\",\"2:223032642\",\"4:54510427\",\"5:126651068\",\"15:66387527\",\"15:66438085\",\"15:66456455\",\"5:126633827\",\"15:66304148\",\"2:223032504\",\"15:66337657\",\"5:126797292\",\"15:66430422\",\"15:66524808\",\"15:66388126\",\"5:126644401\",\"5:126631841\",\"15:66372580\",\"15:66440892\",\"15:66340499\",\"15:66434797\",\"15:66380790\",\"15:66377102\",\"5:126686756\",\"15:66520553\",\"5:126652407\",\"15:66539304\",\"5:126769874\",\"15:66490680\",\"5:126645343\",\"5:126782325\",\"15:66417805\",\"15:66304916\",\"15:66408628\",\"15:66326736\",\"15:66425000\",\"5:126657217\",\"15:66414557\",\"5:126672710\",\"5:126644769\",\"15:66342128\",\"15:66300745\",\"5:126642148\",\"15:66465803\",\"5:126668683\",\"15:66275546\",\"15:66506531\",\"15:66253733\",\"5:126645738\",\"15:66443204\",\"15:66339584\",\"5:126776307\",\"15:66367576\",\"15:66513852\",\"5:126715151\",\"15:66534231\",\"5:126685374\",\"5:126643533\",\"15:66542039\",\"5:126796585\",\"15:66382275\",\"15:66474044\",\"5:126683321\",\"15:66440454\",\"15:66327646\",\"15:66432949\",\"5:126727008\",\"15:66304403\",\"15:66372939\",\"5:126626044\",\"15:66438682\",\"15:66443465\",\"15:66259809\",\"15:66390090\",\"5:126678028\",\"15:66482162\",\"15:66360842\",\"15:66335837\",\"15:66384354\",\"5:126654062\",\"5:126674613\",\"15:66345400\",\"5:126698070\",\"15:66488394\",\"5:126627875\",\"5:126667551\",\"5:126677978\",\"15:66388261\",\"5:126657766\",\"15:66429897\",\"5:126785305\",\"15:66489681\",\"15:66344358\",\"15:66503610\",\"15:66531573\",\"5:126688517\",\"15:66420174\",\"15:66392896\",\"15:66352068\",\"5:126640246\",\"15:66498862\",\"5:126792974\",\"15:66504157\",\"5:126688726\",\"5:126689935\",\"15:66329001\",\"15:66487601\",\"5:126639025\",\"5:126639591\",\"15:66317418\",\"5:126633436\",\"15:66263893\",\"15:66465816\",\"15:66272893\",\"5:126680343\",\"5:126648201\",\"5:126682039\",\"15:66388878\",\"15:66503705\",\"5:126654751\",\"15:66359605\",\"5:126689438\",\"15:66515534\",\"15:66405053\",\"15:66463760\",\"5:126646864\",\"5:126675068\",\"15:66384263\",\"5:126664039\",\"5:126767961\",\"15:66315478\",\"5:126698023\",\"5:126780344\",\"5:126662820\",\"15:66271429\",\"15:66380254\",\"15:66480660\",\"15:66412257\",\"15:66543310\",\"15:66479252\",\"5:126630016\",\"15:66234308\",\"15:66258194\",\"5:126795159\",\"15:66369784\",\"5:126789986\",\"7:113990352\",\"5:126656500\",\"5:126635667\",\"15:66374847\",\"5:126706883\",\"5:126687822\",\"4:54511246\",\"5:126689489\",\"2:223033642\",\"5:126682354\",\"5:126797404\",\"15:66441866\",\"5:126662370\",\"15:66443832\",\"15:66269804\",\"15:66400644\",\"15:66332864\",\"15:66397544\",\"15:66453385\",\"15:66538713\",\"5:126635055\",\"15:66299460\",\"15:66518805\",\"15:66482259\",\"15:66278588\",\"7:17284577\",\"4:54510874\",\"15:66444211\",\"7:113987889\",\"15:66480461\",\"15:66547641\",\"5:126661774\",\"15:66493963\",\"15:66403362\",\"15:66539037\",\"15:66317465\",\"5:126691169\",\"5:126775462\",\"15:66443385\",\"5:126735334\",\"15:66397161\",\"5:126637872\",\"15:66335979\",\"7:113989578\",\"15:75028536\",\"15:66516376\",\"5:126669004\",\"2:223035211\",\"5:126639801\",\"15:66376088\",\"15:66515921\",\"15:66402390\",\"5:126735430\",\"5:126780212\",\"15:75027179\",\"4:54511913\",\"5:126650411\",\"5:126656324\",\"5:126635083\",\"15:66330946\"],\"rs\":[\"rs1153432\",\"rs187219970\",\"rs6494543\",\"rs11071864\",\"rs417442\",\"rs12101462\",\"rs74245464\",\"rs17165082\",\"rs2059083\",\"rs56267112\",\"rs61480315\",\"rs115559669\",\"rs73785580\",\"rs12908120\",\"rs2218065\",\"rs2585195\",\"rs4776287\",\"rs59332335\",\"rs4776289\",\"rs12900376\",\"rs1351032\",\"rs2546807\",\"rs16949724\",\"rs35236935\",\"rs57623356\",\"rs145941530\",\"rs540220942\",\"rs333580\",\"rs112126245\",\"rs11631331\",\"rs56320297\",\"rs7170633\",\"rs147184281\",\"rs986429\",\"rs7176051\",\"rs66885466\",\"rs11690945\",\"rs2546809\",\"rs17241679\",\"rs34276626\",\"rs34451603\",\"rs31471\",\"rs512385\",\"rs28848849\",\"rs55865344\",\"rs201053818\",\"rs12915058\",\"rs8030076\",\"rs6494552\",\"rs2439927\",\"rs78550588\",\"rs4601990\",\"rs139379138\",\"rs2546087\",\"rs541675801\",\"rs428658\",\"rs985473\",\"rs2169629\",\"rs13190032\",\"rs8041690\",\"rs2585193\",\"rs2546080\",\"rs7180685\",\"rs35528\",\"rs246889\",\"rs11856955\",\"rs77801942\",\"rs182399243\",\"rs140789134\",\"rs144220879\",\"rs146140674\",\"rs10041484\",\"rs333603\",\"rs72788513\",\"rs43148\",\"rs112147705\",\"rs1422316\",\"rs573989361\",\"rs9920358\",\"rs557507396\",\"rs2414897\",\"rs112394041\",\"rs7176609\",\"rs2585191\",\"rs333577\",\"rs10865025\",\"rs73475583\",\"rs4776713\",\"rs80199364\",\"rs2086035\",\"rs10281571\",\"rs376495292\",\"rs78254725\",\"rs16949565\",\"rs77153434\",\"rs377422\",\"rs2254762\",\"rs10572080\",\"rs59967396\",\"rs246948\",\"rs118000025\",\"rs113091845\",\"rs333602\",\"rs71050391\",\"rs7163737\",\"rs79099915\",\"rs138731838\",\"rs8030058\",\"rs246896\",\"rs3756722\",\"rs26945\",\"rs11285616\",\"rs57916002\",\"rs58731318\",\"rs4401615\",\"rs12442223\",\"rs1422318\",\"rs139859196\",\"rs75528418\",\"rs145619126\",\"rs4776728\",\"rs79710531\",\"rs4550404\",\"rs73481613\",\"rs1036367\",\"rs4886605\",\"rs1550029\",\"rs557256293\",\"rs1466434\",\"rs246945\",\"rs17861118\",\"rs112753173\",\"rs4836318\",\"rs333556\",\"rs7164771\",\"rs72786459\",\"rs529478087\",\"rs27563\",\"rs4836317\",\"rs2008432\",\"rs405857\",\"rs333590\",\"rs7182128\",\"rs72788505\",\"rs11631455\",\"rs55677817\",\"rs13171067\",\"rs27749\",\"rs2899712\",\"rs333610\",\"rs28735605\",\"rs2032834\",\"rs574841017\",\"rs200617053\",\"rs13411329\",\"rs115859035\",\"rs333594\",\"rs144948550\",\"rs138264234\",\"rs9327438\",\"rs4238403\",\"rs16949086\",\"rs2552180\",\"rs73785576\",\"rs2546804\",\"rs1913414\",\"rs77371692\",\"rs112462909\",\"rs56169866\",\"rs34537147\",\"rs12514969\",\"rs58838384\",\"rs11637021\",\"rs1531495\",\"rs11631367\",\"rs333584\",\"rs33930493\",\"rs2059084\",\"rs5813386\",\"rs34811858\",\"rs77262154\",\"rs2546808\",\"rs115227715\",\"rs112695033\",\"rs7702573\",\"rs56399421\",\"rs550456183;rs4381540\",\"esv3636766\",\"rs6881894\",\"rs78943012\",\"rs56084567\",\"rs1003990\",\"rs35525\",\"rs167998\",\"rs6877254\",\"rs1345663\",\"rs2199569\",\"rs521504\",\"rs73344964\",\"rs183280201\",\"rs26947\",\"rs576224344\",\"rs6494544\",\"rs35796097\",\"rs187514\",\"rs246946\",\"rs2546083\",\"rs12438373\",\"rs6595770\",\"rs246885\",\"rs4776712\",\"rs138152110\",\"rs35529\",\"rs4776770\",\"rs388813\",\"rs7167774\",\"rs170780\",\"rs372969314\",\"rs10518680\",\"rs76354137\",\"rs9652477\",\"rs11636681\",\"rs2668551\",\"rs72744502\",\"rs114736873\",\"rs35479908\",\"rs34270365\",\"rs409309\",\"rs3852627\",\"rs2585190\",\"rs12901123\",\"rs16863473\",\"rs35526\",\"rs1034505\",\"rs11637903\",\"rs6818959\",\"rs4776742\",\"rs246897\",\"rs6859304\",\"rs112943670\",\"rs62009957\",\"rs59707715\",\"rs10519929\",\"rs16949561\",\"rs1531496\",\"rs74589474\",\"rs115987711\",\"rs12916574\",\"rs73348777\",\"rs2899714\",\"rs74023655\",\"rs7164231\",\"rs27652\",\"rs1871002\",\"rs12900781\",\"rs35615386\",\"rs246887\",\"rs77021813\",\"rs246886\",\"rs2585196\",\"rs17165105\",\"rs111307102\",\"rs35377947\",\"rs693217\",\"rs55922529\",\"rs10793809\",\"rs2585194\",\"rs390919\",\"rs1382053\",\"rs16949689\",\"rs17165038\",\"rs2898042\",\"rs146871315\",\"rs35259179\",\"rs72149070\",\"rs72786494\",\"rs2552181\",\"rs12519784\",\"rs170781\",\"rs10550881\",\"rs8024304\",\"rs144085293\",\"rs246888\",\"rs27388\",\"rs333592\",\"rs2546802\",\"rs2126701\",\"rs111906893\",\"rs899079\",\"rs72625767\",\"rs4776292\",\"rs10152880\",\"rs8029744\",\"rs4776733\",\"rs4776767\",\"rs17137451\",\"rs12593454\",\"rs4776277\",\"rs72744410\",\"rs1434733\",\"rs31472\",\"rs7180751\",\"rs16949336\",\"rs2546081\",\"rs6859181\",\"rs35524\",\"rs246947\",\"rs6943079\",\"rs246892\",\"rs11311522\",\"rs333559\",\"rs2546805\",\"rs140724701\",\"rs892655\",\"rs7178692\",\"rs76364406\",\"rs2472297\",\"rs28695263\",\"rs59864873\",\"rs78259230\",\"rs10277582\",\"rs1318923\",\"rs8040835\",\"rs200086613\",\"rs79162003\",\"rs73348744\",\"rs183481\",\"rs7176045\",\"rs8039102\",\"rs167995\",\"rs60133982\",\"rs2585199\",\"rs28690215\",\"rs186729\",\"rs145061100\",\"rs10851752\",\"rs11856104\",\"rs34208116\",\"rs6494558\",\"rs59745564\",\"rs2590773\",\"rs2194080\",\"rs1816058\",\"rs4776727\",\"rs7164601\",\"rs116194529\",\"rs11072500\",\"rs72742835\",\"rs5813385\",\"rs333588\",\"rs61629746\",\"rs35527\",\"rs71836525\",\"rs12903123\",\"rs4776736\",\"rs202040729\",\"rs6858782\",\"rs12592034\",\"rs2546085\",\"rs2408868\",\"rs407596\",\"rs1993832\",\"rs114244425\",\"rs72744439\",\"rs78120546\",\"rs11854757\",\"rs4776286\",\"rs11689836\",\"rs402139\",\"rs1527146\",\"rs17165090\",\"rs57771609\",\"rs2194079\",\"rs541648297;rs35256111\",\"rs7183800\",\"rs152122\",\"rs17164941\",\"rs986430\",\"rs2668552\",\"rs246943\",\"rs4776725\",\"rs7181974\",\"rs28664703\",\"rs2585197\",\"rs4776711\",\"rs36054640\",\"rs173006\",\"rs4836323\",\"rs74245462\",\"rs62009959\",\"rs6494551\",\"rs2546803\",\"rs2585200\",\"rs8035843\",\"rs28408126\",\"rs333607\",\"rs12148564\",\"rs117259336\",\"rs6494548\",\"rs185030\",\"rs149940181\",\"rs246944\",\"rs7162947\",\"rs10078629\",\"rs78638359\",\"rs2546086\",\"rs10072587\",\"rs17241901\",\"rs441949\",\"rs72744440\",\"rs58298192\",\"rs4776741\",\"rs152121\",\"rs146608960\",\"rs77589749\",\"rs1422315\",\"rs8035289\",\"rs1991144\",\"rs2585192\",\"rs35858133\",\"rs2546078\",\"rs17239740\",\"rs77525486\",\"rs333567\",\"rs13153845\",\"rs567593084\",\"rs333604\",\"rs60681812\",\"rs1550030\",\"rs80253188\",\"rs79713470\",\"rs7176478\",\"rs550745558\",\"rs115021097\",\"rs28599978\",\"rs2898043\",\"rs1542530\",\"rs4776758\",\"rs56096254\",\"rs149939757\",\"rs333591\",\"rs10518678\",\"rs1019482\",\"rs113413922\",\"rs17241225\",\"rs1363387\",\"rs561037574\",\"rs74021650\",\"rs333554\",\"rs59635353\",\"rs17839696\",\"rs75587534\",\"rs1369159\",\"rs471751\",\"rs16949434\",\"rs185032\",\"rs27782\",\"rs2571354\",\"rs77198001\",\"rs114532444\",\"rs4836316\",\"rs27562\",\"rs17684525\",\"rs8035864\",\"rs559620165\",\"rs370151719\",\"rs41298318\",\"rs11071869\",\"rs2552182\",\"rs71398251\",\"rs8039721\",\"rs185033\",\"rs7179044\",\"rs28406928\",\"rs8041368\",\"rs1816059\",\"rs2086036\",\"rs3812052\",\"rs16949697\",\"rs73344962\",\"rs55918025\",\"rs74023656\",\"rs72744487\",\"rs2546079\",\"rs2431496\",\"rs28639591\",\"rs970546\",\"rs333558\",\"rs11071863\",\"rs449841\",\"rs76290412\",\"rs1422317\",\"rs246895\",\"rs2414895\",\"rs551897190;rs377339953\",\"rs185150222\",\"rs55781516\",\"rs1160960\",\"rs11856933\",\"rs138589055\",\"rs77750864\",\"rs2161283\",\"rs17673170\",\"rs1477793\",\"rs36307\",\"rs6866678\",\"rs375962533\",\"rs35156178\",\"rs10519941\",\"rs17762857\",\"rs368614\",\"rs1600053\",\"rs78562876\",\"rs7172880\",\"rs141745036\",\"rs1351030\",\"rs1422313\",\"rs62014448\",\"rs333552\",\"rs3756721\",\"rs4776716\",\"rs76912327\",\"rs2049604\",\"rs152120\",\"rs1345662\",\"rs577885306\",\"rs12657844\",\"rs36308\",\"rs2616389\",\"rs26946\",\"rs2218064\",\"rs246894\",\"rs4836324\",\"rs55939037\",\"rs76302267\",\"rs11071861\",\"rs511563\",\"rs67053960\",\"rs59651556\",\"rs2035183\",\"rs59080926\",\"rs28637960\",\"rs1808378\",\"rs2552176\",\"rs11637056\",\"rs7181353\",\"rs78423360\",\"rs4410790\",\"rs6816209\",\"rs7163246\",\"rs2690825\",\"rs74019511\",\"rs1871006\",\"rs31470\",\"rs184822256\",\"rs72744431\",\"rs58480841\",\"rs621616\",\"rs73344966\",\"rs2408872\",\"rs28701721\",\"rs10519939\",\"rs34890708\",\"rs2546806\",\"rs4776276\",\"rs2690827\",\"rs112697364\",\"rs139211535\",\"rs26944\",\"rs5838931\",\"rs2431724\",\"rs2899711\",\"rs11637593\",\"rs73485589\",\"rs251031\",\"rs12516897\",\"rs17861120\",\"rs4864809\",\"rs1345664\",\"rs3050850\",\"rs2018571\",\"rs1465485\"],\"x\":{\"__ndarray__\":\"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\",\"dtype\":\"float64\",\"shape\":[582]},\"y\":{\"__ndarray__\":\"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\",\"dtype\":\"float64\",\"shape\":[582]}},\"selected\":{\"id\":\"1392\",\"type\":\"Selection\"},\"selection_policy\":{\"id\":\"1391\",\"type\":\"UnionRenderers\"}},\"id\":\"1361\",\"type\":\"ColumnDataSource\"},{\"attributes\":{},\"id\":\"1388\",\"type\":\"BasicTickFormatter\"},{\"attributes\":{},\"id\":\"1342\",\"type\":\"BasicTicker\"},{\"attributes\":{},\"id\":\"1350\",\"type\":\"ResetTool\"},{\"attributes\":{\"bottom_units\":\"screen\",\"fill_alpha\":{\"value\":0.5},\"fill_color\":{\"value\":\"lightgrey\"},\"left_units\":\"screen\",\"level\":\"overlay\",\"line_alpha\":{\"value\":1.0},\"line_color\":{\"value\":\"black\"},\"line_dash\":[4,4],\"line_width\":{\"value\":2},\"render_mode\":\"css\",\"right_units\":\"screen\",\"top_units\":\"screen\"},\"id\":\"1390\",\"type\":\"BoxAnnotation\"},{\"attributes\":{},\"id\":\"1392\",\"type\":\"Selection\"},{\"attributes\":{},\"id\":\"1332\",\"type\":\"LinearScale\"},{\"attributes\":{\"callback\":null},\"id\":\"1330\",\"type\":\"DataRange1d\"},{\"attributes\":{},\"id\":\"1351\",\"type\":\"HelpTool\"},{\"attributes\":{\"axis_label\":\"gini importance\",\"formatter\":{\"id\":\"1386\",\"type\":\"BasicTickFormatter\"},\"ticker\":{\"id\":\"1342\",\"type\":\"BasicTicker\"}},\"id\":\"1341\",\"type\":\"LinearAxis\"},{\"attributes\":{},\"id\":\"1391\",\"type\":\"UnionRenderers\"},{\"attributes\":{\"ticker\":{\"id\":\"1337\",\"type\":\"BasicTicker\"}},\"id\":\"1340\",\"type\":\"Grid\"},{\"attributes\":{},\"id\":\"1334\",\"type\":\"LinearScale\"}],\"root_ids\":[\"1326\"]},\"title\":\"Bokeh Application\",\"version\":\"1.2.0\"}};\n",
       "  var render_items = [{\"docid\":\"20f734db-c8fd-4b20-b107-bfce7eb7919e\",\"roots\":{\"1326\":\"e62b043f-5531-45d3-868f-986adc7b6026\"}}];\n",
       "  root.Bokeh.embed.embed_items_notebook(docs_json, render_items);\n",
       "\n",
       "  }\n",
       "  if (root.Bokeh !== undefined) {\n",
       "    embed_document(root);\n",
       "  } else {\n",
       "    var attempts = 0;\n",
       "    var timer = setInterval(function(root) {\n",
       "      if (root.Bokeh !== undefined) {\n",
       "        embed_document(root);\n",
       "        clearInterval(timer);\n",
       "      }\n",
       "      attempts++;\n",
       "      if (attempts > 100) {\n",
       "        console.log(\"Bokeh: ERROR: Unable to run BokehJS code because BokehJS library is missing\");\n",
       "        clearInterval(timer);\n",
       "      }\n",
       "    }, 10, root)\n",
       "  }\n",
       "})(window);"
      ],
      "application/vnd.bokehjs_exec.v0+json": ""
     },
     "metadata": {
      "application/vnd.bokehjs_exec.v0+json": {
       "id": "1326"
      }
     },
     "output_type": "display_data"
    }
   ],
   "source": [
    "p = hl.plot.scatter(x=-hl.log10(gwas_with_imp.p_value),\n",
    "                    y=gwas_with_imp.importance, \n",
    "                    xlabel = '-log10(p-value)',\n",
    "                    ylabel = 'gini importance',\n",
    "                    hover_fields=dict(rs=gwas_with_imp.rsid, loc=gwas_with_imp.locus))\n",
    "show(p)"
   ]
  },
  {
   "cell_type": "markdown",
   "metadata": {},
   "source": [
    "_Fig 3: Compare gini importance vs logistic regresion p-values._"
   ]
  }
 ],
 "metadata": {
  "kernelspec": {
   "display_name": "Python 3",
   "language": "python",
   "name": "python3"
  },
  "language_info": {
   "codemirror_mode": {
    "name": "ipython",
    "version": 3
   },
   "file_extension": ".py",
   "mimetype": "text/x-python",
   "name": "python",
   "nbconvert_exporter": "python",
   "pygments_lexer": "ipython3",
   "version": "3.6.0"
  }
 },
 "nbformat": 4,
 "nbformat_minor": 2
}
