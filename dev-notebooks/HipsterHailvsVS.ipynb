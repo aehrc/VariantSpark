{
 "cells": [
  {
   "cell_type": "markdown",
   "metadata": {},
   "source": [
    "VariantSpark integration with Hail 0.2\n",
    "==============================\n",
    "\n",
    "## Bootstrap\n",
    "\n",
    "Use `vshl.init()` to include `variant-spark` jar on the classpath. "
   ]
  },
  {
   "cell_type": "code",
   "execution_count": 1,
   "metadata": {},
   "outputs": [
    {
     "name": "stderr",
     "output_type": "stream",
     "text": [
      "using variant-spark jar at /Users/szu004/dev/variant-spark/target/variant-spark_2.11-0.3.0-SNAPSHOT-all.jar\n",
      "using hail jar at /Users/szu004/miniconda2/envs/hail/lib/python3.6/site-packages/hail/hail-all-spark.jar\n",
      "using hail jar at /Users/szu004/miniconda2/envs/hail/lib/python3.6/site-packages/hail/hail-all-spark.jar\n",
      "Running on Apache Spark version 2.4.1\n",
      "SparkUI available at http://szu004-mac-dp.nexus.csiro.au:4040\n",
      "Welcome to\n",
      "     __  __     <>__\n",
      "    / /_/ /__  __/ /\n",
      "   / __  / _ `/ / /\n",
      "  /_/ /_/\\_,_/_/_/   version 0.2.16-6da0d3571629\n",
      "LOGGING: writing to /Users/szu004/dev/variant-spark/dev-notebooks/hail-20190917-1028-0.2.16-6da0d3571629.log\n"
     ]
    }
   ],
   "source": [
    "import hail as hl\n",
    "import varspark.hail as vshl\n",
    "vshl.init()"
   ]
  },
  {
   "cell_type": "code",
   "execution_count": 2,
   "metadata": {},
   "outputs": [
    {
     "data": {
      "text/html": [
       "\n",
       "    <div class=\"bk-root\">\n",
       "        <a href=\"https://bokeh.pydata.org\" target=\"_blank\" class=\"bk-logo bk-logo-small bk-logo-notebook\"></a>\n",
       "        <span id=\"1001\">Loading BokehJS ...</span>\n",
       "    </div>"
      ]
     },
     "metadata": {},
     "output_type": "display_data"
    },
    {
     "data": {
      "application/javascript": [
       "\n",
       "(function(root) {\n",
       "  function now() {\n",
       "    return new Date();\n",
       "  }\n",
       "\n",
       "  var force = true;\n",
       "\n",
       "  if (typeof root._bokeh_onload_callbacks === \"undefined\" || force === true) {\n",
       "    root._bokeh_onload_callbacks = [];\n",
       "    root._bokeh_is_loading = undefined;\n",
       "  }\n",
       "\n",
       "  var JS_MIME_TYPE = 'application/javascript';\n",
       "  var HTML_MIME_TYPE = 'text/html';\n",
       "  var EXEC_MIME_TYPE = 'application/vnd.bokehjs_exec.v0+json';\n",
       "  var CLASS_NAME = 'output_bokeh rendered_html';\n",
       "\n",
       "  /**\n",
       "   * Render data to the DOM node\n",
       "   */\n",
       "  function render(props, node) {\n",
       "    var script = document.createElement(\"script\");\n",
       "    node.appendChild(script);\n",
       "  }\n",
       "\n",
       "  /**\n",
       "   * Handle when an output is cleared or removed\n",
       "   */\n",
       "  function handleClearOutput(event, handle) {\n",
       "    var cell = handle.cell;\n",
       "\n",
       "    var id = cell.output_area._bokeh_element_id;\n",
       "    var server_id = cell.output_area._bokeh_server_id;\n",
       "    // Clean up Bokeh references\n",
       "    if (id != null && id in Bokeh.index) {\n",
       "      Bokeh.index[id].model.document.clear();\n",
       "      delete Bokeh.index[id];\n",
       "    }\n",
       "\n",
       "    if (server_id !== undefined) {\n",
       "      // Clean up Bokeh references\n",
       "      var cmd = \"from bokeh.io.state import curstate; print(curstate().uuid_to_server['\" + server_id + \"'].get_sessions()[0].document.roots[0]._id)\";\n",
       "      cell.notebook.kernel.execute(cmd, {\n",
       "        iopub: {\n",
       "          output: function(msg) {\n",
       "            var id = msg.content.text.trim();\n",
       "            if (id in Bokeh.index) {\n",
       "              Bokeh.index[id].model.document.clear();\n",
       "              delete Bokeh.index[id];\n",
       "            }\n",
       "          }\n",
       "        }\n",
       "      });\n",
       "      // Destroy server and session\n",
       "      var cmd = \"import bokeh.io.notebook as ion; ion.destroy_server('\" + server_id + \"')\";\n",
       "      cell.notebook.kernel.execute(cmd);\n",
       "    }\n",
       "  }\n",
       "\n",
       "  /**\n",
       "   * Handle when a new output is added\n",
       "   */\n",
       "  function handleAddOutput(event, handle) {\n",
       "    var output_area = handle.output_area;\n",
       "    var output = handle.output;\n",
       "\n",
       "    // limit handleAddOutput to display_data with EXEC_MIME_TYPE content only\n",
       "    if ((output.output_type != \"display_data\") || (!output.data.hasOwnProperty(EXEC_MIME_TYPE))) {\n",
       "      return\n",
       "    }\n",
       "\n",
       "    var toinsert = output_area.element.find(\".\" + CLASS_NAME.split(' ')[0]);\n",
       "\n",
       "    if (output.metadata[EXEC_MIME_TYPE][\"id\"] !== undefined) {\n",
       "      toinsert[toinsert.length - 1].firstChild.textContent = output.data[JS_MIME_TYPE];\n",
       "      // store reference to embed id on output_area\n",
       "      output_area._bokeh_element_id = output.metadata[EXEC_MIME_TYPE][\"id\"];\n",
       "    }\n",
       "    if (output.metadata[EXEC_MIME_TYPE][\"server_id\"] !== undefined) {\n",
       "      var bk_div = document.createElement(\"div\");\n",
       "      bk_div.innerHTML = output.data[HTML_MIME_TYPE];\n",
       "      var script_attrs = bk_div.children[0].attributes;\n",
       "      for (var i = 0; i < script_attrs.length; i++) {\n",
       "        toinsert[toinsert.length - 1].firstChild.setAttribute(script_attrs[i].name, script_attrs[i].value);\n",
       "      }\n",
       "      // store reference to server id on output_area\n",
       "      output_area._bokeh_server_id = output.metadata[EXEC_MIME_TYPE][\"server_id\"];\n",
       "    }\n",
       "  }\n",
       "\n",
       "  function register_renderer(events, OutputArea) {\n",
       "\n",
       "    function append_mime(data, metadata, element) {\n",
       "      // create a DOM node to render to\n",
       "      var toinsert = this.create_output_subarea(\n",
       "        metadata,\n",
       "        CLASS_NAME,\n",
       "        EXEC_MIME_TYPE\n",
       "      );\n",
       "      this.keyboard_manager.register_events(toinsert);\n",
       "      // Render to node\n",
       "      var props = {data: data, metadata: metadata[EXEC_MIME_TYPE]};\n",
       "      render(props, toinsert[toinsert.length - 1]);\n",
       "      element.append(toinsert);\n",
       "      return toinsert\n",
       "    }\n",
       "\n",
       "    /* Handle when an output is cleared or removed */\n",
       "    events.on('clear_output.CodeCell', handleClearOutput);\n",
       "    events.on('delete.Cell', handleClearOutput);\n",
       "\n",
       "    /* Handle when a new output is added */\n",
       "    events.on('output_added.OutputArea', handleAddOutput);\n",
       "\n",
       "    /**\n",
       "     * Register the mime type and append_mime function with output_area\n",
       "     */\n",
       "    OutputArea.prototype.register_mime_type(EXEC_MIME_TYPE, append_mime, {\n",
       "      /* Is output safe? */\n",
       "      safe: true,\n",
       "      /* Index of renderer in `output_area.display_order` */\n",
       "      index: 0\n",
       "    });\n",
       "  }\n",
       "\n",
       "  // register the mime type if in Jupyter Notebook environment and previously unregistered\n",
       "  if (root.Jupyter !== undefined) {\n",
       "    var events = require('base/js/events');\n",
       "    var OutputArea = require('notebook/js/outputarea').OutputArea;\n",
       "\n",
       "    if (OutputArea.prototype.mime_types().indexOf(EXEC_MIME_TYPE) == -1) {\n",
       "      register_renderer(events, OutputArea);\n",
       "    }\n",
       "  }\n",
       "\n",
       "  \n",
       "  if (typeof (root._bokeh_timeout) === \"undefined\" || force === true) {\n",
       "    root._bokeh_timeout = Date.now() + 5000;\n",
       "    root._bokeh_failed_load = false;\n",
       "  }\n",
       "\n",
       "  var NB_LOAD_WARNING = {'data': {'text/html':\n",
       "     \"<div style='background-color: #fdd'>\\n\"+\n",
       "     \"<p>\\n\"+\n",
       "     \"BokehJS does not appear to have successfully loaded. If loading BokehJS from CDN, this \\n\"+\n",
       "     \"may be due to a slow or bad network connection. Possible fixes:\\n\"+\n",
       "     \"</p>\\n\"+\n",
       "     \"<ul>\\n\"+\n",
       "     \"<li>re-rerun `output_notebook()` to attempt to load from CDN again, or</li>\\n\"+\n",
       "     \"<li>use INLINE resources instead, as so:</li>\\n\"+\n",
       "     \"</ul>\\n\"+\n",
       "     \"<code>\\n\"+\n",
       "     \"from bokeh.resources import INLINE\\n\"+\n",
       "     \"output_notebook(resources=INLINE)\\n\"+\n",
       "     \"</code>\\n\"+\n",
       "     \"</div>\"}};\n",
       "\n",
       "  function display_loaded() {\n",
       "    var el = document.getElementById(\"1001\");\n",
       "    if (el != null) {\n",
       "      el.textContent = \"BokehJS is loading...\";\n",
       "    }\n",
       "    if (root.Bokeh !== undefined) {\n",
       "      if (el != null) {\n",
       "        el.textContent = \"BokehJS \" + root.Bokeh.version + \" successfully loaded.\";\n",
       "      }\n",
       "    } else if (Date.now() < root._bokeh_timeout) {\n",
       "      setTimeout(display_loaded, 100)\n",
       "    }\n",
       "  }\n",
       "\n",
       "\n",
       "  function run_callbacks() {\n",
       "    try {\n",
       "      root._bokeh_onload_callbacks.forEach(function(callback) {\n",
       "        if (callback != null)\n",
       "          callback();\n",
       "      });\n",
       "    } finally {\n",
       "      delete root._bokeh_onload_callbacks\n",
       "    }\n",
       "    console.debug(\"Bokeh: all callbacks have finished\");\n",
       "  }\n",
       "\n",
       "  function load_libs(css_urls, js_urls, callback) {\n",
       "    if (css_urls == null) css_urls = [];\n",
       "    if (js_urls == null) js_urls = [];\n",
       "\n",
       "    root._bokeh_onload_callbacks.push(callback);\n",
       "    if (root._bokeh_is_loading > 0) {\n",
       "      console.debug(\"Bokeh: BokehJS is being loaded, scheduling callback at\", now());\n",
       "      return null;\n",
       "    }\n",
       "    if (js_urls == null || js_urls.length === 0) {\n",
       "      run_callbacks();\n",
       "      return null;\n",
       "    }\n",
       "    console.debug(\"Bokeh: BokehJS not loaded, scheduling load and callback at\", now());\n",
       "    root._bokeh_is_loading = css_urls.length + js_urls.length;\n",
       "\n",
       "    function on_load() {\n",
       "      root._bokeh_is_loading--;\n",
       "      if (root._bokeh_is_loading === 0) {\n",
       "        console.debug(\"Bokeh: all BokehJS libraries/stylesheets loaded\");\n",
       "        run_callbacks()\n",
       "      }\n",
       "    }\n",
       "\n",
       "    function on_error() {\n",
       "      console.error(\"failed to load \" + url);\n",
       "    }\n",
       "\n",
       "    for (var i = 0; i < css_urls.length; i++) {\n",
       "      var url = css_urls[i];\n",
       "      const element = document.createElement(\"link\");\n",
       "      element.onload = on_load;\n",
       "      element.onerror = on_error;\n",
       "      element.rel = \"stylesheet\";\n",
       "      element.type = \"text/css\";\n",
       "      element.href = url;\n",
       "      console.debug(\"Bokeh: injecting link tag for BokehJS stylesheet: \", url);\n",
       "      document.body.appendChild(element);\n",
       "    }\n",
       "\n",
       "    for (var i = 0; i < js_urls.length; i++) {\n",
       "      var url = js_urls[i];\n",
       "      var element = document.createElement('script');\n",
       "      element.onload = on_load;\n",
       "      element.onerror = on_error;\n",
       "      element.async = false;\n",
       "      element.src = url;\n",
       "      console.debug(\"Bokeh: injecting script tag for BokehJS library: \", url);\n",
       "      document.head.appendChild(element);\n",
       "    }\n",
       "  };var element = document.getElementById(\"1001\");\n",
       "  if (element == null) {\n",
       "    console.error(\"Bokeh: ERROR: autoload.js configured with elementid '1001' but no matching script tag was found. \")\n",
       "    return false;\n",
       "  }\n",
       "\n",
       "  function inject_raw_css(css) {\n",
       "    const element = document.createElement(\"style\");\n",
       "    element.appendChild(document.createTextNode(css));\n",
       "    document.body.appendChild(element);\n",
       "  }\n",
       "\n",
       "  var js_urls = [\"https://cdn.pydata.org/bokeh/release/bokeh-1.2.0.min.js\", \"https://cdn.pydata.org/bokeh/release/bokeh-widgets-1.2.0.min.js\", \"https://cdn.pydata.org/bokeh/release/bokeh-tables-1.2.0.min.js\", \"https://cdn.pydata.org/bokeh/release/bokeh-gl-1.2.0.min.js\"];\n",
       "  var css_urls = [\"https://cdn.pydata.org/bokeh/release/bokeh-1.2.0.min.css\", \"https://cdn.pydata.org/bokeh/release/bokeh-widgets-1.2.0.min.css\", \"https://cdn.pydata.org/bokeh/release/bokeh-tables-1.2.0.min.css\"];\n",
       "\n",
       "  var inline_js = [\n",
       "    function(Bokeh) {\n",
       "      Bokeh.set_log_level(\"info\");\n",
       "    },\n",
       "    \n",
       "    function(Bokeh) {\n",
       "      \n",
       "    },\n",
       "    function(Bokeh) {} // ensure no trailing comma for IE\n",
       "  ];\n",
       "\n",
       "  function run_inline_js() {\n",
       "    \n",
       "    if ((root.Bokeh !== undefined) || (force === true)) {\n",
       "      for (var i = 0; i < inline_js.length; i++) {\n",
       "        inline_js[i].call(root, root.Bokeh);\n",
       "      }if (force === true) {\n",
       "        display_loaded();\n",
       "      }} else if (Date.now() < root._bokeh_timeout) {\n",
       "      setTimeout(run_inline_js, 100);\n",
       "    } else if (!root._bokeh_failed_load) {\n",
       "      console.log(\"Bokeh: BokehJS failed to load within specified timeout.\");\n",
       "      root._bokeh_failed_load = true;\n",
       "    } else if (force !== true) {\n",
       "      var cell = $(document.getElementById(\"1001\")).parents('.cell').data().cell;\n",
       "      cell.output_area.append_execute_result(NB_LOAD_WARNING)\n",
       "    }\n",
       "\n",
       "  }\n",
       "\n",
       "  if (root._bokeh_is_loading === 0) {\n",
       "    console.debug(\"Bokeh: BokehJS loaded, going straight to plotting\");\n",
       "    run_inline_js();\n",
       "  } else {\n",
       "    load_libs(css_urls, js_urls, function() {\n",
       "      console.debug(\"Bokeh: BokehJS plotting callback run at\", now());\n",
       "      run_inline_js();\n",
       "    });\n",
       "  }\n",
       "}(window));"
      ],
      "application/vnd.bokehjs_load.v0+json": "\n(function(root) {\n  function now() {\n    return new Date();\n  }\n\n  var force = true;\n\n  if (typeof root._bokeh_onload_callbacks === \"undefined\" || force === true) {\n    root._bokeh_onload_callbacks = [];\n    root._bokeh_is_loading = undefined;\n  }\n\n  \n\n  \n  if (typeof (root._bokeh_timeout) === \"undefined\" || force === true) {\n    root._bokeh_timeout = Date.now() + 5000;\n    root._bokeh_failed_load = false;\n  }\n\n  var NB_LOAD_WARNING = {'data': {'text/html':\n     \"<div style='background-color: #fdd'>\\n\"+\n     \"<p>\\n\"+\n     \"BokehJS does not appear to have successfully loaded. If loading BokehJS from CDN, this \\n\"+\n     \"may be due to a slow or bad network connection. Possible fixes:\\n\"+\n     \"</p>\\n\"+\n     \"<ul>\\n\"+\n     \"<li>re-rerun `output_notebook()` to attempt to load from CDN again, or</li>\\n\"+\n     \"<li>use INLINE resources instead, as so:</li>\\n\"+\n     \"</ul>\\n\"+\n     \"<code>\\n\"+\n     \"from bokeh.resources import INLINE\\n\"+\n     \"output_notebook(resources=INLINE)\\n\"+\n     \"</code>\\n\"+\n     \"</div>\"}};\n\n  function display_loaded() {\n    var el = document.getElementById(\"1001\");\n    if (el != null) {\n      el.textContent = \"BokehJS is loading...\";\n    }\n    if (root.Bokeh !== undefined) {\n      if (el != null) {\n        el.textContent = \"BokehJS \" + root.Bokeh.version + \" successfully loaded.\";\n      }\n    } else if (Date.now() < root._bokeh_timeout) {\n      setTimeout(display_loaded, 100)\n    }\n  }\n\n\n  function run_callbacks() {\n    try {\n      root._bokeh_onload_callbacks.forEach(function(callback) {\n        if (callback != null)\n          callback();\n      });\n    } finally {\n      delete root._bokeh_onload_callbacks\n    }\n    console.debug(\"Bokeh: all callbacks have finished\");\n  }\n\n  function load_libs(css_urls, js_urls, callback) {\n    if (css_urls == null) css_urls = [];\n    if (js_urls == null) js_urls = [];\n\n    root._bokeh_onload_callbacks.push(callback);\n    if (root._bokeh_is_loading > 0) {\n      console.debug(\"Bokeh: BokehJS is being loaded, scheduling callback at\", now());\n      return null;\n    }\n    if (js_urls == null || js_urls.length === 0) {\n      run_callbacks();\n      return null;\n    }\n    console.debug(\"Bokeh: BokehJS not loaded, scheduling load and callback at\", now());\n    root._bokeh_is_loading = css_urls.length + js_urls.length;\n\n    function on_load() {\n      root._bokeh_is_loading--;\n      if (root._bokeh_is_loading === 0) {\n        console.debug(\"Bokeh: all BokehJS libraries/stylesheets loaded\");\n        run_callbacks()\n      }\n    }\n\n    function on_error() {\n      console.error(\"failed to load \" + url);\n    }\n\n    for (var i = 0; i < css_urls.length; i++) {\n      var url = css_urls[i];\n      const element = document.createElement(\"link\");\n      element.onload = on_load;\n      element.onerror = on_error;\n      element.rel = \"stylesheet\";\n      element.type = \"text/css\";\n      element.href = url;\n      console.debug(\"Bokeh: injecting link tag for BokehJS stylesheet: \", url);\n      document.body.appendChild(element);\n    }\n\n    for (var i = 0; i < js_urls.length; i++) {\n      var url = js_urls[i];\n      var element = document.createElement('script');\n      element.onload = on_load;\n      element.onerror = on_error;\n      element.async = false;\n      element.src = url;\n      console.debug(\"Bokeh: injecting script tag for BokehJS library: \", url);\n      document.head.appendChild(element);\n    }\n  };var element = document.getElementById(\"1001\");\n  if (element == null) {\n    console.error(\"Bokeh: ERROR: autoload.js configured with elementid '1001' but no matching script tag was found. \")\n    return false;\n  }\n\n  function inject_raw_css(css) {\n    const element = document.createElement(\"style\");\n    element.appendChild(document.createTextNode(css));\n    document.body.appendChild(element);\n  }\n\n  var js_urls = [\"https://cdn.pydata.org/bokeh/release/bokeh-1.2.0.min.js\", \"https://cdn.pydata.org/bokeh/release/bokeh-widgets-1.2.0.min.js\", \"https://cdn.pydata.org/bokeh/release/bokeh-tables-1.2.0.min.js\", \"https://cdn.pydata.org/bokeh/release/bokeh-gl-1.2.0.min.js\"];\n  var css_urls = [\"https://cdn.pydata.org/bokeh/release/bokeh-1.2.0.min.css\", \"https://cdn.pydata.org/bokeh/release/bokeh-widgets-1.2.0.min.css\", \"https://cdn.pydata.org/bokeh/release/bokeh-tables-1.2.0.min.css\"];\n\n  var inline_js = [\n    function(Bokeh) {\n      Bokeh.set_log_level(\"info\");\n    },\n    \n    function(Bokeh) {\n      \n    },\n    function(Bokeh) {} // ensure no trailing comma for IE\n  ];\n\n  function run_inline_js() {\n    \n    if ((root.Bokeh !== undefined) || (force === true)) {\n      for (var i = 0; i < inline_js.length; i++) {\n        inline_js[i].call(root, root.Bokeh);\n      }if (force === true) {\n        display_loaded();\n      }} else if (Date.now() < root._bokeh_timeout) {\n      setTimeout(run_inline_js, 100);\n    } else if (!root._bokeh_failed_load) {\n      console.log(\"Bokeh: BokehJS failed to load within specified timeout.\");\n      root._bokeh_failed_load = true;\n    } else if (force !== true) {\n      var cell = $(document.getElementById(\"1001\")).parents('.cell').data().cell;\n      cell.output_area.append_execute_result(NB_LOAD_WARNING)\n    }\n\n  }\n\n  if (root._bokeh_is_loading === 0) {\n    console.debug(\"Bokeh: BokehJS loaded, going straight to plotting\");\n    run_inline_js();\n  } else {\n    load_libs(css_urls, js_urls, function() {\n      console.debug(\"Bokeh: BokehJS plotting callback run at\", now());\n      run_inline_js();\n    });\n  }\n}(window));"
     },
     "metadata": {},
     "output_type": "display_data"
    }
   ],
   "source": [
    "from hail.plot import show\n",
    "from pprint import pprint\n",
    "hl.plot.output_notebook()"
   ]
  },
  {
   "cell_type": "markdown",
   "metadata": {},
   "source": [
    "# Load and explore hipster data"
   ]
  },
  {
   "cell_type": "code",
   "execution_count": 3,
   "metadata": {},
   "outputs": [],
   "source": [
    "data = hl.import_vcf('../data/hipsterIndex/hipster.vcf.bgz')"
   ]
  },
  {
   "cell_type": "code",
   "execution_count": 4,
   "metadata": {},
   "outputs": [
    {
     "name": "stderr",
     "output_type": "stream",
     "text": [
      "2019-09-17 10:28:14 Hail: INFO: Reading table with no type imputation\n",
      "  Loading column 'samples' as type 'str' (type not specified)\n",
      "  Loading column 'score' as type 'float64' (user-specified)\n",
      "  Loading column 'label' as type 'float64' (user-specified)\n",
      "\n"
     ]
    }
   ],
   "source": [
    "labels = hl.import_table('../data/hipsterIndex/hipster_labels.txt', delimiter=',', \n",
    "                types=dict(label='float64', score='float64')).key_by('samples')"
   ]
  },
  {
   "cell_type": "code",
   "execution_count": 5,
   "metadata": {},
   "outputs": [
    {
     "name": "stdout",
     "output_type": "stream",
     "text": [
      "----------------------------------------\n",
      "Global fields:\n",
      "    None\n",
      "----------------------------------------\n",
      "Column fields:\n",
      "    's': str\n",
      "    'hipster': struct {\n",
      "        score: float64, \n",
      "        label: float64\n",
      "    }\n",
      "----------------------------------------\n",
      "Row fields:\n",
      "    'locus': locus<GRCh37>\n",
      "    'alleles': array<str>\n",
      "    'rsid': str\n",
      "    'qual': float64\n",
      "    'filters': set<str>\n",
      "    'info': struct {\n",
      "        AA: str, \n",
      "        AC: array<int32>, \n",
      "        AF: array<float64>, \n",
      "        AFR_AF: array<float64>, \n",
      "        AMR_AF: array<float64>, \n",
      "        AN: int32, \n",
      "        CIEND: array<int32>, \n",
      "        CIPOS: array<int32>, \n",
      "        CS: str, \n",
      "        DP: int32, \n",
      "        EAS_AF: array<float64>, \n",
      "        END: int32, \n",
      "        EUR_AF: array<float64>, \n",
      "        EX_TARGET: bool, \n",
      "        IMPRECISE: bool, \n",
      "        MC: array<str>, \n",
      "        MEINFO: array<str>, \n",
      "        MEND: int32, \n",
      "        MLEN: int32, \n",
      "        MSTART: int32, \n",
      "        MULTI_ALLELIC: bool, \n",
      "        NS: int32, \n",
      "        SAS_AF: array<float64>, \n",
      "        SVLEN: array<int32>, \n",
      "        SVTYPE: str, \n",
      "        TSD: str, \n",
      "        VT: array<str>\n",
      "    }\n",
      "----------------------------------------\n",
      "Entry fields:\n",
      "    'GT': call\n",
      "----------------------------------------\n",
      "Column key: ['s']\n",
      "Row key: ['locus', 'alleles']\n",
      "----------------------------------------\n"
     ]
    }
   ],
   "source": [
    "mt = data.annotate_cols(hipster = labels[data.s])\n",
    "mt.describe()"
   ]
  },
  {
   "cell_type": "code",
   "execution_count": 6,
   "metadata": {},
   "outputs": [
    {
     "name": "stderr",
     "output_type": "stream",
     "text": [
      "2019-09-17 10:28:16 Hail: INFO: Coerced almost-sorted dataset\n"
     ]
    },
    {
     "data": {
      "text/plain": [
       "(17010, 2504)"
      ]
     },
     "execution_count": 6,
     "metadata": {},
     "output_type": "execute_result"
    }
   ],
   "source": [
    "mt.count()"
   ]
  },
  {
   "cell_type": "markdown",
   "metadata": {},
   "source": [
    "## Run log regression using Hail"
   ]
  },
  {
   "cell_type": "code",
   "execution_count": 7,
   "metadata": {},
   "outputs": [
    {
     "name": "stderr",
     "output_type": "stream",
     "text": [
      "2019-09-17 10:28:22 Hail: INFO: logistic_regression_rows: running score on 2504 samples for response variable y,\n",
      "    with input variable x, and 1 additional covariate...\n"
     ]
    }
   ],
   "source": [
    "gwas = hl.logistic_regression_rows(test='score',\n",
    "                                y=mt.hipster.label,\n",
    "                                 x=mt.GT.n_alt_alleles(),\n",
    "                                 covariates=[1.0],\n",
    "                                 pass_through=[mt.rsid])"
   ]
  },
  {
   "cell_type": "code",
   "execution_count": 8,
   "metadata": {},
   "outputs": [
    {
     "data": {
      "text/html": [
       "<table><thead style=\"font-weight: bold;\"><tr><td>locus</td><td>alleles</td><td>rsid</td><td>chi_sq_stat</td><td>p_value</td></tr>\n",
       "<tr><td>locus&lt;GRCh37&gt;</td><td>array&lt;str&gt;</td><td>str</td><td>float64</td><td>float64</td></tr>\n",
       "</thead><tbody><tr><td>2:109511398</td><td>[&quot;G&quot;,&quot;A&quot;]</td><td>&quot;rs150055772&quot;</td><td>1.97e-01</td><td>6.57e-01</td></tr>\n",
       "<tr><td>2:109511454</td><td>[&quot;C&quot;,&quot;A&quot;]</td><td>&quot;rs558429529&quot;</td><td>1.55e+00</td><td>2.13e-01</td></tr>\n",
       "<tr><td>2:109511463</td><td>[&quot;G&quot;,&quot;A&quot;]</td><td>&quot;rs200762071&quot;</td><td>3.65e+00</td><td>5.60e-02</td></tr>\n",
       "</tbody></table><p>showing top 3 rows</p>\n"
      ],
      "text/plain": [
       "+---------------+------------+---------------+-------------+----------+\n",
       "| locus         | alleles    | rsid          | chi_sq_stat |  p_value |\n",
       "+---------------+------------+---------------+-------------+----------+\n",
       "| locus<GRCh37> | array<str> | str           |     float64 |  float64 |\n",
       "+---------------+------------+---------------+-------------+----------+\n",
       "| 2:109511398   | [\"G\",\"A\"]  | \"rs150055772\" |    1.97e-01 | 6.57e-01 |\n",
       "| 2:109511454   | [\"C\",\"A\"]  | \"rs558429529\" |    1.55e+00 | 2.13e-01 |\n",
       "| 2:109511463   | [\"G\",\"A\"]  | \"rs200762071\" |    3.65e+00 | 5.60e-02 |\n",
       "+---------------+------------+---------------+-------------+----------+\n",
       "showing top 3 rows"
      ]
     },
     "metadata": {},
     "output_type": "display_data"
    }
   ],
   "source": [
    "gwas.show(3)"
   ]
  },
  {
   "cell_type": "code",
   "execution_count": 9,
   "metadata": {},
   "outputs": [
    {
     "data": {
      "text/html": [
       "\n",
       "\n",
       "\n",
       "\n",
       "\n",
       "\n",
       "  <div class=\"bk-root\" id=\"21d28a11-7109-4ea4-927f-fa9d0c717eff\" data-root-id=\"1003\"></div>\n"
      ]
     },
     "metadata": {},
     "output_type": "display_data"
    },
    {
     "data": {
      "application/javascript": [
       "(function(root) {\n",
       "  function embed_document(root) {\n",
       "    \n",
       "  var docs_json = {\"265b4925-4caa-4bd7-92dd-2beeba8d115d\":{\"roots\":{\"references\":[{\"attributes\":{\"below\":[{\"id\":\"1013\",\"type\":\"LinearAxis\"}],\"center\":[{\"id\":\"1017\",\"type\":\"Grid\"},{\"id\":\"1022\",\"type\":\"Grid\"}],\"left\":[{\"id\":\"1018\",\"type\":\"LinearAxis\"},{\"id\":\"1074\",\"type\":\"Legend\"},{\"id\":\"1075\",\"type\":\"ColorBar\"}],\"plot_width\":1000,\"renderers\":[{\"id\":\"1044\",\"type\":\"GlyphRenderer\"},{\"id\":\"1050\",\"type\":\"GlyphRenderer\"},{\"id\":\"1056\",\"type\":\"GlyphRenderer\"},{\"id\":\"1062\",\"type\":\"GlyphRenderer\"},{\"id\":\"1068\",\"type\":\"GlyphRenderer\"},{\"id\":\"1096\",\"type\":\"Span\"}],\"title\":null,\"toolbar\":{\"id\":\"1029\",\"type\":\"Toolbar\"},\"x_range\":{\"id\":\"1005\",\"type\":\"DataRange1d\"},\"x_scale\":{\"id\":\"1009\",\"type\":\"LinearScale\"},\"y_range\":{\"id\":\"1007\",\"type\":\"DataRange1d\"},\"y_scale\":{\"id\":\"1011\",\"type\":\"LinearScale\"}},\"id\":\"1003\",\"subtype\":\"Figure\",\"type\":\"Plot\"},{\"attributes\":{},\"id\":\"1023\",\"type\":\"PanTool\"},{\"attributes\":{},\"id\":\"1019\",\"type\":\"BasicTicker\"},{\"attributes\":{\"column_name\":\"_contig\",\"group\":\"5\"},\"id\":\"1057\",\"type\":\"GroupFilter\"},{\"attributes\":{\"label\":{\"value\":\"5\"},\"renderers\":[{\"id\":\"1062\",\"type\":\"GlyphRenderer\"}]},\"id\":\"1072\",\"type\":\"LegendItem\"},{\"attributes\":{\"active_drag\":\"auto\",\"active_inspect\":\"auto\",\"active_multi\":null,\"active_scroll\":\"auto\",\"active_tap\":\"auto\",\"tools\":[{\"id\":\"1023\",\"type\":\"PanTool\"},{\"id\":\"1024\",\"type\":\"WheelZoomTool\"},{\"id\":\"1025\",\"type\":\"BoxZoomTool\"},{\"id\":\"1026\",\"type\":\"SaveTool\"},{\"id\":\"1027\",\"type\":\"ResetTool\"},{\"id\":\"1028\",\"type\":\"HelpTool\"},{\"id\":\"1037\",\"type\":\"HoverTool\"}]},\"id\":\"1029\",\"type\":\"Toolbar\"},{\"attributes\":{\"fill_color\":{\"field\":\"_contig\",\"transform\":{\"id\":\"1002\",\"type\":\"CategoricalColorMapper\"}},\"line_color\":{\"field\":\"_contig\",\"transform\":{\"id\":\"1002\",\"type\":\"CategoricalColorMapper\"}},\"x\":{\"field\":\"_global_locus\"},\"y\":{\"field\":\"_pval\"}},\"id\":\"1066\",\"type\":\"Circle\"},{\"attributes\":{},\"id\":\"1028\",\"type\":\"HelpTool\"},{\"attributes\":{\"factors\":[\"1\",\"2\",\"3\",\"4\",\"5\",\"6\",\"7\",\"8\",\"9\",\"10\",\"11\",\"12\",\"13\",\"14\",\"15\",\"16\",\"17\",\"18\",\"19\",\"20\",\"21\",\"22\",\"X\",\"Y\",\"MT\",\"GL000207.1\",\"GL000226.1\",\"GL000229.1\",\"GL000231.1\",\"GL000210.1\",\"GL000239.1\",\"GL000235.1\",\"GL000201.1\",\"GL000247.1\",\"GL000245.1\",\"GL000197.1\",\"GL000203.1\",\"GL000246.1\",\"GL000249.1\",\"GL000196.1\",\"GL000248.1\",\"GL000244.1\",\"GL000238.1\",\"GL000202.1\",\"GL000234.1\",\"GL000232.1\",\"GL000206.1\",\"GL000240.1\",\"GL000236.1\",\"GL000241.1\",\"GL000243.1\",\"GL000242.1\",\"GL000230.1\",\"GL000237.1\",\"GL000233.1\",\"GL000204.1\",\"GL000198.1\",\"GL000208.1\",\"GL000191.1\",\"GL000227.1\",\"GL000228.1\",\"GL000214.1\",\"GL000221.1\",\"GL000209.1\",\"GL000218.1\",\"GL000220.1\",\"GL000213.1\",\"GL000211.1\",\"GL000199.1\",\"GL000217.1\",\"GL000216.1\",\"GL000215.1\",\"GL000205.1\",\"GL000219.1\",\"GL000224.1\",\"GL000223.1\",\"GL000195.1\",\"GL000212.1\",\"GL000222.1\",\"GL000200.1\",\"GL000193.1\",\"GL000194.1\",\"GL000225.1\",\"GL000192.1\"],\"palette\":[\"#1f77b4\",\"#ff7f0e\",\"#1f77b4\",\"#ff7f0e\",\"#1f77b4\",\"#ff7f0e\",\"#1f77b4\",\"#ff7f0e\",\"#1f77b4\",\"#ff7f0e\",\"#1f77b4\",\"#ff7f0e\",\"#1f77b4\",\"#ff7f0e\",\"#1f77b4\",\"#ff7f0e\",\"#1f77b4\",\"#ff7f0e\",\"#1f77b4\",\"#ff7f0e\",\"#1f77b4\",\"#ff7f0e\",\"#1f77b4\",\"#ff7f0e\",\"#1f77b4\",\"#ff7f0e\",\"#1f77b4\",\"#ff7f0e\",\"#1f77b4\",\"#ff7f0e\",\"#1f77b4\",\"#ff7f0e\",\"#1f77b4\",\"#ff7f0e\",\"#1f77b4\",\"#ff7f0e\",\"#1f77b4\",\"#ff7f0e\",\"#1f77b4\",\"#ff7f0e\",\"#1f77b4\",\"#ff7f0e\",\"#1f77b4\",\"#ff7f0e\",\"#1f77b4\",\"#ff7f0e\",\"#1f77b4\",\"#ff7f0e\",\"#1f77b4\",\"#ff7f0e\",\"#1f77b4\",\"#ff7f0e\",\"#1f77b4\",\"#ff7f0e\",\"#1f77b4\",\"#ff7f0e\",\"#1f77b4\",\"#ff7f0e\",\"#1f77b4\",\"#ff7f0e\",\"#1f77b4\",\"#ff7f0e\",\"#1f77b4\",\"#ff7f0e\",\"#1f77b4\",\"#ff7f0e\",\"#1f77b4\",\"#ff7f0e\",\"#1f77b4\",\"#ff7f0e\",\"#1f77b4\",\"#ff7f0e\",\"#1f77b4\",\"#ff7f0e\",\"#1f77b4\",\"#ff7f0e\",\"#1f77b4\",\"#ff7f0e\",\"#1f77b4\",\"#ff7f0e\",\"#1f77b4\",\"#ff7f0e\",\"#1f77b4\",\"#ff7f0e\"]},\"id\":\"1002\",\"type\":\"CategoricalColorMapper\"},{\"attributes\":{\"fill_alpha\":{\"value\":0.1},\"fill_color\":{\"value\":\"#1f77b4\"},\"line_alpha\":{\"value\":0.1},\"line_color\":{\"value\":\"#1f77b4\"},\"x\":{\"field\":\"_global_locus\"},\"y\":{\"field\":\"_pval\"}},\"id\":\"1055\",\"type\":\"Circle\"},{\"attributes\":{\"callback\":null,\"data\":{\"_contig\":[\"5\",\"15\",\"15\",\"5\",\"5\",\"5\",\"15\",\"5\",\"5\",\"5\",\"15\",\"5\",\"7\",\"5\",\"15\",\"5\",\"5\",\"2\",\"2\",\"5\",\"5\",\"5\",\"15\",\"4\",\"2\",\"5\",\"5\",\"5\",\"5\",\"7\",\"5\",\"15\",\"5\",\"2\",\"15\",\"5\",\"15\",\"5\",\"5\",\"5\",\"15\",\"15\",\"7\",\"2\",\"2\",\"5\",\"5\",\"2\",\"5\",\"4\",\"7\",\"5\",\"2\",\"2\",\"5\",\"5\",\"5\",\"5\",\"7\",\"2\",\"2\",\"15\",\"5\",\"5\",\"5\",\"15\",\"4\",\"5\",\"4\",\"7\",\"5\",\"5\",\"15\",\"5\",\"5\",\"2\",\"7\",\"4\",\"5\",\"5\",\"2\",\"2\",\"5\",\"7\",\"5\",\"5\",\"2\",\"5\",\"5\",\"7\",\"5\",\"5\",\"5\",\"15\",\"15\",\"4\",\"2\",\"7\",\"2\",\"4\",\"5\",\"5\",\"5\",\"5\",\"5\",\"2\",\"2\",\"7\",\"5\",\"5\",\"7\",\"5\",\"2\",\"2\",\"5\",\"5\",\"15\",\"5\",\"15\",\"5\",\"15\",\"5\",\"15\",\"7\",\"5\",\"15\",\"15\",\"5\",\"5\",\"5\",\"2\",\"7\",\"5\",\"2\",\"15\",\"7\",\"15\",\"5\",\"5\",\"15\",\"5\",\"5\",\"5\",\"7\",\"5\",\"5\",\"7\",\"5\",\"5\",\"7\",\"5\",\"2\",\"2\",\"5\",\"5\",\"15\",\"2\",\"5\",\"15\",\"5\",\"15\",\"4\",\"4\",\"15\",\"5\",\"5\",\"5\",\"5\",\"5\",\"2\",\"15\",\"4\",\"15\",\"5\",\"15\",\"7\",\"15\",\"2\",\"15\",\"2\",\"5\",\"5\",\"5\",\"5\",\"5\",\"2\",\"5\",\"5\",\"5\",\"7\",\"5\",\"5\",\"5\",\"15\",\"2\",\"2\",\"7\",\"2\",\"5\",\"5\",\"2\",\"15\",\"2\",\"5\",\"5\",\"4\",\"5\",\"5\",\"7\",\"5\",\"5\",\"5\",\"4\",\"4\",\"5\",\"5\",\"4\",\"5\",\"7\",\"5\",\"5\",\"2\",\"5\",\"7\",\"15\",\"5\",\"5\",\"15\",\"5\",\"15\",\"5\",\"7\",\"5\",\"5\",\"15\",\"2\",\"4\",\"4\",\"5\",\"5\",\"15\",\"7\",\"4\",\"2\",\"7\",\"5\",\"5\",\"7\",\"5\",\"5\",\"5\",\"5\",\"5\",\"5\",\"15\",\"5\",\"5\",\"15\",\"5\",\"5\",\"5\",\"5\",\"5\",\"15\",\"15\",\"5\",\"5\",\"5\",\"15\",\"5\",\"5\",\"5\",\"7\",\"5\",\"2\",\"5\",\"5\",\"5\",\"2\",\"5\",\"5\",\"5\",\"5\",\"7\",\"5\",\"15\",\"2\",\"5\",\"7\",\"5\"],\"_global_locus\":{\"__ndarray__\":\"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\",\"dtype\":\"float64\",\"shape\":[290]},\"_pval\":{\"__ndarray__\":\"6AK7EV+aSEChbRuSzi0CQI29f8zDHxZA0/9IjDwGSkAg3FGAsBD0P+q3F/5YzRRACS0lVl1Z9D+W/pTSxIIjQOgJ6mBRmhhAswJYdsmpREBFHLc0sQwWQNwG8yZn9UJA4x8tJCzV9j9fVHntojZKQH+dIVrt2eg/+yIzPyptVUA/Qni4pZcMQNP7NYBVg+U/N2BjwGBEoj9e3vs/oUsAQJ7b1ygu/1NAN0PO0oBcMUCQW2zTE/sDQIvcRqqyexNAKqyJVGdkE0Dp93NyKQQ4QN96Sg1fzzVApyAUwWmPSkA4gThUx1NXQKiGqjwHSwJAQz8BDeU8S0AtaRdiGOEAQAEwVuldeGJAYWTYh7AABUB9NWu17VEAQM9w3SjVK1ZAYJyDRfMjIkAoN9kGzhA1QEGyIi/wdRRAQPF2RKttQUCGNPd+4NgaQKCf9cAYah9AtWCa1H678T/4bBNobbchQGEHBFzU9CJAhAN7PgN8WEC4KmekYxpPQOptXnDLM/Q/2bwqy7v9Q0C1YJrUfrvxP5JC1NWFPv4/GD7f6MXCUUBpJhCBtQMSQPRznFh2R0dATu/9uSyNYkB/n3Ks/5c0QMW56lPLQSZABTRIqGteW0Bjv9hTgPPaP/YYt0ZnsV1An4ARyUQ+BEAwm1SfImMHQAZ9EDR3UU5AWkoE97RGPkC1QqohbSASQNufeQI0eAlA0kO/qTkb6j/YCmTVeplDQKywHAOsixFA3Ku+wkWQEkAWL5YkxY5WQMLd47uE5N4/tfrcXL2SGUCL04a40XFFQOdJ51/nbiFA6M5ueqi2+z+JWn5RjywyQLnvjssnozRAzzFJM/3QSkColJPdPXZQQHeBNagTM/4/BKL6CzRD8D9AQCTUkflSQNP7NYBVg+U/uj3TIYRFI0CXVdWzSKhSQHmawpx+0hFA3KWpvGCwN0B5IzT/UNY4QFyteZvMuQJAF06e7F7HYkBkDXuO7SE2QIuv4t9MxhdACrglZVeGAEBi7X68dM3wP2PWN/Yt7eI/39sgpo6UDEA/UVTvWMdJQB1BGmQSy/Y/IKB6roCQMEB4lj9+j589QIY9Qs5sqB5AZ/1PHSLYIkBlavjuBf8AQOP7OHe3CgNAY9Y39i3t4j/T+zWAVYPlPxud6Da1+Nc/wqo/7DTYBkARKXcedZZJQE82JYDJ+wdALED2/EESLUCnQpJDQJwPQA0a4hXzGUJA07MjMuoSP0CMBvi3qJxiQLfQfz7GlhFAvYL0fUujG0AWn27YuCgcQL8bHcqlFldAHUEaZBLL9j86mZaW+u9XQMVb+uegPgxA0ndSTT2sCkCqL1lIrIZGQJ/b6X4MUBNAA4Q0PcuxF0ByHO1xKfdHQD8ZZRHPaSRACH4uOUbXQ0C8YkQPUz7/P8Ld47uE5N4/bu341F2wMUBhMKfcnSQtQGgse+bQFug/cS1Sbz4WG0AwGRrZE+cTQERZKYzCVEtA4Dmc0FbnS0A4DXD4OaMHQGPhLUDvGydAs6oAxKBTQUCE8TrE1s8vQILO4c9RLgRA6/NLjWvtCEC4utMODM8hQAjTHYEQhTBAnNc+n3XZJEBJ1IMv3S34P77+BHhKfARAkiZ1dyf8BUA2415zqRDzP14/DL5PaERA0iphpVszV0BMwPTef8tEQN1CUDeeDRJAbmF7RCRJEUCIfRFCbOxCQNwBuljXSQRAVZ8Vupk9TUDF3ygC4vkeQL0MHdgN2AZAeLCkiZVJEkDAYmhiOMweQElr9GtPt/E/mxaZ/Ei2PED76p2SDm8fQP1Jhl3kwhVAxtH5e/YaTEAah4a1NcsQQHIbkVI0jNA/HG8DL6ktNUAU92+p0ZIYQGPJa9aVC1dAz3livUeOC0AzHQlNEKkEQLVgmtR+u/E/G53oNrX41z8HfdkcTIUcQMh3v1g69AlA9f00NtUQSEAXrg3R2NxiQHnxmkxVt0tA5vozazm0WEDiv3YdY0QqQEeJHkFlmwpAtRfEDHYzGkCPmavigFM9QAinOM45NA9AfW8uLIHeE0Bn3pRtkGhLQE2K2kT01UhA9ZfNwLmMFkAMCwBXWdwWQL4ptEULTPA/c0vXoc12HkC949U8rvQXQEogONEicgFAl5QD9Cb0UEAl33OD0S1OQFvRI6fyahRAdPid7LRlEED9g4OnutLhP3z5JSrwlk9ACsB3gv/iOUC6G94d9lP4P2711ZgVpDVAZR7+4tlcVUCoNseLwj3yP8JBqejkVUNAiMbQeHyWREAKoZLY6zP8P8GFfRq7cv8/Ptq5yhbKA0BhJ0e1AgkbQOs8VgP6i0JAw/ZQh9wuEEAitPznoKkyQDzivm/NIQhA1O8nACVCTEAfMtKptYZBQLEsrNye2kJAnYFDuiLSMkDT+zWAVYPlP4PnyJo2LA5ASfAmHuwbHUDlFNSEYpJMQGO/2FOA89o/I+jDE8YJRUCsnYvzgyIcQFg9BsVOs1JAqvdGWD/L/D/zYogFZrJXQJDldtsHxkNAXMfsDYHAzz/lRcQ8cln5P+lvzuLbyNk/UcZR0GeoCEDhVo7+jXYTQCS5RMHsLk9AEKcwG2jNBUAjGb6aYjf6P1GXUVksUTVAkr72eZCqREDHpTpj1+IIQHwQRBfRrj9ASZcIIPhSVkCwNM/vP9keQL/s5F6ru0hAunMpHTbtRUCCzL3c4aYdQBTIgdSp8yFAFTSH5xOjUEDfvEls4TxXQEsTZAOMHPU/Y2zCtHRhOUBwxKeItqsgQJoAfIUJBBVAujR729O7QkA3A/twtu47QMEFZMgzeyBAjm05Ts7JEEBbiGZVbw5MQIOlHBkrht0/W2jlG0akCECFW9VTFfQKQOxq8hjXLDFAOBR+8cHvSUCvk+th1bH5P1P2EhDMOBFAQfSxZI1cV0CfH/y0nZZOQLVgmtR+u/E/u8xVILgEREBH0tfX1qQxQNP7NYBVg+U/eACNPMzLUUAdwF5epBA5QAg5TMTNVfo/77pbshSVNkAdxTiAqUpZQHyeF2gJSElAlvhKs76CS0CkUfnMkDG9Pxud6Da1+Nc/iORFF+uIBEDH60/s0IMXQLWZ3NC6JkFAg/wQD1enE0CPfqZKJX1XQA==\",\"dtype\":\"float64\",\"shape\":[290]},\"index\":[0,1,2,3,4,5,6,7,8,9,10,11,12,13,14,15,16,17,18,19,20,21,22,23,24,25,26,27,28,29,30,31,32,33,34,35,36,37,38,39,40,41,42,43,44,45,46,47,48,49,50,51,52,53,54,55,56,57,58,59,60,61,62,63,64,65,66,67,68,69,70,71,72,73,74,75,76,77,78,79,80,81,82,83,84,85,86,87,88,89,90,91,92,93,94,95,96,97,98,99,100,101,102,103,104,105,106,107,108,109,110,111,112,113,114,115,116,117,118,119,120,121,122,123,124,125,126,127,128,129,130,131,132,133,134,135,136,137,138,139,140,141,142,143,144,145,146,147,148,149,150,151,152,153,154,155,156,157,158,159,160,161,162,163,164,165,166,167,168,169,170,171,172,173,174,175,176,177,178,179,180,181,182,183,184,185,186,187,188,189,190,191,192,193,194,195,196,197,198,199,200,201,202,203,204,205,206,207,208,209,210,211,212,213,214,215,216,217,218,219,220,221,222,223,224,225,226,227,228,229,230,231,232,233,234,235,236,237,238,239,240,241,242,243,244,245,246,247,248,249,250,251,252,253,254,255,256,257,258,259,260,261,262,263,264,265,266,267,268,269,270,271,272,273,274,275,276,277,278,279,280,281,282,283,284,285,286,287,288,289],\"locus\":[\"5:126685374\",\"15:66400165\",\"15:66387527\",\"5:126683883\",\"5:126756659\",\"5:126645650\",\"15:66350261\",\"5:126655361\",\"5:126789986\",\"5:126645705\",\"15:75027880\",\"5:126693265\",\"7:17283561\",\"5:126639801\",\"15:75029906\",\"5:126628098\",\"5:126787388\",\"2:109515462\",\"2:109514747\",\"5:126756161\",\"5:126648201\",\"5:126777362\",\"15:66330108\",\"4:54512721\",\"2:109514985\",\"5:126751728\",\"5:126769874\",\"5:126659892\",\"5:126636211\",\"7:17286770\",\"5:126656324\",\"15:75028348\",\"5:126626645\",\"2:109512428\",\"15:75029407\",\"5:126639097\",\"15:66438961\",\"5:126710915\",\"5:126798856\",\"5:126773064\",\"15:66400117\",\"15:66271772\",\"7:113991207\",\"2:223033196\",\"2:223033006\",\"5:126654970\",\"5:126689489\",\"2:223035136\",\"5:126693280\",\"4:54513330\",\"7:113989182\",\"5:126661774\",\"2:109511765\",\"2:223034660\",\"5:126630016\",\"5:126795246\",\"5:126675068\",\"5:126629170\",\"7:17285913\",\"2:223034082\",\"2:109514105\",\"15:66524808\",\"5:126694437\",\"5:126715759\",\"5:126785305\",\"15:75026149\",\"4:54513953\",\"5:126698023\",\"4:54514026\",\"7:17286087\",\"5:126639591\",\"5:126798504\",\"15:66327924\",\"5:126682354\",\"5:126637782\",\"2:223034144\",\"7:17284989\",\"4:54510874\",\"5:126658500\",\"5:126652710\",\"2:109514464\",\"2:109514056\",\"5:126664039\",\"7:113991440\",\"5:126688400\",\"5:126668683\",\"2:223034162\",\"5:126731876\",\"5:126725054\",\"7:17283259\",\"5:126627875\",\"5:126744956\",\"5:126729450\",\"15:66326983\",\"15:66373705\",\"4:54514027\",\"2:223034770\",\"7:17284577\",\"2:109511997\",\"4:54513819\",\"5:126797292\",\"5:126698070\",\"5:126683590\",\"5:126748373\",\"5:126791415\",\"2:223036139\",\"2:223036258\",\"7:17286817\",\"5:126793367\",\"5:126639135\",\"7:113987281\",\"5:126653607\",\"2:109513601\",\"2:223035313\",\"5:126687687\",\"5:126630948\",\"15:66344358\",\"5:126689935\",\"15:75028490\",\"5:126662114\",\"15:66428121\",\"5:126655730\",\"15:66475264\",\"7:17284085\",\"5:126727008\",\"15:66480035\",\"15:66388878\",\"5:126652742\",\"5:126675780\",\"5:126782325\",\"2:223034224\",\"7:113990885\",\"5:126767961\",\"2:223034758\",\"15:66502442\",\"7:17282872\",\"15:66326736\",\"5:126656998\",\"5:126652407\",\"15:75026627\",\"5:126715151\",\"5:126780212\",\"5:126644632\",\"7:113990996\",\"5:126796576\",\"5:126639269\",\"7:17285867\",\"5:126672710\",\"5:126753565\",\"7:17283523\",\"5:126756273\",\"2:109513531\",\"2:223035940\",\"5:126635083\",\"5:126667551\",\"15:66540097\",\"2:223031835\",\"5:126669209\",\"15:75029998\",\"5:126635437\",\"15:66269504\",\"4:54513653\",\"4:54511711\",\"15:75025988\",\"5:126798783\",\"5:126726851\",\"5:126735334\",\"5:126798558\",\"5:126644681\",\"2:223031933\",\"15:75027895\",\"4:54509759\",\"15:66380254\",\"5:126664981\",\"15:66353695\",\"7:113988537\",\"15:75029683\",\"2:223036224\",\"15:66272893\",\"2:109512364\",\"5:126644769\",\"5:126626044\",\"5:126660301\",\"5:126647941\",\"5:126634444\",\"2:109513654\",\"5:126778245\",\"5:126796531\",\"5:126787286\",\"7:17284687\",\"5:126633436\",\"5:126645738\",\"5:126667746\",\"15:66340274\",\"2:223035719\",\"2:223032504\",\"7:113990352\",\"2:223036256\",\"5:126679402\",\"5:126698345\",\"2:223034476\",\"15:66516106\",\"2:109515506\",\"5:126640246\",\"5:126726847\",\"4:54513660\",\"5:126773180\",\"5:126661380\",\"7:17286565\",\"5:126739085\",\"5:126669004\",\"5:126798071\",\"4:54510360\",\"4:54509910\",\"5:126733924\",\"5:126661519\",\"4:54513107\",\"5:126796585\",\"7:17282684\",\"5:126654623\",\"5:126775113\",\"2:223033978\",\"5:126723562\",\"7:17286708\",\"15:66312149\",\"5:126697604\",\"5:126645646\",\"15:75028765\",\"5:126683809\",\"15:66271429\",\"5:126674613\",\"7:113989096\",\"5:126631841\",\"5:126683416\",\"15:66475318\",\"2:223033725\",\"4:54514122\",\"4:54512752\",\"5:126798031\",\"5:126687822\",\"15:66319662\",\"7:17286050\",\"4:54511913\",\"2:223035211\",\"7:113989578\",\"5:126686756\",\"5:126657217\",\"7:17282974\",\"5:126653950\",\"5:126731259\",\"5:126630875\",\"5:126794160\",\"5:126650182\",\"5:126635667\",\"15:75029472\",\"5:126797404\",\"5:126678028\",\"15:66327646\",\"5:126694523\",\"5:126699347\",\"5:126697755\",\"5:126735430\",\"5:126654062\",\"15:66359634\",\"15:66527971\",\"5:126797293\",\"5:126793219\",\"5:126682039\",\"15:66495122\",\"5:126794256\",\"5:126656500\",\"5:126679697\",\"7:17285330\",\"5:126792974\",\"2:223033396\",\"5:126757248\",\"5:126625548\",\"5:126725568\",\"2:109515567\",\"5:126661600\",\"5:126633827\",\"5:126639025\",\"5:126633958\",\"7:113991250\",\"5:126757219\",\"15:75029399\",\"2:223035359\",\"5:126657432\",\"7:17282507\",\"5:126655749\"],\"p_value\":{\"__ndarray__\":\"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\",\"dtype\":\"float64\",\"shape\":[290]},\"rs\":[\"rs550745558\",\"rs7173121\",\"rs4776725\",\"rs27652\",\"rs377341077\",\"rs78802780\",\"rs138264234\",\"rs73785580\",\"rs76912327\",\"rs201053818\",\"rs2472297\",\"rs246892\",\"rs568478767\",\"rs2431724\",\"rs148040319\",\"rs2194079\",\"rs79067810\",\"rs561059807\",\"rs4676218\",\"rs74823398\",\"rs1422317\",\"rs59745564\",\"rs28551784\",\"rs73250977\",\"rs11689836\",\"rs6595770\",\"rs10078629\",\"rs34208116\",\"rs2546809\",\"rs112089609\",\"rs3050850\",\"rs185406833\",\"rs2032834\",\"rs3749096\",\"rs8029744\",\"rs2546807\",\"rs35259179\",\"rs34537147\",\"rs73348777\",\"rs6859304\",\"rs1993832\",\"rs428658\",\"rs192442536\",\"rs13411329\",\"rs529478087\",\"rs246885\",\"rs26946\",\"rs184491207\",\"rs144085293\",\"rs549132755\",\"rs147142788\",\"rs31470\",\"rs10865025\",\"rs985473\",\"rs1422313\",\"rs3756722\",\"rs17673170\",\"rs12519784\",\"rs564492299\",\"rs2218065\",\"rs6542783\",\"rs62009959\",\"rs26947\",\"rs113091845\",\"rs41298318\",\"rs17861118\",\"rs190387778\",\"rs35156178\",\"rs79162003\",\"rs79694830\",\"rs2431496\",\"rs577362738\",\"rs333592\",\"rs246894\",\"rs57623356\",\"rs116514046\",\"rs10277582\",\"rs6816209\",\"rs152122\",\"rs246945\",\"rs940928\",\"rs2169812\",\"rs36307\",\"rs529657511\",\"rs72788505\",\"rs2546078\",\"rs73990988\",\"rs2059084\",\"rs10041484\",\"rs145880637\",\"rs4836316\",\"rs56320297\",\"rs143954261\",\"rs56267112\",\"rs75393657\",\"rs183240578\",\"rs201276449\",\"rs4410790\",\"rs187951842\",\"rs6858782\",\"rs4836323\",\"rs77198001\",\"rs72786494\",\"rs202213903\",\"rs536696373\",\"rs563333963\",\"rs551240079\",\"rs532738234\",\"rs78940206\",\"rs2546808\",\"rs1527146\",\"rs138731838\",\"rs3827760\",\"rs66885466\",\"rs43148\",\"rs2059083\",\"rs2552182\",\"rs55918025\",\"rs11072500\",\"rs26945\",\"rs75427642\",\"rs246886\",\"rs8030058\",\"rs6943079\",\"rs1019482\",\"rs3082857\",\"rs2414895\",\"rs246946\",\"rs78120546\",\"rs10072587\",\"rs78277770\",\"rs183045236\",\"rs6866678\",\"rs71050391\",\"rs185446339\",\"rs79710531\",\"rs58298192\",\"rs246888\",\"rs246944\",\"rs11631784\",\"rs79713470\",\"rs12516897\",\"rs72786459\",\"rs79307074\",\"rs139305981\",\"rs56084567\",\"rs10281571\",\"rs77589749\",\"rs539466377\",\"rs112056574\",\"rs11956397\",\"rs115930248\",\"rs11690945\",\"rs2018571\",\"rs27562\",\"rs111463682\",\"rs114946697\",\"rs145619126\",\"rs76354137\",\"rs35796097\",\"rs372969314\",\"rs539249144;rs200448899\",\"rs2668551\",\"rs4886605\",\"rs17444885\",\"rs1318923\",\"rs10519939\",\"rs17164922\",\"rs2254762\",\"rs115498426\",\"rs141323436\",\"rs6818959\",\"rs1600053\",\"rs27749\",\"rs1871004\",\"rs2690826\",\"rs548198773\",\"esv3594421\",\"rs449841\",\"rs10206737\",\"rs1422315\",\"rs1363387\",\"rs31472\",\"rs1422316\",\"rs2194080\",\"rs12623957\",\"rs73348744\",\"rs35236935\",\"rs17164941\",\"rs77000981\",\"rs970546\",\"rs13153845\",\"rs111923517\",\"rs333606\",\"rs112832858\",\"rs36054640\",\"rs2049604\",\"rs79922615\",\"rs246897\",\"rs35526\",\"rs10194919\",\"rs4578594\",\"rs13009728\",\"rs1816059\",\"rs2008432\",\"rs17663341\",\"rs6859181\",\"rs31471\",\"rs529079397\",\"rs6877254\",\"rs26944\",\"rs191720024\",\"rs149974830\",\"rs139265415\",\"rs78811203\",\"rs10550881\",\"rs77894545\",\"rs2898043\",\"rs561704396\",\"rs2439927\",\"rs34451603\",\"rs2196751\",\"rs9327438\",\"rs571979050\",\"rs333610\",\"rs72788513\",\"rs2546805\",\"rs141944648\",\"rs27388\",\"rs368614\",\"rs27782\",\"rs142814786\",\"rs2585200\",\"rs187514\",\"rs115146412\",\"rs558223447\",\"rs75893784\",\"rs2590773\",\"rs17164923\",\"rs36308\",\"rs28648385\",\"rs185214789\",\"rs4864809\",\"rs5838931\",\"rs2690827\",\"rs185030\",\"rs152121\",\"rs17137451\",\"rs246948\",\"rs13171067\",\"rs146140674\",\"rs75528418\",\"rs1345663\",\"rs1345662\",\"rs76255041\",\"rs4836324\",\"rs17839696\",\"rs333591\",\"rs27563\",\"rs35525\",\"rs78259230\",\"rs251031\",\"rs185032\",\"rs114776522\",\"rs1531496\",\"rs188714805\",\"rs10793809\",\"rs246895\",\"rs11852601\",\"rs17164925\",\"rs152120\",\"rs246896\",\"rs571824498\",\"rs3812052\",\"rs11895863\",\"rs530919718\",\"rs2408868\",\"rs4401615\",\"rs76935644\",\"rs33930493\",\"rs2585197\",\"rs2546079\",\"rs2585196\",\"rs184002280\",\"rs565314307\",\"rs8030076\",\"rs13431945\",\"rs246889\",\"rs62444547\",\"rs246887\"]},\"selected\":{\"id\":\"1085\",\"type\":\"Selection\"},\"selection_policy\":{\"id\":\"1086\",\"type\":\"UnionRenderers\"}},\"id\":\"1038\",\"type\":\"ColumnDataSource\"},{\"attributes\":{\"callback\":null},\"id\":\"1007\",\"type\":\"DataRange1d\"},{\"attributes\":{\"fill_alpha\":{\"value\":0.1},\"fill_color\":{\"value\":\"#1f77b4\"},\"line_alpha\":{\"value\":0.1},\"line_color\":{\"value\":\"#1f77b4\"},\"x\":{\"field\":\"_global_locus\"},\"y\":{\"field\":\"_pval\"}},\"id\":\"1043\",\"type\":\"Circle\"},{\"attributes\":{\"label\":{\"value\":\"2\"},\"renderers\":[{\"id\":\"1050\",\"type\":\"GlyphRenderer\"}]},\"id\":\"1070\",\"type\":\"LegendItem\"},{\"attributes\":{\"axis_label\":\"P-value (-log10 scale)\",\"formatter\":{\"id\":\"1079\",\"type\":\"BasicTickFormatter\"},\"ticker\":{\"id\":\"1019\",\"type\":\"BasicTicker\"}},\"id\":\"1018\",\"type\":\"LinearAxis\"},{\"attributes\":{\"fill_alpha\":{\"value\":0.1},\"fill_color\":{\"value\":\"#1f77b4\"},\"line_alpha\":{\"value\":0.1},\"line_color\":{\"value\":\"#1f77b4\"},\"x\":{\"field\":\"_global_locus\"},\"y\":{\"field\":\"_pval\"}},\"id\":\"1061\",\"type\":\"Circle\"},{\"attributes\":{\"column_name\":\"_contig\",\"group\":\"15\"},\"id\":\"1039\",\"type\":\"GroupFilter\"},{\"attributes\":{\"data_source\":{\"id\":\"1038\",\"type\":\"ColumnDataSource\"},\"glyph\":{\"id\":\"1066\",\"type\":\"Circle\"},\"hover_glyph\":null,\"muted_glyph\":null,\"nonselection_glyph\":{\"id\":\"1067\",\"type\":\"Circle\"},\"selection_glyph\":null,\"view\":{\"id\":\"1064\",\"type\":\"CDSView\"}},\"id\":\"1068\",\"type\":\"GlyphRenderer\"},{\"attributes\":{\"column_name\":\"_contig\",\"group\":\"4\"},\"id\":\"1051\",\"type\":\"GroupFilter\"},{\"attributes\":{},\"id\":\"1079\",\"type\":\"BasicTickFormatter\"},{\"attributes\":{\"label\":{\"value\":\"4\"},\"renderers\":[{\"id\":\"1056\",\"type\":\"GlyphRenderer\"}]},\"id\":\"1071\",\"type\":\"LegendItem\"},{\"attributes\":{\"filters\":[{\"id\":\"1045\",\"type\":\"GroupFilter\"}],\"source\":{\"id\":\"1038\",\"type\":\"ColumnDataSource\"}},\"id\":\"1046\",\"type\":\"CDSView\"},{\"attributes\":{},\"id\":\"1081\",\"type\":\"BasicTickFormatter\"},{\"attributes\":{},\"id\":\"1026\",\"type\":\"SaveTool\"},{\"attributes\":{\"fill_color\":{\"field\":\"_contig\",\"transform\":{\"id\":\"1002\",\"type\":\"CategoricalColorMapper\"}},\"line_color\":{\"field\":\"_contig\",\"transform\":{\"id\":\"1002\",\"type\":\"CategoricalColorMapper\"}},\"x\":{\"field\":\"_global_locus\"},\"y\":{\"field\":\"_pval\"}},\"id\":\"1048\",\"type\":\"Circle\"},{\"attributes\":{\"data_source\":{\"id\":\"1038\",\"type\":\"ColumnDataSource\"},\"glyph\":{\"id\":\"1054\",\"type\":\"Circle\"},\"hover_glyph\":null,\"muted_glyph\":null,\"nonselection_glyph\":{\"id\":\"1055\",\"type\":\"Circle\"},\"selection_glyph\":null,\"view\":{\"id\":\"1052\",\"type\":\"CDSView\"}},\"id\":\"1056\",\"type\":\"GlyphRenderer\"},{\"attributes\":{\"filters\":[{\"id\":\"1057\",\"type\":\"GroupFilter\"}],\"source\":{\"id\":\"1038\",\"type\":\"ColumnDataSource\"}},\"id\":\"1058\",\"type\":\"CDSView\"},{\"attributes\":{\"line_color\":{\"value\":\"red\"},\"line_dash\":[6],\"line_width\":{\"value\":1.5},\"location\":7.301029995663981},\"id\":\"1096\",\"type\":\"Span\"},{\"attributes\":{\"color_mapper\":null,\"formatter\":{\"id\":\"1081\",\"type\":\"BasicTickFormatter\"},\"ticker\":{\"id\":\"1082\",\"type\":\"BasicTicker\"},\"visible\":false},\"id\":\"1075\",\"type\":\"ColorBar\"},{\"attributes\":{\"data_source\":{\"id\":\"1038\",\"type\":\"ColumnDataSource\"},\"glyph\":{\"id\":\"1042\",\"type\":\"Circle\"},\"hover_glyph\":null,\"muted_glyph\":null,\"nonselection_glyph\":{\"id\":\"1043\",\"type\":\"Circle\"},\"selection_glyph\":null,\"view\":{\"id\":\"1040\",\"type\":\"CDSView\"}},\"id\":\"1044\",\"type\":\"GlyphRenderer\"},{\"attributes\":{\"fill_alpha\":{\"value\":0.1},\"fill_color\":{\"value\":\"#1f77b4\"},\"line_alpha\":{\"value\":0.1},\"line_color\":{\"value\":\"#1f77b4\"},\"x\":{\"field\":\"_global_locus\"},\"y\":{\"field\":\"_pval\"}},\"id\":\"1067\",\"type\":\"Circle\"},{\"attributes\":{\"overlay\":{\"id\":\"1084\",\"type\":\"BoxAnnotation\"}},\"id\":\"1025\",\"type\":\"BoxZoomTool\"},{\"attributes\":{\"axis_label\":\"Chromosome\",\"formatter\":{\"id\":\"1083\",\"type\":\"BasicTickFormatter\"},\"major_label_overrides\":{\"1313226357\":\"7\",\"2358551414\":\"15\",\"370850306\":\"2\",\"786049561\":\"4\",\"972084329\":\"5\"},\"ticker\":{\"id\":\"1076\",\"type\":\"FixedTicker\"}},\"id\":\"1013\",\"type\":\"LinearAxis\"},{\"attributes\":{},\"id\":\"1024\",\"type\":\"WheelZoomTool\"},{\"attributes\":{},\"id\":\"1014\",\"type\":\"BasicTicker\"},{\"attributes\":{\"bottom_units\":\"screen\",\"fill_alpha\":{\"value\":0.5},\"fill_color\":{\"value\":\"lightgrey\"},\"left_units\":\"screen\",\"level\":\"overlay\",\"line_alpha\":{\"value\":1.0},\"line_color\":{\"value\":\"black\"},\"line_dash\":[4,4],\"line_width\":{\"value\":2},\"render_mode\":\"css\",\"right_units\":\"screen\",\"top_units\":\"screen\"},\"id\":\"1084\",\"type\":\"BoxAnnotation\"},{\"attributes\":{\"data_source\":{\"id\":\"1038\",\"type\":\"ColumnDataSource\"},\"glyph\":{\"id\":\"1060\",\"type\":\"Circle\"},\"hover_glyph\":null,\"muted_glyph\":null,\"nonselection_glyph\":{\"id\":\"1061\",\"type\":\"Circle\"},\"selection_glyph\":null,\"view\":{\"id\":\"1058\",\"type\":\"CDSView\"}},\"id\":\"1062\",\"type\":\"GlyphRenderer\"},{\"attributes\":{\"filters\":[{\"id\":\"1039\",\"type\":\"GroupFilter\"}],\"source\":{\"id\":\"1038\",\"type\":\"ColumnDataSource\"}},\"id\":\"1040\",\"type\":\"CDSView\"},{\"attributes\":{},\"id\":\"1027\",\"type\":\"ResetTool\"},{\"attributes\":{\"ticks\":[370850306,786049561,972084329,1313226357,2358551414]},\"id\":\"1076\",\"type\":\"FixedTicker\"},{\"attributes\":{\"column_name\":\"_contig\",\"group\":\"2\"},\"id\":\"1045\",\"type\":\"GroupFilter\"},{\"attributes\":{\"callback\":null,\"tooltips\":[[\"locus\",\"@locus\"],[\"rs\",\"@rs\"],[\"p_value\",\"@p_value\"]]},\"id\":\"1037\",\"type\":\"HoverTool\"},{\"attributes\":{\"fill_color\":{\"field\":\"_contig\",\"transform\":{\"id\":\"1002\",\"type\":\"CategoricalColorMapper\"}},\"line_color\":{\"field\":\"_contig\",\"transform\":{\"id\":\"1002\",\"type\":\"CategoricalColorMapper\"}},\"x\":{\"field\":\"_global_locus\"},\"y\":{\"field\":\"_pval\"}},\"id\":\"1054\",\"type\":\"Circle\"},{\"attributes\":{\"column_name\":\"_contig\",\"group\":\"7\"},\"id\":\"1063\",\"type\":\"GroupFilter\"},{\"attributes\":{\"filters\":[{\"id\":\"1051\",\"type\":\"GroupFilter\"}],\"source\":{\"id\":\"1038\",\"type\":\"ColumnDataSource\"}},\"id\":\"1052\",\"type\":\"CDSView\"},{\"attributes\":{},\"id\":\"1082\",\"type\":\"BasicTicker\"},{\"attributes\":{\"fill_color\":{\"field\":\"_contig\",\"transform\":{\"id\":\"1002\",\"type\":\"CategoricalColorMapper\"}},\"line_color\":{\"field\":\"_contig\",\"transform\":{\"id\":\"1002\",\"type\":\"CategoricalColorMapper\"}},\"x\":{\"field\":\"_global_locus\"},\"y\":{\"field\":\"_pval\"}},\"id\":\"1060\",\"type\":\"Circle\"},{\"attributes\":{},\"id\":\"1009\",\"type\":\"LinearScale\"},{\"attributes\":{\"filters\":[{\"id\":\"1063\",\"type\":\"GroupFilter\"}],\"source\":{\"id\":\"1038\",\"type\":\"ColumnDataSource\"}},\"id\":\"1064\",\"type\":\"CDSView\"},{\"attributes\":{\"callback\":null},\"id\":\"1005\",\"type\":\"DataRange1d\"},{\"attributes\":{},\"id\":\"1083\",\"type\":\"BasicTickFormatter\"},{\"attributes\":{\"dimension\":1,\"ticker\":{\"id\":\"1019\",\"type\":\"BasicTicker\"}},\"id\":\"1022\",\"type\":\"Grid\"},{\"attributes\":{\"data_source\":{\"id\":\"1038\",\"type\":\"ColumnDataSource\"},\"glyph\":{\"id\":\"1048\",\"type\":\"Circle\"},\"hover_glyph\":null,\"muted_glyph\":null,\"nonselection_glyph\":{\"id\":\"1049\",\"type\":\"Circle\"},\"selection_glyph\":null,\"view\":{\"id\":\"1046\",\"type\":\"CDSView\"}},\"id\":\"1050\",\"type\":\"GlyphRenderer\"},{\"attributes\":{\"ticker\":{\"id\":\"1014\",\"type\":\"BasicTicker\"}},\"id\":\"1017\",\"type\":\"Grid\"},{\"attributes\":{\"label\":{\"value\":\"15\"},\"renderers\":[{\"id\":\"1044\",\"type\":\"GlyphRenderer\"}]},\"id\":\"1069\",\"type\":\"LegendItem\"},{\"attributes\":{\"label\":{\"value\":\"7\"},\"renderers\":[{\"id\":\"1068\",\"type\":\"GlyphRenderer\"}]},\"id\":\"1073\",\"type\":\"LegendItem\"},{\"attributes\":{},\"id\":\"1085\",\"type\":\"Selection\"},{\"attributes\":{\"fill_alpha\":{\"value\":0.1},\"fill_color\":{\"value\":\"#1f77b4\"},\"line_alpha\":{\"value\":0.1},\"line_color\":{\"value\":\"#1f77b4\"},\"x\":{\"field\":\"_global_locus\"},\"y\":{\"field\":\"_pval\"}},\"id\":\"1049\",\"type\":\"Circle\"},{\"attributes\":{},\"id\":\"1086\",\"type\":\"UnionRenderers\"},{\"attributes\":{\"fill_color\":{\"field\":\"_contig\",\"transform\":{\"id\":\"1002\",\"type\":\"CategoricalColorMapper\"}},\"line_color\":{\"field\":\"_contig\",\"transform\":{\"id\":\"1002\",\"type\":\"CategoricalColorMapper\"}},\"x\":{\"field\":\"_global_locus\"},\"y\":{\"field\":\"_pval\"}},\"id\":\"1042\",\"type\":\"Circle\"},{\"attributes\":{\"click_policy\":\"hide\",\"items\":[{\"id\":\"1069\",\"type\":\"LegendItem\"},{\"id\":\"1070\",\"type\":\"LegendItem\"},{\"id\":\"1071\",\"type\":\"LegendItem\"},{\"id\":\"1072\",\"type\":\"LegendItem\"},{\"id\":\"1073\",\"type\":\"LegendItem\"}],\"visible\":false},\"id\":\"1074\",\"type\":\"Legend\"},{\"attributes\":{},\"id\":\"1011\",\"type\":\"LinearScale\"}],\"root_ids\":[\"1003\"]},\"title\":\"Bokeh Application\",\"version\":\"1.2.0\"}};\n",
       "  var render_items = [{\"docid\":\"265b4925-4caa-4bd7-92dd-2beeba8d115d\",\"roots\":{\"1003\":\"21d28a11-7109-4ea4-927f-fa9d0c717eff\"}}];\n",
       "  root.Bokeh.embed.embed_items_notebook(docs_json, render_items);\n",
       "\n",
       "  }\n",
       "  if (root.Bokeh !== undefined) {\n",
       "    embed_document(root);\n",
       "  } else {\n",
       "    var attempts = 0;\n",
       "    var timer = setInterval(function(root) {\n",
       "      if (root.Bokeh !== undefined) {\n",
       "        embed_document(root);\n",
       "        clearInterval(timer);\n",
       "      }\n",
       "      attempts++;\n",
       "      if (attempts > 100) {\n",
       "        console.log(\"Bokeh: ERROR: Unable to run BokehJS code because BokehJS library is missing\");\n",
       "        clearInterval(timer);\n",
       "      }\n",
       "    }, 10, root)\n",
       "  }\n",
       "})(window);"
      ],
      "application/vnd.bokehjs_exec.v0+json": ""
     },
     "metadata": {
      "application/vnd.bokehjs_exec.v0+json": {
       "id": "1003"
      }
     },
     "output_type": "display_data"
    }
   ],
   "source": [
    "p = hl.plot.manhattan(gwas.p_value, hover_fields=dict(rs=gwas.rsid))\n",
    "show(p)"
   ]
  },
  {
   "cell_type": "markdown",
   "metadata": {},
   "source": [
    "_Fig 1: Manhattan plot for logistic regression p-values._"
   ]
  },
  {
   "cell_type": "markdown",
   "metadata": {},
   "source": [
    "## Build random forest and extract gini importanct with VariantSpark (on the same data)"
   ]
  },
  {
   "cell_type": "code",
   "execution_count": 10,
   "metadata": {},
   "outputs": [],
   "source": [
    "rf_model = vshl.random_forest_model(y=mt.hipster.label,\n",
    "                    x=mt.GT.n_alt_alleles())\n",
    "rf_model.fit_trees(500, 100)"
   ]
  },
  {
   "cell_type": "code",
   "execution_count": 11,
   "metadata": {},
   "outputs": [
    {
     "name": "stdout",
     "output_type": "stream",
     "text": [
      "0.1876996805111821\n"
     ]
    },
    {
     "name": "stderr",
     "output_type": "stream",
     "text": [
      "2019-09-17 10:32:06 Hail: INFO: Coerced sorted dataset\n"
     ]
    },
    {
     "data": {
      "text/html": [
       "<table><thead style=\"font-weight: bold;\"><tr><td>locus</td><td>alleles</td><td>importance</td></tr>\n",
       "<tr><td>locus&lt;GRCh37&gt;</td><td>array&lt;str&gt;</td><td>float64</td></tr>\n",
       "</thead><tbody><tr><td>2:109511398</td><td>[&quot;G&quot;,&quot;A&quot;]</td><td>8.97e-03</td></tr>\n",
       "<tr><td>2:109511454</td><td>[&quot;C&quot;,&quot;A&quot;]</td><td>3.59e-03</td></tr>\n",
       "<tr><td>2:109511463</td><td>[&quot;G&quot;,&quot;A&quot;]</td><td>9.07e-02</td></tr>\n",
       "</tbody></table><p>showing top 3 rows</p>\n"
      ],
      "text/plain": [
       "+---------------+------------+------------+\n",
       "| locus         | alleles    | importance |\n",
       "+---------------+------------+------------+\n",
       "| locus<GRCh37> | array<str> |    float64 |\n",
       "+---------------+------------+------------+\n",
       "| 2:109511398   | [\"G\",\"A\"]  |   8.97e-03 |\n",
       "| 2:109511454   | [\"C\",\"A\"]  |   3.59e-03 |\n",
       "| 2:109511463   | [\"G\",\"A\"]  |   9.07e-02 |\n",
       "+---------------+------------+------------+\n",
       "showing top 3 rows"
      ]
     },
     "metadata": {},
     "output_type": "display_data"
    }
   ],
   "source": [
    "print(rf_model.oob_error())\n",
    "impTable = rf_model.variable_importance()\n",
    "impTable.show(3)"
   ]
  },
  {
   "cell_type": "markdown",
   "metadata": {},
   "source": [
    "Join hail and VariantSpark results (this is only needed here to get the RSID's)"
   ]
  },
  {
   "cell_type": "code",
   "execution_count": 12,
   "metadata": {},
   "outputs": [],
   "source": [
    "gwas_with_imp = gwas.join(impTable)"
   ]
  },
  {
   "cell_type": "code",
   "execution_count": 13,
   "metadata": {},
   "outputs": [
    {
     "data": {
      "text/html": [
       "\n",
       "\n",
       "\n",
       "\n",
       "\n",
       "\n",
       "  <div class=\"bk-root\" id=\"8211a163-7bd3-4862-b703-813290c5607e\" data-root-id=\"1161\"></div>\n"
      ]
     },
     "metadata": {},
     "output_type": "display_data"
    },
    {
     "data": {
      "application/javascript": [
       "(function(root) {\n",
       "  function embed_document(root) {\n",
       "    \n",
       "  var docs_json = {\"1de66c22-e94d-40b1-9d5d-8de7832884f7\":{\"roots\":{\"references\":[{\"attributes\":{\"below\":[{\"id\":\"1171\",\"type\":\"LinearAxis\"}],\"center\":[{\"id\":\"1175\",\"type\":\"Grid\"},{\"id\":\"1180\",\"type\":\"Grid\"}],\"left\":[{\"id\":\"1176\",\"type\":\"LinearAxis\"},{\"id\":\"1232\",\"type\":\"Legend\"},{\"id\":\"1233\",\"type\":\"ColorBar\"}],\"plot_width\":1000,\"renderers\":[{\"id\":\"1202\",\"type\":\"GlyphRenderer\"},{\"id\":\"1208\",\"type\":\"GlyphRenderer\"},{\"id\":\"1214\",\"type\":\"GlyphRenderer\"},{\"id\":\"1220\",\"type\":\"GlyphRenderer\"},{\"id\":\"1226\",\"type\":\"GlyphRenderer\"}],\"title\":null,\"toolbar\":{\"id\":\"1187\",\"type\":\"Toolbar\"},\"x_range\":{\"id\":\"1163\",\"type\":\"DataRange1d\"},\"x_scale\":{\"id\":\"1167\",\"type\":\"LinearScale\"},\"y_range\":{\"id\":\"1165\",\"type\":\"DataRange1d\"},\"y_scale\":{\"id\":\"1169\",\"type\":\"LinearScale\"}},\"id\":\"1161\",\"subtype\":\"Figure\",\"type\":\"Plot\"},{\"attributes\":{\"fill_alpha\":{\"value\":0.1},\"fill_color\":{\"value\":\"#1f77b4\"},\"line_alpha\":{\"value\":0.1},\"line_color\":{\"value\":\"#1f77b4\"},\"x\":{\"field\":\"_global_locus\"},\"y\":{\"field\":\"_pval\"}},\"id\":\"1213\",\"type\":\"Circle\"},{\"attributes\":{\"color_mapper\":null,\"formatter\":{\"id\":\"1239\",\"type\":\"BasicTickFormatter\"},\"ticker\":{\"id\":\"1240\",\"type\":\"BasicTicker\"},\"visible\":false},\"id\":\"1233\",\"type\":\"ColorBar\"},{\"attributes\":{},\"id\":\"1172\",\"type\":\"BasicTicker\"},{\"attributes\":{\"data_source\":{\"id\":\"1196\",\"type\":\"ColumnDataSource\"},\"glyph\":{\"id\":\"1206\",\"type\":\"Circle\"},\"hover_glyph\":null,\"muted_glyph\":null,\"nonselection_glyph\":{\"id\":\"1207\",\"type\":\"Circle\"},\"selection_glyph\":null,\"view\":{\"id\":\"1204\",\"type\":\"CDSView\"}},\"id\":\"1208\",\"type\":\"GlyphRenderer\"},{\"attributes\":{\"column_name\":\"_contig\",\"group\":\"7\"},\"id\":\"1221\",\"type\":\"GroupFilter\"},{\"attributes\":{\"filters\":[{\"id\":\"1221\",\"type\":\"GroupFilter\"}],\"source\":{\"id\":\"1196\",\"type\":\"ColumnDataSource\"}},\"id\":\"1222\",\"type\":\"CDSView\"},{\"attributes\":{},\"id\":\"1244\",\"type\":\"UnionRenderers\"},{\"attributes\":{},\"id\":\"1240\",\"type\":\"BasicTicker\"},{\"attributes\":{\"click_policy\":\"hide\",\"items\":[{\"id\":\"1227\",\"type\":\"LegendItem\"},{\"id\":\"1228\",\"type\":\"LegendItem\"},{\"id\":\"1229\",\"type\":\"LegendItem\"},{\"id\":\"1230\",\"type\":\"LegendItem\"},{\"id\":\"1231\",\"type\":\"LegendItem\"}],\"visible\":false},\"id\":\"1232\",\"type\":\"Legend\"},{\"attributes\":{},\"id\":\"1184\",\"type\":\"SaveTool\"},{\"attributes\":{\"data_source\":{\"id\":\"1196\",\"type\":\"ColumnDataSource\"},\"glyph\":{\"id\":\"1200\",\"type\":\"Circle\"},\"hover_glyph\":null,\"muted_glyph\":null,\"nonselection_glyph\":{\"id\":\"1201\",\"type\":\"Circle\"},\"selection_glyph\":null,\"view\":{\"id\":\"1198\",\"type\":\"CDSView\"}},\"id\":\"1202\",\"type\":\"GlyphRenderer\"},{\"attributes\":{\"factors\":[\"1\",\"2\",\"3\",\"4\",\"5\",\"6\",\"7\",\"8\",\"9\",\"10\",\"11\",\"12\",\"13\",\"14\",\"15\",\"16\",\"17\",\"18\",\"19\",\"20\",\"21\",\"22\",\"X\",\"Y\",\"MT\",\"GL000207.1\",\"GL000226.1\",\"GL000229.1\",\"GL000231.1\",\"GL000210.1\",\"GL000239.1\",\"GL000235.1\",\"GL000201.1\",\"GL000247.1\",\"GL000245.1\",\"GL000197.1\",\"GL000203.1\",\"GL000246.1\",\"GL000249.1\",\"GL000196.1\",\"GL000248.1\",\"GL000244.1\",\"GL000238.1\",\"GL000202.1\",\"GL000234.1\",\"GL000232.1\",\"GL000206.1\",\"GL000240.1\",\"GL000236.1\",\"GL000241.1\",\"GL000243.1\",\"GL000242.1\",\"GL000230.1\",\"GL000237.1\",\"GL000233.1\",\"GL000204.1\",\"GL000198.1\",\"GL000208.1\",\"GL000191.1\",\"GL000227.1\",\"GL000228.1\",\"GL000214.1\",\"GL000221.1\",\"GL000209.1\",\"GL000218.1\",\"GL000220.1\",\"GL000213.1\",\"GL000211.1\",\"GL000199.1\",\"GL000217.1\",\"GL000216.1\",\"GL000215.1\",\"GL000205.1\",\"GL000219.1\",\"GL000224.1\",\"GL000223.1\",\"GL000195.1\",\"GL000212.1\",\"GL000222.1\",\"GL000200.1\",\"GL000193.1\",\"GL000194.1\",\"GL000225.1\",\"GL000192.1\"],\"palette\":[\"#1f77b4\",\"#ff7f0e\",\"#1f77b4\",\"#ff7f0e\",\"#1f77b4\",\"#ff7f0e\",\"#1f77b4\",\"#ff7f0e\",\"#1f77b4\",\"#ff7f0e\",\"#1f77b4\",\"#ff7f0e\",\"#1f77b4\",\"#ff7f0e\",\"#1f77b4\",\"#ff7f0e\",\"#1f77b4\",\"#ff7f0e\",\"#1f77b4\",\"#ff7f0e\",\"#1f77b4\",\"#ff7f0e\",\"#1f77b4\",\"#ff7f0e\",\"#1f77b4\",\"#ff7f0e\",\"#1f77b4\",\"#ff7f0e\",\"#1f77b4\",\"#ff7f0e\",\"#1f77b4\",\"#ff7f0e\",\"#1f77b4\",\"#ff7f0e\",\"#1f77b4\",\"#ff7f0e\",\"#1f77b4\",\"#ff7f0e\",\"#1f77b4\",\"#ff7f0e\",\"#1f77b4\",\"#ff7f0e\",\"#1f77b4\",\"#ff7f0e\",\"#1f77b4\",\"#ff7f0e\",\"#1f77b4\",\"#ff7f0e\",\"#1f77b4\",\"#ff7f0e\",\"#1f77b4\",\"#ff7f0e\",\"#1f77b4\",\"#ff7f0e\",\"#1f77b4\",\"#ff7f0e\",\"#1f77b4\",\"#ff7f0e\",\"#1f77b4\",\"#ff7f0e\",\"#1f77b4\",\"#ff7f0e\",\"#1f77b4\",\"#ff7f0e\",\"#1f77b4\",\"#ff7f0e\",\"#1f77b4\",\"#ff7f0e\",\"#1f77b4\",\"#ff7f0e\",\"#1f77b4\",\"#ff7f0e\",\"#1f77b4\",\"#ff7f0e\",\"#1f77b4\",\"#ff7f0e\",\"#1f77b4\",\"#ff7f0e\",\"#1f77b4\",\"#ff7f0e\",\"#1f77b4\",\"#ff7f0e\",\"#1f77b4\",\"#ff7f0e\"]},\"id\":\"1160\",\"type\":\"CategoricalColorMapper\"},{\"attributes\":{\"column_name\":\"_contig\",\"group\":\"2\"},\"id\":\"1203\",\"type\":\"GroupFilter\"},{\"attributes\":{},\"id\":\"1169\",\"type\":\"LinearScale\"},{\"attributes\":{},\"id\":\"1237\",\"type\":\"BasicTickFormatter\"},{\"attributes\":{\"dimension\":1,\"ticker\":{\"id\":\"1177\",\"type\":\"BasicTicker\"}},\"id\":\"1180\",\"type\":\"Grid\"},{\"attributes\":{},\"id\":\"1239\",\"type\":\"BasicTickFormatter\"},{\"attributes\":{\"axis_label\":\"Importance (gini)\",\"formatter\":{\"id\":\"1237\",\"type\":\"BasicTickFormatter\"},\"ticker\":{\"id\":\"1177\",\"type\":\"BasicTicker\"}},\"id\":\"1176\",\"type\":\"LinearAxis\"},{\"attributes\":{\"axis_label\":\"Chromosome\",\"formatter\":{\"id\":\"1241\",\"type\":\"BasicTickFormatter\"},\"major_label_overrides\":{\"1313226357\":\"7\",\"2358551414\":\"15\",\"370850306\":\"2\",\"786049561\":\"4\",\"972084329\":\"5\"},\"ticker\":{\"id\":\"1234\",\"type\":\"FixedTicker\"}},\"id\":\"1171\",\"type\":\"LinearAxis\"},{\"attributes\":{\"filters\":[{\"id\":\"1215\",\"type\":\"GroupFilter\"}],\"source\":{\"id\":\"1196\",\"type\":\"ColumnDataSource\"}},\"id\":\"1216\",\"type\":\"CDSView\"},{\"attributes\":{\"column_name\":\"_contig\",\"group\":\"4\"},\"id\":\"1209\",\"type\":\"GroupFilter\"},{\"attributes\":{\"data_source\":{\"id\":\"1196\",\"type\":\"ColumnDataSource\"},\"glyph\":{\"id\":\"1212\",\"type\":\"Circle\"},\"hover_glyph\":null,\"muted_glyph\":null,\"nonselection_glyph\":{\"id\":\"1213\",\"type\":\"Circle\"},\"selection_glyph\":null,\"view\":{\"id\":\"1210\",\"type\":\"CDSView\"}},\"id\":\"1214\",\"type\":\"GlyphRenderer\"},{\"attributes\":{},\"id\":\"1182\",\"type\":\"WheelZoomTool\"},{\"attributes\":{\"label\":{\"value\":\"7\"},\"renderers\":[{\"id\":\"1226\",\"type\":\"GlyphRenderer\"}]},\"id\":\"1231\",\"type\":\"LegendItem\"},{\"attributes\":{},\"id\":\"1241\",\"type\":\"BasicTickFormatter\"},{\"attributes\":{\"bottom_units\":\"screen\",\"fill_alpha\":{\"value\":0.5},\"fill_color\":{\"value\":\"lightgrey\"},\"left_units\":\"screen\",\"level\":\"overlay\",\"line_alpha\":{\"value\":1.0},\"line_color\":{\"value\":\"black\"},\"line_dash\":[4,4],\"line_width\":{\"value\":2},\"render_mode\":\"css\",\"right_units\":\"screen\",\"top_units\":\"screen\"},\"id\":\"1242\",\"type\":\"BoxAnnotation\"},{\"attributes\":{\"column_name\":\"_contig\",\"group\":\"5\"},\"id\":\"1215\",\"type\":\"GroupFilter\"},{\"attributes\":{\"fill_color\":{\"field\":\"_contig\",\"transform\":{\"id\":\"1160\",\"type\":\"CategoricalColorMapper\"}},\"line_color\":{\"field\":\"_contig\",\"transform\":{\"id\":\"1160\",\"type\":\"CategoricalColorMapper\"}},\"x\":{\"field\":\"_global_locus\"},\"y\":{\"field\":\"_pval\"}},\"id\":\"1206\",\"type\":\"Circle\"},{\"attributes\":{\"ticks\":[370850306,786049561,972084329,1313226357,2358551414]},\"id\":\"1234\",\"type\":\"FixedTicker\"},{\"attributes\":{\"label\":{\"value\":\"4\"},\"renderers\":[{\"id\":\"1214\",\"type\":\"GlyphRenderer\"}]},\"id\":\"1229\",\"type\":\"LegendItem\"},{\"attributes\":{},\"id\":\"1167\",\"type\":\"LinearScale\"},{\"attributes\":{\"fill_alpha\":{\"value\":0.1},\"fill_color\":{\"value\":\"#1f77b4\"},\"line_alpha\":{\"value\":0.1},\"line_color\":{\"value\":\"#1f77b4\"},\"x\":{\"field\":\"_global_locus\"},\"y\":{\"field\":\"_pval\"}},\"id\":\"1207\",\"type\":\"Circle\"},{\"attributes\":{\"filters\":[{\"id\":\"1197\",\"type\":\"GroupFilter\"}],\"source\":{\"id\":\"1196\",\"type\":\"ColumnDataSource\"}},\"id\":\"1198\",\"type\":\"CDSView\"},{\"attributes\":{\"label\":{\"value\":\"5\"},\"renderers\":[{\"id\":\"1220\",\"type\":\"GlyphRenderer\"}]},\"id\":\"1230\",\"type\":\"LegendItem\"},{\"attributes\":{\"callback\":null},\"id\":\"1165\",\"type\":\"DataRange1d\"},{\"attributes\":{\"label\":{\"value\":\"2\"},\"renderers\":[{\"id\":\"1208\",\"type\":\"GlyphRenderer\"}]},\"id\":\"1228\",\"type\":\"LegendItem\"},{\"attributes\":{\"ticker\":{\"id\":\"1172\",\"type\":\"BasicTicker\"}},\"id\":\"1175\",\"type\":\"Grid\"},{\"attributes\":{\"fill_alpha\":{\"value\":0.1},\"fill_color\":{\"value\":\"#1f77b4\"},\"line_alpha\":{\"value\":0.1},\"line_color\":{\"value\":\"#1f77b4\"},\"x\":{\"field\":\"_global_locus\"},\"y\":{\"field\":\"_pval\"}},\"id\":\"1201\",\"type\":\"Circle\"},{\"attributes\":{\"callback\":null,\"data\":{\"_contig\":[\"4\",\"15\",\"15\",\"15\",\"5\",\"5\",\"15\",\"5\",\"5\",\"5\",\"4\",\"5\",\"2\",\"15\",\"4\",\"7\",\"5\",\"2\",\"2\",\"5\",\"2\",\"15\",\"4\",\"5\",\"5\",\"2\",\"5\",\"5\",\"5\",\"15\",\"2\",\"2\",\"15\",\"5\",\"5\",\"7\",\"2\",\"4\",\"4\",\"5\",\"7\",\"2\",\"2\",\"15\",\"15\",\"5\",\"5\",\"15\",\"5\",\"4\",\"5\",\"5\",\"5\",\"4\",\"7\",\"2\",\"5\",\"5\",\"2\",\"2\",\"2\",\"7\",\"7\",\"5\",\"7\",\"7\",\"5\",\"15\",\"15\",\"5\",\"2\",\"4\",\"2\",\"5\",\"5\",\"5\",\"2\",\"2\",\"7\",\"5\",\"5\",\"2\",\"15\",\"5\",\"5\",\"7\",\"15\",\"15\",\"15\",\"5\",\"2\",\"2\",\"7\",\"15\",\"15\",\"4\",\"2\",\"15\",\"15\",\"2\",\"5\",\"5\",\"7\",\"5\",\"15\",\"5\",\"5\",\"5\",\"5\",\"2\",\"15\",\"5\",\"4\",\"2\",\"4\",\"5\",\"5\",\"5\",\"5\",\"7\",\"5\",\"4\",\"15\",\"5\",\"15\",\"5\",\"15\",\"2\",\"5\",\"5\",\"2\",\"2\",\"5\",\"2\",\"5\",\"5\",\"7\",\"5\",\"2\",\"2\",\"2\",\"2\",\"5\",\"2\",\"15\",\"4\",\"2\",\"4\",\"5\",\"7\",\"5\",\"5\",\"4\",\"7\",\"5\",\"4\",\"5\",\"5\",\"7\",\"2\",\"7\",\"15\",\"5\",\"15\",\"5\",\"5\",\"5\",\"5\",\"15\",\"2\",\"5\",\"4\",\"4\",\"5\",\"15\",\"5\",\"2\",\"5\",\"5\",\"2\",\"5\",\"15\",\"15\",\"5\",\"5\",\"15\",\"5\",\"5\",\"15\",\"4\",\"15\",\"7\",\"5\",\"5\",\"15\",\"7\",\"5\",\"7\",\"5\",\"5\",\"2\",\"5\",\"15\",\"7\",\"2\",\"5\",\"15\",\"5\"],\"_global_locus\":{\"__ndarray__\":\"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\",\"dtype\":\"float64\",\"shape\":[208]},\"_pval\":{\"__ndarray__\":\"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\",\"dtype\":\"float64\",\"shape\":[208]},\"index\":[0,1,2,3,4,5,6,7,8,9,10,11,12,13,14,15,16,17,18,19,20,21,22,23,24,25,26,27,28,29,30,31,32,33,34,35,36,37,38,39,40,41,42,43,44,45,46,47,48,49,50,51,52,53,54,55,56,57,58,59,60,61,62,63,64,65,66,67,68,69,70,71,72,73,74,75,76,77,78,79,80,81,82,83,84,85,86,87,88,89,90,91,92,93,94,95,96,97,98,99,100,101,102,103,104,105,106,107,108,109,110,111,112,113,114,115,116,117,118,119,120,121,122,123,124,125,126,127,128,129,130,131,132,133,134,135,136,137,138,139,140,141,142,143,144,145,146,147,148,149,150,151,152,153,154,155,156,157,158,159,160,161,162,163,164,165,166,167,168,169,170,171,172,173,174,175,176,177,178,179,180,181,182,183,184,185,186,187,188,189,190,191,192,193,194,195,196,197,198,199,200,201,202,203,204,205,206,207],\"locus\":[\"4:54512170\",\"15:66474821\",\"15:66423068\",\"15:75025814\",\"5:126756195\",\"5:126767961\",\"15:66531267\",\"5:126731259\",\"5:126727008\",\"5:126648201\",\"4:54511913\",\"5:126633827\",\"2:109514192\",\"15:75028348\",\"4:54513819\",\"7:113990352\",\"5:126725054\",\"2:109513572\",\"2:109513903\",\"5:126740052\",\"2:223033030\",\"15:66387279\",\"4:54511042\",\"5:126685374\",\"5:126636211\",\"2:223034660\",\"5:126688517\",\"5:126639591\",\"5:126661380\",\"15:75029840\",\"2:223035313\",\"2:109514747\",\"15:75028536\",\"5:126679402\",\"5:126709432\",\"7:113989105\",\"2:223034770\",\"4:54513653\",\"4:54511246\",\"5:126644681\",\"7:17286770\",\"2:223034082\",\"2:109512606\",\"15:66492619\",\"15:75025988\",\"5:126674613\",\"5:126717984\",\"15:75029407\",\"5:126662114\",\"4:54512795\",\"5:126687822\",\"5:126798461\",\"5:126627875\",\"4:54513755\",\"7:113989202\",\"2:223036256\",\"5:126632848\",\"5:126635055\",\"2:109512256\",\"2:223033196\",\"2:109514224\",\"7:17284085\",\"7:113987577\",\"5:126654623\",\"7:113987889\",\"7:17282507\",\"5:126775113\",\"15:66401040\",\"15:66314082\",\"5:126647941\",\"2:109514464\",\"4:54514122\",\"2:109515567\",\"5:126658500\",\"5:126737444\",\"5:126781446\",\"2:223035994\",\"2:223034146\",\"7:17286817\",\"5:126785891\",\"5:126679697\",\"2:109514985\",\"15:66402099\",\"5:126739085\",\"5:126628584\",\"7:113988537\",\"15:66370565\",\"15:66303141\",\"15:66415107\",\"5:126628771\",\"2:223035940\",\"2:223034224\",\"7:113991052\",\"15:66474002\",\"15:75026149\",\"4:54513106\",\"2:223033978\",\"15:66397161\",\"15:75028490\",\"2:109512115\",\"5:126650182\",\"5:126654970\",\"7:113989569\",\"5:126793219\",\"15:75029399\",\"5:126682039\",\"5:126668683\",\"5:126754532\",\"5:126740501\",\"2:109515025\",\"15:66393190\",\"5:126689489\",\"4:54509759\",\"2:223033396\",\"4:54514026\",\"5:126632821\",\"5:126798856\",\"5:126775739\",\"5:126795246\",\"7:17282974\",\"5:126656500\",\"4:54510874\",\"15:75029683\",\"5:126626044\",\"15:66537997\",\"5:126657217\",\"15:75027895\",\"2:223036258\",\"5:126630016\",\"5:126639097\",\"2:223033867\",\"2:109511765\",\"5:126660301\",\"2:223032399\",\"5:126782325\",\"5:126796531\",\"7:17285867\",\"5:126698023\",\"2:223035359\",\"2:223032504\",\"2:223034144\",\"2:109515632\",\"5:126630948\",\"2:223034758\",\"15:66371850\",\"4:54510427\",\"2:109513372\",\"4:54511711\",\"5:126629112\",\"7:17282872\",\"5:126655730\",\"5:126798783\",\"4:54512721\",\"7:17284577\",\"5:126630491\",\"4:54512546\",\"5:126661774\",\"5:126640246\",\"7:17286087\",\"2:223032642\",\"7:17283561\",\"15:66335837\",\"5:126689438\",\"15:75028934\",\"5:126654062\",\"5:126629170\",\"5:126640576\",\"5:126626645\",\"15:66469335\",\"2:223034162\",\"5:126625548\",\"4:54514062\",\"4:54513660\",\"5:126797292\",\"15:66522474\",\"5:126652710\",\"2:223032002\",\"5:126645343\",\"5:126639801\",\"2:223033006\",\"5:126640205\",\"15:75029998\",\"15:75026627\",\"5:126664981\",\"5:126780344\",\"15:66368685\",\"5:126683883\",\"5:126744956\",\"15:66420179\",\"4:54512752\",\"15:66406079\",\"7:17284989\",\"5:126778245\",\"5:126694437\",\"15:66321395\",\"7:113989578\",\"5:126769874\",\"7:17286310\",\"5:126655749\",\"5:126757425\",\"2:109512230\",\"5:126635083\",\"15:75029228\",\"7:113991440\",\"2:223033642\",\"5:126757463\",\"15:75027880\",\"5:126646864\"],\"p_value\":{\"__ndarray__\":\"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\",\"dtype\":\"float64\",\"shape\":[208]},\"ri\":[\"rs79625021\",\"rs56007700\",\"rs137881134\",\"rs12441817\",\"rs17673517\",\"rs6866678\",\"rs77241543\",\"rs13171067\",\"rs1019482\",\"rs1422317\",\"rs4864809\",\"rs2585197\",\"rs2378217\",\"rs185406833\",\"rs6858782\",\"rs2049604\",\"rs10041484\",\"rs146567337\",\"rs116238015\",\"rs59745967\",\"rs16863473\",\"rs72744419\",\"rs2590770\",\"rs550745558\",\"rs2546809\",\"rs985473\",\"rs185033\",\"rs2431496\",\"rs31471\",\"rs116979601\",\"rs66885466\",\"rs4676218\",\"rs112697364\",\"rs246897\",\"rs35087652\",\"rs79448181\",\"rs201276449\",\"rs539249144;rs200448899\",\"rs2616389\",\"rs2254762\",\"rs112089609\",\"rs2218065\",\"rs3749097\",\"rs8027991\",\"rs4886605\",\"rs27782\",\"rs35529\",\"rs8029744\",\"rs26945\",\"rs369583472\",\"rs36308\",\"rs111867141\",\"rs4836316\",\"rs77629803\",\"rs117717824\",\"rs79922615\",\"rs2585198\",\"rs1808378\",\"rs73952545\",\"rs13411329\",\"rs78249499\",\"rs6943079\",\"rs75704660\",\"rs2439927\",\"rs2690825\",\"rs62444547\",\"rs34451603\",\"rs78930778\",\"rs512953\",\"rs1422316\",\"rs940928\",\"rs75893784\",\"rs76935644\",\"rs152122\",\"rs12233927\",\"rs2270933\",\"rs541580975\",\"rs16863476\",\"rs532738234\",\"rs144354363\",\"rs246896\",\"rs11689836\",\"rs4776730\",\"rs6877254\",\"rs112394041\",\"rs2690826\",\"rs12901123\",\"rs425030\",\"rs140789134\",\"rs4836317\",\"rs11690945\",\"rs78277770\",\"rs536563232\",\"rs111496401\",\"rs17861118\",\"rs2668550\",\"rs2196751\",\"rs34890708\",\"rs11072500\",\"rs75155869\",\"rs1345663\",\"rs246885\",\"rs1916976\",\"rs10793809\",\"rs8030076\",\"rs246895\",\"rs2546078\",\"rs111958224\",\"rs111615826\",\"rs60288156\",\"rs200551556\",\"rs26946\",\"rs6818959\",\"rs11895863\",\"rs79162003\",\"rs2585199\",\"rs73348777\",\"rs13190032\",\"rs3756722\",\"rs17137451\",\"rs152120\",\"rs6816209\",\"rs548198773\",\"rs1363387\",\"rs7178788\",\"rs152121\",\"rs141323436\",\"rs551240079\",\"rs1422313\",\"rs2546807\",\"rs80199364\",\"rs10865025\",\"rs31472\",\"rs986429\",\"rs10072587\",\"rs35236935\",\"rs10281571\",\"rs35156178\",\"rs13431945\",\"rs36054640\",\"rs116514046\",\"rs137965476\",\"rs2059083\",\"rs71050391\",\"rs8034323\",\"rs2668552\",\"rs192939679\",\"rs2668551\",\"rs4836318\",\"rs79710531\",\"rs246886\",\"rs17444885\",\"rs73250977\",\"rs4410790\",\"rs200086613\",\"rs77704934\",\"rs31470\",\"rs1816059\",\"rs79694830\",\"rs986430\",\"rs568478767\",\"rs471751\",\"rs1160960\",\"rs530036912\",\"rs185032\",\"rs12519784\",\"rs2546080\",\"rs2032834\",\"rs148173005\",\"rs73990988\",\"rs2408868\",\"rs559531437\",\"rs17663341\",\"rs4836323\",\"rs12915058\",\"rs246945\",\"rs7607981\",\"rs2546086\",\"rs2431724\",\"rs529478087\",\"rs1816058\",\"rs76354137\",\"rs11631784\",\"rs27749\",\"rs10519941\",\"rs11412871\",\"rs27652\",\"rs56320297\",\"rs560393961\",\"rs2590773\",\"rs75430782\",\"rs10277582\",\"rs73348744\",\"rs26947\",\"rs2552180\",\"rs2690827\",\"rs10078629\",\"rs111886830\",\"rs246887\",\"rs76824969\",\"rs114097029\",\"rs2018571\",\"rs77021813\",\"rs529657511\",\"rs2218064\",\"rs180947454\",\"rs2472297\",\"rs2161283\"]},\"selected\":{\"id\":\"1243\",\"type\":\"Selection\"},\"selection_policy\":{\"id\":\"1244\",\"type\":\"UnionRenderers\"}},\"id\":\"1196\",\"type\":\"ColumnDataSource\"},{\"attributes\":{\"callback\":null},\"id\":\"1163\",\"type\":\"DataRange1d\"},{\"attributes\":{\"fill_color\":{\"field\":\"_contig\",\"transform\":{\"id\":\"1160\",\"type\":\"CategoricalColorMapper\"}},\"line_color\":{\"field\":\"_contig\",\"transform\":{\"id\":\"1160\",\"type\":\"CategoricalColorMapper\"}},\"x\":{\"field\":\"_global_locus\"},\"y\":{\"field\":\"_pval\"}},\"id\":\"1218\",\"type\":\"Circle\"},{\"attributes\":{},\"id\":\"1243\",\"type\":\"Selection\"},{\"attributes\":{\"filters\":[{\"id\":\"1209\",\"type\":\"GroupFilter\"}],\"source\":{\"id\":\"1196\",\"type\":\"ColumnDataSource\"}},\"id\":\"1210\",\"type\":\"CDSView\"},{\"attributes\":{\"fill_alpha\":{\"value\":0.1},\"fill_color\":{\"value\":\"#1f77b4\"},\"line_alpha\":{\"value\":0.1},\"line_color\":{\"value\":\"#1f77b4\"},\"x\":{\"field\":\"_global_locus\"},\"y\":{\"field\":\"_pval\"}},\"id\":\"1219\",\"type\":\"Circle\"},{\"attributes\":{\"label\":{\"value\":\"15\"},\"renderers\":[{\"id\":\"1202\",\"type\":\"GlyphRenderer\"}]},\"id\":\"1227\",\"type\":\"LegendItem\"},{\"attributes\":{\"fill_color\":{\"field\":\"_contig\",\"transform\":{\"id\":\"1160\",\"type\":\"CategoricalColorMapper\"}},\"line_color\":{\"field\":\"_contig\",\"transform\":{\"id\":\"1160\",\"type\":\"CategoricalColorMapper\"}},\"x\":{\"field\":\"_global_locus\"},\"y\":{\"field\":\"_pval\"}},\"id\":\"1224\",\"type\":\"Circle\"},{\"attributes\":{\"fill_alpha\":{\"value\":0.1},\"fill_color\":{\"value\":\"#1f77b4\"},\"line_alpha\":{\"value\":0.1},\"line_color\":{\"value\":\"#1f77b4\"},\"x\":{\"field\":\"_global_locus\"},\"y\":{\"field\":\"_pval\"}},\"id\":\"1225\",\"type\":\"Circle\"},{\"attributes\":{},\"id\":\"1181\",\"type\":\"PanTool\"},{\"attributes\":{\"fill_color\":{\"field\":\"_contig\",\"transform\":{\"id\":\"1160\",\"type\":\"CategoricalColorMapper\"}},\"line_color\":{\"field\":\"_contig\",\"transform\":{\"id\":\"1160\",\"type\":\"CategoricalColorMapper\"}},\"x\":{\"field\":\"_global_locus\"},\"y\":{\"field\":\"_pval\"}},\"id\":\"1200\",\"type\":\"Circle\"},{\"attributes\":{\"overlay\":{\"id\":\"1242\",\"type\":\"BoxAnnotation\"}},\"id\":\"1183\",\"type\":\"BoxZoomTool\"},{\"attributes\":{\"filters\":[{\"id\":\"1203\",\"type\":\"GroupFilter\"}],\"source\":{\"id\":\"1196\",\"type\":\"ColumnDataSource\"}},\"id\":\"1204\",\"type\":\"CDSView\"},{\"attributes\":{\"fill_color\":{\"field\":\"_contig\",\"transform\":{\"id\":\"1160\",\"type\":\"CategoricalColorMapper\"}},\"line_color\":{\"field\":\"_contig\",\"transform\":{\"id\":\"1160\",\"type\":\"CategoricalColorMapper\"}},\"x\":{\"field\":\"_global_locus\"},\"y\":{\"field\":\"_pval\"}},\"id\":\"1212\",\"type\":\"Circle\"},{\"attributes\":{\"active_drag\":\"auto\",\"active_inspect\":\"auto\",\"active_multi\":null,\"active_scroll\":\"auto\",\"active_tap\":\"auto\",\"tools\":[{\"id\":\"1181\",\"type\":\"PanTool\"},{\"id\":\"1182\",\"type\":\"WheelZoomTool\"},{\"id\":\"1183\",\"type\":\"BoxZoomTool\"},{\"id\":\"1184\",\"type\":\"SaveTool\"},{\"id\":\"1185\",\"type\":\"ResetTool\"},{\"id\":\"1186\",\"type\":\"HelpTool\"},{\"id\":\"1195\",\"type\":\"HoverTool\"}]},\"id\":\"1187\",\"type\":\"Toolbar\"},{\"attributes\":{},\"id\":\"1185\",\"type\":\"ResetTool\"},{\"attributes\":{\"callback\":null,\"tooltips\":[[\"locus\",\"@locus\"],[\"ri\",\"@ri\"],[\"p_value\",\"@p_value\"]]},\"id\":\"1195\",\"type\":\"HoverTool\"},{\"attributes\":{},\"id\":\"1186\",\"type\":\"HelpTool\"},{\"attributes\":{},\"id\":\"1177\",\"type\":\"BasicTicker\"},{\"attributes\":{\"column_name\":\"_contig\",\"group\":\"15\"},\"id\":\"1197\",\"type\":\"GroupFilter\"},{\"attributes\":{\"data_source\":{\"id\":\"1196\",\"type\":\"ColumnDataSource\"},\"glyph\":{\"id\":\"1218\",\"type\":\"Circle\"},\"hover_glyph\":null,\"muted_glyph\":null,\"nonselection_glyph\":{\"id\":\"1219\",\"type\":\"Circle\"},\"selection_glyph\":null,\"view\":{\"id\":\"1216\",\"type\":\"CDSView\"}},\"id\":\"1220\",\"type\":\"GlyphRenderer\"},{\"attributes\":{\"data_source\":{\"id\":\"1196\",\"type\":\"ColumnDataSource\"},\"glyph\":{\"id\":\"1224\",\"type\":\"Circle\"},\"hover_glyph\":null,\"muted_glyph\":null,\"nonselection_glyph\":{\"id\":\"1225\",\"type\":\"Circle\"},\"selection_glyph\":null,\"view\":{\"id\":\"1222\",\"type\":\"CDSView\"}},\"id\":\"1226\",\"type\":\"GlyphRenderer\"}],\"root_ids\":[\"1161\"]},\"title\":\"Bokeh Application\",\"version\":\"1.2.0\"}};\n",
       "  var render_items = [{\"docid\":\"1de66c22-e94d-40b1-9d5d-8de7832884f7\",\"roots\":{\"1161\":\"8211a163-7bd3-4862-b703-813290c5607e\"}}];\n",
       "  root.Bokeh.embed.embed_items_notebook(docs_json, render_items);\n",
       "\n",
       "  }\n",
       "  if (root.Bokeh !== undefined) {\n",
       "    embed_document(root);\n",
       "  } else {\n",
       "    var attempts = 0;\n",
       "    var timer = setInterval(function(root) {\n",
       "      if (root.Bokeh !== undefined) {\n",
       "        embed_document(root);\n",
       "        clearInterval(timer);\n",
       "      }\n",
       "      attempts++;\n",
       "      if (attempts > 100) {\n",
       "        console.log(\"Bokeh: ERROR: Unable to run BokehJS code because BokehJS library is missing\");\n",
       "        clearInterval(timer);\n",
       "      }\n",
       "    }, 10, root)\n",
       "  }\n",
       "})(window);"
      ],
      "application/vnd.bokehjs_exec.v0+json": ""
     },
     "metadata": {
      "application/vnd.bokehjs_exec.v0+json": {
       "id": "1161"
      }
     },
     "output_type": "display_data"
    }
   ],
   "source": [
    "import varspark.hail.plot as vshlplt\n",
    "p = vshlplt.manhattan_imp(gwas_with_imp.importance, \n",
    "                            hover_fields=dict(ri=gwas_with_imp.rsid),\n",
    "                            significance_line = None)\n",
    "show(p)"
   ]
  },
  {
   "cell_type": "markdown",
   "metadata": {},
   "source": [
    "_Fig 2: Manhattan plot for rf gin importance values._"
   ]
  },
  {
   "cell_type": "markdown",
   "metadata": {},
   "source": [
    "## Compare logistc regression values vs. rf importance"
   ]
  },
  {
   "cell_type": "code",
   "execution_count": 14,
   "metadata": {},
   "outputs": [
    {
     "data": {
      "text/html": [
       "\n",
       "\n",
       "\n",
       "\n",
       "\n",
       "\n",
       "  <div class=\"bk-root\" id=\"3ec5b789-5e56-40b5-ac0e-16b533f19f36\" data-root-id=\"1326\"></div>\n"
      ]
     },
     "metadata": {},
     "output_type": "display_data"
    },
    {
     "data": {
      "application/javascript": [
       "(function(root) {\n",
       "  function embed_document(root) {\n",
       "    \n",
       "  var docs_json = {\"c9a80ecb-172e-48b9-b862-6c0ae8a5114f\":{\"roots\":{\"references\":[{\"attributes\":{\"below\":[{\"id\":\"1336\",\"type\":\"LinearAxis\"}],\"center\":[{\"id\":\"1340\",\"type\":\"Grid\"},{\"id\":\"1345\",\"type\":\"Grid\"}],\"left\":[{\"id\":\"1341\",\"type\":\"LinearAxis\"}],\"plot_height\":800,\"plot_width\":800,\"renderers\":[{\"id\":\"1365\",\"type\":\"GlyphRenderer\"}],\"title\":null,\"toolbar\":{\"id\":\"1352\",\"type\":\"Toolbar\"},\"x_range\":{\"id\":\"1328\",\"type\":\"DataRange1d\"},\"x_scale\":{\"id\":\"1332\",\"type\":\"LinearScale\"},\"y_range\":{\"id\":\"1330\",\"type\":\"DataRange1d\"},\"y_scale\":{\"id\":\"1334\",\"type\":\"LinearScale\"}},\"id\":\"1326\",\"subtype\":\"Figure\",\"type\":\"Plot\"},{\"attributes\":{},\"id\":\"1349\",\"type\":\"SaveTool\"},{\"attributes\":{\"active_drag\":\"auto\",\"active_inspect\":\"auto\",\"active_multi\":null,\"active_scroll\":\"auto\",\"active_tap\":\"auto\",\"tools\":[{\"id\":\"1346\",\"type\":\"PanTool\"},{\"id\":\"1347\",\"type\":\"WheelZoomTool\"},{\"id\":\"1348\",\"type\":\"BoxZoomTool\"},{\"id\":\"1349\",\"type\":\"SaveTool\"},{\"id\":\"1350\",\"type\":\"ResetTool\"},{\"id\":\"1351\",\"type\":\"HelpTool\"},{\"id\":\"1360\",\"type\":\"HoverTool\"}]},\"id\":\"1352\",\"type\":\"Toolbar\"},{\"attributes\":{},\"id\":\"1334\",\"type\":\"LinearScale\"},{\"attributes\":{\"dimension\":1,\"ticker\":{\"id\":\"1342\",\"type\":\"BasicTicker\"}},\"id\":\"1345\",\"type\":\"Grid\"},{\"attributes\":{\"callback\":null},\"id\":\"1330\",\"type\":\"DataRange1d\"},{\"attributes\":{\"bottom_units\":\"screen\",\"fill_alpha\":{\"value\":0.5},\"fill_color\":{\"value\":\"lightgrey\"},\"left_units\":\"screen\",\"level\":\"overlay\",\"line_alpha\":{\"value\":1.0},\"line_color\":{\"value\":\"black\"},\"line_dash\":[4,4],\"line_width\":{\"value\":2},\"render_mode\":\"css\",\"right_units\":\"screen\",\"top_units\":\"screen\"},\"id\":\"1390\",\"type\":\"BoxAnnotation\"},{\"attributes\":{},\"id\":\"1351\",\"type\":\"HelpTool\"},{\"attributes\":{\"callback\":null,\"tooltips\":[[\"x\",\"@x\"],[\"y\",\"@y\"],[\"loc\",\"@loc\"],[\"rs\",\"@rs\"]]},\"id\":\"1360\",\"type\":\"HoverTool\"},{\"attributes\":{},\"id\":\"1388\",\"type\":\"BasicTickFormatter\"},{\"attributes\":{},\"id\":\"1337\",\"type\":\"BasicTicker\"},{\"attributes\":{},\"id\":\"1386\",\"type\":\"BasicTickFormatter\"},{\"attributes\":{\"source\":{\"id\":\"1361\",\"type\":\"ColumnDataSource\"}},\"id\":\"1366\",\"type\":\"CDSView\"},{\"attributes\":{\"fill_color\":{\"value\":\"#1f77b4\"},\"line_color\":{\"value\":\"#1f77b4\"},\"x\":{\"field\":\"x\"},\"y\":{\"field\":\"y\"}},\"id\":\"1363\",\"type\":\"Circle\"},{\"attributes\":{\"callback\":null},\"id\":\"1328\",\"type\":\"DataRange1d\"},{\"attributes\":{\"data_source\":{\"id\":\"1361\",\"type\":\"ColumnDataSource\"},\"glyph\":{\"id\":\"1363\",\"type\":\"Circle\"},\"hover_glyph\":null,\"muted_glyph\":null,\"nonselection_glyph\":{\"id\":\"1364\",\"type\":\"Circle\"},\"selection_glyph\":null,\"view\":{\"id\":\"1366\",\"type\":\"CDSView\"}},\"id\":\"1365\",\"type\":\"GlyphRenderer\"},{\"attributes\":{},\"id\":\"1350\",\"type\":\"ResetTool\"},{\"attributes\":{\"ticker\":{\"id\":\"1337\",\"type\":\"BasicTicker\"}},\"id\":\"1340\",\"type\":\"Grid\"},{\"attributes\":{},\"id\":\"1332\",\"type\":\"LinearScale\"},{\"attributes\":{},\"id\":\"1342\",\"type\":\"BasicTicker\"},{\"attributes\":{\"axis_label\":\"gini importance\",\"formatter\":{\"id\":\"1386\",\"type\":\"BasicTickFormatter\"},\"ticker\":{\"id\":\"1342\",\"type\":\"BasicTicker\"}},\"id\":\"1341\",\"type\":\"LinearAxis\"},{\"attributes\":{},\"id\":\"1391\",\"type\":\"Selection\"},{\"attributes\":{\"callback\":null,\"data\":{\"index\":[0,1,2,3,4,5,6,7,8,9,10,11,12,13,14,15,16,17,18,19,20,21,22,23,24,25,26,27,28,29,30,31,32,33,34,35,36,37,38,39,40,41,42,43,44,45,46,47,48,49,50,51,52,53,54,55,56,57,58,59,60,61,62,63,64,65,66,67,68,69,70,71,72,73,74,75,76,77,78,79,80,81,82,83,84,85,86,87,88,89,90,91,92,93,94,95,96,97,98,99,100,101,102,103,104,105,106,107,108,109,110,111,112,113,114,115,116,117,118,119,120,121,122,123,124,125,126,127,128,129,130,131,132,133,134,135,136,137,138,139,140,141,142,143,144,145,146,147,148,149,150,151,152,153,154,155,156,157,158,159,160,161,162,163,164,165,166,167,168,169,170,171,172,173,174,175,176,177,178,179,180,181,182,183,184,185,186,187,188,189,190,191,192,193,194,195,196,197,198,199,200,201,202,203,204,205,206,207,208,209,210,211,212,213,214,215,216,217,218,219,220,221,222,223,224,225,226,227,228,229,230,231,232,233,234,235,236,237,238,239,240,241,242,243,244,245,246,247,248,249,250,251,252,253,254,255,256,257,258,259,260,261,262,263,264,265,266,267,268,269,270,271,272,273,274,275,276,277,278,279,280,281,282,283,284,285,286,287,288,289,290,291,292,293,294,295,296,297,298,299,300,301,302,303,304,305,306,307,308,309,310,311,312,313,314,315,316,317,318,319,320,321,322,323,324,325,326,327,328,329,330,331,332,333,334,335,336,337,338,339,340,341,342,343,344,345,346,347,348,349,350,351,352,353,354,355,356,357,358,359,360,361,362,363,364,365,366,367,368,369,370,371,372,373,374,375,376,377,378,379,380,381,382,383,384,385,386,387,388,389,390,391,392,393,394,395,396,397,398,399,400,401,402,403,404,405,406,407,408,409,410,411,412,413,414,415,416,417,418,419,420,421,422,423,424,425,426,427,428,429,430,431,432,433,434,435,436,437,438,439,440,441,442,443,444,445,446,447,448,449,450,451,452,453,454,455,456,457,458,459,460,461,462,463,464,465,466,467,468,469,470,471,472,473,474,475,476,477,478,479,480,481,482,483,484,485,486,487,488,489,490,491,492,493,494,495,496,497,498,499,500,501,502,503,504,505,506,507,508,509,510,511,512,513,514,515,516,517,518,519,520,521,522,523,524,525,526,527,528,529,530,531,532,533,534,535,536,537,538,539,540,541,542,543,544,545,546,547,548,549,550,551,552,553,554,555,556,557,558,559,560,561,562,563,564,565,566,567,568,569,570,571,572,573,574,575,576,577,578,579,580,581,582,583,584,585,586,587,588,589,590,591,592,593,594,595,596,597,598,599,600,601,602,603,604,605,606,607,608,609,610,611,612,613,614,615,616,617,618,619,620,621,622,623,624,625,626,627,628,629,630,631,632,633,634,635,636,637,638,639,640,641,642,643,644,645,646,647,648,649,650,651,652],\"loc\":[\"15:66474055\",\"15:66360224\",\"15:66348377\",\"5:126664039\",\"15:66188317\",\"15:66370565\",\"15:66315478\",\"15:66535572\",\"15:66455902\",\"15:66451754\",\"5:126717984\",\"15:66398016\",\"5:126655361\",\"15:66282617\",\"15:66330819\",\"2:223034082\",\"15:66532345\",\"15:66400137\",\"15:66506698\",\"15:66522223\",\"5:126724213\",\"5:126688517\",\"15:66256849\",\"5:126642920\",\"5:126625592\",\"15:66503772\",\"15:66327556\",\"15:66344358\",\"5:126656324\",\"15:66443547\",\"15:66521832\",\"15:66280575\",\"15:66271115\",\"15:66264100\",\"15:66502992\",\"15:66407882\",\"15:66480216\",\"5:126640205\",\"5:126661600\",\"5:126654062\",\"5:126667746\",\"5:126651068\",\"15:66514418\",\"15:66432949\",\"15:66218312\",\"15:66541846\",\"15:66462614\",\"15:66480461\",\"15:66520591\",\"15:66435939\",\"2:223035940\",\"15:66345400\",\"15:66540097\",\"15:66271824\",\"5:126686756\",\"15:66407897\",\"5:126795159\",\"15:66339400\",\"15:66375010\",\"5:126725568\",\"15:66489653\",\"5:126697755\",\"5:126657432\",\"2:223035313\",\"15:66479252\",\"15:66346350\",\"15:66491745\",\"15:66527853\",\"15:66475264\",\"15:66513452\",\"5:126725054\",\"5:126674613\",\"15:66466436\",\"2:223035211\",\"15:66264162\",\"15:66254881\",\"15:66272893\",\"15:66301934\",\"15:66359788\",\"15:66444891\",\"15:66404093\",\"5:126662114\",\"15:66253785\",\"15:66489538\",\"5:126653809\",\"15:66510331\",\"15:66420174\",\"15:66364907\",\"15:66419034\",\"15:66335979\",\"15:66420177\",\"15:66482208\",\"5:126780212\",\"5:126701622\",\"15:66473560\",\"15:66441275\",\"15:66315308\",\"15:66492810\",\"15:66339047\",\"5:126680343\",\"5:126642357\",\"15:66269804\",\"5:126785305\",\"5:126652407\",\"15:66322018\",\"15:66537440\",\"15:66445779\",\"5:126782325\",\"15:66407022\",\"5:126715759\",\"15:66374639\",\"5:126626044\",\"15:66531312\",\"15:66452166\",\"15:66301813\",\"2:223034660\",\"5:126740501\",\"2:109514192\",\"4:54511711\",\"5:126630016\",\"15:66270361\",\"15:66406218\",\"15:66416470\",\"7:113987281\",\"5:126744956\",\"15:66528988\",\"5:126705920\",\"5:126669004\",\"7:113987889\",\"15:66513960\",\"15:66304403\",\"5:126669209\",\"15:66398794\",\"15:66531883\",\"15:66423068\",\"15:66204188\",\"15:66531427\",\"5:126636211\",\"5:126667126\",\"15:66363938\",\"4:54510021\",\"5:126631736\",\"5:126633436\",\"15:66516240\",\"4:54511913\",\"15:66313550\",\"15:66382336\",\"15:66406574\",\"15:66270890\",\"5:126798031\",\"15:66438961\",\"5:126642675\",\"5:126698023\",\"5:126723562\",\"15:66260894\",\"15:66340274\",\"15:66452847\",\"15:66439763\",\"15:66528324\",\"7:113989578\",\"15:66532936\",\"5:126689489\",\"15:66438085\",\"5:126780344\",\"5:126630491\",\"15:66312149\",\"5:126662820\",\"15:66541075\",\"15:66185803\",\"5:126739085\",\"7:17284577\",\"15:66269504\",\"5:126628771\",\"5:126635667\",\"15:66400117\",\"15:66404130\",\"15:66304415\",\"5:126639269\",\"5:126683809\",\"15:66331548\",\"15:66339279\",\"15:66324595\",\"15:66328281\",\"5:126722616\",\"5:126776307\",\"15:66330447\",\"5:126795246\",\"15:66464256\",\"15:66430033\",\"15:66300745\",\"15:66471803\",\"5:126639432\",\"15:66329929\",\"15:66540943\",\"5:126633958\",\"15:66405053\",\"15:66326871\",\"15:66364019\",\"15:66409961\",\"15:75027962\",\"5:126760928\",\"5:126736145\",\"15:66468180\",\"5:126637782\",\"15:75027895\",\"15:66542766\",\"15:66255779\",\"15:66465764\",\"5:126633404\",\"15:66390090\",\"15:66341925\",\"15:66366950\",\"5:126796585\",\"15:75028490\",\"5:126693280\",\"15:66319633\",\"5:126636000\",\"5:126685374\",\"15:66534521\",\"4:54513819\",\"15:66258194\",\"7:17282974\",\"5:126769874\",\"5:126697604\",\"15:66406092\",\"15:66356429\",\"5:126654623\",\"5:126642563\",\"15:66495826\",\"5:126640246\",\"15:66351526\",\"15:66365696\",\"5:126731876\",\"15:66529378\",\"15:66324212\",\"15:66342629\",\"5:126727008\",\"15:66540158\",\"15:66302499\",\"5:126645738\",\"15:66503068\",\"5:126688400\",\"15:66477446\",\"15:66332304\",\"15:66325800\",\"15:66534231\",\"15:66347290\",\"15:66508895\",\"5:126667551\",\"15:66311205\",\"15:66267191\",\"15:66314082\",\"2:223032504\",\"15:66512865\",\"5:126644769\",\"15:66384263\",\"5:126641770\",\"15:75025988\",\"5:126773064\",\"15:66527530\",\"15:66524808\",\"15:66388261\",\"5:126772748\",\"15:66269482\",\"5:126695127\",\"15:66351965\",\"15:66510618\",\"5:126785310\",\"15:66538879\",\"15:66530999\",\"15:66491725\",\"15:66326736\",\"15:66544812\",\"15:66327647\",\"15:66495122\",\"15:66523150\",\"15:66467103\",\"15:66519507\",\"5:126775739\",\"5:126767961\",\"15:66272491\",\"15:66326983\",\"2:223033867\",\"15:66522080\",\"15:66267469\",\"2:223033978\",\"5:126695156\",\"15:66448456\",\"5:126683590\",\"15:66351895\",\"5:126661380\",\"15:66490680\",\"5:126692337\",\"5:126639196\",\"15:66469939\",\"5:126657766\",\"15:66516481\",\"15:66432800\",\"15:66333100\",\"15:66397161\",\"15:66454979\",\"5:126664014\",\"5:126645334\",\"15:66304148\",\"5:126715151\",\"15:66443832\",\"15:66478368\",\"15:66469223\",\"15:66420331\",\"5:126778245\",\"5:126687822\",\"15:66353695\",\"15:66430422\",\"15:66324341\",\"15:66531211\",\"5:126689269\",\"5:126648201\",\"15:66481836\",\"5:126710204\",\"15:66398302\",\"15:66512166\",\"5:126797404\",\"15:66491863\",\"15:66412075\",\"5:126798558\",\"5:126645343\",\"5:126731259\",\"5:126629112\",\"15:66449444\",\"5:126693265\",\"15:66481506\",\"5:126625593\",\"15:66327646\",\"4:54511203\",\"15:66487765\",\"5:126644396\",\"15:66295812\",\"15:66304752\",\"15:66467719\",\"15:66307304\",\"15:75025814\",\"15:66485616\",\"5:126652710\",\"15:66504566\",\"5:126726851\",\"7:113990352\",\"5:126699347\",\"5:126751728\",\"15:66425000\",\"5:126683321\",\"15:66276833\",\"7:17284989\",\"7:17285867\",\"5:126644401\",\"2:223033030\",\"5:126672710\",\"15:66478017\",\"5:126630948\",\"15:66491961\",\"5:126698345\",\"15:66476229\",\"15:66399197\",\"15:66376044\",\"5:126794256\",\"15:66509644\",\"15:66337034\",\"5:126645646\",\"5:126683416\",\"15:66455366\",\"5:126639801\",\"15:66260006\",\"15:66404128\",\"15:66266116\",\"15:66425953\",\"15:66520931\",\"5:126777362\",\"15:66470319\",\"5:126630875\",\"5:126644681\",\"15:66355792\",\"5:126647941\",\"15:66500713\",\"5:126646864\",\"15:66530333\",\"5:126664981\",\"15:66327924\",\"5:126637872\",\"15:66485337\",\"7:17282872\",\"5:126660301\",\"15:66540364\",\"5:126658500\",\"15:66469990\",\"15:66335837\",\"15:66389266\",\"15:66447591\",\"15:66430885\",\"15:66400981\",\"5:126740828\",\"5:126661519\",\"4:54511246\",\"5:126792974\",\"15:66408286\",\"4:54512752\",\"5:126643590\",\"5:126697138\",\"5:126683883\",\"2:109513786\",\"5:126655749\",\"15:66480035\",\"15:66465825\",\"15:66459860\",\"15:66221782\",\"7:17284085\",\"15:66448560\",\"15:66534467\",\"5:126653607\",\"5:126726847\",\"5:126787286\",\"5:126659892\",\"5:126650805\",\"15:66382247\",\"15:66427055\",\"15:66542115\",\"5:126639135\",\"15:66535937\",\"4:54512546\",\"5:126631791\",\"15:66456876\",\"15:66336217\",\"15:66431946\",\"15:66535743\",\"5:126769546\",\"5:126628098\",\"15:66334445\",\"5:126633827\",\"15:66308817\",\"5:126629761\",\"15:66472090\",\"15:66515534\",\"15:66368685\",\"15:66505276\",\"15:66365917\",\"5:126634444\",\"15:66540657\",\"15:66524462\",\"5:126796531\",\"15:66474884\",\"5:126650411\",\"15:66347331\",\"15:66372912\",\"5:126656500\",\"15:66335508\",\"5:126653950\",\"15:66431947\",\"15:66506435\",\"15:66516106\",\"15:66477753\",\"15:66337764\",\"5:126797292\",\"5:126642148\",\"5:126691169\",\"15:66271772\",\"15:66530732\",\"15:66523845\",\"15:66393190\",\"15:66483326\",\"15:66491363\",\"15:66332864\",\"5:126635437\",\"15:66349495\",\"15:66477679\",\"5:126644632\",\"5:126713978\",\"5:126625548\",\"15:66496094\",\"5:126650182\",\"15:66339584\",\"15:66372580\",\"5:126632848\",\"5:126721236\",\"15:66473473\",\"15:66367198\",\"2:223033642\",\"15:66251369\",\"5:126774912\",\"15:66361057\",\"15:66454686\",\"15:66415107\",\"2:223034758\",\"15:66444003\",\"15:66388675\",\"15:66474044\",\"5:126689790\",\"15:66420179\",\"15:66299964\",\"5:126794160\",\"15:66526255\",\"15:66455151\",\"5:126689438\",\"15:66500961\",\"15:66383667\",\"15:66295319\",\"5:126679697\",\"5:126627875\",\"15:66453074\",\"15:66389902\",\"5:126682354\",\"15:66263893\",\"15:66271429\",\"15:75026149\",\"2:223032399\",\"5:126628584\",\"5:126656317\",\"15:75029399\",\"5:126698070\",\"15:66484059\",\"15:66504679\",\"15:66356925\",\"5:126636244\",\"15:66499886\",\"5:126775113\",\"5:126639591\",\"5:126681193\",\"5:126663406\",\"15:66408407\",\"5:126779202\",\"5:126668683\",\"5:126629170\",\"15:66348983\",\"15:66430963\",\"15:66443385\",\"5:126635083\",\"15:66376088\",\"15:66337096\",\"15:66331493\",\"5:126645710\",\"15:66406079\",\"5:126775462\",\"15:66545710\",\"15:66504157\",\"4:54510874\",\"15:66448249\",\"5:126661774\",\"15:66359605\",\"5:126639025\",\"15:66318513\",\"5:126682039\",\"5:126675780\",\"15:66382380\",\"15:66396429\",\"5:126639097\",\"15:66313401\",\"5:126675068\",\"15:66465816\",\"15:66430404\",\"5:126666529\",\"5:126793219\",\"15:66358498\",\"15:66388878\",\"4:54513106\",\"15:66345476\",\"5:126640576\",\"15:66426791\",\"15:66464749\",\"15:66357998\",\"15:75028233\",\"15:66296764\",\"5:126638459\",\"15:66275404\",\"15:66323837\",\"5:126689935\",\"5:126773180\",\"15:66380254\",\"15:66401184\",\"15:66480681\",\"5:126652742\",\"15:66405532\",\"15:66368116\",\"5:126635055\",\"5:126678028\",\"15:66465728\",\"15:66321395\",\"5:126706883\",\"15:75027880\",\"15:66294398\",\"5:126789986\",\"15:66269700\",\"15:66374847\",\"15:66479763\",\"5:126654970\",\"15:66453760\",\"5:126644552\",\"15:66463499\",\"5:126668770\",\"15:66444140\",\"15:66401040\",\"5:126710915\",\"5:126626645\",\"5:126655730\",\"4:54514026\",\"15:66524094\",\"5:126694437\",\"15:66459450\",\"15:66510545\",\"15:66444199\",\"15:66491652\",\"15:66412257\",\"15:66478029\",\"15:66278588\",\"15:66443440\",\"2:223033006\",\"4:54509759\",\"2:109514985\",\"15:66546324\",\"15:66358115\",\"15:66541918\",\"5:126641654\",\"2:223032642\",\"5:126683373\",\"15:66340291\",\"5:126796576\",\"5:126653091\",\"4:54510427\",\"15:66317465\",\"15:66461531\",\"5:126735334\",\"15:66429897\",\"15:66389999\",\"5:126632821\",\"5:126656998\",\"15:66340499\",\"5:126645705\",\"2:109511765\",\"15:66445663\",\"15:66465803\",\"15:66416823\",\"15:66415338\",\"15:66308697\",\"5:126694523\",\"2:223033396\",\"5:126727418\",\"15:66467625\",\"15:66514479\",\"15:66498025\",\"15:66504660\",\"5:126631841\",\"5:126657217\",\"15:75027179\",\"5:126679402\",\"5:126687687\",\"5:126641296\",\"15:66544562\"],\"rs\":[\"rs79307144\",\"rs8027897\",\"rs6494543\",\"rs36307\",\"rs72742822\",\"rs12901123\",\"rs375962533\",\"rs9652477\",\"rs376495292\",\"rs373602479\",\"rs35529\",\"rs77966242\",\"rs73785580\",\"rs2414897\",\"rs1465484\",\"rs2218065\",\"rs17197392\",\"rs74569837\",\"rs1003990\",\"rs28607261\",\"rs557256293\",\"rs185033\",\"rs75329153\",\"rs2546085\",\"rs183280201\",\"rs28671402\",\"rs333590\",\"rs2552182\",\"rs3050850\",\"rs144224314\",\"rs8038807\",\"rs112817508\",\"rs147771391\",\"rs333559\",\"rs59355421\",\"rs72475945\",\"rs899079\",\"rs1816058\",\"rs33930493\",\"rs185032\",\"rs111923517\",\"rs246943\",\"rs7183784\",\"rs10518678\",\"rs114715602\",\"rs60341771\",\"rs79099915\",\"rs74019511\",\"rs28679447\",\"rs12594528\",\"rs11690945\",\"rs2571354\",\"rs111463682\",\"rs407596\",\"rs185030\",\"rs7167001\",\"rs3756721\",\"rs333603\",\"rs573618864\",\"rs4401615\",\"rs4776761\",\"rs78259230\",\"rs246889\",\"rs66885466\",\"rs1351030\",\"rs28469048\",\"rs138773709\",\"rs5813385\",\"rs8030058\",\"rs72746219\",\"rs10041484\",\"rs27782\",\"rs8029386\",\"rs5838931\",\"rs333560\",\"rs16949165\",\"rs449841\",\"rs147698593\",\"rs59149439\",\"rs28476597\",\"rs12594036\",\"rs26945\",\"rs72742835\",\"rs4776759\",\"rs246947\",\"rs73475585\",\"rs7179044\",\"rs4776713\",\"rs1477801\",\"rs4776276\",\"rs60198907\",\"rs72744483\",\"rs12516897\",\"rs35524\",\"rs147011399\",\"rs16949565\",\"rs112565745\",\"rs11637021\",\"rs333602\",\"rs76290412\",\"rs116194529\",\"rs511563\",\"rs41298318\",\"rs246944\",\"rs333582\",\"rs1913413\",\"rs7176258\",\"rs10072587\",\"rs147861487\",\"rs113091845\",\"rs4776720\",\"rs1363387\",\"rs10152957\",\"rs74344799\",\"rs2552181\",\"rs985473\",\"rs111615826\",\"rs2378217\",\"rs2668551\",\"rs1422313\",\"rs425829\",\"rs112279785\",\"rs12912920\",\"rs1527146\",\"rs56320297\",\"rs62011685\",\"rs1422318\",\"rs26944\",\"rs2690825\",\"esv3636766\",\"rs113413922\",\"rs145619126\",\"rs4776728\",\"rs12324494\",\"rs137881134\",\"rs116748454\",\"rs8040835\",\"rs2546809\",\"rs10519949\",\"rs62011774\",\"rs75718680\",\"rs17165103\",\"rs970546\",\"rs4291865\",\"rs4864809\",\"rs72742883\",\"rs8041690\",\"rs8039191\",\"rs405857\",\"rs17164923\",\"rs35259179\",\"rs2546084\",\"rs35156178\",\"rs9327438\",\"rs333556\",\"rs333606\",\"rs7163737\",\"rs34811858\",\"rs12439257\",\"rs2690827\",\"rs12050792\",\"rs26946\",\"rs7181974\",\"rs10519941\",\"rs200086613\",\"rs333610\",\"rs17762857\",\"rs7164161\",\"rs61543049\",\"rs6877254\",\"rs4410790\",\"rs372969314\",\"rs4836317\",\"rs1345662\",\"rs1993832\",\"rs77752601\",\"rs200610808;rs60047521\",\"rs56084567\",\"rs27388\",\"rs333596\",\"rs144280484\",\"rs114522987\",\"rs112054411\",\"rs113997522\",\"rs60681812\",\"rs333594\",\"rs3756722\",\"rs80026360\",\"rs4776745\",\"rs1991144\",\"rs58838384\",\"rs2585195\",\"rs333593\",\"rs1531495\",\"rs2585196\",\"rs138589055\",\"rs333588\",\"rs189284670\",\"rs57645838\",\"rs151302195\",\"rs17164957\",\"rs12109001\",\"rs60835945\",\"rs57623356\",\"rs141323436\",\"rs55882547\",\"rs76422749\",\"rs573418788\",\"rs73785574\",\"rs59635353\",\"rs333608\",\"rs4776714\",\"rs2898043\",\"rs11072500\",\"rs144085293\",\"rs558606\",\"rs7702573\",\"rs550745558\",\"rs7176880\",\"rs6858782\",\"rs333552\",\"rs17137451\",\"rs10078629\",\"rs72788513\",\"rs140091327\",\"rs8025652\",\"rs2439927\",\"rs2546083\",\"rs11071870\",\"rs1816059\",\"rs4776712\",\"rs72744410\",\"rs2059084\",\"rs10152900\",\"rs333585\",\"rs77555548\",\"rs1019482\",\"rs66924675\",\"rs11334004\",\"rs13153845\",\"rs72746205\",\"rs72788505\",\"rs72625767\",\"rs187109140\",\"rs28858762\",\"rs7176478\",\"rs28482835\",\"rs55922529\",\"rs27562\",\"rs78353992\",\"rs11453003\",\"rs512953\",\"rs36054640\",\"rs374701102\",\"rs1422315\",\"rs1477793\",\"rs2585193\",\"rs4886605\",\"rs6859304\",\"rs1531497\",\"rs62009959\",\"rs8035864\",\"rs12514969\",\"rs2437056\",\"rs35528\",\"rs6494545\",\"rs8039102\",\"rs41298320\",\"rs60133982\",\"rs561271286\",\"rs117723375\",\"rs58298192\",\"rs12905546\",\"rs74023655\",\"rs11852601\",\"rs12900781\",\"rs72744471\",\"rs7170773\",\"rs13190032\",\"rs6866678\",\"rs388813\",\"rs56267112\",\"rs80199364\",\"rs35377947\",\"rs409309\",\"rs2196751\",\"rs114688352\",\"rs4776283\",\"rs72786494\",\"rs6494544\",\"rs31471\",\"rs78638359\",\"rs17165038\",\"rs56169866\",\"rs76364406\",\"rs559620165\",\"rs11637903\",\"rs4776281\",\"rs170781\",\"rs34890708\",\"rs12592877\",\"rs77262632\",\"rs2585190\",\"rs4776711\",\"rs79713470\",\"rs11071861\",\"rs11636260\",\"rs5813378\",\"rs72744444\",\"rs73348744\",\"rs36308\",\"rs1871004\",\"rs74245462\",\"rs333586\",\"rs12916788\",\"rs73344963\",\"rs1422317\",\"rs11634258\",\"rs112609571\",\"rs1477795\",\"rs7170633\",\"rs4836324\",\"rs4776289\",\"rs73487505\",\"rs17164922\",\"rs2546086\",\"rs13171067\",\"rs4836318\",\"rs10688234\",\"rs246892\",\"rs8034534\",\"rs187467669\",\"rs333591\",\"rs2590771\",\"rs35043148\",\"rs2546802\",\"rs10639458\",\"rs9920551\",\"rs77999267\",\"rs11350229\",\"rs12441817\",\"rs4776286\",\"rs246945\",\"rs72746211\",\"rs1318923\",\"rs2049604\",\"rs35525\",\"rs6595770\",\"rs4776741\",\"rs56096254\",\"rs111385700\",\"rs10277582\",\"rs10281571\",\"rs2546803\",\"rs16863473\",\"rs77589749\",\"rs10851751\",\"rs2059083\",\"rs4776290\",\"rs35526\",\"rs115227715\",\"rs4776729\",\"rs62011840\",\"rs17164925\",\"rs73475583\",\"rs573485805\",\"rs2546805\",\"rs187514\",\"rs75779403\",\"rs2431724\",\"rs186729\",\"rs12148601\",\"rs333564\",\"rs79601745\",\"rs6494558\",\"rs59745564\",\"rs8033072\",\"rs146140674\",\"rs2254762\",\"rs4776277\",\"rs1422316\",\"rs74659405\",\"rs2161283\",\"rs4776294\",\"rs27749\",\"rs333592\",\"rs2546806\",\"rs77658335\",\"rs79710531\",\"rs31472\",\"rs2199569\",\"rs152122\",\"rs1382052\",\"rs471751\",\"rs67774488\",\"rs11432917\",\"rs56891318\",\"rs79394158\",\"rs9327439\",\"rs10550881\",\"rs2616389\",\"rs3812052\",\"rs7167774\",\"rs2590773\",\"rs2585191\",\"rs35527\",\"rs27652\",\"rs3789738\",\"rs246887\",\"rs3082857\",\"rs11071864\",\"rs138152110\",\"rs77371692\",\"rs6943079\",\"rs77658006\",\"rs72746250\",\"rs138731838\",\"rs2008432\",\"rs17164941\",\"rs34208116\",\"rs2546087\",\"rs1542529\",\"rs4776742\",\"rs28396254\",\"rs2546808\",\"rs62011687\",\"rs77704934\",\"rs17165102\",\"rs75211389\",\"rs407420\",\"rs8025818\",\"rs11630800\",\"rs60901740\",\"rs2194079\",\"rs199704077\",\"rs2585197\",\"rs551668229\",\"rs17165105\",\"rs899080\",\"rs11856933\",\"rs11412871\",\"rs1466434\",\"rs57916002\",\"rs2194080\",\"rs116677111\",\"rs62009956\",\"rs35236935\",\"rs75132835\",\"rs1345664\",\"rs8043508\",\"rs11634212\",\"rs152120\",\"rs8026839\",\"rs246948\",\"rs112695033\",\"rs144910307\",\"rs4578594\",\"rs12591683\",\"rs333600\",\"rs4836323\",\"rs2585192\",\"rs73344966\",\"rs428658\",\"rs16949724\",\"rs78944159\",\"rs200551556\",\"rs36126350\",\"rs61228104\",\"rs59651556\",\"rs35796097\",\"rs333577\",\"rs34270365\",\"rs72786459\",\"rs113289788\",\"rs2408868\",\"rs11631308\",\"rs1345663\",\"rs333604\",\"rs8035843\",\"rs2585198\",\"rs2431495\",\"rs12593182\",\"rs62011776\",\"rs2218064\",\"rs512385\",\"rs56853109\",\"rs2899714\",\"rs1542528\",\"rs140789134\",\"rs71050391\",\"rs7162499\",\"rs899082\",\"rs4776758\",\"rs73344964\",\"rs560393961\",\"rs417442\",\"rs75528418\",\"rs7181304\",\"rs61629746\",\"rs1160960\",\"rs114736873\",\"rs12148647\",\"rs111389278\",\"rs246896\",\"rs4836316\",\"rs61335305\",\"rs12439661\",\"rs246894\",\"rs333558\",\"rs368614\",\"rs17861118\",\"rs986429\",\"rs112394041\",\"rs78502142\",\"rs8030076\",\"rs77198001\",\"rs76728945\",\"rs10152272\",\"rs11856955\",\"rs73785576\",\"rs11639401\",\"rs34451603\",\"rs2431496\",\"rs114244425\",\"rs11285616\",\"rs4776733\",\"rs61031224\",\"rs2546078\",\"rs12519784\",\"rs17240756\",\"rs11634278\",\"rs28701721\",\"rs2018571\",\"rs2899711\",\"rs138061926\",\"rs422503\",\"rs541675801\",\"rs75430782\",\"rs2408872\",\"rs112753173\",\"rs16949697\",\"rs6816209\",\"rs73469746\",\"rs31470\",\"rs55781516\",\"rs2546079\",\"rs333579\",\"rs246895\",\"rs78120546\",\"rs183226819\",\"rs7170679\",\"rs2546807\",\"rs114936757\",\"rs17673170\",\"rs11071863\",\"rs4776746\",\"rs551009886;rs6862045\",\"rs10793809\",\"rs8035974\",\"rs2414895\",\"rs2668550\",\"rs72742902\",\"rs2546080\",\"rs11631367\",\"rs35004424\",\"rs530753191\",\"rs145741270\",\"rs150027980\",\"rs2898042\",\"rs72742854\",\"rs333584\",\"rs55918025\",\"rs6859181\",\"rs1600053\",\"rs567079647\",\"rs541648297;rs35256111\",\"rs246946\",\"rs12148322\",\"rs75095014\",\"rs1808378\",\"rs17839696\",\"rs12101462\",\"rs2552180\",\"rs12657844\",\"rs2472297\",\"rs333545\",\"rs76912327\",\"rs693217\",\"rs577885306\",\"rs78550588\",\"rs246885\",\"rs4776754\",\"rs2546804\",\"rs28433780\",\"rs142732871\",\"rs114289533\",\"rs78930778\",\"rs34537147\",\"rs2032834\",\"rs246886\",\"rs79162003\",\"rs2126700\",\"rs26947\",\"rs2169629\",\"rs145774605\",\"rs1026676\",\"rs10400920\",\"rs7172880\",\"rs10851752\",\"rs78423360\",\"rs28713776\",\"rs529478087\",\"rs6818959\",\"rs11689836\",\"rs72746280\",\"rs6494547\",\"rs571348362\",\"rs2546082\",\"rs986430\",\"rs56144110\",\"rs112189578\",\"rs139305981\",\"rs146195344\",\"rs2668552\",\"rs621616\",\"rs7182128\",\"rs10519939\",\"rs370151719\",\"rs16949459\",\"rs2585199\",\"rs246888\",\"rs333607\",\"rs201053818\",\"rs10865025\",\"rs7174519\",\"rs35858133\",\"rs4776736\",\"rs147259654\",\"rs200617053\",\"rs27563\",\"rs11895863\",\"rs1153432\",\"rs11071865\",\"rs138230237\",\"rs11071872\",\"rs62009949\",\"rs2585200\",\"rs152121\",\"rs17861120\",\"rs246897\",\"rs43148\",\"rs2585194\",\"rs67789133\"],\"x\":{\"__ndarray__\":\"K/AP6HZBAECqEII34ZXkP/6gXkHvA/8/QEAk1JH5UkAmg64NXIATQLtj1VeUjhVAE1uOMNt6DkAAR6Nq3hDgPzVtvBcwoP0/ICSpaSpi6D96FofJwd03QJMv1I4G2gRAlv6U0sSCI0D5JMkl2o8UQLgl4gWTIgBA9hi3RmexXUAXsF54UQLxP6ythh7sUuM/9HOEH0B1EUD7Up3MCU7+P89IebDC2hBAuCpnpGMaT0Bov52+qSQDQPX9NDbVEEhAXHyykyoZHUCWVXaGvAoGQNgSZwR2ohZAt9B/PsaWEUBDPwEN5TxLQCV00kIPBfg/5ITnDDkdAkBB4zAO6ucEQCEJLrcqIAhAl2Es0Xn4FECDEiFM6BDoPwcdjR2T0vM/ma6HlMpnFkDnZKhnmNpKQO+6W7IUlTZAW4hmVW8OTED1l83AuYwWQOPArH+i9EtAzZeLNecsCEAC1/KibBQAQAJ/bSOyAg5AuRxbnVTDAkBeiyLucjH9Pwv793TERwFApj2KsezCBEB42TAK7ubAP14/DL5PaERA1vdD+Db5D0DdQlA3ng0SQHhnV+hzARFAfBBEF9GuP0AFTxk+ecn4P3SkbbmyaxZAMRxF97pfEEBqsFkK5SQWQB3AXl6kEDlABG/Nj/V18T/BBWTIM3sgQLWZ3NC6JkFADRriFfMZQkDwdYrMZKEYQKFNXfh8HcY/oFH5zJAxvT9ue6R9kxoPQMVb+uegPgxARXFAxwuGB0B5IzT/UNY4QFg9BsVOs1JAgiYNhfciEECSvvZ5kKpEQERTBpw0xBdAOy8HfEidDUAHfdkcTIUcQEq3dFI9UhdANrdmLnPV9j8teUHGHMXxP/HodXbxyPo/vxsdyqUWV0Ce8/C8DbIKQGdwfKbW8xFAW4hmVW8OTECxfMgVZvAGQP6I6eY/Fus/iPJlbPWMF0DN04iIa2/GPwvEr4FQmhRAQwUSZuwv+z9D/PhYWhr/P7OqAMSgU0FA0cgNS/rzIUAxfu0kqYX2P8RTo6qzjvc/VVcqOFh98j88kZInK58UQJKMlTOjvhRAyQgW8yjaGECZsrBgCv0ZQC+aHmgniBlAtUKqIW0gEkDgOZzQVudLQFXyqHpivfU/gsGtSpNhCUA/uid1uZzyPwh+LjlG10NARUasnYjr8T9aSgT3tEY+QLtj1VeUjhVAF64N0djcYkBhgdDILwsLQGr5eUAxz/s/dVvqP1rlDED0c5xYdkdHQC4SipyLeQxAaGusBP95CkB4sKSJlUkSQE7v/bksjWJALz0c5fNNDUDo+6qzl0bUPz+XGR0L2v0/TzYlgMn7B0BkDXuO7SE2QGgsrMdDEwpAqX2+y6gkFkCIxtB4fJZEQKsu1pWX6wJADRLpMRx+9D8SZ4sb+YwIQIh9EUJs7EJA0pSG0phbDEBgU01VKx3nP1uSOaepwfw/euBLcZqkC0AAXnZoqD4MQDiBOFTHU1dABmOboICyG0Awr3cwjCkOQOVNJMbabBBA4EiMoROhEkBn3pRtkGhLQAZFmAIrPxFAUZdRWSxRNUBMyz5g+WQIQJLrX8kBVBZAfgb1seULwj97Sx6GAWgYQOFWjv6NdhNAYJyDRfMjIkC+hMe1yARIQNgKZNV6mUNAnYFDuiLSMkB8DKbV9q4XQAwLAFdZ3BZA6M0FffVcCkAsJleGUc+tP6SiFfk//Ps/x6U6Y9fiCED2GbKSLa34P7gqZ6RjGk9AqDC0uy+yAEDUmfLB8MRDQE41dHBMtzVAg+fImjYsDkA7bCikMe0aQJ5jeUtwGP4/GqlcpKBRD0DCQano5FVDQD9RVO9Yx0lAxd8oAuL5HkBO7/25LI1iQN+8SWzhPFdAhjT3fuDYGkB73OHXwbXwP4KkdTxzUwRAuLrTDgzPIUAj6MMTxglFQHjRdW/WVApAhrkZ8izS+z9sUbMbZTDyPzGtsyGAI/k/KTOIX7/LDUAy089QsWobQFUVnJhMZQtAf59yrP+XNEAL6x+x+PgGQFR2SZpOteA/YXjZLR/0B0DouzbfRm36PxYvliTFjlZAK4spgcKPFECdzXGc0pwTQJb4SrO+gktAw3WGCFXl7D/1dMJFDgQbQEyq4s8ESAJAhmdQJyz22T/T+zWAVYPlP6831WHjfQ5AyFZkG4ndEEAZXYYn6XTpP+dJ51/nbiFAchuRUjSM0D+fwGTrP8L5P3oxbtY4efQ/tWCa1H678T8G1J0VW38hQISzywfZDBVAwjCAuxwgEUAGqr//yRMXQCK0/OegqTJAFp9u2LgoHEDZvCrLu/1DQDtVqR1ppwBA7P5P6FpTIUDoArsRX5pIQGc9lucCLwlAIKB6roCQMEB4ZtmvmdoRQLA0z+8/2R5A33pKDV/PNUBJ8CYe7BsdQC5pF2IY4QBAHo2aisanE0DU7ycAJUJMQPRq0UZE+0dA7E2X8KpqyT98+SUq8JZPQAwkCTHQ+RNA5qdhXWyVDEDcpam8YLA3QO/RwkNhywpAixs07rY1+D9F9l8EwmUUQKovWUishkZAUYLo2BHXBEDKdaAvZV0DQE2K2kT01UhA5dXt0I2W4z+6PdMhhEUjQIKyBmtNs+A/XGnHDh5Euz+rIhoZLJYEQH6/RRfdtApA1E0EutV57z+HJ5bU83oXQEzA9N5/y0RAfDeFZ6hl+z9xWVYulpQXQHwMHS78ehVAc0vXoc12HkBY4RiNGbbqP/X9NDbVEEhAlaYG0PLMAED1/TQ21RBIQMBiaGI4zB5AQPF2RKttQUCkohX5P/z7PzCbVJ8iYwdAKXRr9AYg4T+jzqJcseNDQOOg03IcSRxAD2JZ350TIECS3e4ryN0NQOg2brnZwwhAhHEAT82/E0AuhvPvI6IHQNJiuZrT0uI/ji93f284/D8wGRrZE+cTQJy0g15qjfs/b5mHJoGDDUCvk+th1bH5P+DUCPJievA/+/8onEoshD/G/atXtXL/P5ADOX2t1UNAbu341F2wMUDbcRJSlBgdQAq4JWVXhgBAze2IXmR8FEDrMZK2MYPcP991N6JARhdAsSys3J7aQkBJXywLrCsUQJkTd10Hcu0/Z/1PHSLYIkCr6dbo/H0TQGUe/uLZXFVAfx60/Psl9D8VPt3lZbgQQLi60w4MzyFACxfpYX/VAUDrjqBT1q1LQNh14MGQ0hBAkqsWX2EY/D+IMd+pr6QXQMrRKC2j1fQ/8W98rmxP8z96H4jTwowaQPZq0UZE+0dAQE7bDySUBEBj4S1A7xsnQL63W02gEQRAY0tE1n8IFkCrufk9Sd7aP9jthGVOye4/tRfEDHYzGkAkuUTB7C5PQM95Yr1HjgtAlqBwteLs/z9/DolPRkjyPzajwYpcFQhAe+1M4OewHkCe29coLv9TQLbdOaslK+k/7sclqUhED0DSlIbSmFsMQI7IM2udHRVAY2zCtHRhOUAe8dWXNhwRQPgtN0AeOPI//UmGXeTCFUA4RioPyaVIQLpzKR027UVAfN/miSqGYkCM+p3z7l38P9wG8yZn9UJASzVuhEvK5D9cfLKTKhkdQJoAfIUJBBVAUcZR0GeoCEBMnkt1DQjmP3Uc7XEp90dAFHGk+Aq8FkBIdeIKKioGQOapm7duOwFAFkMHU1oOFkACv9VoISsGQIBPbhF5DxdAqJST3T12UEDVvqjc7P2cP5sWmfxItjxAvePVPK70F0A3A/twtu47QOn3c3IpBDhA13c47azTA0AOmdRSFUEeQGpOKMPsgQxAiVp+UY8sMkAI0x2BEIUwQGtYdvkhAUxAKSOQ6lTtQkCc1z6fddkkQDa/PRITuQBAjAb4t6icYkDrQ/fvDEgRQCXfc4PRLU5AVPApWC/oEED7WuGH6tEJQPV1iLuVAgpAU/YSEMw4EUCxfMgVZvAGQO+fbbMaBRNA5RTUhGKSTECQ5XbbB8ZDQEv7zHBDKAJAX1R57aI2SkA1DS5ALC4TQMxDG09c3fI/4N/MmHP4EUAC0CM2Qb5qP77uc9GfQgxAN0PO0oBcMUBrRGpnELcJQILMvdzhph1AxtH5e/YaTECjd9FJ1foNQOb6M2s5tFhAlLOWXYpG6D/BCijrFwBMQELAXPk4DAlAY8lr1pULV0C1+txcvZIZQBEpdx51lklA7VdmGmWhCkBxLVJvPhYbQHnxmkxVt0tApkH5oSLGCEDPMUkz/dBKQOdQovPI8gVAVMsAqJuPFUC2ZXhrT1P4P2UvBqAaGwpAN3WHVyJa9j/9upP9FikSQMnXnjNpTRFA6zxWA/qLQkDGdfNNCn8SQLvMVSC4BERAo/6+ud2H9z9RxlHQZ6gIQPX9NDbVEEhAgMoMfNHAPEDT/0iMPAZKQMM0/l1cJQ5Aj36mSiV9V0Cf2+l+DFATQDV4WMMbgxNAFoHLlLklDED54G9qRWwTQNJ3Uk09rApAJw6xjxL2A0Bv9Rznsjj/PyxA9vxBEi1ACsB3gv/iOUAIpzjOOTQPQKcgFMFpj0pA48Csf6L0S0CS61/JAVQWQC8JIZiGlgFAnMoFCiNbBUARKXcedZZJQDeAm563JvA/h0Z9qqqw9z/cGRzPS4YZQAinO1qs4gRA6EIKchoDFEDzWlpSCoviP5I6iBRkUABAIByU3yyIB0D7IjM/Km1VQHFkwjrKpBVAHcU4gKlKWUA6rRAYEinXPyG6dSv6gxxA84hZX1x7zD/wt4r7epQQQGfzKpRHvuk/pFsPEvUAEkAU9wIzxMLIP+K/dh1jRCpA59MQivKT4j8wm1SfImMHQI+Zq+KAUz1AqraUqKWq6D/jwKx/ovRLQNcctXirD/c/RDdoj1cF3j9B9LFkjVxXQIShDHJc+fI/v+zkXqu7SEBfpUPVQ+XoPwd1T+fmRQZAdPid7LRlEEAPaFfe0hnlP+hCCnIaAxRAeJY/fo+fPUBr1IPgZwVIQPLc/gfjIB9AoJ/1wBhqH0DfWmGhQtICQOpC5qbepfU/9gunCKgt+z/V5HaQ7AwSQHkGGHylbOw/4AJzxMzOBkBVnxW6mT1NQKfT/EIopApAqAsgsUGn7j+E8TrE1s8vQBDDqH7FURhAeACNPMzLUUC/dE60vdTkPxU0h+cTo1BAmbHPIk2QEECrh8K+7OzNPy6lPgMtM1dAkTpowzsXEkBXFeqmQczxP2wwsG5hkAtA9HOcWHZHR0A5FjTnJAUOQIZPFkGfLxFAMUnDIbiM/D845y7ASfsCQJEtPgd3SQ9AYTCn3J0kLUDnUL1Ah6sEQDifZwr36RZA/XXm9s6LFEB77Uzg57AeQEKjnXmOV9Q/U1eDBPYYFUAUyIHUqfMhQPdofrt+qAlA59K6Wt8wCUC4KmekYxpPQJ2in1AyYgVA5LnLDamEA0AJ+lyBrd8UQJ8f/LSdlk5AF06e7F7HYkBYCwwxO/oAQJXiiNtt8/M/i9OGuNFxRUDb+WzHEP8UQKydi/ODIhxA2595AjR4CUBH0tfX1qQxQE7v/bksjWJAL7qo+a/NEECI5EUX64gEQIY9Qs5sqB5AV/D1BB8Q9z9diu24xBzkP+FP3IJvOhlAuLrTDgzPIUBnwTsR5BnjPx8y0qm1hkFAFi+WJMWOVkBBAEYxgF4ZQAYNJ9kpPyZARp13v7z58j+GTxZBny8RQJdV1bNIqFJABTRIqGteW0D7k3Xk8o0RQGeo7aulw+k/YVfEk5qd9j/SKmGlWzNXQBhoxj5GLOY/N9tqLYz07j8hfAmdAMYSQEdoKthdT0NA8wdx5Dx/+j8P8lmUWAxEQBxk7V2kvxVA4FXjtzrf3z+5747LJ6M0QC7yROKi0RNAGD7f6MXCUUDvvufZUADvP3yeF2gJSElAZ2PyVNBMC0A4FH7xwe9JQD8ZZRHPaSRAMQmvgJx65T976pp6z3n2P89w3SjVK1ZAjhm0zcBDBUDFuepTy0EmQFxlbvaTVRNAuF5qXkQ/6z8N+V9gz9kcQOxq8hjXLDFAYhuWpno1E0ADhDQ9y7EXQEiKQu5t1gdAMtjGbFkV4j+gLBBKA99LQGYPVWHKLPE/rpDOiheV7j/T+zWAVYPlP71mD0Eleu4/ZIEVqDq7AEBqGTeaD3MhQMaGwjfd9w1A9XTCRQ4EG0C9gvR9S6MbQG711ZgVpDVAFPdvqdGSGED5rAF7rpT0P5PAP/JiUARAchztcSn3R0AduvDNvfEBQKomgSaZJvo/0iphpVszV0BwxKeItqsgQK//15CdFA5ASXwDLym+EkA5hDexZtoZQEUctzSxDBZAtahI8vYOFkDoCepgUZoYQEXLrdYcPhhAEjBx0uI0AUBdKBsss7MQQIQDez4DfFhAovp3KNUFEUD1/TQ21RBIQHFTZEGzKgNA96LV0DdtGEAVVZG/8ucCQAM6DurQEhJAKDfZBs4QNUABMFbpXXhiQDqZlpb671dArLAcA6yLEUCGdp3pAbUGQAZ9EDR3UU5ASZU6kkNo+D8Kbcxfcpb+P5dnRZpORgZAWKQiOdALEUCQguOLM4IDQNH/k4Fw8BFAPOK+b80hCEDcZ8Nxx2YEQGEHBFzU9CJAHG8DL6ktNUAqrIlUZ2QTQDeUu/u/CwFAYm2EcFNRCkBj1jf2Le3iP0/+GDskA0xAR9LX19akMUAOmdRSFUEeQL5sfd7JB/I/6/NLjWvtCEAFdMcC86MWQHtuXm/yABNAscs91BCCF0BBPzdQmlwKQPvqnZIObx9Aj3TKqiy79D9tnyhTXvb2Py6lPgMtM1dARFkpjMJUS0CdATfQ9qoaQLMCWHbJqURAaSYQgbUDEkDi7JonnJr1P3QD26Vt3xNAeqmbZWmsCECsoxMiK5KzP6EzvYEuWgRAujR729O7QkBH0tfX1qQxQB9UEdohFjhAffAUjZjk6D+iotmLM1j/P7AQ5+8VshBA8J4t/On85z/zYogFZrJXQEmXCCD4UlZAEe9arwsvAUCXlAP0JvRQQNOzIzLqEj9AvoTHtcgESEDluBzckPMCQA==\",\"dtype\":\"float64\",\"shape\":[653]},\"y\":{\"__ndarray__\":\"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\",\"dtype\":\"float64\",\"shape\":[653]}},\"selected\":{\"id\":\"1391\",\"type\":\"Selection\"},\"selection_policy\":{\"id\":\"1392\",\"type\":\"UnionRenderers\"}},\"id\":\"1361\",\"type\":\"ColumnDataSource\"},{\"attributes\":{\"fill_alpha\":{\"value\":0.1},\"fill_color\":{\"value\":\"#1f77b4\"},\"line_alpha\":{\"value\":0.1},\"line_color\":{\"value\":\"#1f77b4\"},\"x\":{\"field\":\"x\"},\"y\":{\"field\":\"y\"}},\"id\":\"1364\",\"type\":\"Circle\"},{\"attributes\":{\"axis_label\":\"-log10(p-value)\",\"formatter\":{\"id\":\"1388\",\"type\":\"BasicTickFormatter\"},\"ticker\":{\"id\":\"1337\",\"type\":\"BasicTicker\"}},\"id\":\"1336\",\"type\":\"LinearAxis\"},{\"attributes\":{},\"id\":\"1347\",\"type\":\"WheelZoomTool\"},{\"attributes\":{},\"id\":\"1346\",\"type\":\"PanTool\"},{\"attributes\":{},\"id\":\"1392\",\"type\":\"UnionRenderers\"},{\"attributes\":{\"overlay\":{\"id\":\"1390\",\"type\":\"BoxAnnotation\"}},\"id\":\"1348\",\"type\":\"BoxZoomTool\"}],\"root_ids\":[\"1326\"]},\"title\":\"Bokeh Application\",\"version\":\"1.2.0\"}};\n",
       "  var render_items = [{\"docid\":\"c9a80ecb-172e-48b9-b862-6c0ae8a5114f\",\"roots\":{\"1326\":\"3ec5b789-5e56-40b5-ac0e-16b533f19f36\"}}];\n",
       "  root.Bokeh.embed.embed_items_notebook(docs_json, render_items);\n",
       "\n",
       "  }\n",
       "  if (root.Bokeh !== undefined) {\n",
       "    embed_document(root);\n",
       "  } else {\n",
       "    var attempts = 0;\n",
       "    var timer = setInterval(function(root) {\n",
       "      if (root.Bokeh !== undefined) {\n",
       "        embed_document(root);\n",
       "        clearInterval(timer);\n",
       "      }\n",
       "      attempts++;\n",
       "      if (attempts > 100) {\n",
       "        console.log(\"Bokeh: ERROR: Unable to run BokehJS code because BokehJS library is missing\");\n",
       "        clearInterval(timer);\n",
       "      }\n",
       "    }, 10, root)\n",
       "  }\n",
       "})(window);"
      ],
      "application/vnd.bokehjs_exec.v0+json": ""
     },
     "metadata": {
      "application/vnd.bokehjs_exec.v0+json": {
       "id": "1326"
      }
     },
     "output_type": "display_data"
    }
   ],
   "source": [
    "p = hl.plot.scatter(x=-hl.log10(gwas_with_imp.p_value),\n",
    "                    y=gwas_with_imp.importance, \n",
    "                    xlabel = '-log10(p-value)',\n",
    "                    ylabel = 'gini importance',\n",
    "                    hover_fields=dict(rs=gwas_with_imp.rsid, loc=gwas_with_imp.locus))\n",
    "show(p)"
   ]
  },
  {
   "cell_type": "markdown",
   "metadata": {},
   "source": [
    "_Fig 3: Compare gini importance vs logistic regresion p-values._"
   ]
  }
 ],
 "metadata": {
  "kernelspec": {
   "display_name": "Python 3",
   "language": "python",
   "name": "python3"
  },
  "language_info": {
   "codemirror_mode": {
    "name": "ipython",
    "version": 3
   },
   "file_extension": ".py",
   "mimetype": "text/x-python",
   "name": "python",
   "nbconvert_exporter": "python",
   "pygments_lexer": "ipython3",
   "version": "3.6.0"
  }
 },
 "nbformat": 4,
 "nbformat_minor": 2
}
