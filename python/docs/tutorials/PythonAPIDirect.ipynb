{
 "cells": [
  {
   "cell_type": "markdown",
   "metadata": {},
   "source": [
    "Introduction to Python API\n",
    "=============="
   ]
  },
  {
   "cell_type": "code",
   "execution_count": 1,
   "metadata": {},
   "outputs": [],
   "source": [
    "from varspark import VariantsContext"
   ]
  },
  {
   "cell_type": "code",
   "execution_count": 2,
   "metadata": {},
   "outputs": [
    {
     "name": "stderr",
     "output_type": "stream",
     "text": [
      "Running on Apache Spark version 2.2.1\n",
      "SparkUI available at http://140.253.176.47:4040\n",
      "Welcome to\n",
      " _    __           _             __  _____                  __    \n",
      "| |  / /___ ______(_)___ _____  / /_/ ___/____  ____ ______/ /__  \n",
      "| | / / __ `/ ___/ / __ `/ __ \\/ __/\\__ \\/ __ \\/ __ `/ ___/ //_/  \n",
      "| |/ / /_/ / /  / / /_/ / / / / /_ ___/ / /_/ / /_/ / /  / ,<     \n",
      "|___/\\__,_/_/  /_/\\__,_/_/ /_/\\__//____/ .___/\\__,_/_/  /_/|_|    \n",
      "                                      /_/                         \n"
     ]
    }
   ],
   "source": [
    "vc = VariantsContext(spark)"
   ]
  },
  {
   "cell_type": "code",
   "execution_count": 3,
   "metadata": {},
   "outputs": [],
   "source": [
    "fs = vc.import_vcf('../data/chr22_1000.vcf')"
   ]
  },
  {
   "cell_type": "code",
   "execution_count": 4,
   "metadata": {},
   "outputs": [],
   "source": [
    "ls = vc.load_label('../data/chr22-labels.csv', '22_16050408')"
   ]
  },
  {
   "cell_type": "markdown",
   "metadata": {},
   "source": [
    "# Running importance analysis"
   ]
  },
  {
   "cell_type": "code",
   "execution_count": 5,
   "metadata": {},
   "outputs": [],
   "source": [
    "ia = fs.importance_analysis(ls, mtry_fraction=0.1, seed = 13)"
   ]
  },
  {
   "cell_type": "code",
   "execution_count": 6,
   "metadata": {},
   "outputs": [
    {
     "data": {
      "text/plain": [
       "[(u'22_16050408', 0.0017817043235329407),\n",
       " (u'22_16050678', 0.0010904805815147934),\n",
       " (u'22_16051480', 0.0010668521995151252),\n",
       " (u'22_16051107', 0.0008082666531272816),\n",
       " (u'22_16052838', 0.0006518182467402832),\n",
       " (u'22_16053197', 0.0005765782334748871),\n",
       " (u'22_16052656', 0.0004967689362074311),\n",
       " (u'22_16051882', 0.0004909085098234914),\n",
       " (u'22_16053435', 0.0004820979788328268),\n",
       " (u'22_16053727', 0.0004199166942675162)]"
      ]
     },
     "execution_count": 6,
     "metadata": {},
     "output_type": "execute_result"
    }
   ],
   "source": [
    "ia.important_variables()"
   ]
  }
 ],
 "metadata": {
  "kernelspec": {
   "display_name": "Python 2",
   "language": "python",
   "name": "python2"
  },
  "language_info": {
   "codemirror_mode": {
    "name": "ipython",
    "version": 2
   },
   "file_extension": ".py",
   "mimetype": "text/x-python",
   "name": "python",
   "nbconvert_exporter": "python",
   "pygments_lexer": "ipython2",
   "version": "2.7.11"
  }
 },
 "nbformat": 4,
 "nbformat_minor": 2
}
