{
 "cells": [
  {
   "cell_type": "markdown",
   "id": "79495c90",
   "metadata": {},
   "source": [
    "# Running p-value computation with python API"
   ]
  },
  {
   "cell_type": "markdown",
   "id": "0999e96f",
   "metadata": {},
   "source": [
    "This is an *VariantSpark* example notebook.\n",
    "\n",
    "One of the main applications of VariantSpark is discovery of genomic variants correlated with a response variable (e.g. case vs control) using random forest gini importance.\n",
    "\n",
    "The `chr22_1000.vcf` is a very small sample of the chromosome 22 VCF file from the 1000 Genomes Project.\n",
    "\n",
    "`chr22-labels-hail.csv` is a CSV file with sample response variables (labels). In fact the labels directly represent the number of alternative alleles for each sample at a specific genomic position. E.g.: column x22_16050408 has labels derived from variants in chromosome 22 position 16050408. We would expect then that position 22:16050408 in the VCF file is strongly correlated with the label x22_16050408.\n",
    "\n",
    "Both data sets are located in the `..\\\\data` directory.\n",
    "\n",
    "This notebook demonstrates how to run importance analysis on these data with *VariantSpark* Hail integration."
   ]
  },
  {
   "cell_type": "markdown",
   "id": "dbd18fb5",
   "metadata": {},
   "source": [
    "Step 1: Create a `HailContext` using `SparkContext` object (here injected as `sc`):"
   ]
  },
  {
   "cell_type": "code",
   "execution_count": 1,
   "id": "cbc96fc9",
   "metadata": {},
   "outputs": [
    {
     "name": "stderr",
     "output_type": "stream",
     "text": [
      "using variant-spark jar at '/Users/szu004/dev/VariantSpark/target/variant-spark_2.11-0.5.0-a0-dev0-all.jar'\n",
      "22/05/06 15:20:53 WARN NativeCodeLoader: Unable to load native-hadoop library for your platform... using builtin-java classes where applicable\n",
      "Using Spark's default log4j profile: org/apache/spark/log4j-defaults.properties\n",
      "Setting default log level to \"WARN\".\n",
      "To adjust logging level use sc.setLogLevel(newLevel). For SparkR, use setLogLevel(newLevel).\n",
      "22/05/06 15:20:54 WARN Hail: This Hail JAR was compiled for Spark 3.1.1, running with Spark 3.1.2.\n",
      "  Compatibility is not guaranteed.\n",
      "Running on Apache Spark version 3.1.2\n",
      "SparkUI available at http://192.168.1.12:4040\n",
      "Welcome to\n",
      "     __  __     <>__\n",
      "    / /_/ /__  __/ /\n",
      "   / __  / _ `/ / /\n",
      "  /_/ /_/\\_,_/_/_/   version 0.2.74-0c3a74d12093\n",
      "LOGGING: writing to /Users/szu004/dev/VariantSpark/examples/hail-20220506-1520-0.2.74-0c3a74d12093.log\n"
     ]
    }
   ],
   "source": [
    "import numpy as np\n",
    "from unidip import UniDip #pip\n",
    "\n",
    "import seaborn as sns\n",
    "import matplotlib\n",
    "import matplotlib.pyplot as plt\n",
    "import matplotlib.patches as mpatches\n",
    "from matplotlib import patches\n",
    "\n",
    "from varspark.pvalues_calculation import * \n",
    "import hail as hl\n",
    "import varspark.hail as vshl\n",
    "vshl.init()"
   ]
  },
  {
   "cell_type": "markdown",
   "id": "3d4d4198",
   "metadata": {},
   "source": [
    "Step 2: Load Hail variant dataset `vds` from a sample `.vcf` file."
   ]
  },
  {
   "cell_type": "code",
   "execution_count": 2,
   "id": "f802c25e",
   "metadata": {},
   "outputs": [],
   "source": [
    "vds = hl.import_vcf('../data/chr22_1000.vcf')"
   ]
  },
  {
   "cell_type": "markdown",
   "id": "bbcd551f",
   "metadata": {},
   "source": [
    "Step 3: Load labels into Hail table `labels`."
   ]
  },
  {
   "cell_type": "code",
   "execution_count": 3,
   "id": "afb31a47",
   "metadata": {},
   "outputs": [
    {
     "name": "stderr",
     "output_type": "stream",
     "text": [
      "2022-05-06 15:20:57 Hail: WARN: Name collision: field 'sample' already in object dict. \n",
      "  This field must be referenced with __getitem__ syntax: obj['sample']\n",
      "2022-05-06 15:20:57 Hail: INFO: Reading table to impute column types\n",
      "2022-05-06 15:20:59 Hail: INFO: Finished type imputation\n",
      "  Loading field 'sample' as type str (imputed)\n",
      "  Loading field 'x22_16050408' as type int32 (imputed)\n",
      "  Loading field 'x22_16050612' as type str (imputed)\n",
      "  Loading field 'x22_16050678' as type str (imputed)\n",
      "  Loading field 'x22_16050984' as type int32 (imputed)\n",
      "  Loading field 'x22_16051107' as type int32 (imputed)\n",
      "  Loading field 'x22_16051249' as type int32 (imputed)\n",
      "  Loading field 'x22_16051347' as type int32 (imputed)\n",
      "  Loading field 'x22_16051453' as type int32 (imputed)\n",
      "  Loading field 'x22_16051477' as type int32 (imputed)\n",
      "  Loading field 'x22_16051480' as type int32 (imputed)\n"
     ]
    }
   ],
   "source": [
    "labels = hl.import_table('../data/chr22-labels-hail.csv', impute = True, delimiter=\",\").key_by('sample')"
   ]
  },
  {
   "cell_type": "markdown",
   "id": "8bfec65c",
   "metadata": {},
   "source": [
    "Step 4: Annotate dataset samples with labels."
   ]
  },
  {
   "cell_type": "code",
   "execution_count": 4,
   "id": "484e6e30",
   "metadata": {},
   "outputs": [
    {
     "name": "stderr",
     "output_type": "stream",
     "text": [
      "2022-05-06 15:20:59 Hail: WARN: cols(): Resulting column table is sorted by 'col_key'.\n",
      "    To preserve matrix table column order, first unkey columns with 'key_cols_by()'\n",
      "2022-05-06 15:20:59 Hail: INFO: Coerced almost-sorted dataset\n",
      "2022-05-06 15:21:00 Hail: INFO: Coerced sorted dataset\n"
     ]
    },
    {
     "data": {
      "text/html": [
       "<table><thead><tr><td style=\"white-space: nowrap; max-width: 500px; overflow: hidden; text-overflow: ellipsis; \" colspan=\"1\"><div style=\"text-align: left;\"></div></td><td style=\"white-space: nowrap; max-width: 500px; overflow: hidden; text-overflow: ellipsis; \" colspan=\"10\"><div style=\"text-align: left;\"></div></td></tr><tr><td style=\"white-space: nowrap; max-width: 500px; overflow: hidden; text-overflow: ellipsis; \" colspan=\"1\"><div style=\"text-align: left;\"></div></td><td style=\"white-space: nowrap; max-width: 500px; overflow: hidden; text-overflow: ellipsis; \" colspan=\"10\"><div style=\"text-align: left;border-bottom: solid 2px #000; padding-bottom: 5px\">label</div></td></tr><tr><td style=\"white-space: nowrap; max-width: 500px; overflow: hidden; text-overflow: ellipsis; \" colspan=\"1\"><div style=\"text-align: left;border-bottom: solid 2px #000; padding-bottom: 5px\">s</div></td><td style=\"white-space: nowrap; max-width: 500px; overflow: hidden; text-overflow: ellipsis; \" colspan=\"1\"><div style=\"text-align: left;border-bottom: solid 2px #000; padding-bottom: 5px\">x22_16050408</div></td><td style=\"white-space: nowrap; max-width: 500px; overflow: hidden; text-overflow: ellipsis; \" colspan=\"1\"><div style=\"text-align: left;border-bottom: solid 2px #000; padding-bottom: 5px\">x22_16050612</div></td><td style=\"white-space: nowrap; max-width: 500px; overflow: hidden; text-overflow: ellipsis; \" colspan=\"1\"><div style=\"text-align: left;border-bottom: solid 2px #000; padding-bottom: 5px\">x22_16050678</div></td><td style=\"white-space: nowrap; max-width: 500px; overflow: hidden; text-overflow: ellipsis; \" colspan=\"1\"><div style=\"text-align: left;border-bottom: solid 2px #000; padding-bottom: 5px\">x22_16050984</div></td><td style=\"white-space: nowrap; max-width: 500px; overflow: hidden; text-overflow: ellipsis; \" colspan=\"1\"><div style=\"text-align: left;border-bottom: solid 2px #000; padding-bottom: 5px\">x22_16051107</div></td><td style=\"white-space: nowrap; max-width: 500px; overflow: hidden; text-overflow: ellipsis; \" colspan=\"1\"><div style=\"text-align: left;border-bottom: solid 2px #000; padding-bottom: 5px\">x22_16051249</div></td><td style=\"white-space: nowrap; max-width: 500px; overflow: hidden; text-overflow: ellipsis; \" colspan=\"1\"><div style=\"text-align: left;border-bottom: solid 2px #000; padding-bottom: 5px\">x22_16051347</div></td><td style=\"white-space: nowrap; max-width: 500px; overflow: hidden; text-overflow: ellipsis; \" colspan=\"1\"><div style=\"text-align: left;border-bottom: solid 2px #000; padding-bottom: 5px\">x22_16051453</div></td><td style=\"white-space: nowrap; max-width: 500px; overflow: hidden; text-overflow: ellipsis; \" colspan=\"1\"><div style=\"text-align: left;border-bottom: solid 2px #000; padding-bottom: 5px\">x22_16051477</div></td><td style=\"white-space: nowrap; max-width: 500px; overflow: hidden; text-overflow: ellipsis; \" colspan=\"1\"><div style=\"text-align: left;border-bottom: solid 2px #000; padding-bottom: 5px\">x22_16051480</div></td></tr><tr><td style=\"white-space: nowrap; max-width: 500px; overflow: hidden; text-overflow: ellipsis; text-align: left;\">str</td><td style=\"white-space: nowrap; max-width: 500px; overflow: hidden; text-overflow: ellipsis; text-align: left;\">int32</td><td style=\"white-space: nowrap; max-width: 500px; overflow: hidden; text-overflow: ellipsis; text-align: left;\">str</td><td style=\"white-space: nowrap; max-width: 500px; overflow: hidden; text-overflow: ellipsis; text-align: left;\">str</td><td style=\"white-space: nowrap; max-width: 500px; overflow: hidden; text-overflow: ellipsis; text-align: left;\">int32</td><td style=\"white-space: nowrap; max-width: 500px; overflow: hidden; text-overflow: ellipsis; text-align: left;\">int32</td><td style=\"white-space: nowrap; max-width: 500px; overflow: hidden; text-overflow: ellipsis; text-align: left;\">int32</td><td style=\"white-space: nowrap; max-width: 500px; overflow: hidden; text-overflow: ellipsis; text-align: left;\">int32</td><td style=\"white-space: nowrap; max-width: 500px; overflow: hidden; text-overflow: ellipsis; text-align: left;\">int32</td><td style=\"white-space: nowrap; max-width: 500px; overflow: hidden; text-overflow: ellipsis; text-align: left;\">int32</td><td style=\"white-space: nowrap; max-width: 500px; overflow: hidden; text-overflow: ellipsis; text-align: left;\">int32</td></tr>\n",
       "</thead><tbody><tr><td style=\"white-space: nowrap; max-width: 500px; overflow: hidden; text-overflow: ellipsis; \">&quot;HG00096&quot;</td><td style=\"white-space: nowrap; max-width: 500px; overflow: hidden; text-overflow: ellipsis; \">0</td><td style=\"white-space: nowrap; max-width: 500px; overflow: hidden; text-overflow: ellipsis; \">&quot;hahaha&quot;</td><td style=\"white-space: nowrap; max-width: 500px; overflow: hidden; text-overflow: ellipsis; \">&quot;heheh&quot;</td><td style=\"white-space: nowrap; max-width: 500px; overflow: hidden; text-overflow: ellipsis; \">0</td><td style=\"white-space: nowrap; max-width: 500px; overflow: hidden; text-overflow: ellipsis; \">0</td><td style=\"white-space: nowrap; max-width: 500px; overflow: hidden; text-overflow: ellipsis; \">0</td><td style=\"white-space: nowrap; max-width: 500px; overflow: hidden; text-overflow: ellipsis; \">0</td><td style=\"white-space: nowrap; max-width: 500px; overflow: hidden; text-overflow: ellipsis; \">0</td><td style=\"white-space: nowrap; max-width: 500px; overflow: hidden; text-overflow: ellipsis; \">0</td><td style=\"white-space: nowrap; max-width: 500px; overflow: hidden; text-overflow: ellipsis; \">0</td></tr>\n",
       "<tr><td style=\"white-space: nowrap; max-width: 500px; overflow: hidden; text-overflow: ellipsis; \">&quot;HG00097&quot;</td><td style=\"white-space: nowrap; max-width: 500px; overflow: hidden; text-overflow: ellipsis; \">1</td><td style=\"white-space: nowrap; max-width: 500px; overflow: hidden; text-overflow: ellipsis; \">&quot;ala ma&quot;</td><td style=\"white-space: nowrap; max-width: 500px; overflow: hidden; text-overflow: ellipsis; \">&quot;1&quot;</td><td style=\"white-space: nowrap; max-width: 500px; overflow: hidden; text-overflow: ellipsis; \">0</td><td style=\"white-space: nowrap; max-width: 500px; overflow: hidden; text-overflow: ellipsis; \">1</td><td style=\"white-space: nowrap; max-width: 500px; overflow: hidden; text-overflow: ellipsis; \">1</td><td style=\"white-space: nowrap; max-width: 500px; overflow: hidden; text-overflow: ellipsis; \">1</td><td style=\"white-space: nowrap; max-width: 500px; overflow: hidden; text-overflow: ellipsis; \">1</td><td style=\"white-space: nowrap; max-width: 500px; overflow: hidden; text-overflow: ellipsis; \">0</td><td style=\"white-space: nowrap; max-width: 500px; overflow: hidden; text-overflow: ellipsis; \">1</td></tr>\n",
       "<tr><td style=\"white-space: nowrap; max-width: 500px; overflow: hidden; text-overflow: ellipsis; \">&quot;HG00099&quot;</td><td style=\"white-space: nowrap; max-width: 500px; overflow: hidden; text-overflow: ellipsis; \">1</td><td style=\"white-space: nowrap; max-width: 500px; overflow: hidden; text-overflow: ellipsis; \">&quot;1&quot;</td><td style=\"white-space: nowrap; max-width: 500px; overflow: hidden; text-overflow: ellipsis; \">&quot;1&quot;</td><td style=\"white-space: nowrap; max-width: 500px; overflow: hidden; text-overflow: ellipsis; \">0</td><td style=\"white-space: nowrap; max-width: 500px; overflow: hidden; text-overflow: ellipsis; \">1</td><td style=\"white-space: nowrap; max-width: 500px; overflow: hidden; text-overflow: ellipsis; \">1</td><td style=\"white-space: nowrap; max-width: 500px; overflow: hidden; text-overflow: ellipsis; \">1</td><td style=\"white-space: nowrap; max-width: 500px; overflow: hidden; text-overflow: ellipsis; \">1</td><td style=\"white-space: nowrap; max-width: 500px; overflow: hidden; text-overflow: ellipsis; \">0</td><td style=\"white-space: nowrap; max-width: 500px; overflow: hidden; text-overflow: ellipsis; \">1</td></tr>\n",
       "</tbody></table><p style=\"background: #fdd; padding: 0.4em;\">showing top 3 rows</p>\n"
      ],
      "text/plain": [
       "+-----------+--------------------+--------------------+--------------------+\n",
       "| s         | label.x22_16050408 | label.x22_16050612 | label.x22_16050678 |\n",
       "+-----------+--------------------+--------------------+--------------------+\n",
       "| str       |              int32 | str                | str                |\n",
       "+-----------+--------------------+--------------------+--------------------+\n",
       "| \"HG00096\" |                  0 | \"hahaha\"           | \"heheh\"            |\n",
       "| \"HG00097\" |                  1 | \"ala ma\"           | \"1\"                |\n",
       "| \"HG00099\" |                  1 | \"1\"                | \"1\"                |\n",
       "+-----------+--------------------+--------------------+--------------------+\n",
       "\n",
       "+--------------------+--------------------+--------------------+\n",
       "| label.x22_16050984 | label.x22_16051107 | label.x22_16051249 |\n",
       "+--------------------+--------------------+--------------------+\n",
       "|              int32 |              int32 |              int32 |\n",
       "+--------------------+--------------------+--------------------+\n",
       "|                  0 |                  0 |                  0 |\n",
       "|                  0 |                  1 |                  1 |\n",
       "|                  0 |                  1 |                  1 |\n",
       "+--------------------+--------------------+--------------------+\n",
       "\n",
       "+--------------------+--------------------+--------------------+\n",
       "| label.x22_16051347 | label.x22_16051453 | label.x22_16051477 |\n",
       "+--------------------+--------------------+--------------------+\n",
       "|              int32 |              int32 |              int32 |\n",
       "+--------------------+--------------------+--------------------+\n",
       "|                  0 |                  0 |                  0 |\n",
       "|                  1 |                  1 |                  0 |\n",
       "|                  1 |                  1 |                  0 |\n",
       "+--------------------+--------------------+--------------------+\n",
       "\n",
       "+--------------------+\n",
       "| label.x22_16051480 |\n",
       "+--------------------+\n",
       "|              int32 |\n",
       "+--------------------+\n",
       "|                  0 |\n",
       "|                  1 |\n",
       "|                  1 |\n",
       "+--------------------+\n",
       "showing top 3 rows"
      ]
     },
     "metadata": {},
     "output_type": "display_data"
    }
   ],
   "source": [
    "vds = vds.annotate_cols(label = labels[vds.s])\n",
    "vds.cols().show(3)"
   ]
  },
  {
   "cell_type": "markdown",
   "id": "23297bf7",
   "metadata": {},
   "source": [
    "Step 5: Build the random forest model with `label.x22_16050408` as the respose variable"
   ]
  },
  {
   "cell_type": "code",
   "execution_count": 5,
   "id": "c4adf60f",
   "metadata": {},
   "outputs": [
    {
     "name": "stderr",
     "output_type": "stream",
     "text": [
      "2022-05-06 15:21:00 Hail: INFO: Coerced almost-sorted dataset\n",
      "[Stage 8:>                                                          (0 + 1) / 1]\r"
     ]
    }
   ],
   "source": [
    "rf_model = vshl.random_forest_model(y=vds.label['x22_16050408'],\n",
    "                x=vds.GT.n_alt_alleles(), seed = 13, mtry_fraction = 0.05, min_node_size = 5, max_depth = 10)\n",
    "rf_model.fit_trees(100, 50)"
   ]
  },
  {
   "cell_type": "markdown",
   "id": "d5a263be",
   "metadata": {},
   "source": [
    "Step 6: Display the results: print OOB error calculated variable importance."
   ]
  },
  {
   "cell_type": "code",
   "execution_count": 6,
   "id": "b7c335f2",
   "metadata": {},
   "outputs": [
    {
     "name": "stdout",
     "output_type": "stream",
     "text": [
      "OOB error: 0.007326007326007326\n"
     ]
    },
    {
     "name": "stderr",
     "output_type": "stream",
     "text": [
      "2022-05-06 15:21:05 Hail: INFO: Coerced sorted dataset\n"
     ]
    },
    {
     "data": {
      "text/html": [
       "<table><thead><tr><td style=\"white-space: nowrap; max-width: 500px; overflow: hidden; text-overflow: ellipsis; \" colspan=\"1\"><div style=\"text-align: left;\"></div></td><td style=\"white-space: nowrap; max-width: 500px; overflow: hidden; text-overflow: ellipsis; \" colspan=\"1\"><div style=\"text-align: left;\"></div></td><td style=\"white-space: nowrap; max-width: 500px; overflow: hidden; text-overflow: ellipsis; \" colspan=\"1\"><div style=\"text-align: left;\"></div></td><td style=\"white-space: nowrap; max-width: 500px; overflow: hidden; text-overflow: ellipsis; \" colspan=\"1\"><div style=\"text-align: left;\"></div></td></tr><tr><td style=\"white-space: nowrap; max-width: 500px; overflow: hidden; text-overflow: ellipsis; \" colspan=\"1\"><div style=\"text-align: left;border-bottom: solid 2px #000; padding-bottom: 5px\">locus</div></td><td style=\"white-space: nowrap; max-width: 500px; overflow: hidden; text-overflow: ellipsis; \" colspan=\"1\"><div style=\"text-align: left;border-bottom: solid 2px #000; padding-bottom: 5px\">alleles</div></td><td style=\"white-space: nowrap; max-width: 500px; overflow: hidden; text-overflow: ellipsis; \" colspan=\"1\"><div style=\"text-align: left;border-bottom: solid 2px #000; padding-bottom: 5px\">importance</div></td><td style=\"white-space: nowrap; max-width: 500px; overflow: hidden; text-overflow: ellipsis; \" colspan=\"1\"><div style=\"text-align: left;border-bottom: solid 2px #000; padding-bottom: 5px\">splitCount</div></td></tr><tr><td style=\"white-space: nowrap; max-width: 500px; overflow: hidden; text-overflow: ellipsis; text-align: left;\">locus&lt;GRCh37&gt;</td><td style=\"white-space: nowrap; max-width: 500px; overflow: hidden; text-overflow: ellipsis; text-align: left;\">array&lt;str&gt;</td><td style=\"white-space: nowrap; max-width: 500px; overflow: hidden; text-overflow: ellipsis; text-align: left;\">float64</td><td style=\"white-space: nowrap; max-width: 500px; overflow: hidden; text-overflow: ellipsis; text-align: left;\">int64</td></tr>\n",
       "</thead><tbody><tr><td style=\"white-space: nowrap; max-width: 500px; overflow: hidden; text-overflow: ellipsis; \">22:16050408</td><td style=\"white-space: nowrap; max-width: 500px; overflow: hidden; text-overflow: ellipsis; \">[&quot;T&quot;,&quot;C&quot;]</td><td style=\"white-space: nowrap; max-width: 500px; overflow: hidden; text-overflow: ellipsis; \">4.22e+01</td><td style=\"white-space: nowrap; max-width: 500px; overflow: hidden; text-overflow: ellipsis; \">73</td></tr>\n",
       "<tr><td style=\"white-space: nowrap; max-width: 500px; overflow: hidden; text-overflow: ellipsis; \">22:16050678</td><td style=\"white-space: nowrap; max-width: 500px; overflow: hidden; text-overflow: ellipsis; \">[&quot;C&quot;,&quot;T&quot;]</td><td style=\"white-space: nowrap; max-width: 500px; overflow: hidden; text-overflow: ellipsis; \">2.37e+01</td><td style=\"white-space: nowrap; max-width: 500px; overflow: hidden; text-overflow: ellipsis; \">38</td></tr>\n",
       "<tr><td style=\"white-space: nowrap; max-width: 500px; overflow: hidden; text-overflow: ellipsis; \">22:16052838</td><td style=\"white-space: nowrap; max-width: 500px; overflow: hidden; text-overflow: ellipsis; \">[&quot;T&quot;,&quot;A&quot;]</td><td style=\"white-space: nowrap; max-width: 500px; overflow: hidden; text-overflow: ellipsis; \">1.85e+01</td><td style=\"white-space: nowrap; max-width: 500px; overflow: hidden; text-overflow: ellipsis; \">24</td></tr>\n",
       "<tr><td style=\"white-space: nowrap; max-width: 500px; overflow: hidden; text-overflow: ellipsis; \">22:16053727</td><td style=\"white-space: nowrap; max-width: 500px; overflow: hidden; text-overflow: ellipsis; \">[&quot;T&quot;,&quot;G&quot;]</td><td style=\"white-space: nowrap; max-width: 500px; overflow: hidden; text-overflow: ellipsis; \">1.71e+01</td><td style=\"white-space: nowrap; max-width: 500px; overflow: hidden; text-overflow: ellipsis; \">17</td></tr>\n",
       "<tr><td style=\"white-space: nowrap; max-width: 500px; overflow: hidden; text-overflow: ellipsis; \">22:16051107</td><td style=\"white-space: nowrap; max-width: 500px; overflow: hidden; text-overflow: ellipsis; \">[&quot;C&quot;,&quot;A&quot;]</td><td style=\"white-space: nowrap; max-width: 500px; overflow: hidden; text-overflow: ellipsis; \">1.29e+01</td><td style=\"white-space: nowrap; max-width: 500px; overflow: hidden; text-overflow: ellipsis; \">23</td></tr>\n",
       "<tr><td style=\"white-space: nowrap; max-width: 500px; overflow: hidden; text-overflow: ellipsis; \">22:16053197</td><td style=\"white-space: nowrap; max-width: 500px; overflow: hidden; text-overflow: ellipsis; \">[&quot;G&quot;,&quot;T&quot;]</td><td style=\"white-space: nowrap; max-width: 500px; overflow: hidden; text-overflow: ellipsis; \">1.18e+01</td><td style=\"white-space: nowrap; max-width: 500px; overflow: hidden; text-overflow: ellipsis; \">15</td></tr>\n",
       "<tr><td style=\"white-space: nowrap; max-width: 500px; overflow: hidden; text-overflow: ellipsis; \">22:16051480</td><td style=\"white-space: nowrap; max-width: 500px; overflow: hidden; text-overflow: ellipsis; \">[&quot;T&quot;,&quot;C&quot;]</td><td style=\"white-space: nowrap; max-width: 500px; overflow: hidden; text-overflow: ellipsis; \">1.16e+01</td><td style=\"white-space: nowrap; max-width: 500px; overflow: hidden; text-overflow: ellipsis; \">25</td></tr>\n",
       "<tr><td style=\"white-space: nowrap; max-width: 500px; overflow: hidden; text-overflow: ellipsis; \">22:16053797</td><td style=\"white-space: nowrap; max-width: 500px; overflow: hidden; text-overflow: ellipsis; \">[&quot;T&quot;,&quot;C&quot;]</td><td style=\"white-space: nowrap; max-width: 500px; overflow: hidden; text-overflow: ellipsis; \">1.08e+01</td><td style=\"white-space: nowrap; max-width: 500px; overflow: hidden; text-overflow: ellipsis; \">13</td></tr>\n",
       "<tr><td style=\"white-space: nowrap; max-width: 500px; overflow: hidden; text-overflow: ellipsis; \">22:16051882</td><td style=\"white-space: nowrap; max-width: 500px; overflow: hidden; text-overflow: ellipsis; \">[&quot;C&quot;,&quot;T&quot;]</td><td style=\"white-space: nowrap; max-width: 500px; overflow: hidden; text-overflow: ellipsis; \">1.04e+01</td><td style=\"white-space: nowrap; max-width: 500px; overflow: hidden; text-overflow: ellipsis; \">26</td></tr>\n",
       "<tr><td style=\"white-space: nowrap; max-width: 500px; overflow: hidden; text-overflow: ellipsis; \">22:16052656</td><td style=\"white-space: nowrap; max-width: 500px; overflow: hidden; text-overflow: ellipsis; \">[&quot;T&quot;,&quot;C&quot;]</td><td style=\"white-space: nowrap; max-width: 500px; overflow: hidden; text-overflow: ellipsis; \">9.14e+00</td><td style=\"white-space: nowrap; max-width: 500px; overflow: hidden; text-overflow: ellipsis; \">16</td></tr>\n",
       "</tbody></table><p style=\"background: #fdd; padding: 0.4em;\">showing top 10 rows</p>\n"
      ],
      "text/plain": [
       "+---------------+------------+------------+------------+\n",
       "| locus         | alleles    | importance | splitCount |\n",
       "+---------------+------------+------------+------------+\n",
       "| locus<GRCh37> | array<str> |    float64 |      int64 |\n",
       "+---------------+------------+------------+------------+\n",
       "| 22:16050408   | [\"T\",\"C\"]  |   4.22e+01 |         73 |\n",
       "| 22:16050678   | [\"C\",\"T\"]  |   2.37e+01 |         38 |\n",
       "| 22:16052838   | [\"T\",\"A\"]  |   1.85e+01 |         24 |\n",
       "| 22:16053727   | [\"T\",\"G\"]  |   1.71e+01 |         17 |\n",
       "| 22:16051107   | [\"C\",\"A\"]  |   1.29e+01 |         23 |\n",
       "| 22:16053197   | [\"G\",\"T\"]  |   1.18e+01 |         15 |\n",
       "| 22:16051480   | [\"T\",\"C\"]  |   1.16e+01 |         25 |\n",
       "| 22:16053797   | [\"T\",\"C\"]  |   1.08e+01 |         13 |\n",
       "| 22:16051882   | [\"C\",\"T\"]  |   1.04e+01 |         26 |\n",
       "| 22:16052656   | [\"T\",\"C\"]  |   9.14e+00 |         16 |\n",
       "+---------------+------------+------------+------------+\n",
       "showing top 10 rows"
      ]
     },
     "metadata": {},
     "output_type": "display_data"
    }
   ],
   "source": [
    "print(\"OOB error: %s\" % rf_model.oob_error())\n",
    "impTable = rf_model.variable_importance()\n",
    "impTable.order_by(hl.desc(impTable.importance)).show(10)"
   ]
  },
  {
   "cell_type": "markdown",
   "id": "d15f8c01",
   "metadata": {},
   "source": [
    "Step 7: Obtaiin the variable importance table and their `splitCount`"
   ]
  },
  {
   "cell_type": "code",
   "execution_count": 7,
   "id": "00cb045c",
   "metadata": {},
   "outputs": [],
   "source": [
    "df = impTable.order_by(hl.desc(impTable.importance)).to_spark(flatten=False).toPandas()\n",
    "df['log_importance'] = df.importance.apply(np.log)"
   ]
  },
  {
   "cell_type": "code",
   "execution_count": 18,
   "id": "8997b1a6",
   "metadata": {},
   "outputs": [],
   "source": [
    "class PValueCalculator:\n",
    "    \n",
    "    def __init__(self, df):\n",
    "        self._df = df\n",
    "\n",
    "    @classmethod\n",
    "    def from_imp_table(cls,impTable):\n",
    "        impDf = impTable.filter(impTable.splitCount >= 1).to_spark(flatten=False).toPandas()\n",
    "        df = impDf.assign(logImportance = np.log(impDf.importance))\n",
    "        return PValueCalculator(df)\n",
    "\n",
    "    def plot_log_densities(self, ax, min_split_count = 1, max_split_count=6, palette = 'Set1',\n",
    "                      xLabel = 'log(importance)', yLabel = 'density'):\n",
    "        #TODO test preconditions\n",
    "        no_lines = max_split_count - min_split_count + 1\n",
    "        colors= sns.mpl_palette(palette, no_lines)\n",
    "        df = self._df\n",
    "        for i,c in zip(range(min_split_count, max_split_count + 1), colors):\n",
    "            sns.kdeplot(df.logImportance[df.splitCount >= i],\n",
    "                        ax = ax, c=c, bw_adjust=0.5) #bw low show sharper distributions\n",
    "    \n",
    "    \n",
    "        #ax.legend(labels=range(1,n_lines), bbox_to_anchor=(1,1))\n",
    "        ax.set_xlabel(xLabel)\n",
    "        ax.set_ylabel(yLabel)\n",
    "\n",
    "\n",
    "    def plot_log_hist(self, ax, split_count, bins = 100,\n",
    "                          xLabel = 'log(importance)', yLabel = 'count'):\n",
    "        # check preconditions\n",
    "        df = self._df\n",
    "        sns.histplot(df.logImportance[df.splitCount >= split_count], ax = ax, bins=bins)\n",
    "        ax.set_xlabel(xLabel)\n",
    "        ax.set_ylabel(yLabel)\n",
    "        \n",
    "        \n",
    "    def compute_p_values(self, countThreshold = 2, pValue = 0.05, **kwargs):\n",
    "        impDfWithLog = self._df[self._df.splitCount >= countThreshold]\n",
    "        pValueResult = run_it_importances(impDfWithLog.logImportance, pValue)\n",
    "        #return impDfWithLog.assign(pValue =  pValueResult['ppp'])\n",
    "        return (impDfWithLog.assign(pvalue = pValueResult['ppp']), pValueResult)   \n",
    "    \n",
    "    \n",
    "    def find_split_count_th(self, min_split_count = 1, max_split_count=6, ntrials=1000):\n",
    "        df = self._df\n",
    "        for splitCountThreshold in range(min_split_count,max_split_count + 1):\n",
    "            dat = np.msort(df[df['splitCount']>splitCountThreshold]['logImportance'])\n",
    "            intervals = UniDip(dat, ntrials=ntrials).run() #ntrials can be increased to achieve higher robustness\n",
    "            if len(intervals) <= 1: \n",
    "                break\n",
    "        # TODO: check if converged !!!\n",
    "        return splitCountThreshold"
   ]
  },
  {
   "cell_type": "code",
   "execution_count": 19,
   "id": "3897c6d0",
   "metadata": {},
   "outputs": [],
   "source": [
    "pValCalc = PValueCalculator.from_imp_table(impTable)"
   ]
  },
  {
   "cell_type": "markdown",
   "id": "876a31f9",
   "metadata": {},
   "source": [
    "Setp 8: Determine the cutoff (of how many times a variable was used to split a tree) to get a unimodal density."
   ]
  },
  {
   "cell_type": "code",
   "execution_count": 20,
   "id": "c1759b94",
   "metadata": {},
   "outputs": [
    {
     "name": "stdout",
     "output_type": "stream",
     "text": [
      "The automatically selected SplitCount Threshold is 1\n"
     ]
    }
   ],
   "source": [
    "autoSplitCountTh = pValCalc.find_split_count_th()\n",
    "print(\"The automatically selected SplitCount Threshold is %s\" % autoSplitCountTh)"
   ]
  },
  {
   "cell_type": "markdown",
   "id": "49c8ce52",
   "metadata": {},
   "source": [
    "Step 9: Display (A) Density graphs of the Gini importance scores with different colours indicating the SplitCounts of a variable. (B) Histogram of Gini importances scores of variables with `SplitCountThreshold` selected"
   ]
  },
  {
   "cell_type": "code",
   "execution_count": 11,
   "id": "c2089ba2",
   "metadata": {},
   "outputs": [
    {
     "data": {
      "image/png": "[encoded data removed]",
      "text/plain": [
       "<Figure size 720x360 with 1 Axes>"
      ]
     },
     "metadata": {
      "needs_background": "light"
     },
     "output_type": "display_data"
    }
   ],
   "source": [
    "#plt.rcParams['figure.figsize'] = [15, 10]\n",
    "#SMALL_SIZE = 12\n",
    "#MEDIUM_SIZE = 14\n",
    "#BIGGER_SIZE = 16\n",
    "#plt.rc('font', size=SMALL_SIZE)          # controls default text sizes\n",
    "#plt.rc('axes', titlesize=SMALL_SIZE)     # fontsize of the axes title\n",
    "#plt.rc('axes', labelsize=MEDIUM_SIZE)    # fontsize of the x and y labels\n",
    "#plt.rc('xtick', labelsize=SMALL_SIZE)    # fontsize of the tick labels\n",
    "#plt.rc('ytick', labelsize=SMALL_SIZE)    # fontsize of the tick labels\n",
    "#plt.rc('legend', fontsize=SMALL_SIZE)    # legend fontsize\n",
    "#plt.rc('figure', titlesize=BIGGER_SIZE)  # fontsize of the figure title\n",
    "\n",
    "fig, ax1 = plt.subplots(figsize=(10, 5), layout='constrained')\n",
    "pValCalc.plot_log_densities(ax1)\n",
    "plt.show()"
   ]
  },
  {
   "cell_type": "code",
   "execution_count": 12,
   "id": "8b638d1f",
   "metadata": {},
   "outputs": [
    {
     "data": {
      "image/png": "[encoded data removed]",
      "text/plain": [
       "<Figure size 720x360 with 1 Axes>"
      ]
     },
     "metadata": {
      "needs_background": "light"
     },
     "output_type": "display_data"
    }
   ],
   "source": [
    "fig, ax2 = plt.subplots(figsize=(10, 5), layout='constrained')\n",
    "pValCalc.plot_log_hist(ax2, 2)\n",
    "plt.show()"
   ]
  },
  {
   "cell_type": "markdown",
   "id": "4e32b30e",
   "metadata": {},
   "source": [
    "Step 10: Preparing the DataFrame for the variant p-value calculation"
   ]
  },
  {
   "cell_type": "markdown",
   "id": "d4b1d967",
   "metadata": {},
   "source": [
    "Step 11: Computing p-values and keeping the significant ones."
   ]
  },
  {
   "cell_type": "code",
   "execution_count": 15,
   "id": "63d0208d",
   "metadata": {},
   "outputs": [
    {
     "name": "stdout",
     "output_type": "stream",
     "text": [
      "C = 5.96612585974164\n"
     ]
    },
    {
     "data": {
      "text/html": [
       "<div>\n",
       "<style scoped>\n",
       "    .dataframe tbody tr th:only-of-type {\n",
       "        vertical-align: middle;\n",
       "    }\n",
       "\n",
       "    .dataframe tbody tr th {\n",
       "        vertical-align: top;\n",
       "    }\n",
       "\n",
       "    .dataframe thead th {\n",
       "        text-align: right;\n",
       "    }\n",
       "</style>\n",
       "<table border=\"1\" class=\"dataframe\">\n",
       "  <thead>\n",
       "    <tr style=\"text-align: right;\">\n",
       "      <th></th>\n",
       "      <th>locus</th>\n",
       "      <th>alleles</th>\n",
       "      <th>importance</th>\n",
       "      <th>splitCount</th>\n",
       "      <th>logImportance</th>\n",
       "      <th>pvalue</th>\n",
       "    </tr>\n",
       "  </thead>\n",
       "  <tbody>\n",
       "    <tr>\n",
       "      <th>0</th>\n",
       "      <td>(22, 16050408)</td>\n",
       "      <td>[T, C]</td>\n",
       "      <td>42.193208</td>\n",
       "      <td>73</td>\n",
       "      <td>3.742259</td>\n",
       "      <td>5.990086e-11</td>\n",
       "    </tr>\n",
       "    <tr>\n",
       "      <th>1</th>\n",
       "      <td>(22, 16050612)</td>\n",
       "      <td>[C, G]</td>\n",
       "      <td>2.776943</td>\n",
       "      <td>8</td>\n",
       "      <td>1.021351</td>\n",
       "      <td>4.470102e-05</td>\n",
       "    </tr>\n",
       "    <tr>\n",
       "      <th>2</th>\n",
       "      <td>(22, 16050678)</td>\n",
       "      <td>[C, T]</td>\n",
       "      <td>23.653666</td>\n",
       "      <td>38</td>\n",
       "      <td>3.163518</td>\n",
       "      <td>1.741376e-09</td>\n",
       "    </tr>\n",
       "    <tr>\n",
       "      <th>3</th>\n",
       "      <td>(22, 16051107)</td>\n",
       "      <td>[C, A]</td>\n",
       "      <td>12.874493</td>\n",
       "      <td>23</td>\n",
       "      <td>2.555248</td>\n",
       "      <td>4.505101e-08</td>\n",
       "    </tr>\n",
       "    <tr>\n",
       "      <th>4</th>\n",
       "      <td>(22, 16051249)</td>\n",
       "      <td>[T, C]</td>\n",
       "      <td>0.035682</td>\n",
       "      <td>2</td>\n",
       "      <td>-3.333114</td>\n",
       "      <td>6.948458e-01</td>\n",
       "    </tr>\n",
       "    <tr>\n",
       "      <th>...</th>\n",
       "      <td>...</td>\n",
       "      <td>...</td>\n",
       "      <td>...</td>\n",
       "      <td>...</td>\n",
       "      <td>...</td>\n",
       "      <td>...</td>\n",
       "    </tr>\n",
       "    <tr>\n",
       "      <th>567</th>\n",
       "      <td>(22, 17796497)</td>\n",
       "      <td>[A, G]</td>\n",
       "      <td>0.014301</td>\n",
       "      <td>2</td>\n",
       "      <td>-4.247424</td>\n",
       "      <td>9.419628e-01</td>\n",
       "    </tr>\n",
       "    <tr>\n",
       "      <th>568</th>\n",
       "      <td>(22, 17796520)</td>\n",
       "      <td>[G, A]</td>\n",
       "      <td>0.062584</td>\n",
       "      <td>2</td>\n",
       "      <td>-2.771250</td>\n",
       "      <td>4.521274e-01</td>\n",
       "    </tr>\n",
       "    <tr>\n",
       "      <th>569</th>\n",
       "      <td>(22, 17796921)</td>\n",
       "      <td>[T, TTAAC]</td>\n",
       "      <td>0.002924</td>\n",
       "      <td>2</td>\n",
       "      <td>-5.834689</td>\n",
       "      <td>9.997586e-01</td>\n",
       "    </tr>\n",
       "    <tr>\n",
       "      <th>570</th>\n",
       "      <td>(22, 17796926)</td>\n",
       "      <td>[T, TA]</td>\n",
       "      <td>0.015958</td>\n",
       "      <td>4</td>\n",
       "      <td>-4.137791</td>\n",
       "      <td>9.253603e-01</td>\n",
       "    </tr>\n",
       "    <tr>\n",
       "      <th>571</th>\n",
       "      <td>(22, 17796971)</td>\n",
       "      <td>[C, A]</td>\n",
       "      <td>0.096777</td>\n",
       "      <td>8</td>\n",
       "      <td>-2.335347</td>\n",
       "      <td>2.758599e-01</td>\n",
       "    </tr>\n",
       "  </tbody>\n",
       "</table>\n",
       "<p>288 rows × 6 columns</p>\n",
       "</div>"
      ],
      "text/plain": [
       "              locus     alleles  importance  splitCount  logImportance  \\\n",
       "0    (22, 16050408)      [T, C]   42.193208          73       3.742259   \n",
       "1    (22, 16050612)      [C, G]    2.776943           8       1.021351   \n",
       "2    (22, 16050678)      [C, T]   23.653666          38       3.163518   \n",
       "3    (22, 16051107)      [C, A]   12.874493          23       2.555248   \n",
       "4    (22, 16051249)      [T, C]    0.035682           2      -3.333114   \n",
       "..              ...         ...         ...         ...            ...   \n",
       "567  (22, 17796497)      [A, G]    0.014301           2      -4.247424   \n",
       "568  (22, 17796520)      [G, A]    0.062584           2      -2.771250   \n",
       "569  (22, 17796921)  [T, TTAAC]    0.002924           2      -5.834689   \n",
       "570  (22, 17796926)     [T, TA]    0.015958           4      -4.137791   \n",
       "571  (22, 17796971)      [C, A]    0.096777           8      -2.335347   \n",
       "\n",
       "           pvalue  \n",
       "0    5.990086e-11  \n",
       "1    4.470102e-05  \n",
       "2    1.741376e-09  \n",
       "3    4.505101e-08  \n",
       "4    6.948458e-01  \n",
       "..            ...  \n",
       "567  9.419628e-01  \n",
       "568  4.521274e-01  \n",
       "569  9.997586e-01  \n",
       "570  9.253603e-01  \n",
       "571  2.758599e-01  \n",
       "\n",
       "[288 rows x 6 columns]"
      ]
     },
     "execution_count": 15,
     "metadata": {},
     "output_type": "execute_result"
    }
   ],
   "source": [
    "pvalueDF, info = pValCalc.compute_p_values(countThreshold = 2)\n",
    "print(\"C = %s\" % info['C'])\n",
    "pvalueDF"
   ]
  },
  {
   "cell_type": "code",
   "execution_count": 14,
   "id": "dad1cc4d",
   "metadata": {},
   "outputs": [
    {
     "data": {
      "text/html": [
       "<div>\n",
       "<style scoped>\n",
       "    .dataframe tbody tr th:only-of-type {\n",
       "        vertical-align: middle;\n",
       "    }\n",
       "\n",
       "    .dataframe tbody tr th {\n",
       "        vertical-align: top;\n",
       "    }\n",
       "\n",
       "    .dataframe thead th {\n",
       "        text-align: right;\n",
       "    }\n",
       "</style>\n",
       "<table border=\"1\" class=\"dataframe\">\n",
       "  <thead>\n",
       "    <tr style=\"text-align: right;\">\n",
       "      <th></th>\n",
       "      <th>locus</th>\n",
       "      <th>alleles</th>\n",
       "      <th>importance</th>\n",
       "      <th>splitCount</th>\n",
       "      <th>logImportance</th>\n",
       "      <th>pvalue</th>\n",
       "    </tr>\n",
       "  </thead>\n",
       "  <tbody>\n",
       "    <tr>\n",
       "      <th>0</th>\n",
       "      <td>(22, 16050408)</td>\n",
       "      <td>[T, C]</td>\n",
       "      <td>42.193208</td>\n",
       "      <td>73</td>\n",
       "      <td>3.742259</td>\n",
       "      <td>5.990086e-11</td>\n",
       "    </tr>\n",
       "    <tr>\n",
       "      <th>2</th>\n",
       "      <td>(22, 16050678)</td>\n",
       "      <td>[C, T]</td>\n",
       "      <td>23.653666</td>\n",
       "      <td>38</td>\n",
       "      <td>3.163518</td>\n",
       "      <td>1.741376e-09</td>\n",
       "    </tr>\n",
       "    <tr>\n",
       "      <th>13</th>\n",
       "      <td>(22, 16052838)</td>\n",
       "      <td>[T, A]</td>\n",
       "      <td>18.491606</td>\n",
       "      <td>24</td>\n",
       "      <td>2.917317</td>\n",
       "      <td>6.732568e-09</td>\n",
       "    </tr>\n",
       "    <tr>\n",
       "      <th>20</th>\n",
       "      <td>(22, 16053727)</td>\n",
       "      <td>[T, G]</td>\n",
       "      <td>17.053610</td>\n",
       "      <td>17</td>\n",
       "      <td>2.836362</td>\n",
       "      <td>1.039200e-08</td>\n",
       "    </tr>\n",
       "    <tr>\n",
       "      <th>3</th>\n",
       "      <td>(22, 16051107)</td>\n",
       "      <td>[C, A]</td>\n",
       "      <td>12.874493</td>\n",
       "      <td>23</td>\n",
       "      <td>2.555248</td>\n",
       "      <td>4.505101e-08</td>\n",
       "    </tr>\n",
       "    <tr>\n",
       "      <th>...</th>\n",
       "      <td>...</td>\n",
       "      <td>...</td>\n",
       "      <td>...</td>\n",
       "      <td>...</td>\n",
       "      <td>...</td>\n",
       "      <td>...</td>\n",
       "    </tr>\n",
       "    <tr>\n",
       "      <th>291</th>\n",
       "      <td>(22, 17733865)</td>\n",
       "      <td>[T, A]</td>\n",
       "      <td>0.002206</td>\n",
       "      <td>2</td>\n",
       "      <td>-6.116751</td>\n",
       "      <td>9.999379e-01</td>\n",
       "    </tr>\n",
       "    <tr>\n",
       "      <th>143</th>\n",
       "      <td>(22, 17697781)</td>\n",
       "      <td>[A, C]</td>\n",
       "      <td>0.001850</td>\n",
       "      <td>2</td>\n",
       "      <td>-6.292477</td>\n",
       "      <td>9.999749e-01</td>\n",
       "    </tr>\n",
       "    <tr>\n",
       "      <th>247</th>\n",
       "      <td>(22, 17725406)</td>\n",
       "      <td>[G, A]</td>\n",
       "      <td>0.000873</td>\n",
       "      <td>2</td>\n",
       "      <td>-7.043752</td>\n",
       "      <td>9.999997e-01</td>\n",
       "    </tr>\n",
       "    <tr>\n",
       "      <th>243</th>\n",
       "      <td>(22, 17725209)</td>\n",
       "      <td>[C, G]</td>\n",
       "      <td>0.000863</td>\n",
       "      <td>2</td>\n",
       "      <td>-7.054950</td>\n",
       "      <td>9.999997e-01</td>\n",
       "    </tr>\n",
       "    <tr>\n",
       "      <th>112</th>\n",
       "      <td>(22, 17691887)</td>\n",
       "      <td>[C, T]</td>\n",
       "      <td>0.000587</td>\n",
       "      <td>2</td>\n",
       "      <td>-7.440793</td>\n",
       "      <td>1.000000e+00</td>\n",
       "    </tr>\n",
       "  </tbody>\n",
       "</table>\n",
       "<p>288 rows × 6 columns</p>\n",
       "</div>"
      ],
      "text/plain": [
       "              locus alleles  importance  splitCount  logImportance  \\\n",
       "0    (22, 16050408)  [T, C]   42.193208          73       3.742259   \n",
       "2    (22, 16050678)  [C, T]   23.653666          38       3.163518   \n",
       "13   (22, 16052838)  [T, A]   18.491606          24       2.917317   \n",
       "20   (22, 16053727)  [T, G]   17.053610          17       2.836362   \n",
       "3    (22, 16051107)  [C, A]   12.874493          23       2.555248   \n",
       "..              ...     ...         ...         ...            ...   \n",
       "291  (22, 17733865)  [T, A]    0.002206           2      -6.116751   \n",
       "143  (22, 17697781)  [A, C]    0.001850           2      -6.292477   \n",
       "247  (22, 17725406)  [G, A]    0.000873           2      -7.043752   \n",
       "243  (22, 17725209)  [C, G]    0.000863           2      -7.054950   \n",
       "112  (22, 17691887)  [C, T]    0.000587           2      -7.440793   \n",
       "\n",
       "           pvalue  \n",
       "0    5.990086e-11  \n",
       "2    1.741376e-09  \n",
       "13   6.732568e-09  \n",
       "20   1.039200e-08  \n",
       "3    4.505101e-08  \n",
       "..            ...  \n",
       "291  9.999379e-01  \n",
       "143  9.999749e-01  \n",
       "247  9.999997e-01  \n",
       "243  9.999997e-01  \n",
       "112  1.000000e+00  \n",
       "\n",
       "[288 rows x 6 columns]"
      ]
     },
     "execution_count": 14,
     "metadata": {},
     "output_type": "execute_result"
    }
   ],
   "source": [
    "pvalueDF.sort_values('pvalue')"
   ]
  }
 ],
 "metadata": {
  "kernelspec": {
   "display_name": "Python 3 (ipykernel)",
   "language": "python",
   "name": "python3"
  },
  "language_info": {
   "codemirror_mode": {
    "name": "ipython",
    "version": 3
   },
   "file_extension": ".py",
   "mimetype": "text/x-python",
   "name": "python",
   "nbconvert_exporter": "python",
   "pygments_lexer": "ipython3",
   "version": "3.8.12"
  }
 },
 "nbformat": 4,
 "nbformat_minor": 5
}
