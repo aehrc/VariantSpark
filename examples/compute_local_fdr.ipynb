{
 "cells": [
  {
   "cell_type": "code",
   "execution_count": 1,
   "id": "ca2d2c57",
   "metadata": {},
   "outputs": [],
   "source": [
    "# This is a Python adaptation from: https://github.com/parsifal9/RFlocalfdr\n",
    "\n",
    "import sys\n",
    "\n",
    "import numpy as np\n",
    "import pandas as pd\n",
    "import patsy\n",
    "import scipy\n",
    "import statsmodels.api as sm\n",
    "\n",
    "import seaborn as sns\n",
    "import matplotlib\n",
    "import matplotlib.pyplot as plt\n",
    "import matplotlib.patches as mpatches\n",
    "from matplotlib import patches\n",
    "plt.rcParams['figure.figsize'] = [15, 10]\n",
    "\n",
    "\n",
    "from varspark.stats.lfdr import LocalFdrModel\n"
   ]
  },
  {
   "cell_type": "code",
   "execution_count": 2,
   "id": "ff889edb",
   "metadata": {},
   "outputs": [
    {
     "data": {
      "text/plain": [
       "count    4.283000e+03\n",
       "mean     6.645013e-01\n",
       "std      6.656672e-01\n",
       "min      2.220446e-16\n",
       "25%      2.043237e-01\n",
       "50%      4.414963e-01\n",
       "75%      8.774414e-01\n",
       "max      8.376121e+00\n",
       "Name: x, dtype: float64"
      ]
     },
     "execution_count": 2,
     "metadata": {},
     "output_type": "execute_result"
    }
   ],
   "source": [
    "data = pd.read_csv('Letitia_CV_impurity_corrected.tsv', sep='\\t')\n",
    "importances = data.squeeze() #Transforming the dataframe into seriesis\n",
    "importances.describe()"
   ]
  },
  {
   "cell_type": "code",
   "execution_count": 3,
   "id": "37e903e2",
   "metadata": {},
   "outputs": [
    {
     "data": {
      "text/plain": [
       "count    4283.000000\n",
       "mean       -0.812965\n",
       "std         1.050347\n",
       "min       -36.043653\n",
       "25%        -1.588050\n",
       "50%        -0.817586\n",
       "75%        -0.130745\n",
       "max         2.125385\n",
       "Name: x, dtype: float64"
      ]
     },
     "execution_count": 3,
     "metadata": {},
     "output_type": "execute_result"
    }
   ],
   "source": [
    "log_importances = np.log(importances)\n",
    "log_importances.describe()"
   ]
  },
  {
   "cell_type": "code",
   "execution_count": 4,
   "id": "956d0e48",
   "metadata": {},
   "outputs": [
    {
     "name": "stderr",
     "output_type": "stream",
     "text": [
      "/Users/szu004/miniconda3/envs/vs-dev0.5-3.8/lib/python3.8/site-packages/scipy/stats/_distn_infrastructure.py:1797: RuntimeWarning: divide by zero encountered in log\n",
      "  return log(self._pdf(x, *args))\n"
     ]
    }
   ],
   "source": [
    "fdr_model = LocalFdrModel.fit(log_importances)"
   ]
  },
  {
   "cell_type": "code",
   "execution_count": 7,
   "id": "0c69886d",
   "metadata": {},
   "outputs": [
    {
     "data": {
      "text/plain": [
       "LocalFdrModel(x=array([-35.88461573, -35.56654041, -35.24846509, -34.93038977,\n",
       "       -34.61231445, -34.29423913, -33.97616381, -33.65808849,\n",
       "       -33.34001317, -33.02193786, -32.70386254, -32.38578722,\n",
       "       -32.0677119 , -31.74963658, -31.43156126, -31.11348594,\n",
       "       -30.79541062, -30.4773353 , -30.15925998, -29.84118466,\n",
       "       -29.52310934, -29.20503402, -28.8869587 , -28.56888338,\n",
       "       -28.25080806, -27.93273275, -27.61465743, -27.29658211,\n",
       "       -26.97850679, -26.66043147, -26.34235615, -26.02428083,\n",
       "       -25.70620551, -25.38813019, -25.07005487, -24.75197955,\n",
       "       -24.43390423, -24.11582891, -23.79775359, -23.47967827,\n",
       "       -23.16160296, -22.84352764, -22.52545232, -22.207377  ,\n",
       "       -21.88930168, -21.57122636, -21.25315104, -20.93507572,\n",
       "       -20.6170004 , -20.29892508, -19.98084976, -19.66277444,\n",
       "       -19.34469912, -19.0266238 , -18.70854848, -18.39047316,\n",
       "       -18.07239785, -17.75432253, -17.43624721, -17.11817189,\n",
       "       -16.80009657, -16.48202125, -16.16394593, -15.84587061,\n",
       "       -15.52779529, -15.20971997, -14.89164465, -14.57356933,\n",
       "       -14.25549401, -13.93741869, -13.61934337, -13.30126806,\n",
       "       -12.98319274, -12.66511742, -12.3470421 , -12.02896678,\n",
       "       -11.71089146, -11.39281614, -11.07474082, -10.7566655 ,\n",
       "       -10.43859018, -10.12051486,  -9.80243954,  -9.48436422,\n",
       "        -9.1662889 ,  -8.84821358,  -8.53013826,  -8.21206295,\n",
       "        -7.89398763,  -7.57591231,  -7.25783699,  -6.93976167,\n",
       "        -6.62168635,  -6.30361103,  -5.98553571,  -5.66746039,\n",
       "        -5.34938507,  -5.03130975,  -4.71323443,  -4.39515911,\n",
       "        -4.07708379,  -3.75900847,  -3.44093316,  -3.12285784,\n",
       "        -2.80478252,  -2.4867072 ,  -2.16863188,  -1.85055656,\n",
       "        -1.53248124,  -1.21440592,  -0.8963306 ,  -0.57825528,\n",
       "        -0.26017996,   0.05789536,   0.37597068,   0.694046  ,\n",
       "         1.01212132,   1.33019664,   1.64827195,   1.96634727]), f_observed_y=array([0.00073404, 0.        , 0.        , 0.        , 0.        ,\n",
       "       0.        , 0.        , 0.        , 0.        , 0.        ,\n",
       "       0.        , 0.        , 0.        , 0.        , 0.        ,\n",
       "       0.        , 0.        , 0.        , 0.        , 0.        ,\n",
       "       0.        , 0.        , 0.        , 0.        , 0.        ,\n",
       "       0.        , 0.        , 0.        , 0.        , 0.        ,\n",
       "       0.        , 0.        , 0.        , 0.        , 0.        ,\n",
       "       0.        , 0.        , 0.        , 0.        , 0.        ,\n",
       "       0.        , 0.        , 0.        , 0.        , 0.        ,\n",
       "       0.        , 0.        , 0.        , 0.        , 0.        ,\n",
       "       0.        , 0.        , 0.        , 0.        , 0.        ,\n",
       "       0.        , 0.        , 0.        , 0.        , 0.        ,\n",
       "       0.        , 0.        , 0.        , 0.        , 0.        ,\n",
       "       0.        , 0.        , 0.        , 0.        , 0.        ,\n",
       "       0.        , 0.        , 0.        , 0.        , 0.        ,\n",
       "       0.        , 0.        , 0.        , 0.        , 0.        ,\n",
       "       0.        , 0.        , 0.        , 0.        , 0.        ,\n",
       "       0.        , 0.        , 0.        , 0.        , 0.        ,\n",
       "       0.        , 0.        , 0.        , 0.        , 0.        ,\n",
       "       0.        , 0.        , 0.        , 0.        , 0.00073404,\n",
       "       0.        , 0.        , 0.00073404, 0.00513831, 0.02569153,\n",
       "       0.06239372, 0.19011733, 0.37729849, 0.30976647, 0.20112799,\n",
       "       0.47566036, 0.37656445, 0.36922401, 0.31784095, 0.21360674,\n",
       "       0.1357981 , 0.05798946, 0.01321279, 0.00807448, 0.00220213]), f_y=0      7.328443e-04\n",
       "1      1.332023e-06\n",
       "2      2.627118e-09\n",
       "3      6.100739e-12\n",
       "4      1.810041e-14\n",
       "           ...     \n",
       "115    1.103751e-01\n",
       "116    6.695921e-02\n",
       "117    3.895523e-02\n",
       "118    2.203935e-02\n",
       "119    1.229619e-02\n",
       "Length: 120, dtype: float64, C=0.7971748360753887, f0_params=SkewnormParams(a=-0.09891291794215014, loc=-0.7035473268747242, scale=1.018457163461567), f0_y=array([6.05724813e-260, 2.79500599e-255, 1.16984422e-250, 4.44130971e-246,\n",
       "       1.52943709e-241, 4.77737685e-237, 1.35358169e-232, 3.47869444e-228,\n",
       "       8.10932413e-224, 1.71470459e-219, 3.28874284e-215, 5.72145036e-211,\n",
       "       9.02854150e-207, 1.29230169e-202, 1.67781722e-198, 1.97587445e-194,\n",
       "       2.11060772e-190, 2.04497803e-186, 1.79722380e-182, 1.43267428e-178,\n",
       "       1.03591451e-174, 6.79408284e-171, 4.04173188e-167, 2.18088685e-163,\n",
       "       1.06739931e-159, 4.73857748e-156, 1.90807489e-152, 6.96896427e-149,\n",
       "       2.30868892e-145, 6.93722653e-142, 1.89072543e-138, 4.67403521e-135,\n",
       "       1.04803347e-131, 2.13145740e-128, 3.93183326e-125, 6.57853209e-122,\n",
       "       9.98336254e-119, 1.37415913e-115, 1.71556777e-112, 1.94261912e-109,\n",
       "       1.99514540e-106, 1.85851756e-103, 1.57022559e-100, 1.20325773e-097,\n",
       "       8.36285161e-095, 5.27165590e-092, 3.01393855e-089, 1.56283841e-086,\n",
       "       7.34993824e-084, 3.13502318e-081, 1.21278194e-078, 4.25507242e-076,\n",
       "       1.35397537e-073, 3.90743151e-071, 1.02269457e-068, 2.42756905e-066,\n",
       "       5.22595089e-064, 1.02029114e-061, 1.80652871e-059, 2.90084435e-057,\n",
       "       4.22434693e-055, 5.57888042e-053, 6.68164703e-051, 7.25714224e-049,\n",
       "       7.14808898e-047, 6.38488395e-045, 5.17191409e-043, 3.79910490e-041,\n",
       "       2.53069248e-039, 1.52869890e-037, 8.37385376e-036, 4.15954625e-034,\n",
       "       1.87361352e-032, 7.65286073e-031, 2.83448144e-029, 9.51975294e-028,\n",
       "       2.89918698e-026, 8.00610875e-025, 2.00473824e-023, 4.55177734e-022,\n",
       "       9.37103810e-021, 1.74933898e-019, 2.96098388e-018, 4.54433291e-017,\n",
       "       6.32371813e-016, 7.97883325e-015, 9.12781991e-014, 9.46785966e-013,\n",
       "       8.90409820e-012, 7.59237723e-011, 5.86964282e-010, 4.11422471e-009,\n",
       "       2.61458752e-008, 1.50644624e-007, 7.86929521e-007, 3.72688748e-006,\n",
       "       1.60022665e-005, 6.22928306e-005, 2.19842971e-004, 7.03398922e-004,\n",
       "       2.04033788e-003, 5.36550358e-003, 1.27915641e-002, 2.76463874e-002,\n",
       "       5.41690909e-002, 9.62188179e-002, 1.54938995e-001, 2.26178167e-001,\n",
       "       2.99313894e-001, 3.59076011e-001, 3.90504766e-001, 3.84985061e-001,\n",
       "       3.44061605e-001, 2.78740831e-001, 2.04707761e-001, 1.36280810e-001,\n",
       "       8.22430422e-002, 4.49909460e-002, 2.23105385e-002, 1.00288578e-002]), p0=0.9766720747463418, local_fdr=0      8.072582e-257\n",
       "1      2.049367e-249\n",
       "2      4.349079e-242\n",
       "3      7.110127e-235\n",
       "4      8.252625e-228\n",
       "           ...      \n",
       "115     1.000000e+00\n",
       "116     1.000000e+00\n",
       "117     1.000000e+00\n",
       "118     9.886898e-01\n",
       "119     7.965805e-01\n",
       "Length: 120, dtype: float64)"
      ]
     },
     "execution_count": 7,
     "metadata": {},
     "output_type": "execute_result"
    }
   ],
   "source": [
    "fdr_model"
   ]
  },
  {
   "cell_type": "code",
   "execution_count": 6,
   "id": "5f5f3c37",
   "metadata": {},
   "outputs": [
    {
     "data": {
      "image/png": "[encoded data removed]",
      "text/plain": [
       "<Figure size 720x360 with 1 Axes>"
      ]
     },
     "metadata": {
      "needs_background": "light"
     },
     "output_type": "display_data"
    }
   ],
   "source": [
    "_, ax = plt.subplots(figsize=(10, 5), layout='constrained')\n",
    "fdr_model.plot(ax)\n",
    "plt.show()"
   ]
  },
  {
   "cell_type": "markdown",
   "id": "ab954e15",
   "metadata": {},
   "source": [
    "# With VS"
   ]
  },
  {
   "cell_type": "code",
   "execution_count": null,
   "id": "49a7f9e3",
   "metadata": {},
   "outputs": [],
   "source": [
    "vds = hl.import_vcf('../data/chr22_1000.vcf')\n",
    "labels = hl.import_table('../data/chr22-labels-hail.csv', impute = True, delimiter=\",\").key_by('sample')\n",
    "vds = vds.annotate_cols(label = labels[vds.s])\n",
    "vds.cols().show(3)\n",
    "\n",
    "rf_model = vshl.random_forest_model(y=vds.label['x22_16050408'],\n",
    "                x=vds.GT.n_alt_alleles(), seed = 13, mtry_fraction = 0.05, min_node_size = 5, max_depth = 10)\n",
    "rf_model.fit_trees(300, 50)\n",
    "\n",
    "impTable = rf_model.variable_importance()\n",
    "fdrCalc = LocalFdrVs.from_imp_table(impTable)\n"
   ]
  },
  {
   "cell_type": "code",
   "execution_count": null,
   "id": "abd5eff7",
   "metadata": {},
   "outputs": [],
   "source": [
    "autoSplitCountTh = fdrCalc.find_split_count_th()\n",
    "print(\"The automatically selected SplitCount Threshold is %s\" % autoSplitCountTh)"
   ]
  },
  {
   "cell_type": "code",
   "execution_count": null,
   "id": "e4fc6ac0",
   "metadata": {},
   "outputs": [],
   "source": [
    "fig, ax1 = plt.subplots(figsize=(10, 5), layout='constrained')\n",
    "fdrCalc.plot_log_densities(ax1,find_automatic_best=False)\n",
    "plt.show()"
   ]
  },
  {
   "cell_type": "code",
   "execution_count": null,
   "id": "7ea39d46",
   "metadata": {},
   "outputs": [],
   "source": [
    "fig, ax2 = plt.subplots(figsize=(10, 5), layout='constrained')\n",
    "fdrCalc.plot_log_hist(ax2, 2)\n",
    "plt.show()"
   ]
  },
  {
   "cell_type": "code",
   "execution_count": null,
   "id": "90821967",
   "metadata": {},
   "outputs": [],
   "source": [
    "fdrDF, fdr_corrected_cutoff = fdrCalc.compute_fdr(countThreshold = 2, fdr_cutoff = 0.05)\n"
   ]
  }
 ],
 "metadata": {
  "kernelspec": {
   "display_name": "Python 3 (ipykernel)",
   "language": "python",
   "name": "python3"
  },
  "language_info": {
   "codemirror_mode": {
    "name": "ipython",
    "version": 3
   },
   "file_extension": ".py",
   "mimetype": "text/x-python",
   "name": "python",
   "nbconvert_exporter": "python",
   "pygments_lexer": "ipython3",
   "version": "3.8.12"
  }
 },
 "nbformat": 4,
 "nbformat_minor": 5
}
