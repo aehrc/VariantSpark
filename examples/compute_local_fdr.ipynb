{
 "cells": [
  {
   "cell_type": "markdown",
   "id": "13c95dbf",
   "metadata": {},
   "source": [
    "Computing p-values from variable importance\n",
    "=====================================\n",
    "\n",
    "This is an *VariantSpark* example notebook.\n",
    "\n",
    "\n",
    "One of the main applications of VariantSpark is discovery of genomic variants correlated with a response variable (e.g. case vs control) using random forest gini importance.\n",
    "\n",
    "The `chr22_1000.vcf` is a very small sample of the chromosome 22 VCF file from the 1000 Genomes Project.\n",
    "\n",
    "`chr22-labels-hail.csv` is a CSV file with sample response variables (labels). In fact the labels directly represent the number of alternative alleles for each sample at a specific genomic position. E.g.: column x22_16050408 has labels derived from variants in chromosome 22 position 16050408. We would expect then that position 22:16050408 in the VCF file is strongly correlated with the label x22_16050408.\n",
    "\n",
    "Both data sets are located in the `..\\data` directory.\n",
    "\n",
    "This notebook demonstrates how to correctly get the p-values for each of the SNPs and their significant ones based on a *VariantSpark* model."
   ]
  },
  {
   "cell_type": "code",
   "execution_count": null,
   "id": "85203f75",
   "metadata": {},
   "outputs": [],
   "source": [
    "Step 1: Create a `HailContext` using `SparkContext` object (here injected as `sc`):"
   ]
  },
  {
   "cell_type": "code",
   "execution_count": 7,
   "id": "adb47841",
   "metadata": {},
   "outputs": [
    {
     "name": "stderr",
     "output_type": "stream",
     "text": [
      "using variant-spark jar at '/Users/reg032/workspace/VariantSpark/target/variant-spark_2.11-0.5.0-a0-dev0-all.jar'\n",
      "22/06/08 09:29:45 WARN NativeCodeLoader: Unable to load native-hadoop library for your platform... using builtin-java classes where applicable\n",
      "Using Spark's default log4j profile: org/apache/spark/log4j-defaults.properties\n",
      "Setting default log level to \"WARN\".\n",
      "To adjust logging level use sc.setLogLevel(newLevel). For SparkR, use setLogLevel(newLevel).\n",
      "22/06/08 09:29:46 WARN Hail: This Hail JAR was compiled for Spark 3.1.1, running with Spark 3.1.2.\n",
      "  Compatibility is not guaranteed.\n",
      "22/06/08 09:29:47 WARN Utils: Service 'SparkUI' could not bind on port 4040. Attempting port 4041.\n",
      "Running on Apache Spark version 3.1.2\n",
      "SparkUI available at http://192.168.86.23:4041\n",
      "Welcome to\n",
      "     __  __     <>__\n",
      "    / /_/ /__  __/ /\n",
      "   / __  / _ `/ / /\n",
      "  /_/ /_/\\_,_/_/_/   version 0.2.74-0c3a74d12093\n",
      "LOGGING: writing to /Users/reg032/workspace/VariantSpark/examples/hail-20220608-0929-0.2.74-0c3a74d12093.log\n"
     ]
    }
   ],
   "source": [
    "import hail as hl\n",
    "import varspark.hail as vshl\n",
    "vshl.init()"
   ]
  },
  {
   "cell_type": "code",
   "execution_count": 8,
   "id": "33312a47",
   "metadata": {},
   "outputs": [],
   "source": [
    "#from varspark.stats.lfdr import LocalFdr\n",
    "#from varspark.hail.lfdrvs import LocalFdrVs"
   ]
  },
  {
   "cell_type": "code",
   "execution_count": null,
   "id": "bcc87a47",
   "metadata": {},
   "outputs": [],
   "source": [
    "Step 2: Load Hail variant dataset  `vds` from a sample `.vcf` file."
   ]
  },
  {
   "cell_type": "code",
   "execution_count": null,
   "id": "01f90960",
   "metadata": {},
   "outputs": [],
   "source": [
    "vds = hl.import_vcf('../data/chr22_1000.vcf')"
   ]
  },
  {
   "cell_type": "code",
   "execution_count": null,
   "id": "375f4133",
   "metadata": {},
   "outputs": [],
   "source": [
    "Step 3: Load labels into Hail table `labels`."
   ]
  },
  {
   "cell_type": "code",
   "execution_count": null,
   "id": "d2a84074",
   "metadata": {},
   "outputs": [],
   "source": [
    "labels = hl.import_table('../data/chr22-labels-hail.csv', impute = True, delimiter=\",\").key_by('sample')"
   ]
  },
  {
   "cell_type": "code",
   "execution_count": null,
   "id": "9875cc14",
   "metadata": {},
   "outputs": [],
   "source": [
    "Step 4: Annotate dataset samples with labels."
   ]
  },
  {
   "cell_type": "code",
   "execution_count": null,
   "id": "a3cae10e",
   "metadata": {},
   "outputs": [],
   "source": [
    "vds = vds.annotate_cols(label = labels[vds.s])\n",
    "vds.cols().show(3)"
   ]
  },
  {
   "cell_type": "code",
   "execution_count": null,
   "id": "d5c423c2",
   "metadata": {},
   "outputs": [],
   "source": [
    "Step 5: Build the random forest model with `label.x22_16050408` as the respose variable."
   ]
  },
  {
   "cell_type": "code",
   "execution_count": null,
   "id": "92c2279e",
   "metadata": {},
   "outputs": [],
   "source": [
    "rf_model = vshl.random_forest_model(y=vds.label['x22_16050408'],\n",
    "                x=vds.GT.n_alt_alleles(), seed = 13, mtry_fraction = 0.05, min_node_size = 5, max_depth = 10)\n",
    "rf_model.fit_trees(300, 50)"
   ]
  },
  {
   "cell_type": "code",
   "execution_count": 9,
   "id": "33f631fb",
   "metadata": {
    "scrolled": false
   },
   "outputs": [
    {
     "name": "stderr",
     "output_type": "stream",
     "text": [
      "2022-06-08 09:29:53 Hail: WARN: Name collision: field 'sample' already in object dict. \n",
      "  This field must be referenced with __getitem__ syntax: obj['sample']\n",
      "2022-06-08 09:29:53 Hail: INFO: Reading table to impute column types\n",
      "2022-06-08 09:29:58 Hail: INFO: Finished type imputation            (0 + 1) / 1]\n",
      "  Loading field 'sample' as type str (imputed)\n",
      "  Loading field 'x22_16050408' as type int32 (imputed)\n",
      "  Loading field 'x22_16050612' as type str (imputed)\n",
      "  Loading field 'x22_16050678' as type str (imputed)\n",
      "  Loading field 'x22_16050984' as type int32 (imputed)\n",
      "  Loading field 'x22_16051107' as type int32 (imputed)\n",
      "  Loading field 'x22_16051249' as type int32 (imputed)\n",
      "  Loading field 'x22_16051347' as type int32 (imputed)\n",
      "  Loading field 'x22_16051453' as type int32 (imputed)\n",
      "  Loading field 'x22_16051477' as type int32 (imputed)\n",
      "  Loading field 'x22_16051480' as type int32 (imputed)\n",
      "2022-06-08 09:29:58 Hail: WARN: cols(): Resulting column table is sorted by 'col_key'.\n",
      "    To preserve matrix table column order, first unkey columns with 'key_cols_by()'\n",
      "2022-06-08 09:29:59 Hail: INFO: Coerced almost-sorted dataset\n",
      "2022-06-08 09:30:01 Hail: INFO: Coerced sorted dataset             (9 + 7) / 16]\n"
     ]
    },
    {
     "data": {
      "text/html": [
       "<table><thead><tr><td style=\"white-space: nowrap; max-width: 500px; overflow: hidden; text-overflow: ellipsis; \" colspan=\"1\"><div style=\"text-align: left;\"></div></td><td style=\"white-space: nowrap; max-width: 500px; overflow: hidden; text-overflow: ellipsis; \" colspan=\"10\"><div style=\"text-align: left;\"></div></td></tr><tr><td style=\"white-space: nowrap; max-width: 500px; overflow: hidden; text-overflow: ellipsis; \" colspan=\"1\"><div style=\"text-align: left;\"></div></td><td style=\"white-space: nowrap; max-width: 500px; overflow: hidden; text-overflow: ellipsis; \" colspan=\"10\"><div style=\"text-align: left;border-bottom: solid 2px #000; padding-bottom: 5px\">label</div></td></tr><tr><td style=\"white-space: nowrap; max-width: 500px; overflow: hidden; text-overflow: ellipsis; \" colspan=\"1\"><div style=\"text-align: left;border-bottom: solid 2px #000; padding-bottom: 5px\">s</div></td><td style=\"white-space: nowrap; max-width: 500px; overflow: hidden; text-overflow: ellipsis; \" colspan=\"1\"><div style=\"text-align: left;border-bottom: solid 2px #000; padding-bottom: 5px\">x22_16050408</div></td><td style=\"white-space: nowrap; max-width: 500px; overflow: hidden; text-overflow: ellipsis; \" colspan=\"1\"><div style=\"text-align: left;border-bottom: solid 2px #000; padding-bottom: 5px\">x22_16050612</div></td><td style=\"white-space: nowrap; max-width: 500px; overflow: hidden; text-overflow: ellipsis; \" colspan=\"1\"><div style=\"text-align: left;border-bottom: solid 2px #000; padding-bottom: 5px\">x22_16050678</div></td><td style=\"white-space: nowrap; max-width: 500px; overflow: hidden; text-overflow: ellipsis; \" colspan=\"1\"><div style=\"text-align: left;border-bottom: solid 2px #000; padding-bottom: 5px\">x22_16050984</div></td><td style=\"white-space: nowrap; max-width: 500px; overflow: hidden; text-overflow: ellipsis; \" colspan=\"1\"><div style=\"text-align: left;border-bottom: solid 2px #000; padding-bottom: 5px\">x22_16051107</div></td><td style=\"white-space: nowrap; max-width: 500px; overflow: hidden; text-overflow: ellipsis; \" colspan=\"1\"><div style=\"text-align: left;border-bottom: solid 2px #000; padding-bottom: 5px\">x22_16051249</div></td><td style=\"white-space: nowrap; max-width: 500px; overflow: hidden; text-overflow: ellipsis; \" colspan=\"1\"><div style=\"text-align: left;border-bottom: solid 2px #000; padding-bottom: 5px\">x22_16051347</div></td><td style=\"white-space: nowrap; max-width: 500px; overflow: hidden; text-overflow: ellipsis; \" colspan=\"1\"><div style=\"text-align: left;border-bottom: solid 2px #000; padding-bottom: 5px\">x22_16051453</div></td><td style=\"white-space: nowrap; max-width: 500px; overflow: hidden; text-overflow: ellipsis; \" colspan=\"1\"><div style=\"text-align: left;border-bottom: solid 2px #000; padding-bottom: 5px\">x22_16051477</div></td><td style=\"white-space: nowrap; max-width: 500px; overflow: hidden; text-overflow: ellipsis; \" colspan=\"1\"><div style=\"text-align: left;border-bottom: solid 2px #000; padding-bottom: 5px\">x22_16051480</div></td></tr><tr><td style=\"white-space: nowrap; max-width: 500px; overflow: hidden; text-overflow: ellipsis; text-align: left;\">str</td><td style=\"white-space: nowrap; max-width: 500px; overflow: hidden; text-overflow: ellipsis; text-align: left;\">int32</td><td style=\"white-space: nowrap; max-width: 500px; overflow: hidden; text-overflow: ellipsis; text-align: left;\">str</td><td style=\"white-space: nowrap; max-width: 500px; overflow: hidden; text-overflow: ellipsis; text-align: left;\">str</td><td style=\"white-space: nowrap; max-width: 500px; overflow: hidden; text-overflow: ellipsis; text-align: left;\">int32</td><td style=\"white-space: nowrap; max-width: 500px; overflow: hidden; text-overflow: ellipsis; text-align: left;\">int32</td><td style=\"white-space: nowrap; max-width: 500px; overflow: hidden; text-overflow: ellipsis; text-align: left;\">int32</td><td style=\"white-space: nowrap; max-width: 500px; overflow: hidden; text-overflow: ellipsis; text-align: left;\">int32</td><td style=\"white-space: nowrap; max-width: 500px; overflow: hidden; text-overflow: ellipsis; text-align: left;\">int32</td><td style=\"white-space: nowrap; max-width: 500px; overflow: hidden; text-overflow: ellipsis; text-align: left;\">int32</td><td style=\"white-space: nowrap; max-width: 500px; overflow: hidden; text-overflow: ellipsis; text-align: left;\">int32</td></tr>\n",
       "</thead><tbody><tr><td style=\"white-space: nowrap; max-width: 500px; overflow: hidden; text-overflow: ellipsis; \">&quot;HG00096&quot;</td><td style=\"white-space: nowrap; max-width: 500px; overflow: hidden; text-overflow: ellipsis; \">0</td><td style=\"white-space: nowrap; max-width: 500px; overflow: hidden; text-overflow: ellipsis; \">&quot;hahaha&quot;</td><td style=\"white-space: nowrap; max-width: 500px; overflow: hidden; text-overflow: ellipsis; \">&quot;heheh&quot;</td><td style=\"white-space: nowrap; max-width: 500px; overflow: hidden; text-overflow: ellipsis; \">0</td><td style=\"white-space: nowrap; max-width: 500px; overflow: hidden; text-overflow: ellipsis; \">0</td><td style=\"white-space: nowrap; max-width: 500px; overflow: hidden; text-overflow: ellipsis; \">0</td><td style=\"white-space: nowrap; max-width: 500px; overflow: hidden; text-overflow: ellipsis; \">0</td><td style=\"white-space: nowrap; max-width: 500px; overflow: hidden; text-overflow: ellipsis; \">0</td><td style=\"white-space: nowrap; max-width: 500px; overflow: hidden; text-overflow: ellipsis; \">0</td><td style=\"white-space: nowrap; max-width: 500px; overflow: hidden; text-overflow: ellipsis; \">0</td></tr>\n",
       "<tr><td style=\"white-space: nowrap; max-width: 500px; overflow: hidden; text-overflow: ellipsis; \">&quot;HG00097&quot;</td><td style=\"white-space: nowrap; max-width: 500px; overflow: hidden; text-overflow: ellipsis; \">1</td><td style=\"white-space: nowrap; max-width: 500px; overflow: hidden; text-overflow: ellipsis; \">&quot;ala ma&quot;</td><td style=\"white-space: nowrap; max-width: 500px; overflow: hidden; text-overflow: ellipsis; \">&quot;1&quot;</td><td style=\"white-space: nowrap; max-width: 500px; overflow: hidden; text-overflow: ellipsis; \">0</td><td style=\"white-space: nowrap; max-width: 500px; overflow: hidden; text-overflow: ellipsis; \">1</td><td style=\"white-space: nowrap; max-width: 500px; overflow: hidden; text-overflow: ellipsis; \">1</td><td style=\"white-space: nowrap; max-width: 500px; overflow: hidden; text-overflow: ellipsis; \">1</td><td style=\"white-space: nowrap; max-width: 500px; overflow: hidden; text-overflow: ellipsis; \">1</td><td style=\"white-space: nowrap; max-width: 500px; overflow: hidden; text-overflow: ellipsis; \">0</td><td style=\"white-space: nowrap; max-width: 500px; overflow: hidden; text-overflow: ellipsis; \">1</td></tr>\n",
       "<tr><td style=\"white-space: nowrap; max-width: 500px; overflow: hidden; text-overflow: ellipsis; \">&quot;HG00099&quot;</td><td style=\"white-space: nowrap; max-width: 500px; overflow: hidden; text-overflow: ellipsis; \">1</td><td style=\"white-space: nowrap; max-width: 500px; overflow: hidden; text-overflow: ellipsis; \">&quot;1&quot;</td><td style=\"white-space: nowrap; max-width: 500px; overflow: hidden; text-overflow: ellipsis; \">&quot;1&quot;</td><td style=\"white-space: nowrap; max-width: 500px; overflow: hidden; text-overflow: ellipsis; \">0</td><td style=\"white-space: nowrap; max-width: 500px; overflow: hidden; text-overflow: ellipsis; \">1</td><td style=\"white-space: nowrap; max-width: 500px; overflow: hidden; text-overflow: ellipsis; \">1</td><td style=\"white-space: nowrap; max-width: 500px; overflow: hidden; text-overflow: ellipsis; \">1</td><td style=\"white-space: nowrap; max-width: 500px; overflow: hidden; text-overflow: ellipsis; \">1</td><td style=\"white-space: nowrap; max-width: 500px; overflow: hidden; text-overflow: ellipsis; \">0</td><td style=\"white-space: nowrap; max-width: 500px; overflow: hidden; text-overflow: ellipsis; \">1</td></tr>\n",
       "</tbody></table><p style=\"background: #fdd; padding: 0.4em;\">showing top 3 rows</p>\n"
      ],
      "text/plain": [
       "+-----------+--------------------+--------------------+--------------------+\n",
       "| s         | label.x22_16050408 | label.x22_16050612 | label.x22_16050678 |\n",
       "+-----------+--------------------+--------------------+--------------------+\n",
       "| str       |              int32 | str                | str                |\n",
       "+-----------+--------------------+--------------------+--------------------+\n",
       "| \"HG00096\" |                  0 | \"hahaha\"           | \"heheh\"            |\n",
       "| \"HG00097\" |                  1 | \"ala ma\"           | \"1\"                |\n",
       "| \"HG00099\" |                  1 | \"1\"                | \"1\"                |\n",
       "+-----------+--------------------+--------------------+--------------------+\n",
       "\n",
       "+--------------------+--------------------+--------------------+\n",
       "| label.x22_16050984 | label.x22_16051107 | label.x22_16051249 |\n",
       "+--------------------+--------------------+--------------------+\n",
       "|              int32 |              int32 |              int32 |\n",
       "+--------------------+--------------------+--------------------+\n",
       "|                  0 |                  0 |                  0 |\n",
       "|                  0 |                  1 |                  1 |\n",
       "|                  0 |                  1 |                  1 |\n",
       "+--------------------+--------------------+--------------------+\n",
       "\n",
       "+--------------------+--------------------+--------------------+\n",
       "| label.x22_16051347 | label.x22_16051453 | label.x22_16051477 |\n",
       "+--------------------+--------------------+--------------------+\n",
       "|              int32 |              int32 |              int32 |\n",
       "+--------------------+--------------------+--------------------+\n",
       "|                  0 |                  0 |                  0 |\n",
       "|                  1 |                  1 |                  0 |\n",
       "|                  1 |                  1 |                  0 |\n",
       "+--------------------+--------------------+--------------------+\n",
       "\n",
       "+--------------------+\n",
       "| label.x22_16051480 |\n",
       "+--------------------+\n",
       "|              int32 |\n",
       "+--------------------+\n",
       "|                  0 |\n",
       "|                  1 |\n",
       "|                  1 |\n",
       "+--------------------+\n",
       "showing top 3 rows"
      ]
     },
     "metadata": {},
     "output_type": "display_data"
    },
    {
     "name": "stderr",
     "output_type": "stream",
     "text": [
      "2022-06-08 09:30:04 Hail: INFO: Coerced almost-sorted dataset\n",
      "2022-06-08 09:30:23 Hail: INFO: Coerced sorted dataset=======>      (8 + 1) / 9]\n"
     ]
    }
   ],
   "source": [
    "Step 6: Display the results: print OOB error calculated variable importance."
   ]
  },
  {
   "cell_type": "code",
   "execution_count": null,
   "id": "ebc5bf7f",
   "metadata": {},
   "outputs": [],
   "source": [
    "print(\"OOB error: %s\" % rf_model.oob_error())\n",
    "impTable = rf_model.variable_importance()\n",
    "impTable.order_by(hl.desc(impTable.importance)).show(10)"
   ]
  },
  {
   "cell_type": "code",
   "execution_count": null,
   "id": "3fa82f61",
   "metadata": {},
   "outputs": [],
   "source": [
    "Step 7: Get the fdr calculation class from the VariantSpark model"
   ]
  },
  {
   "cell_type": "code",
   "execution_count": 11,
   "id": "804348cc",
   "metadata": {},
   "outputs": [
    {
     "name": "stderr",
     "output_type": "stream",
     "text": [
      "2022-06-08 09:30:28 Hail: INFO: Coerced sorted dataset\n"
     ]
    }
   ],
   "source": [
    "fdrCalc = rf_model.get_lfdr()"
   ]
  },
  {
   "cell_type": "code",
   "execution_count": null,
   "id": "5cb8669a",
   "metadata": {},
   "outputs": [],
   "source": [
    "Step 8: Visualize the distribution of importances based on the number of splits for a variable to be included. These distributions can take many shapes but the goal here is that there is one big *unimodal distribution*. In this case, setting the threshold to `2` looks the best."
   ]
  },
  {
   "cell_type": "code",
   "execution_count": 13,
   "id": "53fda311",
   "metadata": {},
   "outputs": [
    {
     "name": "stderr",
     "output_type": "stream",
     "text": [
      "No artists with labels found to put in legend.  Note that artists whose label start with an underscore are ignored when legend() is called with no argument.\n"
     ]
    },
    {
     "data": {
      "image/png": "[encoded data removed]",
      "text/plain": [
       "<Figure size 720x360 with 1 Axes>"
      ]
     },
     "metadata": {
      "needs_background": "light"
     },
     "output_type": "display_data"
    }
   ],
   "source": [
    "fig, ax1 = plt.subplots(figsize=(10, 5), layout='constrained')\n",
    "fdrCalc.plot_log_densities(ax1, min_split_count=1, max_split_count=6, find_automatic_best=False)\n",
    "plt.show()"
   ]
  },
  {
   "cell_type": "code",
   "execution_count": null,
   "id": "e2d00bf7",
   "metadata": {},
   "outputs": [],
   "source": [
    "Step 9: This is a sanity check to visualize the splitcount was correct and consistent."
   ]
  },
  {
   "cell_type": "code",
   "execution_count": 14,
   "id": "c95c8a44",
   "metadata": {},
   "outputs": [
    {
     "data": {
      "image/png": "[encoded data removed]",
      "text/plain": [
       "<Figure size 720x360 with 1 Axes>"
      ]
     },
     "metadata": {
      "needs_background": "light"
     },
     "output_type": "display_data"
    }
   ],
   "source": [
    "#Plot histogram for a selected threshold\n",
    "fig, ax2 = plt.subplots(figsize=(10, 5), layout='constrained')\n",
    "fdrCalc.plot_log_hist(ax2, split_count=2)\n",
    "plt.show()"
   ]
  },
  {
   "cell_type": "code",
   "execution_count": null,
   "id": "9668993f",
   "metadata": {},
   "outputs": [],
   "source": [
    "Step 10: Compute the p-values, and the expected false discovery rate"
   ]
  },
  {
   "cell_type": "code",
   "execution_count": 15,
   "id": "771a23e0",
   "metadata": {},
   "outputs": [
    {
     "data": {
      "text/plain": [
       "(           variant_id  logImportance        pvalue\n",
       " 0     22_17705196_C_G      -9.685114  1.000000e+00\n",
       " 1     22_17685358_C_T      -9.134216  1.000000e+00\n",
       " 2    22_17774329_TC_T      -7.530889  9.999952e-01\n",
       " 3     22_17763349_T_A      -7.214255  9.999780e-01\n",
       " 4     22_17691887_C_T      -6.603883  9.996942e-01\n",
       " ..                ...            ...           ...\n",
       " 682   22_16052838_T_A       2.698982  0.000000e+00\n",
       " 683   22_16053509_A_G       2.703196  2.220446e-16\n",
       " 684   22_16051480_T_C       2.732347  2.220446e-16\n",
       " 685   22_16050678_C_T       3.224218  1.110223e-16\n",
       " 686   22_16050408_T_C       3.387460  1.110223e-16\n",
       " \n",
       " [687 rows x 3 columns],\n",
       " 0.021750802282878148)"
      ]
     },
     "execution_count": 15,
     "metadata": {},
     "output_type": "execute_result"
    }
   ],
   "source": [
    "#Get a table with the pvalues and the cutoff\n",
    "pvalsDF, fdr = fdrCalc.compute_fdr(countThreshold = 2, cutoff = 0.05)\n",
    "fdrDF, fdr"
   ]
  },
  {
   "cell_type": "code",
   "execution_count": null,
   "id": "c854b79d",
   "metadata": {},
   "outputs": [],
   "source": [
    "fdrDF[fdrDF.pvalue < fdr_corrected_cutoff]"
   ]
  },
  {
   "cell_type": "code",
   "execution_count": 24,
   "id": "fa2e6e96",
   "metadata": {},
   "outputs": [],
   "source": [
    "hl.stop()"
   ]
  },
  {
   "cell_type": "code",
   "execution_count": 17,
   "id": "c41b3338",
   "metadata": {},
   "outputs": [
    {
     "data": {
      "text/plain": [
       "0.8133333333333334"
      ]
     },
     "execution_count": 17,
     "metadata": {},
     "output_type": "execute_result"
    }
   ],
   "source": []
  },
  {
   "cell_type": "code",
   "execution_count": 28,
   "id": "f6e67833",
   "metadata": {},
   "outputs": [
    {
     "data": {
      "text/html": [
       "<div>\n",
       "<style scoped>\n",
       "    .dataframe tbody tr th:only-of-type {\n",
       "        vertical-align: middle;\n",
       "    }\n",
       "\n",
       "    .dataframe tbody tr th {\n",
       "        vertical-align: top;\n",
       "    }\n",
       "\n",
       "    .dataframe thead th {\n",
       "        text-align: right;\n",
       "    }\n",
       "</style>\n",
       "<table border=\"1\" class=\"dataframe\">\n",
       "  <thead>\n",
       "    <tr style=\"text-align: right;\">\n",
       "      <th></th>\n",
       "      <th>a</th>\n",
       "      <th>b</th>\n",
       "      <th>x</th>\n",
       "      <th>y</th>\n",
       "    </tr>\n",
       "  </thead>\n",
       "  <tbody>\n",
       "    <tr>\n",
       "      <th>0</th>\n",
       "      <td>1</td>\n",
       "      <td>5</td>\n",
       "      <td>3</td>\n",
       "      <td>9</td>\n",
       "    </tr>\n",
       "    <tr>\n",
       "      <th>1</th>\n",
       "      <td>2</td>\n",
       "      <td>6</td>\n",
       "      <td>4</td>\n",
       "      <td>5</td>\n",
       "    </tr>\n",
       "    <tr>\n",
       "      <th>2</th>\n",
       "      <td>3</td>\n",
       "      <td>7</td>\n",
       "      <td>5</td>\n",
       "      <td>6</td>\n",
       "    </tr>\n",
       "  </tbody>\n",
       "</table>\n",
       "</div>"
      ],
      "text/plain": [
       "   a  b  x  y\n",
       "0  1  5  3  9\n",
       "1  2  6  4  5\n",
       "2  3  7  5  6"
      ]
     },
     "execution_count": 28,
     "metadata": {},
     "output_type": "execute_result"
    }
   ],
   "source": [
    "a = pd.DataFrame({'a':[1,2,3],'b':[5,6,7]}).assign(x=[3,4,5],y=[9,5,6])\n",
    "a"
   ]
  }
 ],
 "metadata": {
  "kernelspec": {
   "display_name": "Python 3 (ipykernel)",
   "language": "python",
   "name": "python3"
  },
  "language_info": {
   "codemirror_mode": {
    "name": "ipython",
    "version": 3
   },
   "file_extension": ".py",
   "mimetype": "text/x-python",
   "name": "python",
   "nbconvert_exporter": "python",
   "pygments_lexer": "ipython3",
   "version": "3.8.12"
  }
 },
 "nbformat": 4,
 "nbformat_minor": 5
}
